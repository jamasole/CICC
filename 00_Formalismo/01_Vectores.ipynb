{
 "cells": [
  {
   "cell_type": "markdown",
   "id": "c54b99d1",
   "metadata": {
    "slideshow": {
     "slide_type": "slide"
    }
   },
   "source": [
    "\n",
    "<img   src=\"../figuras/logo/TalentQ_LogoPosNegro.png\" align=center  width=\"120\"/>\n",
    "<br>\n",
    "\n",
    "<table width=\"100%\"><td style=\"font-size:42px;font-style:italic;text-align:right;background-color:rgba(0, 160, 120,0.6)\">\n",
    " Vectores </td></table>\n",
    "\n",
    "$ \\newcommand{\\bra}[1]{\\langle #1|} $\n",
    "$ \\newcommand{\\ket}[1]{|#1\\rangle} $\n",
    "$ \\newcommand{\\braket}[2]{\\langle #1|#2\\rangle} $\n",
    "$ \\newcommand{\\i}{{\\color{blue} i}} $ \n",
    "$ \\newcommand{\\Hil}{{\\mathbb H}} $\n",
    "$ \\newcommand{\\R}{{\\mathbb R}} $\n",
    "$ \\newcommand{\\C}{{\\mathbb C}} $\n",
    "$ \\newcommand{\\V}{{ V}} $"
   ]
  },
  {
   "cell_type": "markdown",
   "id": "5d2fbbf1",
   "metadata": {
    "slideshow": {
     "slide_type": "-"
    }
   },
   "source": [
    "- [Espacio Vectorial Complejo](#vecdefi) \n",
    "\n",
    "- [Bases](#Bases)\n",
    "\n",
    "-  [Espacio de Hilbert](#vecprodesc)   \n"
   ]
  },
  {
   "cell_type": "code",
   "execution_count": 4,
   "id": "04de4967",
   "metadata": {
    "slideshow": {
     "slide_type": "skip"
    }
   },
   "outputs": [],
   "source": [
    "'Correr esta celda para incluir paquetes y funciones predefinidas'\n",
    "%run ../macro_CURSO.py"
   ]
  },
  {
   "cell_type": "markdown",
   "id": "d0a29cbe",
   "metadata": {
    "slideshow": {
     "slide_type": "slide"
    }
   },
   "source": [
    "<a id='vecdefi'></a>\n",
    "<table width=\"100%\">\n",
    "    <td style=\"font-size:25px;font-family:Helvetica;text-align:left;background-color:rgba(12, 43, 337, 0.3);\">\n",
    "<b>Espacio Vectorial Complejo</b>\n",
    "</table>   "
   ]
  },
  {
   "cell_type": "markdown",
   "id": "f44c9a32",
   "metadata": {
    "slideshow": {
     "slide_type": "skip"
    }
   },
   "source": [
    "### Definición"
   ]
  },
  {
   "cell_type": "markdown",
   "id": "371ab90c",
   "metadata": {
    "slideshow": {
     "slide_type": "-"
    }
   },
   "source": [
    "De forma poco rigurosa, definiremos un *vector de dimensión* $N$ como una columna de $N$ números complejos. \n",
    "\n",
    "<br>\n",
    "\n",
    "$$\n",
    "|u\\rangle = \\begin{pmatrix} {u_1}\\\\ {u_2}\\\\ \\vdots \\\\ {u_N} \n",
    "\\end{pmatrix}\n",
    "$$\n",
    "\n",
    "<br>\n",
    "\n",
    "- El símbolo $\\ket{u}$  *representa* al vector y se denomina *ket*. \n",
    "- Los números $u_i,\\, i=1,...,N$ se denominan *componentes* del vector $\\ket{u}$ (en una base dada).\n"
   ]
  },
  {
   "cell_type": "markdown",
   "id": "7a775aef",
   "metadata": {
    "slideshow": {
     "slide_type": "slide"
    }
   },
   "source": [
    "<div class=\"alert alert-block alert-info\",text-align:center>\n",
    "<p style=\"text-align: center;\"> <p style=\"text-align: left ;color: navy;\">  \n",
    "<b> Definición: </b> \n",
    "La colección de todos los posibles vectores de $N$ componentes,  con las  propiedades de suma y multiplicación forman un <b>espacio vectorial</b>, $\\V$ de dimension compleja $N$\n",
    "<br>    \n",
    "</div>\n",
    "\n",
    "es decir, además de una colección de vectores, en un espacio vectorial  tenemos dos operaciones posibles: sumar dos vectores y multiplicar un vector por número complejo $\\lambda\\in {\\mathbb C}$\n",
    "\n",
    "<br>\n",
    "\n",
    "$$\n",
    " |u\\rangle + \\ket{v}~ =~\\, \n",
    "\\begin{pmatrix} {u_1}+v_1\\\\ {u_2}+v_2\\\\ \\vdots \\\\ {u_N}+v_n \\end{pmatrix} ~= ~\\ket{w}\\ , \\qquad \\lambda|u\\rangle ~ =~   \\begin{pmatrix} {\\lambda u_1}\\\\ {\\lambda u_2}\\\\ \\vdots \\\\ {\\lambda u_N} \\end{pmatrix} ~\\equiv~\\ket{\\lambda u}\n",
    "$$\n",
    "\n",
    "<br>"
   ]
  },
  {
   "cell_type": "markdown",
   "id": "02d64dd9",
   "metadata": {},
   "source": [
    "<div class=\"alert alert-block alert-danger\">\n",
    "<b>Notar</b>:     \n",
    "\n",
    "- No hay nada que impida definir un espacio vectorial <i>real</i>, donde las componentes sean números reales $u_i\\in \\R$. Es un hecho *notable* que en Mecánica Cuántica la estructura fundamental que alberga toda la descripción matemática es un espacio de vectorial <i>complejo</i>. \n",
    "<br>\n",
    "\n",
    "- La dimensión es igual al número de cantidades (<i>grados de libertad</i>) que debemos fijar para especificar un vector. \n",
    "Pero $N$ números complejos equivalen a $2N$ números reales. Entonces, podemos decir que  la <i>dimensión compleja</i> de un espacio vectorial complejo  $\\V$ es $N$, o que su <i>dimensión real</i> es $2N$. Escribimos\n",
    "$$\n",
    "{\\rm dim}_{\\mathbb C} \\V = N ~~~~\\Longleftrightarrow ~~~   {\\rm dim}_{\\mathbb R} \\V = 2N \n",
    "$$\n",
    "</div>\n"
   ]
  },
  {
   "cell_type": "markdown",
   "id": "540edbea",
   "metadata": {},
   "source": [
    "Formalmente, este espacio vectorial es equivalente (*isomorfo*) al producto cartesiano \n",
    "$$\\V_N \\sim {\\mathbb C}^N = \\overbrace{{\\mathbb C}\\times{\\mathbb C}\\times...{\\mathbb C}}^{N}$$ \n",
    "\n",
    "formado por ristras de $N$ números complejos $N$*-tuplas*, con la propiedad de suma y multiplicación \n",
    "<br>\n",
    "<br>\n",
    "Adelantándonos un poco, el caso $N=2$ es el que juega un papel fundamental en computación cuántica. Un *cúbit* es un vector de ${\\mathbb C}^2$. El caso $N=d$ hablamos de *cúdit*."
   ]
  },
  {
   "cell_type": "code",
   "execution_count": 5,
   "id": "a266a961",
   "metadata": {
    "slideshow": {
     "slide_type": "slide"
    }
   },
   "outputs": [
    {
     "data": {
      "text/markdown": [
       "\\begin{bmatrix}1.00+1.00j\\\\2.00-3.00j\\end{bmatrix}"
      ],
      "text/plain": [
       "<IPython.core.display.Markdown object>"
      ]
     },
     "metadata": {},
     "output_type": "display_data"
    }
   ],
   "source": [
    "'definimos un ket como un vector columna'\n",
    "uket=np.array([[1 + 1.j],[2-3*1.j]])\n",
    "\n",
    "Display(MatrixToLatex(uket))"
   ]
  },
  {
   "cell_type": "code",
   "execution_count": 7,
   "id": "3e18cca7",
   "metadata": {
    "slideshow": {
     "slide_type": "-"
    }
   },
   "outputs": [
    {
     "data": {
      "text/latex": [
       "$$\n",
       "\n",
       "\\begin{bmatrix}\n",
       "1(1 + i)  \\\\\n",
       " 2 - 3i  \\\\\n",
       " \\end{bmatrix}\n",
       "$$"
      ],
      "text/plain": [
       "<IPython.core.display.Latex object>"
      ]
     },
     "execution_count": 7,
     "metadata": {},
     "output_type": "execute_result"
    }
   ],
   "source": [
    "' qiskit tiene un visualizador de kets '\n",
    "from qiskit.tools.visualization import array_to_latex\n",
    "\n",
    "array_to_latex(uket)"
   ]
  },
  {
   "cell_type": "markdown",
   "id": "b8fdbcce",
   "metadata": {
    "slideshow": {
     "slide_type": "slide"
    }
   },
   "source": [
    "### Conjugación adjunta: vector dual"
   ]
  },
  {
   "cell_type": "markdown",
   "id": "efe4137a",
   "metadata": {
    "slideshow": {
     "slide_type": "-"
    }
   },
   "source": [
    "La operación *conjugación adjunta*, simbolizada con $\\dagger$, es una *extensión* de la *conjugación compleja* que abarca también a los vectores.\n",
    "De esta manera, asociado a cada vector $\\ket{u}$, definimos un vector **adjunto** $\\bra{u}\\equiv\\left(\\ket{u}\\right)^\\dagger$ denominado *bra* que representamos mediante un vector fila con las componentes conjugadas complejas.  \n",
    "\n",
    "\n",
    "$$\n",
    "\\dagger \\,: \\quad\\,|u\\rangle = \\begin{pmatrix} {u_1}\\\\ {u_2}\\\\ \\vdots \\\\ {u_N} \n",
    "\\end{pmatrix} ~~~~~{\\rightarrow}~~~~~~ \\left(\\ket{u}\\right)^\\dagger \\equiv \\bra{u} =\\begin{pmatrix} {u_1^*} & {u_2^*} & \\cdots & {u_N^*}\n",
    "\\end{pmatrix}\n",
    "$$\n",
    "\n",
    "<hr />"
   ]
  },
  {
   "cell_type": "markdown",
   "id": "0968f472",
   "metadata": {
    "slideshow": {
     "slide_type": "slide"
    }
   },
   "source": [
    "Consistentemente, encontramos para el producto de un vector por un número complejo $\\lambda$\n",
    "\n",
    "$$\n",
    "\\dagger \\,:\\quad\\,  \\lambda\\ket{u} ~~~~~{\\rightarrow}~~~~~~ \\left(\\lambda\\ket{u}\\right)^\\dagger=\\lambda^*\\bra{u} = \\bra{u}\\lambda^*\n",
    "$$\n",
    "\n",
    "ya que el producto de un vector por un número es conmutativo.\n",
    "\n",
    "Como la conjugación compleja, la conjugación adjunta es una *involución*: su aplicación sucesiva devuelve el vector original\n",
    "\n",
    "$$\n",
    "(\\ket{u}^\\dagger)^\\dagger =\\bra{u}^\\dagger =  \\ket{u}\n",
    "$$\n",
    "\n",
    "es decir, $\\dagger^2 = I$, el operador identidad.\n"
   ]
  },
  {
   "cell_type": "code",
   "execution_count": 8,
   "id": "c3fc70a3",
   "metadata": {
    "slideshow": {
     "slide_type": "slide"
    }
   },
   "outputs": [
    {
     "data": {
      "text/markdown": [
       "\\begin{bmatrix}1.00+1.00j\\\\2.00-3.00j\\end{bmatrix}"
      ],
      "text/plain": [
       "<IPython.core.display.Markdown object>"
      ]
     },
     "metadata": {},
     "output_type": "display_data"
    },
    {
     "name": "stdout",
     "output_type": "stream",
     "text": [
      "(2, 1)\n"
     ]
    },
    {
     "data": {
      "text/markdown": [
       "\\begin{bmatrix}1.00-1.00j&2.00+3.00j\\end{bmatrix}"
      ],
      "text/plain": [
       "<IPython.core.display.Markdown object>"
      ]
     },
     "metadata": {},
     "output_type": "display_data"
    },
    {
     "name": "stdout",
     "output_type": "stream",
     "text": [
      "(1, 2)\n"
     ]
    }
   ],
   "source": [
    "'definimos un ket como una columna de componentes  complejas'\n",
    "uket=np.array([[1+1j],[2-3*1.j]])\n",
    "Display(MatrixToLatex(uket))\n",
    "print(uket.shape)\n",
    "\n",
    "'definimos el bra adjunto como la fila formada por las componentes conjugadas complejas'\n",
    "ubra=uket.conj().T\n",
    "\n",
    "Display(MatrixToLatex(ubra))\n",
    "print(ubra.shape)\n"
   ]
  },
  {
   "cell_type": "markdown",
   "id": "b19e3aae",
   "metadata": {
    "slideshow": {
     "slide_type": "slide"
    }
   },
   "source": [
    "<a id='bases'></a>\n",
    "<table width=\"100%\">\n",
    "    <td style=\"font-size:25px;font-family:Helvetica;text-align:left;background-color:rgba(12, 43, 337, 0.3);\">\n",
    "<b>Bases</b>\n",
    "</table>   "
   ]
  },
  {
   "cell_type": "markdown",
   "id": "e71b3087",
   "metadata": {},
   "source": [
    "<div class=\"alert alert-block alert-info\",text-align:center>\n",
    "<p style=\"text-align: center;\"> <p style=\"text-align: left ;color: navy;\">  \n",
    "<b> Definición: </b> \n",
    "<br>    \n",
    "en un espacio vectorial ${\\mathbb V}$ de dimensión $N$ una <b>base</b> es una colección de $N$ vectores  $\\{\\ket{e_1},...,\\ket{e_N}\\}$ tales que, cualquier vector $\\ket{v}\\in {\\mathbb V}$ se puede expresar como una <i>combinación lineal</i> de la forma\n",
    "<br>\n",
    "<br>\n",
    "$$\n",
    "\\ket{v} = \\sum_{i=1}^N v_i \\ket{e_i}\n",
    "$$  \n",
    "<br>\n",
    "    Los coeficientes $v_i$ son las <i>\n",
    "    componentes</i> de $\\ket{v}$ en la base dada.\n",
    "</div>"
   ]
  },
  {
   "cell_type": "markdown",
   "id": "3c373227",
   "metadata": {
    "slideshow": {
     "slide_type": "-"
    }
   },
   "source": [
    "Existen infinitas bases en un espacio vectorial. Podemos escoger una de ellas y asociarle el siguiente conjunto de columnas\n",
    "\n",
    "<br>\n",
    "\n",
    "$$\n",
    "|e_1\\rangle \\sim \\begin{pmatrix} 1 \\\\ 0 \\\\ 0\\\\ \\vdots \n",
    "\\\\ 0 \\\\ 0 \\end{pmatrix}~~~~\n",
    "|e_2\\rangle \\sim \\begin{pmatrix} 0 \\\\ 1 \\\\ 0\\\\ \\vdots \n",
    "\\\\ 0 \\\\ 0 \\end{pmatrix}~~~~~~~~~\n",
    "\\cdots ~~~~~~~~\n",
    "|e_{N-1}\\rangle \\sim \\begin{pmatrix} 0 \\\\ 0 \\\\ 0\\\\\\vdots \n",
    "\\\\ 1 \\\\ 0 \\end{pmatrix}~~~~\n",
    "|e_N\\rangle \\sim \\begin{pmatrix} 0 \\\\ 0 \\\\0\\\\ \\vdots \n",
    "\\\\ 0 \\\\ 1 \\end{pmatrix}\n",
    "$$\n",
    "<br>\n",
    "\n",
    "\n",
    "<hr />"
   ]
  },
  {
   "cell_type": "markdown",
   "id": "e3263d61",
   "metadata": {
    "slideshow": {
     "slide_type": "slide"
    }
   },
   "source": [
    "De esta forma cualquier vector, escrito como una combinación lineal de sus elementos adquiere la representación usual\n",
    "<br>\n",
    "\n",
    "$$\n",
    "|u\\rangle ~=~ {u_1} |e_1 \\rangle + {u_2} | e_2\\rangle +... + {u_{ N}}|e_{ N}\\rangle~=~ \\sum_{i=1}^N {u_ i} |e_i\\rangle \\,\\sim\n",
    "$$\n",
    "\n",
    "<br>\n",
    "\n",
    "$$\n",
    "\\sim~ {u_1} \\begin{pmatrix} 1 \\\\ 0 \\\\ 0\\\\ \\vdots \n",
    "\\\\ 0 \\\\ 0 \\end{pmatrix} \\,+\\,{u_2} \\begin{pmatrix} 0 \\\\ 1 \\\\ 0\\\\ \\vdots \\\\ 0 \\\\ 0 \\end{pmatrix}~+~ ... ~+ ~\n",
    "{u_{N-1}} \\begin{pmatrix} 0 \\\\ 0 \\\\ 0\\\\\\vdots \n",
    "\\\\ 1 \\\\ 0 \\end{pmatrix}+ \n",
    "\\,{u_N}\\,  \\begin{pmatrix} 0 \\\\ 0 \\\\0\\\\ \\vdots \n",
    "\\\\ 0 \\\\ 1 \\end{pmatrix}~~~= ~~~\n",
    "  \\begin{pmatrix} {u_1} \\\\ {u_2} \\\\{u_3}\\\\ \\vdots \n",
    "\\\\ \\,{u_{N-1}}\\, \\\\ {u_{N}} \\end{pmatrix}\n",
    "$$\n",
    "\n",
    "<br>"
   ]
  },
  {
   "cell_type": "markdown",
   "id": "e8b0fe67",
   "metadata": {
    "slideshow": {
     "slide_type": "slide"
    }
   },
   "source": [
    "La función **Expande_ket**, dada una columna de componentes, nos escribe la expansión  en notación vectorial"
   ]
  },
  {
   "cell_type": "code",
   "execution_count": 20,
   "id": "a4931da2",
   "metadata": {
    "slideshow": {
     "slide_type": "-"
    }
   },
   "outputs": [
    {
     "data": {
      "text/markdown": [
       "$| u \\rangle $  = (1+1j) |$e_0 \\rangle  $ +  (2-3j) |$e_1 \\rangle  $ +  (2+2j) |$e_2 \\rangle  $ +  (-1-1j) |$e_3\\rangle $ "
      ],
      "text/plain": [
       "<IPython.core.display.Markdown object>"
      ]
     },
     "metadata": {},
     "output_type": "display_data"
    }
   ],
   "source": [
    "uket=np.array([[ 1.+1.j], [ 2.-3.j],[ 2.+2.j],[-1.-1.j]])\n",
    "Expande_Ket(uket)"
   ]
  },
  {
   "cell_type": "markdown",
   "id": "9341f5aa",
   "metadata": {
    "slideshow": {
     "slide_type": "-"
    }
   },
   "source": [
    "También podemos usar la clase Statevector de *qiskit* para tener una expansión en la base $\\{\\ket{e_i}=\\ket{b(i)}\\}$, donde $b(i)$ es la representación binaria del índice $i$"
   ]
  },
  {
   "cell_type": "code",
   "execution_count": 21,
   "id": "ce8e4591",
   "metadata": {
    "slideshow": {
     "slide_type": "-"
    }
   },
   "outputs": [
    {
     "data": {
      "text/latex": [
       "$$(1 + i) |00\\rangle+ (2 - 3 i) |01\\rangle+ (2 + 2 i) |10\\rangle+ (-1 - i) |11\\rangle$$"
      ],
      "text/plain": [
       "<IPython.core.display.Latex object>"
      ]
     },
     "execution_count": 21,
     "metadata": {},
     "output_type": "execute_result"
    }
   ],
   "source": [
    "from qiskit.quantum_info import Statevector\n",
    "Statevector(uket).draw('latex')"
   ]
  },
  {
   "cell_type": "markdown",
   "id": "12635bec",
   "metadata": {},
   "source": [
    "### Cambio de base\n",
    "\n",
    "Existen infinitas bases  en un espacio vectorial de dimensión finita.\n",
    "Todas ellas permiten representar un vector arbitrario.\n",
    "\n",
    "Consideremos dos bases \n",
    "$\\{\\ket{e_i}\\}$ y $\\{\\ket{f_j}\\}$ donde $ i,j = 1,...,N$.\n",
    "\n",
    "Como ambas son bases, podemos expresar cualquier vector de una de ellas como una *combinación lineal* de elementos de la otra. Por ejemplo\n",
    "\n",
    "$$\n",
    "\\ket{f_1} = \\sum_{i=1}^N A_{ i 1} \\ket{e_i}\n",
    "$$\n",
    "\n",
    "donde $A_{ i \\, 1}\\in {\\bf C}$ son los coeficientes de la expansión del vector $\\ket{f_1}$. Haciendo esto para todos los elementos de la base\n",
    "los coeficientes constituyen una matriz $A_{ij}$ de *cambio de base*\n",
    "\n",
    "$$\n",
    "\\ket{f_j} = \\sum_{i=1}^N A_{ i j} \\ket{e_i} ~~~~~~~j=1,..., N\n",
    "$$\n",
    "\n",
    "<div class=\"alert alert-block alert-danger\">\n",
    "    <b>Notar</b>: la forma en que están sumados los índices $\\ket{f_j} = \\sum_{i=1}^N A_{ \\color{blue}{i} j} \\ket{e_\\color{blue}{i}}$, y  no  $\\ket{f_j} = \\sum_{i=1}^N A_{j \\color{blue}{i} } \\ket{e_\\color{blue}{i}}$\n",
    "</div>\n"
   ]
  },
  {
   "cell_type": "markdown",
   "id": "a7bbd7e6",
   "metadata": {},
   "source": [
    "\n",
    "<div class=\"alert alert-block alert-success\">\n",
    "    <b>Ejercicio:</b>  Considera en dos dimensiones $N=2$ el cambio de base \n",
    "    $$\\ket{f_1} = \\frac{1}{\\sqrt{2}}(\\ket{e_1} + i\\ket{e_2})~,~~\\ket{f_2} = \\frac{1}{\\sqrt{2}}(\\ket{e_1} - i\\ket{e_2})$$\n",
    "Escribe la matriz de cambio $A_{ij}$.\n",
    "</div>"
   ]
  },
  {
   "cell_type": "markdown",
   "id": "a3a47bad",
   "metadata": {},
   "source": []
  },
  {
   "cell_type": "markdown",
   "id": "35cb3842",
   "metadata": {
    "slideshow": {
     "slide_type": "slide"
    }
   },
   "source": [
    "<a id='vecprodesc'></a>\n",
    "<table width=\"100%\">\n",
    "    <td style=\"font-size:25px;font-family:Helvetica;text-align:left;background-color:rgba(12, 43, 337, 0.3);\">\n",
    "<b>Espacio de Hilbert</b>\n",
    "</table>"
   ]
  },
  {
   "cell_type": "markdown",
   "id": "8ee72e55",
   "metadata": {
    "slideshow": {
     "slide_type": "-"
    }
   },
   "source": [
    "<div class=\"alert alert-block alert-info\",text-align:center>\n",
    "<p style=\"text-align: center;\"> <p style=\"text-align: left ;color: navy;\">  \n",
    "<b> Definición: </b> \n",
    "    Un <i> espacio de Hilbert</i>,  ${\\mathbb H}_N$, es un espacio vectorial\n",
    "dotado de una operación interna   denominada <i>producto escalar</i>\n",
    "<br>\n",
    "</div>\n",
    "\n",
    "<br>\n",
    "\n",
    "\n",
    "El *producto escalar* de dos vectores $\\ket{u}$ y $\\ket{v}$ es un *número complejo* $a\\in{\\mathbb C}$ que denotamos\n",
    "$a \\equiv \\braket{u}{v} $.\n",
    "\n",
    "Podemos obtener el valor de $a$ a partir de las componentes de $\\ket{u}$ y $\\ket{v}$ en una base\n",
    "\n",
    "<br>\n",
    "\n",
    "$$\n",
    "a = \\braket{u}{v} ~~= ~~\\begin{pmatrix}\n",
    "{u_1^*} & {u_2^*} & \\cdots & {u_N^*}\n",
    "\\end{pmatrix}\\begin{pmatrix} {v_1}\\\\ {v_2}\\\\ \\vdots \\\\ {v_N} \n",
    "\\end{pmatrix}\n",
    " ~=~\\sum_{i=1}^n{ u_i^* v_i}      \n",
    "$$\n",
    "\n",
    "<br>\n",
    "\n",
    "<div class=\"alert alert-block alert-danger\">\n",
    "    <b>Notar</b>: la expresión de la izquierda  $a = \\braket{u}{v}$ <b>no hace referencia a ninguna base</b>. Por tanto, el resultado $\\sum_{i=1}^n{ u_i^* v_i} $ debe ser independiente de la base que utilizamos para representar estos vectores mediante sus componentes $u_i$ y $v_i$. Este resultado es no trivial subrayamos su importancia: $\\braket{u}{v}$ puede ser calculado en la base más conveniente.\n",
    "</div>\n"
   ]
  },
  {
   "cell_type": "markdown",
   "id": "4343754a",
   "metadata": {
    "slideshow": {
     "slide_type": "slide"
    }
   },
   "source": [
    "Como vemos, conocidas las componentes de los dos vectores, es fácil calcular el producto escalar. \n",
    "Las dos propiedades más importantes son:\n",
    "\n",
    "- linealidad: $\\to \\bra{u}\\big(\\ket{v}+\\ket{w}\\big) = \\braket{u}{v} + \\braket{u}{w}$\n",
    "\n",
    "- hermiticidad: $\\to \\braket{v}{u} = \\braket{u}{v}^*$\n",
    "\n",
    "Combinando ambas propiedades, el producto escalar también es lineal en el primer argumento\n",
    "\n",
    "$$(\\bra{u}+\\bra{w})\\ket{v} = \\braket{u}{v} + \\braket{w}{v}$$\n",
    "\n",
    "Todas estas propiedades  son fácilmente verificables  usando la expresión como columna de componentes."
   ]
  },
  {
   "cell_type": "code",
   "execution_count": 22,
   "id": "dd735ca6",
   "metadata": {
    "slideshow": {
     "slide_type": "slide"
    }
   },
   "outputs": [
    {
     "data": {
      "text/markdown": [
       "\\begin{bmatrix}1.00+1.00j\\\\1.00-1.00j\\end{bmatrix}"
      ],
      "text/plain": [
       "<IPython.core.display.Markdown object>"
      ]
     },
     "metadata": {},
     "output_type": "display_data"
    },
    {
     "data": {
      "text/markdown": [
       "\\begin{bmatrix}1.00&2.00\\end{bmatrix}"
      ],
      "text/plain": [
       "<IPython.core.display.Markdown object>"
      ]
     },
     "metadata": {},
     "output_type": "display_data"
    },
    {
     "name": "stdout",
     "output_type": "stream",
     "text": [
      "<v|u>=(3-1j)\n"
     ]
    }
   ],
   "source": [
    "'ejemplo: tomemos dos kets |u> y |v>'\n",
    "uket=np.array([[1.+1j],[1.-1j]])\n",
    "vket=np.array([[1.],[2.]])\n",
    "'formemos el bra <v|'\n",
    "vbra=vket.conj().T\n",
    "\n",
    "DisplayMatrix(uket)\n",
    "DisplayMatrix(vbra)\n",
    "\n",
    "'tomemos el producto escalar <v|u>'\n",
    "uvbraket = np.dot(vbra,uket)[0,0] \n",
    "print('<v|u>=%s'% uvbraket)\n"
   ]
  },
  {
   "cell_type": "code",
   "execution_count": 33,
   "id": "92d3dad8",
   "metadata": {
    "slideshow": {
     "slide_type": "-"
    }
   },
   "outputs": [
    {
     "data": {
      "text/plain": [
       "array([[3.-1.j]])"
      ]
     },
     "execution_count": 33,
     "metadata": {},
     "output_type": "execute_result"
    }
   ],
   "source": [
    "np.dot(vbra,uket)"
   ]
  },
  {
   "cell_type": "code",
   "execution_count": 6,
   "id": "4e41fd78",
   "metadata": {},
   "outputs": [],
   "source": [
    "def inner_product(state_1, state_2):\n",
    "    \"\"\"Compute the inner product between two states.\n",
    "    \n",
    "    Args:\n",
    "        state_1 (array[complex]): A normalized quantum state vector\n",
    "        state_2 (array[complex]): A second normalized quantum state vector\n",
    "        \n",
    "    Returns:\n",
    "        complex: The value of the inner product <state_1 | state_2>.\n",
    "    \"\"\"\n",
    " \n",
    "    ##################\n",
    "    # YOUR CODE HERE #\n",
    "    ##################\n",
    "    innprod= 0\n",
    "    for i in range(2):\n",
    "        innprod += state_1.conj[i]*state_2[i]\n",
    "        \n",
    "        \n",
    "    # COMPUTE AND RETURN THE INNER PRODUCT\n",
    "\n",
    "    return innprod\n"
   ]
  },
  {
   "cell_type": "code",
   "execution_count": 71,
   "id": "6ca39c27",
   "metadata": {},
   "outputs": [
    {
     "data": {
      "text/plain": [
       "array([5, 5])"
      ]
     },
     "execution_count": 71,
     "metadata": {},
     "output_type": "execute_result"
    }
   ],
   "source": [
    "# Here are the vector representations of |0> and |1>, for convenience\n",
    "state = np.array([1/np.sqrt(2), (1+1j)/(2)])\n",
    "probs = np.abs(state)**2\n",
    "num_meas=10\n",
    "\n",
    "import math\n",
    "\n",
    "np.rint(probs*num_meas).astype(int)\n",
    "\n"
   ]
  },
  {
   "cell_type": "markdown",
   "id": "cf4391d1",
   "metadata": {
    "slideshow": {
     "slide_type": "slide"
    }
   },
   "source": [
    "### Norma"
   ]
  },
  {
   "cell_type": "markdown",
   "id": "69a412c9",
   "metadata": {
    "slideshow": {
     "slide_type": "-"
    }
   },
   "source": [
    "El producto escalar de un *vector* por sí mismo es un número positivo a partir del cual podemos definir su *norma*.\n",
    "\n",
    "<br>\n",
    "\n",
    "$$\n",
    "\\|\\ket{v}\\| = \\sqrt{\\braket{u}{u}} = \\sqrt{\\sum_{i=1}^N |u_i|^2}\n",
    "$$\n",
    "\n",
    "\n",
    "<div class=\"alert alert-block alert-danger\">\n",
    "    <b>Notar</b>: En contraste con la definición de producto escalar en espacios vectoriales reales, en el caso complejo se hace necesario conjugar el *bra* tal que la norma de un vector sea siempre real y positiva. Esta es la intuición detrás de la definición de la *conjugación adjunta*.\n",
    "</div>\n"
   ]
  },
  {
   "cell_type": "markdown",
   "id": "bc620efc",
   "metadata": {
    "slideshow": {
     "slide_type": "slide"
    }
   },
   "source": [
    "\n",
    "<div class=\"alert alert-block alert-success\">\n",
    "    <b>Ejercicio:</b>  escribe una funcion Norma(u) que calcule la norma de un vector u .\n",
    "</div>"
   ]
  },
  {
   "cell_type": "code",
   "execution_count": null,
   "id": "a9caeb41",
   "metadata": {
    "slideshow": {
     "slide_type": "-"
    }
   },
   "outputs": [],
   "source": [
    "''' solución '''\n",
    "\n",
    "def Norma(u):\n",
    "    uket = u   \n",
    "    ubra =uket.conj().T\n",
    "    norma = np.sqrt(np.dot(ubra,uket)[0,0]).real \n",
    "    return norma     "
   ]
  },
  {
   "cell_type": "code",
   "execution_count": null,
   "id": "aa5f2814",
   "metadata": {
    "slideshow": {
     "slide_type": "-"
    }
   },
   "outputs": [],
   "source": [
    "'''Ejemplo'''\n",
    "u=np.array([[1.5+1j],[2-3*1.j]])\n",
    "Expande_Ket(u)\n",
    "display(Markdown('$ \\|\\ket{u}\\|=%2.3f $' % Norma(u)))"
   ]
  },
  {
   "cell_type": "markdown",
   "id": "cbac4e4e",
   "metadata": {},
   "source": [
    "<a id='vecprodesc'></a>\n",
    "<table width=\"100%\">\n",
    "    <td style=\"font-size:25px;font-family:Helvetica;text-align:left;background-color:rgba(12, 43, 337, 0.3);\">\n",
    "<b>Base ortonormales </b>\n",
    "</table>"
   ]
  },
  {
   "cell_type": "markdown",
   "id": "b87d331b",
   "metadata": {},
   "source": [
    "Hasta ahora, a los vectores de una base $\\{\\ket{e_i}\\}$ sólo se les ha pedido que sean $N$ vectores linealmente indepenientes, donde $N$ es la dimensión del espacio vectorial $\\V$:\n",
    "\n",
    "En un espacio de Hilbert $\\Hil$ tiene sentido calcular el producto escalar de dos elementos de una base. \n",
    "\n",
    "**Base Ortonormal**: una base ortornormal se caracteriza por la siguiente lista de proctos escalares\n",
    "\n",
    "$$\n",
    "\\braket{e_i}{e_j} = \\delta_{ij}\n",
    "$$\n",
    "\n",
    "Por un lado, dos elementos distintos de la base son ortogonales $\\braket{e_1}{e_2} = 0$. Por otro, la norma de cada elemento es igual a 1 $ \\| e_i \\| = \\sqrt{\\braket{e_1}{e_1}} = \\sqrt{1} = 1$. \n",
    "\n",
    "En este curso siempre supondremos que las bases con las que trabajamos con ortonormales. "
   ]
  },
  {
   "cell_type": "code",
   "execution_count": null,
   "id": "23c6d731",
   "metadata": {},
   "outputs": [],
   "source": []
  }
 ],
 "metadata": {
  "kernelspec": {
   "display_name": "Python 3",
   "language": "python",
   "name": "python3"
  },
  "language_info": {
   "codemirror_mode": {
    "name": "ipython",
    "version": 3
   },
   "file_extension": ".py",
   "mimetype": "text/x-python",
   "name": "python",
   "nbconvert_exporter": "python",
   "pygments_lexer": "ipython3",
   "version": "3.7.10"
  },
  "varInspector": {
   "cols": {
    "lenName": 16,
    "lenType": 16,
    "lenVar": 40
   },
   "kernels_config": {
    "python": {
     "delete_cmd_postfix": "",
     "delete_cmd_prefix": "del ",
     "library": "var_list.py",
     "varRefreshCmd": "print(var_dic_list())"
    },
    "r": {
     "delete_cmd_postfix": ") ",
     "delete_cmd_prefix": "rm(",
     "library": "var_list.r",
     "varRefreshCmd": "cat(var_dic_list()) "
    }
   },
   "types_to_exclude": [
    "module",
    "function",
    "builtin_function_or_method",
    "instance",
    "_Feature"
   ],
   "window_display": false
  }
 },
 "nbformat": 4,
 "nbformat_minor": 5
}
