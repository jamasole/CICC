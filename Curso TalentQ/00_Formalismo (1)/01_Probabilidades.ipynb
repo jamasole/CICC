{
 "cells": [
  {
   "cell_type": "markdown",
   "id": "21fb33ef",
   "metadata": {
    "slideshow": {
     "slide_type": "slide"
    }
   },
   "source": [
    "<img   src=\"../figuras/logo/TalentQ_LogoPosNegro.png\" align=center  width=\"120\"/>\n",
    "<br>\n",
    "\n",
    "<table width=\"100%\">\n",
    "<td style=\"font-size:42px;font-style:italic;text-align:right;background-color:rgba(0, 160, 120,0.6)\">\n",
    "Probabilidades \n",
    "</td></table>\n",
    "$ \\newcommand{\\bra}[1]{\\langle #1|} $\n",
    "$ \\newcommand{\\ket}[1]{|#1\\rangle} $\n",
    "$ \\newcommand{\\braket}[2]{\\langle #1|#2\\rangle} $\n",
    "$ \\newcommand{\\i}{{\\color{blue} i}} $ \n",
    "$ \\newcommand{\\Hil}{{\\mathbb H}} $\n"
   ]
  },
  {
   "cell_type": "markdown",
   "id": "5bfa1a8e",
   "metadata": {},
   "source": [
    "Decimos de una variable, $x$, que es aleatoria, cuando\n",
    "<br>\n",
    "\n",
    "- cada consulta de su valor arroja un resultado impredecible\n",
    "<br>\n",
    "\n",
    "- no hay ninguna relación entre los resultados de distintas consultas\n",
    "<br>\n",
    "\n",
    "$x$ puede ser real, compleja, entera, binaria,...  A veces denominamos a la consulta, *medida*, y a veces *tirada*.\n",
    "\n",
    "<br>\n",
    "\n",
    " A pesar de que una variable aleatoria parece algo sumamente caótico,  hay cierta estructura que se pone de manifiesto en la reiteración de la medida. Basta con anotar los resultados de las tiradas y el número de veces que aparecen\n",
    "\n",
    "<br>\n",
    "\n",
    "Sea $x$ una variables que puede tomar valores  $x \\in \\{a_1,\\ldots,a_p\\}$. $N$ consultas se repartirán entre los posibles valores $a_i$ con números de aparición $n(a_i)$ tales que  $n(a_1) +  \\ldots + n(a_p) = N$. \n",
    "\n",
    "La **Ley de los Grandes Números** establece que cuando $N$ crece, las fracciones relativas *se estabilizan* en valores reales positivos \n",
    "\n",
    "$$\n",
    "p(a_i) = \\frac{n(a_i)}{N}  ~\\in~[0,1]\n",
    "$$\n",
    "\n",
    "que obviamente deben sumar a la unidad\n",
    "\n",
    "$$\n",
    "\\sum_{i=1}^p p(a_i) \\, =\\,  \\sum_{i=1}^p \\frac{n(a_i)}{N} \\, = \\, \\frac{n(a_1) + \\ldots + n(a_p)}{N} \\, =\\,  \\frac{N}{N} = 1\n",
    "$$\n",
    "\n",
    "Dichas fracciones relativas reflejan algo de la estructura interna del sistema físico que describe la variable $x$ y que no se borra totalmente en el promedio, y reciben el nombre de **probabilidades**. "
   ]
  },
  {
   "cell_type": "markdown",
   "id": "80f9d6c1",
   "metadata": {},
   "source": [
    "## Distribuciones de probabilidad"
   ]
  },
  {
   "cell_type": "markdown",
   "id": "37a7d69e",
   "metadata": {},
   "source": [
    "## Estimadores estadísticos"
   ]
  },
  {
   "cell_type": "markdown",
   "id": "016d6b2d",
   "metadata": {},
   "source": [
    "## Probabilidades combinadas"
   ]
  },
  {
   "cell_type": "markdown",
   "id": "9b6eaf01",
   "metadata": {},
   "source": [
    "## Entropía de una distribución de probabilidad"
   ]
  },
  {
   "cell_type": "code",
   "execution_count": null,
   "id": "7e9954fc",
   "metadata": {},
   "outputs": [],
   "source": []
  }
 ],
 "metadata": {
  "celltoolbar": "Slideshow",
  "kernelspec": {
   "display_name": "Python 3",
   "language": "python",
   "name": "python3"
  },
  "language_info": {
   "codemirror_mode": {
    "name": "ipython",
    "version": 3
   },
   "file_extension": ".py",
   "mimetype": "text/x-python",
   "name": "python",
   "nbconvert_exporter": "python",
   "pygments_lexer": "ipython3",
   "version": "3.7.10"
  },
  "varInspector": {
   "cols": {
    "lenName": 16,
    "lenType": 16,
    "lenVar": 40
   },
   "kernels_config": {
    "python": {
     "delete_cmd_postfix": "",
     "delete_cmd_prefix": "del ",
     "library": "var_list.py",
     "varRefreshCmd": "print(var_dic_list())"
    },
    "r": {
     "delete_cmd_postfix": ") ",
     "delete_cmd_prefix": "rm(",
     "library": "var_list.r",
     "varRefreshCmd": "cat(var_dic_list()) "
    }
   },
   "types_to_exclude": [
    "module",
    "function",
    "builtin_function_or_method",
    "instance",
    "_Feature"
   ],
   "window_display": false
  }
 },
 "nbformat": 4,
 "nbformat_minor": 5
}
