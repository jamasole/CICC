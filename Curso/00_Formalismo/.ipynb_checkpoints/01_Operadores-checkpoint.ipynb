{
 "cells": [
  {
   "cell_type": "markdown",
   "id": "487a0d95",
   "metadata": {
    "slideshow": {
     "slide_type": "slide"
    }
   },
   "source": [
    "<img   src=\"../figuras/logo/TalentQ_LogoPosNegro.png\" align=center  width=\"120\"/>\n",
    "<br>\n",
    "\n",
    "<table width=\"100%\">\n",
    "<td style=\"font-size:50px;font-style:italic;text-align:right;background-color:rgba(0, 160, 120,0.6)\">\n",
    "Operadores\n",
    "</td></table>\n",
    "\n",
    "$ \\newcommand{\\bra}[1]{\\langle #1|} $\n",
    "$ \\newcommand{\\ket}[1]{|#1\\rangle} $\n",
    "$ \\newcommand{\\braket}[2]{\\langle #1|#2\\rangle} $\n",
    "$ \\newcommand{\\i}{{\\color{blue} i}} $ \n",
    "$ \\newcommand{\\Hil}{{\\cal H}} $\n",
    "$ \\newcommand{\\V}{{\\cal V}} $\n",
    "\n",
    "\n",
    "\n",
    "- [Operadores, Matriz, Adjunto](#opdefi) \n",
    "\n",
    "- [Producto Exterior de Vectores](#prodext)\n",
    "\n",
    "- [Clases de operadores](#optipos)\n",
    "\n"
   ]
  },
  {
   "cell_type": "code",
   "execution_count": 1,
   "id": "a9cb14ec",
   "metadata": {
    "slideshow": {
     "slide_type": "skip"
    }
   },
   "outputs": [],
   "source": [
    "%run ../macro_CURSO.py"
   ]
  },
  {
   "cell_type": "markdown",
   "id": "3826c0aa",
   "metadata": {
    "slideshow": {
     "slide_type": "slide"
    }
   },
   "source": [
    "<a id='opdefi'></a>\n",
    "<table width=\"100%\">\n",
    "    <td style=\"font-size:25px;font-family:Helvetica;text-align:left;background-color:rgba(12, 43, 337, 0.3);\">\n",
    "<b>Operadores</b>\n",
    "</table>   "
   ]
  },
  {
   "cell_type": "markdown",
   "id": "ed16a9f1",
   "metadata": {
    "slideshow": {
     "slide_type": "slide"
    }
   },
   "source": [
    "En un espacio vectorial, además de los vectores, será esencial entender la manera en que estos se pueden transformar entre sí. Esto es la teoría de operadores\n",
    "\n",
    "<div class=\"alert alert-block alert-info\",text-align:center>\n",
    "<p style=\"text-align: left ;color: navy;\">  \n",
    "<b> Definición: </b> Un operador lineal es una aplicación  que transforma un vector  en otro \n",
    "<br>\n",
    "<br>\n",
    "$$\n",
    "A: \\ket{u} ~~\\to ~~ \\ket{v}  \n",
    "$$\n",
    "<p>\n",
    "</div>"
   ]
  },
  {
   "cell_type": "markdown",
   "id": "82e2b6ac",
   "metadata": {
    "slideshow": {
     "slide_type": "slide"
    }
   },
   "source": [
    "- escribimos también $\\ket{v} = A\\ket{u}$.\n",
    "<br>\n",
    "\n",
    "- *lineal* implica que, sobre una *combinación lineal* de vectores, actúa de forma lineal, es decir: \n",
    "\n",
    "<br>\n",
    "$$\n",
    "A: (\\alpha\\ket{u} + \\beta\\ket{w})~~\\to ~~ \\ket{v} =\\alpha ( A\\ket{u}) + \\beta (A\\ket{w})\n",
    "$$\n"
   ]
  },
  {
   "cell_type": "markdown",
   "id": "a7ce21ce",
   "metadata": {
    "slideshow": {
     "slide_type": "slide"
    }
   },
   "source": [
    "<div class=\"alert alert-block alert-warning\">\n",
    "    <b>Ejemplo:</b> \n",
    "<br>    el operador más fácil de visualizar es el operador de <i>rotación en un plano</i>. Dado un ángulo $\\theta \\in (0,2\\pi)$ el operador $A = R(\\theta)$ gira cualquier vector un ángulo $\\theta$ en el sentido antihorario\n",
    "<br>\n",
    "Representar el vector  $\\ket{u} = (u_1,u_2)$  es equivalente a representar el número complejo $u = u_1 + i u_2$ en el plano complejo.\n",
    "  Escrito en polares, $u=|u|e^{i\\phi}$, y sabemos que una rotación de ángulo $\\theta$ es equivalente a añadirle dicho  ángulo a la fase \n",
    "<br>\n",
    "$$\n",
    " v = R(\\theta) u = |u| e^{i(\\phi + \\theta)} =  |u| e^{i\\phi } e^{i\\theta} = u\\cdot e^{i\\theta} \n",
    "$$\n",
    "<br>    \n",
    "Por tanto, para rotar un número complejo un ángulo $\\theta$ basta con multiplicarlo por la fase $e^{i\\theta}$, que se corresponde con el operador $R(\\theta)$ en el espacio vectorial $\\mathbb{H}\\equiv\\mathbb{C}^2$.   \n",
    "La propiedad fundamental de una rotación es la de mantener invariante el módulo  $|v| = |u|$.    \n",
    "</div>\n"
   ]
  },
  {
   "cell_type": "markdown",
   "id": "3b755bd5",
   "metadata": {},
   "source": [
    "<div class=\"alert alert-block alert-danger\">\n",
    "<b>Nota:</b>\n",
    "<br>    \n",
    "No nos preocupa el <i>mecanismo</i> mediante la cuál cual un operador  <i>transforma un vector en otro</i> $A\\ket{u} =\\ket{v}$. Es una construcción mental matemática. \n",
    "Cuando querramos implementar la computación cuántica en un ordenador cuántico, constuiremos el operador $A$ a partir del control de los procesos de evolución físicos que puedan ocurrir en el mismo.\n",
    "</div>"
   ]
  },
  {
   "cell_type": "code",
   "execution_count": 4,
   "id": "b1ffc61f",
   "metadata": {
    "slideshow": {
     "slide_type": "slide"
    }
   },
   "outputs": [
    {
     "name": "stdout",
     "output_type": "stream",
     "text": [
      "u= u1 + i u2 =  (2+2j)\n",
      "v= v1 + i v2 =  (0.52+2.78j)\n"
     ]
    },
    {
     "data": {
      "image/png": "[encoded data removed]",
      "text/plain": [
       "<Figure size 576x576 with 1 Axes>"
      ]
     },
     "metadata": {
      "needs_background": "light"
     },
     "output_type": "display_data"
    }
   ],
   "source": [
    "'''ángulo que queremos rotar'''\n",
    "theta=0.6 \n",
    "\n",
    "'''vector a rotar'''\n",
    "u1=2.\n",
    "u2=2.\n",
    "u = u1 + u2*1j\n",
    "print('u= u1 + i u2 = ',np.round(u,2))\n",
    "\n",
    "'''rotación'''\n",
    "v = u*np.exp(1j*theta) # z rotado un angulo theta\n",
    "print('v= v1 + i v2 = ',np.round(v,2))\n",
    "\n",
    "''' Representación en el plano complejo '''\n",
    "plot_2D_plane(left=-int(abs(v.real))-2,right=int(abs(v.real))+2,up=int(abs(v.imag))+1,down=-int(abs(v.imag))-1)\n",
    "draw_vector(u.real,u.imag,vcolor='b')\n",
    "draw_vector(v.real,v.imag,vcolor='r')\n"
   ]
  },
  {
   "cell_type": "markdown",
   "id": "9957e12e",
   "metadata": {
    "slideshow": {
     "slide_type": "slide"
    }
   },
   "source": [
    "<div class=\"alert alert-block alert-success\">\n",
    "    <b>Ejercicio:</b>\n",
    "Utilizando la intuición anterior, define una función $R$, que recibe un vector de dos componentes $(u_1,u_2)$ y devuelve el vector $(v_1,v_2)$ de componentes rotadas un ángulo $\\theta$.\n",
    "</div>"
   ]
  },
  {
   "cell_type": "markdown",
   "id": "9b777196",
   "metadata": {
    "slideshow": {
     "slide_type": "-"
    }
   },
   "source": [
    "<div class=\"alert alert-block alert-success\">\n",
    "    <b>Ejercicio:</b>\n",
    "Repite los pasos de esta sección para el caso en el que $v= u*re^{i\\theta}$, es decir, multiplicamos el número complejo \n",
    "$u$ por un número complejo arbitrario de módulo $r$. Después de leer la siguiente sección, escribe la matriz $A_{ij}$ asociada a este operador. \n",
    "</div>"
   ]
  },
  {
   "cell_type": "markdown",
   "id": "ea937382",
   "metadata": {
    "slideshow": {
     "slide_type": "slide"
    }
   },
   "source": [
    "### Matriz de un operador\n",
    "\n",
    "Dada una base, un vector queda especificado por una colección de números, sus componentes.\n",
    "\n",
    "Vamos a ver que, igualmente, un operador queda definido por una matriz numérica. \n",
    "\n",
    "Efectivamente, en una base, la relación $\\ket{v} = A\\ket{u}$ equivale a una ecuación que relacione las componentes de ambos vectores\n",
    "\n",
    "\n",
    "$$\n",
    "\\begin{pmatrix}\n",
    "v_1 \\\\ v_2 \\\\ \\vdots \\\\ v_N \\end{pmatrix} =  \\begin{pmatrix} \n",
    "A_{11} & A_{12} & \\cdots & A_{1N} \\\\\n",
    "A_{21} & A_{22} & \\cdots & A_{2N} \\\\\n",
    "\\vdots & \\vdots &  \\ddots      & \\vdots \\\\\n",
    "A_{N1} & A_{N2} &    \\cdots    & A_{NN}\n",
    "\\end{pmatrix}\n",
    " \\begin{pmatrix} \n",
    "u_1 \\\\ u_2 \\\\ \\vdots \\\\ u_N\\end{pmatrix} \\hspace{4cm}\n",
    "$$\n",
    "<br>\n",
    "La propiedad de linealidad es evidente porque la acción de una matriz sobre una suma de vectores columna es igual a la suma de las acciones sobre cada vector.\n",
    "\n",
    "Para $N$ arbitrariamente grande es preferible usar la notación de índices\n",
    "\n",
    "$$\n",
    "v_i = \\sum_{j=1}^N A_{ij} u_j  \\, .\n",
    "$$\n",
    "\n"
   ]
  },
  {
   "cell_type": "markdown",
   "id": "fb1d310b",
   "metadata": {
    "slideshow": {
     "slide_type": "slide"
    }
   },
   "source": [
    "La suma en la expresión anterior es equivalente a la regla de multiplicación de matrices \n",
    "\n",
    "<br>\n",
    "\n",
    "$$\n",
    "\\begin{pmatrix}\n",
    "v_1 \\\\ v_2 \\\\ \\vdots \\\\ v_N \\end{pmatrix} =  \\begin{pmatrix} \n",
    "A_{11} & A_{12} & \\cdots & A_{1N} \\\\\n",
    "A_{21} & A_{22} & \\cdots & A_{2N} \\\\\n",
    "\\vdots & \\vdots &  \\ddots      & \\vdots \\\\\n",
    "A_{N1} & A_{N2} &    \\cdots    & A_{NN}\n",
    "\\end{pmatrix}\n",
    " \\begin{pmatrix} \n",
    "u_1 \\\\ u_2 \\\\ \\vdots \\\\ u_N\\end{pmatrix} \\hspace{4cm}\n",
    "$$"
   ]
  },
  {
   "cell_type": "markdown",
   "id": "e58d55eb",
   "metadata": {
    "slideshow": {
     "slide_type": "slide"
    }
   },
   "source": [
    "<div class=\"alert alert-block alert-warning\">\n",
    "    <b>Ejemplo:</b> \n",
    "<br>    Continuando con el ejemplo del operador de rotación en un plano, hemos visto que las componentes de $u = u_1 + i u_2$ y las de $R(\\theta)u = v = v_1 + i v_2$ se obtienen mediante la multiplicación por una fase pura \n",
    "\\begin{eqnarray}\n",
    "v&=& u e^{i\\theta} \\\\\n",
    "\\end{eqnarray}\n",
    "    \n",
    "Vamos a desarrollar cada miembro en cartesianas, separando las partes real e imaginaria\n",
    "<br>    \n",
    "\\begin{eqnarray}\n",
    "v_1 + i v_2 &=& (u_1 + iu_2) (\\cos \\theta + i \\sin \\theta)  \\\\\n",
    "    \\rule{0mm}{6mm}\n",
    "    &=& (\\cos\\theta \\, u_1 - \\sin \\theta\\,  u_2) + i(\\sin\\theta\\,  u_1 + \\cos \\theta\\,  u_2)\n",
    "\\end{eqnarray}\n",
    "<br>\n",
    "    \n",
    "es decir las coordenadas del vector origen y el vector rotado imagen se relacionan en la  forma \n",
    "\n",
    "<br>\n",
    "\\begin{eqnarray}\n",
    "v_1 = \\cos\\theta \\, u_1 - \\sin \\theta\\,  u_2 ~~~~~~~,~~~~~~~~\n",
    "v_2 = \\sin\\theta \\, u_1 + \\cos \\theta\\,  u_2     \n",
    "\\end{eqnarray}\n",
    "<br>\n",
    "\n",
    "que podemos expresar en forma matricial\n",
    "    \n",
    "$$\n",
    "\\begin{pmatrix} v_1 \\\\ v_2 \\end{pmatrix} = \\begin{pmatrix} \\cos\\theta & -\\sin\\theta \\\\ \\sin\\theta &\\cos\\theta\\end{pmatrix} \\begin{pmatrix} u_1 \\\\ u_2 \\end{pmatrix}\n",
    "$$    \n",
    "    \n",
    "  \n",
    "    \n",
    "    \n",
    "</div>\n"
   ]
  },
  {
   "cell_type": "markdown",
   "id": "be46ae61",
   "metadata": {},
   "source": [
    "<a id='prodext'></a>\n",
    "<table width=\"100%\">\n",
    "    <td style=\"font-size:25px;font-family:Helvetica;text-align:left;background-color:rgba(12, 43, 337, 0.3);\">\n",
    "<b>Producto Exterior de Vectores</b>\n",
    "</table>   "
   ]
  },
  {
   "cell_type": "markdown",
   "id": "a316e949",
   "metadata": {
    "slideshow": {
     "slide_type": "slide"
    }
   },
   "source": [
    "Consideremos dos vectores $\\ket{u} = \\sum_i u_i\\ket{e_i}$ y $\\ket{v} = \\sum_j v_j \\ket{e_j}$, expresados en una base ortonormal. Dependiendo del orden en que los compongamos, $\\braket{u}{v}$ o $\\ket{v}\\bra{u}$, el resultado produce dos cantidades muy distintas.\n",
    "<br>\n",
    "\n",
    "- El *producto interno*, o *producto escalar* es un **número complejo**\n",
    "<br>\n",
    "\n",
    "$$\n",
    " a = \\braket{u}{v} = \\braket{v}{u}^* \n",
    "$$\n"
   ]
  },
  {
   "cell_type": "markdown",
   "id": "b332687f",
   "metadata": {
    "slideshow": {
     "slide_type": "slide"
    }
   },
   "source": [
    "- El *producto externo* es un **operador**\n",
    "<br>\n",
    "$$\n",
    "A = \\ket{v}\\bra{u}\n",
    "$$\n",
    "<br>\n",
    "\n",
    "Para comprender por qué es un operador, observamos que dicha expresión está <i>a la espera </i> de un vector $\\ket{w}$ para dar otro\n",
    "<br><br>\n",
    "\n",
    "$$\n",
    "A : \\ket{w} ~\\to ~ A\\ket{w} =  \\ket{v}\\braket{u}{w}=\\ket{v} b  = b \\ket{v} \n",
    "$$\n",
    "<br>\n",
    "\n",
    "donde el número complejo $b=\\braket{u}{w}$ es  la *proyección* de $\\ket{w}$ en la dirección de $\\ket{u}$."
   ]
  },
  {
   "cell_type": "markdown",
   "id": "191b44f8",
   "metadata": {
    "slideshow": {
     "slide_type": "slide"
    }
   },
   "source": [
    "<div class=\"alert alert-block alert-danger\">\n",
    "<b>Notar:</b> \n",
    "<br>\n",
    "1.     El <i>orden</i> en que escribimos las cosas es <b>muy</b> relevante.\n",
    "<br>    \n",
    "$\\Rightarrow$ \n",
    "$\\braket{u}{v}$ y $\\ket{v}\\bra{u}$ son objetos <i> radicalmente distintos</i> (el primero es un número y el segundo un operador). \n",
    "<br>  \n",
    "<br>    \n",
    "$\\Rightarrow$  En cambio $\\ket{v} b  = b \\ket{v}$, así como $\\bra{u}b = b\\bra{u}$, es decir,  los números complejos y los $kets$ o $bras$ pueden escribirse en cualquier orden (decimos que conmutan).\n",
    "<br>\n",
    "<br>\n",
    "2.    La acción del operador  $A = \\ket{v}\\bra{u}$ es muy fácil de expresar con palabras: \n",
    "el operador $A$ toma <i>cualquier vector</i> $\\ket{w}$ y lo convierte en un vector <i>paralelo</i> a $\\ket{v}$ proporcionalmente a su proyección $b=\\braket{u}{w}$. Si la proyección es nula $b=0$, el operador <i>aniquila</i>, es decir, da el elemento neutro.\n",
    "<div>"
   ]
  },
  {
   "cell_type": "markdown",
   "id": "e1de855c",
   "metadata": {},
   "source": [
    "***\n",
    "\n",
    "### En componentes"
   ]
  },
  {
   "cell_type": "markdown",
   "id": "03962092",
   "metadata": {
    "slideshow": {
     "slide_type": "slide"
    }
   },
   "source": [
    "La diferencia entre el *producto interno* $a=\\braket{u}{v}$ y el *externo* $A=\\ket{u}\\bra{v}$ tiene su reflejo en una base expresando ambos vectores en componentes. Sea $\\ket{u} = \\sum_i u_i\\ket{i}$ y $\\ket{v} = \\sum_j v_j \\ket{j}$ \n",
    "\n",
    "-  el *número complejo* $a$ que expresa el *producto escalar*\n",
    "$$\n",
    " a = \\braket{u}{v}  = \\begin{pmatrix} u_1^*,...,u_N^*\\end{pmatrix}\n",
    "\\begin{pmatrix} v_1 \\\\ \\vdots \\\\ v_N\\end{pmatrix}\\, =  \\sum_i u_i^*v_i\n",
    "$$"
   ]
  },
  {
   "cell_type": "markdown",
   "id": "6f7c92b1",
   "metadata": {
    "slideshow": {
     "slide_type": "slide"
    }
   },
   "source": [
    "-  la matriz $A_{ij}$ que expresa  representa el operador $A$ en la base $\\{\\ket{i}=\\ket{e_i}\\}$\n",
    "\n",
    "$$\n",
    "A = \\ket{v}\\bra{u} ~\\sim ~\\begin{pmatrix} v_1 \\\\ \\vdots \\\\ v_N\\end{pmatrix}\n",
    "\\begin{pmatrix} u_1^*,...,u_N^*\\end{pmatrix} ~=~ \n",
    "\\begin{pmatrix} v_1 u_1^* & v_1u_2^* & ... & v_1 u_N^* \\\\\n",
    "v_2 u_1^* & v_2 u_1^*& ... & v_2 u_N^* \\\\ \\vdots & \\vdots  & \\ddots & \\vdots \\\\\n",
    "v_N u_1^* & & ... & v_N u_N^* \\end{pmatrix} ~ = ~A_{ij}\n",
    "$$\n",
    "\n",
    "<br>"
   ]
  },
  {
   "cell_type": "markdown",
   "id": "7d2b65dc",
   "metadata": {
    "slideshow": {
     "slide_type": "slide"
    }
   },
   "source": [
    "***\n",
    "\n",
    "### Base canónica de operadores\n",
    "\n",
    "Un caso importante es cuando $A$ es el producto externo de dos vectores de la base $\\ket{i}$ y $\\ket{j}$ \n",
    "<br><br>\n",
    "$$A = \\ket{i}\\bra{j}$$\n",
    "<br>\n",
    "\n",
    "- La acción de $A$ sobre un vector $\\ket{e_k}$ arbitrario de la base es sencilla:  cambia el vector $\\ket{e_j}\\to \\ket{e_i}$ y aniquila a todos los demás\n",
    "<br>\n",
    "\n",
    "$$\n",
    "A \\ket{k} = \\ket{i}\\braket{j}{k} = \\ket{i} \\delta_{jk} = \\left\\{ \\begin{array}{rl}\n",
    "0 & {\\rm if} ~~k\\neq j \\\\ \\ket{i} & {\\rm if} ~~ k=j \\end{array} \\right.\n",
    "$$"
   ]
  },
  {
   "cell_type": "markdown",
   "id": "d8e8a70e",
   "metadata": {
    "slideshow": {
     "slide_type": "slide"
    }
   },
   "source": [
    "- La matriz asociada al operador  tiene sólo un 1 en el elemento $(ij)$ y cero en todos los demás. Por ejemplo, supongamos que \n",
    "$N=4$ \n",
    "\n",
    "<br>\n",
    "\n",
    "$$\n",
    "\\ket{e_2}\\bra{e_3} ~\\to ~~\n",
    " \\begin{pmatrix} 0 \\\\ 1 \\\\ 0 \\\\ 0 \\end{pmatrix}\\begin{pmatrix} 0 & 0 & 1 & 0 \\end{pmatrix} = \n",
    "\\begin{pmatrix}\n",
    "0 &  0 & 0 &  0 \\\\  0 &  0 & 1&  0 \\\\ 0 &  0 & 0 &  0 \\\\ 0 &  0 & 0 &  0\n",
    "\\end{pmatrix} ~~\\Rightarrow ~~ A_{ij} = \\delta_{i2}\\delta_{j3}\n",
    "$$\n",
    "\n",
    "<br>"
   ]
  },
  {
   "cell_type": "markdown",
   "id": "c0ff5cb5",
   "metadata": {
    "slideshow": {
     "slide_type": "slide"
    }
   },
   "source": [
    "### Expansión de un operador general\n",
    "\n",
    "Ahora podemos obtener una nueva perspectiva sobre la matriz $A_{ij}$ asociada a un operador $A$. \n",
    "\n",
    "De la misma manera que las componentes $u_i$ expresan la *expansión de un vector* $\\ket{u}$ en una *base ortonormal de vectores*,  $\\to \\ket{u} = \\sum_{i=1}^N u_i \\ket{i}$, los *elementos de matriz* $A_{ij}$ expresan la *expansión de un operador* en una **base de operadores** $\\ket{i}\\bra{j}$\n",
    "<br>\n",
    "Escribiendo las matrices asociadas a $\\ket{i}\\bra{j}$, es evidente que $\\sum_{i,j=1}^N A_{ij} \\ket{i}\\bra{j} $ reconstruye la mariz $A_{ij}$ asociada a $A$\n",
    "<br>\n",
    "<br>\n",
    "$$\n",
    "A= \\sum_{i,j=1}^N A_{ij} \\ket{i}\\bra{j} \\,~~~~ \\Longleftrightarrow ~~~~\n",
    "\\begin{pmatrix} \n",
    "A_{11} & A_{12} & \\cdots & A_{1N} \\\\\n",
    "A_{21} & A_{22} & \\cdots & A_{2N} \\\\\n",
    "\\vdots & \\vdots &  \\ddots      & \\vdots \\\\\n",
    "A_{N1} & A_{N2} &    \\cdots    & A_{NN}\n",
    "\\end{pmatrix}. \\hspace{2cm}\n",
    "$$\n",
    "\n",
    "<details>\n",
    "<summary><p style=\"text-align:right\"> >> Consistencia </p></summary>\n",
    "\n",
    "Verifiquemos que actúa de la forma correcta\n",
    "\n",
    "$$\n",
    "\\begin{array}{rcl}\n",
    "A |u\\rangle &=&  \\sum_{i,j} A_{ij} | i\\rangle \\langle j | \\left(\\sum_k u_k |e_k\\rangle \\right) \\\\\n",
    "&\\stackrel{\\rm linealidad}{=}& \\sum_{i,j} \\sum_k A_{ij} | e_i\\rangle  \\,   u_k \\langle e_j| e_k\\rangle \\nonumber\\\\\n",
    "&\\stackrel{\\rm ortonormalidad}{=}& \\sum_{i,j,k} A_{ij} | e_i\\rangle  \\,   u_k \\delta_{jk}\\\\\n",
    "&=&\\sum_{ij} A_{ij}\\,|e_i\\rangle \\, u_j= \\sum_i \\left(\\sum_{j} A_{ij}\\, u_j\\right)  |e_i\\rangle    \\\\\n",
    "&=&\\sum_i v_i \\ket{e_i} \\nonumber\\\\\n",
    "&=&   | v\\rangle\n",
    "\\end{array}\n",
    "$$\n",
    "</details>"
   ]
  },
  {
   "cell_type": "markdown",
   "id": "b2d58714",
   "metadata": {},
   "source": [
    "### Elementos de matriz\n",
    "\n",
    "Podemos invertir la expresión anterior para obtener, a partir de un operador, $A$, sus *elementos de matriz*\n",
    "\n",
    "$$\\fbox{$ A_{ij} = \\bra{i} A \\ket{j}$} $$\n",
    "\n",
    "<div class=\"alert alert-block alert-success\">\n",
    "<b>Ejercicio:</b>$~$\n",
    "demuestra esta expresión\n",
    "<details>\n",
    "<summary><p style=\"text-align:right\"> >> Solución </p></summary>\n",
    "\\begin{eqnarray}\n",
    "\\bra{e_i} A \\ket{e_j} &=&  \\bra{i}\\left(\\sum_{k,l=1}^N A_{kl} \\ket{k}\\bra{l}  \\right) \\ket{j}\\nonumber\\\\\n",
    "    &=&\\sum_{k,l=1}^N \\braket{e_i}{k} A_{kl} \\braket{l}{j} \\nonumber\\\\\n",
    "    &=&\\sum_{k,l=1}^N \\delta_{ik} A_{kl} \\delta_{lj} = A_{ij}\n",
    "\\end{eqnarray}\n",
    "</details>    \n"
   ]
  },
  {
   "cell_type": "markdown",
   "id": "b41a3912",
   "metadata": {
    "slideshow": {
     "slide_type": "slide"
    }
   },
   "source": [
    "### Relación de completitud    \n",
    "    \n",
    "el operador identidad $I$ tiene por matriz $I_{ij}=\\delta_{ij}={\\rm diagonal}\\, (1,1,...,1)$ con lo que\n",
    "\n",
    "<br>\n",
    "\n",
    "$$\n",
    "I = \\sum_{ij} \\delta_{ij}\\ket{i}\\bra{j} = \\sum_{i}  \\ket{i}\\bra{i}\n",
    "$$\n",
    "\n",
    "Esta expresión se conoce también como <b>relación de completitud</b> o, también <b>relación de cierre</b> y se utiliza muy frecuentemente.\n"
   ]
  },
  {
   "cell_type": "markdown",
   "id": "3bfbfc1e",
   "metadata": {},
   "source": [
    "<div class=\"alert alert-block alert-danger\">\n",
    "<b>Notar:</b> \n",
    "<br>\n",
    "la relación de completitud es, en realidad, una propiedad de  <b> cualquier base</b>. Dicho de otro modo, si $\\{\\ket{e_i}\\}$ y $\\{\\ket{f_i}\\}$ son, ambas, bases entonces \n",
    "<br>\n",
    "<br>\n",
    "$$\n",
    "I =  \\sum_{i}  \\ket{e_i}\\bra{e_i} =  \\sum_{j}  \\ket{f_j}\\bra{f_j}\\, .\n",
    "$$\n",
    "</div>"
   ]
  },
  {
   "cell_type": "markdown",
   "id": "012e9f9a",
   "metadata": {},
   "source": [
    "\n",
    "La relación de cierre, o completitud,  siempre se puede insertar en cualquier momento del cálculo. Se utiliza con frecuencia para efectuar cambios de base.\n",
    "<br>\n",
    "<br>\n",
    "Por ejemplo, sean\n",
    "dos vectores $\\ket{u}$ y  $\\ket{v}$. Vamos a ver que su producto escalar puede calcularse en cualquier base  usando la relación de completitud en dicha base $I = \\sum_i \\ket{f_i}\\bra{f_i}$    \n",
    "<br>\n",
    "$$ \n",
    "\\braket{v}{u} = \\bra{v} I \\ket{u} = \\bra{v}\\left(\\sum_i\\ket{f_i}\\bra{f_i}\\right)\\ket{u} = \n",
    "\\sum_i \\braket{v}{f_i}\\braket{f_i}{u} = \\sum_i v_i^* u_i\n",
    "$$ \n",
    "<br>\n",
    "donde $\\ket{u} = \\sum_i u_i\\ket{f_i}$  y $\\ket{v} = \\sum_i v_i\\ket{f_i}$ en dicha base.  \n"
   ]
  },
  {
   "cell_type": "markdown",
   "id": "33b6a5dd",
   "metadata": {},
   "source": [
    "<div class=\"alert alert-block alert-warning\">\n",
    "<b>Resumen:</b> \n",
    "<br>     \n",
    "Dada una base $\\{\\ket{e_i}\\}$ podemos expresar un operador mediante una matriz $A_{ij}$. La relación concreta es \n",
    "\n",
    "- como operador $$ A = \\sum_{ij} A_{ij}\\ket{i}\\bra{j}$$\n",
    "\n",
    "- como matriz $$ A_{ij} = \\bra{i}A\\ket{j}$$\n",
    "<br>   \n",
    "</div>    "
   ]
  },
  {
   "cell_type": "markdown",
   "id": "e6c75ec7",
   "metadata": {},
   "source": [
    "<a id='funcope'></a>\n",
    "<table width=\"100%\">\n",
    "    <td style=\"font-size:25px;font-family:Helvetica;text-align:left;background-color:rgba(12, 43, 337, 0.3);\">\n",
    "<b>Funciones de operadores</b>\n",
    "</table>   "
   ]
  },
  {
   "cell_type": "markdown",
   "id": "6b438a5a",
   "metadata": {},
   "source": [
    "## Conmutador "
   ]
  },
  {
   "cell_type": "markdown",
   "id": "01d3d81f",
   "metadata": {},
   "source": [
    "A diferencia de los números, el orden en el que se componen dos operadores es relevante.  \n",
    "Dados dos operadores, $A$ y $B$, definimos el *conmutador*  \n",
    "\n",
    "\\begin{eqnarray}\n",
    " [A,B] = AB-BA\\,  \\nonumber\n",
    "\\end{eqnarray}\n",
    "\n",
    "El conmutador es otro operador que, en general, no es cero."
   ]
  },
  {
   "cell_type": "markdown",
   "id": "9352abd3",
   "metadata": {},
   "source": [
    "- El conmutador tiene las dos siguientes propiedades algebraicas, elementales de probar\n",
    "\n",
    "\\begin{eqnarray}\n",
    "{\\rm Derivación} ~~~& \\to & ~ [A,BC] = B[A,C] + [A,B]C \\nonumber\\\\ \\rule{0mm}{5mm}\n",
    "{\\rm Identidad \\ de \\, Jacobi}~~~~ & \\to & ~ [A,[B,C]] + [B,[C,A]] + [C,[A,B]] = 0 \n",
    "\\end{eqnarray}\n"
   ]
  },
  {
   "cell_type": "markdown",
   "id": "3556bc0b",
   "metadata": {},
   "source": [
    "- La conmutatividad de dos operadores $[A,B]=0$ es una propiedad algebráica muy deseable que, cuando se da, implica propiedades  muy ventajosas. "
   ]
  },
  {
   "cell_type": "markdown",
   "id": "8c731121",
   "metadata": {},
   "source": [
    "## Traza de un operador\n",
    "\n",
    "La traza de un operador se define como la suma de los elementos diagonales de la matriz que lo representa en una base\n",
    "\n",
    "$$\n",
    "{\\rm tr} A \\equiv \\sum_{i} A_{ii} =   \\sum_{i} \\bra{i}A\\ket{i} \n",
    "$$\n",
    "\n"
   ]
  },
  {
   "cell_type": "markdown",
   "id": "ec9cf29e",
   "metadata": {},
   "source": [
    "La traza de $A$ es *independiente de la base* (por eso decimos que es *del operador*)\n",
    "\n",
    "\\begin{eqnarray}\n",
    "{\\rm tr} A &=& \\sum_{i} \\bra{i}A\\ket{i} =\\sum_{i} \\bra{i}A\\sum_j\\ket{\\tilde j}\\braket{\\tilde j}{i}\n",
    "\\nonumber\\\\\n",
    "&=& \\sum_{j} \\bra{\\tilde j}\\sum_i\\ket{i}\\bra{i} A \\ket{\\tilde j}\\nonumber\\\\\n",
    "&=& \\sum_{j} \\bra{\\tilde j}A\\ket{\\tilde j}\\nonumber\\\\\n",
    "&=& \\sum_j \\tilde A_{jj}\n",
    "\\end{eqnarray}\n"
   ]
  },
  {
   "cell_type": "markdown",
   "id": "ad37aec1",
   "metadata": {},
   "source": [
    "La traza de un producto de operadores tiene la propiedad de *cíclicidad*: es invariante bajo permutaciones cíclicas de los operadores en su argumento. Por ejemplo, para tres operadores $A, B$ y $C$\n",
    "\n",
    "$$\n",
    "{\\rm tr}(ABC)= {\\rm tr}(BCA) \n",
    "$$"
   ]
  },
  {
   "cell_type": "markdown",
   "id": "54adf564",
   "metadata": {},
   "source": [
    "<div class=\"alert alert-block alert-success\">\n",
    "<b>Ejercicio:</b>$~$\n",
    "demuestra este resultado\n",
    "<details>\n",
    "<summary><p style=\"text-align:right\"> >> Solución </p></summary>\n",
    "\\begin{eqnarray}\n",
    "{\\rm tr}(ABC)&=& \\sum_{i,j,k}A_{ij}B_{jk}C_{ki} =\\sum_{j,k,i}B_{jk}C_{ki}A_{ij}={\\rm tr}(BCA) \\end{eqnarray}\n",
    "</details>    \n"
   ]
  },
  {
   "cell_type": "markdown",
   "id": "62a2b7ae",
   "metadata": {},
   "source": [
    "Para un producto de dos operadores, el anterior resultado implica que la *traza de un conmutador es cero*. Dicho de otra forma\n",
    "\n",
    "$$\n",
    "{\\rm tr}(AB) = {\\rm tr}(BA) ~~~\\Rightarrow ~~~~{\\rm tr}([A,B]) = 0 \\, .\n",
    "$$"
   ]
  },
  {
   "cell_type": "markdown",
   "id": "7129598d",
   "metadata": {},
   "source": [
    "## Funciones analíticas\n",
    "\n",
    "Estamos acostumbrados a escribir funciones de una variable real o compleja. Por ejemplo $x\\to f(x)= x^2$, o $z\\to f(z) = e^z$. \n",
    "\n",
    "Querríamos dar sentido a una función de un operador \n",
    "$$\n",
    "A \\to f(A)\n",
    "$$\n",
    "\n",
    "En el caso de que $f(z)$ sea una función analítica expresable como una serie de Taylor en torno a $x=0$ \n",
    "\n",
    "$$\n",
    "f(z) = \\sum_{n=0}^\\infty \\frac{1}{n!} f^{(n)}(0)\\,  z^n\n",
    "$$\n",
    "\n",
    "tomaremos como definición la misma serie cambiando el argumento $x\\to A$\n",
    "\n",
    "$$\n",
    "f(A) = \\sum_{n=0}^\\infty \\frac{1}{n!} f^{(n)}(0)\\,  A^n\n",
    "$$\n",
    "\n",
    "Por ejemplo, la exponencial de un operador sera\n",
    "\n",
    "$$\n",
    "\\exp(A) = I + A + \\frac{1}{2} A^2 + \\frac{1}{3!} A^3 + ...\n",
    "$$\n",
    "\n",
    "Para el caso en que $f(z)$ sea una función no analítica daremos para $f(A)$ una expresión más general en el capítulo siguiente.\n",
    "\n"
   ]
  },
  {
   "cell_type": "markdown",
   "id": "266afacd",
   "metadata": {},
   "source": [
    "<div class=\"alert alert-block alert-danger\">\n",
    "<b>Notar:</b> \n",
    "<br>\n",
    "De la misma forma que, para funciones analíticas $f(z)^* = f(z^*)$, también la definición anterior asegura que \n",
    "$f(A)^\\dagger = f(A^\\dagger)$\n",
    "</div>"
   ]
  },
  {
   "cell_type": "markdown",
   "id": "dcb42ac4",
   "metadata": {},
   "source": [
    "<a id='prodext'></a>\n",
    "<table width=\"100%\">\n",
    "    <td style=\"font-size:25px;font-family:Helvetica;text-align:left;background-color:rgba(12, 43, 337, 0.3);\">\n",
    "<b>Espacio Vectorial  ${\\rm L}(\\Hil)$ </b>\n",
    "</table>   "
   ]
  },
  {
   "cell_type": "markdown",
   "id": "2c06f862",
   "metadata": {},
   "source": [
    "Pensemos en el <i>conjunto</i> de **todos** <i>los operadores lineales</i> sobre un espacio vectorial $\\Hil$. Podemos ver que este conjunto tiene, de forma natural, una estructura de espacio vectorial. \n",
    "\n",
    "En efecto, sean $A$ y $B$ dos operadores, y $\\lambda\\in {\\bf C}$ un número complejo entonces tanto la suma $C = A+B$ como la multiplicación externa $D=\\lambda A$ son nuevos operadores definidos por su acción sobre un vector cualquiera $\\ket{v}\\in \\Hil$\n",
    "\n",
    "\n",
    "<br>\n",
    "$$\n",
    "C\\ket{v} ~=~ (A + B) \\ket{v} = A\\ket{v} + B\\ket{v}\n",
    "$$\n",
    "<br>\n",
    "$$\n",
    "D\\ket{v} ~=~ (\\lambda A) \\ket{v} = \\lambda (A\\ket{v})\n",
    "$$\n"
   ]
  },
  {
   "cell_type": "markdown",
   "id": "9bad911c",
   "metadata": {},
   "source": [
    "Esto quiere decir que los operadores lineal sobre $\\Hil$ forman, ellos mismos, un espacio vectorial que recibe el nombre de ${\\rm Lin}(\\Hil)$."
   ]
  },
  {
   "cell_type": "markdown",
   "id": "74c2ef4b",
   "metadata": {
    "slideshow": {
     "slide_type": "slide"
    }
   },
   "source": [
    "## Operador Adjunto\n",
    "\n",
    "La conjugación adjunta se puede extender a ${\\rm Lin}(\\Hil)$\n",
    "<br><br>\n",
    "\n",
    "$$\n",
    "\\dagger ~\\to ~\n",
    "\\left\\{\n",
    "\\begin{matrix}\n",
    "z & \\leftrightarrow  &  z^* \\\\\n",
    "|u\\rangle & \\leftrightarrow &   \\langle u | \\\\\n",
    "A & \\leftrightarrow & A^{\\dagger}\n",
    "\\end{matrix}\n",
    "\\right. \\hspace{5cm}\n",
    "$$\n",
    "<br>\n",
    "\n",
    "y hay <b>dos reglas más</b> que permiten aplicar $\\dagger$ a sumas y productos de <i> objetos </i> $a \\in\\{z,\\ket{u},A\\}$\n",
    "<br>\n",
    "\n",
    "- *linealidad* $( a + b)^\\dagger = a^\\dagger + b^\\dagger $\n",
    "<br>\n",
    "\n",
    "- *trasposición* $(ab)^\\dagger = b^\\dagger a^\\dagger$ (sólo relevante cuando $a$ y $b$ no conmuten)\n",
    "<br>\n",
    "<br>\n",
    "\n",
    "Veamos dos ejemplos\n",
    "<br>\n",
    "1. $\n",
    "\\ket{v} = A\\ket{u} ~~~~\\Leftrightarrow ~~~~\\bra{v} = \\bra{u}A^\\dagger\n",
    "~~$ donde el operador en la derecha actúa sobre el *bra* a su izquierda.\n",
    "<br>\n",
    "<br>\n",
    "2. \n",
    "$\n",
    "\\bra{w}A\\ket{u}^* = (\\bra{w}A\\ket{u})^\\dagger = \\bra{u}A^\\dagger\\ket{w}\n",
    "$\n",
    "\n"
   ]
  },
  {
   "cell_type": "markdown",
   "id": "700ae793",
   "metadata": {
    "slideshow": {
     "slide_type": "slide"
    }
   },
   "source": [
    "### Matriz adjunta\n",
    "\n",
    "Estas reglas nos permiten obtener el adjunto de un operador\n",
    "\n",
    "\n",
    "<br>\n",
    "\n",
    "\n",
    "$$\n",
    "A^\\dagger = \\sum_{ij}\\left( A_{ij}|e_i\\rangle\\langle e_j|\\right)^\\dagger = \\sum_{ij} \\, |e_j\\rangle\\langle e_i|A_{ij}^* =  \\sum_{ij} \\, A_{ji}^*\\ket{e_i}\\bra{e_j}\n",
    "$$\n",
    "<br>\n",
    "\n",
    "\n",
    "Vemos que la matriz que representa $A^\\dagger$ es la *matriz adjunta* de $A_{ij}$ que es la traspuesta y conjugada\n",
    "\n",
    "<br>\n",
    "\n",
    "\n",
    "$$\n",
    "(A^\\dagger)_{ij} = A^*_{ji} = (A^{*}_{ij})^t \\equiv (A_{ij})^\\dagger\n",
    "$$\n",
    "\n",
    "donde $^\\dagger$ significa el adjunto de un operador a la izquierda, y de una matriz a la derecha.\n",
    "\n",
    "<br>"
   ]
  },
  {
   "cell_type": "markdown",
   "id": "8566668e",
   "metadata": {
    "slideshow": {
     "slide_type": "slide"
    }
   },
   "source": [
    "<a id='optipos'></a>\n",
    "<table width=\"100%\">\n",
    "    <td style=\"font-size:25px;font-family:Helvetica;text-align:left;background-color:rgba(12, 43, 337, 0.3);\">\n",
    "<b>Clases de operadores</b>\n",
    "</table>   \n"
   ]
  },
  {
   "cell_type": "markdown",
   "id": "aded7ae8",
   "metadata": {},
   "source": [
    "Si $\\Hil$ tiene dimensión $N$, un *operador general* $A\\in {\\rm Lin}(\\Hil)$ se especifica mediante una matriz de $N^2$ números complejos $\\Rightarrow A = A_{ij}\\ket{e_i}\\bra{e_j}$. $N^2$ números complejos equivalen a $2N^2$ números reales. \n",
    "\n",
    "En otras palabras: $A$  tiene $N^2$ grados de libertad complejos y, por tanto, ésta es la dimension del espacio ${\\rm Lin}(\\Hil)$ es  \n",
    "<br>\n",
    "\n",
    "$$ {\\rm dim}_{\\bf R}(\\Hil) = 2N ~~~ \\Longleftrightarrow ~~~ {\\rm dim}_{\\bf R}({\\rm Lin}(\\Hil)) = 2\\,{\\rm dim}_{\\bf C}({\\rm Lin}(\\Hil))= 2N^2\n",
    "$$\n",
    "<br>\n",
    "\n",
    "Vamos a considerar clases de operadores que satisfagan algún tipo de *condición*. "
   ]
  },
  {
   "cell_type": "markdown",
   "id": "feff2a03",
   "metadata": {
    "slideshow": {
     "slide_type": "-"
    }
   },
   "source": [
    "## Operador Unitario"
   ]
  },
  {
   "cell_type": "markdown",
   "id": "011c2b16",
   "metadata": {
    "slideshow": {
     "slide_type": "-"
    }
   },
   "source": [
    "<div class=\"alert alert-block alert-info\",text-align:center>\n",
    "<p style=\"text-align: center;\"> <p style=\"text-align: left ;color: navy;\">  \n",
    "<b> Definición: </b> un <i>operador unitario</i> $U$ es tal que su <i>adjunto</i> es igual a su <i>inverso</i>. Es decir verifica la siguiente ecuación\n",
    "<br><br>    \n",
    "$$\n",
    "\\fbox{$U^\\dagger = U^{-1}$}  \\, \n",
    "$$\n",
    "<p>\n",
    "</div>\n",
    "<br>\n",
    "\n",
    "Naturalmente, esta ecuación se traduce en la misma ecuación para las matrices asociadas\n",
    "<br>\n",
    "<br>\n",
    "$$\n",
    "(U_{ij})^\\dagger = U_{ji}^* = U^{-1}_{ij}\n",
    "$$\n",
    "<br>\n",
    "Veamos ahora por qué hemos definido esta clase de operadores."
   ]
  },
  {
   "cell_type": "markdown",
   "id": "760bef77",
   "metadata": {},
   "source": [
    "\n",
    "<div class=\"alert alert-block alert-info\",text-align:center>\n",
    "<p style=\"text-align: left ;color: navy;\">  \n",
    "<b>Teorema:</b>\n",
    "$~$vectores transformados por un operador unitario  conservan intacto el producto escalar mutuo. En particular conservan intacta su norma. \n",
    "<p>\n",
    "</div>\n",
    "\n",
    "*Prueba:*\n",
    "<br>\n",
    "Efectivamente sean $U$ un operador unitario, y $\\ket{\\varphi'}=U\\ket{\\varphi}$ y $\\ket{\\psi'} = U\\ket{\\psi}$\n",
    "dos vectores transformados por $U$, entonces\n",
    "<br>\n",
    "<br>\n",
    "$$\n",
    "\\braket{\\varphi'}{\\psi'} = (\\bra{\\varphi}U^\\dagger)(U\\ket{\\psi}) = \\bra{\\varphi} U^\\dagger U \\ket{\\psi} = \n",
    "\\braket{\\varphi}{\\psi}\n",
    "$$\n",
    "\n",
    "<br>\n",
    "\n",
    "particularizando para $\\ket{\\varphi} = \\ket{\\psi}$ tenemos que un operador unitario *conserva la norma*.\n"
   ]
  },
  {
   "cell_type": "markdown",
   "id": "de232a12",
   "metadata": {},
   "source": [
    "<div class=\"alert alert-block alert-info\",text-align:center>\n",
    "<p style=\"text-align: left ;color: navy;\">  \n",
    "<b>Lema:</b>$~$ la composición de dos operadores $U$ y $V$  unitarios es unitaria. Sin embargo, la <i>combinación lineal</i> de operadores unitarios no es unitaria.\n",
    "</div>\n",
    "\n",
    "<div class=\"alert alert-block alert-success\">\n",
    "<b>Ejercicio:</b>\n",
    "demuestra este sencillo pero importante resultado. \n",
    "\n",
    "<br>\n",
    "<details>\n",
    "<summary><p style=\"color:blue;text-align:right\"> >> Solución </p></summary>\n",
    "\n",
    "$$\n",
    "(UV)^\\dagger = V^\\dagger U^\\dagger = V^{-1}U^{-1} = (UV)^{-1} \n",
    "$$\n",
    "    \n",
    "\n",
    "$$\n",
    " (U+V)^\\dagger = V^\\dagger+ U^\\dagger = V^{-1}+U^{-1} \\neq  (U+V)^{-1}\n",
    "$$\n",
    "    \n",
    "    \n",
    "</details>\n",
    "</div>       "
   ]
  },
  {
   "cell_type": "markdown",
   "id": "736a325a",
   "metadata": {},
   "source": [
    "Por tanto, los operadores unitarios <i>no forman</i> un subespacio vectorial dentro de ${\\rm L}(\\Hil)$. Aun así, forman una variedad (un conjunto continuo)  que se puede parametrizar mediante una colección de parámetros. El número de parámetros es la dimensión de dicha variedad. Será igual a la del conjunto de matrices unitarias (en una base hay una relación 1 a 1)  \n"
   ]
  },
  {
   "cell_type": "markdown",
   "id": "3bc59f96",
   "metadata": {},
   "source": [
    "<div class=\"alert alert-block alert-success\">\n",
    "    <b>Ejercicio:</b>\n",
    "resta de $2N^2$ el número de ecuaciones que restringen la matriz de un operador unitario y halla así la dimensión (real) del conjunto asociado.\n",
    "\n",
    "\n",
    "<br>\n",
    "<details>\n",
    "<summary><p style=\"color:blue;text-align:right\"> >> Solución </p></summary>\n",
    "Dada una matriz $U_{ij}$ la ecuación $U^\\dagger_{ij} = U^{-1}_{ij}$ son $N^2$ ecuaciones que son funciones de $2N^2$ parámetros. Por tanto $2N^2- N^2 = N^2$ es la dimensión del conjunto unitario. \n",
    "    \n",
    "</details>  \n",
    "    \n",
    "</div>    "
   ]
  },
  {
   "cell_type": "markdown",
   "id": "90860b2f",
   "metadata": {
    "slideshow": {
     "slide_type": "slide"
    }
   },
   "source": [
    "### Bases ortonormales\n",
    "\n",
    "Como caso particular, aplicando un operador unitario $U$ a una base ortonormal $\\{\\ket{e_i}\\}$ obtenemos otra base ortonormal $\\{\\ket{e'_i}\\}$\n",
    "\n",
    "<br>\n",
    "\n",
    "$$\n",
    "\\ket{e'_i} = U\\ket{e_i}  ~~~~ \\Leftrightarrow ~~~~\\braket{e'_i}{e'_j} = \\braket{e_i}{e_j} = \\delta_{ij}\n",
    "$$\n",
    "\n",
    "<br>"
   ]
  },
  {
   "cell_type": "markdown",
   "id": "96f916f4",
   "metadata": {
    "slideshow": {
     "slide_type": "-"
    }
   },
   "source": [
    "<div class=\"alert alert-block alert-danger\">\n",
    "    <b>Notar:</b>\n",
    "    \n",
    "1. Inversamente, dadas dos bases ortonormales, siempre se pueden relacionar bajo la acción de un operador unitario.\n",
    "\n",
    "    \n",
    "2. Un  <i>operador ortogonal</i> es un caso particular  operador unitario con elementos de matriz reales. El operador de rotación $R(\\theta)$ que hemos estudiado al comienzo de este tema es un operador ortogonal. Es inmediato comprobar que \n",
    "\n",
    "$$ R(\\theta)^\\dagger =R(\\theta)^t = R(-\\theta) = R(\\theta)^{-1}$$\n",
    "    \n",
    "</div>"
   ]
  },
  {
   "cell_type": "code",
   "execution_count": 5,
   "id": "1e1f2a9e",
   "metadata": {
    "slideshow": {
     "slide_type": "slide"
    }
   },
   "outputs": [
    {
     "data": {
      "text/markdown": [
       "$U = \\begin{bmatrix}0.71+0.00j&0.00+0.71j\\\\0.00+0.71j&0.71+0.00j\\end{bmatrix}$"
      ],
      "text/plain": [
       "<IPython.core.display.Markdown object>"
      ]
     },
     "metadata": {},
     "output_type": "display_data"
    },
    {
     "data": {
      "text/markdown": [
       "$U^{\\dagger} = \\begin{bmatrix}0.71-0.00j&0.00-0.71j\\\\0.00-0.71j&0.71-0.00j\\end{bmatrix}$"
      ],
      "text/plain": [
       "<IPython.core.display.Markdown object>"
      ]
     },
     "metadata": {},
     "output_type": "display_data"
    },
    {
     "name": "stdout",
     "output_type": "stream",
     "text": [
      "comprobamos que U es unitaria\n"
     ]
    },
    {
     "data": {
      "text/markdown": [
       "$U^{\\dagger}U = \\begin{bmatrix}1.00+0.00j&0.00+0.00j\\\\0.00+0.00j&1.00+0.00j\\end{bmatrix}$"
      ],
      "text/plain": [
       "<IPython.core.display.Markdown object>"
      ]
     },
     "metadata": {},
     "output_type": "display_data"
    }
   ],
   "source": [
    "U=np.matrix([[1,1J],[1J, + 1]])/np.sqrt(2)\n",
    "Display('$U = {}$'.format(MatrixToLatex(U)))\n",
    "\n",
    "Uadj=U.getH() # getH es un método de la clase matrix que devuelve la matriz conjugada hermítica\n",
    "Display('$U^{\\dagger} = %s$'%(MatrixToLatex(Uadj)))\n",
    "\n",
    "#Uinv=U.getI()  # getI es un método de la clase matrix que devuelve la matriz inversa\n",
    "#Display('$U^{-1} = %s$'%(MatrixToLatex(Uinv)))\n",
    "\n",
    "print('comprobamos que U es unitaria')\n",
    "\n",
    "Display('$U^{\\dagger}U = %s$'%MatrixToLatex(np.dot(Uadj,U)))"
   ]
  },
  {
   "cell_type": "markdown",
   "id": "23206cfc",
   "metadata": {},
   "source": [
    "### Descomposición Polar"
   ]
  },
  {
   "cell_type": "markdown",
   "id": "2905bad3",
   "metadata": {},
   "source": [
    "<div class=\"alert alert-block alert-info\",text-align:center>\n",
    "<p style=\"text-align: center;\"> <p style=\"text-align: left ;color: navy;\">  \n",
    "<b> Teorema: </b> todo operador $A\\in{\\rm L}(\\Hil)$ admite la descomposición polar $A = UR$ donde $U$ es un operador unitario, y $R$ es un operador semi-definido positivo (sólo tiene autovalores positivos o cero) \n"
   ]
  },
  {
   "cell_type": "markdown",
   "id": "1916fb91",
   "metadata": {},
   "source": [
    "La descomposición polar es *única* y generaliza la representación polar de números complejos $z = r e^{i\\phi}$ a operadores. El hecho de que $r\\geq 0$ es la contrapartida a que $R$ sea semi-definida positiva. El factor $e^{i\\phi}$ es análogo al hecho de que un operador unitario, como veremos, sólo tiene autovalores que son fases puras. "
   ]
  },
  {
   "cell_type": "code",
   "execution_count": 13,
   "id": "a1b00efb",
   "metadata": {
    "slideshow": {
     "slide_type": "-"
    }
   },
   "outputs": [
    {
     "data": {
      "text/markdown": [
       "$U = \\begin{bmatrix}0.69&-0.28&0.67\\\\-0.30&0.73&0.61\\\\0.67&0.62&-0.42\\end{bmatrix}$"
      ],
      "text/plain": [
       "<IPython.core.display.Markdown object>"
      ]
     },
     "metadata": {},
     "output_type": "display_data"
    },
    {
     "data": {
      "text/markdown": [
       "$U^{\\dagger}U = \\begin{bmatrix}1.00&0.00&0.00\\\\0.00&1.00&-0.00\\\\0.00&-0.00&1.00\\end{bmatrix}$"
      ],
      "text/plain": [
       "<IPython.core.display.Markdown object>"
      ]
     },
     "metadata": {},
     "output_type": "display_data"
    }
   ],
   "source": [
    "'''Método para construir una matriz unitaria arbitraria usando la descomposición polar'''\n",
    "A = 10*np.random.rand(3, 3)\n",
    "#u, s, vh = linalg.svd(A, full_matrices=False)\n",
    "u, r = linalg.polar(A)\n",
    "U=np.matrix(u)\n",
    " \n",
    "Display('$U = %s$'%MatrixToLatex(U))\n",
    "'''Verifiquemos unitariedad'''\n",
    "Display('$U^{\\dagger}U = %s$'%MatrixToLatex(np.dot(U.getH(),U)))"
   ]
  },
  {
   "cell_type": "markdown",
   "id": "fd2df1b2",
   "metadata": {},
   "source": [
    "## Operador Normal"
   ]
  },
  {
   "cell_type": "markdown",
   "id": "54cf5a03",
   "metadata": {
    "slideshow": {
     "slide_type": "slide"
    }
   },
   "source": [
    "### Operador Hermítico"
   ]
  },
  {
   "cell_type": "markdown",
   "id": "9b527e73",
   "metadata": {
    "slideshow": {
     "slide_type": "-"
    }
   },
   "source": [
    "<div class=\"alert alert-block alert-info\",text-align:center>\n",
    "<p style=\"text-align: center;\"> <p style=\"text-align: left ;color: navy;\">  \n",
    "<b> Definición: </b> un operador <i>Hermítico</i>   $A$  verifica la ecuación siguiente\n",
    "<br><br>\n",
    "$$\n",
    "A = A^\\dagger \n",
    "$$\n",
    "<br>\n",
    "y por ello, también se denomina   <i>autoadjunto</i>.\n",
    "</div>\n",
    "<br>\n"
   ]
  },
  {
   "cell_type": "markdown",
   "id": "cd5d6615",
   "metadata": {},
   "source": [
    "- Es evidente que un operador hermítico es un operador normal, pero a la inversa no tiene por qué."
   ]
  },
  {
   "cell_type": "markdown",
   "id": "d2956bc2",
   "metadata": {},
   "source": [
    "- La **combinación lineal** de dos operadores *hermíticos*  con coeficientes *reales* es un operador *hermítico*\n",
    "<br>\n",
    "<br>\n",
    "$$\n",
    "C^\\dagger = (a A + b B)^\\dagger = a^* A^\\dagger + b^* B^\\dagger = aA + b B = C\n",
    "$$\n",
    "<br>\n",
    "En otras palabras, los operadores hermíticos forman un subespacio vectorial real dentro de ${\\rm L}(\\Hil)$. "
   ]
  },
  {
   "cell_type": "markdown",
   "id": "b9ef3bc5",
   "metadata": {},
   "source": [
    "- La matriz asociada a un operador hermítico también se llama hermítica, y coincide con su traspuesta y conjugada\n",
    "<br>\n",
    "\n",
    "$$\n",
    "A_{ij} = A^\\dagger_{ij} \\equiv = A^{*t}_{ij} = A^*_{ji}   \\hspace{4cm}\n",
    "$$\n",
    "\n",
    "Las matrices hermíticas también forman un subespacio vectorial."
   ]
  },
  {
   "cell_type": "markdown",
   "id": "a959a354",
   "metadata": {
    "slideshow": {
     "slide_type": "slide"
    }
   },
   "source": [
    "<div class=\"alert alert-block alert-danger\">\n",
    "    <b>Notar:</b>\n",
    "<br>\n",
    "A partir de cualquier operador $C\\neq C^\\dagger $ siempre podemos construir un operador hermítico $A=A^\\dagger$ mediante la combinación lineal\n",
    "<br>    \n",
    "\n",
    "$$\n",
    "A = C + C^\\dagger\n",
    "$$\n",
    "<br>\n",
    "donde $a$ es un número real. Esto se extiende trivialmente a las matrices que los representan en cualquier base\n",
    "    \n",
    "<br> \n",
    "$$\n",
    "A_{ij} = C_{ij} + C_{ji}^*\n",
    "$$ \n",
    "   \n",
    "</div>"
   ]
  },
  {
   "cell_type": "markdown",
   "id": "98a3d781",
   "metadata": {},
   "source": [
    "<div class=\"alert alert-block alert-success\">\n",
    "    <b>Ejercicio:</b>\n",
    "Resta de $2N^2$ el número de ecuaciones que restringen la matriz de un operador hermítico y halla así la dimensión del subespacio hermítico. \n",
    "</div>"
   ]
  },
  {
   "cell_type": "markdown",
   "id": "f667d6f0",
   "metadata": {
    "slideshow": {
     "slide_type": "slide"
    }
   },
   "source": [
    "<div class=\"alert alert-block alert-success\">\n",
    "    <b>Ejercicio:</b>\n",
    "Genera una matriz hermítica $3\\times 3$ de elementos de matriz aleatorios \n",
    "    \n",
    " <details>\n",
    "<summary><p style=\"color:green\"> >> Solución </p></summary>\n",
    "\n",
    "</details>\n",
    "</div>"
   ]
  },
  {
   "cell_type": "code",
   "execution_count": 12,
   "id": "9b61feea",
   "metadata": {
    "slideshow": {
     "slide_type": "-"
    }
   },
   "outputs": [
    {
     "data": {
      "text/markdown": [
       "$H = \\begin{bmatrix}7.48+0.00j&4.85+2.90j&3.67+1.56j\\\\4.85-2.90j&2.91+0.00j&2.56-0.29j\\\\3.67-1.56j&2.56+0.29j&5.42+0.00j\\end{bmatrix}$"
      ],
      "text/plain": [
       "<IPython.core.display.Markdown object>"
      ]
     },
     "metadata": {},
     "output_type": "display_data"
    },
    {
     "data": {
      "text/plain": [
       "matrix([[ True,  True,  True],\n",
       "        [ True,  True,  True],\n",
       "        [ True,  True,  True]])"
      ]
     },
     "execution_count": 12,
     "metadata": {},
     "output_type": "execute_result"
    }
   ],
   "source": [
    "# Podemos generar una matriz hermítica H a partir de una matriz general A haciendo H = (A + A^+)/2 \n",
    "A = np.matrix(10*np.random.rand(3, 3)+ 10*1J*np.random.rand(3, 3))\n",
    "Aadj=np.matrix(A).getH()\n",
    "H = (A+Aadj)/2\n",
    "\n",
    "Display('$H = %s$'%(MatrixToLatex(H)))\n",
    "# Verifiquemos hermiticidad\n",
    "H==H.getH()"
   ]
  },
  {
   "cell_type": "markdown",
   "id": "e187b3cb",
   "metadata": {
    "slideshow": {
     "slide_type": "slide"
    }
   },
   "source": [
    "## Proyector"
   ]
  },
  {
   "cell_type": "markdown",
   "id": "5f6445d6",
   "metadata": {
    "slideshow": {
     "slide_type": "-"
    }
   },
   "source": [
    "Ya hemos estudiado el caso de operadores de la forma $A = \\ket{v}\\bra{u}$. Como vimos, son los ladrillos fundamentales para construir operadores más generales. Vamos a particularizar para el caso de que $\\ket{u}=\\ket{u}$ y sean unitarios\n",
    "\n",
    "El operador $P = \\ket{u}\\bra{u}$ proyecta cualquier vector en la dirección de $\\ket{u}$\n",
    "\n",
    "$$\n",
    "P \\ket{w} = \\ket{u}\\braket{u}{w} = a \\ket{u}\n",
    "$$\n",
    "\n",
    "donde $a = \\braket{u}{w}$. \n",
    "\n",
    "Aplicado al vector $\\ket{u}$ lo deja invariante\n",
    "\n",
    "$$\n",
    "P \\ket{u} = \\ket{u}\\braket{u}{u} =  \\ket{u}\n",
    "$$"
   ]
  },
  {
   "cell_type": "markdown",
   "id": "4fea826a",
   "metadata": {
    "slideshow": {
     "slide_type": "slide"
    }
   },
   "source": [
    "Es por esto que una segunda aplicación de $P$ no modifica el resultado\n",
    "\n",
    "$$\n",
    "P(P \\ket{w}) =  \\braket{u}{w} P(\\ket{u}) = \\braket{u}{w} \\ket{u}\n",
    "$$\n",
    "<br>\n",
    "\n",
    "Como el vector $\\ket{w}$ es arbitrario, que $P^2\\ket{w} = P\\ket{w}$ sean siempre iguales es una propiedad del operador $P$.\n",
    "De hecho esta propiedad define una clase de operadores. "
   ]
  },
  {
   "cell_type": "markdown",
   "id": "9a5e5e4a",
   "metadata": {
    "slideshow": {
     "slide_type": "slide"
    }
   },
   "source": [
    "<div class=\"alert alert-block alert-info\",text-align:center>\n",
    " <p style=\"text-align: left ;color: navy;\">  \n",
    "<b> Definición: </b> \n",
    "un <i>proyector</i> es un operador hermítico que verifica la ecuación\n",
    "<br><br>\n",
    "$$\n",
    "P^2 = P\n",
    "$$\n",
    "<br>\n",
    "</div>\n",
    "\n",
    "\n",
    "</table>\n",
    "\n",
    "\n",
    "- Dos proyectores $P_1^2=P_1$ y $P_2^2 = P_2$ son ortogonales si verifican\n",
    "\n",
    "<br>\n",
    "\n",
    "$$\n",
    "P_1 P_2 = 0 \\hspace{5cm}\n",
    "$$\n",
    "<br>\n",
    "\n",
    "en cuyo caso proyectan sobre vectores ortogonales. \n",
    "\n",
    "<br>\n",
    "\n",
    "\n"
   ]
  },
  {
   "cell_type": "markdown",
   "id": "8540a30a",
   "metadata": {
    "slideshow": {
     "slide_type": "skip"
    }
   },
   "source": [
    "<div class=\"alert alert-block alert-warning\">\n",
    "    <b>Ejemplo:</b>\n",
    "    \n",
    "1. El operador $P_1 = \\ket{e_1}\\bra{e_1}$ proyecta cualquier vector sobre su componente a lo largo de $\\ket{e_1}$  \n",
    "\n",
    "$$\n",
    "P\\ket{u}=\\ket{e_1}\\braket{e_1}{u} = \\ket{e_1}\\bra{e_1}\\left( \\sum_{i=1}^N u_i\\ket{e_i}\\right) = \\sum_{i=1}^N u^i \\ket{e_1}\\braket{e_1}{e_i} = \n",
    "\\sum_{i=1}^N u^i \\ket{e_1}\\delta_{1i} = u^1 \\ket{e_1}\n",
    "$$\n",
    "\n",
    "Se verifica que $P^2 = \\ket{e_1}\\braket{e_1}{e_1}\\bra{e_1} = \\ket{e_1}\\bra{e_1} = P$ .\n",
    "    \n",
    "En forma matricial\n",
    " $$\n",
    " \\ket{e_1}\\bra{e_1} = \\begin{pmatrix} 1 & 0 & ...& 0 \\end{pmatrix} \\begin{pmatrix} 1 \\\\ 0 \\\\ \\vdots\\\\ 0 \\end{pmatrix} =\n",
    " \\begin{pmatrix} 1 & 0 &  \\cdots & 0 \\\\ 0 & 0  & \\cdots & 0 \\\\ \n",
    " \\vdots & \\vdots &\\vdots & \\vdots  \\\\\n",
    " 0  & 0 & \\cdots & 0\\end{pmatrix}\n",
    " $$\n",
    "de modo que\n",
    "$$\n",
    "    \\ket{e_1}\\braket{e_1}{u} ~= ~\\begin{pmatrix} 1 & 0 &  \\cdots & 0 \\\\ 0 & 0  & \\cdots & 0 \\\\ \n",
    " \\vdots & \\vdots &\\vdots & \\vdots  \\\\\n",
    " 0  & 0 & \\cdots & 0\\end{pmatrix} \\begin{pmatrix} u_1 \\\\ u_2 \\\\ \\vdots \\\\ u_N \\end{pmatrix}\n",
    " = \\begin{pmatrix} u^1 \\\\ 0 \\\\ \\vdots \\\\ 0 \\end{pmatrix} = u^1 \\ket{e_1}\n",
    "$$\n",
    "    \n",
    "Es evidente que $P$ *no conserva la norma*, por tanto, no es un operador unitario.\n",
    "    \n",
    "2. Si $\\ket{u} = \\sum_i u^i\\ket{e_i}$ con $\\|\\ket{u}\\|=1$ entonces el proyector a lo largo de $\\ket{u}$ viene dado por\n",
    "\n",
    "    $$\n",
    "    P = \\ket{u}\\bra{u} = \\sum_{i,j} u_i u_j \\ket{e_i}\\bra{e_j}\n",
    "    $$\n",
    "  Es decir le está asociada una matriz dada por $P_{ij}=u_iu_j$. Es trivial verificar que $\\sum_j P_{ij}P_{jk} = P_{ik}$.\n",
    "    \n",
    "3. Si $\\ket{u}$ y $\\ket{v}$ son vectores ortonormales $\\braket{u}{v}=0$ entonces las projeccions consecutivas son nulas\n",
    "    $$\n",
    "    P_u\\cdot P_v = \\ket{u}\\braket{u}{v}\\bra{v} = 0\n",
    "    $$\n",
    "</div>\n"
   ]
  },
  {
   "cell_type": "markdown",
   "id": "f7178c2b",
   "metadata": {
    "slideshow": {
     "slide_type": "-"
    }
   },
   "source": [
    "<div class=\"alert alert-block alert-danger\">\n",
    "    <b>Notar:</b>\n",
    "<br>    \n",
    "    El proyector es un operador <i>no-unitario</i>: la proyección no conserva la norma  \n",
    "<br>\n",
    "<br>\n",
    "$$\n",
    "\\| P\\ket{w}\\|^2 = \\bra{w}P^\\dagger P\\ket{w} = \\bra{w} P\\ket{w}= \\braket{w}{u}\\braket{u}{w} = |\\braket{u}{w}|^2 \\neq |\\braket{w}{w}|^2  = \\| \\ket{w}\\|^2\n",
    "$$\n",
    "\n",
    "<br>\n",
    "\n",
    "</div>"
   ]
  },
  {
   "cell_type": "code",
   "execution_count": null,
   "id": "1525536a",
   "metadata": {},
   "outputs": [],
   "source": []
  }
 ],
 "metadata": {
  "kernelspec": {
   "display_name": "Python 3",
   "language": "python",
   "name": "python3"
  },
  "language_info": {
   "codemirror_mode": {
    "name": "ipython",
    "version": 3
   },
   "file_extension": ".py",
   "mimetype": "text/x-python",
   "name": "python",
   "nbconvert_exporter": "python",
   "pygments_lexer": "ipython3",
   "version": "3.7.10"
  },
  "varInspector": {
   "cols": {
    "lenName": 16,
    "lenType": 16,
    "lenVar": 40
   },
   "kernels_config": {
    "python": {
     "delete_cmd_postfix": "",
     "delete_cmd_prefix": "del ",
     "library": "var_list.py",
     "varRefreshCmd": "print(var_dic_list())"
    },
    "r": {
     "delete_cmd_postfix": ") ",
     "delete_cmd_prefix": "rm(",
     "library": "var_list.r",
     "varRefreshCmd": "cat(var_dic_list()) "
    }
   },
   "types_to_exclude": [
    "module",
    "function",
    "builtin_function_or_method",
    "instance",
    "_Feature"
   ],
   "window_display": false
  }
 },
 "nbformat": 4,
 "nbformat_minor": 5
}
