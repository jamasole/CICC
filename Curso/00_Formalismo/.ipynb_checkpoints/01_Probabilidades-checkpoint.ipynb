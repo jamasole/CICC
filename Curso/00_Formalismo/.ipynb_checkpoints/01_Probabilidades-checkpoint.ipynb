{
 "cells": [
  {
   "cell_type": "markdown",
   "id": "5e3a1fd1",
   "metadata": {
    "slideshow": {
     "slide_type": "slide"
    }
   },
   "source": [
    "<img   src=\"../figuras/logo/TalentQ_LogoPosNegro.png\" align=center  width=\"120\"/>\n",
    "<br>\n",
    "\n",
    "<table width=\"100%\">\n",
    "<td style=\"font-size:42px;font-style:italic;text-align:right;background-color:rgba(0, 160, 120,0.6)\">\n",
    "Probabilidades \n",
    "</td></table>\n",
    "$ \\newcommand{\\bra}[1]{\\langle #1|} $\n",
    "$ \\newcommand{\\ket}[1]{|#1\\rangle} $\n",
    "$ \\newcommand{\\braket}[2]{\\langle #1|#2\\rangle} $\n",
    "$ \\newcommand{\\i}{{\\color{blue} i}} $ \n",
    "$ \\newcommand{\\Hil}{{\\mathbb H}} $\n"
   ]
  },
  {
   "cell_type": "markdown",
   "id": "536517d1",
   "metadata": {},
   "source": [
    "## Variable aleatoria"
   ]
  },
  {
   "cell_type": "markdown",
   "id": "59314d08",
   "metadata": {},
   "source": [
    "Decimos de una variable, $X$, que es aleatoria, cuando\n",
    "<br>\n",
    "\n",
    "- cada consulta de su valor arroja un resultado impredecible\n",
    "<br>\n",
    "\n",
    "- no hay ninguna relación entre los resultados de distintas consultas\n",
    "<br>\n",
    "\n",
    "$X$ puede ser real, compleja, entera, binaria,...  A veces denominamos a la consulta, *medida*, y a veces *tirada*.\n",
    "\n",
    "<br>\n",
    "\n",
    " A pesar de que una variable aleatoria parece algo caótico o carente de información,  hay cierta estructura que se pone de manifiesto en la reiteración de la medida. Basta con anotar los resultados de las tiradas y el número de veces que aparecen\n",
    "\n",
    "<br>\n",
    "\n"
   ]
  },
  {
   "cell_type": "markdown",
   "id": "5b901141",
   "metadata": {},
   "source": [
    "## Frecuencias e Histogramas\n"
   ]
  },
  {
   "cell_type": "markdown",
   "id": "ee55fb34",
   "metadata": {},
   "source": [
    "La tirada repetida de una variable aleatoria conduce a una tabla de datos con posibles repeticiones. \n",
    "Estos datos se pueden agrupar en intervals o *bins* que eliminen cierta precisión numérica. Por ejemplo haciendo que $13.1$ y $13$ pertenezcan al mismo *bin*.\n",
    "\n",
    "Un histograma es un diagrama en el que, por cada *bin*, hay una columna, cuya altura representa el número de sucesos que pertenecen a dicho *bin*\n",
    "\n",
    "En el siguiente ejemplo, puedes ver cómo, la misma lista de datos conduce a distintos histogramas si cambias la anchura de los bins mediante la variable *anchurabins*"
   ]
  },
  {
   "cell_type": "code",
   "execution_count": 1,
   "id": "62a18bbd",
   "metadata": {},
   "outputs": [
    {
     "data": {
      "image/png": "[encoded data removed]",
      "text/plain": [
       "<Figure size 432x288 with 1 Axes>"
      ]
     },
     "metadata": {
      "needs_background": "light"
     },
     "output_type": "display_data"
    }
   ],
   "source": [
    "import numpy as np\n",
    "import matplotlib.pyplot as plt\n",
    "\n",
    "datos1 = [12.2, 15.3, 13, 12.8, 18.1, 13, 20, 19.5, 20.2, 12.1, 12.4, 13.2, 17.9, 14.1, 15, 13.4, 11.1, 14.6, 13, 17.4, 19.2]\n",
    "datos2 = np.linspace(0.,10.,20)\n",
    "datos  = datos1\n",
    "\n",
    "anchura_bins = 1.\n",
    "num_bins = int((max(datos)-min(datos))/anchura_bins) #número de bins\n",
    "bins_list = np.linspace(min(datos), max(datos) + 1 ,num_bins) #calculamos los extremos de los intervalos\n",
    "\n",
    "'generamos una instancia de histograma'\n",
    "counts, bins, ignore = plt.hist(x=datos, bins = bins_list, color='#F2AB6D', rwidth=0.85)\n",
    "plt.xlabel('Datos')\n",
    "plt.ylabel('Frecuencia')\n",
    "plt.xticks(bins_list)\n",
    "\n",
    "'dibujamos el histograma. No es necesario invocar counts ni bins. Basta con plt.hist'\n",
    "plt.show()"
   ]
  },
  {
   "cell_type": "code",
   "execution_count": 8,
   "id": "9170bc0e",
   "metadata": {},
   "outputs": [
    {
     "data": {
      "text/plain": [
       "array([3., 7., 2., 2., 1., 2., 2., 2.])"
      ]
     },
     "execution_count": 8,
     "metadata": {},
     "output_type": "execute_result"
    }
   ],
   "source": [
    "count"
   ]
  },
  {
   "cell_type": "markdown",
   "id": "debf9920",
   "metadata": {},
   "source": [
    "Sea $X$ una variables que puede tomar valores  $X \\in \\{a_1,\\ldots,a_p\\}$. $N$ consultas se repartirán entre los posibles valores $a_i$ con números de aparición $n(a_i)$ tales que  $n(a_1) +  \\ldots + n(a_p) = N$. \n",
    "\n",
    "Cuando $N$ crece, las fracciones relativas *se estabilizan* en valores reales positivos \n",
    "\n",
    "$$\n",
    "p(a_i) = \\frac{n(a_i)}{N}  ~\\in~[0,1]\n",
    "$$\n",
    "\n",
    "que obviamente deben sumar a la unidad\n",
    "\n",
    "$$\n",
    "\\sum_{i=1}^p p(a_i) \\, =\\,  \\sum_{i=1}^p \\frac{n(a_i)}{N} \\, = \\, \\frac{n(a_1) + \\ldots + n(a_p)}{N} \\, =\\,  \\frac{N}{N} = 1\n",
    "$$\n",
    "\n",
    "Dichas fracciones relativas reflejan algo de la estructura interna del sistema físico que describe la variable $x$ y que no se borra totalmente en el promedio. El número $p(a_i)$ al que tienden es la **probabilidad** de aparición del valor $a_i$ en una sola tirada. "
   ]
  },
  {
   "cell_type": "markdown",
   "id": "96be7d9e",
   "metadata": {},
   "source": [
    "## Distribución de probabilidad\n",
    "\n",
    "Una distribución de probabilidad es una función real que asigna un número real $p(x)$ a cualquier *suceso* de la variable $x$ de la variable aleatoria $X$. Para que una función real sea una posible distribución de probabilidad tiene que verificar las dos condiciones siguientes\n",
    "$$\n",
    "p(X) \\in [0,1]~~~~,~~~\\sum_{x\\in X }p(x) = 1 \n",
    "$$\n",
    "Es decir, la suma de todas las probabilidades debe estar normalizada a la unidad.\n",
    "\n",
    "Para especificar completamente una variable aleatoria solemos escribir $(X,p(X))$ donde $p(X)$ es la distribuión de probabilidad. \n",
    "\n"
   ]
  },
  {
   "cell_type": "markdown",
   "id": "90a16245",
   "metadata": {},
   "source": [
    "### Histogramas a partir de distribuciones de probabilidad"
   ]
  },
  {
   "cell_type": "markdown",
   "id": "522779a6",
   "metadata": {},
   "source": [
    "Vamos a estudiar la distribución normal centrada en $\\mu$ y con anchura $\\sigma$\n",
    "$$\n",
    "p(x) = \\frac{1}{\\sqrt{2\\pi}\\sigma} \\exp \\left({-\\frac{(x-\\mu)^2}{2\\sigma^2}}\\right)\n",
    "$$"
   ]
  },
  {
   "cell_type": "code",
   "execution_count": 8,
   "id": "b657be65",
   "metadata": {},
   "outputs": [],
   "source": [
    "'generamos una instancia de la distribución normal'\n",
    "mu, sigma = 0, 0.1 # mean and standard deviation\n",
    "N = 10000\n",
    "s = np.random.normal(mu, sigma, N)"
   ]
  },
  {
   "cell_type": "code",
   "execution_count": 9,
   "id": "cd228bb9",
   "metadata": {},
   "outputs": [
    {
     "data": {
      "image/png": "[encoded data removed]",
      "text/plain": [
       "<Figure size 432x288 with 1 Axes>"
      ]
     },
     "metadata": {
      "needs_background": "light"
     },
     "output_type": "display_data"
    }
   ],
   "source": [
    "import matplotlib.pyplot as plt\n",
    "\n",
    "\n",
    "'generamos una instancia de histograma con un número de bins. Extraemos los bins exactos para'\n",
    "'poder generar luego la gráfica analítica'\n",
    "num_bins=100\n",
    "counts, bins, ignore = plt.hist(s, num_bins, density=True)\n",
    "\n",
    "'dibujamos la función analítica para comparar'\n",
    "def gaussian(x,mu,sigma):\n",
    "    return 1/(sigma * np.sqrt(2 * np.pi))*np.exp( - (x - mu)**2 / (2 * sigma**2) )\n",
    "    \n",
    "plt.plot(bins, gaussian(bins,mu,sigma),linewidth=2, color='r')\n",
    "\n",
    "plt.show()"
   ]
  },
  {
   "cell_type": "markdown",
   "id": "b3e2e5a6",
   "metadata": {},
   "source": [
    "En el límite de número de eventos $N\\to \\infty$, el histograma y la curva matemática confluyen."
   ]
  },
  {
   "cell_type": "markdown",
   "id": "a833c92a",
   "metadata": {},
   "source": [
    "## Estimadores estadísticos"
   ]
  },
  {
   "cell_type": "markdown",
   "id": "54ca12c3",
   "metadata": {},
   "source": [
    "## Probabilidades combinadas"
   ]
  },
  {
   "cell_type": "markdown",
   "id": "f515c9ec",
   "metadata": {},
   "source": [
    "Las probabilidades combinadas son la base de las correlaciones. Es aquí donde la Mecánica Cuántica produce resultados inesperados. "
   ]
  },
  {
   "cell_type": "markdown",
   "id": "e369c63d",
   "metadata": {},
   "source": [
    "Podemos hablar de experimentos simultáneos asociados a dos variables aleatorias $(X,Y,p(X,Y))$. La función de **probabilidad combinada** $p(X,Y)$ asocia un número $p(x,y)\\in[0,1]$ a una pareja de resultados $x$ e $y$ obtenidos independientemente el uno del otro. \n",
    "\n",
    "Hay que tratar las parejas de eventos  como un solo evento combinado $a = (x,y)$. Por eso, la condición de normalización ahora es \n",
    "\n",
    "$$\n",
    "\\sum_a p(a) = \\sum_{xy} p(x,y) = 1\\, .\n",
    "$$\n"
   ]
  },
  {
   "cell_type": "markdown",
   "id": "f975057c",
   "metadata": {},
   "source": [
    "La suma parcial sobre una de las dos variables conduce a sendas **distribuciones marginales**\n",
    "\n",
    "$$\n",
    "\\tilde p(x) = \\sum_{y} p(x,y) ~~~~~~~~~ \\tilde p(y) = \\sum_{x} p(x,y)\n",
    "$$"
   ]
  },
  {
   "cell_type": "markdown",
   "id": "3a0341ba",
   "metadata": {},
   "source": [
    "## Entropía de una variable aleatoria"
   ]
  },
  {
   "cell_type": "markdown",
   "id": "d269f0ef",
   "metadata": {},
   "source": [
    "<div class=\"alert alert-block alert-info\",text-align:center>\n",
    " <p style=\"text-align: left ;color: navy;\">  \n",
    "     <b>Definición:</b>\n",
    "     dada una variable aleatoria $(X,p(X))$ definimos la <i>entropía</i> asociada mediante la expresión\n",
    "     <br>\n",
    "     <br>\n",
    "     $$\n",
    "     H = -\\sum_x p(x)\\log p(x)\n",
    "     $$\n",
    "    </p>\n",
    "    </div>"
   ]
  },
  {
   "cell_type": "markdown",
   "id": "d85bbaee",
   "metadata": {},
   "source": [
    "- El signo negativo hace esta expresión positiva, debido a que $\\log p(x)\\leq 0$.\n",
    "\n",
    "- El valor de $H$ está acotado entre $H\\in [0, 1/N]$ donde $N$ es el número de sucesos $x$ posibles "
   ]
  },
  {
   "cell_type": "code",
   "execution_count": null,
   "id": "c103610a",
   "metadata": {},
   "outputs": [],
   "source": []
  }
 ],
 "metadata": {
  "kernelspec": {
   "display_name": "Python 3",
   "language": "python",
   "name": "python3"
  },
  "language_info": {
   "codemirror_mode": {
    "name": "ipython",
    "version": 3
   },
   "file_extension": ".py",
   "mimetype": "text/x-python",
   "name": "python",
   "nbconvert_exporter": "python",
   "pygments_lexer": "ipython3",
   "version": "3.7.10"
  },
  "varInspector": {
   "cols": {
    "lenName": 16,
    "lenType": 16,
    "lenVar": 40
   },
   "kernels_config": {
    "python": {
     "delete_cmd_postfix": "",
     "delete_cmd_prefix": "del ",
     "library": "var_list.py",
     "varRefreshCmd": "print(var_dic_list())"
    },
    "r": {
     "delete_cmd_postfix": ") ",
     "delete_cmd_prefix": "rm(",
     "library": "var_list.r",
     "varRefreshCmd": "cat(var_dic_list()) "
    }
   },
   "types_to_exclude": [
    "module",
    "function",
    "builtin_function_or_method",
    "instance",
    "_Feature"
   ],
   "window_display": false
  }
 },
 "nbformat": 4,
 "nbformat_minor": 5
}
