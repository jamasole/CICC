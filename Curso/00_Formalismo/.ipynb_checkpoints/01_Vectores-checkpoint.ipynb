{
 "cells": [
  {
   "cell_type": "markdown",
   "id": "da0f67e0",
   "metadata": {
    "slideshow": {
     "slide_type": "slide"
    }
   },
   "source": [
    "\n",
    "<img   src=\"../figuras/logo/TalentQ_LogoPosNegro.png\" align=center  width=\"12%\"/>\n",
    "<br>\n",
    "\n",
    "<table width=\"100%\"><td style=\"font-size:400%px;font-style:italic;text-align:right;background-color:rgba(0, 160, 120,0.6)\">\n",
    " Vectores </td></table>\n",
    "\n",
    "$ \\newcommand{\\bra}[1]{\\langle #1|} $\n",
    "$ \\newcommand{\\ket}[1]{|#1\\rangle} $\n",
    "$ \\newcommand{\\braket}[2]{\\langle #1|#2\\rangle} $\n",
    "$ \\newcommand{\\i}{{\\color{blue} i}} $ \n",
    "$ \\newcommand{\\Hil}{{\\cal H}} $\n",
    "$ \\newcommand{\\R}{{\\mathbb R}} $\n",
    "$ \\newcommand{\\C}{{\\mathbb C}} $\n",
    "$ \\newcommand{\\V}{{ V}} $\n"
   ]
  },
  {
   "cell_type": "markdown",
   "id": "49d92add",
   "metadata": {
    "slideshow": {
     "slide_type": "-"
    }
   },
   "source": [
    "- [Espacio Vectorial Complejo](#vecdefi) \n",
    "\n",
    "- [Bases](#Bases)\n",
    "\n",
    "-  [Espacio de Hilbert](#vecprodesc)   \n"
   ]
  },
  {
   "cell_type": "code",
   "execution_count": 2,
   "id": "fe7290f1",
   "metadata": {
    "slideshow": {
     "slide_type": "slide"
    }
   },
   "outputs": [],
   "source": [
    "'Correr esta celda para incluir paquetes y funciones predefinidas'\n",
    "%run ../macro_CURSO.py"
   ]
  },
  {
   "cell_type": "markdown",
   "id": "48701357",
   "metadata": {
    "slideshow": {
     "slide_type": "slide"
    }
   },
   "source": [
    "<a id='vecdefi'></a>\n",
    "<table width=\"100%\">\n",
    "    <td style=\"font-size:250%px;font-family:Helvetica;text-align:left;background-color:rgba(12, 43, 337, 0.3);\">\n",
    "<b>Espacio Vectorial Complejo</b>\n",
    "</table>   "
   ]
  },
  {
   "cell_type": "markdown",
   "id": "0f51488c",
   "metadata": {
    "slideshow": {
     "slide_type": "slide"
    }
   },
   "source": [
    "### Definición\n",
    "\n",
    "De forma poco rigurosa, definiremos un *vector de dimensión* $N$ como una columna de $N$ números complejos \n",
    "<br>\n",
    "$$\n",
    "|u\\rangle = \\begin{pmatrix} {u_1}\\\\ {u_2}\\\\ \\vdots \\\\ {u_N} \n",
    "\\end{pmatrix}\n",
    "$$\n"
   ]
  },
  {
   "cell_type": "markdown",
   "id": "097c2add",
   "metadata": {
    "slideshow": {
     "slide_type": "fragment"
    }
   },
   "source": [
    "- El símbolo $\\ket{u}$  *representa* al vector y se denomina *ket* en la *notación de Dirac* \n",
    "\n",
    "- Los números complejos $u_i \\in {\\mathbb C}$ con $\\, i=1,...,N$ se denominan *componentes* del vector $\\ket{u}$ (en una base dada).\n"
   ]
  },
  {
   "cell_type": "markdown",
   "id": "2deaa11e",
   "metadata": {
    "slideshow": {
     "slide_type": "slide"
    }
   },
   "source": [
    "<div class=\"alert alert-block alert-info\",text-align:center>\n",
    "<p style=\"text-align: center;\"> <p style=\"text-align: left ;color: navy;\">  \n",
    "<b> Definición: </b> \n",
    "<br>    \n",
    "la colección de todos los posibles vectores de $N$ componentes,  con las  propiedades de suma y multiplicación forman un <b>espacio vectorial</b>, $\\V$ de dimension compleja $N$\n",
    "<br>    \n",
    "</div>"
   ]
  },
  {
   "cell_type": "markdown",
   "id": "e239bbfb",
   "metadata": {
    "slideshow": {
     "slide_type": "fragment"
    }
   },
   "source": [
    "es decir,  en un espacio vectorial  tenemos dos operaciones posibles: \n",
    "\n",
    "- sumar dos vectores  \n",
    "\n",
    "- multiplicar un vector por número complejo $\\lambda\\in {\\mathbb C}$\n",
    "<br>\n",
    "<br>\n",
    "\n",
    "$$\n",
    " |u\\rangle + \\ket{v}~ =~\\, \n",
    "\\begin{pmatrix} {u_1}+v_1\\\\ {u_2}+v_2\\\\ \\vdots \\\\ {u_N}+v_n \\end{pmatrix} ~= ~\\ket{w}\\ , \\qquad \\lambda|u\\rangle ~ =~   \\begin{pmatrix} {\\lambda u_1}\\\\ {\\lambda u_2}\\\\ \\vdots \\\\ {\\lambda u_N} \\end{pmatrix} ~\\equiv~\\ket{\\lambda u}\n",
    "$$"
   ]
  },
  {
   "cell_type": "markdown",
   "id": "246749e1",
   "metadata": {
    "slideshow": {
     "slide_type": "slide"
    }
   },
   "source": [
    "- todo vector de $V$ se denota mediante el símbolo $\\ket{v}$ menos uno, el *elemento neutro* que se escribe como $0$.\n",
    "<br>\n",
    "<br>\n",
    "La existencia de un <i>elemento opuesto</i> y de un <i>elemento neutro</i> es una de las propiedades que definen un espacio vectorial\n",
    "\n",
    "\\begin{eqnarray}\n",
    "\\ket{v} + 0 &=& \\ket{v} \\nonumber\\\\\n",
    "\\ket{v} + \\ket{\\hbox{-}v} &=& \\ket{v}-\\ket{v} = 0 \\nonumber\\\\\n",
    "\\end{eqnarray}"
   ]
  },
  {
   "cell_type": "markdown",
   "id": "2450c65b",
   "metadata": {
    "slideshow": {
     "slide_type": "slide"
    }
   },
   "source": [
    "<div class=\"alert alert-block alert-danger\">\n",
    "<b>Notar</b>:     \n",
    "\n",
    "La <b>dimensión</b> es igual al número de cantidades (<i>grados de libertad</i>) que debemos fijar para especificar un vector. \n",
    "\n",
    "<br>\n",
    "    \n",
    "Pero $N$ números complejos equivalen a $2N$ números reales. \n",
    "\n",
    "<br>\n",
    "   \n",
    "Entonces, podemos decir que:  \n",
    "la <i>dimensión compleja</i> de un espacio vectorial complejo  $\\V$ es $N$, o que su <i>dimensión real</i> es $2N$ \n",
    "<br>\n",
    "<br>\n",
    "$$\n",
    "{\\rm dim}_{\\mathbb C} \\V = N ~~~~\\Longleftrightarrow ~~~   {\\rm dim}_{\\mathbb R} \\V = 2N \n",
    "$$\n",
    "</div>\n"
   ]
  },
  {
   "cell_type": "markdown",
   "id": "b022e657",
   "metadata": {
    "slideshow": {
     "slide_type": "skip"
    }
   },
   "source": [
    "Formalmente, este espacio vectorial es equivalente (*isomorfo*) al producto cartesiano \n",
    "$$\\V_N \\sim {\\mathbb C}^N = \\overbrace{{\\mathbb C}\\times{\\mathbb C}\\times...{\\mathbb C}}^{N}$$ \n",
    "\n",
    "formado por ristras de $N$ números complejos $N$*-tuplas*, con la propiedad de suma y multiplicación \n",
    "<br>\n",
    "<br>\n",
    "Adelantándonos un poco, el caso $N=2$ es el que juega un papel fundamental en computación cuántica: un *cúbit* es un vector de ${\\mathbb C}^2$. El caso $N=d$ hablamos de *cúdit*."
   ]
  },
  {
   "cell_type": "markdown",
   "id": "da3bcf74",
   "metadata": {
    "slideshow": {
     "slide_type": "slide"
    }
   },
   "source": [
    "Definimos un ket como un vector columna"
   ]
  },
  {
   "cell_type": "code",
   "execution_count": 5,
   "id": "bdf3e1e2",
   "metadata": {
    "slideshow": {
     "slide_type": "-"
    }
   },
   "outputs": [
    {
     "data": {
      "text/markdown": [
       "\\begin{bmatrix}1.00+1.00j\\\\2.00-3.00j\\end{bmatrix}"
      ],
      "text/plain": [
       "<IPython.core.display.Markdown object>"
      ]
     },
     "metadata": {},
     "output_type": "display_data"
    }
   ],
   "source": [
    "uket=np.array([[1 + 1.j],[2-3*1.j]])\n",
    " \n",
    "Display(MatrixToLatex(uket))\n"
   ]
  },
  {
   "cell_type": "markdown",
   "id": "98dea080",
   "metadata": {
    "slideshow": {
     "slide_type": "fragment"
    }
   },
   "source": [
    "Podemos utilizar subrutinas de qiskit también para escribir este vector"
   ]
  },
  {
   "cell_type": "code",
   "execution_count": 9,
   "id": "d6e8f76a",
   "metadata": {
    "slideshow": {
     "slide_type": "-"
    }
   },
   "outputs": [
    {
     "data": {
      "text/latex": [
       "$$\n",
       "\n",
       "\\begin{bmatrix}\n",
       "1(1 + i)  \\\\\n",
       " 2 - 3i  \\\\\n",
       " \\end{bmatrix}\n",
       "$$"
      ],
      "text/plain": [
       "<IPython.core.display.Latex object>"
      ]
     },
     "execution_count": 9,
     "metadata": {},
     "output_type": "execute_result"
    }
   ],
   "source": [
    "' qiskit tiene un visualizador '\n",
    "from qiskit.tools.visualization import array_to_latex\n",
    "\n",
    "array_to_latex(uket)"
   ]
  },
  {
   "cell_type": "markdown",
   "id": "0d8812e4",
   "metadata": {
    "slideshow": {
     "slide_type": "slide"
    }
   },
   "source": [
    "### Conjugación adjunta\n",
    "\n",
    "La operación *conjugación adjunta*,  $\\dagger$, es una *extensión* de la *conjugación compleja*  a los vectores."
   ]
  },
  {
   "cell_type": "markdown",
   "id": "5b63c41e",
   "metadata": {
    "slideshow": {
     "slide_type": "fragment"
    }
   },
   "source": [
    "Asociado a cada *ket* $\\ket{u}$, definimos un vector **adjunto**, o *bra* $\\bra{u}\\equiv\\left(\\ket{u}\\right)^\\dagger$,  que representamos mediante un vector fila con las componentes conjugadas complejas.  \n",
    "<br>\n",
    "<br>\n",
    "$$\n",
    "\\dagger \\,: \\quad\\,|u\\rangle = \\begin{pmatrix} {u_1}\\\\ {u_2}\\\\ \\vdots \\\\ {u_N} \n",
    "\\end{pmatrix} ~~~~~{\\rightarrow}~~~~~~ \\left(\\ket{u}\\right)^\\dagger \\equiv \\bra{u} =\\begin{pmatrix} {u_1^*} & {u_2^*} & \\cdots & {u_N^*}\n",
    "\\end{pmatrix}\n",
    "$$\n",
    "\n",
    "<hr />"
   ]
  },
  {
   "cell_type": "markdown",
   "id": "0c8798dc",
   "metadata": {
    "slideshow": {
     "slide_type": "slide"
    }
   },
   "source": [
    "Consistentemente encontramos para el producto de un vector por un número complejo $\\lambda$\n",
    "\n",
    "$$\n",
    "\\dagger \\,:\\quad\\,  \\lambda\\ket{u}=\\ket{\\lambda u} ~~~~~{\\rightarrow}~~~~~~ \\left(\\lambda\\ket{u}\\right)^\\dagger=\\lambda^*\\bra{u} = \\bra{u}\\lambda^* = \\bra{\\lambda u}\n",
    "$$\n",
    "\n",
    "ya que el producto de un vector por un número es conmutativo."
   ]
  },
  {
   "cell_type": "markdown",
   "id": "7c37fb73",
   "metadata": {
    "slideshow": {
     "slide_type": "fragment"
    }
   },
   "source": [
    "Al igual que la conjugación compleja, la conjugación adjunta es una *involución*: su aplicación sucesiva devuelve el vector original\n",
    "\n",
    "$$\n",
    "(\\ket{u}^\\dagger)^\\dagger =\\bra{u}^\\dagger =  \\ket{u}\n",
    "$$\n",
    "\n",
    "es decir, $\\dagger^2 = I$, el operador identidad.\n"
   ]
  },
  {
   "cell_type": "code",
   "execution_count": 7,
   "id": "480c365a",
   "metadata": {
    "slideshow": {
     "slide_type": "slide"
    }
   },
   "outputs": [
    {
     "data": {
      "text/html": [
       "<img src onerror=\"var n = [this.closest('.cell,.jp-CodeCell')];n = n.concat([].slice.call(n[0].querySelectorAll('.input_area,.highlight,.jp-Editor')));n.forEach(e=>e.style.background='rgba(0, 160, 120,0.05)');this.parentNode.removeChild(this)\" style=\"display:none\">"
      ],
      "text/plain": [
       "<IPython.core.display.HTML object>"
      ]
     },
     "metadata": {},
     "output_type": "display_data"
    },
    {
     "data": {
      "text/markdown": [
       "\\begin{bmatrix}1.00+1.00j\\\\2.00-3.00j\\end{bmatrix}"
      ],
      "text/plain": [
       "<IPython.core.display.Markdown object>"
      ]
     },
     "metadata": {},
     "output_type": "display_data"
    },
    {
     "name": "stdout",
     "output_type": "stream",
     "text": [
      "(2, 1)\n"
     ]
    },
    {
     "data": {
      "text/markdown": [
       "\\begin{bmatrix}1.00-1.00j&2.00+3.00j\\end{bmatrix}"
      ],
      "text/plain": [
       "<IPython.core.display.Markdown object>"
      ]
     },
     "metadata": {},
     "output_type": "display_data"
    },
    {
     "name": "stdout",
     "output_type": "stream",
     "text": [
      "(1, 2)\n"
     ]
    }
   ],
   "source": [
    "\n",
    "'definamos un ket'\n",
    "uket=np.array([[1+1j],[2-3*1.j]])\n",
    "Display(MatrixToLatex(uket))\n",
    "print(uket.shape)\n",
    "\n",
    "'el bra asociado será una fila formada por las componentes conjugadas complejas'\n",
    "ubra=uket.conj().T\n",
    "\n",
    "Display(MatrixToLatex(ubra))\n",
    "print(ubra.shape)\n"
   ]
  },
  {
   "cell_type": "markdown",
   "id": "cfb489a9",
   "metadata": {
    "slideshow": {
     "slide_type": "slide"
    }
   },
   "source": [
    "<a id='bases'></a>\n",
    "<table width=\"100%\">\n",
    "    <td style=\"font-size:250%px;font-family:Helvetica;text-align:left;background-color:rgba(12, 43, 337, 0.3);\">\n",
    "<b>Bases</b>\n",
    "</table>   "
   ]
  },
  {
   "cell_type": "markdown",
   "id": "e6a1f05e",
   "metadata": {
    "slideshow": {
     "slide_type": "slide"
    }
   },
   "source": [
    "<div class=\"alert alert-block alert-info\",text-align:center>\n",
    "<p style=\"text-align: center;\"> <p style=\"text-align: left ;color: navy;\">  \n",
    "<b> Definición: </b> \n",
    "<br>    \n",
    "en un espacio vectorial $V$ de dimensión $N$ una <b>base</b> es una colección de $N$ vectores  $\\{\\ket{e_1},...,\\ket{e_N}\\}$ tales que, cualquier vector $\\ket{v}\\in V$ se puede expresar como una <i>combinación lineal</i> de ellos\n",
    "<br>\n",
    "<br>\n",
    "$$\n",
    "\\ket{v} = \\sum_{i=1}^N v_i \\ket{e_i}\n",
    "$$  \n",
    "<br>\n",
    "    Los coeficientes $v_i$ son las <i>\n",
    "    componentes</i> de $\\ket{v}$ <b>en la base dada</b>.\n",
    "</div>"
   ]
  },
  {
   "cell_type": "markdown",
   "id": "2033a214",
   "metadata": {},
   "source": []
  },
  {
   "cell_type": "markdown",
   "id": "35b98edc",
   "metadata": {
    "slideshow": {
     "slide_type": "slide"
    }
   },
   "source": [
    "Existen *infinitas bases* en un espacio vectorial. Podemos escoger una de ellas y asociarle el siguiente conjunto de columnas\n",
    "\n",
    "<br>\n",
    "\n",
    "$$\n",
    "|e_1\\rangle \\sim \\begin{pmatrix} 1 \\\\ 0 \\\\ 0\\\\ \\vdots \n",
    "\\\\ 0 \\\\ 0 \\end{pmatrix}~~~~\n",
    "|e_2\\rangle \\sim \\begin{pmatrix} 0 \\\\ 1 \\\\ 0\\\\ \\vdots \n",
    "\\\\ 0 \\\\ 0 \\end{pmatrix}~~~~~~~~~\n",
    "\\cdots ~~~~~~~~\n",
    "|e_{N-1}\\rangle \\sim \\begin{pmatrix} 0 \\\\ 0 \\\\ 0\\\\\\vdots \n",
    "\\\\ 1 \\\\ 0 \\end{pmatrix}~~~~\n",
    "|e_N\\rangle \\sim \\begin{pmatrix} 0 \\\\ 0 \\\\0\\\\ \\vdots \n",
    "\\\\ 0 \\\\ 1 \\end{pmatrix}\n",
    "$$\n",
    "<br>\n",
    "\n",
    "\n",
    "<hr />"
   ]
  },
  {
   "cell_type": "markdown",
   "id": "97993616",
   "metadata": {
    "slideshow": {
     "slide_type": "slide"
    }
   },
   "source": [
    "De esta forma, cualquier vector, escrito como una combinación lineal de sus elementos adquiere la representación usual\n",
    "<br>\n",
    "\n",
    "$$\n",
    "|u\\rangle ~=~ {u_1} |e_1 \\rangle + {u_2} | e_2\\rangle +... + {u_{ N}}|e_{ N}\\rangle~=~ \\sum_{i=1}^N {u_ i} |e_i\\rangle \\,\\sim\n",
    "$$\n",
    "\n",
    "<br>\n",
    "\n",
    "$$\n",
    "\\sim~ {u_1} \\begin{pmatrix} 1 \\\\ 0 \\\\ 0\\\\ \\vdots \n",
    "\\\\ 0 \\\\ 0 \\end{pmatrix} \\,+\\,{u_2} \\begin{pmatrix} 0 \\\\ 1 \\\\ 0\\\\ \\vdots \\\\ 0 \\\\ 0 \\end{pmatrix}~+~ ... ~+ ~\n",
    "{u_{N-1}} \\begin{pmatrix} 0 \\\\ 0 \\\\ 0\\\\\\vdots \n",
    "\\\\ 1 \\\\ 0 \\end{pmatrix}+ \n",
    "\\,{u_N}\\,  \\begin{pmatrix} 0 \\\\ 0 \\\\0\\\\ \\vdots \n",
    "\\\\ 0 \\\\ 1 \\end{pmatrix}~~~= ~~~\n",
    "  \\begin{pmatrix} {u_1} \\\\ {u_2} \\\\{u_3}\\\\ \\vdots \n",
    "\\\\ \\,{u_{N-1}}\\, \\\\ {u_{N}} \\end{pmatrix}\n",
    "$$\n",
    "\n",
    "<br>"
   ]
  },
  {
   "cell_type": "markdown",
   "id": "41957d8e",
   "metadata": {
    "slideshow": {
     "slide_type": "slide"
    }
   },
   "source": [
    "La función **Expande_ket**, dada una columna de componentes, nos escribe la expansión  en notación vectorial"
   ]
  },
  {
   "cell_type": "code",
   "execution_count": 12,
   "id": "a869622a",
   "metadata": {
    "slideshow": {
     "slide_type": "fragment"
    }
   },
   "outputs": [
    {
     "data": {
      "text/markdown": [
       "\\begin{bmatrix}1.00+1.00j\\\\2.00-3.00j\\\\2.00+2.00j\\\\-1.00-1.00j\\end{bmatrix}"
      ],
      "text/plain": [
       "<IPython.core.display.Markdown object>"
      ]
     },
     "metadata": {},
     "output_type": "display_data"
    },
    {
     "data": {
      "text/markdown": [
       "$| u \\rangle $  = (1+1j) |$e_0 \\rangle  $ +  (2-3j) |$e_1 \\rangle  $ +  (2+2j) |$e_2 \\rangle  $ +  (-1-1j) |$e_3\\rangle $ "
      ],
      "text/plain": [
       "<IPython.core.display.Markdown object>"
      ]
     },
     "metadata": {},
     "output_type": "display_data"
    }
   ],
   "source": [
    "uket=np.array([[ 1.+1.j], [ 2.-3.j],[ 2.+2.j],[-1.-1.j]])\n",
    "Display(MatrixToLatex(uket))\n",
    "Expande_Ket(uket)"
   ]
  },
  {
   "cell_type": "markdown",
   "id": "45808943",
   "metadata": {
    "slideshow": {
     "slide_type": "fragment"
    }
   },
   "source": [
    "También podemos usar la clase **Statevector** de *qiskit* para tener una expansión en la base $\\{\\ket{e_i}=\\ket{b(i)}\\}$, donde $b(i)$ es la representación binaria del índice $i$. Por ejemplo $b(3) = 11$."
   ]
  },
  {
   "cell_type": "code",
   "execution_count": 14,
   "id": "a68ad21a",
   "metadata": {
    "slideshow": {
     "slide_type": "fragment"
    }
   },
   "outputs": [
    {
     "data": {
      "text/latex": [
       "$$(1 + i) |00\\rangle+ (2 - 3 i) |01\\rangle+ (2 + 2 i) |10\\rangle+ (-1 - i) |11\\rangle$$"
      ],
      "text/plain": [
       "<IPython.core.display.Latex object>"
      ]
     },
     "execution_count": 14,
     "metadata": {},
     "output_type": "execute_result"
    }
   ],
   "source": [
    "from qiskit.quantum_info import Statevector\n",
    "Statevector(uket).draw('latex')"
   ]
  },
  {
   "cell_type": "markdown",
   "id": "2cfce470",
   "metadata": {
    "slideshow": {
     "slide_type": "slide"
    }
   },
   "source": [
    "### Cambio de base\n",
    "\n",
    "Existen *infinitas* bases  en un espacio vectorial de dimensión finita.\n",
    "Todas ellas sirven para representar un vector arbitrario."
   ]
  },
  {
   "cell_type": "markdown",
   "id": "f4d18137",
   "metadata": {
    "slideshow": {
     "slide_type": "fragment"
    }
   },
   "source": [
    "Consideremos dos bases \n",
    "$\\{\\ket{e_i}\\}$ y $\\{\\ket{f_j}\\}$ donde $ i,j = 1,...,N$.\n",
    "\n",
    "cualquier vector $\\ket{v}$ se puede expandir de forma diferente en cada una de ellas\n",
    "\n",
    "$$\n",
    "\\ket{v} ~=~ \\sum_{i=1}^N v_i \\ket{e_i} ~=~ \\sum_{i=1}^N \\tilde v_i \\ket{f_i}\n",
    "$$\n",
    "\n",
    "donde las componente $v_i$ y $\\tilde v_i$ *deben ser distintas* pero *estar relacionadas* "
   ]
  },
  {
   "cell_type": "markdown",
   "id": "f23c2a64",
   "metadata": {
    "slideshow": {
     "slide_type": "slide"
    }
   },
   "source": [
    "En particular, cualquier *elemento* (vector) de una base se puede expresar como una *combinación lineal de elementos*  de la otra. Tomemos por ejemplo, $\\ket{v}= \\ket{f_1}$\n",
    "\n",
    "$$\n",
    "\\ket{f_1} = \\sum_{i=1}^N A_{ i 1} \\ket{e_i}\n",
    "$$"
   ]
  },
  {
   "cell_type": "markdown",
   "id": "301d16fa",
   "metadata": {
    "slideshow": {
     "slide_type": "fragment"
    }
   },
   "source": [
    "donde $A_{ i 1}\\in {\\bf C}$ son los coeficientes de la expansión del vector $\\ket{f_1}$. Haciendo esto para todos los elementos $\\ket{f_j}\\, j=1,2,...,N$ de la base\n",
    "los coeficientes constituyen una *matriz* $A_{ij}$ de *cambio de base*\n",
    "\n",
    "$$\n",
    "\\ket{f_j} = \\sum_{i=1}^N A_{ i j} \\ket{e_i} ~~~~~~~j=1,..., N\n",
    "$$"
   ]
  },
  {
   "cell_type": "markdown",
   "id": "17030dbd",
   "metadata": {
    "slideshow": {
     "slide_type": "fragment"
    }
   },
   "source": [
    "<div class=\"alert alert-block alert-danger\">\n",
    "    <b>Notar</b>: la forma en que están sumados los índices $\\ket{f_j} = \\sum_{i=1}^N A_{ \\color{blue}{i} j} \\ket{e_\\color{blue}{i}}$\n",
    "</div>"
   ]
  },
  {
   "cell_type": "markdown",
   "id": "63dddd4a",
   "metadata": {
    "slideshow": {
     "slide_type": "slide"
    }
   },
   "source": [
    "Cuando escribimos la base nueva en *componentes*, automáticamente estamos *dando el cambio de base*:\n",
    "\n",
    "Por ejemplo, sea una nueva base $\\{\\ket{f_1},\\ket{f_2}\\}$ definida en términos de la antigua mediante \n",
    "\n",
    "$$\\ket{f_1} = \\frac{1}{\\sqrt{2}}\\left(\\rule{0mm}{4mm}\\ket{e_1} + i\\ket{e_2}\\right)~,~~\\ket{f_2} = \\frac{1}{\\sqrt{2}}\\left( \\rule{0mm}{4mm}\\ket{e_1} - i\\ket{e_2}\\right)\\, .\n",
    "$$"
   ]
  },
  {
   "cell_type": "markdown",
   "id": "c0a9b73f",
   "metadata": {
    "slideshow": {
     "slide_type": "fragment"
    }
   },
   "source": [
    "En componentes, esto quiere decir que\n",
    "$$\n",
    "\\ket{f_1} = \\frac{1}{\\sqrt{2}}\\begin{bmatrix} 1 \\\\i \\end{bmatrix}~~~,~~~~\n",
    "\\ket{f_2} = \\frac{1}{\\sqrt{2}}\\begin{bmatrix} 1 \\\\-i \\end{bmatrix}~~.\n",
    "$$\n",
    "\n",
    "Poniendo las dos columnas en una sola matriz, obtenemos   \n",
    "\n",
    "$$\n",
    "A_{ij} = \\frac{1}{\\sqrt{2}}\\begin{bmatrix} 1 & 1 \\\\ i & -i \\end{bmatrix}\\, ,\n",
    "$$\n"
   ]
  },
  {
   "cell_type": "markdown",
   "id": "ae1e66e2",
   "metadata": {
    "slideshow": {
     "slide_type": "slide"
    }
   },
   "source": [
    "que es, efectivamente, la matriz que efectúa el cambio de los vectores de la base\n",
    "\n",
    "<br>\n",
    "$$\n",
    "\\ket{f_j} = A_{i j}\\ket{e_{i}} \\, ,\n",
    "$$\n",
    "<br>\n",
    "así como de las componentes de los nuevos vectores en la antigua base\n",
    "<br>\n",
    "<br>\n",
    "\n",
    "$$\n",
    "\\ket{f_1} = \\frac{1}{\\sqrt{2}}\\begin{bmatrix} 1 \\\\i \\end{bmatrix} = \\frac{1}{\\sqrt{2}}\\begin{bmatrix} 1 & 1 \\\\ i & -i \\end{bmatrix}\\begin{bmatrix} 1 \\\\0 \\end{bmatrix}~~~~~,~~~~~~~\n",
    "\\ket{f_2} = \\frac{1}{\\sqrt{2}}\\begin{bmatrix} 1 \\\\-i \\end{bmatrix} = \\frac{1}{\\sqrt{2}}\\begin{bmatrix} 1 & 1 \\\\ i & -i \\end{bmatrix}\\begin{bmatrix} 0 \\\\1 \\end{bmatrix}~~~~~.~~~~~~~\n",
    "$$"
   ]
  },
  {
   "cell_type": "markdown",
   "id": "32f1236f",
   "metadata": {
    "slideshow": {
     "slide_type": "slide"
    }
   },
   "source": [
    "<a id='vecprodesc'></a>\n",
    "<table width=\"100%\">\n",
    "    <td style=\"font-size:250%px;font-family:Helvetica;text-align:left;background-color:rgba(12, 43, 337, 0.3);\">\n",
    "<b>Espacio de Hilbert</b>\n",
    "</table>"
   ]
  },
  {
   "cell_type": "markdown",
   "id": "0a79e29a",
   "metadata": {
    "slideshow": {
     "slide_type": "slide"
    }
   },
   "source": [
    "<div class=\"alert alert-block alert-info\",text-align:center>\n",
    "<p style=\"text-align: center;\"> <p style=\"text-align: left ;color: navy;\">  \n",
    "<b> Definición: </b> \n",
    "<br>\n",
    "Un <i> espacio de Hilbert</i>,  ${\\Hil}$, es un espacio vectorial\n",
    "dotado de una operación interna   denominada <i>producto escalar</i>.\n",
    "</div>"
   ]
  },
  {
   "cell_type": "markdown",
   "id": "4ae954db",
   "metadata": {
    "slideshow": {
     "slide_type": "fragment"
    }
   },
   "source": [
    "### Producto Escalar\n",
    "<div class=\"alert alert-block alert-info\",text-align:center>\n",
    "<p style=\"text-align: center;\"> <p style=\"text-align: left ;color: navy;\">  \n",
    "<b> Definición: </b> \n",
    "<br>\n",
    "    El <i>producto escalar</i> de dos vectores $\\ket{u}$ y $\\ket{v}$ es un <i>número complejo</i> $a\\in{\\mathbb C}$ que denotamos <i>braket</i>\n",
    "$a \\equiv \\braket{u}{v} $. El producto escalar verifica las dos propiedades siguiente\n",
    "<br>\n",
    "<br>\n",
    "- linealidad: $\\to \\bra{u}\\big(\\ket{v}+\\ket{w}\\big) = \\braket{u}{v} + \\braket{u}{w}$\n",
    "<br>\n",
    "<br>\n",
    "- hermiticidad: $\\to \\braket{v}{u} = \\braket{u}{v}^*$\n",
    "<br>\n",
    "<br>\n",
    "- positividad: $\\braket{u}{u} >0$ para todo ket $\\ket{u}\\neq 0$\n",
    "</div>"
   ]
  },
  {
   "cell_type": "markdown",
   "id": "58ffa1a7",
   "metadata": {
    "slideshow": {
     "slide_type": "fragment"
    }
   },
   "source": [
    "Combinando ambas propiedades, el producto escalar también es lineal en el primer argumento\n",
    "\n",
    "$$(\\bra{u}+\\bra{w})\\ket{v} = \\braket{u}{v} + \\braket{w}{v}$$\n"
   ]
  },
  {
   "cell_type": "markdown",
   "id": "d1124fcb",
   "metadata": {
    "slideshow": {
     "slide_type": "slide"
    }
   },
   "source": [
    "### Norma\n",
    "\n",
    "La positividad del producto escalar de un vector por sí mismo  permite definir su *norma*.\n",
    "\n",
    "<br>\n",
    "\n",
    "$$\n",
    "\\|\\ket{v}\\| = \\sqrt{\\braket{v}{v}} \n",
    "$$\n",
    "<br>"
   ]
  },
  {
   "cell_type": "markdown",
   "id": "8a1551bd",
   "metadata": {
    "slideshow": {
     "slide_type": "fragment"
    }
   },
   "source": [
    "<div class=\"alert alert-block alert-danger\">\n",
    "    <b>Notar</b>:\n",
    "\n",
    "- en contraste con la definición de producto escalar en espacios vectoriales reales, en el caso complejo se hace necesario conjugar el <i>bra</i>, para  que la <i>norma</i> de un vector sea siempre real y positiva. Esta es la idea detrás de la definición de la <i>conjugación adjunta</i>.\n",
    "\n",
    "\n",
    "- el único vector que tiene norma nula en un espacio de Hilbert es el elemento neutro\n",
    "$$\n",
    "\\braket{v}{v} = 0 ~~~ \\Leftrightarrow ~~~\\ket{v} = 0\n",
    "$$\n",
    "  \n",
    "</div>"
   ]
  },
  {
   "cell_type": "markdown",
   "id": "56d12083",
   "metadata": {
    "slideshow": {
     "slide_type": "slide"
    }
   },
   "source": [
    "<div class=\"alert alert-block alert-success\">\n",
    "<b>Ejercicio:</b>\n",
    "<br>\n",
    "escribe una funcion <i>Norma(u)</i> que calcule la norma de un vector u .\n",
    "\n",
    "<details>\n",
    "<summary><p style=\"text-align:right\"> >>Solución </p></summary>\n",
    "\n",
    "    def Norma(u):\n",
    "        uket = u   \n",
    "        ubra =uket.conj().T\n",
    "        norma = np.sqrt(np.dot(ubra,uket)[0,0]).real \n",
    "        return norma     \n",
    "\n",
    "</details>\n",
    "</div>"
   ]
  },
  {
   "cell_type": "code",
   "execution_count": 16,
   "id": "80171c55",
   "metadata": {
    "slideshow": {
     "slide_type": "-"
    }
   },
   "outputs": [
    {
     "data": {
      "text/markdown": [
       "$| u \\rangle $  = (1.5+1j) |$e_0 \\rangle  $ +  (2-3j) |$e_1\\rangle $ "
      ],
      "text/plain": [
       "<IPython.core.display.Markdown object>"
      ]
     },
     "metadata": {},
     "output_type": "display_data"
    },
    {
     "ename": "NameError",
     "evalue": "name 'Norma' is not defined",
     "output_type": "error",
     "traceback": [
      "\u001b[0;31m---------------------------------------------------------------------------\u001b[0m",
      "\u001b[0;31mNameError\u001b[0m                                 Traceback (most recent call last)",
      "\u001b[0;32m<ipython-input-16-f4a13503627b>\u001b[0m in \u001b[0;36m<module>\u001b[0;34m\u001b[0m\n\u001b[1;32m     10\u001b[0m \u001b[0mu\u001b[0m\u001b[0;34m=\u001b[0m\u001b[0mnp\u001b[0m\u001b[0;34m.\u001b[0m\u001b[0marray\u001b[0m\u001b[0;34m(\u001b[0m\u001b[0;34m[\u001b[0m\u001b[0;34m[\u001b[0m\u001b[0;36m1.5\u001b[0m\u001b[0;34m+\u001b[0m\u001b[0;36m1j\u001b[0m\u001b[0;34m]\u001b[0m\u001b[0;34m,\u001b[0m\u001b[0;34m[\u001b[0m\u001b[0;36m2\u001b[0m\u001b[0;34m-\u001b[0m\u001b[0;36m3\u001b[0m\u001b[0;34m*\u001b[0m\u001b[0;36m1.j\u001b[0m\u001b[0;34m]\u001b[0m\u001b[0;34m]\u001b[0m\u001b[0;34m)\u001b[0m\u001b[0;34m\u001b[0m\u001b[0;34m\u001b[0m\u001b[0m\n\u001b[1;32m     11\u001b[0m \u001b[0mExpande_Ket\u001b[0m\u001b[0;34m(\u001b[0m\u001b[0mu\u001b[0m\u001b[0;34m)\u001b[0m\u001b[0;34m\u001b[0m\u001b[0;34m\u001b[0m\u001b[0m\n\u001b[0;32m---> 12\u001b[0;31m \u001b[0mdisplay\u001b[0m\u001b[0;34m(\u001b[0m\u001b[0mMarkdown\u001b[0m\u001b[0;34m(\u001b[0m\u001b[0;34m'$ \\|\\ket{u}\\|=%2.3f $'\u001b[0m \u001b[0;34m%\u001b[0m \u001b[0mNorma\u001b[0m\u001b[0;34m(\u001b[0m\u001b[0mu\u001b[0m\u001b[0;34m)\u001b[0m\u001b[0;34m)\u001b[0m\u001b[0;34m)\u001b[0m\u001b[0;34m\u001b[0m\u001b[0;34m\u001b[0m\u001b[0m\n\u001b[0m",
      "\u001b[0;31mNameError\u001b[0m: name 'Norma' is not defined"
     ]
    }
   ],
   "source": [
    "def norma(state):\n",
    "###################\n",
    "# tu solución aquí\n",
    "#\n",
    "###################\n",
    "    return\n",
    "\n",
    "\n",
    "'Ejemplo'\n",
    "u=np.array([[1.5+1j],[2-3*1.j]])\n",
    "Expande_Ket(u)\n",
    "display(Markdown('$ \\|\\ket{u}\\|=%2.3f $' % Norma(u)))"
   ]
  },
  {
   "cell_type": "markdown",
   "id": "228f299b",
   "metadata": {
    "slideshow": {
     "slide_type": "slide"
    }
   },
   "source": [
    "### Desigualdades\n",
    "\n",
    "En muchas ocasiones será necesario acotar cantidades. \n",
    "\n",
    "\n",
    "<div class=\"alert alert-block alert-info\",text-align:center>\n",
    "<p style=\"text-align: center;\"> <p style=\"text-align: left ;color: navy;\">  \n",
    "<b> Desigualdad de Cauchy-Schwarz </b> <i></i>\n",
    "$$\n",
    "|\\braket{u}{v}| \\leq \\|\\ket{u}\\|\\, \\|\\ket{v}\\|\n",
    "$$    \n",
    "</div>\n",
    "\n",
    "[>>demostración](https://es.wikipedia.org/wiki/Desigualdad_de_Cauchy-Bunyakovsky-Schwarz)"
   ]
  },
  {
   "cell_type": "markdown",
   "id": "a34de7ac",
   "metadata": {
    "slideshow": {
     "slide_type": "fragment"
    }
   },
   "source": [
    "Una consecuencia inmediata  de la desigualdad de Cauchy-Schwarz es la desigualdad triangular\n",
    "\n",
    "<div class=\"alert alert-block alert-info\",text-align:center>\n",
    "<p style=\"text-align: center;\"> <p style=\"text-align: left ;color: navy;\">  \n",
    "<b> Desigualdad Triangular </b> <i></i>\n",
    "$$\n",
    "\\|\\ket{u}+\\ket{v}\\| \\leq \\|\\ket{u}\\|+ \\|\\ket{v}\\|\n",
    "$$\n",
    "</div>\n"
   ]
  },
  {
   "cell_type": "markdown",
   "id": "2a2f1459",
   "metadata": {
    "slideshow": {
     "slide_type": "slide"
    }
   },
   "source": [
    "<a id='vecprodesc'></a>\n",
    "<table width=\"100%\">\n",
    "    <td style=\"font-size:250%px;font-family:Helvetica;text-align:left;background-color:rgba(12, 43, 337, 0.3);\">\n",
    "<b>Base ortonormales </b>\n",
    "</table>"
   ]
  },
  {
   "cell_type": "markdown",
   "id": "2de04ee2",
   "metadata": {
    "slideshow": {
     "slide_type": "skip"
    }
   },
   "source": [
    "Hasta ahora, a los vectores de una base $\\{\\ket{e_i}\\}$ sólo se les ha pedido que sean $N$ vectores *linealmente independientes*, donde $N$ es la dimensión del espacio vectorial $\\V$:\n",
    "\n",
    "En un espacio de Hilbert $\\Hil$ tiene sentido calcular el producto escalar de dos elementos de una base. "
   ]
  },
  {
   "cell_type": "markdown",
   "id": "ed9185c0",
   "metadata": {
    "slideshow": {
     "slide_type": "fragment"
    }
   },
   "source": [
    "##  Base Ortonormal:\n",
    "una base ortornormal se caracteriza por la siguiente lista de productos escalares\n",
    "<br>\n",
    "<br>\n",
    "$$\n",
    "\\braket{e_i}{e_j} = \\delta_{ij}\n",
    "$$\n",
    "<br>\n",
    "- Por un lado, dos elementos distintos de la base son ortogonales $\\braket{e_1}{e_2} = 0$. \n",
    "\n",
    "- Por otro, todos están normalizados  $ \\| e_i \\| = \\sqrt{\\braket{e_1}{e_1}} = \\sqrt{1} = 1$. \n"
   ]
  },
  {
   "cell_type": "markdown",
   "id": "91670624",
   "metadata": {
    "slideshow": {
     "slide_type": "slide"
    }
   },
   "source": [
    "En este curso siempre supondremos que las bases con las que trabajamos son ortonormales. Ello se justifica en base al siguiente teorema:\n",
    "<br>\n",
    "<br>\n",
    "<div class=\"alert alert-block alert-info\",text-align:center>\n",
    "<p style=\"text-align: center;\"> <p style=\"text-align: left ;color: navy;\">  \n",
    "<b> Teorema: </b> \n",
    "<br>    \n",
    "Dada una base general $\\{\\braket{f_i}{f_j}\\neq \\delta_{ij}\\}$ de vectores no ortonormales, existe una procedimiento iterativo (de <a href=\"https://en.wikipedia.org/wiki/Gram%E2%80%93Schmidt_process\">Gram-Schmidt</a> ) para construir, a partir de ella, una nueva base ortonormal $\\{\\braket{e_i}{e_j}\\}=\\delta_{ij}$.\n",
    " </div>\n",
    "\n",
    "[>>demostración](https://es.wikipedia.org/wiki/Proceso_de_ortogonalizaci%C3%B3n_de_Gram-Schmidt)"
   ]
  },
  {
   "cell_type": "markdown",
   "id": "3c81d317",
   "metadata": {
    "slideshow": {
     "slide_type": "slide"
    }
   },
   "source": [
    "\n",
    "- Dado un vector  $\\ket{v} = \\sum_{i=1}^N v_i \\ket{e_i}$ donde $\\ket{e_i}$ es una base ortonorma, la *componente* $v_k$ se extrae mediante la *proyección* ortogonal\n",
    "<br>\n",
    "<br>\n",
    "$$\n",
    "v_k =\\braket{e_k}{v}\n",
    "$$"
   ]
  },
  {
   "cell_type": "markdown",
   "id": "f4e790a6",
   "metadata": {
    "slideshow": {
     "slide_type": "fragment"
    }
   },
   "source": [
    "<div class=\"alert alert-block alert-success\">\n",
    "<b>Ejercicio:</b>$~$\n",
    "demuestra esta expresión\n",
    "<details>\n",
    "<summary><p style=\"text-align:right\"> >> Solución </p></summary>\n",
    "\\begin{eqnarray}\n",
    "\\braket{e_k}{v} &=&  \\bra{e_k}\\left(\\sum_{j=1}^N v_j\\ket{e_j}\\right) \\nonumber\\\\\n",
    "                &=&  \\sum_{j=1}^N  v_j\\braket{e_k}{e_j}  \\nonumber\\\\\n",
    "                &=&  \\sum_{j=1}^N  v_j\\delta_{kj} = v_k\n",
    "\\end{eqnarray}\n",
    "</details>    \n"
   ]
  },
  {
   "cell_type": "markdown",
   "id": "d25e7f46",
   "metadata": {
    "slideshow": {
     "slide_type": "slide"
    }
   },
   "source": [
    "- calcular el valor de un *producto escalar* $a=\\braket{u}{v}$ es muy simple si conocemos las componentes de $\\ket{u}$ y $\\ket{v}$ en una base\n",
    "ortonormal"
   ]
  },
  {
   "cell_type": "markdown",
   "id": "ba438378",
   "metadata": {
    "slideshow": {
     "slide_type": "fragment"
    }
   },
   "source": [
    "\\begin{eqnarray}\n",
    "a = \n",
    "\\braket{u}{v}&=& \\left(\\sum_{i}u_i^*\\bra{e_i}\\right)\\left(\\sum_{j}v_j\\ket{e_j} \\right) = \n",
    "\\sum_{ij} u_i^* v_j  \\braket{e_i}{e_j}\n",
    "=\n",
    "\\sum_{ij} u_i^* v_j \\delta_{ij} \n",
    "\\\\\n",
    "&=&\\sum_{i} u_i^* v_i =\n",
    "  \\begin{pmatrix}\n",
    "{u_1^*} & {u_2^*} & \\cdots & {u_N^*}\n",
    "\\end{pmatrix}\\begin{pmatrix} {v_1}\\\\ {v_2}\\\\ \\vdots \\\\ {v_N} \n",
    "\\end{pmatrix}\n",
    "\\end{eqnarray}\n",
    "\n",
    "<br>"
   ]
  },
  {
   "cell_type": "markdown",
   "id": "1a47a6f2",
   "metadata": {
    "slideshow": {
     "slide_type": "fragment"
    }
   },
   "source": [
    "<div class=\"alert alert-block alert-danger\">\n",
    "    <b>Notar</b>: \n",
    "<br>\n",
    "la expresión de la izquierda  $a = \\braket{u}{v}$ <b>no hace referencia a ninguna base</b>. Por tanto, el resultado $\\sum_{i=1}^n{ u_i^* v_i} $ debe ser independiente de la base que utilizamos para representar estos vectores mediante sus componentes $u_i$ y $v_i$. \n",
    "    \n",
    "Este resultado es <i>no trivial</i> y subrayamos su importancia: $\\braket{u}{v}$ puede ser calculado en la base más conveniente.\n",
    "</div>\n"
   ]
  },
  {
   "cell_type": "markdown",
   "id": "e22517ea",
   "metadata": {
    "slideshow": {
     "slide_type": "slide"
    }
   },
   "source": [
    "<div class=\"alert alert-block alert-success\">\n",
    "<b>Ejercicio:</b>\n",
    "<br>\n",
    "Programa una funcion: <i>inner_product</i> que tome dos vectores y calcule su producto escalar. \n",
    "<details>\n",
    "<summary><p style=\"text-align:right;color:grey\"> >> Solución <p></summary>\n",
    "\n",
    "    def inner_product(state_1, state_2):\n",
    " \n",
    "        assert len(state_1) == len(state_2)\n",
    "    \n",
    "        innprod= 0\n",
    "        for i in range(2):\n",
    "            innprod += state_1[i].conjugate()*state_2[i]\n",
    "        \n",
    "        return innprod[0]\n",
    "</details>\n",
    "</div>"
   ]
  },
  {
   "cell_type": "code",
   "execution_count": 1,
   "id": "16c73512",
   "metadata": {
    "slideshow": {
     "slide_type": "skip"
    }
   },
   "outputs": [],
   "source": [
    "def inner_product(state_1, state_2):\n",
    "##########\n",
    "# Escribe tu solución aquí'\n",
    "#    \n",
    "#\n",
    "##########\n",
    "    return\n",
    "\n",
    "'Pongamos a prueba la solución'\n",
    "uket=np.array([[1.+1j],[1.-1j],[3]])\n",
    "vket=np.array([[1.],[2.],[2.j]])\n",
    "\n",
    "inner_product(uket,vket)"
   ]
  },
  {
   "cell_type": "markdown",
   "id": "3bcd8250",
   "metadata": {},
   "source": [
    "## Descomposición ortogonal\n",
    "\n",
    "<div class=\"alert alert-block alert-info\",text-align:center>\n",
    "<p style=\"text-align: center;\"> <p style=\"text-align: left ;color: navy;\">  \n",
    "<b> Teorema: </b> \n",
    "<br>\n",
    "<br>    \n",
    "sea $\\ket{w}\\in \\Hil$ un vector arbitrario. Existen infinitas maneras de descomponer este vector en suma de otros dos vectores ortogonales\n",
    "<br>\n",
    "<br>    \n",
    "$$\n",
    "\\ket{w} = \\ket{u} + \\ket{u_\\perp} ~~~~~~~~~ \\Leftrightarrow ~~~~~~~~~\\braket{u}{u_\\perp} = 0\n",
    "$$\n",
    "<br>    \n",
    "Para cada $\\ket{u}$ el vector $\\ket{u_\\perp}$ es único.\n",
    "<br>    \n",
    "</div>\n",
    "\n"
   ]
  },
  {
   "cell_type": "markdown",
   "id": "fa02bfba",
   "metadata": {},
   "source": [
    "<br>\n",
    "<br>\n",
    "<div>\n",
    "<img src=\"figuras/Descomp_ortogonal.png\" width=\"30%\" style='margin:auto'/>\n",
    "</div>\n",
    "<br>\n",
    "<br>\n"
   ]
  },
  {
   "cell_type": "markdown",
   "id": "033f7b86",
   "metadata": {},
   "source": [
    "<div class=\"alert alert-block alert-danger\">\n",
    "<b>Notar:</b>: \n",
    "<br>    \n",
    "que este resultado no se refiere a un espacio vectorial $\\Hil$ de dimensión 2. Cada línea en la figura anterior <i>representa</i>  un subespacio vectorial $\\ket{u} \\in \\Hil_\\|$ y $\\ket{u_\\perp}\\in \\Hil_\\perp$ de modo que, \n",
    "en el fondo, lo que el teorema afirma es que hay infinitas descomposiciones de la forma $\\Hil = \\Hil_\\|\\oplus \\Hil_\\perp$ donde las dimensiones se suman. \n",
    "</div>"
   ]
  },
  {
   "cell_type": "code",
   "execution_count": null,
   "id": "0ed57512",
   "metadata": {},
   "outputs": [],
   "source": []
  }
 ],
 "metadata": {
  "celltoolbar": "Slideshow",
  "kernelspec": {
   "display_name": "Python 3",
   "language": "python",
   "name": "python3"
  },
  "language_info": {
   "codemirror_mode": {
    "name": "ipython",
    "version": 3
   },
   "file_extension": ".py",
   "mimetype": "text/x-python",
   "name": "python",
   "nbconvert_exporter": "python",
   "pygments_lexer": "ipython3",
   "version": "3.7.10"
  },
  "varInspector": {
   "cols": {
    "lenName": 16,
    "lenType": 16,
    "lenVar": 40
   },
   "kernels_config": {
    "python": {
     "delete_cmd_postfix": "",
     "delete_cmd_prefix": "del ",
     "library": "var_list.py",
     "varRefreshCmd": "print(var_dic_list())"
    },
    "r": {
     "delete_cmd_postfix": ") ",
     "delete_cmd_prefix": "rm(",
     "library": "var_list.r",
     "varRefreshCmd": "cat(var_dic_list()) "
    }
   },
   "types_to_exclude": [
    "module",
    "function",
    "builtin_function_or_method",
    "instance",
    "_Feature"
   ],
   "window_display": false
  }
 },
 "nbformat": 4,
 "nbformat_minor": 5
}
