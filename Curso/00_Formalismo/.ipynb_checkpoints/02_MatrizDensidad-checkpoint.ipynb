{
 "cells": [
  {
   "cell_type": "markdown",
   "metadata": {
    "slideshow": {
     "slide_type": "slide"
    }
   },
   "source": [
    "<img   src=\"../figuras/logo/TalentQ_LogoPosNegro.png\" align=center  width=\"120\"/>\n",
    "<br>\n",
    "\n",
    "<table width=\"100%\">\n",
    "<td style=\"font-size:42px;font-style:italic;text-align:right;background-color:rgba(0, 160, 120,0.6)\">\n",
    "Matriz Densidad \n",
    "</td></table>\n",
    "\n",
    "\n",
    "\n",
    "$ \\newcommand{\\bra}[1]{\\langle #1|} $\n",
    "$ \\newcommand{\\ket}[1]{|#1\\rangle} $\n",
    "$ \\newcommand{\\braket}[2]{\\langle #1|#2\\rangle} $\n",
    "$ \\newcommand{\\i}{{\\color{blue} i}} $ \n",
    "$ \\newcommand{\\Hil}{{\\cal H}} $"
   ]
  },
  {
   "cell_type": "markdown",
   "metadata": {},
   "source": [
    "\n",
    "-[Estado puro](#incer_cuant) \n",
    "   <br>\n",
    "   \n",
    "-[Estado mezcla](#incer_clas) \n",
    "   <br>\n",
    "   "
   ]
  },
  {
   "cell_type": "markdown",
   "metadata": {
    "slideshow": {
     "slide_type": "slide"
    }
   },
   "source": [
    "<a id=\"incer_cuant\"></a>\n",
    "<a id='dirac'></a>\n",
    "<table width=\"100%\">\n",
    "    <td style=\"font-size:30px;font-family:Helvetica;text-align:left;background-color:rgba(102, 103, 237, 0.3);\">\n",
    "<b>Estados Puro y Mezcla</b>\n",
    "</table>   \n"
   ]
  },
  {
   "cell_type": "markdown",
   "metadata": {
    "slideshow": {
     "slide_type": "slide"
    }
   },
   "source": [
    "<div class=\"alert alert-block alert-info\",text-align:center>\n",
    "<p style=\"text-align: left ;color: navy;\">  \n",
    "Si con <i>certeza total</i> podemos afirmar que el estado de un sistema está descrito por un vector \n",
    "$\\ket{\\psi}\\in \\Hil$ \n",
    "decimos que nuestro sistema se encuentra en un <b>estado puro</b>.\n",
    "<br>\n",
    "</p>\n",
    "</div>"
   ]
  },
  {
   "cell_type": "markdown",
   "metadata": {
    "slideshow": {
     "slide_type": "subslide"
    }
   },
   "source": [
    "- El estado puro contiene el máximo grado de **información** que podemos obtener del sistema.\n",
    "\n",
    "\n",
    "- Dicha  *información*, acerca de los posibles resultados de medida, es **intrínsecamente probabilistica**. \n",
    "\n",
    "\n",
    "- Las probabilidades de obtener distintos resultados están codificadas en números complejos, las **amplitudes** de probabilidad.ç\n"
   ]
  },
  {
   "cell_type": "markdown",
   "metadata": {
    "slideshow": {
     "slide_type": "slide"
    }
   },
   "source": [
    "Si el  sistema se encuentra en un estado puro $\\ket{\\psi}$, la probabilidad de medir el estado $\\ket{0}$ será \n",
    "<br>\n",
    "\n",
    "$$\n",
    "p(\\ket{\\psi}\\to \\ket{0}) = |\\braket{0}{\\psi}|^2  = \n",
    "\\left\\vert\\bra{0}\\big(a\\ket{0}+b\\ket{1}\\big)\\right\\vert^2=\\left\\vert a\\braket{0}{0}+b \\braket{0}{1}\\right\\vert^2 = |a|^2\n",
    "$$\n",
    "<br>\n",
    "la de medir el estado $\\ket{1}$\n",
    "<br>\n",
    "$$\n",
    "p(\\ket{\\psi}\\to \\ket{1}) = |\\braket{1}{\\psi}|^2  = \\left\\vert\\bra{1}\\big(a\\ket{0}-b\\ket{1}\\big)\\right\\vert^2 =\\left\\vert a\\braket{1}{0}+b \\braket{1}{1}\\right\\vert^2= |b|^2\n",
    "$$\n",
    "\n",
    "y la de medir el estado $\\ket{+} =  \\frac{1}{\\sqrt{2}}(\\ket{0}+\\ket{1})$ será\n",
    "<br>\n",
    "\\begin{eqnarray}\n",
    "p(\\ket{\\psi}\\to \\ket{+})&=&|\\braket{+}{\\psi}|^2 =  \\frac{1}{2}\\left\\vert\\big(\\bra{0}+ \\bra{1}\\big)\\big(a\\ket{0}+b\\ket{1}\\big)\\right\\vert^2 = \\frac{1}{2}\\left\\vert\\big(a\\braket{0}{0}+b\\braket{1}{1}\\big)\n",
    "\\right\\vert^2 \\\\\n",
    "&=&\\frac{1}{2}|a+b|^2  = \\frac{1}{2}(a+b)(a^* + b^*) \n",
    "\\\\\n",
    "&=& \\frac{1}{2}\\left(\\rule{0mm}{4mm} |a|^2 + |b|^2 + 2{\\rm Re}(ab^*) \\right)\n",
    "\\end{eqnarray}\n",
    "\n",
    " El término que no tiene signo definido $2{\\rm Re}(ab^*)$ se denomina <b>interferencia</b>. Es el responsable de que\n",
    "$p(\\ket{\\psi}\\to \\ket{+})=0$ se pueda anular cuando $a=1=-b$. Es decir, cuano $\\ket{\\psi}= \\ket{-}$ y los estados son ortogonales $|\\braket{+}{-}|^2= p(\\ket{-}\\to\\ket{+})=0$.\n",
    "\n",
    "    \n"
   ]
  },
  {
   "cell_type": "markdown",
   "metadata": {
    "slideshow": {
     "slide_type": "slide"
    }
   },
   "source": [
    "¿Qué ocurre si no podemos tener la certeza al 100\\% de que el estado que describe el sistema sea $\\ket{\\psi}$?  \n",
    "\n",
    "Por ejemplo: supongamos que, a la salida de un polarizador de Stern Gerlach, encontramos que el estado es $\\ket{\\uparrow}$. Por otro lado, la fiabilidad nominal de dicho aparato es del 90\\%. Eso quiere decir que, con un 10\\% de probabilidad, el estado emergente ha sido, en realidad, $\\ket{\\downarrow}$.\n",
    "\n",
    "Lo natural en este caso es será construir con esta información una variable aleatoria $= \\{\\{\\ket{\\psi},0.9\\},\\{\\ket{\\psi_\\perp},0.1\\}\\}$ de la que obtendremos cada vez un estado u otro con distinta probabilidad. \n"
   ]
  },
  {
   "cell_type": "markdown",
   "metadata": {
    "slideshow": {
     "slide_type": "slide"
    }
   },
   "source": [
    "<div class=\"alert alert-block alert-info\",text-align:center>\n",
    "<p style=\"text-align: left ;color: navy;\">  \n",
    "En la situación más general, un  sistema estará en un <b>estado mixto</b> asociado a una variable aleatoria\n",
    "<br><br>\n",
    "$$\n",
    "\\{\\ket{\\psi_\\alpha},p_\\alpha\\}\n",
    "$$\n",
    "<br>\n",
    "que indica que, con probabilidad $p_\\alpha$,  el estado real del sistema es $\\ket{\\psi_\\alpha}$\n",
    "</p>\n",
    "</div>\n",
    "\n",
    "Es importante recalcar que las probabilidades $p_\\alpha\\in {\\mathbb R}$ son incertidumbres clásicas, y por tanto $p_\\alpha \\in [0,1]~,~ \\sum_\\alpha p_\\alpha = 1$.\n",
    "\n",
    "El estado mixto contiene al estado puro como un caso particular en el que $p_1=1$ para sólo un vector $\\ket{\\psi_1}$\n",
    "y cero para el resto.\n",
    "\n",
    "La variable aleatoria $\\{\\ket{\\psi_\\alpha},p_\\alpha\\}$ recibe también el nombre de <b>colectivo estadístico</b>"
   ]
  },
  {
   "cell_type": "markdown",
   "metadata": {
    "slideshow": {
     "slide_type": "slide"
    }
   },
   "source": [
    "<a id=\"incer_cuant\"></a>\n",
    "<a id='dirac'></a>\n",
    "<table width=\"100%\">\n",
    "    <td style=\"font-size:30px;font-family:Helvetica;text-align:left;background-color:rgba(102, 103, 237, 0.3);\">\n",
    "<b>La matriz densidad</b>\n",
    "</table>   \n"
   ]
  },
  {
   "cell_type": "markdown",
   "metadata": {
    "slideshow": {
     "slide_type": "slide"
    }
   },
   "source": [
    "Supongamos que a nuestro sistema le podemos asignar un estado mixto $\\{p_\\alpha,\\ket{\\psi_\\alpha}\\}$. \n",
    "\n",
    "La probabilidad, $p(\\lambda)$, de encontrar un autovector $\\ket{\\lambda}$ como resultado de la medida de un observable $A$, debe ser la *suma ponderada* de probabilidades  de esa medida en cada uno de los estados $\\ket{\\psi_\\alpha}$\n",
    "\n",
    "$$\n",
    "\\begin{array}{rcl} \n",
    "p(\\lambda) &=& \\sum_\\alpha p_\\alpha |\\braket{\\lambda}{\\psi_\\alpha}|^2 \\\\ \\rule{0mm}{6mm}\n",
    "&=& \\sum_\\alpha p_\\alpha \\braket{\\lambda}{\\psi_\\alpha}\\braket{\\psi_\\alpha}{\\lambda} \\\\ \\rule{0mm}{6mm}\n",
    "&=& \\bra{\\lambda}\\left(\\sum_\\alpha p_\\alpha \\ket{\\psi_\\alpha}\\bra{\\psi_\\alpha}\\right)\\ket{\\lambda} \\\\\n",
    "\\end{array}\n",
    "$$\n",
    "\n"
   ]
  },
  {
   "cell_type": "markdown",
   "metadata": {
    "slideshow": {
     "slide_type": "slide"
    }
   },
   "source": [
    "El resultado anterior muestra la aparición en escena de un nuevo operador hermítico \n",
    "que podemos formar con los datos del colectivo aleatorio $\\{p_\\alpha,\\ket{\\psi_\\alpha}\\}$\n",
    "\n",
    "$$\n",
    "\\rho = \\sum_\\alpha p_\\alpha \\ket{\\psi_\\alpha}\\bra{\\psi_\\alpha} = \\sum_\\alpha p_\\alpha P_\\alpha\n",
    "$$\n",
    "\n",
    "que se denomina *matriz densidad* y consiste en una suma ponderada de proyectores sobre cada uno de los subespacios generados por los estados posibles. \n",
    "\n",
    "Este es el objeto matemático que caracteriza un estado mezcla. En particular, como acabamos de ver, \n",
    "la probabilidad de encontrar el estado $\\ket{\\lambda}$ el *valor esperado* de la matriz densidad en dicho estado\n",
    "$$\n",
    "\\fbox{$\n",
    "p(\\lambda) =\\langle \\rho \\rangle_{\\ket{\\lambda}}$}\n",
    "$$"
   ]
  },
  {
   "cell_type": "markdown",
   "metadata": {
    "slideshow": {
     "slide_type": "slide"
    }
   },
   "source": [
    "De forma general un operador $\\rho$ será un candidato a matriz densidad de algún sistema si verifica las propiedades siguientes\n",
    "\n",
    "- ser hermítico\n",
    "\n",
    "- ser semidefinido positivo\n",
    "\n",
    "- tener traza unidad\n",
    "\n",
    "Claramente la expresión dada anteriormente cumple con todos estos requisitos. \n",
    "\n",
    "$$\n",
    "\\rho^\\dagger = \\left(\\sum_\\alpha p_\\alpha \\ket{\\psi_\\alpha}\\bra{\\psi_\\alpha}\\right)^\\dagger = \n",
    "\\sum_\\alpha p^*_\\alpha \\ket{\\psi_\\alpha}\\bra{\\psi_\\alpha} = \\rho\n",
    "$$\n",
    "\n",
    "dado que $p_\\alpha$ son probabilidades y por tanto numeros reales. "
   ]
  },
  {
   "cell_type": "markdown",
   "metadata": {
    "slideshow": {
     "slide_type": "slide"
    }
   },
   "source": [
    "De hecho escrito en esta base, la matriz que representa $\\rho$ es diagonal\n",
    "\n",
    "$$\n",
    "\\rho = \\begin{bmatrix} p_1& 0 & ... & 0 \\\\ 0 & p_2 & ... & 0 \\\\ & &\\vdots  & \\\\ 0 & 0 & \\cdots & p_n  \n",
    "\\end{bmatrix}\n",
    "$$\n",
    "\n",
    "Por tanto los números $p_\\alpha\\geq 0$ son los autovalores, que son no-negativos, lo cuál caracteriza un operador semidefinido positivo. \n",
    "Finalmente la traza es la unidad debido a que la suma de probabilidades es igual a 1\n",
    "\n",
    "$$\n",
    "{\\rm Tr}\\, \\rho = \\sum_\\alpha p_\\alpha = 1\n",
    "$$"
   ]
  },
  {
   "cell_type": "markdown",
   "metadata": {
    "slideshow": {
     "slide_type": "slide"
    }
   },
   "source": [
    "La matriz densidad es un formalismo que engloba al del vector estado, que sólo se aplica en el caso de ser el estado puro. En efecto, la matriz densidad asociada a un estado puro $\\ket{\\psi_0}$ se obtiene haciendo todas las probabilidades $p_{\\alpha\\neq 0}=0$ y $p_{0} = 1$. Entonces\n",
    "\n",
    "$$\n",
    "\\rho = \\ket{\\psi_0}\\bra{\\psi_0}\n",
    "$$\n",
    "\n",
    "es la matriz densidad que contiene la misma información. Es evidente que esta expresión cumple la propiedad que caracteriza a un proyector\n",
    "\n",
    "$$\n",
    "\\rho^2 = \\rho\n",
    "$$\n",
    "\n",
    "y esto es una ecuación que sólo verifican las matrices densidades asociadas a estados puros. Por el contrario, para un estado mezcla \n",
    "\n",
    "$$\n",
    "\\rho^2 \\neq \\rho\n",
    "$$"
   ]
  },
  {
   "cell_type": "markdown",
   "metadata": {
    "slideshow": {
     "slide_type": "slide"
    }
   },
   "source": [
    "### Caso multipartito<a id=\"mcas_mult\"></a>"
   ]
  },
  {
   "cell_type": "markdown",
   "metadata": {},
   "source": [
    "De forma similar, podemos definir la matriz densidad en sistemas multipartitos. Si consideramos por simplicidad un espacio $\\Hil=\\Hil_1\\otimes\\Hil_2$\n",
    "\n",
    "$$\\rho=\\sum_{ia,jb}\\rho_{ia,jb}\\ket{e_{ia}}\\bra{e_{jb}}$$\n",
    "\n",
    "Esta matriz, a su vez, puede ser separable\n",
    "\n",
    "$$\\rho=\\sum_a p_a \\rho_{1a}\\otimes\\rho_{2a}$$\n",
    "\n",
    "En el caso extremo en el que $\\rho=\\rho_1\\otimes\\rho_2$, los conjuntos aleatorios en cada uno de los espacios son totalmente independientes y decimos que la matriz de densidad es **no correlacionada**."
   ]
  },
  {
   "cell_type": "markdown",
   "metadata": {
    "slideshow": {
     "slide_type": "slide"
    }
   },
   "source": [
    "Finalmente, definimos la traza parcial, que se obtiene sumando únicamente en uno de los dos espacios\n",
    "\n",
    "$$\\rho_1 = {\\rm Tr}_2\\rho = \\sum_{a=1}^{d_2} \\bra{e_a^{(2)}} \\rho \\ket{e_a^{(2)}}\\ , \\quad \\rho_2 = {\\rm Tr}_1\\rho = \\sum_{a=1}^{d_1} \\bra{e_a^{(1)}} \\rho \\ket{e_a^{(1)}}$$"
   ]
  },
  {
   "cell_type": "markdown",
   "metadata": {
    "slideshow": {
     "slide_type": "-"
    }
   },
   "source": [
    "<div class=\"alert alert-block alert-danger\">\n",
    "    <b>Notar:</b> \n",
    "    \n",
    "Supongamos un **estado puro** $\\rho=\\ket{\\Psi}\\bra{\\Psi}$ con $\\ket{\\Psi}=\\sum_{ij}c_{ij}\\ket{e_{ij}}$ en cierta base. En este caso, $\\rho=\\rho^2$ es un proyector. Sin embargo, sus trazas parciales, en general, no lo serán\n",
    "    \n",
    "$$\\rho_{1ij} = \\sum_a c_{ia}c^\\ast_{ja} \\neq \\delta_{i1}\\delta_{j1}  \\quad \\Rightarrow \\quad  \\rho_1 \\neq \\rho_1^2$$\n",
    "    \n",
    "Lo mismo para $\\rho_2$.\n",
    "    \n",
    "</div>\n",
    "\n",
    "\n"
   ]
  },
  {
   "cell_type": "code",
   "execution_count": null,
   "metadata": {},
   "outputs": [],
   "source": []
  }
 ],
 "metadata": {
  "celltoolbar": "Slideshow",
  "kernelspec": {
   "display_name": "Python 3",
   "language": "python",
   "name": "python3"
  },
  "language_info": {
   "codemirror_mode": {
    "name": "ipython",
    "version": 3
   },
   "file_extension": ".py",
   "mimetype": "text/x-python",
   "name": "python",
   "nbconvert_exporter": "python",
   "pygments_lexer": "ipython3",
   "version": "3.8.5"
  },
  "varInspector": {
   "cols": {
    "lenName": 16,
    "lenType": 16,
    "lenVar": 40
   },
   "kernels_config": {
    "python": {
     "delete_cmd_postfix": "",
     "delete_cmd_prefix": "del ",
     "library": "var_list.py",
     "varRefreshCmd": "print(var_dic_list())"
    },
    "r": {
     "delete_cmd_postfix": ") ",
     "delete_cmd_prefix": "rm(",
     "library": "var_list.r",
     "varRefreshCmd": "cat(var_dic_list()) "
    }
   },
   "types_to_exclude": [
    "module",
    "function",
    "builtin_function_or_method",
    "instance",
    "_Feature"
   ],
   "window_display": false
  }
 },
 "nbformat": 4,
 "nbformat_minor": 5
}
