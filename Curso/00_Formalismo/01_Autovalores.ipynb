{
 "cells": [
  {
   "cell_type": "markdown",
   "metadata": {},
   "source": [
    "<img   src=\"../figuras/logo/TalentQ_LogoPosNegro.png\" align=center  width=\"120\"/>\n",
    "<br>\n",
    "\n",
    "<table width=\"100%\">\n",
    "<td style=\"font-size:50px;font-style:italic;text-align:right;background-color:rgba(0, 160, 120,0.6)\">\n",
    "Autovalores y Autovectores\n",
    "</td></table>\n",
    "$ \\newcommand{\\bra}[1]{\\langle #1|} $\n",
    "$ \\newcommand{\\ket}[1]{|#1\\rangle} $\n",
    "$ \\newcommand{\\braket}[2]{\\langle #1|#2\\rangle} $\n",
    "$ \\newcommand{\\i}{{\\color{blue} i}} $ \n",
    "$ \\newcommand{\\Hil}{{\\cal H}} $\n",
    "\n",
    "\n",
    "\n",
    "- [Autovalores y autovectores](#autov) \n",
    "\n",
    "- [Espectros de operadores](#especope)\n",
    "\n",
    "- [Matrices de Pauli](#paulis)\n",
    "\n"
   ]
  },
  {
   "cell_type": "markdown",
   "metadata": {
    "slideshow": {
     "slide_type": "slide"
    }
   },
   "source": [
    "<a id='autov'></a>\n",
    "<table width=\"100%\">\n",
    "    <td style=\"font-size:25px;font-family:Helvetica;text-align:left;background-color:rgba(12, 43, 337, 0.3);\">\n",
    "<b>Autovectores y autovalores</b>\n",
    "</table>   "
   ]
  },
  {
   "cell_type": "markdown",
   "metadata": {
    "slideshow": {
     "slide_type": "-"
    }
   },
   "source": [
    "- Dado un operador $A$, sabemos que la imagen de un vector $A\\ket{u}$ es otro vector $\\ket{v} = A\\ket{u}$, en general distinto. \n",
    "\n",
    "<div class=\"alert alert-block alert-info\",text-align:center>\n",
    " <p style=\"text-align: left ;color: navy;\">  \n",
    "<b> Definición: </b> \n",
    "     Existen vectores, $\\ket{\\lambda}$ para los cuales la <i>la acción de un operador</i> $A$ devuelve un vector <i>paralelo</i> \n",
    "<br><br>\n",
    "$$\n",
    "A\\ket{\\lambda} = \\lambda \\ket{\\lambda}\\, .\n",
    "$$\n",
    "<br>    \n",
    "Decimos que $\\ket{\\lambda}$ es un autovector de $A$ con <i>autovalor</i> asociado $\\lambda\\in {\\mathbb C}$ \n",
    "</div>\n",
    "\n"
   ]
  },
  {
   "cell_type": "markdown",
   "metadata": {
    "slideshow": {
     "slide_type": "slide"
    }
   },
   "source": [
    "<div class=\"alert alert-block alert-warning\">\n",
    "    <b>Ejemplo:</b>\n",
    "    \n",
    "Llamemos $R(\\theta)$ el operador que efectúa una rotación  en el plano de ángulo $\\theta$. Este operador no tiene ningún autovector ya que todo vector sobre el que actúa sufre una rotación. Sin embargo cuando $\\theta = \\pi$, para todo vector encontramos\n",
    "\n",
    "$$\n",
    "R(\\pi) \\ket{\\lambda} = -\\ket{\\lambda}\n",
    "$$\n",
    "\n",
    "por lo que,  el plano entero es un espacio vectorial propio de $A$, con autovalor $-1$. \n",
    "</div>"
   ]
  },
  {
   "cell_type": "markdown",
   "metadata": {
    "slideshow": {
     "slide_type": "slide"
    }
   },
   "source": [
    "- El *espectro* de un operador  es el conjunto de todos sus autovalores $\\{\\lambda_i\\}$, i =1,2,..,n. En general $n\\leq \\hbox{dim}\\Hil$. \n",
    "<br>\n",
    "\n",
    "- Si $\\ket{\\lambda}$ es un autovector, también lo es $\\ket{\\mu} = \\alpha\\ket{\\lambda}$ para cualquier número complejo $\\alpha$. En efecto\n",
    "<br>\n",
    "$$\n",
    "A\\ket{\\mu} = A(\\alpha\\ket{\\lambda}) = \\alpha A\\ket{\\lambda} = \\alpha\\lambda \\ket{\\lambda} = \\lambda \\alpha\\ket{\\lambda}= \\lambda\\ket{\\mu}\n",
    "$$\n",
    "<br>\n",
    "Es por ello, más correcto hablar del <i>supespacio propio</i> asociado al autovalor $\\lambda$, al que pertenecen tanto $\\ket{\\lambda}$ como $\\ket{\\mu}$.\n",
    "<br>\n",
    "<br>\n",
    "- Decimos que un autovalor $\\lambda$ es $g$ veces degenerado si existen $g$ autovectores linealmente independientes,  $\\ket{\\lambda^{a}}$ con $a=1,...,g$ asociados al **mismo** autovalor $A\\ket{\\lambda_i^a} = \\lambda_i \\ket{\\lambda_i^a}$. El número entero $g\\in {\\mathbb N}$ se denomina *degeneración* del autovalor $\\lambda$. \n",
    "<br>\n",
    "\n",
    "- Los autovectores de un autovalor $g$ veces degenerado forman un subespacio vectorial que llamamos *subespacio propio* del autovalor $\\lambda$. Si dichos autovectores son linealmente independientes, la dimensión del subespacio y la degeneración de $\\lambda$ coinciden.\n",
    "<br>"
   ]
  },
  {
   "cell_type": "markdown",
   "metadata": {},
   "source": [
    "<a id='especope'></a>\n",
    "<table width=\"100%\">\n",
    "    <td style=\"font-size:25px;font-family:Helvetica;text-align:left;background-color:rgba(12, 43, 337, 0.3);\">\n",
    "<b>Espectro de operadores</b>\n",
    "</table>   \n"
   ]
  },
  {
   "cell_type": "markdown",
   "metadata": {},
   "source": [
    "### Diagonalización\n",
    "\n",
    "Supongamos que $\\Hil$ tiene dimensión $N$. Si, dado un operador lineal $A$,  es posible encontrar $N$ autovectores \n",
    "\n",
    "$$\n",
    "A \\ket{\\lambda_i} = \\lambda_i \\ket{\\lambda_i} ~~~~~~~i = 1,\\ldots, N\n",
    "$$\n",
    "\n",
    "que sean ortonormales $\\braket{\\lambda_i}{\\lambda_j}=\\delta_{ij}$, decimos que \n",
    "<br>\n",
    "<br>\n",
    "\n",
    "-  $A$ es **diagonalizable**. Es decir, la matriz $A_{ij}$ que expresa $A$ en la base $\\ket{\\lambda_i}$ es diagonal \n",
    "\n",
    "$$\n",
    "A_{ij} = \\bra{\\lambda_i} A\\ket{\\lambda_j} = \\lambda_j \\braket{\\lambda_i}{\\lambda_j} = \\lambda_j \\delta_{ij} \n",
    "=\\begin{pmatrix} \\lambda_1 &  &  &  \\\\ & \\lambda_2 & &  \\\\ & & \\ddots & \\\\ & & &  \\lambda_N \\end{pmatrix}\n",
    "$$\n",
    "\n",
    "\n",
    "- El operador $A$ admite la **representación espectral**\n",
    "\n",
    "$$\n",
    "A =\\sum_{i=1}^N \\lambda_i \\ket{\\lambda_i}\\bra{\\lambda_i}\n",
    "$$\n"
   ]
  },
  {
   "cell_type": "markdown",
   "metadata": {},
   "source": [
    "<div class=\"alert alert-block alert-danger\">\n",
    "    <b>Advertencia:</b>\n",
    "El operador identidad tiene a cualquier vector por autovector $ I\\ket{v} = \\ket{v}$, con autovalores $\\lambda_ i = 1$. Por tanto, en <b>cualquier base</b>, la matriz asociada a $I$ tiene la forma diagonal\n",
    "$$\n",
    "I_{ij} = \\delta_{ij} = \\begin{pmatrix} 1 &  &  &  \\\\ & 1 & &  \\\\ & & \\ddots & \\\\ & & &  1 \\end{pmatrix}\n",
    "$$\n",
    "\n",
    "La descomposición espectral de $I$ no es otra que la <b>relación de completitud</b>, que es cierta para cualquier base, ya que todas las bases son bases de autoestados de $I$\n",
    "$$\n",
    "I ~=~ \\sum_{i=1}^N \\ket{\\lambda_i}\\bra{\\lambda_i} ~=~ \\sum_{i=1}^N \\ket{e_i}\\bra{e_i}\n",
    "$$\n",
    "</div>"
   ]
  },
  {
   "cell_type": "markdown",
   "metadata": {
    "slideshow": {
     "slide_type": "slide"
    }
   },
   "source": [
    "### Espectro de operadores Hermíticos"
   ]
  },
  {
   "cell_type": "markdown",
   "metadata": {
    "slideshow": {
     "slide_type": "-"
    }
   },
   "source": [
    "<div class=\"alert alert-block alert-info\",text-align:center>\n",
    " <p style=\"text-align: left ;color: navy;\">  \n",
    "El espectro de un operador hermítico  $A = A^\\dagger$,  tiene dos propiedades importantes:\n",
    "<br>\n",
    "<br>     \n",
    "- los <b>autovalores</b> de un operador hermíticos son reales $\\lambda_i \\in {\\mathbb R}$.\n",
    "<br>\n",
    "<br>\n",
    "     - los <b>autovectores</b> $\\ket{\\lambda_i}$ de un operador hermítico asociados a autovalores distintos son ortogonales.\n",
    "Es decir\n",
    "<br>\n",
    "<br>\n",
    "$$\n",
    "\\lambda_i\\neq \\lambda_j ~~~\\Leftrightarrow ~~~\\braket{\\lambda_i}{\\lambda_j} = 0\\, .\n",
    "$$\n",
    "</p>\n",
    "</div>"
   ]
  },
  {
   "cell_type": "markdown",
   "metadata": {
    "slideshow": {
     "slide_type": "slide"
    }
   },
   "source": [
    "- *Base ortonormal*: el conjunto de autovectores $\\ket{\\lambda_i}$ de un operador hermítico forma una base ortogonal. Puede normalizarse para formar una base ortonormal\n",
    "\n",
    "$$\n",
    "\\braket{\\lambda_i}{\\lambda_j} = \\delta_{ij}\n",
    "$$\n",
    "\n",
    "- *Descomposición espectral*:\n",
    "un operador hermítico admite la siguiente expresión en términos de su autovalores y autovectores\n",
    "\n",
    "$$\n",
    "A = \\sum_{i} \\lambda_i \\ket{\\lambda_i}\\bra{\\lambda_i} = \\sum_{i} \\lambda_i P_i \\, .\n",
    "$$\n",
    "\n",
    "La relación de completitud $I=\\sum_i \\ket{e_i}\\bra{e_i}$ es un ejemplo de descomposición espectral en el que todos los autovalores son iguales $\\lambda_i=1$"
   ]
  },
  {
   "cell_type": "markdown",
   "metadata": {},
   "source": [
    "<div class=\"alert alert-block alert-success\">\n",
    "    <b> Ejercicio: </b> Encuentra los autovalores y autovectores de las tres matrices de Pauli, $\\sigma_x, \\sigma_y $ y $\\sigma_z$.    \n",
    "</div>"
   ]
  },
  {
   "cell_type": "markdown",
   "metadata": {
    "slideshow": {
     "slide_type": "slide"
    }
   },
   "source": [
    "### Epectro de operadores Unitarios"
   ]
  },
  {
   "cell_type": "markdown",
   "metadata": {
    "slideshow": {
     "slide_type": "-"
    }
   },
   "source": [
    "Los autovalores de un operador unitario son fases puras\n",
    "<br><br>\n",
    "$$\n",
    "U^\\dagger = U^{-1} ~~~\\Longleftrightarrow ~~~\\lambda_i = e^{i\\phi_i}\n",
    "$$ \n",
    "<details>\n",
    "<summary><p style=\"color:grey;text-align:right\"> >> Prueba </p></summary>\n",
    "es evidente puesto que sólo estos números complejos verifican que el complejo conjugado y el inverso coinciden $\\lambda^* = \\lambda^{-1} \\Leftrightarrow \\lambda = e^{i\\phi}$.    \n",
    "</details>\n"
   ]
  },
  {
   "cell_type": "markdown",
   "metadata": {},
   "source": [
    "### Operadores que conmutan"
   ]
  },
  {
   "cell_type": "markdown",
   "metadata": {},
   "source": [
    "<a id='paulis'></a>\n",
    "<table width=\"100%\">\n",
    "    <td style=\"font-size:25px;font-family:Helvetica;text-align:left;background-color:rgba(12, 43, 337, 0.3);\">\n",
    "<b>Matrices de Pauli</b>\n",
    "</table>   \n"
   ]
  },
  {
   "cell_type": "markdown",
   "metadata": {},
   "source": [
    "<div class=\"alert alert-block alert-info\",text-align:center>\n",
    " <p style=\"text-align: left ;color: navy;\">  \n",
    "<b> Definición: </b>  $~$ se definen las matrices de Pauli \n",
    "<br>\n",
    "<br>\n",
    "$$\n",
    "\\sigma_x = \\begin{bmatrix} 0 & 1 \\\\ 1 & 0 \\end{bmatrix}~~~~~,~~~~~~~~~\n",
    "\\sigma_y = \\begin{bmatrix} 0 & -i \\\\ i & 0 \\end{bmatrix}~~~~~,~~~~~~~~~\n",
    "\\sigma_z = \\begin{bmatrix} 1 & 0 \\\\ 0 & -1 \\end{bmatrix} \\, .\n",
    "$$\n",
    "</div>\n"
   ]
  },
  {
   "cell_type": "markdown",
   "metadata": {},
   "source": [
    "\n",
    "También se usan los subíndices enteros $\\sigma_1=\\sigma_x, ~\n",
    "\\sigma_2=\\sigma_y$  y  $\\sigma_3=\\sigma_z$. Podemos agrupar las tres matrices en un <i>vector matricial</i>, $\\boldsymbol{\\sigma} = (\\sigma_x,\\sigma_y,\\sigma_z)$.\n",
    "\n",
    "\n",
    "<div class=\"alert alert-block alert-success\">\n",
    "    <b>Ejercicio:</b>\n",
    "Verifica que las matrices de Pauli son hermíticas y también unitarias    \n",
    " </details>\n",
    "</div>\n",
    "\n",
    "Deberías haber demostrado que las matrices hermíticas y las unitarias de dimensión 2$\\times$2 tienen cuatro grados de libertad. \n",
    "\n",
    "Si añadimos la matriz identidad $~I = \\begin{bmatrix} 1 & 0 \\\\ 0 & 1 \\end{bmatrix}~\n",
    "$  el conjunto $\\{I,\\sigma_x,\\sigma_y,\\sigma_z\\}$ forma una *base* para el espacio de matrices hermíticas $2\\times 2$.  \n",
    "\n",
    "$$\n",
    "A = a_0 I + a_1 \\sigma_1 + a_2 \\sigma_2 + a_3 \\sigma_3 = \n",
    "\\begin{bmatrix}\n",
    "a_0 + a_3 & a_1 - i a_2 \\\\ a_1 + i a_2 & a_0 - a_3\n",
    "\\end{bmatrix}\n",
    "$$\n",
    "con $a_i\\in {\\mathbb R}$ cuatro números reales."
   ]
  },
  {
   "cell_type": "markdown",
   "metadata": {},
   "source": [
    "Recordar que la fórmula de Euler permite escribir, para una fase compleja $ e^{i\\alpha} = \\cos\\alpha + i \\sin\\alpha $.\n",
    "\n",
    "Ahora estamos en disposición de probar la generalización a matrices de Pauli.  Sea ${\\bf a} = (a_1,a_2,a_3) = a\\, \\hat{\\bf n}$ donde $a=|{\\bf a}|$ es el módulo"
   ]
  },
  {
   "cell_type": "markdown",
   "metadata": {},
   "source": [
    "<div class=\"alert alert-block alert-info\",text-align:center>\n",
    "<p style=\"text-align: left ;color: navy;\">  \n",
    "<b> Teorema: </b>  $~$ \n",
    "$$\n",
    "\\exp \\left( \\rule{0mm}{4mm} i  {\\bf a} \\cdot \\boldsymbol{\\sigma}  \\right) = \\cos a \\, I + i \\sin a \\,(\\hat{\\bf n} \\cdot  \\boldsymbol{\\sigma}) \\, \n",
    "$$\n",
    "</div>"
   ]
  },
  {
   "cell_type": "code",
   "execution_count": null,
   "metadata": {},
   "outputs": [],
   "source": []
  }
 ],
 "metadata": {
  "kernelspec": {
   "display_name": "Python 3",
   "language": "python",
   "name": "python3"
  },
  "language_info": {
   "codemirror_mode": {
    "name": "ipython",
    "version": 3
   },
   "file_extension": ".py",
   "mimetype": "text/x-python",
   "name": "python",
   "nbconvert_exporter": "python",
   "pygments_lexer": "ipython3",
   "version": "3.7.10"
  },
  "varInspector": {
   "cols": {
    "lenName": 16,
    "lenType": 16,
    "lenVar": 40
   },
   "kernels_config": {
    "python": {
     "delete_cmd_postfix": "",
     "delete_cmd_prefix": "del ",
     "library": "var_list.py",
     "varRefreshCmd": "print(var_dic_list())"
    },
    "r": {
     "delete_cmd_postfix": ") ",
     "delete_cmd_prefix": "rm(",
     "library": "var_list.r",
     "varRefreshCmd": "cat(var_dic_list()) "
    }
   },
   "types_to_exclude": [
    "module",
    "function",
    "builtin_function_or_method",
    "instance",
    "_Feature"
   ],
   "window_display": false
  }
 },
 "nbformat": 4,
 "nbformat_minor": 4
}
