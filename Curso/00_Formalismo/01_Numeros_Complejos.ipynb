{
 "cells": [
  {
   "cell_type": "markdown",
   "id": "7e9e9fd9",
   "metadata": {
    "slideshow": {
     "slide_type": "slide"
    }
   },
   "source": [
    "\n",
    "<img   src=\"../figuras/logo/Logo_TalentQ.png\" align=center  width=\"120\"/>\n",
    "<br>\n",
    "\n",
    "<table width=\"100%\">\n",
    "<td style=\"font-size:50px;font-style:italic;text-align:right;background-color:rgba(0, 160, 120,0.6)\">\n",
    "Números Complejos \n",
    "</td></table>\n",
    "\n",
    "\n",
    "\n",
    "$ \\newcommand{\\bra}[1]{\\langle #1|} $\n",
    "$ \\newcommand{\\ket}[1]{|#1\\rangle} $\n",
    "$ \\newcommand{\\braket}[2]{\\langle #1|#2\\rangle} $\n",
    "$ \\newcommand{\\i}{{ i}} $ \n",
    "$ \\newcommand{\\Hil}{{\\mathbb H}} $"
   ]
  },
  {
   "cell_type": "markdown",
   "id": "7d97dde2",
   "metadata": {
    "slideshow": {
     "slide_type": "fragment"
    }
   },
   "source": [
    "\n",
    "   - [Formas cartesiana y polar](#defi) \n",
    "\n",
    "   -  [Operaciones básicas](#opbasi)\n",
    " \n",
    "   - [Casos importantes](#ejempnc)\n"
   ]
  },
  {
   "cell_type": "code",
   "execution_count": 5,
   "id": "bfa08fd2",
   "metadata": {
    "slideshow": {
     "slide_type": "skip"
    }
   },
   "outputs": [],
   "source": [
    "%run ../macro_CURSO.py"
   ]
  },
  {
   "cell_type": "markdown",
   "id": "436d58ce",
   "metadata": {
    "slideshow": {
     "slide_type": "slide"
    }
   },
   "source": [
    "<a id='dirac'></a>\n",
    "<table width=\"100%\">\n",
    "    <td style=\"font-size:30px;font-family:Helvetica;text-align:left;background-color:rgba(12, 43, 337, 0.3);\">\n",
    "<b>Introducción</b>\n",
    "</table>   "
   ]
  },
  {
   "cell_type": "markdown",
   "id": "12d0c185",
   "metadata": {
    "slideshow": {
     "slide_type": "slide"
    }
   },
   "source": [
    "La Mecánica Cuántica hace uso de unas matemáticas con las que es necesario familiarizarse. En particular el uso de números complejos es esencial."
   ]
  },
  {
   "cell_type": "markdown",
   "id": "34871801",
   "metadata": {
    "slideshow": {
     "slide_type": "slide"
    }
   },
   "source": [
    "Recuerda que el cuadrado de un número real, $a\\in {\\mathbb R}$ *siempre*  es positivo $a^2 >0$.  \n",
    "\n",
    "Así, por ejemplo $2^2 = (-2)^2 = +4$. \n",
    "\n",
    "Por eso, la raíz cuadrada de un número real *sólo* existe si dicho número es positivo.  \n",
    "\n",
    "Por ejemplo $\\sqrt{4}=2$, mientras que $\\sqrt{-4}= $?\n"
   ]
  },
  {
   "cell_type": "markdown",
   "id": "b5a40456",
   "metadata": {
    "slideshow": {
     "slide_type": "slide"
    }
   },
   "source": [
    "Surge la pregunta de si será posible tomar la raíz cuadrada de un número negativo. \n",
    "\n",
    "Resulta que, para hacerlo, es necesario ampliar el conjunto de los números reales. \n"
   ]
  },
  {
   "cell_type": "markdown",
   "id": "e9a7b452",
   "metadata": {
    "slideshow": {
     "slide_type": "slide"
    }
   },
   "source": [
    "<div class=\"alert alert-block alert-info\",text-align:center>\n",
    "<p style=\"text-align: center; color: navy\"> \n",
    "Se postula la existencia de un nuevo número, $i$, que es solución de la ecuación $~$\n",
    "<br><br>\n",
    "$$ i^2 = -1$$\n",
    "</p>\n",
    "</div>\n",
    "\n",
    "Equivalentemente $\\i = \\sqrt{-1}$.\n",
    " \n"
   ]
  },
  {
   "cell_type": "markdown",
   "id": "4e08d1c2",
   "metadata": {
    "slideshow": {
     "slide_type": "slide"
    }
   },
   "source": [
    "No hay nada misterioso en $i$. Se puede multiplicar y sumar normalmente\n",
    "\n",
    "\\begin{eqnarray}\n",
    "i + i &=& 2i \\nonumber\\\\\n",
    "i - i &=& 0 \\nonumber\\\\\n",
    "i + 2i &=& 3 i \\nonumber\\\\\n",
    "i^3  &=& i*i*i = -i \\nonumber\\\\\n",
    "\\frac{i}{i} &=& 1\n",
    "\\end{eqnarray}"
   ]
  },
  {
   "cell_type": "markdown",
   "id": "62aac156",
   "metadata": {
    "slideshow": {
     "slide_type": "slide"
    }
   },
   "source": [
    "\n",
    "En resumen: la solución al problema planteado es *extender* el cuerpo de los números reales ${\\mathbb R}$ al de los complejos ${\\mathbb C}$ que, ahora, incluyen el número $i$\n",
    " "
   ]
  },
  {
   "cell_type": "markdown",
   "id": "d43e52d6",
   "metadata": {
    "slideshow": {
     "slide_type": "slide"
    }
   },
   "source": [
    "<a id='defi'></a>\n",
    "<table width=\"100%\">\n",
    "    <td style=\"font-size:30px;font-family:Helvetica;text-align:left;background-color:rgba(12, 43, 337, 0.3);\">\n",
    "<b>Formas cartesiana y polar</b>\n",
    "</table>   "
   ]
  },
  {
   "cell_type": "markdown",
   "id": "146a1892",
   "metadata": {
    "slideshow": {
     "slide_type": "slide"
    }
   },
   "source": [
    "### Forma Cartesiana\n",
    "\n",
    "\n",
    "\n",
    "\n",
    "\n",
    " Un *número complejo*, $z \\in {\\mathbb C}$, se representa en *forma cartesiana*  mediante dos \n",
    " números reales $x,y\\in {\\mathbb R}$ \n",
    "<br>\n",
    "\n",
    "$$\n",
    "z = x + \\i y   ~~~~ \\hbox{donde}~~~ \n",
    "\\left\\{\\begin{array}{cl} x &\\hbox{es la }   parte~ real\\\\\n",
    "y & \\hbox{es la } parte~imaginaria\n",
    "\\end{array}\n",
    "\\right.\n",
    "$$\n",
    "<br>\n",
    "La *representación* de un número complejo se realiza en el *plano complejo*. La parte real (imaginaria) se representa en el eje horizontal (vertical).\n",
    "\n",
    "***"
   ]
  },
  {
   "cell_type": "markdown",
   "id": "207fbf83",
   "metadata": {},
   "source": [
    "### Numeros complejos en python:\n",
    " \n",
    " el número  imaginario $\\i$ se representa con la letra j en python.  Añadiendo 0j convertimos un <i>float</i> en un <i>complex</i>\n"
   ]
  },
  {
   "cell_type": "code",
   "execution_count": 5,
   "id": "dc2eaeeb",
   "metadata": {
    "slideshow": {
     "slide_type": "slide"
    }
   },
   "outputs": [
    {
     "name": "stdout",
     "output_type": "stream",
     "text": [
      "True\n",
      "False\n",
      "True\n"
     ]
    }
   ],
   "source": [
    "print(isinstance(1.5,float))\n",
    "print(isinstance(1.5+0j,float))\n",
    "print(isinstance(1.5+0j,complex))"
   ]
  },
  {
   "cell_type": "code",
   "execution_count": 6,
   "id": "8b63b417",
   "metadata": {
    "slideshow": {
     "slide_type": "slide"
    }
   },
   "outputs": [
    {
     "name": "stdout",
     "output_type": "stream",
     "text": [
      "z=x+iy= (3+2j)\n"
     ]
    },
    {
     "data": {
      "image/png": "[encoded data removed]",
      "text/plain": [
       "<Figure size 576x576 with 1 Axes>"
      ]
     },
     "metadata": {
      "needs_background": "light"
     },
     "output_type": "display_data"
    }
   ],
   "source": [
    "'''Forma cartesiana''' \n",
    "\n",
    "z = 3+2j\n",
    "\n",
    "x=z.real\n",
    "y=z.imag\n",
    "print('z=x+iy=',x + 1j*y)\n",
    "\n",
    "''' Representación en el plano complejo '''\n",
    "'''esta función está en macro_CURSO.py  '''\n",
    "plot_2D_plane(left=-int(abs(x))-1,right=int(abs(x))+1,up=int(abs(y))+1,down=-int(abs(y))-1)\n",
    "draw_vector(z.real,z.imag,'b')"
   ]
  },
  {
   "cell_type": "markdown",
   "id": "6e5b857e",
   "metadata": {
    "slideshow": {
     "slide_type": "slide"
    }
   },
   "source": [
    "### Conjugacion compleja\n",
    " \n",
    "Todo número complejo, $z$, lleva *asociado* otro, $z^*$, denominado el *complejo conjugado* que se obtiene cambiando $\\i \\to -\\i$\n",
    "<br>\n",
    "\n",
    "$$\n",
    "z = x+\\i y ~~~~\\leftrightarrow~~~~ z^* = x - \\i y \\hspace{2cm}\n",
    "$$\n",
    "<br>\n",
    "\n",
    "Es evidente que $(z^*)^* = z$. Matemáticamente, la conjugación compleja es una *involución*"
   ]
  },
  {
   "cell_type": "code",
   "execution_count": 10,
   "id": "8ad6c64d",
   "metadata": {
    "slideshow": {
     "slide_type": "slide"
    }
   },
   "outputs": [
    {
     "name": "stdout",
     "output_type": "stream",
     "text": [
      "z*=(x+iy)*= (3-2j)\n"
     ]
    },
    {
     "data": {
      "image/png": "[encoded data removed]",
      "text/plain": [
       "<Figure size 576x576 with 1 Axes>"
      ]
     },
     "metadata": {
      "needs_background": "light"
     },
     "output_type": "display_data"
    }
   ],
   "source": [
    "'''Conjugacion compleja'''\n",
    "zc = z.conjugate()\n",
    "print('z*=(x+iy)*=',z.real + 1j*zc.imag)\n",
    "\n",
    "''' Representación en el plano complejo '''\n",
    "plot_2D_plane(left=-int(abs(x))-1,right=int(abs(x))+1,up=int(abs(y))+1,down=-int(abs(y))-1)\n",
    "draw_vector(z.real,z.imag,'b')\n",
    "draw_vector(zc.real,zc.imag,vcolor='r')"
   ]
  },
  {
   "cell_type": "markdown",
   "id": "66eb52f7",
   "metadata": {
    "slideshow": {
     "slide_type": "slide"
    }
   },
   "source": [
    "### Formula de Euler\n",
    "\n",
    "\n",
    "\n",
    " Dado un ángulo $\\theta \\in (0,2\\pi)$ podemos formar \n",
    "el siguiente número complejo\n",
    "<br>\n",
    "\n",
    "$$\n",
    "\\cos\\theta + i \\sin \\theta = e^{i\\theta} \n",
    "$$\n",
    "\n"
   ]
  },
  {
   "cell_type": "markdown",
   "id": "f3aa6962",
   "metadata": {
    "slideshow": {
     "slide_type": "slide"
    }
   },
   "source": [
    "<details>\n",
    "<summary><p style=\"color:blue\"> >>Demostración</p></summary>\n",
    "<br>\n",
    "La demostración de la Fórmula de Euler viene de expandir ambos miembros en serie de Taylor en torno a $\\theta = 0$ y comprobar que ambas series son iguales\n",
    "<br> \n",
    "\\begin{array}{rcl}\n",
    "e^{i\\theta} &=& 1 + \\i\\theta + \\frac{1}{2}(\\i\\theta)^2 + \\frac{1}{3!}(\\i\\theta)^3+\\, ... \\\\\n",
    "    &=& 1 -\\frac{1}{2}\\theta^2 ~+~ ... ~+~ \\i \\left(\\theta - \\frac{1}{3!} \\theta^3+ \\, ...\\right) \\\\\n",
    "    &=& \\cos \\theta  + i \\sin \\theta \n",
    "\\end{array} \n",
    "</details>\n"
   ]
  },
  {
   "cell_type": "markdown",
   "id": "497fda62",
   "metadata": {
    "slideshow": {
     "slide_type": "slide"
    }
   },
   "source": [
    "### Forma Polar\n",
    "\n",
    "El número $z=x + \\i y$ se puede representar en *forma polar*\n",
    "<br> \n",
    "\n",
    "$$\n",
    "z = \\rho e^{i\\theta} = \\rho (\\cos\\theta + \\i \\sin\\theta)  \n",
    "$$\n",
    "<br>\n",
    "de donde obtenemos las componentes cartesianas \n",
    "\n",
    "$$x=\\rho\\cos\\theta ~~,~~y=\\rho\\sin\\theta$$\n",
    "\n",
    "y por tanto $\\rho^2 = x^2 + y^2$"
   ]
  },
  {
   "cell_type": "markdown",
   "id": "1c4ea988",
   "metadata": {
    "slideshow": {
     "slide_type": "slide"
    }
   },
   "source": [
    "Los números reales $\\rho$ y $\\theta$ se denominan *módulo* y *fase*.\n",
    "Las fases $\\theta$ y $\\theta+ 2\\pi$ representan el *mismo* número complejo\n",
    "<br>\n",
    "\n",
    "$$\n",
    "z = \\rho e^{i\\theta} = \\rho e^{i(\\theta + 2\\pi)} \n",
    "$$\n",
    "<br>\n",
    "\n",
    "Ello se debe a que las funciones $\\cos \\theta$ y $\\sin\\theta$ son periódicas\n",
    "\n",
    "$$\n",
    "\\sin\\theta  = \\sin(\\theta + 2\\pi)~~~~~~~\\cos\\theta  = \\cos(\\theta +2\\pi)\n",
    "$$"
   ]
  },
  {
   "cell_type": "markdown",
   "id": "245136a6",
   "metadata": {
    "slideshow": {
     "slide_type": "slide"
    }
   },
   "source": [
    "-  Los números complejos de módulo unidad $\\rho=1$, se denominan también *fases* aunque se trata de un abuso de lenguaje\n",
    "\n",
    "\n",
    "- En forma polar la *conjugación compleja* se obtiene *cambiando el signo* de la fase\n",
    "\n",
    "$$\n",
    "z = \\rho e^{i\\theta} ~\\rightarrow ~z^* = \\rho e^{-i\\theta} = \\rho \\cos\\theta - \\i \\rho \\sin\\theta \\hspace{4cm}\n",
    "$$\n",
    "\n",
    "<br>"
   ]
  },
  {
   "cell_type": "code",
   "execution_count": 12,
   "id": "f7231030",
   "metadata": {
    "slideshow": {
     "slide_type": "slide"
    }
   },
   "outputs": [
    {
     "name": "stdout",
     "output_type": "stream",
     "text": [
      "(-1.8729133745815927-0.7015664553792397j)\n",
      "z=r exp(i th)= (-1.873-0.702j)\n"
     ]
    },
    {
     "data": {
      "image/png": "[encoded data removed]",
      "text/plain": [
       "<Figure size 576x576 with 1 Axes>"
      ]
     },
     "metadata": {
      "needs_background": "light"
     },
     "output_type": "display_data"
    }
   ],
   "source": [
    "'''Forma polar'''\n",
    "r=2\n",
    "th=3.5\n",
    "z = r*np.exp(th*1j)\n",
    "print(z)\n",
    "x=z.real\n",
    "y=z.imag\n",
    "print('z=r exp(i th)=',np.round(x,3) + np.round(y,3)*1j)\n",
    "\n",
    "\n",
    "''' Dibujamos en el plano complejo '''\n",
    "plot_2D_plane(left=-int(abs(x))-1,right=int(abs(x))+1,up=int(abs(y))+1,down=-int(abs(y))-1)\n",
    "draw_vector(z.real,z.imag)\n",
    "draw_vector(z.conjugate().real,z.conjugate().imag,vcolor='r')"
   ]
  },
  {
   "cell_type": "markdown",
   "id": "e700a4b6",
   "metadata": {
    "slideshow": {
     "slide_type": "slide"
    }
   },
   "source": [
    "<div class=\"alert alert-block alert-success\">\n",
    "    <b>Ejercicio:</b>\n",
    "    \n",
    "haz una lista de 10 números (fases) $\\theta_i, ~i=0,...,9$, equi-espaciadas entre 0 y 2$\\pi$ y pinta los números complejos $z_i = r \\exp(i \\theta_i)$ y sus complejos conjugados, $z^*_i$.\n",
    "</div>\n",
    "\n"
   ]
  },
  {
   "cell_type": "markdown",
   "id": "5f8ba1d2",
   "metadata": {
    "slideshow": {
     "slide_type": "slide"
    }
   },
   "source": [
    "### Conversión entre formas cartesiana y polar\n",
    "\n",
    "\n",
    "\n",
    "La conversión de la representación *polar a cartesiana* es muy sencilla\n",
    "gracias a las fórmula de Euler\n",
    "\n",
    "\n",
    "<br>\n",
    "\n",
    "$$\n",
    "z = r e^{i\\theta} = x + i y ~~~\\hbox{ con }  ~~~\\left\\{\\begin{array}{l} x=r \\cos \\theta \\\\ \\rule{0mm}{4mm} y = r\\sin \\theta\n",
    "\\end{array} \\right.\n",
    "$$\n",
    "\n",
    "<br>"
   ]
  },
  {
   "cell_type": "markdown",
   "id": "ed516a8b",
   "metadata": {
    "slideshow": {
     "slide_type": "slide"
    }
   },
   "source": [
    "La conversión inversa, *de cartesiana a polar* es un poco más delicada. Formalmente sería\n",
    "\n",
    "<br>\n",
    "\n",
    "\n",
    "$$\n",
    "z = x + i y  = r e^{i\\theta} ~~~ \\hbox{ con } ~~~ \\left\\{\\begin{array}{l} r=\\sqrt{x^2+y^2} \\\\  \\rule{0mm}{4mm} \\theta = \\arctan(y/x)\n",
    "\\end{array} \\right.\n",
    "$$\n",
    "\n",
    "<br>\n",
    "\n",
    "\n",
    "A la hora de la verdad,hay que fijar el signo de la función $\\arctan(y/x)$. La siguiente función examina esto mirando a los signos de $x$ y de $y$ para saber en qué cuadrante estamos."
   ]
  },
  {
   "cell_type": "markdown",
   "id": "0ac74d82",
   "metadata": {
    "slideshow": {
     "slide_type": "slide"
    }
   },
   "source": [
    "<div class=\"alert alert-block alert-success\">\n",
    "    <b>Ejercicio:</b>\n",
    "calcula  la forma polar del número complejo $z = 4 + 3 i$\n",
    "</div>\n"
   ]
  },
  {
   "cell_type": "code",
   "execution_count": 5,
   "id": "53ed7ff3",
   "metadata": {
    "slideshow": {
     "slide_type": "-"
    }
   },
   "outputs": [],
   "source": [
    "'Conversión de Cartesianas a Polares'\n",
    "def cartes2polar(z):\n",
    "\n",
    "    r = np.abs(z)    \n",
    "    \n",
    "    if r==0:\n",
    "        print('el número 0+i0 no admite representación polar')\n",
    "        th='indefinido'\n",
    "    elif z.real==0 and z.imag>0: \n",
    "        th=np.pi/2\n",
    "    elif z.real==0 and z.imag<0:\n",
    "        th=3*np.pi/2\n",
    "    elif z.real>0 and z.imag>=0:\n",
    "        th=np.arctan(z.imag/z.real)\n",
    "    elif z.real<0 and z.imag>=0:\n",
    "        th=np.arctan(-z.imag/z.real)+np.pi/2\n",
    "    elif z.real<0 and z.imag<0:\n",
    "        th=np.arctan(z.imag/z.real)+np.pi\n",
    "    elif z.real>0 and z.imag<0:\n",
    "         th=np.arctan(-z.imag/z.real)+3*np.pi/2.       \n",
    "            \n",
    "    return r,th"
   ]
  },
  {
   "cell_type": "markdown",
   "id": "50c19564",
   "metadata": {
    "slideshow": {
     "slide_type": "slide"
    }
   },
   "source": [
    "<div class=\"alert alert-block alert-success\">\n",
    "    <b>Ejercicio:</b>\n",
    "     Verifica el resultado usando la función que hemos definido.\n",
    "</div>\n"
   ]
  },
  {
   "cell_type": "code",
   "execution_count": 8,
   "id": "af338346",
   "metadata": {
    "slideshow": {
     "slide_type": "-"
    }
   },
   "outputs": [
    {
     "name": "stdout",
     "output_type": "stream",
     "text": [
      "(2.63+1.44j)\n"
     ]
    }
   ],
   "source": [
    "'A la inversa no es necesario definir ninguna funcion, ya que numpy directamente escribe un numero complejo en forma cartesiana'\n",
    "z = 3*np.exp(1j*0.5)\n",
    "print(np.round(z,2))\n"
   ]
  },
  {
   "cell_type": "markdown",
   "id": "27a54dd3",
   "metadata": {
    "slideshow": {
     "slide_type": "slide"
    }
   },
   "source": [
    "<a id=\"opbasi\"></a>\n",
    "<table width=\"100%\">\n",
    "    <td style=\"font-size:30px;font-family:Helvetica;text-align:left;background-color:rgba(12, 43, 337, 0.3);\">\n",
    "<b>Operaciones básicas</b>\n",
    "</table>  \n",
    "\n",
    "Los numeros complejos ${\\mathbb C}$ forman una estructura matemática denominada *cuerpo*. Esto  quiere decir que admiten dos operaciones *internas*: la **suma** y la **multiplicación**. Vamos a estudiarlas por separado\n",
    "\n"
   ]
  },
  {
   "cell_type": "markdown",
   "id": "f6366f97",
   "metadata": {
    "slideshow": {
     "slide_type": "skip"
    }
   },
   "source": [
    "\n",
    "### Suma\n",
    "\n",
    "\n",
    "En representación *cartesiana* se *suman las partes real e imaginaria por separado*\n",
    "\n",
    "<br>\n",
    "\n",
    "$$\n",
    "(a + \\i b) + (c + \\i d) = (a+c) + \\i (b+d)\\hspace{6cm}\n",
    "$$ \n",
    "\n",
    "<br>\n",
    "\n",
    "\n",
    "\n",
    "La resta es obvia, ya que $a,b,c,d$ pueden ser números negativos. \n"
   ]
  },
  {
   "cell_type": "code",
   "execution_count": 11,
   "id": "56e9a3de",
   "metadata": {
    "scrolled": true,
    "slideshow": {
     "slide_type": "slide"
    }
   },
   "outputs": [
    {
     "name": "stdout",
     "output_type": "stream",
     "text": [
      "z1+z2= (3+6j)\n",
      "z1-z2= (-1+2j)\n",
      "************************************\n"
     ]
    },
    {
     "data": {
      "image/png": "[encoded data removed]",
      "text/plain": [
       "<Figure size 576x576 with 1 Axes>"
      ]
     },
     "metadata": {
      "needs_background": "light"
     },
     "output_type": "display_data"
    }
   ],
   "source": [
    "'''Suma en cartesianas'''\n",
    "\n",
    "z1 = 1+4j\n",
    "z2 = 2+2j\n",
    "\n",
    "'''Suma y resta'''\n",
    "zs = z1+z2\n",
    "zd = z1-z2\n",
    "\n",
    "print('z1+z2=',zs)\n",
    "print('z1-z2=',zd)\n",
    "print('************************************')\n",
    "\n",
    "plot_2D_plane(left=-2,right=4,up=7,down=-1) #cambiar las dimensiones para que encuadrar la figura\n",
    "draw_vector(z1.real,z1.imag,'b')\n",
    "draw_vector(z2.real,z2.imag,'b')\n",
    "draw_vector(zs.real,zs.imag,vcolor='r')\n",
    "draw_vector(zd.real,zd.imag,vcolor='g')\n"
   ]
  },
  {
   "cell_type": "markdown",
   "id": "4a935d0c",
   "metadata": {
    "slideshow": {
     "slide_type": "slide"
    }
   },
   "source": [
    "En *forma polar*, la suma de dos números complejos no admite ninguna simplificación, y deben transformarse primeramente a forma cartesiana, para sumarse. \n",
    "\n",
    "$$\n",
    "z + w = \\rho e^{i\\theta} + \\sigma e^{i\\phi} = (\\rho\\cos\\theta + \\sigma\\cos\\phi) + i(\\rho\\sin\\theta +  \\sigma\\sin\\phi) \\hspace{6cm}\n",
    "$$"
   ]
  },
  {
   "cell_type": "code",
   "execution_count": 5,
   "id": "8154ef95",
   "metadata": {
    "slideshow": {
     "slide_type": "slide"
    }
   },
   "outputs": [
    {
     "name": "stdout",
     "output_type": "stream",
     "text": [
      "z1+z2= (3.3976+0.7941j)\n",
      "z1-z2= (1.8679+2.0825j)\n",
      "************************************\n"
     ]
    },
    {
     "data": {
      "image/png": "[encoded data removed]",
      "text/plain": [
       "<Figure size 576x576 with 1 Axes>"
      ]
     },
     "metadata": {
      "needs_background": "light"
     },
     "output_type": "display_data"
    }
   ],
   "source": [
    "'python directamente escribe un numero complejo en forma cartesiana'\n",
    "z1 = 3*np.exp(1j*0.5)\n",
    "z2 = 1*np.exp(-1j*0.7)\n",
    "\n",
    "'''Suma y resta'''\n",
    "zs = z1+z2\n",
    "zd = z1-z2\n",
    "\n",
    "print('z1+z2=',np.round(zs,4))\n",
    "print('z1-z2=',np.round(zd,4))\n",
    "print('************************************')\n",
    "\n",
    "plot_2D_plane(left=-2,right=4,up=3,down=-1) #cambiar las dimensiones para que encuadrar la figura\n",
    "draw_vector(z1.real,z1.imag,'b')\n",
    "draw_vector(z2.real,z2.imag,'b')\n",
    "draw_vector(zs.real,zs.imag,vcolor='r')\n",
    "draw_vector(zd.real,zd.imag,vcolor='g')\n"
   ]
  },
  {
   "cell_type": "markdown",
   "id": "64c0acfc",
   "metadata": {
    "slideshow": {
     "slide_type": "slide"
    }
   },
   "source": [
    "###  Multiplicación \n",
    "\n",
    "\n",
    "\n",
    "En *forma cartesiana* la multiplicación es complicada, debiendo multiplicarse todos los factores entre sí, y\n",
    "teniendo en cuenta que $\\i^2= -1$\n",
    "\n",
    "$$\n",
    "(a + \\i b) (c + \\i d) =ab +  a\\i d +\\i bc +\\i^2 bd = (ab - bd) + \\i(ad + bd)\\hspace{6cm}\n",
    "$$ \n",
    "\n",
    "Para hallar el producto de dos números complejos $z=\\alpha e^{i\\theta}$ y $w=\\beta e^{i\\phi}$ escritos en forma polar, se multiplican los módulos y se suman las fases\n",
    "\n",
    "$$\n",
    "z w = \\rho e^{i\\theta} \\sigma e^{i\\phi} = \\rho\\sigma\\,  e^{i(\\theta + \\phi)} \n",
    "$$"
   ]
  },
  {
   "cell_type": "code",
   "execution_count": 12,
   "id": "991eaca6",
   "metadata": {
    "slideshow": {
     "slide_type": "slide"
    }
   },
   "outputs": [
    {
     "name": "stdout",
     "output_type": "stream",
     "text": [
      "z1*z2 =  (2.9402-0.596j)\n",
      "z1**3 =  (-722+103j)\n",
      "************************************\n"
     ]
    }
   ],
   "source": [
    "z1 = 3*np.exp(1j*0.5)\n",
    "z2 = 1*np.exp(-1j*0.7)\n",
    "'''Producto'''\n",
    "print('z1*z2 = ', np.round(z1*z2,4))\n",
    "print('z1**3 = ', np.round(pow(z1,6)))\n",
    "print('************************************')"
   ]
  },
  {
   "cell_type": "markdown",
   "id": "f4a6133f",
   "metadata": {
    "slideshow": {
     "slide_type": "slide"
    }
   },
   "source": [
    "### Valor absoluto\n",
    "\n",
    "El cuadrado de un número real $a\\in {\\mathbb R}$ es otro número real positivo $a^2 >0$. Ello nos permite definir\n",
    "el valor absoluto $|a| = \\sqrt{a^2}$ que es el mismo para $a$ y para $-a$.\n",
    "\n",
    "Esto no sucede con un número complejo $z$. En efecto,  $z^2 = x^2 - y^2 +2\\i xy$ es complejo. Sin embargo, el producto de un número por su conjugado es un número *real* y *positivo*\n",
    "\n",
    "$$\n",
    "z z^*  = (x + \\i y) (x-\\i y) = x^2 + y^2 >0\n",
    "$$\n",
    "\n",
    "lo nos permite definir el *valor absoluto* de un número complejo\n",
    "\n",
    "$$\n",
    "|z| = \\sqrt{z z^*} = \\sqrt{x^2 + y^2}\n",
    "$$\n",
    "\n",
    "El *valor absoluto* de una fase es 1\n",
    "\n",
    "$$\n",
    "|e^{i\\theta}| = \\sqrt{ e^{i\\theta}   e^{-i\\theta}}=\\sqrt{ e^{i(\\theta-\\theta)}}=\\sqrt{e^0} = 1\n",
    "$$\n",
    "\n",
    "El *valor absoluto* de un número complejo con el *módulo*  escrito en forma polar\n",
    "\n",
    "$$\n",
    "|z| = \\sqrt{zz^*} = \\sqrt{\\rho e^{i\\theta} \\rho e^{-i\\theta}}=\\sqrt{\\rho^2} = \\rho\n",
    "$$\n",
    "\n"
   ]
  },
  {
   "cell_type": "markdown",
   "id": "2eb9bdf9",
   "metadata": {},
   "source": [
    "<div class=\"alert alert-block alert-success\">\n",
    "    <b>Ejercicio:</b>\n",
    "     Verifica el valor absoluto de un producto de números complejos es el producto de sus valores absolutos\n",
    "</div>\n"
   ]
  },
  {
   "cell_type": "markdown",
   "id": "14b4f560",
   "metadata": {
    "slideshow": {
     "slide_type": "slide"
    }
   },
   "source": [
    "### División\n",
    "\n",
    "\n",
    "Al igual que la multiplicación, en forma cartesiana, la división no es simple. Sea $z = a+ \\i b$ y $w=c+\\i d$ \n",
    "\n",
    "$$\n",
    "\\frac{z}{w} = \\frac{z}{w}\\frac{w^*}{w^*} = \\frac{( a+ \\i b)(c-\\i d)}{|w|^2} = \\frac{ac+bd + \\i(bc-ad)}{c^2+d^2}  = \\frac{ac+bd}{c^2+d^2} +\\i\\frac{bc-ad}{c^2+d^2}\n",
    "$$\n",
    "\n",
    "En forma polar la división es tan sencilla como la multiplicación. Se toma el  cociente de los módulos y la resta de las fases\n",
    "\n",
    "$$\n",
    "\\frac{z}{w} = \\frac{\\rho e^{i\\theta}}{\\sigma e^{i\\phi}} = \\frac{\\rho}{\\sigma}\n",
    "e^{i(\\theta-\\phi)}\n",
    "$$"
   ]
  },
  {
   "cell_type": "code",
   "execution_count": 18,
   "id": "cc45e9f1",
   "metadata": {
    "slideshow": {
     "slide_type": "slide"
    }
   },
   "outputs": [
    {
     "name": "stdout",
     "output_type": "stream",
     "text": [
      "|z1|= 3.0\n",
      "comprobación |z1|= 3.0\n",
      "************************************\n",
      "z1/z2= (1.08707+2.79612j)\n",
      "comprobación z1/z2= (1.08707+2.79612j)\n"
     ]
    }
   ],
   "source": [
    "'''Valor absoluto'''\n",
    "print('|z1|=',abs(z1))\n",
    "print('comprobación |z1|=',np.sqrt(z1*z1.conjugate()).real) \n",
    "print('************************************')\n",
    "\n",
    "\n",
    "'''Division'''\n",
    "print('z1/z2=',np.round(z1/z2,5))\n",
    "print('comprobación z1/z2=', np.round(z1*z2.conjugate()/(z2*z2.conjugate()),5))"
   ]
  },
  {
   "cell_type": "markdown",
   "id": "bce65aa6",
   "metadata": {
    "slideshow": {
     "slide_type": "slide"
    }
   },
   "source": [
    "<a id=\"ejempnc\"></a>\n",
    "<table width=\"100%\">\n",
    "    <td style=\"font-size:30px;font-family:Helvetica;text-align:left;background-color:rgba(12, 43, 337, 0.3);\">\n",
    "<b>Casos importantes </b>\n",
    "</table>  \n"
   ]
  },
  {
   "cell_type": "markdown",
   "id": "cb6fb248",
   "metadata": {
    "slideshow": {
     "slide_type": "-"
    }
   },
   "source": [
    "### Sumas nulas\n",
    "\n",
    "En muchas ocasiones nos encontraremos la siguiente representación del numero cero (complejo) $0 = 0 + \\i 0$\n",
    "\n",
    "$$\n",
    "\\sum_{k=0}^{N-1} e^{2\\pi \\i k/N} =   e^{2\\pi \\i\\, 0/N} +  e^{2\\pi \\i\\, 1/N}  +~...~ +   e^{2\\pi \\i\\, (N-2)/N}+   e^{2\\pi \\i\\, (N-1)/N} ~=~  ~0\n",
    " $$\n",
    "\n",
    "Para convencerse de que esta identidad es cierta vamos a representar los números complejos y su suma. Puedes cambiar $N$ y también multiplicar por un módulo constante\n",
    " "
   ]
  },
  {
   "cell_type": "code",
   "execution_count": 10,
   "id": "22c94fe8",
   "metadata": {
    "code_folding": [
     9
    ],
    "slideshow": {
     "slide_type": "slide"
    }
   },
   "outputs": [
    {
     "name": "stdout",
     "output_type": "stream",
     "text": [
      "lista de fases = [ 1.  +0.j    0.62+0.78j -0.22+0.97j -0.9 +0.43j -0.9 -0.43j -0.22-0.97j\n",
      "  0.62-0.78j]\n",
      "0j\n"
     ]
    },
    {
     "data": {
      "image/png": "[encoded data removed]",
      "text/plain": [
       "<Figure size 432x432 with 1 Axes>"
      ]
     },
     "metadata": {
      "needs_background": "light"
     },
     "output_type": "display_data"
    }
   ],
   "source": [
    "# Sugerencia: cambiar el número N\n",
    "N=7\n",
    "rho=1.2\n",
    "''' Creamos las fases'''\n",
    "lista_de_fases=np.exp(2*np.pi*1j*np.array(range(N))/N)\n",
    "print('lista de fases =', np.round(lista_de_fases,2))\n",
    "\n",
    "\n",
    "''' Dibujamos los números complejos '''\n",
    "plot_2D_plane(fsize=(6,6))\n",
    "for vec in rho*lista_de_fases:\n",
    "    draw_vector(x=vec.real,y=vec.imag)\n",
    "\n",
    "#draw_unit_circle()\n",
    "plt.gca().add_patch(plt.Circle((0.,0.),1.,color='black',fill=False)) \n",
    "\n",
    "\n",
    "''' Calculamos la suma. '''\n",
    "#print(lista_de_fases)\n",
    "print(np.round(sum(rho*lista_de_fases),10))\n"
   ]
  },
  {
   "cell_type": "markdown",
   "id": "ac94fbf9",
   "metadata": {},
   "source": [
    "### Desigualdad triangular"
   ]
  },
  {
   "cell_type": "markdown",
   "id": "40f5eafc",
   "metadata": {},
   "source": [
    "El módulo de la suma de dos números complejos verifica que\n",
    "\n",
    "$$\n",
    "| z+w| \\leq |z| + |w| \n",
    "$$\n",
    "\n",
    "Donde la igualdad sólo se verifica cuando ambos números complejos son paralelos en el plano complejo. "
   ]
  },
  {
   "cell_type": "code",
   "execution_count": 30,
   "id": "06018773",
   "metadata": {},
   "outputs": [
    {
     "name": "stdout",
     "output_type": "stream",
     "text": [
      "|z1|+|z2|= 4.919349550499538\n",
      "|z1+z2|= 4.919349550499538\n"
     ]
    },
    {
     "data": {
      "image/png": "[encoded data removed]",
      "text/plain": [
       "<Figure size 576x576 with 1 Axes>"
      ]
     },
     "metadata": {
      "needs_background": "light"
     },
     "output_type": "display_data"
    }
   ],
   "source": [
    "'''Comprueba que sólo cuando z1 y z2 son paralelos, se satura la desigualdad triangular'''\n",
    "\n",
    "'''Suma en cartesianas'''\n",
    "z1 = 1+2j\n",
    "z2 = z1*(1.2*np.exp(1j*0.))\n",
    "\n",
    "'''Suma '''\n",
    "zs = z1+z2\n",
    "\n",
    "print('|z1|+|z2|=',abs(z1)+abs(z2))\n",
    "print('|z1+z2|=',abs(z1+z2))\n",
    "\n",
    "\n",
    "plot_2D_plane(left=-2,right=4,up=7,down=-1) #cambiar las dimensiones para que encuadrar la figura\n",
    "draw_vector(z1.real,z1.imag,'b')\n",
    "draw_vector(z2.real,z2.imag,'b')\n",
    "draw_vector(zs.real,zs.imag,vcolor='r')\n",
    "\n",
    "\n"
   ]
  }
 ],
 "metadata": {
  "kernelspec": {
   "display_name": "Python 3",
   "language": "python",
   "name": "python3"
  },
  "language_info": {
   "codemirror_mode": {
    "name": "ipython",
    "version": 3
   },
   "file_extension": ".py",
   "mimetype": "text/x-python",
   "name": "python",
   "nbconvert_exporter": "python",
   "pygments_lexer": "ipython3",
   "version": "3.7.10"
  },
  "varInspector": {
   "cols": {
    "lenName": 16,
    "lenType": 16,
    "lenVar": 40
   },
   "kernels_config": {
    "python": {
     "delete_cmd_postfix": "",
     "delete_cmd_prefix": "del ",
     "library": "var_list.py",
     "varRefreshCmd": "print(var_dic_list())"
    },
    "r": {
     "delete_cmd_postfix": ") ",
     "delete_cmd_prefix": "rm(",
     "library": "var_list.r",
     "varRefreshCmd": "cat(var_dic_list()) "
    }
   },
   "types_to_exclude": [
    "module",
    "function",
    "builtin_function_or_method",
    "instance",
    "_Feature"
   ],
   "window_display": false
  }
 },
 "nbformat": 4,
 "nbformat_minor": 5
}
