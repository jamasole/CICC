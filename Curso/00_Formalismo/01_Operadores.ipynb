{
 "cells": [
  {
   "cell_type": "markdown",
   "id": "0ce31780",
   "metadata": {
    "slideshow": {
     "slide_type": "slide"
    }
   },
   "source": [
    "<img   src=\"../figuras/logo/TalentQ_LogoPosNegro.png\" align=center  width=\"120\"/>\n",
    "<br>\n",
    "\n",
    "\n",
    "<table width=\"100%\">\n",
    "<td style=\"font-size:50px;font-style:italic;text-align:right;background-color:rgba(0, 160, 120,0.6)\">\n",
    "Operadores\n",
    "</td></table>\n",
    "\n",
    "$ \\newcommand{\\bra}[1]{\\langle #1|} $\n",
    "$ \\newcommand{\\ket}[1]{|#1\\rangle} $\n",
    "$ \\newcommand{\\braket}[2]{\\langle #1|#2\\rangle} $\n",
    "$ \\newcommand{\\ketbra}[2]{| #1\\rangle\\! \\langle #2|} $\n",
    "$ \\newcommand{\\i}{{\\color{blue} i}} $ \n",
    "$ \\newcommand{\\Hil}{{\\cal H}} $\n",
    "$ \\newcommand{\\V}{{\\cal V}} $"
   ]
  },
  {
   "cell_type": "markdown",
   "id": "12b71701",
   "metadata": {
    "slideshow": {
     "slide_type": "skip"
    }
   },
   "source": [
    "<a id='top'></a>\n",
    "\n",
    "- [Operadores y Matrices](#opdefi) \n",
    "\n",
    "\n",
    "- [Base de Operadores](#prodext)\n",
    "\n",
    "\n",
    "- [Funciones de Operadores](#funcope)\n",
    "\n",
    "\n",
    "- [El Espacio L(H)](#linh)\n",
    "\n",
    "    - [*Operador Adjunto*](#opadj)\n",
    "\n",
    "\n",
    "- [Clases de Operadores](#optipos)\n",
    "\n",
    "    - [*Operador Unitario*](#opunit)\n",
    "    \n",
    "    - [*Operador Normal*](#opnormal)\n",
    "    \n",
    "    - [*Operador Hermítico*](#opermit)\n",
    "    \n",
    "    - [*Proyector*](#opproyect)\n",
    "\n",
    "\n",
    "- [Valores y Vectores Propios](#autov) \n",
    "\n",
    "    - [*Subespacio Propio*](#subesprop)\n",
    "   \n",
    "    - [*Espectro de Operadores Normales*](#especopnormal)\n",
    "\n",
    "\n",
    "- [Espectros de Operadores](#especope)\n",
    "    \n",
    "    - [*Descomposición Espectral*](#descomespec)\n",
    "\n",
    "\n",
    "- [Funciones de operadores](#funcope)\n",
    "\n",
    "\n",
    "- [Matrices de Pauli](#paulis)\n",
    "\n"
   ]
  },
  {
   "cell_type": "code",
   "execution_count": null,
   "id": "2f425944",
   "metadata": {
    "slideshow": {
     "slide_type": "slide"
    }
   },
   "outputs": [],
   "source": [
    "%run ../macro_CURSO.py"
   ]
  },
  {
   "cell_type": "markdown",
   "id": "1fabd83c",
   "metadata": {
    "slideshow": {
     "slide_type": "slide"
    }
   },
   "source": [
    "<a id='opdefi'></a>\n",
    "<table width=\"100%\">\n",
    "    <td style=\"font-size:25px;font-family:Helvetica;text-align:left;background-color:rgba(12, 43, 337, 0.3);\">\n",
    "<b>Operadores y Matrices</b>\n",
    "</table>   "
   ]
  },
  {
   "cell_type": "markdown",
   "id": "21a3b268",
   "metadata": {
    "slideshow": {
     "slide_type": "slide"
    }
   },
   "source": [
    "En un espacio vectorial, además de los vectores, será esencial entender la manera en que estos se pueden transformar entre sí,\n",
    "\n",
    "<div class=\"alert alert-block alert-info\",text-align:center>\n",
    "<p style=\"text-align: left ;color: navy;\">  \n",
    "<b> Definición</b> : \n",
    "<br>\n",
    "un <i>operador lineal</i> es una aplicación  que transforma un vector  en otro \n",
    "<br>\n",
    "<br>\n",
    "$$\n",
    "A: \\ket{u} ~~\\to ~~ \\ket{v}   \n",
    "$$\n",
    "<br>    \n",
    "de forma <i>lineal</i>. Es decir,  sobre una <i>combinación lineal</i> de vectores actúa de forma lineal. Es decir, para todo $\\alpha,\\beta \\in {\\mathbb C}$: \n",
    "<br>\n",
    "<br>   \n",
    "$$\n",
    "A: (\\alpha\\ket{u} + \\beta\\ket{w})~~\\to ~~ \\ket{v} =\\alpha A\\ket{u} + \\beta A\\ket{w}\n",
    "$$   \n",
    "<p>\n",
    "</div>"
   ]
  },
  {
   "cell_type": "markdown",
   "id": "a40028cb",
   "metadata": {
    "slideshow": {
     "slide_type": "fragment"
    }
   },
   "source": [
    "- escribimos también $\\ket{v} = A\\ket{u} \\equiv \\ket{Au}$ $~~$(donde $Au$ debe entenderse como una etiqueta)\n",
    "<br>\n"
   ]
  },
  {
   "cell_type": "markdown",
   "id": "faf9a38c",
   "metadata": {
    "slideshow": {
     "slide_type": "slide"
    }
   },
   "source": [
    "<div class=\"alert alert-block alert-warning\">\n",
    "<b>Ejemplo:</b> \n",
    "<br>   un <i>operador</i>  fácil de visualizar es el operador de <i>rotación en un plano</i>. Dado un ángulo $\\theta \\in (0,2\\pi)$ el operador $A = R(\\theta)$ gira cualquier vector un ángulo $\\theta$ en el sentido antihorario\n",
    "<br>\n",
    "<br>\n",
    "Un vector en el plano ${\\bf u} =  (u_1,u_2)$  es equivalente al número complejo $u = u_1 + i u_2$ en el plano complejo $V = {\\mathbb C}$.\n",
    "\n",
    "    \n",
    "Escrito en polares, $u=|u|e^{i\\phi}$, y sabemos que una rotación de ángulo $\\theta$ es equivalente a añadirle dicho  ángulo a la fase \n",
    "<br>\n",
    "<br>\n",
    "$$\n",
    " v = R(\\theta) u = |u| e^{i(\\phi + \\theta)} =  |u| e^{i\\phi } e^{i\\theta} = u\\cdot e^{i\\theta} \n",
    "$$\n",
    "<br>    \n",
    "Por tanto, para rotar un número complejo un ángulo $\\theta$ basta con multiplicarlo por la fase $e^{i\\theta}$, que se corresponde con el operador $R(\\theta)$ en el espacio vectorial $V = \\mathbb{C}$.   \n",
    "\n",
    "    \n",
    "    \n",
    "La propiedad fundamental de una rotación es la de mantener invariante el módulo  $|v| = |u|$.    \n",
    "</div>\n"
   ]
  },
  {
   "cell_type": "markdown",
   "id": "b5bfbe37",
   "metadata": {
    "slideshow": {
     "slide_type": "slide"
    }
   },
   "source": [
    "<div class=\"alert alert-block alert-success\">\n",
    "    <b>Ejercicio:</b>\n",
    "Usando el ejemplo anterior, define una función $R$, que recibe un vector en el plano $(u_1,u_2)$ y devuelve el vector $(v_1,v_2)$ de componentes rotadas un ángulo $\\theta$.\n",
    "    \n",
    "<details>\n",
    "<summary><p style=\"text-align:right\"> >> Solución </p></summary>\n",
    "\n",
    "    def R(u1,u2,theta):\n",
    "        u = u1 + u2*1j\n",
    "        v = u*np.exp(1j*theta) # u rotado un angulo theta\n",
    "        return v.real,v.imag    \n",
    "\n",
    "</details>       \n",
    "</div>"
   ]
  },
  {
   "cell_type": "code",
   "execution_count": null,
   "id": "31014098",
   "metadata": {
    "slideshow": {
     "slide_type": "slide"
    }
   },
   "outputs": [],
   "source": [
    "'''ángulo que queremos rotar'''\n",
    "theta=0.6 \n",
    "\n",
    "'''vector a rotar'''\n",
    "u1=2.\n",
    "u2=2.\n",
    "\n",
    "'''v1 y v2 a partir de u1, u2 y theta'''\n",
    "### \n",
    "# Código aquí \n",
    "#\n",
    "###\n",
    "\n",
    "\n",
    "''' Representación en el plano complejo '''\n",
    "v = v1**2+v2**2\n",
    "plot_2D_plane(left=-int(abs(v.real))-2,right=int(abs(v.real))+2,up=int(abs(v.imag))+1,down=-int(abs(v.imag))-1)\n",
    "draw_vector(u1,u1,vcolor='b')\n",
    "draw_vector(v1,v2,vcolor='r')\n"
   ]
  },
  {
   "cell_type": "markdown",
   "id": "35963895",
   "metadata": {
    "slideshow": {
     "slide_type": "slide"
    }
   },
   "source": [
    "### Matriz de un operador\n",
    "\n",
    "Dada una base, un vector queda especificado por una colección de números, sus *componentes*.\n",
    "\n",
    "Igualmente, un operador queda definido por una *matriz numérica*. "
   ]
  },
  {
   "cell_type": "markdown",
   "id": "9820aa07",
   "metadata": {
    "slideshow": {
     "slide_type": "fragment"
    }
   },
   "source": [
    "Efectivamente, en una base, la relación $\\ket{v} = A\\ket{u}$ equivale a una ecuación que relacione las componentes de ambos vectores\n",
    "$$\n",
    "v_i = \\sum_{j=1}^N A_{ij} u_j  \\, .\n",
    "$$"
   ]
  },
  {
   "cell_type": "markdown",
   "id": "56729718",
   "metadata": {
    "slideshow": {
     "slide_type": "fragment"
    }
   },
   "source": [
    "Esta operación se corresponde con la siguiente composición de matrices\n",
    "\n",
    "$$\n",
    "\\begin{pmatrix}\n",
    "v_1 \\\\ v_2 \\\\ \\vdots \\\\ v_N \\end{pmatrix} =  \\begin{pmatrix} \n",
    "A_{11} & A_{12} & \\cdots & A_{1N} \\\\\n",
    "A_{21} & A_{22} & \\cdots & A_{2N} \\\\\n",
    "\\vdots & \\vdots &  \\ddots      & \\vdots \\\\\n",
    "A_{N1} & A_{N2} &    \\cdots    & A_{NN}\n",
    "\\end{pmatrix}\n",
    " \\begin{pmatrix} \n",
    "u_1 \\\\ u_2 \\\\ \\vdots \\\\ u_N\\end{pmatrix} \\hspace{4cm}\n",
    "$$"
   ]
  },
  {
   "cell_type": "markdown",
   "id": "93f49cbb",
   "metadata": {
    "slideshow": {
     "slide_type": "slide"
    }
   },
   "source": [
    "<div class=\"alert alert-block alert-warning\">\n",
    "    <b>Ejemplo:</b> \n",
    "<br>    Continuando con el ejemplo del operador de rotación en un plano, hemos visto que las componentes de $u = u_1 + i u_2$ y las de $R(\\theta)u = v = v_1 + i v_2$ se obtienen mediante la multiplicación por una fase pura \n",
    "\\begin{eqnarray}\n",
    "v&=& u e^{i\\theta} \\\\\n",
    "\\end{eqnarray}\n",
    "    \n",
    "Vamos a desarrollar cada miembro en cartesianas, separando las partes real e imaginaria\n",
    "<br>    \n",
    "\\begin{eqnarray}\n",
    "v_1 + i v_2 &=& (u_1 + iu_2) (\\cos \\theta + i \\sin \\theta)  \\\\\n",
    "    \\rule{0mm}{6mm}\n",
    "    &=& (\\cos\\theta \\, u_1 - \\sin \\theta\\,  u_2) + i(\\sin\\theta\\,  u_1 + \\cos \\theta\\,  u_2)\n",
    "\\end{eqnarray}\n",
    "<br>\n",
    "    \n",
    "es decir las coordenadas del vector origen y el vector rotado imagen se relacionan en la  forma \n",
    "\n",
    "<br>\n",
    "\\begin{eqnarray}\n",
    "v_1 = \\cos\\theta \\, u_1 - \\sin \\theta\\,  u_2 ~~~~~~~,~~~~~~~~\n",
    "v_2 = \\sin\\theta \\, u_1 + \\cos \\theta\\,  u_2     \n",
    "\\end{eqnarray}\n",
    "<br>\n",
    "\n",
    "que podemos expresar en forma matricial\n",
    "    \n",
    "$$\n",
    "\\begin{pmatrix} v_1 \\\\ v_2 \\end{pmatrix} = \\begin{pmatrix} \\cos\\theta & -\\sin\\theta \\\\ \\sin\\theta &\\cos\\theta\\end{pmatrix} \\begin{pmatrix} u_1 \\\\ u_2 \\end{pmatrix}\n",
    "$$    \n",
    "    \n",
    "  \n",
    "    \n",
    "    \n",
    "</div>\n"
   ]
  },
  {
   "cell_type": "markdown",
   "id": "b41f6915",
   "metadata": {},
   "source": [
    "[<<<](#top)"
   ]
  },
  {
   "cell_type": "markdown",
   "id": "b915e26b",
   "metadata": {
    "slideshow": {
     "slide_type": "slide"
    }
   },
   "source": [
    "<a id='prodext'></a>\n",
    "<table width=\"100%\">\n",
    "    <td style=\"font-size:25px;font-family:Helvetica;text-align:left;background-color:rgba(12, 43, 337, 0.3);\">\n",
    "<b>Base de Operadores</b>\n",
    "</table>   "
   ]
  },
  {
   "cell_type": "markdown",
   "id": "f1822d36",
   "metadata": {
    "slideshow": {
     "slide_type": "slide"
    }
   },
   "source": [
    "## Producto externo de vectores\n",
    "\n",
    "Consideremos dos vectores $\\ket{u}$ y $\\ket{v}$. Dependiendo del orden en que los compongamos, $\\braket{u}{v}$ o $\\ketbra{v}{u}$, el resultado produce dos cantidades muy distintas.\n",
    "<br>\n",
    "\n",
    "- El *producto interno*, o *producto escalar* es un **número complejo**\n",
    "<br>\n",
    "\n",
    "$$\n",
    " a = \\braket{u}{v} = \\braket{v}{u}^* \n",
    "$$\n",
    "\n",
    "- El *producto externo*  es un **operador**\n",
    "<br>\n",
    "$$\n",
    "A = \\ketbra{v}{u}\n",
    "$$"
   ]
  },
  {
   "cell_type": "markdown",
   "id": "38aba4a0",
   "metadata": {
    "slideshow": {
     "slide_type": "fragment"
    }
   },
   "source": [
    "Para comprender por qué es un operador, observamos que dicha expresión aplicada a un vector $\\ket{w}$ da otro, paralelo a $\\ket{v}$\n",
    "<br>\n",
    "\n",
    "$$\n",
    "A : \\ket{w} ~\\to ~ A\\ket{w} =  \\ket{v}\\braket{u}{w}=\\ket{v} b  = b \\ket{v} \n",
    "$$ "
   ]
  },
  {
   "cell_type": "markdown",
   "id": "f968829b",
   "metadata": {
    "slideshow": {
     "slide_type": "fragment"
    }
   },
   "source": [
    "el número complejo $b=\\braket{u}{w}$ es  la *proyección* de $\\ket{w}$ en la dirección de $\\ket{u}$."
   ]
  },
  {
   "cell_type": "markdown",
   "id": "85ca391c",
   "metadata": {
    "slideshow": {
     "slide_type": "slide"
    }
   },
   "source": [
    "<div class=\"alert alert-block alert-danger\">\n",
    "<b>Notar:</b> \n",
    "<br>\n",
    "1.     El <i>orden</i> en que escribimos las cosas es <b>muy</b> relevante.\n",
    "<br> \n",
    "<br>   \n",
    "$\\Rightarrow$ \n",
    "$\\braket{u}{v}$ y $\\ketbra{v}{u}$ son objetos <i> radicalmente distintos</i>: el primero es un número y el segundo es un operador. \n",
    "<br>  \n",
    "<br>    \n",
    "$\\Rightarrow$  En cambio $\\ket{v} b  = b \\ket{v}$, así como $\\bra{u}b = b\\bra{u}$, es decir,  los números complejos y los $kets$ o $bras$ pueden escribirse en cualquier orden (decimos que conmutan).\n",
    "<br>\n",
    "<br>\n",
    "2.    La acción del operador  $A = \\ket{v}\\!\\bra{u}$ es muy fácil de expresar con palabras: \n",
    "el operador $A$ toma <i>cualquier vector</i> $\\ket{w}$ y lo convierte en un vector <i>paralelo</i> a $\\ket{v}$ proporcionalmente a su proyección $b=\\braket{u}{w}$. \n",
    "<br>    \n",
    "Si la proyección es nula $b=0$, el operador <i>aniquila</i>, es decir, da el elemento neutro.\n",
    "<div>"
   ]
  },
  {
   "cell_type": "markdown",
   "id": "6383e799",
   "metadata": {
    "slideshow": {
     "slide_type": "slide"
    }
   },
   "source": [
    "### Producto externo en componentes\n",
    "\n",
    "La diferencia entre el *producto interno* $a=\\braket{u}{v}$ y el *externo* $A=\\ketbra{u}{v}$ tiene su reflejo en una base expresando ambos vectores, $\\ket{u} = \\sum_i u_i\\ket{i}$ y $\\ket{v} = \\sum_j v_j \\ket{j}$,  en componentes en una base ortonormal\n",
    "\n",
    "-  el *número complejo* $a$  es el *producto escalar*\n",
    "$$\n",
    " a = \\braket{u}{v}  = \\begin{pmatrix} u_1^*,...,u_N^*\\end{pmatrix}\n",
    "\\begin{pmatrix} v_1 \\\\ \\vdots \\\\ v_N\\end{pmatrix}\\, =  \\sum_i u_i^*v_i\n",
    "$$"
   ]
  },
  {
   "cell_type": "markdown",
   "id": "1f2f5962",
   "metadata": {
    "slideshow": {
     "slide_type": "fragment"
    }
   },
   "source": [
    "-  la matriz $A_{ij}$    *representa* el operador $A$ en la base $\\{\\ket{i}=\\ket{e_i}\\}$\n",
    "\n",
    "$$\n",
    "A = \\ketbra{v}{u} ~\\sim ~\\begin{pmatrix} v_1 \\\\ \\vdots \\\\ v_N\\end{pmatrix}\n",
    "\\begin{pmatrix} u_1^*,...,u_N^*\\end{pmatrix} ~=~ \n",
    "\\begin{pmatrix} v_1 u_1^* & v_1u_2^* & ... & v_1 u_N^* \\\\\n",
    "v_2 u_1^* & v_2 u_1^*& ... & v_2 u_N^* \\\\ \\vdots & \\vdots  & \\ddots & \\vdots \\\\\n",
    "v_N u_1^* & & ... & v_N u_N^* \\end{pmatrix} ~ = ~A_{ij}\n",
    "$$\n",
    "\n",
    "<br>"
   ]
  },
  {
   "cell_type": "markdown",
   "id": "cbd48b22",
   "metadata": {
    "slideshow": {
     "slide_type": "slide"
    }
   },
   "source": [
    "***\n",
    "\n",
    "## Base canónica de operadores\n",
    "\n",
    "Un caso importante es cuando $A$ es el producto externo de *dos elementos de la base ortonormal* $\\ket{i}$ y $\\ket{j}$ \n",
    "<br><br>\n",
    "$$A = \\ketbra{i}{j}$$\n",
    "<br>\n",
    "\n",
    "- La acción de $A$ sobre un vector $\\ket{k}$ arbitrario de la base es sencilla:  cambia el vector $\\ket{j}\\to \\ket{i}$ y aniquila a todos los demás\n",
    "<br>\n",
    "\n",
    "$$\n",
    "A \\ket{k} = \\ket{i}\\braket{j}{k} = \\ket{i} \\delta_{jk} = \\left\\{ \\begin{array}{rl}\n",
    "0 & {\\rm if} ~~k\\neq j \\\\ \\ket{i} & {\\rm if} ~~ k=j \\end{array} \\right.\n",
    "$$"
   ]
  },
  {
   "cell_type": "markdown",
   "id": "2029a318",
   "metadata": {
    "slideshow": {
     "slide_type": "slide"
    }
   },
   "source": [
    "- La matriz asociada al operador  tiene sólo un 1 en el elemento $(ij)$ y cero en todos los demás. Por ejemplo, supongamos que \n",
    "$N=4$ \n",
    "\n",
    "<br>\n",
    "\n",
    "$$\n",
    "\\ketbra{2}{3} ~\\to ~~\n",
    " \\begin{pmatrix} 0 \\\\ 1 \\\\ 0 \\\\ 0 \\end{pmatrix}\\begin{pmatrix} 0 & 0 & 1 & 0 \\end{pmatrix} = \n",
    "\\begin{pmatrix}\n",
    "0 &  0 & 0 &  0 \\\\  0 &  0 & 1&  0 \\\\ 0 &  0 & 0 &  0 \\\\ 0 &  0 & 0 &  0\n",
    "\\end{pmatrix} ~~\\Rightarrow ~~ A_{ij} = \\delta_{i2}\\delta_{j3}\n",
    "$$\n",
    "\n",
    "<br>"
   ]
  },
  {
   "cell_type": "markdown",
   "id": "53cf304a",
   "metadata": {
    "slideshow": {
     "slide_type": "slide"
    }
   },
   "source": [
    "### Expansión de un operador general\n",
    "\n",
    "Ahora podemos obtener una nueva perspectiva sobre la matriz $A_{ij}$ asociada a un operador $A$. \n",
    "\n",
    "<div class=\"alert alert-block alert-info\",text-align:center>\n",
    "<p style=\"text-align: left ;color: navy;\">  \n",
    "    De la misma manera que las componentes $u_i$ expresan la <i>expansión de un vector</i> $\\ket{u}$ en una <i>base ortonormal de vectores</i>,  $\\to \\ket{u} = \\sum_{i=1}^N u_i \\ket{i}$, los <i>elementos de matriz</i> $A_{ij}$ expresan la <i>expansión de un operador</i> en una <b>base de operadores</b> $\\ketbra{i}{j}$\n",
    "</div>"
   ]
  },
  {
   "cell_type": "markdown",
   "id": "3686f378",
   "metadata": {
    "slideshow": {
     "slide_type": "fragment"
    }
   },
   "source": [
    "Escribiendo las matrices asociadas a $\\ketbra{i}{j}$, es evidente que $\\sum_{i,j=1}^N A_{ij} \\ketbra{i}{j} $ reconstruye la mariz $A_{ij}$ asociada a $A$\n",
    "<br>\n",
    "<br>\n",
    "<br>\n",
    "$$\n",
    "A= \\sum_{i,j=1}^N A_{ij} \\ketbra{i}{j} \\,~~~~ \\Longleftrightarrow ~~~~\n",
    "\\begin{pmatrix} \n",
    "A_{11} & A_{12} & \\cdots & A_{1N} \\\\\n",
    "A_{21} & A_{22} & \\cdots & A_{2N} \\\\\n",
    "\\vdots & \\vdots &  \\ddots      & \\vdots \\\\\n",
    "A_{N1} & A_{N2} &    \\cdots    & A_{NN}\n",
    "\\end{pmatrix}. \\hspace{2cm}\n",
    "$$"
   ]
  },
  {
   "cell_type": "markdown",
   "id": "01faafbe",
   "metadata": {
    "slideshow": {
     "slide_type": "slide"
    }
   },
   "source": [
    "<details>\n",
    "<summary><p style=\"text-align:right\"> >> Consistencia </p></summary>\n",
    "Verifiquemos que actúa de la forma correcta\n",
    "$$\n",
    "\\begin{array}{rcl}\n",
    "A |u\\rangle &=&  \\sum_{i,j} A_{ij} \\ketbra{i}{j}  \\left(\\sum_k u_k |k\\rangle \\right) \\\\\n",
    "&\\stackrel{\\rm linealidad}{=} \\rule{0mm}{6mm}& \\sum_{i,j} \\sum_k A_{ij} | i\\rangle  \\,   u_k \\langle j| k\\rangle \\nonumber\\\\\n",
    "&\\stackrel{\\rm ortonormalidad}{=}\\rule{0mm}{6mm}& \\sum_{i,j,k} A_{ij} | i\\rangle  \\,   u_k \\delta_{jk}\\\\\n",
    "&=\\rule{0mm}{6mm}&\\sum_{ij} A_{ij}\\,|i\\rangle \\, u_j= \\sum_i \\left(\\sum_{j} A_{ij}\\, u_j\\right)  |i\\rangle    \\\\\n",
    "&=\\rule{0mm}{6mm}&\\sum_i v_i \\ket{i} \\nonumber\\\\\n",
    "&=\\rule{0mm}{6mm}&   | v\\rangle\n",
    "\\end{array}\n",
    "$$\n",
    "</details>"
   ]
  },
  {
   "cell_type": "markdown",
   "id": "27e47a8b",
   "metadata": {
    "slideshow": {
     "slide_type": "slide"
    }
   },
   "source": [
    "## Elementos de matriz\n",
    "\n",
    "De la misma manera que obteníamos las componentes de un vector proyectando sobre un elemento de la base\n",
    "\n",
    "$$\n",
    "v_i = \\braket{i}{v}\n",
    "$$\n",
    "\n",
    "ahora podemos obtener los *elementos de matriz* de un operador $A$ en la forma\n",
    "\n",
    "$$  A_{ij} = \\bra{i} A \\ket{j} $$"
   ]
  },
  {
   "cell_type": "markdown",
   "id": "469ef218",
   "metadata": {
    "slideshow": {
     "slide_type": "-"
    }
   },
   "source": [
    "<div class=\"alert alert-block alert-success\">\n",
    "<b>Ejercicio:</b>$~$\n",
    "demuestra esta expresión\n",
    "<details>\n",
    "<summary><p style=\"text-align:right\"> >> Solución </p></summary>\n",
    "\\begin{eqnarray}\n",
    "\\bra{i} A \\ket{j} &=&  \\bra{i}\\left(\\sum_{k,l=1}^N A_{kl} \\ketbra{k}{l}  \\right) \\ket{j}\\nonumber\\\\\n",
    "    &=&\\sum_{k,l=1}^N \\braket{i}{k} A_{kl} \\braket{l}{j} \\nonumber\\\\\n",
    "    &=&\\sum_{k,l=1}^N \\delta_{ik} A_{kl} \\delta_{lj} = A_{ij}\n",
    "\\end{eqnarray}\n",
    "</details>    \n"
   ]
  },
  {
   "cell_type": "markdown",
   "id": "958398ca",
   "metadata": {
    "slideshow": {
     "slide_type": "slide"
    }
   },
   "source": [
    "<div class=\"alert alert-block alert-warning\">\n",
    "<b>Resumen:</b> \n",
    "<br>     \n",
    "Dada una base $\\{\\ket{e_i}\\}$ podemos expresar un operador mediante una matriz $A_{ij}$. La relación concreta es \n",
    "<br>\n",
    "<br>\n",
    "- como operador $\\to ~ A = \\sum_{ij} A_{ij}\\ketbra{i}{j}$\n",
    "<br>\n",
    "<br>    \n",
    "- como elemento de matriz $\\to ~ A_{ij} = \\bra{i}A\\ket{j}$\n",
    "<br>   \n",
    "</div>    "
   ]
  },
  {
   "cell_type": "markdown",
   "id": "195be0d0",
   "metadata": {
    "slideshow": {
     "slide_type": "slide"
    }
   },
   "source": [
    "## Relación de completitud    \n",
    "    \n",
    "La acción del operador identidad es \n",
    "\n",
    "$$\n",
    "I\\ket{v} = \\ket{v}\n",
    "$$\n",
    "\n",
    "En particular sobre todo elemento de la base $I\\ket{i} = \\ket{i}$. En otras palabras,\n",
    "el operador identidad $I$ tiene por matriz $I_{ij}=\\delta_{ij}={\\rm diagonal}\\, (1,1,...,1)$ con lo que\n",
    "<br>\n",
    "\n",
    "$$\n",
    "I = \\sum_{i}  \\ketbra{i}{i}= \\sum_{ij} \\delta_{ij}\\ketbra{i}{j} \n",
    "$$\n",
    "\n",
    "Esta expresión se conoce también como <b>relación de completitud</b> o, también <b>relación de cierre</b> y se utiliza muy frecuentemente.\n"
   ]
  },
  {
   "cell_type": "markdown",
   "id": "b16e2c96",
   "metadata": {
    "slideshow": {
     "slide_type": "fragment"
    }
   },
   "source": [
    "<div class=\"alert alert-block alert-danger\">\n",
    "<b>Notar:</b> \n",
    "<br>\n",
    "la relación de completitud es, en realidad, una propiedad de  <b> cualquier base</b>. Dicho de otro modo, si $\\{\\ket{e_i}\\}$ y $\\{\\ket{f_i}\\}$ son, ambas, bases entonces $I\\ket{e_i} = \\ket{e_ i}$ y $I\\ket{f_j} = \\ket{f_j}$, entonces \n",
    "<br>\n",
    "<br>\n",
    "$$\n",
    "I =  \\sum_{i}  \\ketbra{e_i}{e_i} =  \\sum_{j}  \\ketbra{f_j}{f_j}\\, .\n",
    "$$\n",
    "</div>"
   ]
  },
  {
   "cell_type": "markdown",
   "id": "53a299ae",
   "metadata": {
    "slideshow": {
     "slide_type": "slide"
    }
   },
   "source": [
    "La relación de cierre, o completitud,  siempre se puede insertar en cualquier momento del cálculo. Se utiliza con frecuencia para efectuar cambios de base."
   ]
  },
  {
   "cell_type": "markdown",
   "id": "a5577bb7",
   "metadata": {
    "slideshow": {
     "slide_type": "fragment"
    }
   },
   "source": [
    "Por ejemplo, vamos a ver que el producto escalar $\\braket{u}{v}$ puede calcularse en cualquier\n",
    "\n",
    "Sea $\\ket{u} = \\sum_i u_i\\ket{e_i} = \\sum_i \\tilde u_i \\ket{f_i}~~$  y $~~\n",
    "\\ket{v} = \\sum_i  v_i\\ket{e_i}=\\sum_i \\tilde v_i\\ket{f_i}$ \n",
    "<br>\n",
    "<br>\n"
   ]
  },
  {
   "cell_type": "markdown",
   "id": "45dd905d",
   "metadata": {
    "slideshow": {
     "slide_type": "fragment"
    }
   },
   "source": [
    "\n",
    "Entonces\n",
    "\n",
    "$$ \n",
    "\\braket{v}{u} = \\bra{v} I \\ket{u} = \\bra{v}\\left(\\sum_i\\ketbra{e_i}{e_i}\\right)\\ket{u} = \n",
    "\\sum_i \\braket{v}{e_i}\\braket{e_i}{u} = \\sum_i v_i^* u_i\n",
    "$$ \n",
    "<br>\n",
    "<br>\n",
    "$$ \n",
    "\\braket{v}{u} = \\bra{v} I \\ket{u} = \\bra{v}\\left(\\sum_i\\ketbra{f_i}{f_i}\\right)\\ket{u} = \n",
    "\\sum_i \\braket{v}{f_i}\\braket{f_i}{u} = \\sum_i \\tilde v_i^* \\tilde u_i\n",
    "$$ \n",
    "<br>\n"
   ]
  },
  {
   "cell_type": "markdown",
   "id": "749148f3",
   "metadata": {
    "slideshow": {
     "slide_type": "skip"
    }
   },
   "source": [
    "[<<<](#top)"
   ]
  },
  {
   "cell_type": "markdown",
   "id": "1fd76147",
   "metadata": {
    "slideshow": {
     "slide_type": "slide"
    }
   },
   "source": [
    "<a id='linh'></a>\n",
    "<table width=\"100%\">\n",
    "    <td style=\"font-size:25px;font-family:Helvetica;text-align:left;background-color:rgba(12, 43, 337, 0.3);\">\n",
    "<b>El Espacio Vectorial  ${\\rm L}(\\Hil)$ </b>\n",
    "</table>   "
   ]
  },
  {
   "cell_type": "markdown",
   "id": "b6d68e39",
   "metadata": {
    "slideshow": {
     "slide_type": "slide"
    }
   },
   "source": [
    "El <i>conjunto</i> de **todos** <i>los operadores lineales</i> sobre un espacio vectorial $\\Hil$ tiene, de forma natural, una estructura de espacio vectorial que denominamos ${\\rm L}(\\Hil)$"
   ]
  },
  {
   "cell_type": "markdown",
   "id": "3f2ad635",
   "metadata": {
    "slideshow": {
     "slide_type": "fragment"
    }
   },
   "source": [
    "En efecto, sean $A$ y $B$ dos operadores, y $\\lambda\\in {\\bf C}$ un número complejo entonces tanto la suma $C = A+B$ como la multiplicación externa $D=\\lambda A$ son nuevos operadores definidos por su acción sobre un vector cualquiera $\\ket{v}\\in \\Hil$\n",
    "\n",
    "<br>\n",
    "$$\n",
    "C\\ket{v} ~=~ (A + B) \\ket{v} = A\\ket{v} + B\\ket{v}\n",
    "$$\n",
    "<br>\n",
    "$$\n",
    "D\\ket{v} ~=~ (\\lambda A) \\ket{v} = \\lambda (A\\ket{v})\n",
    "$$"
   ]
  },
  {
   "cell_type": "markdown",
   "id": "3d72fbcf",
   "metadata": {
    "slideshow": {
     "slide_type": "slide"
    }
   },
   "source": [
    "<a id='opadj'></a>\n",
    "## Operador Adjunto\n",
    "\n",
    "    \n",
    "La conjugación *adjunta* se puede extender a ${\\rm L}(\\Hil)$\n",
    "<br><br>\n",
    "\n",
    "$$\n",
    "\\dagger ~\\to ~\n",
    "\\left\\{\n",
    "\\begin{matrix}\n",
    "z & \\leftrightarrow  &  z^* \\\\\n",
    "|u\\rangle & \\leftrightarrow &   \\langle u | \\\\\n",
    "A & \\leftrightarrow & A^{\\dagger}\n",
    "\\end{matrix}\n",
    "\\right. \\hspace{5cm}\n",
    "$$\n",
    "<br>"
   ]
  },
  {
   "cell_type": "markdown",
   "id": "ae1d3671",
   "metadata": {
    "slideshow": {
     "slide_type": "fragment"
    }
   },
   "source": [
    "y hay <b>dos reglas más</b> que permiten aplicar $\\dagger$ a sumas y productos de <i> objetos </i> $a \\in\\{z,\\ket{u},A\\}$\n",
    "<br>\n",
    "\n",
    "- *linealidad* $( a + b)^\\dagger = a^\\dagger + b^\\dagger $\n",
    "<br>\n",
    "\n",
    "- *trasposición* $(ab)^\\dagger = b^\\dagger a^\\dagger$ (sólo relevante cuando $a$ y $b$ no conmuten)\n",
    "<br>"
   ]
  },
  {
   "cell_type": "markdown",
   "id": "35572c50",
   "metadata": {
    "slideshow": {
     "slide_type": "slide"
    }
   },
   "source": [
    "\n",
    "\n",
    "Ejemplos\n",
    "<br>\n",
    "<br>\n",
    "1. $\n",
    "\\ket{v} = A\\ket{u} ~~~~\\Leftrightarrow ~~~~\\bra{v} = \\bra{u}A^\\dagger\n",
    "~~$ donde el operador en la derecha actúa sobre el *bra* a su izquierda.\n",
    "<br>\n",
    "<br>\n",
    "Notar que, como $\\ket{v}^\\dagger=\\ket{Au}^\\dagger = \\bra{Au}$ la ecuación anterior implica\n",
    "<br>\n",
    "<br>\n",
    "$$\n",
    "\\bra{Au} = \\bra{u} A^\\dagger\n",
    "$$\n",
    "<br>\n",
    "2. \n",
    "$\n",
    "\\bra{w}A\\ket{u}^* = (\\bra{w}A\\ket{u})^\\dagger = \\bra{u}A^\\dagger\\ket{w}\n",
    "$\n",
    "\n"
   ]
  },
  {
   "cell_type": "markdown",
   "id": "79f30d8c",
   "metadata": {
    "slideshow": {
     "slide_type": "slide"
    }
   },
   "source": [
    "### Matriz adjunta\n",
    "\n",
    "Estas reglas nos permiten obtener el adjunto de un operador\n",
    "\n",
    "\n",
    "<br>\n",
    "\n",
    "\n",
    "$$\n",
    "A^\\dagger = \\sum_{ij}\\left( A_{ij}\\ketbra{i}{j}\\right)^\\dagger = \\sum_{ij} \\, \\ketbra{j}{i}A_{ij}^* =  \\sum_{ji} \\, A_{ji}^*\\ketbra{i}{j}\n",
    "$$\n",
    "\n",
    "donde en la última ecuación hemos intercambiado los nombres $i\\leftrightarrow j$\n",
    "<br>\n",
    "<br>"
   ]
  },
  {
   "cell_type": "markdown",
   "id": "fc3c9a8d",
   "metadata": {
    "slideshow": {
     "slide_type": "fragment"
    }
   },
   "source": [
    "Vemos que la matriz que representa $A^\\dagger$ es la *matriz adjunta* de $A_{ij}$, es decir, la traspuesta y conjugada\n",
    "<br>\n",
    "\n",
    "\n",
    "$$\n",
    "(A^\\dagger)_{ij} = A^*_{ji} = (A^{*}_{ij})^t \\equiv (A_{ij})^\\dagger\n",
    "$$\n",
    "\n",
    "donde $^\\dagger$ significa el adjunto de un operador a la izquierda, y de una matriz a la derecha.\n"
   ]
  },
  {
   "cell_type": "markdown",
   "id": "dbc577b0",
   "metadata": {
    "slideshow": {
     "slide_type": "skip"
    }
   },
   "source": [
    "[<<<](#top)"
   ]
  },
  {
   "cell_type": "markdown",
   "id": "c70d718e",
   "metadata": {
    "slideshow": {
     "slide_type": "slide"
    }
   },
   "source": [
    "<a id='optipos'></a>\n",
    "<table width=\"100%\">\n",
    "    <td style=\"font-size:25px;font-family:Helvetica;text-align:left;background-color:rgba(12, 43, 337, 0.3);\">\n",
    "<b>Clases de operadores</b>\n",
    "</table>   \n"
   ]
  },
  {
   "cell_type": "markdown",
   "id": "886a4e81",
   "metadata": {
    "slideshow": {
     "slide_type": "slide"
    }
   },
   "source": [
    "Si $\\Hil$ tiene dimensión $N$, un *operador general* $A\\in {\\rm L}(\\Hil)$ se especifica mediante una matriz de $N^2$ números complejos $\\Rightarrow A = A_{ij}\\ket{e_i}\\bra{e_j}$. \n",
    "\n",
    "$N^2$ números complejos equivalen a $2N^2$ números reales. \n"
   ]
  },
  {
   "cell_type": "markdown",
   "id": "ca2317d5",
   "metadata": {
    "slideshow": {
     "slide_type": "fragment"
    }
   },
   "source": [
    "En otras palabras: $A$  tiene $N^2$ grados de libertad complejos y, por tanto, ésta es la dimension del espacio ${\\rm L}(\\Hil)$ es  \n",
    "<br>\n",
    "\n",
    "$$ {\\rm dim}_{\\bf C}({\\rm L}(\\Hil)) = N^2 ~~~ \\Longleftrightarrow ~~~ {\\rm dim}_{\\bf R}({\\rm L}(\\Hil)) =  2N^2\n",
    "$$\n",
    "<br>"
   ]
  },
  {
   "cell_type": "markdown",
   "id": "7e98846b",
   "metadata": {
    "slideshow": {
     "slide_type": "fragment"
    }
   },
   "source": [
    "Vamos a considerar clases de operadores que satisfagan algún tipo de *condición* o *restricción*"
   ]
  },
  {
   "cell_type": "markdown",
   "id": "51399243",
   "metadata": {
    "slideshow": {
     "slide_type": "slide"
    }
   },
   "source": [
    "<a id='opunit'></a>\n",
    "## Operador Unitario\n",
    "\n",
    "<div class=\"alert alert-block alert-info\",text-align:center>\n",
    "<p style=\"text-align: center;\"> <p style=\"text-align: left ;color: navy;\">  \n",
    "<b> Definición: </b> \n",
    "<br>    un <i>operador unitario</i> $U$ es tal que su <i>adjunto</i> es igual a su <i>inverso</i>. Es decir verifica la siguiente ecuación\n",
    "<br><br>    \n",
    "$$\n",
    "U^\\dagger = U^{-1}  \\, \n",
    "$$\n",
    "<p>\n",
    "</div>"
   ]
  },
  {
   "cell_type": "markdown",
   "id": "11d5c736",
   "metadata": {
    "slideshow": {
     "slide_type": "fragment"
    }
   },
   "source": [
    "Naturalmente, esta ecuación se traduce en la misma ecuación para las matrices asociadas\n",
    "<br>\n",
    "<br>\n",
    "$$\n",
    "(U_{ij})^\\dagger = U_{ji}^* = U^{-1}_{ij}\n",
    "$$\n",
    "<br>\n",
    "Veamos ahora por qué hemos definido esta clase de operadores."
   ]
  },
  {
   "cell_type": "markdown",
   "id": "51191ed0",
   "metadata": {
    "slideshow": {
     "slide_type": "slide"
    }
   },
   "source": [
    "<div class=\"alert alert-block alert-info\",text-align:center>\n",
    "<p style=\"text-align: left ;color: navy;\">  \n",
    "<b>Teorema:</b>\n",
    "<br>    \n",
    "  La acción de un operador unitario conserva <i>intacto el producto escalar</i> de dos vectores cualesquiera. En particular, conserva también la <i>norma</i> de cualquier vector. \n",
    "<p>\n",
    "</div>"
   ]
  },
  {
   "cell_type": "markdown",
   "id": "e4c70188",
   "metadata": {
    "slideshow": {
     "slide_type": "fragment"
    }
   },
   "source": [
    "*Prueba:*\n",
    "<br>\n",
    "<br>\n",
    "sea $U$ un operador unitario, y $\\ket{\\varphi'}=U\\ket{\\varphi}$ y $\\ket{\\psi'} = U\\ket{\\psi}$\n",
    "dos vectores transformados por $U$, entonces\n",
    "<br>\n",
    "<br>\n",
    "$$\n",
    "\\braket{\\varphi'}{\\psi'} = \\left(\\bra{\\varphi}U^\\dagger\\right)U\\ket{\\psi} = \\bra{\\varphi} U^\\dagger U \\ket{\\psi} = \n",
    "\\braket{\\varphi}{\\psi}\n",
    "$$\n",
    "\n",
    "<br>\n",
    "\n",
    "particularizando para $\\ket{\\varphi} = \\ket{\\psi}$ tenemos que un operador unitario *conserva la norma*.\n",
    "<br>\n",
    "<br>\n",
    "$$\n",
    "\\|U \\ket{\\varphi}\\| = \\|\\ket{\\varphi}\\|\n",
    "$$"
   ]
  },
  {
   "cell_type": "markdown",
   "id": "e2aacd60",
   "metadata": {
    "slideshow": {
     "slide_type": "slide"
    }
   },
   "source": [
    "<div class=\"alert alert-block alert-info\",text-align:center>\n",
    "<p style=\"text-align: left ;color: navy;\">  \n",
    "<b>Lema:</b>$~$ \n",
    "<br> la composición de dos operadores $U$ y $V$  unitarios es unitaria.\n",
    "Sin embargo, la <i>combinación lineal</i> de operadores unitarios no es unitaria.\n",
    "</div>\n",
    "\n",
    "<div class=\"alert alert-block alert-success\">\n",
    "<b>Ejercicio:</b>\n",
    "demuestra este sencillo pero importante resultado. \n",
    "\n",
    "<br>\n",
    "<details>\n",
    "<summary><p style=\"text-align:right\"> >> Solución </p></summary>\n",
    "\n",
    "$$\n",
    "(UV)^\\dagger = V^\\dagger U^\\dagger = V^{-1}U^{-1} = (UV)^{-1} \n",
    "$$\n",
    "    \n",
    "\n",
    "$$\n",
    " (U+V)^\\dagger = V^\\dagger+ U^\\dagger = V^{-1}+U^{-1} \\neq  (U+V)^{-1}\n",
    "$$\n",
    "    \n",
    "    \n",
    "</details>\n",
    "</div>       "
   ]
  },
  {
   "cell_type": "markdown",
   "id": "8380fc9e",
   "metadata": {
    "slideshow": {
     "slide_type": "slide"
    }
   },
   "source": [
    "- Por tanto, los operadores unitarios <i>no forman</i> un subespacio vectorial dentro de ${\\rm L}(\\Hil)$. \n",
    "<br>\n",
    "<br>\n",
    "La estructura matemática que forman se denomina *grupo*: el grupo unitario $U(m)$ cuando $\\Hil$ tiene dimensión $m$. \n"
   ]
  },
  {
   "cell_type": "markdown",
   "id": "3142d2fe",
   "metadata": {
    "slideshow": {
     "slide_type": "fragment"
    }
   },
   "source": [
    "- Aun así, forman una *variedad*: un conjunto continuo  que se puede parametrizar mediante una colección de parámetros, la *dimensión de la variedad*. \n"
   ]
  },
  {
   "cell_type": "markdown",
   "id": "fd910112",
   "metadata": {
    "slideshow": {
     "slide_type": "fragment"
    }
   },
   "source": [
    "\n",
    "- Como hay una relación 1 a 1 entre un operador una matriz (en una base), esa dimensión será igual a la *dimensión del conjunto de matrices unitarias* \n"
   ]
  },
  {
   "cell_type": "markdown",
   "id": "4fe40c48",
   "metadata": {
    "slideshow": {
     "slide_type": "fragment"
    }
   },
   "source": [
    "<div class=\"alert alert-block alert-success\">\n",
    "    <b>Ejercicio:</b>\n",
    "resta de ${\\rm dim}_{\\bf R}({\\rm L}(\\Hil)) =  2N^2$ el número de ecuaciones que restringen la matriz de un operador unitario y halla así la dimensión (real) de la <i>variedad de operadores unitarios</i>\n",
    "\n",
    "<br>\n",
    "<br>\n",
    "<details>\n",
    "<summary><p style=\"text-align:right\"> >> Solución </p></summary>\n",
    "Dada una matriz $U_{ij}$ la ecuación $U^\\dagger_{ij} = U^{-1}_{ij}$ son $N^2$ ecuaciones que son funciones de $2N^2$ parámetros. Por tanto $2N^2- N^2 = N^2$ es la dimensión del conjunto unitario. \n",
    "    \n",
    "</details>  \n",
    "    \n",
    "</div>    "
   ]
  },
  {
   "cell_type": "markdown",
   "id": "cc29d540",
   "metadata": {
    "slideshow": {
     "slide_type": "slide"
    }
   },
   "source": [
    "### Bases ortonormales\n",
    "\n",
    "- Como caso particular, aplicando un operador unitario $U$ a una base ortonormal $\\{\\ket{e_i}\\}$ obtenemos otra base ortonormal $\\{\\ket{f_i}\\}$\n",
    "\n",
    "<br>\n",
    "\n",
    "$$\n",
    "\\left. \\begin{array}{c}\\ket{f_i} = U\\ket{e_i}\\\\ U^{-1} =  U^\\dagger \\end{array} \\right\\}\n",
    "~~~~ \\Longleftrightarrow ~~~~\\braket{f_i}{f_j} = \\braket{e_i}{e_j} = \\delta_{ij}\n",
    "$$\n",
    "\n",
    "<br>"
   ]
  },
  {
   "cell_type": "markdown",
   "id": "ebb8ae6c",
   "metadata": {
    "slideshow": {
     "slide_type": "fragment"
    }
   },
   "source": [
    "- Inversamente, dadas dos bases ortonormales, $\\{\\ket{e_i}\\}$ y $\\{\\ket{f_i}\\}$, el operador que las relaciona es un operador unitario\n",
    "    \n",
    "$$ \n",
    " \\begin{array}{rcl} \n",
    "U = \\sum_i \\ketbra{f_i}{e_i} & \\Rightarrow &  U\\ket{e_j} = \\ket{f_j} \n",
    " \\\\ \\rule{0mm}{5mm}\n",
    "U^\\dagger = \\sum_i \\ketbra{e_i}{f_i}  & \\Rightarrow &    U^\\dagger\\ket{f_j} = \\ket{e_j} \n",
    " \\end{array}\n",
    "$$\n"
   ]
  },
  {
   "cell_type": "markdown",
   "id": "b9a23863",
   "metadata": {
    "slideshow": {
     "slide_type": "fragment"
    }
   },
   "source": [
    "- Un  <i>operador ortogonal</i> es un caso particular de operador  unitario con *elementos de matriz reales*. El operador de rotación $R(\\theta)$ que hemos estudiado al comienzo de este tema es un operador ortogonal. Es inmediato comprobar que \n",
    "\n",
    "$$ R(\\theta)^\\dagger =R(\\theta)^t = R(-\\theta) = R(\\theta)^{-1}$$\n",
    "    \n"
   ]
  },
  {
   "cell_type": "code",
   "execution_count": null,
   "id": "1b70cbd8",
   "metadata": {
    "slideshow": {
     "slide_type": "slide"
    }
   },
   "outputs": [],
   "source": [
    "U=np.matrix([[1,1J],[1J, + 1]])/np.sqrt(2)\n",
    "Display('$U = {}$'.format(MatrixToLatex(U)))\n",
    "\n",
    "Uadj=U.getH() # getH es un método de la clase matrix que devuelve la matriz conjugada hermítica\n",
    "Display('$U^{\\dagger} = %s$'%(MatrixToLatex(Uadj)))\n",
    "\n",
    "#Uinv=U.getI()  # getI es un método de la clase matrix que devuelve la matriz inversa\n",
    "#Display('$U^{-1} = %s$'%(MatrixToLatex(Uinv)))\n",
    "\n",
    "print('comprobamos que U es unitaria')\n",
    "\n",
    "Display('$U^{\\dagger}U = %s$'%MatrixToLatex(np.dot(Uadj,U)))"
   ]
  },
  {
   "cell_type": "markdown",
   "id": "0828e63b",
   "metadata": {
    "slideshow": {
     "slide_type": "slide"
    }
   },
   "source": [
    "<a id='opnormal'></a>\n",
    "## Operador Normal\n",
    "    \n",
    "<div class=\"alert alert-block alert-info\",text-align:center>\n",
    "<p style=\"text-align: center;\"> <p style=\"text-align: left ;color: navy;\">  \n",
    "    <b> Definición: </b>  un operador $N$  es <i>normal</i> si conmuta con su adjunto\n",
    "<br>\n",
    "$$\n",
    "NN^\\dagger = N^\\dagger N\n",
    "$$\n",
    "</div>"
   ]
  },
  {
   "cell_type": "markdown",
   "id": "c0fe80bc",
   "metadata": {
    "slideshow": {
     "slide_type": "slide"
    }
   },
   "source": [
    "<a id='ophermit'></a>\n",
    "## Operador Hermítico\n",
    "<div class=\"alert alert-block alert-info\",text-align:center>\n",
    "<p style=\"text-align: center;\"> <p style=\"text-align: left ;color: navy;\">  \n",
    "<b> Definición: </b> un operador  $H$ es <i>Hermítico</i> (o <i>autoadjunto</i>)  si  verifica la ecuación siguiente\n",
    "<br>\n",
    "<br>    \n",
    "$$\n",
    "H = H^\\dagger \n",
    "$$\n",
    "</div>\n",
    "\n",
    "- Es evidente que un operador hermítico es un operador normal, pero a la inversa no tiene por qué."
   ]
  },
  {
   "cell_type": "markdown",
   "id": "0b20a7f9",
   "metadata": {
    "slideshow": {
     "slide_type": "fragment"
    }
   },
   "source": [
    "- La **combinación lineal** de dos operadores *hermíticos*  con coeficientes *reales* es un operador *hermítico*\n",
    "<br>\n",
    "<br>\n",
    "$$\n",
    "C^\\dagger = (a A + b B)^\\dagger = a^* A^\\dagger + b^* B^\\dagger = aA + b B = C\n",
    "$$\n",
    "<br>\n",
    "En otras palabras, los operadores autoadjuntos forman un subespacio vectorial $\\subset {\\rm L}(\\Hil)$."
   ]
  },
  {
   "cell_type": "markdown",
   "id": "3668f6da",
   "metadata": {
    "slideshow": {
     "slide_type": "fragment"
    }
   },
   "source": [
    "- En cambio la composición (producto) de dos operadores hermíticos, en general no es hermítico\n",
    "<br>\n",
    "<br>\n",
    "$$\n",
    "(A B)^\\dagger = B^\\dagger A^\\dagger = BA \\neq AB\n",
    "$$\n",
    "<br>\n",
    "salvo que $A$ y $B$ conmuten."
   ]
  },
  {
   "cell_type": "markdown",
   "id": "73667c75",
   "metadata": {
    "slideshow": {
     "slide_type": "fragment"
    }
   },
   "source": [
    "- La matriz asociada a un operador hermítico también se llama hermítica, y coincide con su traspuesta y conjugada\n",
    "<br>\n",
    "<br>\n",
    "$$\n",
    "A_{ij} = A^\\dagger_{ij} \\equiv = A^{*t}_{ij} = A^*_{ji}   \\hspace{4cm}\n",
    "$$\n",
    "<br>\n",
    "Naturalmente, las matrices hermíticas también forman un subespacio vectorial dentro del espacio vectorial de matrices. "
   ]
  },
  {
   "cell_type": "markdown",
   "id": "6d876bcb",
   "metadata": {
    "slideshow": {
     "slide_type": "slide"
    }
   },
   "source": [
    "<div class=\"alert alert-block alert-danger\">\n",
    "    <b>Notar:</b>\n",
    "<br>\n",
    "A partir de cualquier operador $C\\neq C^\\dagger $ siempre podemos construir un operador hermítico $A=A^\\dagger$ mediante la combinación lineal\n",
    "<br>    \n",
    "\n",
    "$$\n",
    "A = C + C^\\dagger\n",
    "$$\n",
    "<br>\n",
    "donde $a$ es un número real. Esto se extiende trivialmente a las matrices que los representan en cualquier base\n",
    "    \n",
    "<br> \n",
    "$$\n",
    "A_{ij} = C_{ij} + C_{ji}^*\n",
    "$$ \n",
    "   \n",
    "</div>"
   ]
  },
  {
   "cell_type": "markdown",
   "id": "cc18eced",
   "metadata": {
    "slideshow": {
     "slide_type": "fragment"
    }
   },
   "source": [
    "<div class=\"alert alert-block alert-success\">\n",
    "    <b>Ejercicio:</b>\n",
    "Resta de $2N^2$ el número de ecuaciones que restringen la matriz de un operador hermítico y halla así la dimensión del <i>subespacio vectorial hermítico</i>. \n",
    "</div>"
   ]
  },
  {
   "cell_type": "markdown",
   "id": "34ee35cd",
   "metadata": {
    "slideshow": {
     "slide_type": "slide"
    }
   },
   "source": [
    "<div class=\"alert alert-block alert-success\">\n",
    "    <b>Ejercicio:</b>\n",
    "Genera una matriz hermítica $3\\times 3$ que tenga elementos de matriz aleatorios \n",
    "    \n",
    "<details>\n",
    "<summary><p style=\"color:green;text-align:right\"> >> Solución </p></summary>\n",
    "     \n",
    "    '''Podemos generar una matriz hermítica H a partir de una matriz general A haciendo H = (A + A^+)/2'''  \n",
    "     A = np.matrix(10*np.random.rand(3, 3)+ 10*1J*np.random.rand(3, 3))    \n",
    "     Aadj=np.matrix(A).getH()    \n",
    "     H = (A+Aadj)/2\n",
    "     Display('$H = %s$'%(MatrixToLatex(H)))\n",
    "     '''Verifiquemos hermiticidad'''\n",
    "     H==H.getH()\n",
    "     \n",
    "</details>\n",
    "</div>"
   ]
  },
  {
   "cell_type": "markdown",
   "id": "d40c2cf2",
   "metadata": {
    "slideshow": {
     "slide_type": "skip"
    }
   },
   "source": [
    "## Operador anti-hermítico\n",
    "<div class=\"alert alert-block alert-info\",text-align:center>\n",
    "<p style=\"text-align: center;\"> <p style=\"text-align: left ;color: navy;\">  \n",
    "<b> Definición: </b> un operador  $A$ es <i>anti-hermítico</i>   si  verifica la ecuación siguiente\n",
    "<br>\n",
    "<br>    \n",
    "$$\n",
    "A = -A^\\dagger \n",
    "$$\n",
    "</div>\n",
    "\n",
    "- Un operador anti-hermitico siempre se puede obtener de un operador hermítico mediante el número $i$\n",
    "\n",
    "$$\n",
    "A = i H ~~~\\Longleftrightarrow ~~~A^\\dagger = (i H)^\\dagger = -i H\n",
    "$$\n",
    "\n",
    "- Se deduce de lo anterior que un operador anti-hermítico es también un operador normal\n",
    "\n",
    "$$\n",
    "A A^\\dagger = A (-A) = -A A = A^\\dagger A\n",
    "$$"
   ]
  },
  {
   "cell_type": "markdown",
   "id": "e733dbea",
   "metadata": {
    "slideshow": {
     "slide_type": "slide"
    }
   },
   "source": [
    "<a id='opproyec'></a>\n",
    "## Proyector\n",
    "\n",
    "Ya hemos estudiado el caso de operadores de la forma $A = \\ketbra{v}{u}$. Como vimos, son los ladrillos fundamentales para construir operadores más generales. Vamos a particularizar para el caso de que $\\ket{u}=\\ket{v}$ y, además, sean vectores unitarios $|\\ket{u}|=1$\n",
    "\n",
    "El operador $P = \\ket{u}\\bra{u}$ proyecta cualquier vector en la dirección de $\\ket{u}$\n",
    "\n",
    "$$\n",
    "P \\ket{w} = \\ket{u}\\!\\braket{u}{w} = a \\ket{u}\n",
    "$$\n",
    "\n",
    "donde $a = \\braket{u}{w}$. "
   ]
  },
  {
   "cell_type": "markdown",
   "id": "e979a07a",
   "metadata": {
    "slideshow": {
     "slide_type": "fragment"
    }
   },
   "source": [
    "Aplicado al vector $\\ket{u}$ lo deja invariante\n",
    "\n",
    "$$\n",
    "P \\ket{u} = \\ket{u}\\!\\braket{u}{u} =  \\ket{u}\n",
    "$$"
   ]
  },
  {
   "cell_type": "markdown",
   "id": "4dce50fe",
   "metadata": {
    "slideshow": {
     "slide_type": "fragment"
    }
   },
   "source": [
    "Es por esto que, una segunda aplicación de $P$, no modifica el resultado\n",
    "\n",
    "$$\n",
    "P(P \\ket{w}) =  \\braket{u}{w} P(\\ket{u}) = \\braket{u}{w} \\ket{u}\n",
    "$$\n",
    "<br>\n",
    "\n",
    "Como el vector $\\ket{w}$ es arbitrario, que $P^2\\ket{w} = P\\ket{w}$ sean siempre iguales es una propiedad del operador $P$.\n",
    "De hecho esta propiedad define una clase de operadores. "
   ]
  },
  {
   "cell_type": "markdown",
   "id": "6fada0d6",
   "metadata": {
    "slideshow": {
     "slide_type": "slide"
    }
   },
   "source": [
    "<div class=\"alert alert-block alert-info\",text-align:center>\n",
    " <p style=\"text-align: left ;color: navy;\">  \n",
    "<b> Definición: </b> \n",
    "un <i>proyector</i> es un operador hermítico que verifica la ecuación\n",
    "<br><br>\n",
    "$$\n",
    "P^2 = P\n",
    "$$\n",
    "</div>\n",
    "</table>"
   ]
  },
  {
   "cell_type": "markdown",
   "id": "40d59578",
   "metadata": {
    "slideshow": {
     "slide_type": "fragment"
    }
   },
   "source": [
    "- Dos proyectores $P_1^2=P_1$ y $P_2^2 = P_2$ son ortogonales si verifican\n",
    "<br>\n",
    "<br>\n",
    "$$\n",
    "P_1 P_2 = 0 \\hspace{5cm}\n",
    "$$\n",
    "<br>\n",
    "en cuyo caso proyectan sobre vectores ortogonales. "
   ]
  },
  {
   "cell_type": "markdown",
   "id": "6b1d3693",
   "metadata": {
    "slideshow": {
     "slide_type": "slide"
    }
   },
   "source": [
    "####  Matriz asociada a un proyector\n",
    "\n",
    "- si $\\ket{u} = \\ket{e_1}$ el operador $P_1 = \\ket{e_1}\\bra{e_1}$ proyecta cualquier vector sobre su componente a lo largo de $\\ket{e_1}$.    \n",
    "\n",
    "En forma matricial\n",
    " $$\n",
    " \\ket{e_1}\\bra{e_1} = \\begin{pmatrix} 1 & 0 & ...& 0 \\end{pmatrix} \\begin{pmatrix} 1 \\\\ 0 \\\\ \\vdots\\\\ 0 \\end{pmatrix} =\n",
    " \\begin{pmatrix} 1 & 0 &  \\cdots & 0 \\\\ 0 & 0  & \\cdots & 0 \\\\ \n",
    " \\vdots & \\vdots &\\vdots & \\vdots  \\\\\n",
    " 0  & 0 & \\cdots & 0\\end{pmatrix}\n",
    " $$\n",
    "de modo que\n",
    "$$\n",
    "    \\ket{e_1}\\braket{e_1}{u} ~= ~\\begin{pmatrix} 1 & 0 &  \\cdots & 0 \\\\ 0 & 0  & \\cdots & 0 \\\\ \n",
    " \\vdots & \\vdots &\\vdots & \\vdots  \\\\\n",
    " 0  & 0 & \\cdots & 0\\end{pmatrix} \\begin{pmatrix} u_1 \\\\ u_2 \\\\ \\vdots \\\\ u_N \\end{pmatrix}\n",
    " = \\begin{pmatrix} u^1 \\\\ 0 \\\\ \\vdots \\\\ 0 \\end{pmatrix} = u^1 \\ket{e_1}\n",
    "$$\n",
    "    \n"
   ]
  },
  {
   "cell_type": "markdown",
   "id": "3683351e",
   "metadata": {
    "slideshow": {
     "slide_type": "slide"
    }
   },
   "source": [
    "    \n",
    "- 2. Si $\\ket{u} = \\sum_i u^i\\ket{e_i}$ es un vector unitario  $|\\ket{u}|=1$, entonces el proyector a lo largo de $\\ket{u}$ viene dado por\n",
    "<br>\n",
    "<br>\n",
    "$$\n",
    "P(u) = \\ketbra{u}{u} = \\sum_{i,j} u_i u^*_j \\ketbra{e_i}{e_j}\n",
    "$$\n",
    "<br>\n",
    "Es decir, le está asociada una matriz dada por $P_{ij}=u_iu^*_j$. Es trivial verificar que \n",
    "<br>\n",
    "<br>\n",
    "$$\n",
    "\\sum_j P_{ij}P_{jk} = \\sum_j u_i u^*_j u_j u^*_k = u_i\\left(\\sum_j u^*_j u_j\\right) u_k = u_i u_k = P_{ik}\n",
    "$$\n",
    "<br>\n",
    "como corresponde a un proyector.\n",
    "    \n",
    "\n"
   ]
  },
  {
   "cell_type": "markdown",
   "id": "6986817c",
   "metadata": {
    "slideshow": {
     "slide_type": "fragment"
    }
   },
   "source": [
    "- 3. Si $\\ket{u}$ y $\\ket{v}$ son vectores ortonormales, $\\braket{u}{v}=0$, entonces las proyecciones consecutivas son nulas\n",
    "\n",
    "$$\n",
    "P(u)\\cdot P(v) = \\ket{u}\\!\\braket{u}{v}\\bra{v} = 0\n",
    "$$\n",
    "    "
   ]
  },
  {
   "cell_type": "markdown",
   "id": "822103d1",
   "metadata": {
    "slideshow": {
     "slide_type": "slide"
    }
   },
   "source": [
    "<div class=\"alert alert-block alert-danger\">\n",
    "    <b>Notar:</b>\n",
    "<br>   \n",
    "El proyector es un operador <i>no-unitario</i>: la proyección no conserva la norma.\n",
    "<br> \n",
    "Supongamos que $\\ket{u}$ y $\\ket{w}$ son vectores unitarios.\n",
    "<br>\n",
    "<br>\n",
    "$$\n",
    "\\| P\\ket{w}\\|^2 = \\bra{w}P^\\dagger P\\ket{w} = \\bra{w} P\\ket{w}= \\braket{w}{u}\\braket{u}{w} = |\\braket{u}{w}|^2 \\leq \\|\\ket{u}\\|\\|\\ket{w}\\| = 1  \n",
    "$$\n",
    "<br>\n",
    "</div>"
   ]
  },
  {
   "cell_type": "markdown",
   "id": "6caffa19",
   "metadata": {
    "slideshow": {
     "slide_type": "slide"
    }
   },
   "source": [
    "<a id='trazacom'></a>\n",
    "<table width=\"100%\">\n",
    "    <td style=\"font-size:25px;font-family:Helvetica;text-align:left;background-color:rgba(12, 43, 337, 0.3);\">\n",
    "<b>Conmutador,  Traza</b>\n",
    "</table>   "
   ]
  },
  {
   "cell_type": "markdown",
   "id": "d061020c",
   "metadata": {
    "slideshow": {
     "slide_type": "slide"
    }
   },
   "source": [
    "## Conmutador \n",
    "\n",
    "A diferencia de los números, el orden en el que se componen dos operadores es relevante.  \n",
    "Dados dos operadores, $A$ y $B$, definimos el *conmutador*  \n",
    "\n",
    "\\begin{eqnarray}\n",
    " [A,B] = AB-BA\\,  \\nonumber\n",
    "\\end{eqnarray}"
   ]
  },
  {
   "cell_type": "markdown",
   "id": "fe2ad4c2",
   "metadata": {
    "slideshow": {
     "slide_type": "fragment"
    }
   },
   "source": [
    "- El conmutador tiene las dos siguientes propiedades algebraicas, elementales de probar\n",
    "\n",
    "\\begin{eqnarray}\n",
    "{\\rm Derivación} ~~~& \\to & ~ [A,BC] = B[A,C] + [A,B]C \\nonumber\\\\ \\rule{0mm}{9mm}\n",
    "{\\rm Identidad \\ de \\, Jacobi}~~~~ & \\to & ~ [A,[B,C]] + [B,[C,A]] + [C,[A,B]] = 0 \n",
    "\\end{eqnarray}\n"
   ]
  },
  {
   "cell_type": "markdown",
   "id": "1339c2c8",
   "metadata": {
    "slideshow": {
     "slide_type": "fragment"
    }
   },
   "source": [
    "- La conmutatividad de dos operadores $[A,B]=0$ es una propiedad algebraica muy deseable que, cuando se da, implica propiedades  muy ventajosas. "
   ]
  },
  {
   "cell_type": "markdown",
   "id": "824f5955",
   "metadata": {
    "slideshow": {
     "slide_type": "slide"
    }
   },
   "source": [
    "## Traza de un operador\n",
    "\n",
    "La traza de un operador se define como la suma de los elementos diagonales de la matriz que lo representa en una base\n",
    "\n",
    "$$\n",
    "{\\rm tr} A \\equiv \\sum_{i} A_{ii} =   \\sum_{i} \\bra{i}A\\ket{i} \n",
    "$$\n",
    "\n"
   ]
  },
  {
   "cell_type": "markdown",
   "id": "fd4c3731",
   "metadata": {
    "slideshow": {
     "slide_type": "fragment"
    }
   },
   "source": [
    "La traza de $A$ es *independiente de la base*. Por eso decimos que es la *traza del operador*."
   ]
  },
  {
   "cell_type": "markdown",
   "id": "0f938830",
   "metadata": {
    "slideshow": {
     "slide_type": "fragment"
    }
   },
   "source": [
    "\\begin{eqnarray}\n",
    "{\\rm tr} A &=& \\sum_{i} \\bra{i}A\\ket{i} =\\sum_{i} \\bra{i}A\\left( \\sum_j\\ketbra{\\tilde j}{\\tilde j}\\right)\\ket{i}\n",
    "\\nonumber\\\\\n",
    "&=& \\sum_{ij}\\bra{i}A\\ket{\\tilde j} \\braket{\\tilde j}{i} \\nonumber\\\\\n",
    "&=& \\sum_{ij}\\braket{\\tilde j}{i}\\bra{i}A\\ket{\\tilde j}  \\nonumber\\\\\n",
    "&=& \\sum_{j} \\bra{\\tilde j}\\left(\\sum_i\\ketbra{i}{i}\\right) A \\ket{\\tilde j}\\nonumber\\\\\n",
    "&=& \\sum_{j} \\bra{\\tilde j}A\\ket{\\tilde j}\\nonumber\\\\\n",
    "&=& \\sum_j \\tilde A_{jj}\n",
    "\\end{eqnarray}\n"
   ]
  },
  {
   "cell_type": "markdown",
   "id": "892ddede",
   "metadata": {
    "slideshow": {
     "slide_type": "slide"
    }
   },
   "source": [
    "- La traza es una operación *lineal*\n",
    "<br>\n",
    "<br>\n",
    "$$\n",
    "{\\rm tr} (A + B ) = {\\rm tr}A + {\\rm tr}B\n",
    "$$"
   ]
  },
  {
   "cell_type": "markdown",
   "id": "180d19a8",
   "metadata": {
    "slideshow": {
     "slide_type": "fragment"
    }
   },
   "source": [
    "- La traza de un producto de operadores tiene la propiedad de *cíclicidad*: es invariante bajo permutaciones - cíclicas de los operadores en su argumento. Por ejemplo, para tres operadores $A, B$ y $C$\n",
    "<br>\n",
    "<br>\n",
    "$$\n",
    "{\\rm tr}(ABC)= {\\rm tr}(BCA) \n",
    "$$"
   ]
  },
  {
   "cell_type": "markdown",
   "id": "d780b598",
   "metadata": {
    "slideshow": {
     "slide_type": "fragment"
    }
   },
   "source": [
    "<div class=\"alert alert-block alert-success\">\n",
    "<b>Ejercicio:</b>$~$\n",
    "demuestra este resultado\n",
    "<details>\n",
    "<summary><p style=\"text-align:right\"> >> Solución </p></summary>\n",
    "\\begin{eqnarray}\n",
    "{\\rm tr}(ABC)&=& \\sum_{i,j,k}A_{ij}B_{jk}C_{ki} =\\sum_{j,k,i}B_{jk}C_{ki}A_{ij}={\\rm tr}(BCA) \\end{eqnarray}\n",
    "</details>    \n"
   ]
  },
  {
   "cell_type": "markdown",
   "id": "a0ecd2e0",
   "metadata": {
    "slideshow": {
     "slide_type": "fragment"
    }
   },
   "source": [
    "Para un producto de dos operadores, el anterior resultado implica que la *traza de un conmutador es cero*. Dicho de otra forma\n",
    "\n",
    "$$\n",
    "{\\rm tr}(AB) = {\\rm tr}(BA) ~~~\\Rightarrow ~~~~{\\rm tr}([A,B]) = 0 \\, .\n",
    "$$"
   ]
  },
  {
   "cell_type": "markdown",
   "id": "af851158",
   "metadata": {
    "slideshow": {
     "slide_type": "slide"
    }
   },
   "source": [
    "<a id='especope'></a>\n",
    "<table width=\"100%\">\n",
    "    <td style=\"font-size:25px;font-family:Helvetica;text-align:left;background-color:rgba(12, 43, 337, 0.3);\">\n",
    "<b>Autovalores y autovectores </b>\n",
    "</table>   "
   ]
  },
  {
   "cell_type": "markdown",
   "id": "05e70e32",
   "metadata": {
    "slideshow": {
     "slide_type": "slide"
    }
   },
   "source": [
    "## Valores y vectores propios\n",
    "\n",
    "\n",
    "<div class=\"alert alert-block alert-info\",text-align:center>\n",
    " <p style=\"text-align: left ;color: navy;\">  \n",
    "<b> Definición: </b> \n",
    "<br>\n",
    "Existen vectores, $\\ket{\\lambda}$ para los cuales la <i>la acción de un operador</i> $A$ devuelve un vector <i>paralelo</i> \n",
    "<br><br>\n",
    "$$\n",
    "A\\ket{\\lambda} = \\lambda \\ket{\\lambda}\\, .\n",
    "$$\n",
    "<br>    \n",
    "Decimos que $\\ket{\\lambda}$ es un vector propio (o autovector) de $A$ con valor propio (o autovalor) asociado $\\lambda\\in {\\mathbb C}$ \n",
    "</div>\n"
   ]
  },
  {
   "cell_type": "code",
   "execution_count": null,
   "id": "08876708",
   "metadata": {
    "slideshow": {
     "slide_type": "slide"
    }
   },
   "outputs": [],
   "source": [
    "A = np.array([[1, -1], [1, 1]])\n",
    "\n",
    "valprop, vecprop = np.linalg.eig(A)\n",
    "print('valprop =',valprop)\n",
    "print('vecprop =',vecprop)\n"
   ]
  },
  {
   "cell_type": "code",
   "execution_count": null,
   "id": "db5b484c",
   "metadata": {},
   "outputs": [],
   "source": [
    "'verificamos. Los autovectore son las columnas de v'\n",
    "np.round(np.dot(A, vecprop[:, 0]) - valprop[0] * vecprop[:, 0],3), np.round(np.dot(A, vecprop[:, 1]) - valprop[1] * vecprop[:, 1],3)"
   ]
  },
  {
   "cell_type": "markdown",
   "id": "a5d318b2",
   "metadata": {
    "slideshow": {
     "slide_type": "slide"
    }
   },
   "source": [
    "<a id='subesprop'></a>\n",
    "## Subespacio Propio \n"
   ]
  },
  {
   "cell_type": "markdown",
   "id": "4a74dfa1",
   "metadata": {
    "slideshow": {
     "slide_type": "fragment"
    }
   },
   "source": [
    "- Decimos que un autovalor $\\lambda_k$ es $d_k$ <i>veces degenerado</i> si existen $d_k$ autovectores linealmente independientes,  $\\ket{\\lambda_k^{a}}$ con $a=1,...,d_k$ asociados al **mismo** autovalor\n",
    "<br>\n",
    "$$A\\ket{\\lambda_k^a} = \\lambda_k \\ket{\\lambda_k^a}$$ "
   ]
  },
  {
   "cell_type": "markdown",
   "id": "aad3aeb0",
   "metadata": {
    "slideshow": {
     "slide_type": "fragment"
    }
   },
   "source": [
    "- Dichos autovectores generan un *subespacio propio* $S_k\\subset \\Hil$. \n",
    "<br>\n",
    "Por ejemplo,  sea $\\ket{u} = \\sum_{a=1}^{d_k} c_a\\ket{\\lambda^a_k} $, entonces\n",
    "<br>\n",
    "\\begin{eqnarray}\n",
    "A \\ket{u} \n",
    "=  \\sum_{a=1}^{d_k} c_a A\\ket{\\lambda^a_k}  =  \\sum_{a=1}^{d_k} c_a \\lambda_k\\ket{\\lambda^a_k}  =  \\lambda_k\\ket{u}\n",
    "\\end{eqnarray}\n",
    "<br>\n",
    "Por tanto $\\ket{u}\\in S_k$.\n"
   ]
  },
  {
   "cell_type": "markdown",
   "id": "673e2a83",
   "metadata": {
    "slideshow": {
     "slide_type": "fragment"
    }
   },
   "source": [
    "\n",
    "\n",
    "-  El teorema de Gramm-Schmidt garantiza que podemos elegir (mediante un cambio adecuado) la base $\\{\\ket{\\lambda_{k}^a}\\}, a=1,...,d_k$ de forma que que sea <i>ortonormal</i> $\\braket{\\lambda_{k}^a}{\\lambda_{k}^b}=\\delta_{ab}$."
   ]
  },
  {
   "cell_type": "markdown",
   "id": "d8092cf5",
   "metadata": {
    "slideshow": {
     "slide_type": "fragment"
    }
   },
   "source": [
    "- El proyector ortogonal sobre el subespacio propio $S_k$ será\n",
    "\n",
    "$$\n",
    "P_k = \\sum_{a=1}^{d_k} \\ketbra{\\lambda_{k}^a}{\\lambda_{k}^a}\n",
    "$$"
   ]
  },
  {
   "cell_type": "markdown",
   "id": "cae416c8",
   "metadata": {
    "slideshow": {
     "slide_type": "slide"
    }
   },
   "source": [
    "<div class=\"alert alert-block alert-warning\">\n",
    "    <b>Ejemplo:</b>\n",
    "    \n",
    "Llamemos $R_z(\\theta)$ el operador que efectúa una rotación  en el plano  $(x,y)$ de ángulo $\\theta$. Cuando $\\theta = \\pi$ encontramos las siguiente acción sobre los tres elementos $\\{\\hat{\\bf x},\\hat{\\bf y},\\hat{\\bf z}\\}$\n",
    "de la base cartesiana\n",
    "<br>\n",
    "<br>    \n",
    "\\begin{eqnarray}\n",
    "R_z(\\pi)\\hat{\\bf x} &=&-\\hat{\\bf x}  \\\\ \\rule{0mm}{6mm}\n",
    "R_z(\\pi)\\hat{\\bf y} &=& -\\hat{\\bf y}  \\\\ \\rule{0mm}{6mm}\n",
    "R_z(\\pi)\\hat{\\bf z} &=& + \\hat{\\bf z}  \n",
    "\\end{eqnarray}    \n",
    "<br>\n",
    "    \n",
    "Vemos que hay un autovector $\\hat{\\bf z}$ con autovalor $+1$ y dos autovectores $\\hat{\\bf x} $ y $\\hat{\\bf y} $\n",
    "con autovalor $-1$. \n",
    "<br>\n",
    "<br>\n",
    "El espacio ${\\mathbb R}^3$ se divide en dos subespacios propios de $R_z(\\pi)$, uno de dimensión 1 (el eje $z$) y otro de dimensión 2 (el plano $x,y$).\n",
    "</div>"
   ]
  },
  {
   "cell_type": "markdown",
   "id": "cd153281",
   "metadata": {
    "slideshow": {
     "slide_type": "skip"
    }
   },
   "source": [
    "<div class=\"alert alert-block alert-success\">\n",
    "    <b>Ejercicio:</b>\n",
    "muestra que los autovalores de un proyector son sólo $0$ y $1$ \n",
    "</div>"
   ]
  },
  {
   "cell_type": "markdown",
   "id": "47048b99",
   "metadata": {
    "slideshow": {
     "slide_type": "skip"
    }
   },
   "source": [
    "[<<<](#top)"
   ]
  },
  {
   "cell_type": "markdown",
   "id": "c3a77350",
   "metadata": {
    "slideshow": {
     "slide_type": "slide"
    }
   },
   "source": [
    "<a id='especopnormal'></a>\n",
    "\n",
    "## Espectro de Operadores Normales\n",
    "\n",
    "Recordemos la definición de un operador normal. $N$ será un operador normal si conmuta con su adjunto\n",
    "\n",
    "$$\n",
    "NN^\\dagger = N^\\dagger N\n",
    "$$\n",
    "\n",
    "La importancia de los operadores normales radica en el siguiente lema     "
   ]
  },
  {
   "cell_type": "markdown",
   "id": "09d18447",
   "metadata": {
    "slideshow": {
     "slide_type": "fragment"
    }
   },
   "source": [
    "<div class=\"alert alert-block alert-info\",text-align:center>\n",
    " <p style=\"text-align: left ;color: navy;\">  \n",
    "<b> Lema: </b> \n",
    "<br>Dos autovectores de un operador normal asociados a dos autovalores <i>distintos</i>  son <i>ortogonales</i>\n",
    "<br>  \n",
    "<br>     \n",
    "$$\n",
    "\\lambda_i\\neq \\lambda_j~~~~\\Longleftrightarrow ~~~~ \\braket{\\lambda_i}{\\lambda_j} = 0\n",
    "$$\n",
    "<details>\n",
    "<summary><p style=\"text-align:right\"> >> Prueba:</p></summary>\n",
    "<br>\n",
    "De la ecuación de autovalores $N\\ket{\\lambda_j} =  \\lambda_j \\ket{\\lambda_j}$, y de $NN^\\dagger = N^\\dagger N$, se sigue que\n",
    "$$\n",
    "\\bra{\\lambda_j}(N^\\dagger - \\lambda_j^*)(N - \\lambda_j) \\ket{\\lambda_j} = \\bra{\\lambda_j}(N - \\lambda_j)(N^\\dagger - \\lambda_j^*) \\ket{\\lambda_j}  = 0\\,\n",
    "$$\n",
    " de donde obtenemos $(N^\\dagger - \\lambda_j^*) \\ket{\\lambda_j} = 0 \\Rightarrow \\bra{\\lambda_j} N = \\bra{\\lambda_j}\\lambda_j$. Entonces\n",
    "$$\n",
    "\\bra{\\lambda_j}N\\ket{\\lambda_i} = \\lambda_j \\braket{\\lambda_j}{\\lambda_i} = \\lambda_i \\braket{\\lambda_j}{\\lambda_i} \\, ,\n",
    "$$\n",
    "de donde se sigue que, para $\\lambda_i \\neq \\lambda_j \\Rightarrow \\braket{\\lambda_i}{\\lambda_j} = 0$. \n",
    "</details>\n",
    "</div>\n",
    "\n",
    "En general, cada autovalor $\\lambda_k$ será $d_k \\geq 1$ veces degenerado. \n",
    "\n",
    "En ese caso hay  $\\{\\ket{\\lambda^a_k}\\}, a=1,...,d_k$ autovectores que generan el subespacio propio, $S(\\lambda_k)\\subset \\Hil $, de dimensión $d_k$. \n"
   ]
  },
  {
   "cell_type": "markdown",
   "id": "c709ab0d",
   "metadata": {
    "slideshow": {
     "slide_type": "fragment"
    }
   },
   "source": [
    "Subespacios $S(\\lambda_k)\\perp S(\\lambda_j)$ son ortogonales para $k\\neq j$ según el lema. Pero el lema anterior *no dice nada* sobre sus productos escalares de autovectores pertecientes al *mismo subespacio*. \n",
    "\n",
    "Sin embargo, el teorema de Gramm-Schmidt garantiza que podemos siempre pasar a  una nueva base $\\{\\ket{\\psi_a}\\}, a=1,...,d_k$ que sea ortonormal $\\braket{\\psi_a}{\\psi_b}=\\delta_{ab}$.\n",
    "\n",
    "El proyector sobre el subespacio propio será\n",
    "\n",
    "$$\n",
    "P_k = \\sum_{a=1}^{d_k} \\ketbra{\\psi_a}{\\psi_a}\n",
    "$$"
   ]
  },
  {
   "cell_type": "markdown",
   "id": "9b14b2d0",
   "metadata": {
    "slideshow": {
     "slide_type": "skip"
    }
   },
   "source": [
    "[<<<](#top)"
   ]
  },
  {
   "cell_type": "markdown",
   "id": "8f38e3de",
   "metadata": {
    "slideshow": {
     "slide_type": "slide"
    }
   },
   "source": [
    "<a id='descomespec'></a>\n",
    "## Descomposición  Espectral\n"
   ]
  },
  {
   "cell_type": "markdown",
   "id": "cd2caae7",
   "metadata": {
    "slideshow": {
     "slide_type": "-"
    }
   },
   "source": [
    "<div class=\"alert alert-block alert-info\",text-align:center>\n",
    " <p style=\"text-align: left ;color: navy;\">  \n",
    "<b> Teorema Espectral </b>: \n",
    "<br>     \n",
    "Para todo operador normal $A$ existe una base de  autovectores ortonormales,  $\\{\\ket{\\lambda_k}\\}$,  tales que  \n",
    "$A$ admite la siguiente <b> descomposición espectral </b>\n",
    "<br>\n",
    "<br>\n",
    "$$\n",
    "A = \\sum_{k=1}^N \\lambda_k   P_k\n",
    "$$\n",
    "<br>     \n",
    "donde $N=  {\\rm dim}(\\Hil)$ y $P_k =  \\ket{\\lambda_k}\\bra{\\lambda_k}$ y los autovalores pueden repetirse.\n",
    "</p>\n",
    "</div>"
   ]
  },
  {
   "cell_type": "markdown",
   "id": "2c66d061",
   "metadata": {
    "slideshow": {
     "slide_type": "fragment"
    }
   },
   "source": [
    "La matriz $A_{ij}$ que expresa $A$ en la base $\\ket{\\lambda_i}$ es diagonal \n",
    "\n",
    "$$\n",
    "A_{ij} = \\bra{\\lambda_i} A\\ket{\\lambda_j} =  \\lambda_j \\delta_{ij} \n",
    "=\\begin{pmatrix} \\lambda_1 &  &  &  \\\\ & \\lambda_2 & &  \\\\ & & \\ddots & \\\\ & & &  \\lambda_N \\end{pmatrix}\n",
    "$$\n",
    "<br>\n",
    "donde $\\lambda_k$ aparecerá $d_k$ veces repetido."
   ]
  },
  {
   "cell_type": "markdown",
   "id": "60297b44",
   "metadata": {
    "slideshow": {
     "slide_type": "slide"
    }
   },
   "source": [
    "<div class=\"alert alert-block alert-danger\">\n",
    "    <b>Notar:</b>\n",
    "<br>\n",
    "<br>\n",
    "El operador identidad tiene a cualquier vector por autovector $ I\\ket{v} = \\ket{v}$, con autovalores $\\lambda_ i = 1$. Por tanto, en <b>cualquier base</b>, la matriz asociada a $I$ tiene la forma diagonal\n",
    "$$\n",
    "I_{ij} = \\delta_{ij} = \\begin{pmatrix} 1 &  &  &  \\\\ & 1 & &  \\\\ & & \\ddots & \\\\ & & &  1 \\end{pmatrix}\n",
    "$$\n",
    "\n",
    "La descomposición espectral de $I$ no es otra que la <b>relación de completitud</b>, que es cierta *para cualquier base*, ya que todas las bases son bases de autoestados de $I$\n",
    "$$\n",
    "I ~=~ \\sum_{i=1}^N \\ketbra{\\lambda_i}{\\lambda_i} ~=~ \\sum_{i=1}^N \\ketbra{e_i}{e_i}\n",
    "$$\n",
    "</div>"
   ]
  },
  {
   "cell_type": "markdown",
   "id": "13bf7984",
   "metadata": {
    "slideshow": {
     "slide_type": "skip"
    }
   },
   "source": [
    "[<<<](#top)"
   ]
  },
  {
   "cell_type": "markdown",
   "id": "51ef03b3",
   "metadata": {
    "slideshow": {
     "slide_type": "slide"
    }
   },
   "source": [
    "## Espectro de Operadores Hermíticos\n",
    "\n",
    "<div class=\"alert alert-block alert-info\",text-align:center>\n",
    " <p style=\"text-align: left ;color: navy;\">  \n",
    "El espectro de un operador hermítico  $A = A^\\dagger$,  tiene dos propiedades importantes:\n",
    "<br>\n",
    "<br>     \n",
    " - 1. los <b>autovalores</b> de un operador hermíticos son reales $\\lambda_i \\in {\\mathbb R}$.\n",
    "<br>\n",
    "<br>     \n",
    " - 2.  los <b>autovectores</b> $\\ket{\\lambda_i}$ de un operador hermítico asociados a autovalores distintos son ortogonales.\n",
    "Es decir\n",
    "<br>\n",
    "<br>\n",
    "$$\n",
    "\\lambda_i\\neq \\lambda_j ~~~\\Longleftrightarrow ~~~\\braket{\\lambda_i}{\\lambda_j} = 0\\, .\n",
    "$$\n",
    "</p>\n",
    "\n",
    "<details>\n",
    "<summary>\n",
    "<p style=\"text-align:right\"> >> Prueba:</p>\n",
    "</summary>\n",
    "<br>\n",
    "1. Tomemos un autovector normalizado de $A$, $\\ket{\\lambda}$ de autovalor $\\lambda$.\n",
    "<br>\n",
    "<br>\n",
    "$$\n",
    "\\lambda = \\bra{\\lambda}A\\ket{\\lambda} =  (\\bra{\\lambda}A^\\dagger\\ket{\\lambda})^* = (\\bra{\\lambda}A\\ket{\\lambda})^*= \\lambda^* .~~~\n",
    "$$   \n",
    "<br>    \n",
    "2. De hecho esta propiedad es cierta para operadores $N$, normales. Los operadores Hermíticos son normales.\n",
    "De la ecuación de autovalores $N\\ket{\\lambda_j} =  \\lambda_j \\ket{\\lambda_j}$, y de $NN^\\dagger = N^\\dagger N$, se sigue que\n",
    "<br>\n",
    "$$\n",
    "\\bra{\\lambda_j}(N^\\dagger - \\lambda_j^*)(N - \\lambda_j) \\ket{\\lambda_j} = \\bra{\\lambda_j}(N - \\lambda_j)(N^\\dagger - \\lambda_j^*) \\ket{\\lambda_j}  = 0\\,\n",
    "$$\n",
    "<br>\n",
    "de donde obtenemos $(N^\\dagger - \\lambda_j^*) \\ket{\\lambda_j} = 0 \\Rightarrow \\bra{\\lambda_j} N = \\bra{\\lambda_j}\\lambda_j$. Entonces\n",
    "<br>\n",
    "$$\n",
    "\\bra{\\lambda_j}N\\ket{\\lambda_i} = \\lambda_j \\braket{\\lambda_j}{\\lambda_i} = \\lambda_i \\braket{\\lambda_j}{\\lambda_i} \\, ,\n",
    "$$\n",
    "de donde se sigue que, para $\\lambda_i \\neq \\lambda_j \\Rightarrow \\braket{\\lambda_i}{\\lambda_j} = 0$. \n",
    "}\n",
    "</details>\n",
    "</div>\n"
   ]
  },
  {
   "cell_type": "markdown",
   "id": "d375ddd6",
   "metadata": {
    "slideshow": {
     "slide_type": "fragment"
    }
   },
   "source": [
    " *Base ortonormal*: el conjunto de autovectores $\\ket{\\lambda_i}$ de un operador hermítico forma una base ortogonal. Puede normalizarse para formar una base ortonormal\n",
    "<br>\n",
    "<br>\n",
    "$$\n",
    "\\braket{\\lambda_i}{\\lambda_j} = \\delta_{ij}\n",
    "$$"
   ]
  },
  {
   "cell_type": "markdown",
   "id": "7d717c04",
   "metadata": {
    "slideshow": {
     "slide_type": "skip"
    }
   },
   "source": [
    "[<<<](#top)"
   ]
  },
  {
   "cell_type": "markdown",
   "id": "419a0f91",
   "metadata": {
    "slideshow": {
     "slide_type": "slide"
    }
   },
   "source": [
    "## Espectro de Operadores Unitarios\n",
    "\n",
    "<div class=\"alert alert-block alert-info\",text-align:center>\n",
    " <p style=\"text-align: left ;color: navy;\">  \n",
    "Los autovalores de un operador unitario son fases puras\n",
    "<br><br>\n",
    "$$\n",
    "U^\\dagger = U^{-1} ~~~\\Longleftrightarrow ~~~\\lambda_i = e^{i\\phi_i}\n",
    "$$ \n",
    "\n",
    "<details>\n",
    "<summary><p style=\"color:grey;text-align:right\"> >> Prueba </p></summary>\n",
    "es evidente puesto que sólo estos números complejos verifican que el complejo conjugado y el inverso coinciden $\\lambda^* = \\lambda^{-1} \\Leftrightarrow \\lambda = e^{i\\phi}$.    \n",
    "</details>\n",
    "\n",
    "</div>\n"
   ]
  },
  {
   "cell_type": "markdown",
   "id": "08a1b9f0",
   "metadata": {
    "slideshow": {
     "slide_type": "slide"
    }
   },
   "source": [
    "## Operadores que conmutan\n",
    "\n",
    "Cuando dos operadores conmutan se dan ciertas propiedades algebráicas que son muy ventajosas. En cierto modo se parecen más a c-números. Veamos la primera.\n",
    " \n",
    " <div class=\"alert alert-block alert-info\",text-align:center>\n",
    " <p style=\"text-align: left ;color: navy;\">  \n",
    "<b> Teorema </b>\n",
    "<br>     \n",
    "Dados dos operadores $A$ y $B$ que conmutan, existe una base $\\{\\ket{\\lambda_i}\\}$ de autovalores simultáneos de ambos operadores, es decir \n",
    "<br>\n",
    "<br>\n",
    "$$\n",
    "A = \\lambda_i^A\\ketbra{\\lambda_i}{\\lambda_i} ~~~~,~~~~~ B= \\lambda_i^B\\ketbra{\\lambda_i}{\\lambda_i} \n",
    "$$\n",
    "     \n",
    "<details>\n",
    "<summary><p style='text-align:right'> >> Prueba </p></summary>\n",
    "Supongamos que $A$ y $B$ conmutan. Entonces la acción de $A$ <i>estabiliza</i> los subespacios propios de $B$. \n",
    "\n",
    "Es decir, si $\\ket{\\lambda}$ es autoestado de $B$, entonces $B\\ket{\\lambda} = \\ket{\\mu}$ también es autoestado con idéntico autovalor. Se comprueba fácilmente\n",
    "<br>\n",
    "<br>\n",
    "$$\n",
    "A(B\\ket{\\lambda} ) = B(A\\ket{\\lambda}) = B(\\lambda\\ket{\\lambda}) = \\lambda (B\\ket{\\lambda})\n",
    "$$\n",
    "<br>\n",
    "\n",
    "Por tanto $\\ket{\\lambda}$ y $B\\ket{\\lambda}$ pertenecen al <i>mismo subespacio propio</i>. Esto es lo que se entiende por <i>estabilizar el subespacio</i>. \n",
    "\n",
    "\n",
    "Si $\\lambda$ es degenerado esto sólo asegura que $B\\ket{\\lambda} = \\ket{\\lambda'}$ pertenece al subespacio propio del mismo autovalor $\\lambda$. \n",
    "\n",
    "Esto quiere decir que, dento de cada subespacio propio de $B$, podemos escoger la base que queramos. En particular podemos escoger una base que diagonalice $A$ dentro de dicho subespacio.     \n",
    "</details>\n",
    "</div>\n",
    "     "
   ]
  },
  {
   "cell_type": "markdown",
   "id": "98227f05",
   "metadata": {
    "slideshow": {
     "slide_type": "fragment"
    }
   },
   "source": [
    "En otras palabras, dos operadores que conmutan, son diagonalizables simultáneamente. Su matriz en la base $\\{\\ket{\\lambda_i}\\}$ es\n",
    "\n",
    "$$\n",
    "A = \\begin{bmatrix} \\lambda^A_1 & & &  \\\\ & \\lambda^A_2 & &   \\\\ & & \\ddots &  \\\\ & & & \\lambda^A_n \n",
    "\\end{bmatrix}~~~~~~~,~~~~~~~~\n",
    "B = \\begin{bmatrix} \\lambda^B_1 & & &  \\\\ & \\lambda^B_2 & &   \\\\ & & \\ddots &  \\\\ & & & \\lambda^B_n \n",
    "\\end{bmatrix}\\, .\n",
    "$$"
   ]
  },
  {
   "cell_type": "markdown",
   "id": "9fa9e498",
   "metadata": {
    "slideshow": {
     "slide_type": "skip"
    }
   },
   "source": [
    "[<<<](#top)"
   ]
  },
  {
   "cell_type": "markdown",
   "id": "d8cc99f9",
   "metadata": {
    "slideshow": {
     "slide_type": "slide"
    }
   },
   "source": [
    "## Factorización de unitarios"
   ]
  },
  {
   "cell_type": "markdown",
   "id": "95c2f917",
   "metadata": {
    "slideshow": {
     "slide_type": "fragment"
    }
   },
   "source": [
    "### Descomposición Polar (PD)\n",
    "\n",
    "<div class=\"alert alert-block alert-info\",text-align:center>\n",
    "<p style=\"text-align: center;\"> <p style=\"text-align: left ;color: navy;\">  \n",
    "<b> Teorema: \n",
    "<br>   \n",
    "</b> todo operador $A\\in{\\rm L}(\\Hil)$ admite la descomposición polar $A = UR$ donde $U$ es un operador unitario, y $R$ es un operador semi-definido positivo (sólo tiene autovalores positivos o cero) \n"
   ]
  },
  {
   "cell_type": "markdown",
   "id": "8931e34b",
   "metadata": {
    "slideshow": {
     "slide_type": "fragment"
    }
   },
   "source": [
    "La descomposición polar es *única* y generaliza la representación polar de números complejos $z = r e^{i\\phi}$ a operadores. \n",
    "\n",
    "El hecho de que $r\\geq 0$ es la contrapartida a que $R$ sea semi-definida positiva. \n",
    "\n",
    "El factor $e^{i\\phi}$ es análogo al hecho de que un operador unitario, como veremos, sólo tiene autovalores que son fases puras. "
   ]
  },
  {
   "cell_type": "code",
   "execution_count": null,
   "id": "147139a6",
   "metadata": {
    "slideshow": {
     "slide_type": "slide"
    }
   },
   "outputs": [],
   "source": [
    "'''Método para construir una matriz unitaria arbitraria usando la descomposición polar'''\n",
    "A = np.random.randn(3,3)+ np.random.randn(3,3) * 1j\n",
    "\n",
    "#u, s, vh = linalg.svd(A, full_matrices=False)\n",
    "u, r = linalg.polar(A)\n",
    "\n",
    "R=np.matrix(r) \n",
    "Reigval, Reigvec = np.linalg.eig(R)\n",
    "print(np.round(Reigval,3))\n",
    "\n",
    "U=np.matrix(u)\n",
    "Display('$U = %s$'%MatrixToLatex(U))\n",
    "'''Verifiquemos unitariedad'''\n",
    "Display('$U^{\\dagger}U = %s$'%MatrixToLatex(np.dot(U.getH(),U)))"
   ]
  },
  {
   "cell_type": "markdown",
   "id": "bcfb3bfe",
   "metadata": {
    "slideshow": {
     "slide_type": "slide"
    }
   },
   "source": [
    "### Descomposición en Valores Singulares (SVD)\n",
    "\n",
    "Vamos a enunciar este teorema para matrices. Concretamente el teorema habla de una matriz $m\\times n$. Este tipo de matrices se corresponden con operadores $O \\in{\\rm L}(\\Hil_A,\\Hil_B)$ entre espacios de dimensiones $m$ y $n$."
   ]
  },
  {
   "cell_type": "markdown",
   "id": "49b9f69c",
   "metadata": {
    "slideshow": {
     "slide_type": "fragment"
    }
   },
   "source": [
    "<div class=\"alert alert-block alert-info\",text-align:center>\n",
    "<p style=\"text-align: center;\"> <p style=\"text-align: left ;color: navy;\">  \n",
    "<b> Teorema:</b>\n",
    "<br>\n",
    "Sea $A$ una matriz compleja $m\\times n$. Entonces  admite la siguiente forma (<i>descomposición en valores singulares</i>)\n",
    "<br>\n",
    "<br>\n",
    "$$\n",
    "A = U\\Sigma V^{\\dagger} \\, ,\n",
    "$$\n",
    "<br>\n",
    "donde $U\\in U(m)$, $V\\in U(n)$ son matrices unitarias y $\\Sigma$ es una matriz  $m\\times n$ con $\\lambda_1, ...,\\lambda_r$ <i>valores singulares</i> reales y positivos   en la diagonal, con $r\\leq {\\rm min}(m,n)$. \n",
    "    \n"
   ]
  },
  {
   "cell_type": "code",
   "execution_count": null,
   "id": "38b8f86c",
   "metadata": {
    "slideshow": {
     "slide_type": "slide"
    }
   },
   "outputs": [],
   "source": [
    "A = np.random.randn(3,2)+ np.random.randn(3,2) * 1j\n",
    "\n",
    "u, s, vh = linalg.svd(A, full_matrices=True)\n",
    "\n",
    "u.shape, s.shape, vh.shape"
   ]
  },
  {
   "cell_type": "code",
   "execution_count": null,
   "id": "77f01cd3",
   "metadata": {
    "slideshow": {
     "slide_type": "fragment"
    }
   },
   "outputs": [],
   "source": [
    "U=np.matrix(u)\n",
    "S=np.matrix(np.diag(s))\n",
    "V=np.matrix(vh).getH()\n",
    "\n",
    "Display('$U = %s$'%MatrixToLatex(U))\n",
    "Display('$S = %s$'%MatrixToLatex(S))\n",
    "Display('$V = %s$'%MatrixToLatex(V))\n",
    "\n",
    "'''Verifiquemos unitariedad'''\n",
    "Display('$U^{\\dagger}U = %s$'%MatrixToLatex(np.dot(U.getH(),U)))\n",
    "Display('$V^{\\dagger}V = %s$'%MatrixToLatex(np.dot(V.getH(),V)))\n"
   ]
  },
  {
   "cell_type": "markdown",
   "id": "6562698b",
   "metadata": {
    "slideshow": {
     "slide_type": "slide"
    }
   },
   "source": [
    "<a id='funcope'></a>\n",
    "<table width=\"100%\">\n",
    "    <td style=\"font-size:25px;font-family:Helvetica;text-align:left;background-color:rgba(12, 43, 337, 0.3);\">\n",
    "<b>Funciones de Operadores</b>\n",
    "</table>   \n"
   ]
  },
  {
   "cell_type": "markdown",
   "id": "495cc084",
   "metadata": {
    "slideshow": {
     "slide_type": "fragment"
    }
   },
   "source": [
    "## Funciones analíticas\n",
    "\n",
    "Estamos acostumbrados a escribir funciones *de una variable real o compleja*. Por ejemplo $x\\to f(x)= x^2$, o $z\\to f(z) = e^z$. \n",
    "\n",
    "Querríamos dar sentido a una función *de un operador* \n",
    "$\n",
    "A \\to f(A)\n",
    "$"
   ]
  },
  {
   "cell_type": "markdown",
   "id": "db49920a",
   "metadata": {
    "slideshow": {
     "slide_type": "fragment"
    }
   },
   "source": [
    "En el caso de que $f(z)$ sea una función analítica expresable como una serie de Taylor en torno a $x=0$ \n",
    "\n",
    "$$\n",
    "f(z) = \\sum_{n=0}^\\infty \\frac{1}{n!} f^{(n)}(0)\\,  z^n\n",
    "$$\n",
    "\n",
    "tomaremos como **definición** la *misma serie* cambiando el argumento $x\\to A$\n",
    "\n",
    "$$\n",
    "f(A) = \\sum_{n=0}^\\infty \\frac{1}{n!} f^{(n)}(0)\\,  A^n\n",
    "$$\n",
    "\n"
   ]
  },
  {
   "cell_type": "markdown",
   "id": "5e860053",
   "metadata": {
    "slideshow": {
     "slide_type": "fragment"
    }
   },
   "source": [
    "<div class=\"alert alert-block alert-danger\">\n",
    "    <b>Notar:</b> \n",
    "<br>\n",
    "1. De la misma forma que, para funciones analíticas $f(z)^* = f(z^*)$, también la definición anterior asegura que \n",
    "$f(A)^\\dagger = f(A^\\dagger)$\n",
    "    \n",
    "</div>\n",
    "\n"
   ]
  },
  {
   "cell_type": "markdown",
   "id": "72ff8539",
   "metadata": {
    "slideshow": {
     "slide_type": "slide"
    }
   },
   "source": [
    "## Funciones generales"
   ]
  },
  {
   "cell_type": "markdown",
   "id": "f5319b5a",
   "metadata": {
    "slideshow": {
     "slide_type": "fragment"
    }
   },
   "source": [
    "No siempre $f(z)$ admite una expansión en serie de Taylor. Por ejemplo $f(z) = \\exp(1/z)$ en torno a $z=0$ no es analítica.\n",
    "\n",
    "En estos casos, el operador $f(A)$ existe, pero para construirlo es necesario recurrir a la forma diagonalizada. \n",
    "\n",
    "<div class=\"alert alert-block alert-info\",text-align:center>\n",
    " <p style=\"text-align: left ;color: navy;\">  \n",
    "<b> Teorema: </b> \n",
    "<br>\n",
    "Sea $A$ un operador diagonalizable, y sea $A= \\sum_i \\lambda_i \\ket{\\lambda_i}\\bra{\\lambda_i}$ su representación espectral. Entonces el operador $f(A)$ tiene la representación espectral siguiente\n",
    "$$\n",
    "f(A) = \\sum_i f(\\lambda_i) \\ket{\\lambda_i}\\bra{\\lambda_i}\n",
    "$$"
   ]
  },
  {
   "cell_type": "markdown",
   "id": "671f601d",
   "metadata": {
    "slideshow": {
     "slide_type": "fragment"
    }
   },
   "source": [
    "**Ejemplo**: $e^{1/A} = \\sum_i e^{1/\\lambda_i} \\ket{\\lambda_i}\\bra{\\lambda_i}$ "
   ]
  },
  {
   "cell_type": "markdown",
   "id": "1edbcbc0",
   "metadata": {
    "slideshow": {
     "slide_type": "slide"
    }
   },
   "source": [
    "## Exponencial de un operador\n",
    "\n",
    "la exponencial de un operador será\n",
    "$$\n",
    "\\exp(A) = e^A = I + A + \\frac{1}{2} A^2 + \\frac{1}{3!} A^3 + ...\n",
    "$$\n"
   ]
  },
  {
   "cell_type": "markdown",
   "id": "2640a522",
   "metadata": {
    "slideshow": {
     "slide_type": "fragment"
    }
   },
   "source": [
    "Una propiedad importante de la función exponencial es  $e^xe^y = e^{x+y}$.\n",
    "\n",
    "La propiedad análoga para operadores *sólo es cierta cuando conmutan entre sí*. \n",
    "\n",
    "Para el caso genérico tenemos dos opciones"
   ]
  },
  {
   "cell_type": "markdown",
   "id": "545db0ed",
   "metadata": {
    "slideshow": {
     "slide_type": "slide"
    }
   },
   "source": [
    "1. #### Teorema de Baker-Campbel-Haussdorf\n",
    "\n",
    "<div class=\"alert alert-block alert-info\",text-align:center>\n",
    " <p style=\"text-align: left ;color: navy;\">  \n",
    "<b> Teorema: </b> \n",
    "<br>\n",
    "Sean $A,B\\subset{\\rm L}(\\Hil)$ dos operadores lineales genéricos. Entonces\n",
    "<br>\n",
    "<br>\n",
    "$$\n",
    "e^A e^B = e^{\\left({A+B + \\frac{1}{2}[A,B] + \\frac{1}{12}[A,[A,B]]+ \\frac{1}{12}[B,[B,A]] + ...}\\right)}\n",
    "$$\n",
    "<br>\n"
   ]
  },
  {
   "cell_type": "markdown",
   "id": "7d0e7ff5",
   "metadata": {
    "slideshow": {
     "slide_type": "fragment"
    }
   },
   "source": [
    "Vemos que\n",
    "\n",
    "-  Si $A$ y $B$ conmutan, $[A,B]=0 ~\\Leftrightarrow ~e^A e^B = e^{A+B}$\n",
    "\n",
    "\n",
    "-  Si el conmutador de $A$ y $B$  es un c-número $[A,B]= c I  ~\\Leftrightarrow ~  e^A e^B = e^{A+B + \\frac{1}{2}[A,B]}$\n",
    "\n",
    "\n",
    "-  El inverso de $e^A$ es $e^{-A}$. Efectivamente, como $[A,A]=0 \\Rightarrow e^A e^{-A} = e^{A-A} = e^0 = I$."
   ]
  },
  {
   "cell_type": "markdown",
   "id": "8d8d58c0",
   "metadata": {
    "slideshow": {
     "slide_type": "slide"
    }
   },
   "source": [
    "2. #### Teorema de Lie-Suzuki-Trotter\n",
    "\n",
    "<div class=\"alert alert-block alert-info\",text-align:center>\n",
    " <p style=\"text-align: left ;color: navy;\">  \n",
    "<b> Teorema: </b> \n",
    "<br>\n",
    "Sean $A,B\\subset{\\rm L}(\\Hil)$ dos operadores lineales genéricos. Entonces\n",
    "<br>\n",
    "<br>\n",
    "$$\n",
    "e^{A+B} = \\lim_{n\\to\\infty} \\left(e^{{A/n}} e^{B/n}\\right)^n\n",
    "$$\n",
    "<br>\n",
    "</div>\n",
    "\n",
    "Esta segunda opción es de uso muy frecuente en el contexto de la *simulación cuántica*. "
   ]
  },
  {
   "cell_type": "markdown",
   "id": "5507fb3f",
   "metadata": {
    "slideshow": {
     "slide_type": "fragment"
    }
   },
   "source": [
    "## Operadores unitarios a partir de hermíticos\n",
    "\n",
    "Todo operador unitario $U$ se puede expresar como la exponencial imaginaria de un operador hermítico\n",
    "\n",
    "$$\n",
    "U = e^{i H}\n",
    "$$\n",
    "\n",
    "Efectivamente, $U^\\dagger = \\left(e^{i H}\\right)^\\dagger = e^{-i H^\\dagger} = e^{-i H}=U^{-1}$, por tanto, $U$ es unitario si y sólo si $H$ es hermítico."
   ]
  },
  {
   "cell_type": "markdown",
   "id": "2e70fb43",
   "metadata": {
    "slideshow": {
     "slide_type": "skip"
    }
   },
   "source": [
    "[<<<](#top)"
   ]
  },
  {
   "cell_type": "markdown",
   "id": "4503e872",
   "metadata": {
    "slideshow": {
     "slide_type": "slide"
    }
   },
   "source": [
    "<a id='paulis'></a>\n",
    "<table width=\"100%\">\n",
    "    <td style=\"font-size:25px;font-family:Helvetica;text-align:left;background-color:rgba(12, 43, 337, 0.3);\">\n",
    "<b>Matrices de Pauli</b>\n",
    "</table>   \n"
   ]
  },
  {
   "cell_type": "markdown",
   "id": "9560d218",
   "metadata": {
    "slideshow": {
     "slide_type": "fragment"
    }
   },
   "source": [
    "<div class=\"alert alert-block alert-info\",text-align:center>\n",
    " <p style=\"text-align: left ;color: navy;\">  \n",
    "<b> Definición: </b>  $~$ se definen las matrices de Pauli \n",
    "<br>\n",
    "<br>\n",
    "$$\n",
    "\\sigma_x = \\begin{bmatrix} 0 & 1 \\\\ 1 & 0 \\end{bmatrix}~~~~~,~~~~~~~~~\n",
    "\\sigma_y = \\begin{bmatrix} 0 & -i \\\\ i & 0 \\end{bmatrix}~~~~~,~~~~~~~~~\n",
    "\\sigma_z = \\begin{bmatrix} 1 & 0 \\\\ 0 & -1 \\end{bmatrix} \\, .\n",
    "$$\n",
    "</div>\n"
   ]
  },
  {
   "cell_type": "markdown",
   "id": "81f579da",
   "metadata": {
    "slideshow": {
     "slide_type": "fragment"
    }
   },
   "source": [
    "- También se usan los subíndices enteros $\\sigma_1=\\sigma_x, ~\n",
    "\\sigma_2=\\sigma_y$  y  $\\sigma_3=\\sigma_z$. \n",
    "<br>\n",
    "<br>\n",
    "- Las matrices de Pauli son hermíticas y unitarias \n",
    "\n"
   ]
  },
  {
   "cell_type": "markdown",
   "id": "567c3c07",
   "metadata": {
    "slideshow": {
     "slide_type": "fragment"
    }
   },
   "source": [
    "<div class=\"alert alert-block alert-success\">\n",
    "    <b> Ejercicio: </b> <br>encuentra los autovalores y autovectores de las tres matrices de Pauli, $\\sigma_x, \\sigma_y $ y $\\sigma_z$.    \n",
    "</div>"
   ]
  },
  {
   "cell_type": "markdown",
   "id": "52beaa6d",
   "metadata": {
    "slideshow": {
     "slide_type": "slide"
    }
   },
   "source": [
    "## Composición de matrices de Pauli\n",
    "\n",
    "La composición de dos matrices de Pauli es otra matriz de Pauli cumple la siguiente identidad\n",
    "\n",
    "$$\n",
    "\\sigma_i \\sigma_j = \\delta_{ij} + i\\epsilon_{ijk} \\sigma_j \\sigma_k\n",
    "$$"
   ]
  },
  {
   "cell_type": "code",
   "execution_count": null,
   "id": "862c29b4",
   "metadata": {
    "slideshow": {
     "slide_type": "fragment"
    }
   },
   "outputs": [],
   "source": [
    "import numpy as np\n",
    "s0 = np.matrix([[1,0],[0,1]])\n",
    "s1 = np.matrix([[0,1],[1,0]])\n",
    "s2 = np.matrix([[0,-1j],[1j,0]])\n",
    "s3 = np.matrix([[1,0],[0,-1]])\n",
    "\n",
    "'verifica todas las opciones'\n",
    "print(s1*s1==s0)\n",
    "print(s1*s2==1j*s3)\n",
    "print(s2*s1==-1j*s3)"
   ]
  },
  {
   "cell_type": "markdown",
   "id": "4d92086e",
   "metadata": {
    "slideshow": {
     "slide_type": "slide"
    }
   },
   "source": [
    "De la relación de composición se derivan las siguientes relaciones de (anti) conmutación\n",
    "\n",
    "$$\n",
    "\\{\\sigma_i,\\sigma_j \\} = 2\\delta_{ij}~~~~~~~,~~~~~~~\n",
    "~~~[\\sigma_i,\\sigma_j] = 2i\\epsilon_{ijk}\\sigma_k\n",
    "$$\n"
   ]
  },
  {
   "cell_type": "markdown",
   "id": "956dae04",
   "metadata": {
    "slideshow": {
     "slide_type": "fragment"
    }
   },
   "source": [
    "Las matrices de Pauli tienen traza nula\n",
    "$$\n",
    "{\\rm tr} \\, \\sigma_i = 0\n",
    "$$\n",
    "\n",
    "Tomando la traza de la relación de composición obtenemos que las matrices de Pauli son ortogonales en el sentido siguiente\n",
    "\n",
    "$$\n",
    "{\\rm tr}(\\sigma_i\\sigma_j) = 2\\delta_{ij}\n",
    "$$\n"
   ]
  },
  {
   "cell_type": "markdown",
   "id": "cc66e3db",
   "metadata": {
    "slideshow": {
     "slide_type": "slide"
    }
   },
   "source": [
    "Deberías haber demostrado que las matrices hermíticas y las unitarias de dimensión 2$\\times$2 tienen cuatro grados de libertad. \n",
    "\n",
    "Si añadimos la matriz identidad $~I = \\begin{bmatrix} 1 & 0 \\\\ 0 & 1 \\end{bmatrix}~\n",
    "$  el conjunto $\\{I,\\sigma_x,\\sigma_y,\\sigma_z\\}$ forma una *base* para el espacio de matrices hermíticas $2\\times 2$.  \n",
    "\n",
    "$$\n",
    "A =  a_0 I + a_1 \\sigma_1 + a_2 \\sigma_2 + a_3 \\sigma_3 = \n",
    "\\begin{bmatrix}\n",
    "a_0 + a_3 & a_1 - i a_2 \\\\ a_1 + i a_2 & a_0 - a_3\n",
    "\\end{bmatrix}\n",
    "$$\n",
    "con $a_i\\in {\\mathbb R}$ cuatro números reales."
   ]
  },
  {
   "cell_type": "markdown",
   "id": "5ccac697",
   "metadata": {
    "slideshow": {
     "slide_type": "fragment"
    }
   },
   "source": [
    "Recordar que la fórmula de Euler permite escribir, para una fase compleja $ e^{i\\alpha} = \\cos\\alpha + i \\sin\\alpha $.\n",
    "\n",
    "Ahora estamos en disposición de probar la generalización a matrices de Pauli.  Sea ${\\bf a} = (a_1,a_2,a_3) = a\\, \\hat{\\bf n}$ donde $a=|{\\bf a}|$ es el módulo"
   ]
  },
  {
   "cell_type": "markdown",
   "id": "c5e6701e",
   "metadata": {
    "slideshow": {
     "slide_type": "fragment"
    }
   },
   "source": [
    "<div class=\"alert alert-block alert-info\",text-align:center>\n",
    "<p style=\"text-align: left ;color: navy;\">  \n",
    "<b> Teorema: </b>  $~$ \n",
    "$$\n",
    "\\exp \\left( \\rule{0mm}{4mm} i  {\\bf a} \\cdot \\boldsymbol{\\sigma}  \\right) = \\cos a \\, I + i \\sin a \\,(\\hat{\\bf n} \\cdot  \\boldsymbol{\\sigma}) \\, \n",
    "$$\n",
    "</div>"
   ]
  },
  {
   "cell_type": "code",
   "execution_count": null,
   "id": "546ee6b5",
   "metadata": {
    "slideshow": {
     "slide_type": "slide"
    }
   },
   "outputs": [],
   "source": [
    "'verifiquemos numéricamente esta identidad'\n",
    "from scipy.linalg import expm\n",
    "\n",
    "\n",
    "avec = np.array([0.1,1.2,-0.5])\n",
    "a = np.sqrt(np.inner(avec,avec))\n",
    "nvec = avec/a\n",
    "svec = np.array([s1,s2,s3])\n",
    "\n",
    "adots= sum(list(avec[i]*svec[i] for i in range(3)))\n",
    "e1 = expm(1j*adots)\n",
    "\n",
    "ndots= sum(list(nvec[i]*svec[i] for i in range(3)))\n",
    "e2 = np.cos(a)*s0 + 1j*np.sin(a)*(nvec[0]*svec[0]+nvec[1]*svec[1]+nvec[2]*svec[2])\n",
    "\n",
    "'verificamos'\n",
    "print(np.round(e1-e2,10))"
   ]
  },
  {
   "cell_type": "code",
   "execution_count": null,
   "id": "584ccace",
   "metadata": {},
   "outputs": [],
   "source": []
  }
 ],
 "metadata": {
  "celltoolbar": "Slideshow",
  "kernelspec": {
   "display_name": "Python 3",
   "language": "python",
   "name": "python3"
  },
  "language_info": {
   "codemirror_mode": {
    "name": "ipython",
    "version": 3
   },
   "file_extension": ".py",
   "mimetype": "text/x-python",
   "name": "python",
   "nbconvert_exporter": "python",
   "pygments_lexer": "ipython3",
   "version": "3.7.10"
  },
  "varInspector": {
   "cols": {
    "lenName": 16,
    "lenType": 16,
    "lenVar": 40
   },
   "kernels_config": {
    "python": {
     "delete_cmd_postfix": "",
     "delete_cmd_prefix": "del ",
     "library": "var_list.py",
     "varRefreshCmd": "print(var_dic_list())"
    },
    "r": {
     "delete_cmd_postfix": ") ",
     "delete_cmd_prefix": "rm(",
     "library": "var_list.r",
     "varRefreshCmd": "cat(var_dic_list()) "
    }
   },
   "types_to_exclude": [
    "module",
    "function",
    "builtin_function_or_method",
    "instance",
    "_Feature"
   ],
   "window_display": false
  }
 },
 "nbformat": 4,
 "nbformat_minor": 5
}
