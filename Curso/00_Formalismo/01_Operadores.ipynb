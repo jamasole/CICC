{
 "cells": [
  {
   "cell_type": "markdown",
   "id": "4544e801",
   "metadata": {
    "slideshow": {
     "slide_type": "slide"
    }
   },
   "source": [
    "<img   src=\"../figuras/logo/TalentQ_LogoPosNegro.png\" align=center  width=\"120\"/>\n",
    "<br>\n",
    "\n",
    "<table width=\"100%\">\n",
    "<td style=\"font-size:50px;font-style:italic;text-align:right;background-color:rgba(0, 160, 120,0.6)\">\n",
    "Operadores\n",
    "</td></table>\n",
    "\n",
    "$ \\newcommand{\\bra}[1]{\\langle #1|} $\n",
    "$ \\newcommand{\\ket}[1]{|#1\\rangle} $\n",
    "$ \\newcommand{\\braket}[2]{\\langle #1|#2\\rangle} $\n",
    "$ \\newcommand{\\ketbra}[2]{| #1\\rangle\\! \\langle #2|} $\n",
    "$ \\newcommand{\\i}{{\\color{blue} i}} $ \n",
    "$ \\newcommand{\\Hil}{{\\cal H}} $\n",
    "$ \\newcommand{\\V}{{\\cal V}} $"
   ]
  },
  {
   "cell_type": "markdown",
   "id": "37e9ded0",
   "metadata": {
    "slideshow": {
     "slide_type": "skip"
    }
   },
   "source": [
    "<a id='top'></a>\n",
    "\n",
    "- [Operadores y Matrices](#opdefi) \n",
    "\n",
    "\n",
    "- [Base de Operadores](#prodext)\n",
    "\n",
    "\n",
    "- [Funciones de Operadores](#funcope)\n",
    "\n",
    "\n",
    "- [El Espacio L(H)](#linh)\n",
    "\n",
    "    - [*Operador Adjunto*](#opadj)\n",
    "\n",
    "\n",
    "- [Clases de Operadores](#optipos)\n",
    "\n",
    "    - [*Operador Unitario*](#opunit)\n",
    "    \n",
    "    - [*Operador Normal*](#opnormal)\n",
    "    \n",
    "    - [*Operador Hermítico*](#opermit)\n",
    "    \n",
    "    - [*Proyector*](#opproyect)\n",
    "\n",
    "\n",
    "- [Valores y Vectores Propios](#autov) \n",
    "\n",
    "    - [*Subespacio Propio*](#subesprop)\n",
    "   \n",
    "    - [*Espectro de Operadores Normales*](#especopnormal)\n",
    "\n",
    "\n",
    "- [Espectros de Operadores](#especope)\n",
    "    \n",
    "    - [*Descomposición Espectral*](#descomespec)\n",
    "\n",
    "\n",
    "- [Funciones de operadores](#funcope)\n",
    "\n",
    "\n",
    "- [Matrices de Pauli](#paulis)\n",
    "\n"
   ]
  },
  {
   "cell_type": "code",
   "execution_count": 1,
   "id": "3f2446ec",
   "metadata": {
    "slideshow": {
     "slide_type": "slide"
    }
   },
   "outputs": [],
   "source": [
    "%run ../macro_CURSO.py"
   ]
  },
  {
   "cell_type": "markdown",
   "id": "7dcc969b",
   "metadata": {
    "slideshow": {
     "slide_type": "slide"
    }
   },
   "source": [
    "<a id='opdefi'></a>\n",
    "<table width=\"100%\">\n",
    "    <td style=\"font-size:25px;font-family:Helvetica;text-align:left;background-color:rgba(12, 43, 337, 0.3);\">\n",
    "<b>Operadores y Matrices</b>\n",
    "</table>   "
   ]
  },
  {
   "cell_type": "markdown",
   "id": "ad07635c",
   "metadata": {
    "slideshow": {
     "slide_type": "slide"
    }
   },
   "source": [
    "En un espacio vectorial, además de los vectores, será esencial entender la manera en que estos se pueden transformar entre sí,\n",
    "\n",
    "<div class=\"alert alert-block alert-info\",text-align:center>\n",
    "<p style=\"text-align: left ;color: navy;\">  \n",
    "<b> Definición</b> : \n",
    "<br>\n",
    "un <i>operador lineal</i> es una aplicación  que transforma un vector  en otro \n",
    "<br>\n",
    "<br>\n",
    "$$\n",
    "A: \\ket{u} ~~\\to ~~ \\ket{v}   \n",
    "$$\n",
    "<br>    \n",
    "de forma <i>lineal</i>. Es decir,  sobre una <i>combinación lineal</i> de vectores actúa de forma lineal. Es decir, para todo $\\alpha,\\beta \\in {\\mathbb C}$: \n",
    "<br>\n",
    "<br>   \n",
    "$$\n",
    "A: (\\alpha\\ket{u} + \\beta\\ket{w})~~\\to ~~ \\ket{v} =\\alpha A\\ket{u} + \\beta A\\ket{w}\n",
    "$$   \n",
    "<p>\n",
    "</div>"
   ]
  },
  {
   "cell_type": "markdown",
   "id": "791ee885",
   "metadata": {
    "slideshow": {
     "slide_type": "fragment"
    }
   },
   "source": [
    "- escribimos también $\\ket{v} = A\\ket{u} \\equiv \\ket{Au}$ $~~$(donde $Au$ debe entenderse como una etiqueta)\n",
    "<br>\n"
   ]
  },
  {
   "cell_type": "markdown",
   "id": "c081458e",
   "metadata": {
    "slideshow": {
     "slide_type": "slide"
    }
   },
   "source": [
    "<div class=\"alert alert-block alert-warning\">\n",
    "<b>Ejemplo:</b> \n",
    "<br>   un <i>operador</i>  fácil de visualizar es el operador de <i>rotación en un plano</i>. Dado un ángulo $\\theta \\in (0,2\\pi)$ el operador $A = R(\\theta)$ gira cualquier vector un ángulo $\\theta$ en el sentido antihorario\n",
    "<br>\n",
    "<br>\n",
    "Un vector en el plano ${\\bf u} =  (u_1,u_2)$  es equivalente al número complejo $u = u_1 + i u_2$ en el plano complejo $V = {\\mathbb C}$.\n",
    "\n",
    "    \n",
    "Escrito en polares, $u=|u|e^{i\\phi}$, y sabemos que una rotación de ángulo $\\theta$ es equivalente a añadirle dicho  ángulo a la fase \n",
    "<br>\n",
    "<br>\n",
    "$$\n",
    " v = R(\\theta) u = |u| e^{i(\\phi + \\theta)} =  |u| e^{i\\phi } e^{i\\theta} = u\\cdot e^{i\\theta} \n",
    "$$\n",
    "<br>    \n",
    "Por tanto, para rotar un número complejo un ángulo $\\theta$ basta con multiplicarlo por la fase $e^{i\\theta}$, que se corresponde con el operador $R(\\theta)$ en el espacio vectorial $V = \\mathbb{C}$.   \n",
    "\n",
    "    \n",
    "    \n",
    "La propiedad fundamental de una rotación es la de mantener invariante el módulo  $|v| = |u|$.    \n",
    "</div>\n"
   ]
  },
  {
   "cell_type": "markdown",
   "id": "ca707a8c",
   "metadata": {
    "slideshow": {
     "slide_type": "slide"
    }
   },
   "source": [
    "<div class=\"alert alert-block alert-success\">\n",
    "    <b>Ejercicio:</b>\n",
    "Usando el ejemplo anterior, define una función $R$, que recibe un vector en el plano $(u_1,u_2)$ y devuelve el vector $(v_1,v_2)$ de componentes rotadas un ángulo $\\theta$.\n",
    "    \n",
    "<details>\n",
    "<summary><p style=\"text-align:right\"> >> Solución </p></summary>\n",
    "\n",
    "    def R(u1,u2,theta):\n",
    "        u = u1 + u2*1j\n",
    "        v = u*np.exp(1j*theta) # u rotado un angulo theta\n",
    "        return v.real,v.imag    \n",
    "\n",
    "</details>       \n",
    "</div>"
   ]
  },
  {
   "cell_type": "code",
   "execution_count": null,
   "id": "9f2b5e42",
   "metadata": {
    "slideshow": {
     "slide_type": "slide"
    }
   },
   "outputs": [],
   "source": [
    "'''ángulo que queremos rotar'''\n",
    "theta=0.6 \n",
    "\n",
    "'''vector a rotar'''\n",
    "u1=2.\n",
    "u2=2.\n",
    "\n",
    "'''v1 y v2 a partir de u1, u2 y theta'''\n",
    "### \n",
    "# Código aquí \n",
    "#\n",
    "###\n",
    "\n",
    "\n",
    "''' Representación en el plano complejo '''\n",
    "v = v1**2+v2**2\n",
    "plot_2D_plane(left=-int(abs(v.real))-2,right=int(abs(v.real))+2,up=int(abs(v.imag))+1,down=-int(abs(v.imag))-1)\n",
    "draw_vector(u1,u1,vcolor='b')\n",
    "draw_vector(v1,v2,vcolor='r')\n"
   ]
  },
  {
   "cell_type": "markdown",
   "id": "75d078fb",
   "metadata": {
    "slideshow": {
     "slide_type": "slide"
    }
   },
   "source": [
    "### Matriz de un operador\n",
    "\n",
    "Dada una base, un vector queda especificado por una colección de números, sus *componentes*.\n",
    "\n",
    "Igualmente, un operador queda definido por una *matriz numérica*. "
   ]
  },
  {
   "cell_type": "markdown",
   "id": "486db953",
   "metadata": {
    "slideshow": {
     "slide_type": "fragment"
    }
   },
   "source": [
    "Efectivamente, en una base, la relación $\\ket{v} = A\\ket{u}$ equivale a una ecuación que relacione las componentes de ambos vectores\n",
    "$$\n",
    "v_i = \\sum_{j=1}^N A_{ij} u_j  \\, .\n",
    "$$"
   ]
  },
  {
   "cell_type": "markdown",
   "id": "e39b1fc8",
   "metadata": {
    "slideshow": {
     "slide_type": "fragment"
    }
   },
   "source": [
    "Esta operación se corresponde con la siguiente composición de matrices\n",
    "\n",
    "$$\n",
    "\\begin{pmatrix}\n",
    "v_1 \\\\ v_2 \\\\ \\vdots \\\\ v_N \\end{pmatrix} =  \\begin{pmatrix} \n",
    "A_{11} & A_{12} & \\cdots & A_{1N} \\\\\n",
    "A_{21} & A_{22} & \\cdots & A_{2N} \\\\\n",
    "\\vdots & \\vdots &  \\ddots      & \\vdots \\\\\n",
    "A_{N1} & A_{N2} &    \\cdots    & A_{NN}\n",
    "\\end{pmatrix}\n",
    " \\begin{pmatrix} \n",
    "u_1 \\\\ u_2 \\\\ \\vdots \\\\ u_N\\end{pmatrix} \\hspace{4cm}\n",
    "$$"
   ]
  },
  {
   "cell_type": "markdown",
   "id": "70bad243",
   "metadata": {
    "slideshow": {
     "slide_type": "slide"
    }
   },
   "source": [
    "<div class=\"alert alert-block alert-warning\">\n",
    "    <b>Ejemplo:</b> \n",
    "<br>    Continuando con el ejemplo del operador de rotación en un plano, hemos visto que las componentes de $u = u_1 + i u_2$ y las de $R(\\theta)u = v = v_1 + i v_2$ se obtienen mediante la multiplicación por una fase pura \n",
    "\\begin{eqnarray}\n",
    "v&=& u e^{i\\theta} \\\\\n",
    "\\end{eqnarray}\n",
    "    \n",
    "Vamos a desarrollar cada miembro en cartesianas, separando las partes real e imaginaria\n",
    "<br>    \n",
    "\\begin{eqnarray}\n",
    "v_1 + i v_2 &=& (u_1 + iu_2) (\\cos \\theta + i \\sin \\theta)  \\\\\n",
    "    \\rule{0mm}{6mm}\n",
    "    &=& (\\cos\\theta \\, u_1 - \\sin \\theta\\,  u_2) + i(\\sin\\theta\\,  u_1 + \\cos \\theta\\,  u_2)\n",
    "\\end{eqnarray}\n",
    "<br>\n",
    "    \n",
    "es decir las coordenadas del vector origen y el vector rotado imagen se relacionan en la  forma \n",
    "\n",
    "<br>\n",
    "\\begin{eqnarray}\n",
    "v_1 = \\cos\\theta \\, u_1 - \\sin \\theta\\,  u_2 ~~~~~~~,~~~~~~~~\n",
    "v_2 = \\sin\\theta \\, u_1 + \\cos \\theta\\,  u_2     \n",
    "\\end{eqnarray}\n",
    "<br>\n",
    "\n",
    "que podemos expresar en forma matricial\n",
    "    \n",
    "$$\n",
    "\\begin{pmatrix} v_1 \\\\ v_2 \\end{pmatrix} = \\begin{pmatrix} \\cos\\theta & -\\sin\\theta \\\\ \\sin\\theta &\\cos\\theta\\end{pmatrix} \\begin{pmatrix} u_1 \\\\ u_2 \\end{pmatrix}\n",
    "$$    \n",
    "    \n",
    "  \n",
    "    \n",
    "    \n",
    "</div>\n"
   ]
  },
  {
   "cell_type": "markdown",
   "id": "b3312c3b",
   "metadata": {
    "slideshow": {
     "slide_type": "slide"
    }
   },
   "source": [
    "<a id='prodext'></a>\n",
    "<table width=\"100%\">\n",
    "    <td style=\"font-size:25px;font-family:Helvetica;text-align:left;background-color:rgba(12, 43, 337, 0.3);\">\n",
    "<b>Base de Operadores</b>\n",
    "</table>   "
   ]
  },
  {
   "cell_type": "markdown",
   "id": "36b7e591",
   "metadata": {
    "slideshow": {
     "slide_type": "slide"
    }
   },
   "source": [
    "## Producto externo de vectores\n",
    "\n",
    "Consideremos dos vectores $\\ket{u}$ y $\\ket{v}$. Dependiendo del orden en que los compongamos, $\\braket{u}{v}$ o $\\ketbra{v}{u}$, el resultado produce dos cantidades muy distintas.\n",
    "<br>\n",
    "\n",
    "- El *producto interno*, o *producto escalar* es un **número complejo**\n",
    "<br>\n",
    "\n",
    "$$\n",
    " a = \\braket{u}{v} = \\braket{v}{u}^* \n",
    "$$\n",
    "\n",
    "- El *producto externo* es un **operador**\n",
    "<br>\n",
    "$$\n",
    "A = \\ketbra{v}{u}\n",
    "$$"
   ]
  },
  {
   "cell_type": "markdown",
   "id": "7cf0c45a",
   "metadata": {
    "slideshow": {
     "slide_type": "fragment"
    }
   },
   "source": [
    "Para comprender por qué es un operador, observamos que dicha expresión aplicada a un vector $\\ket{w}$ da otro\n",
    "<br>\n",
    "\n",
    "$$\n",
    "A : \\ket{w} ~\\to ~ A\\ket{w} =  \\ket{v}\\braket{u}{w}=\\ket{v} b  = b \\ket{v} \n",
    "$$\n",
    "\n",
    "\n",
    "donde el número complejo $b=\\braket{u}{w}$ es  la *proyección* de $\\ket{w}$ en la dirección de $\\ket{u}$."
   ]
  },
  {
   "cell_type": "markdown",
   "id": "23579acb",
   "metadata": {
    "slideshow": {
     "slide_type": "slide"
    }
   },
   "source": [
    "<div class=\"alert alert-block alert-danger\">\n",
    "<b>Notar:</b> \n",
    "<br>\n",
    "1.     El <i>orden</i> en que escribimos las cosas es <b>muy</b> relevante.\n",
    "<br> \n",
    "<br>   \n",
    "$\\Rightarrow$ \n",
    "$\\braket{u}{v}$ y $\\ketbra{v}{u}$ son objetos <i> radicalmente distintos</i>: el primero es un número y el segundo es un operador. \n",
    "<br>  \n",
    "<br>    \n",
    "$\\Rightarrow$  En cambio $\\ket{v} b  = b \\ket{v}$, así como $\\bra{u}b = b\\bra{u}$, es decir,  los números complejos y los $kets$ o $bras$ pueden escribirse en cualquier orden (decimos que conmutan).\n",
    "<br>\n",
    "<br>\n",
    "2.    La acción del operador  $A = \\ket{v}\\!\\bra{u}$ es muy fácil de expresar con palabras: \n",
    "el operador $A$ toma <i>cualquier vector</i> $\\ket{w}$ y lo convierte en un vector <i>paralelo</i> a $\\ket{v}$ proporcionalmente a su proyección $b=\\braket{u}{w}$. \n",
    "<br>    \n",
    "Si la proyección es nula $b=0$, el operador <i>aniquila</i>, es decir, da el elemento neutro.\n",
    "<div>"
   ]
  },
  {
   "cell_type": "markdown",
   "id": "d0d36986",
   "metadata": {
    "slideshow": {
     "slide_type": "slide"
    }
   },
   "source": [
    "### Producto externo en componentes\n",
    "\n",
    "La diferencia entre el *producto interno* $a=\\braket{u}{v}$ y el *externo* $A=\\ketbra{u}{v}$ tiene su reflejo en una base expresando ambos vectores, $\\ket{u} = \\sum_i u_i\\ket{i}$ y $\\ket{v} = \\sum_j v_j \\ket{j}$,  en componentes en una base ortonormal\n",
    "\n",
    "-  el *número complejo* $a$ que expresa el *producto escalar*\n",
    "$$\n",
    " a = \\braket{u}{v}  = \\begin{pmatrix} u_1^*,...,u_N^*\\end{pmatrix}\n",
    "\\begin{pmatrix} v_1 \\\\ \\vdots \\\\ v_N\\end{pmatrix}\\, =  \\sum_i u_i^*v_i\n",
    "$$"
   ]
  },
  {
   "cell_type": "markdown",
   "id": "4d92ed64",
   "metadata": {
    "slideshow": {
     "slide_type": "fragment"
    }
   },
   "source": [
    "-  la matriz $A_{ij}$ que expresa  representa el operador $A$ en la base $\\{\\ket{i}=\\ket{e_i}\\}$\n",
    "\n",
    "$$\n",
    "A = \\ketbra{v}{u} ~\\sim ~\\begin{pmatrix} v_1 \\\\ \\vdots \\\\ v_N\\end{pmatrix}\n",
    "\\begin{pmatrix} u_1^*,...,u_N^*\\end{pmatrix} ~=~ \n",
    "\\begin{pmatrix} v_1 u_1^* & v_1u_2^* & ... & v_1 u_N^* \\\\\n",
    "v_2 u_1^* & v_2 u_1^*& ... & v_2 u_N^* \\\\ \\vdots & \\vdots  & \\ddots & \\vdots \\\\\n",
    "v_N u_1^* & & ... & v_N u_N^* \\end{pmatrix} ~ = ~A_{ij}\n",
    "$$\n",
    "\n",
    "<br>"
   ]
  },
  {
   "cell_type": "markdown",
   "id": "32d566cb",
   "metadata": {
    "slideshow": {
     "slide_type": "slide"
    }
   },
   "source": [
    "***\n",
    "\n",
    "## Base canónica de operadores\n",
    "\n",
    "Un caso importante es cuando $A$ es el producto externo de *dos elementos de la base ortonormal* $\\ket{i}$ y $\\ket{j}$ \n",
    "<br><br>\n",
    "$$A = \\ketbra{i}{j}$$\n",
    "<br>\n",
    "\n",
    "- La acción de $A$ sobre un vector $\\ket{k}$ arbitrario de la base es sencilla:  cambia el vector $\\ket{j}\\to \\ket{i}$ y aniquila a todos los demás\n",
    "<br>\n",
    "\n",
    "$$\n",
    "A \\ket{k} = \\ket{i}\\braket{j}{k} = \\ket{i} \\delta_{jk} = \\left\\{ \\begin{array}{rl}\n",
    "0 & {\\rm if} ~~k\\neq j \\\\ \\ket{i} & {\\rm if} ~~ k=j \\end{array} \\right.\n",
    "$$"
   ]
  },
  {
   "cell_type": "markdown",
   "id": "6842ec0a",
   "metadata": {
    "slideshow": {
     "slide_type": "slide"
    }
   },
   "source": [
    "- La matriz asociada al operador  tiene sólo un 1 en el elemento $(ij)$ y cero en todos los demás. Por ejemplo, supongamos que \n",
    "$N=4$ \n",
    "\n",
    "<br>\n",
    "\n",
    "$$\n",
    "\\ketbra{2}{3} ~\\to ~~\n",
    " \\begin{pmatrix} 0 \\\\ 1 \\\\ 0 \\\\ 0 \\end{pmatrix}\\begin{pmatrix} 0 & 0 & 1 & 0 \\end{pmatrix} = \n",
    "\\begin{pmatrix}\n",
    "0 &  0 & 0 &  0 \\\\  0 &  0 & 1&  0 \\\\ 0 &  0 & 0 &  0 \\\\ 0 &  0 & 0 &  0\n",
    "\\end{pmatrix} ~~\\Rightarrow ~~ A_{ij} = \\delta_{i2}\\delta_{j3}\n",
    "$$\n",
    "\n",
    "<br>"
   ]
  },
  {
   "cell_type": "markdown",
   "id": "05b400ec",
   "metadata": {
    "slideshow": {
     "slide_type": "slide"
    }
   },
   "source": [
    "### Expansión de un operador general\n",
    "\n",
    "Ahora podemos obtener una nueva perspectiva sobre la matriz $A_{ij}$ asociada a un operador $A$. \n",
    "\n",
    "<div class=\"alert alert-block alert-info\",text-align:center>\n",
    "<p style=\"text-align: left ;color: navy;\">  \n",
    "    De la misma manera que las componentes $u_i$ expresan la <i>expansión de un vector</i> $\\ket{u}$ en una <i>base ortonormal de vectores</i>,  $\\to \\ket{u} = \\sum_{i=1}^N u_i \\ket{i}$, los <i>elementos de matriz</i> $A_{ij}$ expresan la <i>expansión de un operador</i> en una <b>base de operadores</b> $\\ketbra{i}{j}$\n",
    "</div>"
   ]
  },
  {
   "cell_type": "markdown",
   "id": "ae996a8d",
   "metadata": {
    "slideshow": {
     "slide_type": "fragment"
    }
   },
   "source": [
    "Escribiendo las matrices asociadas a $\\ketbra{i}{j}$, es evidente que $\\sum_{i,j=1}^N A_{ij} \\ketbra{i}{j} $ reconstruye la mariz $A_{ij}$ asociada a $A$\n",
    "<br>\n",
    "<br>\n",
    "<br>\n",
    "$$\n",
    "A= \\sum_{i,j=1}^N A_{ij} \\ketbra{i}{j} \\,~~~~ \\Longleftrightarrow ~~~~\n",
    "\\begin{pmatrix} \n",
    "A_{11} & A_{12} & \\cdots & A_{1N} \\\\\n",
    "A_{21} & A_{22} & \\cdots & A_{2N} \\\\\n",
    "\\vdots & \\vdots &  \\ddots      & \\vdots \\\\\n",
    "A_{N1} & A_{N2} &    \\cdots    & A_{NN}\n",
    "\\end{pmatrix}. \\hspace{2cm}\n",
    "$$"
   ]
  },
  {
   "cell_type": "markdown",
   "id": "49fb773f",
   "metadata": {
    "slideshow": {
     "slide_type": "slide"
    }
   },
   "source": [
    "<details>\n",
    "<summary><p style=\"text-align:right\"> >> Consistencia </p></summary>\n",
    "Verifiquemos que actúa de la forma correcta\n",
    "$$\n",
    "\\begin{array}{rcl}\n",
    "A |u\\rangle &=&  \\sum_{i,j} A_{ij} \\ketbra{i}{j}  \\left(\\sum_k u_k |k\\rangle \\right) \\\\\n",
    "&\\stackrel{\\rm linealidad}{=} \\rule{0mm}{6mm}& \\sum_{i,j} \\sum_k A_{ij} | i\\rangle  \\,   u_k \\langle j| k\\rangle \\nonumber\\\\\n",
    "&\\stackrel{\\rm ortonormalidad}{=}\\rule{0mm}{6mm}& \\sum_{i,j,k} A_{ij} | i\\rangle  \\,   u_k \\delta_{jk}\\\\\n",
    "&=\\rule{0mm}{6mm}&\\sum_{ij} A_{ij}\\,|i\\rangle \\, u_j= \\sum_i \\left(\\sum_{j} A_{ij}\\, u_j\\right)  |i\\rangle    \\\\\n",
    "&=\\rule{0mm}{6mm}&\\sum_i v_i \\ket{i} \\nonumber\\\\\n",
    "&=\\rule{0mm}{6mm}&   | v\\rangle\n",
    "\\end{array}\n",
    "$$\n",
    "</details>"
   ]
  },
  {
   "cell_type": "markdown",
   "id": "36dfdb5a",
   "metadata": {
    "slideshow": {
     "slide_type": "slide"
    }
   },
   "source": [
    "## Elementos de matriz\n",
    "\n",
    "De la misma manera que obteníamos las componentes de un vector proyectando sobre un elemento de la base\n",
    "\n",
    "$$\n",
    "v_i = \\braket{i}{v}\n",
    "$$\n",
    "\n",
    "ahora podemos obtener los *elementos de matriz* de un operador $A$ en la forma\n",
    "\n",
    "$$  A_{ij} = \\bra{i} A \\ket{j} $$"
   ]
  },
  {
   "cell_type": "markdown",
   "id": "ee13f806",
   "metadata": {
    "slideshow": {
     "slide_type": "-"
    }
   },
   "source": [
    "<div class=\"alert alert-block alert-success\">\n",
    "<b>Ejercicio:</b>$~$\n",
    "demuestra esta expresión\n",
    "<details>\n",
    "<summary><p style=\"text-align:right\"> >> Solución </p></summary>\n",
    "\\begin{eqnarray}\n",
    "\\bra{e_i} A \\ket{e_j} &=&  \\bra{i}\\left(\\sum_{k,l=1}^N A_{kl} \\ketbra{k}{l}  \\right) \\ket{j}\\nonumber\\\\\n",
    "    &=&\\sum_{k,l=1}^N \\braket{e_i}{k} A_{kl} \\braket{l}{j} \\nonumber\\\\\n",
    "    &=&\\sum_{k,l=1}^N \\delta_{ik} A_{kl} \\delta_{lj} = A_{ij}\n",
    "\\end{eqnarray}\n",
    "</details>    \n"
   ]
  },
  {
   "cell_type": "markdown",
   "id": "d6d70d5b",
   "metadata": {
    "slideshow": {
     "slide_type": "slide"
    }
   },
   "source": [
    "### Relación de completitud    \n",
    "    \n",
    "el operador identidad $I$ tiene por matriz $I_{ij}=\\delta_{ij}={\\rm diagonal}\\, (1,1,...,1)$ con lo que\n",
    "\n",
    "<br>\n",
    "\n",
    "$$\n",
    "I = \\sum_{ij} \\delta_{ij}\\ketbra{i}{j} = \\sum_{i}  \\ketbra{i}{i}\n",
    "$$\n",
    "\n",
    "Esta expresión se conoce también como <b>relación de completitud</b> o, también <b>relación de cierre</b>, y se utiliza muy frecuentemente.\n"
   ]
  },
  {
   "cell_type": "markdown",
   "id": "b0fd4bc6",
   "metadata": {
    "slideshow": {
     "slide_type": "fragment"
    }
   },
   "source": [
    "<div class=\"alert alert-block alert-danger\">\n",
    "<b>Notar:</b> \n",
    "<br>\n",
    "la relación de completitud es, en realidad, una propiedad de  <b> cualquier base</b>. Dicho de otro modo, si $\\{\\ket{e_i}\\}$ y $\\{\\ket{f_i}\\}$ son, ambas, bases entonces \n",
    "<br>\n",
    "<br>\n",
    "$$\n",
    "I =  \\sum_{i}  \\ketbra{e_i}{e_i} =  \\sum_{j}  \\ketbra{f_j}{f_j}\\, .\n",
    "$$\n",
    "</div>"
   ]
  },
  {
   "cell_type": "markdown",
   "id": "20f18d8c",
   "metadata": {
    "slideshow": {
     "slide_type": "slide"
    }
   },
   "source": [
    "La relación de cierre, o completitud,  siempre se puede insertar en cualquier momento del cálculo. Se utiliza con frecuencia para efectuar *cambios de base*.\n",
    "<br>\n",
    "<br>"
   ]
  },
  {
   "cell_type": "markdown",
   "id": "0d0bfce0",
   "metadata": {
    "slideshow": {
     "slide_type": "fragment"
    }
   },
   "source": [
    "\n",
    "Por ejemplo, vamos a ver que el producto escalar $\\braket{u}{v}$ puede calcularse en cualquier base \n",
    "\n",
    "<br>\n",
    "$$ \n",
    "\\braket{v}{u} = \\bra{v} I \\ket{u} = \\bra{v}\\left(\\sum_i\\ketbra{f_i}{f_i}\\right)\\ket{u} = \n",
    "\\sum_i \\braket{v}{f_i}\\braket{f_i}{u} = \\sum_i \\tilde v_i^* \\tilde u_i\n",
    "$$ \n",
    "<br>\n",
    "donde $\\ket{u} = \\sum_i \\tilde u_i\\ket{f_i}$  y $\\ket{v} = \\sum_i \\tilde v_i\\ket{f_i}$ en dicha base.  \n"
   ]
  },
  {
   "cell_type": "markdown",
   "id": "c7b3287c",
   "metadata": {
    "slideshow": {
     "slide_type": "slide"
    }
   },
   "source": [
    "<div class=\"alert alert-block alert-warning\">\n",
    "<b>Resumen:</b> \n",
    "<br>     \n",
    "Dada una base $\\{\\ket{e_i}\\}$ podemos expresar un operador mediante una matriz $A_{ij}$. La relación concreta es \n",
    "<br>\n",
    "<br>\n",
    "- como operador $\\to ~ A = \\sum_{ij} A_{ij}\\ketbra{i}{j}$\n",
    "<br>\n",
    "<br>    \n",
    "- como elemento de matriz $\\to ~ A_{ij} = \\bra{i}A\\ket{j}$\n",
    "<br>   \n",
    "</div>    "
   ]
  }
 ],
 "metadata": {
  "celltoolbar": "Slideshow",
  "kernelspec": {
   "display_name": "Python 3",
   "language": "python",
   "name": "python3"
  },
  "language_info": {
   "codemirror_mode": {
    "name": "ipython",
    "version": 3
   },
   "file_extension": ".py",
   "mimetype": "text/x-python",
   "name": "python",
   "nbconvert_exporter": "python",
   "pygments_lexer": "ipython3",
   "version": "3.7.10"
  },
  "varInspector": {
   "cols": {
    "lenName": 16,
    "lenType": 16,
    "lenVar": 40
   },
   "kernels_config": {
    "python": {
     "delete_cmd_postfix": "",
     "delete_cmd_prefix": "del ",
     "library": "var_list.py",
     "varRefreshCmd": "print(var_dic_list())"
    },
    "r": {
     "delete_cmd_postfix": ") ",
     "delete_cmd_prefix": "rm(",
     "library": "var_list.r",
     "varRefreshCmd": "cat(var_dic_list()) "
    }
   },
   "types_to_exclude": [
    "module",
    "function",
    "builtin_function_or_method",
    "instance",
    "_Feature"
   ],
   "window_display": false
  }
 },
 "nbformat": 4,
 "nbformat_minor": 5
}
