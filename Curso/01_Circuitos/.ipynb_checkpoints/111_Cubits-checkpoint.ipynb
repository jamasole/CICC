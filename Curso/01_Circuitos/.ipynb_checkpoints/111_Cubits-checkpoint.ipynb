{
 "cells": [
  {
   "cell_type": "markdown",
   "id": "f472869b",
   "metadata": {
    "slideshow": {
     "slide_type": "slide"
    }
   },
   "source": [
    "<img   src=\"../figuras/logo/TalentQ_LogoPosNegro.png\" align=center  width=\"120\"/>\n",
    "<br>\n",
    "\n",
    "<table width=\"100%\">\n",
    "<td style=\"font-size:50px;font-style:italic;text-align:right;background-color:rgba(0, 160, 120,0.6)\">\n",
    "Cúbits\n",
    "</td></table>\n",
    "\n",
    "\n",
    "\n",
    "$ \\newcommand{\\bra}[1]{\\langle #1|} $\n",
    "$ \\newcommand{\\ket}[1]{|#1\\rangle} $\n",
    "$ \\newcommand{\\braket}[2]{\\langle #1|#2\\rangle} $\n",
    "$ \\newcommand{\\ketbra}[2]{| #1\\rangle\\! \\langle #2|} $\n",
    "$ \\newcommand{\\tr}{{\\rm tr}} $\n",
    "$ \\newcommand{\\i}{{\\color{blue} i}} $ \n",
    "$ \\newcommand{\\Hil}{{\\cal H}} $\n",
    "$ \\newcommand{\\V}{{\\cal V}} $"
   ]
  },
  {
   "cell_type": "markdown",
   "id": "ab0bca15",
   "metadata": {},
   "source": [
    "\n",
    "- [Definición, base computacional](#dirac)\n",
    "\n",
    "\n",
    "-  [Esfera de Bloch](#esfbloch)\n",
    "\n",
    "\n",
    "-  [Registro cuántico](#circuitcubit)\n",
    "\n",
    "\n",
    "- [Cúbit mezcla: bola de Bloch](#cubitmezcla)"
   ]
  },
  {
   "cell_type": "code",
   "execution_count": null,
   "id": "f0efa2d6",
   "metadata": {
    "slideshow": {
     "slide_type": "slide"
    }
   },
   "outputs": [],
   "source": [
    "%run ../macro_CURSO.py"
   ]
  },
  {
   "cell_type": "markdown",
   "id": "585307ba",
   "metadata": {
    "heading_collapsed": true,
    "slideshow": {
     "slide_type": "slide"
    }
   },
   "source": [
    "<a id='dirac'></a>\n",
    "<table width=\"100%\">\n",
    "    <td style=\"font-size:30px;font-family:Helvetica;text-align:left;background-color:rgba(12, 43, 337, 0.3);\">\n",
    "<b>Definición, base computacional</b>\n",
    "</table>   "
   ]
  },
  {
   "cell_type": "markdown",
   "id": "90bdda03",
   "metadata": {
    "hidden": true,
    "slideshow": {
     "slide_type": "slide"
    }
   },
   "source": [
    "Un *bit* es una variable  real $a$ que puede tomar valores en $ {\\mathbb Z}_2= \\{0, 1\\}$.\n",
    "\n",
    "<div class=\"alert alert-block alert-info\",text-align:center>\n",
    "<p style=\"text-align: left ;color: navy;\">  \n",
    "    <b> Definición</b>: un cúbit es un <i>espacio de Hilbert</i> complejo de dimensión dos, $~\\ket{v}~\\in~\\Hil \\sim {\\mathbb C}^2$ \n",
    "</p></div>"
   ]
  },
  {
   "cell_type": "markdown",
   "id": "2d218479",
   "metadata": {
    "slideshow": {
     "slide_type": "fragment"
    }
   },
   "source": [
    "\n",
    "- un bit es una variable discreta (digitalizada). Un cúbit es una variable continua (analógica). La digitalización de la computación cuántica ocurre en el momento de la medida. \n"
   ]
  },
  {
   "cell_type": "markdown",
   "id": "6fac1d37",
   "metadata": {
    "slideshow": {
     "slide_type": "fragment"
    }
   },
   "source": [
    "- Cualquier sistema  cuyo estado instantáneo se pueda describir mediante un vector $\\ket{v}\\in {\\mathbb C}^2$ puede albergar físicamente un *cúbit*. \n",
    "<br>\n",
    "<br>\n",
    "A efectos prácticos,  se trata de sistemas que pueden estar y conmutar entre dos niveles de energía bien definidos de manera controlada.\n",
    "\n"
   ]
  },
  {
   "cell_type": "markdown",
   "id": "420a1e8d",
   "metadata": {
    "slideshow": {
     "slide_type": "fragment"
    }
   },
   "source": [
    "- Un *cútrit* es un espacio de Hilbert de dimensión $3$, un *cúdit* de dimensión $d$.\n"
   ]
  },
  {
   "cell_type": "markdown",
   "id": "302f8346",
   "metadata": {
    "hidden": true,
    "slideshow": {
     "slide_type": "slide"
    }
   },
   "source": [
    "### Bases \n",
    "\n",
    "**Base computacional** \n",
    "\n",
    "Para representar vectores de estado  $\\ket{u}\\in \\Hil$ necesitamos una *base*  formada por dos vectores ortonormales. \n",
    "\n",
    "La base que usaremos   $B=\\{\\ket{0},\\ket{1}\\}$ y se denomina *base computacional*."
   ]
  },
  {
   "cell_type": "markdown",
   "id": "708f157c",
   "metadata": {
    "slideshow": {
     "slide_type": "fragment"
    }
   },
   "source": [
    "**Otras bases**\n",
    "\n",
    "Una manera de especificar una base es decir cuál es el operador que diagonaliza. Por ejemplo, la base computacional también recibe el nombre de base Z.\n",
    " \n",
    " \n",
    "- Base $Z$ (base computacional) \n",
    "     $$\n",
    "    \\begin{array}{rclcl}\n",
    "    \\ket{0}_Z ~~\\equiv ~~\\ket{0} &\\sim& \\begin{bmatrix}  1\\\\ 0\\end{bmatrix} \\\\\n",
    "    \\ket{1}_Z ~~\\equiv~~\\ket{1} &\\sim&  \\begin{bmatrix}  0\\\\ 1\\end{bmatrix}\n",
    "    \\end{array}\n",
    "    $$\n",
    "    \n",
    "    Esta base la forman autoestados del operador $Z= \\sigma_z = \\begin{bmatrix} 1& 0 \\\\ 0 & -1 \\end{bmatrix}$ con autovalores $\\pm 1$."
   ]
  },
  {
   "cell_type": "markdown",
   "id": "b0822574",
   "metadata": {
    "slideshow": {
     "slide_type": "slide"
    }
   },
   "source": [
    "- Base $X$ \n",
    "    $$\n",
    "    \\begin{array}{rclcl}\n",
    "    \\ket{0}_X ~~\\equiv ~~\\ket{+} &=& \\frac{1}{\\sqrt{2}}(|0\\rangle+|1\\rangle) &=  & \\frac{1}{\\sqrt{2}}\\begin{bmatrix}\n",
    "    1\\\\ 1\\end{bmatrix} \\\\\n",
    "    \\ket{1}_X ~~\\equiv~~\\ket{-} &=&  \\frac{1}{\\sqrt{2}}(|0\\rangle-|1\\rangle) &=& \\frac{1}{\\sqrt{2}}\\begin{bmatrix}\n",
    "    1\\\\ -1\\end{bmatrix}\n",
    "    \\end{array}\n",
    "    $$\n",
    "    \n",
    "    Esta base la forman autoestados del operador $X= \\sigma_x = \\begin{bmatrix} 0& 1 \\\\ 1 & 0 \\end{bmatrix}$ con autovalores $\\pm 1$."
   ]
  },
  {
   "cell_type": "markdown",
   "id": "0728b6ce",
   "metadata": {
    "hidden": true,
    "slideshow": {
     "slide_type": "fragment"
    }
   },
   "source": [
    "- Base $Y$\n",
    "$$\n",
    "    \\begin{array}{rclcl}\n",
    "    \\ket{0}_Y ~~\\equiv ~~\\ket{+i} &=& \\frac{1}{\\sqrt{2}}(|0\\rangle+i |1\\rangle) &=  & \\frac{1}{\\sqrt{2}}\\begin{bmatrix}\n",
    "   1\\\\ i \\end{bmatrix} \\\\\n",
    "    \\ket{1}_Y ~~\\equiv~~\\ket{-i} &=&  \\frac{1}{\\sqrt{2}}(|0\\rangle-i |1\\rangle) &=& \\frac{1}{\\sqrt{2}}\\begin{bmatrix}\n",
    "     1 \\\\-i \\end{bmatrix}\n",
    "    \\end{array}\n",
    "$$\n",
    "<br>\n",
    "Esta base la forman autoestados del operador $Y=\\sigma_y =  \\begin{bmatrix} 0& -i \\\\ i & 0 \\end{bmatrix}$ con autovalores $\\pm 1$."
   ]
  },
  {
   "cell_type": "markdown",
   "id": "29d87b3a",
   "metadata": {
    "slideshow": {
     "slide_type": "fragment"
    }
   },
   "source": [
    "<div class=\"alert alert-block alert-success\">\n",
    "<b>Ejercicio:</b> \n",
    "Escribe las matrices de cambio de la base $Z\\to X$, $Z\\to Y$ y $X\\to Y$.\n",
    "</div>"
   ]
  },
  {
   "cell_type": "markdown",
   "id": "f5c47ae9",
   "metadata": {
    "slideshow": {
     "slide_type": "slide"
    }
   },
   "source": [
    "<a id=\"esfbloch\"></a>\n",
    "<table width=\"100%\">\n",
    "    <td style=\"font-size:30px;font-family:Helvetica;text-align:left;background-color:rgba(12, 43, 337, 0.3);\">\n",
    "<b>Esfera de Bloch </b>\n",
    "</table>   \n"
   ]
  },
  {
   "cell_type": "markdown",
   "id": "aec1b27b",
   "metadata": {
    "slideshow": {
     "slide_type": "slide"
    }
   },
   "source": [
    "En un *bit clásico* sólo podemos almacenar un valor 0 ó 1. \n",
    "\n",
    "¿Cuánta información puede almacenar un *cúbit*? \n"
   ]
  },
  {
   "cell_type": "markdown",
   "id": "e1365ce6",
   "metadata": {
    "slideshow": {
     "slide_type": "fragment"
    }
   },
   "source": [
    "Un cúbit general será de la forma $\\ket{u} = a\\ket{0} + b\\ket{1}$ donde $a$ y $b$ son dos números complejos, es decir cuatro números reales. "
   ]
  },
  {
   "cell_type": "markdown",
   "id": "3ba9ad6c",
   "metadata": {
    "slideshow": {
     "slide_type": "fragment"
    }
   },
   "source": [
    "Sin embargo, están sometidos a la ligadura $|a|^2+|b|^2=1$, lo que nos deja  tres grados de libertad reales. \n",
    "\n",
    "Pero uno de ellos es una fase global que no tiene significado. "
   ]
  },
  {
   "cell_type": "markdown",
   "id": "2f8ba4ca",
   "metadata": {
    "slideshow": {
     "slide_type": "fragment"
    }
   },
   "source": [
    "Por tanto el *número de grados de libertad (reales) en un cúbit es 2.*\n"
   ]
  },
  {
   "cell_type": "markdown",
   "id": "65f76167",
   "metadata": {
    "slideshow": {
     "slide_type": "fragment"
    }
   },
   "source": [
    "<div class=\"alert alert-block alert-info\">\n",
    "<p style=\"text-align:left ;color: navy;\">  \n",
    "<b> Lema </b>:\n",
    "<br>    \n",
    "El cúbit $\\ket{u}$  <i> más general</i> se puede representar, en la base computacional $\\{\\ket{0},\\ket{1}\\}$, usando dos números reales (ángulos) $\\theta\\in [0,\\pi)$ y $\\varphi\\in [0,2\\pi)$   \n",
    "<br>\n",
    "<br>\n",
    "$$\n",
    "|u\\rangle = \\cos{\\frac{\\theta}{2}}\\, |0\\rangle + e^{i\\phi}\\sin{\\frac{\\theta}{2}}\\,|1\\rangle \n",
    "$$\n",
    "</p>\n",
    "<details>\n",
    "<summary><p style=\"text-align:right\"> >> Demostración -</p></summary>\n",
    "\n",
    "Para demostrar el lema escribimos un vector de estado general usando la representación polar para las componentes complejas\n",
    "    \n",
    "$$\n",
    "\\begin{array}{rcl}\n",
    "\\ket{u} &=& u_0\\ket{0} + u_1\\ket{1} \\\\\n",
    "&=& a_0 e^{i b_0}\\ket{0} + a_1 e^{ib_1}\\ket{1}\\\\\n",
    "&=& e^{i b_0}\\big(a_0 \\ket{0} + a_1 e^{i(b_1-b_0)}\\ket{1}\\big)\\\\\n",
    "&\\sim & \\big( a_0 \\ket{0} + a_1 e^{i(b_1-b_0)}\\ket{1} \\big)\n",
    "\\end{array}\n",
    "$$\n",
    "    \n",
    "donde hemos hecho uso de la irrelevancia de una fase global para descartar $e^{i b_0}$ en la última línea.\n",
    "\n",
    "Ahora $a_1$ y $a_0$ no son números independientes sino que verifican $a_0^2 + a_1^2 = 0$ para que $\\|\\ket{u}\\|=1$.\n",
    "Esta ecuación se puede resolver en términos de un ángulo $\\theta/2$ tal que\n",
    "$$\n",
    "a_0 = \\cos\\frac{\\theta}{2}~~~,~~~ a_1 = \\sin\\frac{\\theta}{2} \n",
    "$$\n",
    "Por su parte, de los números $b_1, b_2$ sólo la diferencia\n",
    "$$\n",
    "\\varphi = b_1-b_2\n",
    "$$\n",
    "es relevante para especificar $\\ket{u}$.   \n",
    "</details></div>  \n"
   ]
  },
  {
   "cell_type": "markdown",
   "id": "e7538b3d",
   "metadata": {
    "slideshow": {
     "slide_type": "slide"
    }
   },
   "source": [
    " En componentes escribimos equivalentemente\n",
    "$$\n",
    "|u\\rangle ~\\sim ~~\n",
    "\\begin{bmatrix} \\cos\\displaystyle\\frac{\\theta}{2} \\\\  e^{i\\varphi} \\sin \\displaystyle\\frac{\\theta}{2} \\end{bmatrix}\n",
    "$$"
   ]
  },
  {
   "cell_type": "markdown",
   "id": "81b552d2",
   "metadata": {
    "slideshow": {
     "slide_type": "fragment"
    }
   },
   "source": [
    "El rango de $\\theta\\in [0,\\pi)$ y $\\varphi\\in [0,2\\pi)$ permite interpretar estos números reales como *ángulos sobre la esfera unidad*. Dicho de otro modo, podemos representar  cada estado de un cúbit como un *punto* sobre una esfera de radio unidad: la *esfera de Bloch*. \n",
    "<br>\n",
    "-  $\\theta\\in(0,\\pi)$ el ángulo *azimutal* se mide desde el eje $Z$. De modo que $\\theta=\\pi/2$ es el *ecuador \n",
    "de la esfera de Bloch*.\n",
    "<br>\n",
    "\n",
    "-  $\\phi\\in (0,2\\pi)$ el ángulo *polar*  en torno al eje $Z$, medido a partir del plano $XZ$\n",
    "\n",
    "<div>\n",
    "<img src=\"images/BlochSphere.png\" width=\"300\"/>\n",
    "</div>\n"
   ]
  },
  {
   "cell_type": "markdown",
   "id": "b2ada140",
   "metadata": {
    "slideshow": {
     "slide_type": "slide"
    }
   },
   "source": [
    "### Vectores en la Esfera de Bloch: visualizaciones\n",
    "<br>\n",
    "\n",
    "- [Visualizador java](https://javafxpert.github.io/grok-bloch/?fbclid=IwAR1lWfCug1lfTXxXenaJxnsdJh2g3he6lBJmjnjL_Jus0gOHR9u3UuaT7qs)\n",
    "\n",
    "\n",
    "-  La clase <a href=https://qiskit.org/documentation/stubs/qiskit.quantum_info.Statevector.html>statevector</a> en *qiskit* cuenta con un *visualizador* de la esfera de Bloch. La clase  acepta una lista de dos números complejos como componentes de un vector. \n",
    "<br>\n",
    "<br>\n",
    "Lamentablemente no avisa si este vector está normalizado o no. Por eso, incluimos una función que genera el vector normalizado a partir de los ángulos $\\theta$ y $\\phi$. \n",
    "\n"
   ]
  },
  {
   "cell_type": "code",
   "execution_count": null,
   "id": "b689f83a",
   "metadata": {
    "slideshow": {
     "slide_type": "fragment"
    }
   },
   "outputs": [],
   "source": [
    "from qiskit.quantum_info import Statevector\n",
    "from qiskit.visualization import plot_bloch_multivector, array_to_latex  \n",
    "\n",
    "# Ejemplo de vector de estado |+> \n",
    "e_mas =[1/np.sqrt(2),1/np.sqrt(2)]\n",
    "\n",
    "\n",
    "Statevector(e_mas).draw('latex')"
   ]
  },
  {
   "cell_type": "code",
   "execution_count": null,
   "id": "93dda3bc",
   "metadata": {
    "slideshow": {
     "slide_type": "fragment"
    }
   },
   "outputs": [],
   "source": [
    "Statevector(e_mas).draw('Bloch')"
   ]
  },
  {
   "cell_type": "markdown",
   "id": "9a3a6d87",
   "metadata": {
    "slideshow": {
     "slide_type": "slide"
    }
   },
   "source": [
    "Esta rutina introduce dos ángulos $\\theta\\in(0,\\pi)$ y $\\phi\\in(0,2\\pi)$ y devuelve el vector de Bloch \n",
    "\n",
    "$$\n",
    "|u\\rangle = \\cos{\\frac{\\theta}{2}}\\, |0\\rangle + e^{i\\phi}\\sin{\\frac{\\theta}{2}}\\,|1\\rangle \n",
    "$$\n"
   ]
  },
  {
   "cell_type": "code",
   "execution_count": null,
   "id": "f06411a4",
   "metadata": {
    "slideshow": {
     "slide_type": "fragment"
    }
   },
   "outputs": [],
   "source": [
    "#theta = (float(input(\"Ángulo theta(°): \")))*np.pi/(180)\n",
    "#phi = (float(input(\"Ángulo phi(°): \")))*np.pi/(180)\n",
    "\n",
    "theta = 1.9\n",
    "phi   = 0.8\n",
    "\n",
    "u0 = np.cos(theta/2)\n",
    "u1 = (np.exp(1j*phi))*np.sin(theta/2)\n",
    "\n",
    "uket = [u0,u1]\n",
    "\n",
    "Statevector(uket).draw('latex')"
   ]
  },
  {
   "cell_type": "code",
   "execution_count": null,
   "id": "f5b9ea51",
   "metadata": {
    "slideshow": {
     "slide_type": "fragment"
    }
   },
   "outputs": [],
   "source": [
    "Statevector(uket).draw('Bloch')"
   ]
  },
  {
   "cell_type": "markdown",
   "id": "c6109d54",
   "metadata": {
    "slideshow": {
     "slide_type": "slide"
    }
   },
   "source": [
    "### Casos particulares\n",
    "<br>\n",
    "\n",
    "\n",
    "  \n",
    "-   $(\\theta,\\phi) = (0,0) \\Rightarrow  \\ket{0}_Z = \\ket{0}$ \n",
    "\n",
    "\n",
    "\n",
    "\n",
    "  \n",
    "-   $(\\theta,\\phi) = (\\pi,\\phi)  \\Rightarrow  e^{i\\phi}\\ket{1}_Z = \\ket{1}$\n",
    "  \n",
    "  \n",
    " \n",
    "<div>\n",
    "<img src=\"images/BlochSphere.png\" width=\"200\"/>\n",
    "</div>\n"
   ]
  },
  {
   "cell_type": "markdown",
   "id": "ed5785b8",
   "metadata": {
    "slideshow": {
     "slide_type": "fragment"
    }
   },
   "source": [
    " \n",
    " \n",
    "-   $(\\theta,\\phi) = (\\pi/2,0)  \\Rightarrow  \\frac{1}{\\sqrt{2}}\\big(|0\\rangle+|1\\rangle \\big) =\\ket{0}_X \\equiv |+\\rangle$\n",
    "  \n",
    "  \n",
    "  \n",
    "-   $(\\theta,\\phi) = (\\pi/2,\\pi) \\Rightarrow  \\frac{1}{\\sqrt{2}}\\big(|0\\rangle-|1\\rangle \\big)=\\ket{1}_X \\equiv |-\\rangle$\n"
   ]
  },
  {
   "cell_type": "markdown",
   "id": "97b6c58c",
   "metadata": {
    "slideshow": {
     "slide_type": "fragment"
    }
   },
   "source": [
    "\n",
    "\n",
    "-   $(\\theta,\\phi) = (\\pi/2,\\pi/2) \\Rightarrow |u\\rangle =\\frac{1}{\\sqrt{2}}\\big(|0\\rangle+i|1\\rangle\\big) =\\ket{0}_Y \\equiv  |+i\\rangle$\n",
    "\n",
    "\n",
    "\n",
    "-   $(\\theta,\\phi) = (\\pi/2,3\\pi/2) \\Rightarrow |u\\rangle = \\frac{1}{\\sqrt{2}}\\big(|0\\rangle-i|1\\rangle\\big) = \\ket{1}_Y \\equiv  |-i\\rangle$\n",
    "\n",
    "\n"
   ]
  },
  {
   "cell_type": "markdown",
   "id": "dc631b71",
   "metadata": {
    "slideshow": {
     "slide_type": "slide"
    }
   },
   "source": [
    "<a id='circuitcubit'></a>\n",
    "<table width=\"100%\">\n",
    "    <td style=\"font-size:30px;font-family:Helvetica;text-align:left;background-color:rgba(12, 43, 337, 0.3);\">\n",
    "<b>Registro cuántico </b>\n",
    "</table>   "
   ]
  },
  {
   "cell_type": "markdown",
   "id": "1dc1fed9",
   "metadata": {
    "slideshow": {
     "slide_type": "slide"
    }
   },
   "source": [
    "Un *registro cuántico* contiene la *evolución temporal* de un cúbit.  \n",
    "\n",
    "\n",
    "<br>\n",
    "<div>\n",
    "<img   src=\"images/q_register.png\"  width=\"350\"/>\n",
    "</div>\n",
    "<br>"
   ]
  },
  {
   "cell_type": "code",
   "execution_count": null,
   "id": "d53194a6",
   "metadata": {
    "slideshow": {
     "slide_type": "fragment"
    }
   },
   "outputs": [],
   "source": [
    "'podemos inicializar un registro cuántico en un estado |q> arbitrario usando el método initialize()'\n",
    "\n",
    "from qiskit import QuantumCircuit, QuantumRegister\n",
    "\n",
    "qr = QuantumRegister(1,name='qname')\n",
    "qc = QuantumCircuit(qr)\n",
    "\n",
    "estado_inicial= uket\n",
    "\n",
    "qc.initialize(uket,qr)\n",
    "qc.draw(output='mpl')"
   ]
  },
  {
   "cell_type": "markdown",
   "id": "31d6b452",
   "metadata": {
    "slideshow": {
     "slide_type": "slide"
    }
   },
   "source": [
    "### Medidas\n",
    "\n",
    "Mientras no se efectúe una medida, en una situación ideal, el estado del cúbit mantiene su coherencia. \n",
    " \n",
    "\n",
    "El aparato de medida estándar en computación cuántica tiene a $\\ket{0}$ y $\\ket{1}$ como autoestados. \n",
    "\n"
   ]
  },
  {
   "cell_type": "markdown",
   "id": "59fd5c1f",
   "metadata": {
    "slideshow": {
     "slide_type": "fragment"
    }
   },
   "source": [
    "A la obtención de uno de estos dos estados le asociamos el bit clásico con valores respectivos $0$ y $1$.\n",
    "<br>\n",
    "<br>\n",
    "Por lo general, asumimos que la medida destruye el estado. \n",
    "<br>\n",
    "<br>\n",
    "<div>\n",
    "<img src=\"images/cubit_meter2.jpg\" width=\"350\"/>\n",
    "</div>"
   ]
  },
  {
   "cell_type": "code",
   "execution_count": null,
   "id": "8adfbdc9",
   "metadata": {
    "slideshow": {
     "slide_type": "fragment"
    }
   },
   "outputs": [],
   "source": [
    "from qiskit import QuantumCircuit, QuantumRegister, ClassicalRegister\n",
    "import numpy as np\n",
    "\n",
    "qr = QuantumRegister(1,name='q')\n",
    "cr = ClassicalRegister(1,name='c')\n",
    "\n",
    "'''definimos un estado dando la lista de componentes'''\n",
    "e_mas = [1/np.sqrt(2), 1/np.sqrt(2)]\n",
    "\n",
    "'''creamos un circuito que inicializa el estado'''\n",
    "qc = QuantumCircuit(qr,cr)\n",
    "qc.initialize(e_mas,qr)\n",
    "\n",
    "'''y le añadimos una instrucción de medida que registre un bit clásico {0,1} a partir del resultado de medida'''\n",
    "qc.measure(qr[0],cr[0])\n",
    "\n",
    "'''vamos a ver el circuito'''\n",
    "qc.draw(output='mpl')"
   ]
  },
  {
   "cell_type": "markdown",
   "id": "5084f1dc",
   "metadata": {
    "slideshow": {
     "slide_type": "slide"
    }
   },
   "source": [
    "### Medida mediante simulación \n",
    "\n",
    "**qasm_simulator** es un programa clásico que simula un circuito cuántico a partir de las leyes de la Mecánica Cuántica. \n",
    "\n",
    "El resultado de un circuito calculado con *qasm_simulator* sólo se puede obtener mediante un aparato de medida que, usado repetidas veces nos permitirá reconstruir el estado de manera estadística."
   ]
  },
  {
   "cell_type": "code",
   "execution_count": null,
   "id": "7d883f03",
   "metadata": {
    "slideshow": {
     "slide_type": "fragment"
    }
   },
   "outputs": [],
   "source": [
    "from qiskit import Aer, execute, transpile \n",
    "M_simulator = Aer.get_backend('qasm_simulator')\n",
    "\n",
    "# opción A: execute\n",
    "#job=execute(qc,backend=M_simulator,shots=2048) # Hacemos la simulación 2048 veces )\n",
    "\n",
    "#opción B: transpile\n",
    "qcobj = transpile(qc, M_simulator )      # Crea un objeto compilado a partir del circuito  \n",
    "job = M_simulator.run(qcobj, shots=2048) # Hacemos la simulación 2048 veces \n",
    "\n",
    "#result \n",
    "resultado=job.result()\n",
    "\n",
    "frecuencias= resultado.get_counts()      # y la estadística          \n",
    "print(frecuencias)"
   ]
  },
  {
   "cell_type": "markdown",
   "id": "117d99b6",
   "metadata": {},
   "source": [
    "Visualizamos la distribución de probabilidad como el histograma de las frecuencias relativas"
   ]
  },
  {
   "cell_type": "code",
   "execution_count": null,
   "id": "f6adca2a",
   "metadata": {
    "slideshow": {
     "slide_type": "fragment"
    }
   },
   "outputs": [],
   "source": [
    "from qiskit.tools.visualization import plot_histogram\n",
    "plot_histogram(frecuencias) # Mostramos un histograma de resultados"
   ]
  },
  {
   "cell_type": "markdown",
   "id": "1a68c88d",
   "metadata": {},
   "source": [
    "<a id='cubitmezcla'></a>\n",
    "<table width=\"100%\">\n",
    "    <td style=\"font-size:30px;font-family:Helvetica;text-align:left;background-color:rgba(12, 43, 337, 0.3);\">\n",
    "<b>Cúbit mezcla: bola de Bloch </b>\n",
    "</table>   "
   ]
  },
  {
   "cell_type": "markdown",
   "id": "07ffa16d",
   "metadata": {},
   "source": [
    " La matriz densidad $\\rho$ más general de un sistema es una matriz hermítica semipositiva de traza unidad. "
   ]
  },
  {
   "cell_type": "markdown",
   "id": "8ae4df21",
   "metadata": {},
   "source": [
    "En dos dimensiones  se puede representar en la base $\\{ I, \\sigma_x, \\sigma_y,\\sigma_z\\}$\n",
    "\n",
    "$$\n",
    "\\rho = \\frac{1}{2} ( I + {\\bf u}\\cdot \\boldsymbol \\sigma)\n",
    "$$\n",
    "\n",
    "donde ${\\bf u} = (u_x,u_y,u_z)$ es un vector real tri-dimensional."
   ]
  },
  {
   "cell_type": "markdown",
   "id": "b1c3b25d",
   "metadata": {},
   "source": [
    "Escribiendo $\\rho$ explícitamente se sigue que \n",
    "\n",
    "$$\n",
    "\\det \\rho = \\frac{1}{4}(1+ | {\\bf u}|)(1- | {\\bf u}|) = \\lambda_+\\lambda_-\n",
    "$$\n",
    "\n",
    "lo cual implica que los autovalores de $\\rho$ son $\\lambda_\\pm = \\frac{1}{2}(1\\pm | {\\bf u}|)$"
   ]
  },
  {
   "cell_type": "markdown",
   "id": "ced75ced",
   "metadata": {},
   "source": [
    "Para que $\\rho$ sea semidefinida positiva, debe ocurrir que\n",
    "$$\n",
    "0\\leq |{\\bf u} | \\leq 1\n",
    "$$\n",
    "\n",
    "Encontramos los dos casos límite"
   ]
  },
  {
   "cell_type": "markdown",
   "id": "194bb6e2",
   "metadata": {},
   "source": [
    "-  $|{\\bf u}| = 0 \\to  \\lambda_+ = \\lambda_- = 1/2$.  En este caso el cúbit está en una estado maximalmente mezclado\n",
    "\n",
    "$$\n",
    "\\rho = \\begin{bmatrix} 1/2 & 0 \\\\ 0 & 1/2 \\end{bmatrix}\n",
    "$$\n"
   ]
  },
  {
   "cell_type": "markdown",
   "id": "148773ef",
   "metadata": {},
   "source": [
    "- $|{\\bf u}| = 1 \\to \\lambda_1 = 1, \\lambda_- = 0 $.  En este caso el cúbit está en una estado puro\n",
    "\n",
    "$$\n",
    "\\rho = \\begin{bmatrix} 1 & 0 \\\\ 0 & 0 \\end{bmatrix} = \\rho^2\n",
    "$$\n"
   ]
  },
  {
   "cell_type": "markdown",
   "id": "b54a11c2",
   "metadata": {},
   "source": [
    "<div class=\"alert alert-block alert-info\">\n",
    "<p style=\"text-align:left ;color: navy;\">  \n",
    "<b> Lema </b>:\n",
    "<br>    \n",
    "    El cúbit mezcla <i> más general</i> se puede representar como un punto en la <i> bola de Bloch </i> mediante dos ángulos $(\\theta,\\phi)$ y un módulo $u\\in [0,1]$. Escribimos\n",
    "<br>\n",
    "<br>    \n",
    "$$\n",
    "\\ket{\\psi} = u\\left(\\cos\\theta\\ket{0} + e^{i\\phi}\\sin\\theta \\ket{1} \\right) \n",
    "$$\n",
    "<br>    \n",
    "para representar dicho estado como un vector, pero no se trata de un vector de estado al no estar normalizado.    \n",
    "</p>\n",
    "</div>\n",
    "\n",
    "Los estados puros se corresponden con $u=1$ y son cúbits en la esfera de Bloch. Los maximalmente mezclados con $u=0$ y están en el centro de la bola."
   ]
  },
  {
   "cell_type": "markdown",
   "id": "87c3e7bc",
   "metadata": {},
   "source": [
    "<div class=\"alert alert-block alert-success\">\n",
    "<b>Ejercicio:</b> \n",
    "Demuestra que, dado un cúbit mezcla, $\\rho$ podemos conocer el vector ${\\bf u}$ hallando los valores esperados\n",
    "\n",
    "$$\n",
    "\\langle \\boldsymbol{\\sigma} \\rangle = \\tr(\\rho \\boldsymbol{\\sigma}) = {\\bf u}\n",
    "$$\n",
    "</div>"
   ]
  },
  {
   "cell_type": "code",
   "execution_count": null,
   "id": "d7c4ab78",
   "metadata": {},
   "outputs": [],
   "source": []
  }
 ],
 "metadata": {
  "celltoolbar": "Slideshow",
  "kernelspec": {
   "display_name": "Python 3",
   "language": "python",
   "name": "python3"
  },
  "language_info": {
   "codemirror_mode": {
    "name": "ipython",
    "version": 3
   },
   "file_extension": ".py",
   "mimetype": "text/x-python",
   "name": "python",
   "nbconvert_exporter": "python",
   "pygments_lexer": "ipython3",
   "version": "3.7.10"
  },
  "varInspector": {
   "cols": {
    "lenName": 16,
    "lenType": 16,
    "lenVar": 40
   },
   "kernels_config": {
    "python": {
     "delete_cmd_postfix": "",
     "delete_cmd_prefix": "del ",
     "library": "var_list.py",
     "varRefreshCmd": "print(var_dic_list())"
    },
    "r": {
     "delete_cmd_postfix": ") ",
     "delete_cmd_prefix": "rm(",
     "library": "var_list.r",
     "varRefreshCmd": "cat(var_dic_list()) "
    }
   },
   "types_to_exclude": [
    "module",
    "function",
    "builtin_function_or_method",
    "instance",
    "_Feature"
   ],
   "window_display": false
  }
 },
 "nbformat": 4,
 "nbformat_minor": 5
}
