{
 "cells": [
  {
   "cell_type": "markdown",
   "id": "4f8c6a1b",
   "metadata": {},
   "source": [
    "<img   src=\"../figuras/logo/TalentQ_LogoPosNegro.png\" align=center  width=\"120\"/>\n",
    "<br>\n",
    "\n",
    "<table width=\"100%\">\n",
    "<td style=\"font-size:50px;font-style:italic;text-align:right;background-color:rgba(0, 160, 120,0.6)\">\n",
    "Puertas Simples\n",
    "</td></table>\n",
    "\n",
    "\n",
    "\n",
    "$ \\newcommand{\\bra}[1]{\\langle #1|} $\n",
    "$ \\newcommand{\\ket}[1]{|#1\\rangle} $\n",
    "$ \\newcommand{\\braket}[2]{\\langle #1|#2\\rangle} $\n",
    "$ \\newcommand{\\ketbra}[2]{| #1\\rangle  \\langle #2|} $\n",
    "$ \\newcommand{\\tr}{{\\rm tr}} $\n",
    "$ \\newcommand{\\i}{{\\color{blue} i}} $ \n",
    "$ \\newcommand{\\Hil}{{\\cal H}} $\n",
    "$ \\newcommand{\\V}{{\\cal V}} $"
   ]
  },
  {
   "cell_type": "markdown",
   "id": "3e26f195",
   "metadata": {},
   "source": [
    "\n",
    "- [Puertas simples](#puertsimp)\n",
    "\n",
    "\n",
    "\n",
    "- [Circuitos cuánticos](#circuitelem)"
   ]
  },
  {
   "cell_type": "code",
   "execution_count": 2,
   "id": "e73158f8",
   "metadata": {
    "slideshow": {
     "slide_type": "slide"
    }
   },
   "outputs": [],
   "source": [
    "%run ../macro_CURSO.py"
   ]
  },
  {
   "cell_type": "markdown",
   "id": "b96b7070",
   "metadata": {
    "slideshow": {
     "slide_type": "slide"
    }
   },
   "source": [
    "<a id='dirac'></a>\n",
    "<table width=\"100%\">\n",
    "    <td style=\"font-size:30px;font-family:Helvetica;text-align:left;background-color:rgba(12, 43, 337, 0.3);\">\n",
    "<b>Rotaciones en la esfera de Bloch</b>\n",
    "</table>   "
   ]
  },
  {
   "cell_type": "markdown",
   "id": "99ef84a3",
   "metadata": {
    "slideshow": {
     "slide_type": "slide"
    }
   },
   "source": [
    "Un operador unitario conserva la norma y, por tanto, lleva un vector de la esfera de Bloch a otro.  Por tanto, siempre se puede *visualizar* como una rotación de un cierto ángulo en torno a algún eje."
   ]
  },
  {
   "cell_type": "markdown",
   "id": "7482f813",
   "metadata": {
    "slideshow": {
     "slide_type": "fragment"
    }
   },
   "source": [
    "<div>\n",
    "<img src=\"images/BlochSphere2.png\" width=\"300\"/>\n",
    "</div>\n"
   ]
  },
  {
   "cell_type": "markdown",
   "id": "e6c1f09c",
   "metadata": {
    "slideshow": {
     "slide_type": "fragment"
    }
   },
   "source": [
    "<div class=\"alert alert-block alert-info\",text-align:center>\n",
    "<p style=\"text-align: left ;color: navy;\">  \n",
    "<b> Teorema</b>:\n",
    "<br>\n",
    "    El operador que efectúa una <i>rotación de ángulo</i>  $\\alpha\\in [0,2\\pi)$ en torno al <i>eje que marca un vector unitario</i>  $\\hat{\\bf n}$ es el siguiente\n",
    "<br> \n",
    "<br>    \n",
    "\\begin{eqnarray}\n",
    "R_{\\hat{\\bf n}}(\\alpha)~ = ~\\exp\\left( -i\\frac{\\alpha}{2} \\hat{\\bf n}\\cdot \\boldsymbol{\\sigma} \\right) ~=~ \n",
    "\\cos \\frac{\\alpha}{2} I - i \\sin\\frac{\\alpha}{2} \\hat{\\bf n}\\cdot\\boldsymbol{\\sigma} \n",
    "\\end{eqnarray}\n",
    "</p>    \n",
    "</div>    "
   ]
  },
  {
   "cell_type": "markdown",
   "id": "bf32f459",
   "metadata": {
    "slideshow": {
     "slide_type": "fragment"
    }
   },
   "source": [
    "donde $\\boldsymbol{\\sigma} = (\\sigma_x, \\sigma_y, \\sigma_z)$ son las matrices de Pauli\n",
    "$$\n",
    "\\sigma_x = \\begin{bmatrix} 0 & 1 \\\\ 1 & 0 \\end{bmatrix}~~,~~\n",
    "\\sigma_y = \\begin{bmatrix} 0 & -i \\\\ i & 0 \\end{bmatrix}~~,~~\n",
    "\\sigma_z = \\begin{bmatrix} 1 & 0 \\\\ 0 & -1 \\end{bmatrix}~~.~~\n",
    "$$"
   ]
  },
  {
   "cell_type": "markdown",
   "id": "ce716a5b",
   "metadata": {
    "slideshow": {
     "slide_type": "fragment"
    }
   },
   "source": [
    "<div class=\"alert alert-block alert-danger\",text-align:center>\n",
    "<b> Nota</b>:\n",
    "    el sentido de la rotación que produce $R_{\\hat{\\bf n}}(\\alpha)$ en torno al eje $\\hat{\\bf n}$, viene dado por la <i>regla de la mano derecha</i> o, también, <i>anti-horario</i>. \n",
    "</div>"
   ]
  },
  {
   "cell_type": "markdown",
   "id": "b9d93d27",
   "metadata": {
    "slideshow": {
     "slide_type": "slide"
    }
   },
   "source": [
    "Haciendo la suma explícitamente podemos escribir la matriz unitaria \n",
    "<br>\n",
    "<br>\n",
    "\n",
    "\\begin{eqnarray}\n",
    "R_{\\hat{\\bf n}}(\\alpha)~  ~=~ \n",
    " \\begin{bmatrix} \\cos \\displaystyle\\frac{\\alpha}{2} - i n_z\\sin\\frac{\\alpha}{2} &\\displaystyle (-in_x- n_y)\\sin\\frac{\\alpha}{2} \\\\ \\displaystyle\n",
    "(-in_x + ny) \\sin\\frac{\\alpha}{2} & \\displaystyle \\cos \\frac{\\alpha}{2} + i n_z\\sin\\frac{\\alpha}{2} \\end{bmatrix}\n",
    "\\end{eqnarray}\n"
   ]
  },
  {
   "cell_type": "markdown",
   "id": "9482ec01",
   "metadata": {
    "slideshow": {
     "slide_type": "slide"
    }
   },
   "source": [
    "### Rotaciones X, Y y Z\n",
    "\n",
    "- Asociado a rotaciones en torno a los ejes $X$, $Y$ y $Z$ de un ángulo $\\alpha$ encontramos las tres puertas siguientes\n",
    "\n",
    "\n",
    "<br>\n",
    "\n",
    "$$\n",
    "\\begin{array}{rcl}\n",
    "\\hat{\\bf n} = (0,0,1) ~~\\Rightarrow ~~ R_{z}(\\alpha) &=&  \\begin{bmatrix} e^{-i\\alpha/2}  & 0 \\\\ 0 & e^{i\\alpha/2}  \\end{bmatrix}  ~,~\\nonumber\\\\\n",
    "\\rule{0mm}{14mm}\n",
    "\\hat{\\bf n} = (0,1,0) ~~\\Rightarrow ~~ R_{y}(\\alpha) &=&  \\begin{bmatrix} \\cos \\alpha/2  & -\\sin \\alpha/2 \\\\   \\sin\\alpha/2 & \\cos\\alpha/2 \\end{bmatrix}  \\nonumber \\\\\n",
    "\\rule{0mm}{14mm}\n",
    "\\hat{\\bf n} = (1,0,0) ~~\\Rightarrow ~~ R_{x}(\\alpha)  &=&  \\begin{bmatrix} \\cos\\alpha/2  &- i\\sin\\alpha/2 \\\\   -i\\sin\\alpha/2& \\cos\\alpha/2 \\end{bmatrix} \\, .\\nonumber\n",
    "\\end{array}\n",
    "$$\n",
    "\n",
    "<br>\n",
    "\n"
   ]
  },
  {
   "cell_type": "markdown",
   "id": "062b783a",
   "metadata": {
    "slideshow": {
     "slide_type": "slide"
    }
   },
   "source": [
    "### Parametrización de Euler\n",
    "\n",
    " Necesitamos *3 parámetros* para especificar una rotación general.\n",
    "En $R_{\\hat{\\bf n}}(\\theta)$ un parámetro es $\\theta$ y otros dos entran  en $\\hat{\\bf n}$ con \n",
    "$  |\\hat{\\bf n}|=1$.\n"
   ]
  },
  {
   "cell_type": "markdown",
   "id": "b09dba87",
   "metadata": {
    "slideshow": {
     "slide_type": "fragment"
    }
   },
   "source": [
    " La *parametrización de Euler* consiste en una *composición de tres rotaciones* sucesivas en torno a los ejes $z$, después  $y$ y  finalmente $z$ de nuevo:\n"
   ]
  },
  {
   "cell_type": "markdown",
   "id": "a8aba701",
   "metadata": {
    "slideshow": {
     "slide_type": "fragment"
    }
   },
   "source": [
    "Multiplicando las matrices asociadas, y extrayendo una fase global, definimos \n",
    "\n",
    "$$\n",
    " R_z(\\phi)R_y(\\theta)R_z(\\varphi) = e^{-\\frac{i}{2}(\\phi + \\varphi)}U(\\theta,\\phi,\\varphi)  \n",
    "$$\n"
   ]
  },
  {
   "cell_type": "markdown",
   "id": "9f857463",
   "metadata": {
    "slideshow": {
     "slide_type": "slide"
    }
   },
   "source": [
    "Los *ángulos de Euler* son $\\theta,\\phi $ y $\\varphi$, \n",
    "\n",
    "$$\n",
    "U(\\theta,\\phi,\\varphi)=\\begin{bmatrix}   \\cos \\displaystyle\\frac{\\theta}{2}  & - e^{i\\varphi} \\sin\\displaystyle\\frac{\\theta}{2}  \\\\ \n",
    "\\rule{0mm}{4mm} e^{i\\phi} \\sin \\displaystyle\\frac{\\theta}{2} &e^{i(\\varphi+\\phi)} \\cos \\displaystyle\\frac{\\theta}{2} \\end{bmatrix}\n",
    "$$\n",
    "\n",
    "<br>"
   ]
  },
  {
   "cell_type": "markdown",
   "id": "2cdaf0d5",
   "metadata": {
    "slideshow": {
     "slide_type": "fragment"
    }
   },
   "source": [
    "Es evidente que la acción de este operador sobre el estado $\\ket{0}$ produce el estado de cúbit más general\n",
    "<br>\n",
    "\n",
    "$$\n",
    "U(\\theta,\\phi,\\varphi)\\begin{bmatrix} 1\\\\0\\end{bmatrix} = \\begin{bmatrix} \\cos\\displaystyle\\frac{\\theta}{2}\\\\ e^{i\\phi} \\sin \\displaystyle \\frac{\\theta}{2} \\end{bmatrix} \n",
    "$$\n",
    "<br>\n",
    "es decir\n",
    "\n",
    "$$\n",
    "U(\\theta,\\phi,\\varphi)\\ket{0} = \\cos\\frac{\\theta}{2}\\ket{0} + e^{i\\phi} \\sin \\frac{\\theta}{2} \\ket{1} \n",
    "$$\n"
   ]
  },
  {
   "cell_type": "markdown",
   "id": "855508a8",
   "metadata": {
    "slideshow": {
     "slide_type": "slide"
    }
   },
   "source": [
    "<a id='dirac'></a>\n",
    "<table width=\"100%\">\n",
    "    <td style=\"font-size:30px;font-family:Helvetica;text-align:left;background-color:rgba(12, 43, 337, 0.3);\">\n",
    "<b>Puertas Simples</b>\n",
    "</table>   "
   ]
  },
  {
   "cell_type": "markdown",
   "id": "e1e47edb",
   "metadata": {
    "slideshow": {
     "slide_type": "fragment"
    }
   },
   "source": [
    "Por puertas simples entendemos un conjunto de *operadores unitarios* que se utilizan con frecuencia en la computación cuántica. Vamos a ver las puertas simples sobre 1 cúbit"
   ]
  },
  {
   "cell_type": "markdown",
   "id": "bfe5288a",
   "metadata": {
    "slideshow": {
     "slide_type": "fragment"
    }
   },
   "source": [
    "### Puerta de fase \n",
    "\n",
    "- $P_\\alpha = P(\\alpha)$ con $\\alpha \\in [0,2\\pi)$\n",
    "<br>\n",
    "<br>\n",
    "$$\n",
    "P(\\alpha)= \\begin{bmatrix}\n",
    "1 & 0 \\\\ 0 & e^{i\\alpha} \n",
    "\\end{bmatrix}  =  \\ketbra{0}{0} + e^{i\\alpha}\\ketbra{1}{1}\n",
    "$$\n",
    "<br>\n",
    "es unitaria para todo $\\alpha$ como se comprueba fácilmente. \n",
    "Aplicada a un estado de cúbit genérico \n",
    "<br>\n",
    "<br>\n",
    "$$\n",
    "P(\\alpha) \\ket{u} =  \\begin{bmatrix} 1 & 0 \\\\ 0 & e^{i\\alpha} \\end{bmatrix}\n",
    "\\begin{bmatrix} \\cos\\theta \\\\ \\sin\\theta e^{i\\phi} \\end{bmatrix} = \\begin{bmatrix} \\cos\\theta \\\\ \\sin\\theta e^{i(\\phi+\\alpha)} \n",
    "\\end{bmatrix}= \\ket{v}\n",
    "$$\n",
    "<br>"
   ]
  },
  {
   "cell_type": "markdown",
   "id": "ce6210c2",
   "metadata": {
    "slideshow": {
     "slide_type": "fragment"
    }
   },
   "source": [
    "El efecto de este operador es rotar cualquier cúbit en torno al eje Z un ángulo $\\alpha$. Comprobamos que está relacionada con $R_z(\\alpha)$\n",
    "<br>\n",
    "<br>\n",
    "$$\n",
    "P(\\alpha) = \\begin{bmatrix} 1 & 0 \\\\ 0 & e^{i\\alpha} \\end{bmatrix} = \n",
    "\\begin{bmatrix} e^{i\\alpha/2} & 0 \\\\ 0 & e^{i\\alpha/2} \\end{bmatrix} \n",
    "\\begin{bmatrix} e^{-i\\alpha/2} & 0 \\\\ 0 & e^{i\\alpha/2} \\end{bmatrix}   \\equiv e^{i\\alpha/2} R_z(\\alpha)\n",
    "$$\n",
    "<br>\n",
    "<br>\n",
    "La fase global es trivial. Por tanto los dos operadores $P(\\alpha)$ y $R_Z(\\alpha)$ son equivalentes y producen el mismo efecto sobre la esfera de Bloch.\n",
    "\n"
   ]
  },
  {
   "cell_type": "markdown",
   "id": "13ad9aca",
   "metadata": {
    "slideshow": {
     "slide_type": "slide"
    }
   },
   "source": [
    "- $K_\\alpha = K(\\alpha)$\n",
    "<br>\n",
    "<br>\n",
    "realmente es una fase trivial, pero a veces se utiliza\n",
    "$$\n",
    "K(\\alpha)= e^{i\\alpha} \\begin{bmatrix}\n",
    "1 & 0 \\\\ 0 & 1 \n",
    "\\end{bmatrix} =  e^{i\\alpha}\\left(\\rule{0mm}{4mm} \\ketbra{0}{0} + \\ketbra{1}{1} \\right) = e^{i\\alpha} I \n",
    "$$"
   ]
  },
  {
   "cell_type": "markdown",
   "id": "968b6261",
   "metadata": {
    "slideshow": {
     "slide_type": "slide"
    }
   },
   "source": [
    "### Puertas Discretas\n",
    "\n",
    "- $X,Y,Z$\n",
    "<br>\n",
    "<br>\n",
    "La computación clásica se basa en la descomposición de algoritmos complejos en una serie de puertas lógicas elementales. Veremos que lo mismo ocurre con la computación cuántica. \n",
    "<br>\n",
    "<br>\n",
    "$$\n",
    "\\begin{eqnarray}\n",
    "X &=&   \\begin{bmatrix}0&1\\\\1&0\\end{bmatrix} = \\sigma_x = \\ketbra{1}{0} + \\ketbra{0}{1}~~~, ~~~ \\\\\n",
    "Y &=&  \\begin{bmatrix}0&-i\\\\i&0\\end{bmatrix}= \\sigma_y  =  i \\ketbra{1}{0} - i \\ketbra{0}{1}~~~, ~~~ \\\\\n",
    "Z &=&   \\begin{bmatrix}1&0\\\\0&-1\\end{bmatrix}= \\sigma_z = \\ketbra{1}{0} - \\ketbra{0}{1}  ~~~~, ~~~\n",
    "\\end{eqnarray}\n",
    "$$\n",
    "<br>\n",
    "<br>\n",
    "donde hemos remarcado la igualdad con las <i>matrices de Pauli</i>.\n",
    "\n"
   ]
  },
  {
   "cell_type": "markdown",
   "id": "6e202fd2",
   "metadata": {
    "slideshow": {
     "slide_type": "fragment"
    }
   },
   "source": [
    "\n",
    "<div class=\"alert alert-block alert-success\">\n",
    "<b>Ejercicio:</b> \n",
    "Relacionar  $X,Y,Z$ con   $R_x(\\alpha),R_y(\\alpha)$ y $R_z(\\alpha)$ par algún valor de $\\alpha$.\n",
    "    \n",
    "</div>"
   ]
  },
  {
   "cell_type": "markdown",
   "id": "f634ce09",
   "metadata": {
    "slideshow": {
     "slide_type": "slide"
    }
   },
   "source": [
    "-  $S,T$\n",
    "\n",
    "Cualquier potencia $U^k$ de un operador unitario es otro operador unitario. Esto es fácil de demostrar cuando $k=2$ pero es cierto en el caso general $k\\in{\\mathbb R}$. Así obtenemos\n",
    "\n",
    "\n",
    "<br>\n",
    "\n",
    "$$\n",
    "S = Z^{1/2} =  \\begin{bmatrix}1&0\\\\0&i\\end{bmatrix}=\\begin{bmatrix}1&0\\\\0&e^{i\\pi/2}\\end{bmatrix} ~~~~~,~~~~~~ T = S^{1/2} =  \\begin{bmatrix}1&0\\\\0&e^{i\\pi/4}\\end{bmatrix}\n",
    "$$\n",
    "\n",
    "<br>\n",
    "\n"
   ]
  },
  {
   "cell_type": "markdown",
   "id": "e786ab2c",
   "metadata": {
    "slideshow": {
     "slide_type": "slide"
    }
   },
   "source": [
    "- $H$   \n",
    "\n",
    "La puerta de Hadamard, $H$, es la primera puerta *genuinamente cuántica* en el sentido de que lleva un estado de la base a una superposición coherente\n",
    "\n",
    "\n",
    "<br>\n",
    "\n",
    "$$\n",
    "H \\ket{0} = \\frac{1}{\\sqrt{2}}\\left(\\rule{0mm}{4mm}\\ket{0} + \\ket{1}\\right) =\\ket{+}  ~~~~~~~~,~~~~~~~~~~\n",
    "H \\ket{1} = \\frac{1}{\\sqrt{2}}\\left(\\rule{0mm}{4mm}\\ket{0} - \\ket{1}\\right) =\\ket{-} \n",
    "$$\n"
   ]
  },
  {
   "cell_type": "markdown",
   "id": "c6b1ae76",
   "metadata": {
    "slideshow": {
     "slide_type": "fragment"
    }
   },
   "source": [
    "Podemos escribir este operador en la base $H = H_{ij}\\ketbra{i}{j}$\n",
    "\n",
    "\\begin{eqnarray}\n",
    "H &=&  \\ket{+}\\bra{0} +  \\ket{-}\\bra{1} \\\\\n",
    "&=& \\frac{1}{\\sqrt{2}}(\\ketbra{0}{0} + \\ketbra{1}{0} + \\ketbra{0}{1} - \\ketbra{1}{1})\n",
    "\\end{eqnarray}\n",
    "\n",
    "\n"
   ]
  },
  {
   "cell_type": "markdown",
   "id": "b87d2d86",
   "metadata": {
    "slideshow": {
     "slide_type": "fragment"
    }
   },
   "source": [
    "<br>\n",
    "<br>\n",
    "De aquí obtenemos la representación matricial  \n",
    "<br>\n",
    "$$\n",
    "H_{ij}   =  \\frac{1}{\\sqrt{2}} \\begin{bmatrix} 1& 1 \\\\ 1 & -1 \\end{bmatrix} \n",
    "$$\n",
    "<br>\n",
    "\n"
   ]
  },
  {
   "cell_type": "markdown",
   "id": "79ea4832",
   "metadata": {
    "slideshow": {
     "slide_type": "slide"
    }
   },
   "source": [
    "<div class=\"alert alert-block alert-danger\",text-align:center>\n",
    "<b> Nota</b>:\n",
    "    en cálculos posteriores encontraremos muy útil la siguiente representación de la acción de $H$\n",
    "\n",
    "$$\n",
    "H \\ket{x} =\\frac{1}{\\sqrt{2}} \\sum_{y=0,1} (-1)^{ x  y} \\ket{y}\n",
    "$$\n",
    "</div>"
   ]
  },
  {
   "cell_type": "markdown",
   "id": "1c1503db",
   "metadata": {
    "slideshow": {
     "slide_type": "slide"
    }
   },
   "source": [
    "\n",
    "Como cualquier puerta, la acción de $H$ puede visualizarse como una rotación en la esfera de Bloch $H$ de $\\pi$ radianes en torno a un eje diagonal situado a 45$^\\circ$ entre el eje $x$ \n",
    "y el eje $y$. Esta rotación permuta los ejes $x$ y $z$ y cambia de sentido el eje $y$.\n",
    "\n",
    "$$\n",
    "\\begin{array}{rcl}\n",
    "\\hat{\\bf n} = \\frac{1}{\\sqrt{2}}(1,0,1) ~~~~~ \\Rightarrow ~~~~~ R_{\\hat{\\bf n}}(\\pi) &=&-i\\frac{1}{\\sqrt{2}} \\begin{bmatrix} 1  & 1 \\\\ 1 & -1  \\end{bmatrix} =-i H \\sim H\\nonumber\\\\\n",
    "\\end{array}\n",
    "$$\n"
   ]
  },
  {
   "cell_type": "markdown",
   "id": "a35d6597",
   "metadata": {
    "slideshow": {
     "slide_type": "fragment"
    }
   },
   "source": [
    "Como toda rotación de $\\alpha = \\pi/2$, una segunda aplicación da lugar a la identidad\n",
    "\n",
    "$$\n",
    "H^2 = I\n",
    "$$"
   ]
  },
  {
   "cell_type": "markdown",
   "id": "bd9f4b80",
   "metadata": {
    "slideshow": {
     "slide_type": "slide"
    }
   },
   "source": [
    "### Descomposición \n",
    "\n",
    "Una noción muy práctica en computación cuántica es la descomposición de una puerta en producto de otras más simples. \n",
    "\n",
    "Para el caso de $H$, un poco de visión espacial muestra que su acción equivale a la composición de\n",
    "\n",
    "- una  rotación de $\\pi/2$ radianes sobre el eje $Y$ \n",
    "\n",
    "\n",
    "- seguida de una rotación de  $\\pi$ radianes en torno al eje $X$. \n",
    "\n",
    "\n",
    "Lo demostramos algebraicamente (despreciando fases globales)"
   ]
  },
  {
   "cell_type": "markdown",
   "id": "5a736d9f",
   "metadata": {
    "slideshow": {
     "slide_type": "fragment"
    }
   },
   "source": [
    "$$\n",
    " R_x(\\pi)R_{y}\\left(\\frac{\\pi}{2}\\right) = \\begin{bmatrix}0&-i\\\\-i&0\\end{bmatrix} \\begin{bmatrix}\\cos\\pi/4& -\\sin\\pi/4 \\\\ \\sin\\pi/4 & \\cos\\pi/4 \\end{bmatrix} = \\frac{1}{\\sqrt{2}} \\begin{bmatrix}0&1\\\\1&0\\end{bmatrix} \\begin{bmatrix}1 & -1 \\\\ 1 & 1 \\end{bmatrix}  = \\frac{-i}{\\sqrt{2}} \\begin{bmatrix}1&1\\\\1&-1\\end{bmatrix} =-i H \\sim H\n",
    "$$"
   ]
  },
  {
   "cell_type": "markdown",
   "id": "ccb4a186",
   "metadata": {
    "slideshow": {
     "slide_type": "slide"
    }
   },
   "source": [
    "<a id='dirac'></a>\n",
    "<table width=\"100%\">\n",
    "    <td style=\"font-size:30px;font-family:Helvetica;text-align:left;background-color:rgba(12, 43, 337, 0.3);\">\n",
    "<b>Circuitos Cuánticos</b>\n",
    "</table>   "
   ]
  },
  {
   "cell_type": "markdown",
   "id": "1e762b55",
   "metadata": {
    "slideshow": {
     "slide_type": "slide"
    }
   },
   "source": [
    "La aplicación de una *puerta* se representa mediante un cuadrado que contiene los datos del operador asociado.\n",
    "Por ejemplo, la aplicación del operador\n",
    "\n",
    "<br>\n",
    "\n",
    "$$\n",
    "\\ket{\\psi} \\to  U(\\theta,\\phi,\\varphi)\\ket{\\psi}\n",
    "$$\n",
    "\n",
    "<br>\n",
    "\n",
    "se representa mediante el circuito elemental siguiente\n",
    "\n",
    "<br>\n",
    "\n",
    "<div>\n",
    "<img src=\"images/puerta_simple.png\" width=\"250\"/>\n",
    "</div>"
   ]
  },
  {
   "cell_type": "code",
   "execution_count": 3,
   "id": "02321f2f",
   "metadata": {
    "slideshow": {
     "slide_type": "fragment"
    }
   },
   "outputs": [
    {
     "data": {
      "image/png": "[encoded data removed]",
      "text/plain": [
       "<Figure size 193.726x144.48 with 1 Axes>"
      ]
     },
     "execution_count": 3,
     "metadata": {},
     "output_type": "execute_result"
    }
   ],
   "source": [
    "from qiskit import Aer, execute, QuantumCircuit\n",
    "\n",
    "\n",
    "theta = 1.2  #rad\n",
    "phi   = 1.5\n",
    "varphi = 0.\n",
    "\n",
    "qc = QuantumCircuit(1,1)\n",
    "\n",
    "qc.u(theta,phi,varphi,0) \n",
    "\n",
    "qc.draw(output='mpl')"
   ]
  },
  {
   "cell_type": "markdown",
   "id": "48f3a041",
   "metadata": {},
   "source": [
    "### Simulador de estado"
   ]
  },
  {
   "cell_type": "code",
   "execution_count": 22,
   "id": "d4c262c8",
   "metadata": {
    "slideshow": {
     "slide_type": "slide"
    }
   },
   "outputs": [
    {
     "data": {
      "image/png": "[encoded data removed]",
      "text/plain": [
       "<Figure size 288x288 with 1 Axes>"
      ]
     },
     "execution_count": 22,
     "metadata": {},
     "output_type": "execute_result"
    }
   ],
   "source": [
    "S_simulator = Aer.get_backend('statevector_simulator')\n",
    "stateresult=execute(qc,S_simulator).result()  \n",
    "\n",
    "state_vector = stateresult.get_statevector(decimals=5)\n",
    "\n",
    "# plot the state vector on the Bloch sphere\n",
    "from qiskit.tools.visualization import plot_bloch_multivector\n",
    "plot_bloch_multivector(state_vector)"
   ]
  },
  {
   "cell_type": "code",
   "execution_count": 5,
   "id": "27b21c20",
   "metadata": {
    "slideshow": {
     "slide_type": "fragment"
    }
   },
   "outputs": [
    {
     "data": {
      "text/latex": [
       "$$0.82534 |0\\rangle+ (0.03994 + 0.56323 i) |1\\rangle$$"
      ],
      "text/plain": [
       "<IPython.core.display.Latex object>"
      ]
     },
     "execution_count": 5,
     "metadata": {},
     "output_type": "execute_result"
    }
   ],
   "source": [
    "# print the state vector\n",
    "from qiskit.quantum_info import Statevector\n",
    "Statevector(state_vector).draw('latex')"
   ]
  },
  {
   "cell_type": "code",
   "execution_count": 6,
   "id": "5afa1a56",
   "metadata": {
    "slideshow": {
     "slide_type": "fragment"
    }
   },
   "outputs": [
    {
     "data": {
      "image/png": "[encoded data removed]",
      "text/plain": [
       "<Figure size 288x288 with 1 Axes>"
      ]
     },
     "execution_count": 6,
     "metadata": {},
     "output_type": "execute_result"
    }
   ],
   "source": [
    "# alternative wat to plot the state vector on the Bloch sphere\n",
    "Statevector(state_vector).draw('Bloch')"
   ]
  },
  {
   "cell_type": "markdown",
   "id": "d3f91fe8",
   "metadata": {
    "slideshow": {
     "slide_type": "slide"
    }
   },
   "source": [
    " La concatenación de puertas se corresponde con la *composición de operadores*, es decir, con la *multiplicación de las matrices* asociadas. \n"
   ]
  },
  {
   "cell_type": "markdown",
   "id": "bc1b129a",
   "metadata": {
    "slideshow": {
     "slide_type": "fragment"
    }
   },
   "source": [
    "<div class=\"alert alert-block alert-danger\",text-align:center>\n",
    "<b> Nota</b>:\n",
    "<br>    \n",
    "el <i>orden</i> en el que aparecen los operadores en la composición es el opuesto al que se aprecia en el circuito. Así por ejemplo a la composición de operadores \n",
    "<br>\n",
    "$$\n",
    "\\ket{\\psi} \\to  TH \\ket{\\psi} \n",
    "$$\n",
    "<br>\n",
    "le corresponde un circuito en el que  $H$ está a la izquierda de $T$\n",
    "</div>"
   ]
  },
  {
   "cell_type": "code",
   "execution_count": 20,
   "id": "1be3e5e9",
   "metadata": {
    "slideshow": {
     "slide_type": "fragment"
    }
   },
   "outputs": [
    {
     "data": {
      "image/png": "[encoded data removed]",
      "text/plain": [
       "<Figure size 193.726x144.48 with 1 Axes>"
      ]
     },
     "execution_count": 20,
     "metadata": {},
     "output_type": "execute_result"
    }
   ],
   "source": [
    "qc=QuantumCircuit(1,1)\n",
    "\n",
    "'''aplicamos el operador TH '''\n",
    "qc.h(0)\n",
    "qc.t(0)\n",
    "\n",
    "qc.draw(output='mpl')"
   ]
  },
  {
   "cell_type": "markdown",
   "id": "b4555325",
   "metadata": {
    "slideshow": {
     "slide_type": "slide"
    }
   },
   "source": [
    "### Matriz de un circuito\n",
    "\n",
    "Todo circuito se corresponde con un operador unitario que se obtiene componiendo todos los operadores que figuran en el. Por ejemplo, el circuito anterior representa el operador unitario $U$ al que le corresponde la matriz obtenida por multiplicación\n",
    "<br>\n",
    "<br>\n",
    "$$\n",
    "U = T H ~~~\\to ~~~ U_{ij} = \\begin{bmatrix}1&0\\\\0&e^{i\\pi/4}\\end{bmatrix} \\frac{1}{\\sqrt{2}} \\begin{bmatrix} 1& 1 \\\\ 1 & -1 \\end{bmatrix}  = \n",
    "\\frac{1}{\\sqrt{2}} \\begin{bmatrix} 1& 1 \\\\ e^{i\\pi/4} & -e^{i\\pi/4} \\end{bmatrix} \n",
    "$$"
   ]
  },
  {
   "cell_type": "code",
   "execution_count": 21,
   "id": "91730052",
   "metadata": {},
   "outputs": [
    {
     "name": "stdout",
     "output_type": "stream",
     "text": [
      "Operator([[ 0.70710678+0.00000000e+00j,  0.70710678+8.65956056e-17j],\n",
      "          [ 0.5       +5.00000000e-01j, -0.5       -5.00000000e-01j]],\n",
      "         input_dims=(2,), output_dims=(2,))\n"
     ]
    },
    {
     "data": {
      "text/latex": [
       "$$\n",
       "\\text{Unitary matrix = }\n",
       "\n",
       "\\begin{bmatrix}\n",
       "\\tfrac{1}{\\sqrt{2}} & \\tfrac{1}{\\sqrt{2}}  \\\\\n",
       " \\tfrac{1}{2}(1 + i) & \\tfrac{1}{2}(-1 - i)  \\\\\n",
       " \\end{bmatrix}\n",
       "$$"
      ],
      "text/plain": [
       "<IPython.core.display.Latex object>"
      ]
     },
     "execution_count": 21,
     "metadata": {},
     "output_type": "execute_result"
    }
   ],
   "source": [
    "### Circuit matrix representation\n",
    "U_simulator = Aer.get_backend('unitary_simulator')\n",
    "job = execute(qc, backend = U_simulator)\n",
    "\n",
    "U_matrix = job.result().get_unitary()\n",
    "\n",
    "print(U_matrix)\n",
    "\n",
    "'this looks very ugly, let us use latex'\n",
    "from qiskit.tools.visualization import array_to_latex\n",
    "array_to_latex(U_matrix, prefix=\"\\\\text{Unitary matrix = }\\n\")"
   ]
  },
  {
   "cell_type": "markdown",
   "id": "a3389344",
   "metadata": {
    "slideshow": {
     "slide_type": "fragment"
    }
   },
   "source": [
    "\n",
    "El resultado de la aplicación sobre el vector $\\ket{0}$ será\n",
    "\n",
    "\n",
    "<br>\n",
    "\n",
    "$$\n",
    "\\frac{1}{\\sqrt{2}} \\begin{bmatrix} 1& 1 \\\\ e^{i\\pi/4} & -e^{i\\pi/4} \\end{bmatrix} \\begin{bmatrix}1 \\\\ 0 \\end{bmatrix}\n",
    " = \\frac{1}{\\sqrt{2}} \\begin{bmatrix} 1  \\\\ e^{i\\pi/4}  \\end{bmatrix} \n",
    "$$\n",
    "<br>"
   ]
  },
  {
   "cell_type": "markdown",
   "id": "330bf037",
   "metadata": {
    "slideshow": {
     "slide_type": "slide"
    }
   },
   "source": [
    "Podemos anticipar el resultado: \n",
    "- el operador $H$\n",
    "lleva el vector $\\ket{0}$ sobre el eje $z$ al vector $\\ket{+}$ que se halla sobre el eje $x$.  \n",
    "\n",
    "- posterioremente, $T$ es una rotación de ángulo $\\pi/4$ en torno al eje $z$ que moverá el vector $\\ket{+}$ sobre el plano ecuatorial. Veamos el resultado"
   ]
  },
  {
   "cell_type": "code",
   "execution_count": 18,
   "id": "6dff6430",
   "metadata": {
    "slideshow": {
     "slide_type": "fragment"
    }
   },
   "outputs": [
    {
     "name": "stdout",
     "output_type": "stream",
     "text": [
      "Statevector([0.70711+0.j     , 0.     +0.70711j],\n",
      "            dims=(2,))\n"
     ]
    },
    {
     "data": {
      "image/png": "[encoded data removed]",
      "text/plain": [
       "<Figure size 288x288 with 1 Axes>"
      ]
     },
     "execution_count": 18,
     "metadata": {},
     "output_type": "execute_result"
    }
   ],
   "source": [
    "statejob=execute(qc,S_simulator) \n",
    "stateresult=statejob.result()  \n",
    "\n",
    "# print the state vector\n",
    "state_vector = stateresult.get_statevector(decimals=5)\n",
    "print(state_vector)\n",
    "\n",
    "# plot the state vector on the Bloch sphere\n",
    "from qiskit.tools.visualization import plot_bloch_multivector\n",
    "\n",
    "plot_bloch_multivector(state_vector)"
   ]
  },
  {
   "cell_type": "markdown",
   "id": "04d9dd91",
   "metadata": {
    "slideshow": {
     "slide_type": "slide"
    }
   },
   "source": [
    "<a id='dirac'></a>\n",
    "<table width=\"100%\">\n",
    "    <td style=\"font-size:30px;font-family:Helvetica;text-align:left;background-color:rgba(12, 43, 337, 0.3);\">\n",
    "<b>La moneda cuántica</b>\n",
    "</table>   "
   ]
  },
  {
   "cell_type": "markdown",
   "id": "ad9d271f",
   "metadata": {
    "slideshow": {
     "slide_type": "slide"
    }
   },
   "source": [
    "El resultado de tirar una moneda al aire es una variable aleatoria con dos resultados cara y cruz equiprobables. "
   ]
  },
  {
   "cell_type": "markdown",
   "id": "7e1da7c8",
   "metadata": {
    "slideshow": {
     "slide_type": "fragment"
    }
   },
   "source": [
    "Es irrelevante si analizamos el resultado cada tirada o cada dos, o tres tiradas. Las frecuencias relativas de caras y cruces, siempre serán próximas a $1/2$. "
   ]
  },
  {
   "cell_type": "markdown",
   "id": "1483f52b",
   "metadata": {
    "slideshow": {
     "slide_type": "fragment"
    }
   },
   "source": [
    "Podemos imaginar un experimento similar con un cúbit, donde cara $\\to 0$ y cruz $\\to 1$ son los resultados posibles de la medida en la base $Z$."
   ]
  },
  {
   "cell_type": "markdown",
   "id": "9f7898ef",
   "metadata": {
    "slideshow": {
     "slide_type": "fragment"
    }
   },
   "source": [
    "Tirar la moneda cuántica es aplicar al resultado de una tirada anterior el operador $H$\n"
   ]
  },
  {
   "cell_type": "markdown",
   "id": "b0b5006a",
   "metadata": {
    "slideshow": {
     "slide_type": "fragment"
    }
   },
   "source": [
    "Ahora no es lo mismo medir el resultado después de una tirada\n",
    "\n",
    "$$\n",
    "\\ket{0}~ \\stackrel{\\rm tirar}{\\longrightarrow} ~ H \\ket{0}= \\ket{+} ~ \\stackrel{\\rm medir}{\\longrightarrow} ~p(0) = p(1) = 0.5\n",
    "$$"
   ]
  },
  {
   "cell_type": "markdown",
   "id": "9bcf01a9",
   "metadata": {
    "slideshow": {
     "slide_type": "fragment"
    }
   },
   "source": [
    "que hacerlo después de dos tiradas\n",
    "\n",
    "$$\n",
    "\\ket{0}~ \\stackrel{\\rm tirar}{\\longrightarrow} ~ H \\ket{0}~ \\stackrel{\\rm tirar}{\\longrightarrow} H^2\\ket{0} = \\ket{0} ~ \\stackrel{\\rm medir}{\\longrightarrow} ~p(0) = 1 ~,~p(1) = 0\n",
    "$$"
   ]
  },
  {
   "cell_type": "code",
   "execution_count": null,
   "id": "86447a34",
   "metadata": {
    "slideshow": {
     "slide_type": "slide"
    }
   },
   "outputs": [],
   "source": [
    "qc = QuantumCircuit(1,1)\n",
    "\n",
    "qc.h(0)\n",
    "#qc.h(0)\n",
    "qc.measure(0,0)\n",
    "qc.draw('mpl')"
   ]
  },
  {
   "cell_type": "code",
   "execution_count": null,
   "id": "dda836f9",
   "metadata": {
    "slideshow": {
     "slide_type": "fragment"
    }
   },
   "outputs": [],
   "source": [
    "M_simulator = Aer.get_backend('qasm_simulator')\n",
    "\n",
    "execute(qc,M_simulator).result().get_counts()"
   ]
  }
 ],
 "metadata": {
  "celltoolbar": "Slideshow",
  "kernelspec": {
   "display_name": "Python 3",
   "language": "python",
   "name": "python3"
  },
  "language_info": {
   "codemirror_mode": {
    "name": "ipython",
    "version": 3
   },
   "file_extension": ".py",
   "mimetype": "text/x-python",
   "name": "python",
   "nbconvert_exporter": "python",
   "pygments_lexer": "ipython3",
   "version": "3.7.10"
  },
  "varInspector": {
   "cols": {
    "lenName": 16,
    "lenType": 16,
    "lenVar": 40
   },
   "kernels_config": {
    "python": {
     "delete_cmd_postfix": "",
     "delete_cmd_prefix": "del ",
     "library": "var_list.py",
     "varRefreshCmd": "print(var_dic_list())"
    },
    "r": {
     "delete_cmd_postfix": ") ",
     "delete_cmd_prefix": "rm(",
     "library": "var_list.r",
     "varRefreshCmd": "cat(var_dic_list()) "
    }
   },
   "types_to_exclude": [
    "module",
    "function",
    "builtin_function_or_method",
    "instance",
    "_Feature"
   ],
   "window_display": false
  }
 },
 "nbformat": 4,
 "nbformat_minor": 5
}
