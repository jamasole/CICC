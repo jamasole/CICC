{
 "cells": [
  {
   "cell_type": "markdown",
   "id": "af88352c",
   "metadata": {
    "slideshow": {
     "slide_type": "slide"
    }
   },
   "source": [
    "<img   src=\"../figuras/logo/TalentQ_LogoPosNegro.png\" align=center  width=\"120\"/>\n",
    "<br>\n",
    "\n",
    "<table width=\"100%\">\n",
    "<td style=\"font-size:50px;font-style:italic;text-align:right;background-color:rgba(0, 160, 120,0.6)\">\n",
    "El espín de un electrón\n",
    "</td></table>\n",
    "\n",
    "\n",
    "\n",
    "$ \\newcommand{\\bra}[1]{\\langle #1|} $\n",
    "$ \\newcommand{\\ket}[1]{|#1\\rangle} $\n",
    "$ \\newcommand{\\braket}[2]{\\langle #1|#2\\rangle} $\n",
    "$ \\newcommand{\\i}{{\\color{blue} i}} $ \n",
    "$ \\newcommand{\\Hil}{{\\mathcal H}} $\n",
    "\n",
    "$ \\newcommand{\\bn}{{\\bf n}} $\n"
   ]
  },
  {
   "cell_type": "markdown",
   "id": "0017804b",
   "metadata": {},
   "source": [
    "- [Experimento de Stern y Gerlach](#sterngerlach)\n",
    "\n",
    "    \n",
    "- [Preparando de un cúbit](#prepacubit)\n",
    "    \n",
    "    \n",
    "- [Manipulando un cúbit](#manipcubit)"
   ]
  },
  {
   "cell_type": "markdown",
   "id": "2955d1c8",
   "metadata": {
    "slideshow": {
     "slide_type": "slide"
    }
   },
   "source": [
    "El descubrimiento del espín fue una de los primeros fenómenos cuya descripción encontró acomodo en la nueva Mecánica Cuántica. \n",
    "\n",
    "Tanto es así que, el espín es el paradigma de grado de libertad cuántico, y permite obtener intuición sobre los procesos de medida generales."
   ]
  },
  {
   "cell_type": "markdown",
   "id": "d912fff7",
   "metadata": {
    "slideshow": {
     "slide_type": "slide"
    }
   },
   "source": [
    "<a id=\"#sterngerlach\"></a>\n",
    "<table width=\"100%\">\n",
    "    <td style=\"font-size:30px;font-family:Helvetica;text-align:left;background-color:rgba(12, 43, 337, 0.3);\">\n",
    "<b>El experimento de Stern y Gerlach</b>\n",
    "</table>   "
   ]
  },
  {
   "cell_type": "markdown",
   "id": "09cc80ef",
   "metadata": {
    "slideshow": {
     "slide_type": "slide"
    }
   },
   "source": [
    "Si pensamos en un electrón como una particula puntual, podemos creer que sus únicos *grados de libertad* son las tres coordenadas de la posición que ocupa en el espacio ${\\vec r} = (x,y,z)$. \n",
    "\n",
    "Se trata de tres *grados de libertad continuos* por lo que, una medida puede dar, para cada uno de ellos, un valor real arbitrario. \n"
   ]
  },
  {
   "cell_type": "markdown",
   "id": "61d3ba58",
   "metadata": {
    "slideshow": {
     "slide_type": "fragment"
    }
   },
   "source": [
    "En 1921 Stern, e independientemente en 1922 Gerlach, descubrieron que un electrón posee un grado de libertad adicional de carácter interno que es discreto: su medida sólo arroja uno de dos posibilidades iguales  y opuestas, de valor $\\pm \\hbar/2$.  \n",
    "\n",
    "La forma en que llegaron a esta conclusión fue observando el comportamiento de electrones en el seno de un campo magnético. "
   ]
  },
  {
   "cell_type": "markdown",
   "id": "2615f686",
   "metadata": {
    "slideshow": {
     "slide_type": "fragment"
    }
   },
   "source": [
    "El efecto que causa un campo magnético sobre un electrón es análogo al que sufriría una diminuta esfera de carga rotante. \n",
    "\n",
    "Una esfera de carga rotante tiene un *momento dipolar magnético*, $\\boldsymbol{\\mu}$, un vector que apunta en la dirección del eje de rotación de la esfera y sentido según la regla de la mano derecha"
   ]
  },
  {
   "cell_type": "markdown",
   "id": "fea4fbda",
   "metadata": {
    "slideshow": {
     "slide_type": "slide"
    }
   },
   "source": [
    "Por tanto, vamos a pensar en un electrón efectivamente como una diminuta esfera de carga en rotación. \n",
    "\n",
    "\n",
    "La magnitud de $\\boldsymbol{\\mu}$ en una esfera cargada rotante  es una magnitud continua que depende de la carga total y de la velocidad de rotación.  \n"
   ]
  },
  {
   "cell_type": "markdown",
   "id": "efe290a1",
   "metadata": {
    "slideshow": {
     "slide_type": "fragment"
    }
   },
   "source": [
    "Cuando una electrón con momento magnético $\\boldsymbol{\\mu}$ se encuentra en el seno de un campo magnético  no constante ${\\bf B}(x,y,z)$, la  posición del electrón tiende a desplazarse hacia zonas de campo más intenso. Por ejemplo, supongamos que ${\\bf B}(z) = (0,0,B_z(z))$ es un campo magnético vertical que varía en la dirección $z$ entonces\n",
    "<br>\n",
    "$$\n",
    "{\\bf F}= \\boldsymbol{\\nabla}(\\boldsymbol{\\mu}\\cdot{\\bf B}(z))= \\boldsymbol{\\nabla}(\\mu_z B_z(z)) = \\left( 0,0,\\mu_z\\frac{\\partial B_z(z)}{\\partial z}\\right)\n",
    "$$\n"
   ]
  },
  {
   "cell_type": "markdown",
   "id": "99fc2dbe",
   "metadata": {
    "slideshow": {
     "slide_type": "fragment"
    }
   },
   "source": [
    "El experimento de Stern y Gerlach consiste en disparar una nube de electrones que atraviesen una región donde existe un campo magnético no constante ${\\bf B}(z) = (0,0,B_z(z))$ que les ocasionará una desviación de su trayectoria en la dirección vertical "
   ]
  },
  {
   "cell_type": "markdown",
   "id": "a4e306f6",
   "metadata": {},
   "source": [
    "Por razones que quedarán claras más tarde, denominamos a dicho aparato un *polarizador de Stern Gerlach*, y tiene un eje que viene definido por la dirección del gradiente. En este caso, la dirección vertical $\\hat{\\bf z}$ en este caso. "
   ]
  },
  {
   "cell_type": "markdown",
   "id": "c4809014",
   "metadata": {},
   "source": [
    "Es la dirección en la que esperamos una desviación de un electrón que lo atraviesa. La magnitud de dicha desviación es proporcional a la proyección vertical $\\mu_z = \\boldsymbol{\\mu}\\cdot\\hat{\\bf z} $ "
   ]
  },
  {
   "cell_type": "markdown",
   "id": "f85fd3c7",
   "metadata": {},
   "source": [
    "Supongamos la nube de electrones que atraviesa el campo magnético está inicialmente despolarizada. Eso quiere decir que, en promedio, el momento magnético es cero. Cada componente, y en particular $\\mu_z$ será una distribución constante $\\mu_z\\in [-\\mu,+\\mu]$ de media cero. Por tanto, a la salida del polarizador esperamos una nube verticalmente alargada centrada en la posición central.\n"
   ]
  },
  {
   "cell_type": "markdown",
   "id": "cb6d71b3",
   "metadata": {},
   "source": [
    "\n",
    "El resultado del experimento de Stern (1921) y Gerlach (1922) fue que, en lugar de eso, sólo se encuentran dos puntos de acumulación, situados simétricamente en el la dirección del eje del polarizador. \n",
    "\n",
    "En consecuencia, esto quiere decir que la variable $\\mu_z$ sólo adquiere dos valores opuestos. Escribiendo $\\boldsymbol{\\mu} = \\mu \\, {\\bf s}$ donde, la cuantización de $\\mu_z$ implica la de $s_z$ que adquiere dos valores  $\\pm\\hbar/2$."
   ]
  },
  {
   "cell_type": "markdown",
   "id": "2121cb6e",
   "metadata": {},
   "source": [
    "<br>\n",
    "<br>\n",
    "<div>\n",
    "<img src=\"images/Stern_Gerlach_1.png\" width=\"420\"/>\n",
    "</div>\n",
    "<br>\n",
    "<br>\n"
   ]
  },
  {
   "cell_type": "markdown",
   "id": "d38d832e",
   "metadata": {},
   "source": []
  },
  {
   "cell_type": "markdown",
   "id": "d3755ced",
   "metadata": {},
   "source": [
    "<div class=\"alert alert-block alert-danger\">\n",
    "<b>Notar</b>\n",
    "    \n",
    "- La dirección $z$ no tiene nada de particular. El resultado anterior, si rotamos el eje del polarizador para que el campo ${\\bf B}$ apunte en la dirección $\\hat{\\bf n}$, sigue siendo cierto para la proyección ${\\bf s}\\cdot\\hat{\\bf n} = \\pm \\hbar/2$.\n",
    "    \n",
    "\n",
    "- El signo será positivo si el electrón se ha desviado en el sentido del  gradiente, y negativo si la desviación tiene el sentido opuesto.\n",
    "</div>"
   ]
  },
  {
   "cell_type": "markdown",
   "id": "110dd677",
   "metadata": {},
   "source": [
    "El nombre de *polarizador* cobra sentido cuando hacemos dos experimentos sucesivamente de forma que, la salida de uno, sea la entrada del siguiente. \n",
    "\n",
    "Supongamos que seleccionamos sólo los electrones que se desvían hacia arriba $+\\hbar/2$ en el primer polarizador. A continuación  los hacemos pasar por un segundo polarizador de Stern Gerlach cuyo eje podemos variar en el plano $(y,z)$ un ángulo $\\theta$ relativo al eje $z$. Entonces, las incidencias sobre la segunda placa  aparecen en una u otra posición a lo largo del segundo eje **de forma aleatoria**. \n",
    "\n",
    "Repitiendo el experimento es posible obtener la probabilidad de incidencia en una posición u otra y resulta ser de la forma \n",
    "\n",
    "$$\n",
    "p(+\\hbar/2) = \\cos^2\\theta ~~~~~,~~~~~ p(-\\hbar/2) = \\sin^2\\theta ~\\, \n",
    "$$\n",
    "\n",
    "donde $\\theta$ es el ángulo entre los ejes de los dos polarizadores sucesivos."
   ]
  },
  {
   "cell_type": "markdown",
   "id": "88d209e8",
   "metadata": {},
   "source": [
    "<a id=\"prepacubit\"></a>\n",
    "<table width=\"100%\">\n",
    "    <td style=\"font-size:30px;font-family:Helvetica;text-align:left;background-color:rgba(12, 43, 337, 0.3);\">\n",
    "<b>Preparación de un cúbit</b>\n",
    "</table>   "
   ]
  },
  {
   "cell_type": "markdown",
   "id": "2dfdedd1",
   "metadata": {},
   "source": [
    "Vamos a tratar de interpretar el experimento de Stern Gerlach a la luz de la Mecánica Cuántica. Como es característico en Mecánica Cuántica, \n",
    "\n",
    "- los grados de libertad sólo adquieren un valor numérico cuando los medimos\n",
    "\n",
    "- la repetición de la medida en igualdad de condiciones revela que dichos valores numéricos se distribuyen de forma probabilística\n",
    "<br>\n",
    "Por ejemplo, la posición de un electrón no está definida. Sin embargo la función de onda de un electrón $\\psi(\\vec r)$ es una amplitud de probabilidad de detectar dicho electrón en una posición dada $\\vec r$. \n",
    "La probabilidad de presencia es el módulo cuadrado\n",
    "\n",
    "$$\n",
    "p(\\vec r) = |\\psi(\\vec r)|^2\n",
    "$$\n"
   ]
  },
  {
   "cell_type": "markdown",
   "id": "6ff8a077",
   "metadata": {},
   "source": [
    "El experimento de Stern Gerlach revela que, a parte de su posición, un electrón tiene un grado de libertad interno adicional que se pone de manifiesto al observar su deflexión por un campo magnético. Este grado de libertad se denomina espín. Experimentalmente \n",
    "\n",
    "- su valor está cuantizado   y sólo puede arrojar  uno de dos resultados $s = \\pm 1$ para cualquier dirección del polarizador. \n",
    "\n",
    "- La repetición del experimento muestra que la aparición de una función de probabilidad para ambos valores.\n",
    "\n",
    "### Espín\n",
    "\n",
    "Por tanto es necesario ampliar la función de onda para tener en cuenta este nuevo grado de libertad, denominado *espín*, añadiendo a un nuevo espacio de dimensión 2 (dos resultados $\\Rightarrow$ dos autovectores)\n",
    "\n",
    "$$\n",
    "\\psi(\\vec r) ~~~\\to ~~~ \\psi(\\vec r)\\otimes  \\begin{bmatrix} a \\\\ b \\end{bmatrix}  =  \\begin{bmatrix} a\\, \\psi(\\vec r) \\\\ b\\,  \\psi(\\vec r)  \\end{bmatrix}\n",
    "$$\n",
    "\n",
    "Con $|a|^2 + |b|^2 = 1$. En resumidas cuentas, conocer el <i>estado de espín de un electrón</i> es equivalente a especificar un *cúbit*.\n",
    "\n",
    "Ya hemos visto cómo parametrizar el cúbit más general usando dos ángulos $\\theta\\in(0,\\pi)$ y $\\phi=(0,2\\pi)$, de modo que la función de onda completa de un electrón será\n",
    "\n",
    "\\begin{equation}\n",
    "\\psi(\\vec r) \\otimes \\begin{bmatrix} \\cos\\theta \\\\ e^{i\\phi}\\sin\\theta \\end{bmatrix} \n",
    "\\end{equation}\n"
   ]
  },
  {
   "cell_type": "markdown",
   "id": "04cebeed",
   "metadata": {},
   "source": [
    "A continuación vamos a mostrar un procedimiento experimental para situar un electrón en un estado como el anterior. Ello nos dará una interpretación geométrica <i>operacional</i>  de los ángulos $(\\theta,\\phi)$. "
   ]
  },
  {
   "cell_type": "markdown",
   "id": "cd8aa456",
   "metadata": {},
   "source": [
    "<table width=\"100%\"><td style=\"font-size:15px;font-style:roman;text-align:left;\">\n",
    "<b> Construcción de un estado de espín</b>\n",
    "<br>    \n",
    "<br>\n",
    "    el protocolo experimental para preparar un electrón en un <i>estado de espín</i> arbitrario consta de los siguientes pasos:\n",
    "<br>\n",
    "<br>\n",
    "1. Alinear un polarizador de Stern Gerlach con su campo magnético ${\\bf B}$ en la dirección de un vector unitario, \n",
    "$|\\hat\\bn|=1$, con\n",
    "    \n",
    "$$\n",
    "\\hat\\bn(\\theta,\\phi) = \\sin\\theta\\cos\\phi \\, \\hat {\\bf x} + \\sin\\theta\\sin\\phi \\, \\hat {\\bf y} + \\cos\\theta \\, \\hat {\\bf z}\n",
    "$$\n",
    "<br>\n",
    "<br>\n",
    "2. Hacer pasar una electrón a través de dicho Stern Gerlach y observar su deflexión.\n",
    "<br>\n",
    "<br>\n",
    "3.  Si, a la salida, observamos que se deflectó en el mismo sentido de $\\vec B$ (sentido opuesto a $\\vec B$) diremos que: <b>tiene</b> o, mejor dicho, adquirió una <b>proyección del espín</b> $s=+\\hbar/2$ $(s=-\\hbar/2)$\n",
    "    <b>a lo largo del eje</b> $\\hat\\bn(\\theta,\\phi)$ <b>del Stern Gerlach</b>.\n",
    "    \n",
    "En cada caso, escribiremos para la función de onda $\\ket{\\psi} = \\psi(\\vec r)\\otimes \\ket{\\hat\\bn ,\\pm}$ con\n",
    "<br>\n",
    "<br>    \n",
    "$$\n",
    "s=+\\hbar/2~~\\to ~~\\ket{+,\\hat\\bn} =  \\begin{bmatrix} \\cos\\theta \\\\  e^{i\\phi}\\sin\\theta \\end{bmatrix} ~~~~~~~~,~~~~~\n",
    "~~~~~\n",
    "s=-\\hbar/2~~\\to ~~\\ket{-,\\hat\\bn} =  \\begin{bmatrix} -e^{i\\phi}\\sin\\theta \\\\  \\cos\\theta \\end{bmatrix} \n",
    "$$\n",
    "<br>\n",
    "\n",
    "</td></table>"
   ]
  },
  {
   "cell_type": "markdown",
   "id": "bcf4938f",
   "metadata": {},
   "source": [
    "<div class=\"alert alert-block alert-danger\">\n",
    "<b>Notar</b>\n",
    "\n",
    "    \n",
    "- La <b>dirección</b> del vector $\\hat\\bn(\\theta,\\phi)$ en el espacio tridimensional ${\\mathbb R}^3$ es la misma que asociamos a dichos ángulos en la esfera de Bloch para el estado $\\ket{u} = \\cos\\theta\\ket{0} + e^{i\\phi}\\sin\\theta\\ket{1}$. \n",
    "<br>    \n",
    "<br>\n",
    "    Ahora queda claro el significado de esa dirección en el espacio real en el que vivimos: <i>es la del polarizador de Stern Gerlach</i> que crea el cúbit.\n",
    "  \n",
    "    \n",
    "- En la construcción anterior hemos elegido implicitamente una base. Siempre lo hacemos cuando escribimos un vector en componentes. La base anterior es fácil de interpretar, poniendo  $\\theta=0$.\n",
    "Esto confirma que los vectores \n",
    "<br>\n",
    "<br>\n",
    "$$\n",
    "\\ket{+,\\hat{\\bf z}} = \\begin{bmatrix} 1 \\\\  0 \\end{bmatrix} = \\ket{0}~~~~,~~~~~~\n",
    "\\ket{-,\\hat{\\bf z}} = \\begin{bmatrix} 0 \\\\  1 \\end{bmatrix} = \\ket{1}~~~~~~~~~~\n",
    "$$\n",
    "<br>\n",
    "son los que tienen proyectión $s=\\pm \\hbar/2$ a lo largo del eje $z$ que son los que hemos llamado $\\{\\ket{0}_Z,\\ket{1}_Z\\} $ en la esfera de Bloch\n",
    "    \n",
    "<br>     \n",
    "<div>"
   ]
  },
  {
   "cell_type": "markdown",
   "id": "c880d572",
   "metadata": {},
   "source": [
    "## Observable asociado a un Stern Gerlach"
   ]
  },
  {
   "cell_type": "markdown",
   "id": "04a68121",
   "metadata": {},
   "source": [
    "Los estados que emergen de una medición de Stern Gerlach, orientado en una dirección arbitraria deben ser autoestados de un observable.\n",
    "\n",
    "¿Cuál es el observable?\n",
    "\n",
    "Debe ser un operador hermítico con autovalores $s = \\pm \\hbar/2$. \n"
   ]
  },
  {
   "cell_type": "markdown",
   "id": "ac85fcd6",
   "metadata": {},
   "source": [
    "<table width=\"100%\"><td style=\"font-size:15px;font-style:roman;text-align:left;\">\n",
    "<b>  </b>\n",
    "    $~$ El observable asociado a un polarizador de Stern Gerlach <i>orientado</i> en una dirección $\\hat\\bn$ es\n",
    "el operador\n",
    "<br>\n",
    "    \n",
    "$$\n",
    "S = \\frac{\\hbar}{2}\\, \\hat\\bn\\cdot  \\boldsymbol{\\sigma} \n",
    "$$\n",
    "<br>\n",
    "</td></table>\n",
    "\n",
    "donde hemos agrupado las matrices de Pauli en un vector $\\boldsymbol{\\sigma} =(\\sigma_x,\\sigma_y,\\sigma_z)$ .\n",
    "\n",
    "Sólo es necesario demostrar que los cúbits que crea el proceso de Stern Gerlach son precisamente los autoestados de este observable. "
   ]
  },
  {
   "cell_type": "markdown",
   "id": "ff9418bc",
   "metadata": {},
   "source": [
    "<div class=\"alert alert-block alert-info\",text-align:center>\n",
    "<p style=\"text-align: left ;color: navy;\">  \n",
    "<b>Lema</b>: \n",
    "<br>los estados $\\ket{\\pm,\\hat\\bn}$  son autoestados del operador $ \\hat\\bn\\cdot \\boldsymbol{\\sigma}$, con autovalores $\\pm 1$,  es decir\n",
    "<br>\n",
    "<br>    \n",
    "$$\n",
    "(\\hat\\bn\\cdot \\boldsymbol{\\sigma})\\ket{\\pm, \\hat\\bn,s} = \\pm\\ket{\\pm,\\hat\\bn} \\, .\n",
    "$$\n",
    "</p>    \n",
    "</div>"
   ]
  },
  {
   "cell_type": "markdown",
   "id": "fc1d0f66",
   "metadata": {},
   "source": [
    "Recordando que $\\hat\\bn(\\theta,\\phi) = (\\sin\\theta\\cos\\phi , \\sin\\theta\\sin\\phi ,\\cos\\theta)$, la matriz $S$ es\n",
    "\n",
    "$$\n",
    "S = \\hat\\bn\\cdot \\boldsymbol{\\sigma} = n_x\\sigma_x + n_y\\sigma_y + n_z\\sigma_z = \\begin{bmatrix}\\cos\\theta & e^{-i\\phi}\\sin\\theta \\\\\n",
    "e^{i\\phi}\\sin\\theta & -\\cos\\theta \\end{bmatrix}\n",
    "$$\n",
    "El lema se demuestra operando. "
   ]
  },
  {
   "cell_type": "markdown",
   "id": "cec30af2",
   "metadata": {},
   "source": [
    "<a id=\"multicubit\"></a>\n",
    "<table width=\"100%\">\n",
    "    <td style=\"font-size:30px;font-family:Helvetica;text-align:left;background-color:rgba(12, 43, 337, 0.3);\">\n",
    "<b>Manipulando un cúbit</b>\n",
    "</table>   "
   ]
  },
  {
   "cell_type": "markdown",
   "id": "4c08f244",
   "metadata": {},
   "source": [
    " Ahora podemos preguntarnos qué le ocurre a dicho electrón si lo sumergimos en un campo magnético ${\\bf B}= B\\, \\hat{\\bf u}$.\n",
    "\n",
    "La dinámica del estado de una partícula con espín viene gobernada por el operador de *Hamilton*\n",
    "\n",
    "$$\n",
    "H =  \\frac{\\hbar}{2}(-\\gamma {\\bf B})\\cdot \\boldsymbol{\\sigma}\n",
    "$$\n",
    "\n",
    "$\\gamma$ es el factor numérico que recuerda qué tipo de partícula  estamos estudiando.\n",
    "Puede ser un electrón, un protón, un neutrón, un núcleo atómico, etc. \n",
    "\n",
    "Si uno mira las unidades de la ecuación anterior vemos que\n",
    "\n",
    "$[H]$ el hamiltoniano tiene unidades de energía, por ejemplo, julio, J.\n",
    "\n",
    "$[\\hbar]$ la constante de Planck, tiene unidades de energía $\\times$ tiempo, es decir, J s. \n",
    "\n",
    "$-\\gamma {\\bf B}$ es un vector que tiene unidades de inversa de tiempo, s$^{-1}$=Hz. Por tanto este factor tiene unidades de frequencia en todos los casos. Por eso vamos a darle un nombre abreviado. Definiremos el  *vector de Larmor* \n",
    "$$\n",
    "\\boldsymbol{\\omega} = -\\gamma \\bf B\n",
    "$$\n",
    "cuyo módulo será la *frecuencia de Larmor*\n",
    "$$\n",
    "\\omega = -\\gamma B\n",
    "$$\n",
    "\n",
    "con esta definición, el hamiltoniano genérico se escribe en la forma\n",
    "\n",
    "$$\n",
    "H = \\frac{\\hbar}{2} \\boldsymbol{\\omega}\\cdot \\boldsymbol{\\sigma}\n",
    "$$\n",
    "\n",
    "\n"
   ]
  },
  {
   "cell_type": "markdown",
   "id": "f7d6c1d9",
   "metadata": {},
   "source": [
    "Dado un Hamiltoniano $H$, existe una base privilegiada si lo que queremos es investigar la evolución del sistema. Es la base de autoestados de $H$. \n",
    "\n",
    "A partir de la sección anterior, ya sabemos cuáles son dichos autoestados. Por ejemplo, tomando ${\\bf B} = B\\, \\hat{\\bf z}$ a lo largo del eje $\\hat{\\bf z}$ vemos que $\\boldsymbol{\\omega} = (0,0,\\omega)$ y \n",
    "\n",
    "$$\n",
    "H = \\frac{\\hbar}{2}\\omega \\sigma_z = \\begin{bmatrix} \\hbar\\omega/2 & 0 \\\\ 0 & -\\hbar\\omega/2 \\end{bmatrix}\n",
    "$$\n",
    "\n",
    "Los autoestados  de $H$ son los de $\\sigma_z$ pero los autovalores son, ahora $E_0 =\\hbar\\omega/2$ y $E_1 = -\\hbar\\omega/2$.\n",
    "\n",
    " - El estado *fundamental* es $\\begin{bmatrix} 0\\\\ 1\\end{bmatrix} =\\ket{-,\\hat{\\bf z}}=\\ket{1}$ con energía $E_1=-\\hbar B/2$. \n",
    " \n",
    " - El estado *excitado*\n",
    " es $\\begin{bmatrix} 1\\\\ 0\\end{bmatrix} =\\ket{+,\\hat{\\bf z}}= \\ket{0}$ con energía $E_0=\\, \\hbar B/2$. \n",
    " \n"
   ]
  },
  {
   "cell_type": "markdown",
   "id": "195d6c75",
   "metadata": {},
   "source": [
    "<div class=\"alert alert-block alert-danger\">\n",
    "<b>Notar</b>\n",
    "\n",
    "- Observamos como *la presencia del campo magnético* induce una *separación de niveles* de energía $\\Delta E = E_1-E_0 = \\hbar B$. Hablamos de un *sistema de dos niveles* y el de un electrón en un campo magnético será un ejemplo paradigmático.\n",
    "    \n",
    "<br>\n",
    "    \n",
    "- El eje $\\hat{\\bf z}$ no tiene nada de especial. Y la observación anterior se generaliza a cualquier campo magnético ${\\bf B}= B\\, \\hat{\\bf u}$. El Hamiltoniano asociado tendrá ahora dos autoestados $\\{\\ket{\\hat{\\bf u},+},\\ket{\\hat{\\bf u},-}\\}$ con idénticas energías $E_{0}$ y $E_1$.\n",
    "\n",
    "</div>"
   ]
  },
  {
   "cell_type": "markdown",
   "id": "7e87302d",
   "metadata": {},
   "source": [
    "## Evolución de un espín en un campo magnético. "
   ]
  },
  {
   "cell_type": "markdown",
   "id": "e15a3d4b",
   "metadata": {},
   "source": [
    "Situemos un espín $\\ket{\\psi} = \\ket{\\hat\\bn,s}$ en un campo magnético vertical ${\\bf B}= B \\, \\hat{\\bf z}$\\, .\n",
    "La evolución en el tiempo, $\\ket{\\psi(t)}$  viene gobernada por la ecuación de Schrödinger\n",
    "\n",
    "$$\n",
    "i\\hbar \\frac{d}{dt} \\ket{\\psi(t)} = H \\ket{\\psi(t)}\n",
    "$$\n",
    "\n",
    "Cuando $H$ es un operador constante en el tiempo (por ejemplo si el campo $\\bf B$ no varía) existe una solución exacta para la evolución\n",
    "\n",
    "$$\n",
    "\\ket{\\psi(t)} = U(t,0) \\ket{\\psi(0)}\n",
    "$$\n",
    "\n",
    "que involucra el *operador de evolución*  \n",
    "\n",
    "$$\n",
    "U(t,0) = \\exp\\left( -\\frac{i}{\\hbar} t H\\right)\n",
    "$$"
   ]
  },
  {
   "cell_type": "markdown",
   "id": "78c19ec6",
   "metadata": {},
   "source": [
    "La exponencial de un operador es una función que se define mediante la serie de Taylor. En nuestro caso\n",
    "\n",
    "$$\n",
    "\\exp\\left( -\\frac{i}{\\hbar} t H\\right) = I + \\left( -\\frac{i}{\\hbar} t H\\right) + \\frac{1}{2!} \\left( -\\frac{i}{\\hbar} t H\\right)^2 + ...\n",
    "$$\n",
    "\n",
    "En general no es sencillo encontrar el resultado de esta exponencial en forma analítica. El truco está en expres en la base que diagonaliza el operador, es igual a exponenciar los elementos diagonales. Es el caso cuando tomamos el campo magnético  a lo largo del eje $\\hat{\\bf z}$, ${\\bf B} = B\\, \\hat{\\bf z}$\n",
    "\n",
    "$$\n",
    "\\exp\\left( -\\frac{i}{\\hbar} t H\\right) = \\exp \\begin{bmatrix} -it \\omega/2 & 0 \\\\ 0 & -it \\omega/2 \\end{bmatrix} =\n",
    "\\begin{bmatrix} e^{-it \\omega/2} & 0 \\\\ 0 &e^{it \\omega/2}  \\end{bmatrix} =  e^{-it \\omega/2}\n",
    "\\begin{bmatrix}1 & 0 \\\\ 0 &e^{it \\omega}\\end{bmatrix}\n",
    "$$\n",
    "\n",
    "Podemos despreciar la *fase global* y escribir para el operador de evolución\n",
    "\n",
    "$$\n",
    "U(t,0) = \\begin{bmatrix}1 & 0 \\\\ 0 &e^{it \\omega}\\end{bmatrix}\n",
    "$$"
   ]
  },
  {
   "cell_type": "markdown",
   "id": "48e7805c",
   "metadata": {},
   "source": [
    "Ya podemos obtener la evolución en el tiempo de un estado inicial de la polarización del espín. Supongamos que, a tiempo $t=0$, tenemos\n",
    "\n",
    "$$\n",
    "\\ket{\\psi(0)} = \\ket{+,\\hat\\bn(\\theta,\\phi)} = \\begin{bmatrix} \\cos\\theta \\\\ e^{i\\phi} \\sin\\theta \\end{bmatrix}\n",
    "$$\n",
    "\n",
    "En la esfera de Bloch éste estado es un vector en la dirección $\\hat\\bn(\\theta,\\phi)$. A tiempo $t$ el estado será\n",
    "\n",
    "$$\n",
    "\\ket{\\psi(t)} = U(t,0) \\ket{\\psi(0)} = \\begin{bmatrix}1 & 0 \\\\ 0 &e^{it \\omega}\\end{bmatrix}\\begin{bmatrix} \\cos\\theta \\\\ e^{i\\phi} \\sin\\theta \\end{bmatrix} = \n",
    "\\begin{bmatrix} \\cos\\theta \\\\ e^{i(\\phi+ t\\omega)} \\sin\\theta \\end{bmatrix}\n",
    "$$\n",
    "\n",
    "El resultado es fácil de visualizar:  en la esfera de Bloch, el estado instantáneo $\\ket{\\psi(t)}$  experimenta una rotación en torno al eje $\\hat{\\bf z}$ a ángulo $\\theta$ fijo, con una velocidad angular dada por la *frecuencia de Larmor*, $\\omega = -\\gamma B$. \n",
    "\n",
    "Es decir, una *precesión de Larmor* en torno al eje que marca el campo magnético. "
   ]
  },
  {
   "cell_type": "markdown",
   "id": "47c2d20d",
   "metadata": {},
   "source": [
    "La elección del eje $\\hat{\\bf z}$ para alinear el campo magnético es totalmente arbitraria y se ha hecho por que simplifica los cálculos, ya que el Hamiltoniano ya es diagonal. Si escogiésemos otra dirección arbitraria:\n",
    "\n",
    "- el resultado geométrico **tiene que ser el mismo**: *una precesión del vector de Bloch en torno al eje que marca el campo magnético ${\\bf B}$ con frecuencia angular de Larmor* $\\omega = -\\gamma B$.\n",
    "\n"
   ]
  },
  {
   "cell_type": "markdown",
   "id": "f14311f3",
   "metadata": {},
   "source": [
    "- el álgebra será más complicada porque tendremos que exponenciar una matriz  $H = \\frac{\\hbar}{2}\\boldsymbol{\\omega}\\cdot\\boldsymbol{\\sigma} $ que ya no es diagonal\n",
    "\n",
    "$$\n",
    "U_{\\boldsymbol{\\omega}}(t,0) = \\exp\\left( -\\frac{i}{\\hbar} t H\\right) = \\exp \\left(\\frac{it}{2}\\begin{bmatrix} \\omega_z & \\omega_x-i\\omega_y \\\\ \n",
    "\\omega_x+i\\omega_y & - \\omega_z  \\end{bmatrix}\\right)\n",
    "$$\n"
   ]
  },
  {
   "cell_type": "markdown",
   "id": "04d7ac1b",
   "metadata": {},
   "source": [
    "El resultado general es el siguiente\n",
    "\n",
    "\\begin{eqnarray}\n",
    "U_{\\boldsymbol{\\omega}}(t,0) ~&=&~ \\cos\\left(\\frac{t\\omega}{2}\\right) I + i \\sin\\left(\\frac{t\\omega}{2}\\right) \\, \\frac{\\boldsymbol{\\omega}}{\\omega}\\cdot \\boldsymbol{\\sigma} \\\\\n",
    "&&\\\\\n",
    "&=& \n",
    "\\begin{bmatrix}\n",
    " \\cos \\displaystyle\\frac{t\\omega}{2}- i \\displaystyle\\frac{\\omega_z}{\\omega} \\sin\\displaystyle\\frac{t\\omega}{2}  &   \\displaystyle\\frac{-\\omega_y-i\\omega_x}{\\omega} \\sin\\displaystyle\\frac{t\\omega}{2}  \\\\\n",
    " \\rule{0mm}{8mm}\n",
    " \\displaystyle\\frac{\\omega_y-i\\omega_x}{\\omega} \\sin\\displaystyle\\frac{t\\omega}{2}  & \\cos\\displaystyle\\frac{t\\omega}{2} + i \\displaystyle\\frac{\\omega_z}{\\omega} \\sin\\frac{t \\omega }{2}\n",
    "\\end{bmatrix}\n",
    "\\end{eqnarray}\n",
    "\n"
   ]
  },
  {
   "cell_type": "markdown",
   "id": "f5448fef",
   "metadata": {},
   "source": [
    "Podemos comprobar que se recuperan las precesiones en torno a los ejes $\\hat{\\bf x}$, $\\hat{\\bf y}$ y $\\hat{\\bf z}$.\n",
    "\n",
    "- $\\boldsymbol{\\omega} = (0,0,\\omega_z=\\omega)$.\n",
    "$$\n",
    "U_z(t,0) = \\begin{bmatrix} e^{-it \\omega/2} & 0 \\\\ 0 &e^{it \\omega/2}  \\end{bmatrix} = R_{z}(t\\omega)\n",
    "$$\n",
    "\n",
    "- $\\boldsymbol{\\omega} = (\\omega_x=\\omega,0,0)$.\n",
    "$$\n",
    "U_x(t,0) = \n",
    "\\begin{bmatrix}\n",
    " \\cos \\displaystyle\\frac{t\\omega}{2}  &  -i \\sin\\displaystyle\\frac{t\\omega}{2}  \\\\\n",
    " \\rule{0mm}{8mm}\n",
    " -i \\sin\\displaystyle\\frac{t\\omega}{2}  & \\cos\\displaystyle\\frac{t\\omega}{2} \n",
    "\\end{bmatrix} = R_{x}(t\\omega)\n",
    "$$\n",
    "\n",
    "- $\\boldsymbol{\\omega} = (0,\\omega_y=\\omega,0)$.\n",
    "$$\n",
    "U_y(t,0) = \n",
    "\\begin{bmatrix}\n",
    " \\cos \\displaystyle\\frac{t\\omega}{2}  &  - \\sin\\displaystyle\\frac{t\\omega}{2}  \\\\\n",
    " \\rule{0mm}{8mm}\n",
    "  \\sin\\displaystyle\\frac{t\\omega}{2}  & \\cos\\displaystyle\\frac{t\\omega}{2} \n",
    "\\end{bmatrix}= R_{y}(t\\omega)\n",
    "$$\n",
    "\n",
    "Recuperamos los operadores de rotación de cúbits en torno a los tres ejes, con un ángulo dinámico $\\alpha = t\\omega$."
   ]
  },
  {
   "cell_type": "markdown",
   "id": "53ca5195",
   "metadata": {},
   "source": [
    "## Pulsos y puertas elementales"
   ]
  },
  {
   "cell_type": "markdown",
   "id": "d6c92cba",
   "metadata": {},
   "source": [
    "Si tenemos un contonocimiento muy exacto de la frecuencia de Larmor, podemos utilizar el procedimiento anterior para construir cualquier puerta simples de 1 cúbit, encendiendo el campo magnético un tiempo muy preciso.\n",
    "\n",
    "Con  $\\Delta t = \\pi/\\omega$, denominado *pulso elemental* somos capaces de generar las puertas $X,Y$ y $Z$, así como la puerta de Hadamard.\n",
    "\n",
    "\n",
    "\\begin{eqnarray}\n",
    "i \\,U_{\\hat{\\bf z}}(\\Delta t,0) &=&  \\begin{bmatrix} 1 & 0 \\\\ 0 & -1  \\end{bmatrix} =  Z  \n",
    "\\nonumber\\\\ \\rule{0mm}{9mm}\n",
    "i \\,U_{\\hat{\\bf y}}(\\Delta t,0) &=&     \\begin{bmatrix} 0  & -i \\\\   i& 0 \\end{bmatrix}  =  Y \n",
    "\\nonumber\\\\ \\rule{0mm}{9mm}\n",
    "i \\,U_{\\hat{\\bf x}}(\\Delta t,0)  &=&  \\begin{bmatrix} 0  & 1 \\\\   1& 0 \\end{bmatrix} = X  \\, \n",
    "\\nonumber\\\\ \\rule{0mm}{9mm}\n",
    "i \\,U_{\\hat{\\bf x}}(\\Delta t,0)  &=& \\frac{1}{\\sqrt{2}} \\begin{bmatrix} 1  & 1 \\\\   1& -1 \\end{bmatrix} = H  \\, \n",
    "\\end{eqnarray}"
   ]
  },
  {
   "cell_type": "markdown",
   "id": "aaa36037",
   "metadata": {},
   "source": [
    "Con pulsos de menor tiempo podemos construir puertas $S$ y $T$\n",
    "\n",
    "$$\n",
    "e^{i\\pi/4} \\,U_{\\hat{\\bf z}}(\\Delta t/2,0) = S ~~~~~~~~,~~~~~~~~ e^{i\\pi/8}\\,U_{\\hat{\\bf z}}(\\Delta t/4,0) = T\n",
    "$$"
   ]
  },
  {
   "cell_type": "code",
   "execution_count": null,
   "id": "3811f62a",
   "metadata": {},
   "outputs": [],
   "source": []
  }
 ],
 "metadata": {
  "celltoolbar": "Slideshow",
  "kernelspec": {
   "display_name": "Python 3",
   "language": "python",
   "name": "python3"
  },
  "language_info": {
   "codemirror_mode": {
    "name": "ipython",
    "version": 3
   },
   "file_extension": ".py",
   "mimetype": "text/x-python",
   "name": "python",
   "nbconvert_exporter": "python",
   "pygments_lexer": "ipython3",
   "version": "3.7.10"
  },
  "varInspector": {
   "cols": {
    "lenName": 16,
    "lenType": 16,
    "lenVar": 40
   },
   "kernels_config": {
    "python": {
     "delete_cmd_postfix": "",
     "delete_cmd_prefix": "del ",
     "library": "var_list.py",
     "varRefreshCmd": "print(var_dic_list())"
    },
    "r": {
     "delete_cmd_postfix": ") ",
     "delete_cmd_prefix": "rm(",
     "library": "var_list.r",
     "varRefreshCmd": "cat(var_dic_list()) "
    }
   },
   "types_to_exclude": [
    "module",
    "function",
    "builtin_function_or_method",
    "instance",
    "_Feature"
   ],
   "window_display": false
  }
 },
 "nbformat": 4,
 "nbformat_minor": 5
}
