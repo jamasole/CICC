{
 "cells": [
  {
   "cell_type": "markdown",
   "id": "c9b6b035",
   "metadata": {},
   "source": [
    "<img   src=\"../figuras/logo/TalentQ_LogoPosNegro.png\" align=center  width=\"120\"/>\n",
    "<br>\n",
    "\n",
    "<table width=\"100%\">\n",
    "<td style=\"font-size:50px;font-style:italic;text-align:right;background-color:rgba(0, 160, 120,0.6)\">\n",
    "Desigualdades de Bell\n",
    "</td></table>\n",
    "\n",
    "\n",
    "\n",
    "$ \\newcommand{\\bra}[1]{\\langle #1|} $\n",
    "$ \\newcommand{\\ket}[1]{|#1\\rangle} $\n",
    "$ \\newcommand{\\braket}[2]{\\langle #1|#2\\rangle} $\n",
    "$ \\newcommand{\\i}{{\\color{blue} i}} $ \n",
    "$ \\newcommand{\\Hil}{{\\mathcal H}} $\n",
    "\n",
    "$ \\newcommand{\\bn}{{\\bf n}} $\n",
    "\n",
    "\n",
    "- [La desigualdad CSCH](#csch)\n",
    "\n",
    "\n",
    "- [El experimento GHZ](#ghz)"
   ]
  },
  {
   "cell_type": "code",
   "execution_count": 2,
   "id": "4e7ad5d4",
   "metadata": {},
   "outputs": [],
   "source": [
    "%run ../macro_CURSO.py"
   ]
  },
  {
   "cell_type": "markdown",
   "id": "0990f6d5",
   "metadata": {},
   "source": [
    "## Introducción "
   ]
  },
  {
   "cell_type": "markdown",
   "id": "5d5bfb5b",
   "metadata": {},
   "source": [
    "Las teorías con *realismo local* asumen que los valores que adquieren las magnitudes que se miden en un experimento *pertenecen* al sistema medido. \n",
    "\n",
    "Así, la posición de una partícula es algo bien definido aunque no lo estemos midiendo. \n",
    "\n",
    "La palabra *local* hace referencia a que ningún agente puede propagar su acción a mayor velocidad que la luz. Podría usarse la palabra *causal* en su lugar."
   ]
  },
  {
   "cell_type": "markdown",
   "id": "6d99c7e7",
   "metadata": {},
   "source": [
    "Como hemos visto al hablar del espín de un electrón, no es correcto decir que *la proyección del espín a lo largo del eje $\\hat{\\bf z}$ es $+\\hbar/2$*. Lo correcto es decir que, al medir la proyección sobre el eje $\\hat{\\bf z}$, la medida obtenida es $+\\hbar/2$.  Dicho de otro modo, el electrón *no tiene nada*. El valor $\\pm \\hbar/2$ se *adquiere* o *pone de manifiesto* al hacer una medida. De hecho, el resultado puede ser también $-\\hbar/2$ con una probabilidad fija.  \n",
    "\n",
    "En 1964  físico nor-irlandés John Bell, que trabajaba en el CERN,   [demostró](https://cds.cern.ch/record/111654/files/vol1p195-200_001.pdf) que todas las teorías que respetan el realismo local satisfacen ciertas desigualdades matemáticas. Por ejemplo, todas las magnitudes que evolucionan siguiendo las leyes de la física clásica las satisfacen.\n",
    "\n",
    "Por el contrario, John Bell mostró cómo, en Mecánica Cuántica, el proceso de medida incorpora correlaciones sutiles que permiten violar dichas desigualdades. La discusión pasó de ser puramente filosófica a ser objeto de investigación experimental. Ello culminó con el [experimento](https://journals.aps.org/prl/abstract/10.1103/PhysRevLett.49.1804) de Alain Aspect y colaboradores en 1982, en el cual se observó que la Mecánica Cuántica viola dichas desigualdades y, por tanto, no es una teoría con realismo local. \n",
    "\n",
    "La propuesta de John Bell dio pie a una familia de desigualdades que ponen en evidencia la imposibilidad de obtener ciertas correlaciones en un mundo clásico. \n",
    "\n",
    "\n",
    "En este capítulo vamos a examinar la desigualdad en la forma estudiada por Clauser, Horne, Shimony y Holt [CHSH](https://journals.aps.org/prl/abstract/10.1103/PhysRevLett.23.880).  \n",
    "\n",
    "Posteriormente estudiaremos el experimento de GHZ, el cuál, también pone de manifiesto las correlaciones sutiles que introduce el entrelazamiento de una forma mucho determinista, en lugad de estadística.\n",
    "\n"
   ]
  },
  {
   "cell_type": "markdown",
   "id": "666d27d0",
   "metadata": {},
   "source": [
    "## Perfecta anticorrelación\n",
    "\n",
    "Central en esta discusión es la presencia de entrelazamiento. Vamos a seleccionar el denominado *singlete* $\\ket{B_{11}}=\\frac{1}{\\sqrt{2}}(\\ket{01}-\\ket{10})$ de la Base de Bell.\n",
    "\n",
    "Supongamos que  Alice y Bob poseen sendos medidores de Stern Gerlach apuntando en la dirección $\\hat{\\bf z}$."
   ]
  },
  {
   "cell_type": "markdown",
   "id": "30c4a8a2",
   "metadata": {},
   "source": [
    "- Si Alice registra + el estado colapsa a $\\ket{01}$ y, por tanto, Bob solo podrá medir  $\\, -1$\n",
    "\n",
    "\n",
    "-  Si Alice registra - el estado colapsa a $\\ket{10}$ y, por tanto, Bob solo podrá medir  $\\, +1$"
   ]
  },
  {
   "cell_type": "markdown",
   "id": "77f6f480",
   "metadata": {},
   "source": [
    "En definitiva hay una anticorrelación perfecta que se pone de manifiesto en el valor medio del producto de las medidas. Si las mediciones de Alice y Bob son $a_i=\\pm 1\\Rightarrow b_i=\\mp 1$ respectivamente, el valor medio\n",
    "\n",
    "$$\n",
    "\\langle Z\\otimes Z\\rangle = \\frac{1}{N}\\sum_i a_i b_i = -1\n",
    "$$"
   ]
  },
  {
   "cell_type": "markdown",
   "id": "9091162e",
   "metadata": {},
   "source": [
    "Vamos a ver que la predicción teórica confirma este hecho.\n",
    "El estado $\\ket{B_{11}}$ ya es autoestado del observable asociado a dicha pareja\n",
    "\n",
    "$$\n",
    "Z\\otimes Z \\ket{B_{11}} = Z\\ket{0}Z\\ket{1} - Z\\ket{1}Z\\ket{0} = -\\ket{B_{11}}\n",
    "$$"
   ]
  },
  {
   "cell_type": "markdown",
   "id": "07b50746",
   "metadata": {},
   "source": [
    "Por tanto, el valor esperado ser podrá calcular com \n",
    "\n",
    "$$\n",
    " \\langle Z\\otimes Z\\rangle = \\bra{B_{11}}Z\\otimes Z\\,  \\ket{B_{11}}  = -\\braket{B_{11}}{B_{11}}= -1\\, .\n",
    "$$\n"
   ]
  },
  {
   "cell_type": "markdown",
   "id": "8e5b4525",
   "metadata": {},
   "source": [
    "<div class=\"alert alert-block alert-danger\">\n",
    "<b>Notar</b>\n",
    "<br>\n",
    "La anti correlación que hemos hallado parece natural y presente en un experimento clásico hecho con una bolsa que contiene dos calcetines de dos colores: si Alice saca el blanco, el que saca Bob tiene que ser negro.     \n",
    "    \n",
    "</div>\n",
    "\n"
   ]
  },
  {
   "cell_type": "markdown",
   "id": "c818feed",
   "metadata": {},
   "source": [
    "La cosa se pone más divertida cuando los dos polarizadores de Stern Gerlach no se orientan en la misma dirección.\n",
    "El observable asociado ahora a la dirección $\\hat{\\bf n}$  será  $\\hat{\\bf n}\\cdot \\boldsymbol{\\sigma}$. Aun así, la proyección del espín seguirá siendo $\\pm 1$\n",
    "\n",
    "<div class=\"alert alert-block alert-info\",text-align:center>\n",
    "<p style=\"text-align: left ;color: navy;\">  \n",
    "<b>Teorema</b>: \n",
    "<br>\n",
    "el valor medio del producto de las proyecciones de espín a lo largo de sendos ejes $\\hat{\\bf m}$ y $\\hat{\\bf n}$ viene dada por el coseno del ángulo $\\theta$  que forman los  ejes de los dos detectores \n",
    "<br>\n",
    "<br>    \n",
    "$$\n",
    "\\bra{B_{11}}(\\hat{\\bf m}\\cdot \\boldsymbol{\\sigma}\\otimes \\hat{\\bf n}\\cdot \\boldsymbol{\\sigma})\\ket{B_{11}}\n",
    "= - \\hat{\\bf m}\\cdot \\hat{\\bf n} = -\\cos \\theta\n",
    "$$\n",
    "</p>\n",
    "</div>\n",
    "\n",
    "<div class=\"alert alert-block alert-success\">\n",
    "<b>Ejercicio:</b> \n",
    "demuestra este resultado.\n",
    "</div>"
   ]
  },
  {
   "cell_type": "markdown",
   "id": "7c51b910",
   "metadata": {},
   "source": [
    "Cuando los ejes son paralelos recuperamos la  anticorrelación, independientemente de la dirección\n",
    "\n",
    "$$\n",
    "-\\hat{\\bf n}\\cdot \\hat{\\bf n} = - \\cos 0 = -1 \n",
    "$$\n",
    "\n",
    "La cosa se pone mucho más interesante cuando las direcciones de los detectores de Alice y Bob no coinciden.\n",
    "\n",
    "\n"
   ]
  },
  {
   "cell_type": "markdown",
   "id": "26a8928c",
   "metadata": {},
   "source": [
    "<a id='csch'></a>\n",
    "## La desigualdad de CSCH \n",
    "\n",
    "Enn 1970 Clauser, Horne, Shimony y Holt [CHSH](https://journals.aps.org/prl/abstract/10.1103/PhysRevLett.23.880) propusieron una versión simplificada del proceso que propugnaba John Bell. "
   ]
  },
  {
   "cell_type": "markdown",
   "id": "a3916335",
   "metadata": {},
   "source": [
    "La idea es que Alice y Bob pueden orientar sus detectores en *sendas direcciones  arbitrarias*. De este modo Alice elige dos direcciones $\\hat{\\bf n}_A, \\hat{\\bf n}'_A$  y Bob  otras dos $\\, \\hat{\\bf n}_B, \\hat{\\bf n}'_B.$. \n",
    "\n",
    "\n",
    "- Alice y Bob seleccionan una orientación, p. ej.  $\\hat{\\bf n}_A$ y $\\hat{\\bf n}_B$ para sus detectores. Hay cuatro parejas posibles.\n",
    "\n",
    "\n",
    "- Alice y Bob reciben un electrón cada uno de un par entrelazado en el estado $\\ket{B_{11}}$ y realizan la medida de la proyección del espín a lo largo del eje asociado y anotan la medición $(a,b)=(\\pm 1, \\pm 1)$ \n",
    "\n",
    "- Repiten el paso anterior un número $i=1,..., N$ grande de veces, y con los datos obtenidos $(a,b)=(\\pm 1, \\pm 1)$\n",
    "pueden reconstruir la cantidad\n",
    "\n",
    "$$\n",
    " C(\\hat{\\bf n}_A, \\hat{\\bf n}_B) = \\frac{1}{N}\\sum_{i=1}^N a_i b_i ~\\in~  [-1,1]\n",
    "$$\n",
    "\n",
    "- Repiten todo el proceso anterior para las cuatro posibles orientaciones y, finalmente calcula la cantidad $R$\n",
    "\n",
    "$$\n",
    "R = | C(\\hat{\\bf n}_A, \\hat{\\bf n}_B) +  C(\\hat{\\bf n}_A, \\hat{\\bf n}'_B) +  C(\\hat{\\bf n}'_A, \\hat{\\bf n}_B)-  C(\\hat{\\bf n}'_A, \\hat{\\bf n}'_B)|\n",
    "$$\n",
    "\n"
   ]
  },
  {
   "cell_type": "code",
   "execution_count": 3,
   "id": "69437ce4",
   "metadata": {},
   "outputs": [],
   "source": [
    "from qiskit import QuantumCircuit, Aer, execute\n",
    "\n",
    "from math import pi\n",
    "\n",
    "from qiskit.providers.aer import AerSimulator\n",
    "sim=AerSimulator()\n",
    "\n",
    "import matplotlib.pyplot as plt\n",
    "import numpy as np\n"
   ]
  },
  {
   "cell_type": "markdown",
   "id": "72b135a6",
   "metadata": {},
   "source": [
    "En un mundo clásico, supondríamos que los valores $a_i,b_i$ proceden de *valores predefinidos* para cada sistema individual, sobre el que efectuamos simplemente un promedio estadístico de muchos sistemas. Entonces podemos probar la **desigualdad de CSCH**\n",
    "\n",
    "<div class=\"alert alert-block alert-info\",text-align:center>\n",
    "<p style=\"text-align: left ;color: navy;\">  \n",
    "<b>Teorema</b>: \n",
    "La desigualdad de CSCH afirma que \n",
    "$$\n",
    "R \\leq 2\n",
    "$$\n",
    "<details>\n",
    "<summary><p style=\"text-align:right\"> >>Solución </p></summary>\n",
    "Es fácil ver que se cumple para cada colección $a_i,a'_i,b_i,b'_i \\in \\pm 1$ la desigualdad\n",
    "<br>\n",
    "<br>\n",
    "$$\n",
    "a_i (b_i +  b'_i) + a'_i (b_i -  b'_i) = \\pm 2\n",
    "$$\n",
    "<br>\n",
    "porque si $b_i +  b'_i=\\pm 2$ entonces $b_i - b'_i=0$ y viceversa. Ahora podemos demostrar la desigualdad \n",
    "\\begin{eqnarray}\n",
    "R &=& \\lim_{N\\to \\infty}|\\frac{1}{N} \\sum_{i=1}^N \\left( a_i b_i + a_i b'_i + a'_i b_i - a'_i b'_i\\right) | \\nonumber\\\\\n",
    "&=& \\lim_{N\\to \\infty}\\frac{1}{N}| \\sum_{i=1}^N  \\left( a_i (b_i +  b'_i) + a'_i (b_i -  b'_i)\\right)| \\nonumber\\\\\n",
    "&\\leq &  \\lim_{N\\to \\infty} \\frac{1}{N} \\sum_{i=1}^N  |\\left( a_i (b_i +  b'_i) + a'_i (b_i -  b'_i)\\right)| \\ \\nonumber\\\\\n",
    "&= &  \\lim_{N\\to \\infty} \\frac{1}{N} \\sum_{i=1}^N  2 \\ \\nonumber\\\\\n",
    "&=& 2\n",
    "\\end{eqnarray}\n",
    "</details>   \n",
    "</p></div>"
   ]
  },
  {
   "cell_type": "markdown",
   "id": "78bacb59",
   "metadata": {},
   "source": [
    "La Mecánica Cuántica nos proporciona una respuesta teórica para $R$ que sólo depende de los ángulos relativos $\\cos\\theta_{AB} = \\hat{\\bf n}_A\\cdot \\hat{\\bf n}_B$.\n",
    "\n",
    "$$\n",
    "R = | \\cos\\theta_{AB}  + \\cos \\theta_{A'B} + \\cos \\theta_{AB'}  - \\cos \\theta_{A'B'}|\\, .\n",
    "$$\n",
    "\n",
    "Ahora sólo hace falta jugar un poco con los detectores. Por ejemplo, podemos situarlos en el plano $(y,z)$, perpendicular al eje de propagación $x$, de manera que los vectores  $\\hat{\\bf n}'_A,\\hat{\\bf n}_{A},\\hat{\\bf n}_B$ y $\\hat{\\bf n}_B'$ estén ordenados correlativamente en sentido horario. Finalmente tomaremos\n",
    "dos ejes coincidentes $\\hat{\\bf n}_{A}=\\hat{\\bf n}_B$ paralelos $\\Rightarrow \\theta_{AB}=0$, y  dos ángulos iguales $\\theta_{AB'} = \\theta_{A'B} = \\varphi$ y $\\theta_{A'B'} = 2\\varphi$.  Así\n",
    "\n",
    "$$\n",
    "R = | 2 \\cos\\varphi  + 1- \\cos 2\\varphi|\\, .\n",
    "$$\n",
    "\n",
    "Derivando vemos que esta expresión alcanza su máximo cuando $\\sin\\varphi = \\sin 2\\varphi$ lo cual tiene solución $\\varphi = \\pi/3$. Sustituyendo encontramos $R= 2.5>2$. \n",
    " \n"
   ]
  },
  {
   "cell_type": "markdown",
   "id": "c414a8c5",
   "metadata": {},
   "source": [
    "Vamos a hacer una lista de ángulos relativos entre los dos polarizadores "
   ]
  },
  {
   "cell_type": "code",
   "execution_count": 18,
   "id": "65fab023",
   "metadata": {},
   "outputs": [],
   "source": [
    "# Angulos de medida\n",
    "rangephi=[0,2*pi] # Intervalo\n",
    "div=128 # Divisiones\n",
    "valphi=np.linspace(rangephi[0],rangephi[1],div) # Lista de angulos\n",
    "\n",
    "# Lista de correlaciones a calcular\n",
    "C=[0,0,0,0]\n",
    "\n",
    "# Lista de valores de R\n",
    "R=[0]*div\n",
    "\n",
    "# Numero de medidas\n",
    "N=2048\n",
    "\n",
    "for j in range(div):\n",
    "   \n",
    "    # Angulos de medida\n",
    "    phi=valphi[j]\n",
    "    angmed=[[0,phi],[2*phi,phi],[0,0],[2*phi,0]]\n",
    "\n",
    "    for i in range(4):\n",
    "\n",
    "        ang=angmed[i]\n",
    "\n",
    "        qc=QuantumCircuit(2,2)\n",
    "\n",
    "        'creamos el par de Bell B(11)'\n",
    "        qc.x(0)\n",
    "        qc.x(1)\n",
    "        qc.h(0)\n",
    "        qc.cx(0,1)\n",
    "        \n",
    "        'rotamos los polarizadores en torno al eje x'\n",
    "        qc.rx(ang[0],0)\n",
    "        qc.rx(ang[1],1)\n",
    "\n",
    "        'medimos ambas proyecciones'\n",
    "        qc.measure([0,1],[0,1])\n",
    "   \n",
    "        job=sim.run(qc,shots=N)\n",
    "        result=job.result()\n",
    "        counts=result.get_counts()\n",
    "   \n",
    "        if '01' not in counts:\n",
    "            counts['01']=0\n",
    "        if '10' not in counts:\n",
    "            counts['10']=0\n",
    "        if '00' not in counts:\n",
    "            counts['00']=0\n",
    "        if '11' not in counts:\n",
    "            counts['11']=0\n",
    "   \n",
    "        sum=-counts['01']-counts['10']+counts['00']+counts['11']\n",
    "        C[i]=sum/N\n",
    "\n",
    "    R[j]=abs(C[0]+C[1]+C[2]-C[3])\n"
   ]
  },
  {
   "cell_type": "markdown",
   "id": "a8a697e2",
   "metadata": {},
   "source": [
    "Podemos graficarlo y compararlo con el valor analítico"
   ]
  },
  {
   "cell_type": "code",
   "execution_count": 19,
   "id": "bb21107d",
   "metadata": {
    "scrolled": true
   },
   "outputs": [
    {
     "data": {
      "image/png": "[encoded data removed]",
      "text/plain": [
       "<Figure size 432x288 with 1 Axes>"
      ]
     },
     "metadata": {
      "needs_background": "light"
     },
     "output_type": "display_data"
    }
   ],
   "source": [
    "   \n",
    "fx=abs(2*np.cos(valphi)+1-np.cos(2*valphi))\n",
    "plt.plot(valphi,fx,'k-',linewidth=1)\n",
    "plt.plot(valphi,R,'.')\n",
    "plt.xlabel('\\phi')\n",
    "plt.ylabel('R')\n",
    "plt.show()"
   ]
  },
  {
   "cell_type": "markdown",
   "id": "3de880bf",
   "metadata": {},
   "source": [
    "# El experimento GZH"
   ]
  },
  {
   "cell_type": "code",
   "execution_count": null,
   "id": "62ef2780",
   "metadata": {},
   "outputs": [],
   "source": []
  }
 ],
 "metadata": {
  "kernelspec": {
   "display_name": "Python 3",
   "language": "python",
   "name": "python3"
  },
  "language_info": {
   "codemirror_mode": {
    "name": "ipython",
    "version": 3
   },
   "file_extension": ".py",
   "mimetype": "text/x-python",
   "name": "python",
   "nbconvert_exporter": "python",
   "pygments_lexer": "ipython3",
   "version": "3.7.10"
  },
  "varInspector": {
   "cols": {
    "lenName": 16,
    "lenType": 16,
    "lenVar": 40
   },
   "kernels_config": {
    "python": {
     "delete_cmd_postfix": "",
     "delete_cmd_prefix": "del ",
     "library": "var_list.py",
     "varRefreshCmd": "print(var_dic_list())"
    },
    "r": {
     "delete_cmd_postfix": ") ",
     "delete_cmd_prefix": "rm(",
     "library": "var_list.r",
     "varRefreshCmd": "cat(var_dic_list()) "
    }
   },
   "types_to_exclude": [
    "module",
    "function",
    "builtin_function_or_method",
    "instance",
    "_Feature"
   ],
   "window_display": false
  }
 },
 "nbformat": 4,
 "nbformat_minor": 5
}
