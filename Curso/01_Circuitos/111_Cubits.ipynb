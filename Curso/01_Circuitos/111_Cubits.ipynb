{
 "cells": [
  {
   "cell_type": "markdown",
   "id": "6949f287",
   "metadata": {
    "slideshow": {
     "slide_type": "slide"
    }
   },
   "source": [
    "<img   src=\"../figuras/logo/TalentQ_LogoPosNegro.png\" align=center  width=\"120\"/>\n",
    "<br>\n",
    "\n",
    "<table width=\"100%\">\n",
    "<td style=\"font-size:50px;font-style:italic;text-align:right;background-color:rgba(0, 160, 120,0.6)\">\n",
    "Cúbits\n",
    "</td></table>\n",
    "\n",
    "\n",
    "\n",
    "$ \\newcommand{\\bra}[1]{\\langle #1|} $\n",
    "$ \\newcommand{\\ket}[1]{|#1\\rangle} $\n",
    "$ \\newcommand{\\braket}[2]{\\langle #1|#2\\rangle} $\n",
    "$ \\newcommand{\\i}{{\\color{blue} i}} $ \n",
    "$ \\newcommand{\\Hil}{{\\mathcal H}} $\n",
    "\n",
    "$ \\newcommand{\\bn}{{\\bf n}} $\n"
   ]
  },
  {
   "cell_type": "markdown",
   "id": "59acc1d1",
   "metadata": {},
   "source": [
    "\n",
    "- [Definición, base computacional](#dirac)\n",
    "\n",
    "\n",
    "-  [Esfera de Bloch](#esfbloch)\n",
    "\n",
    "\n",
    "-  [Registro cuántico](#circuitcubit)\n",
    "\n",
    "\n"
   ]
  },
  {
   "cell_type": "code",
   "execution_count": null,
   "id": "009f92eb",
   "metadata": {
    "slideshow": {
     "slide_type": "slide"
    }
   },
   "outputs": [],
   "source": [
    "%run ../macro_CURSO.py"
   ]
  },
  {
   "cell_type": "markdown",
   "id": "ba433640",
   "metadata": {
    "heading_collapsed": true,
    "slideshow": {
     "slide_type": "slide"
    }
   },
   "source": [
    "<a id='dirac'></a>\n",
    "<table width=\"100%\">\n",
    "    <td style=\"font-size:30px;font-family:Helvetica;text-align:left;background-color:rgba(12, 43, 337, 0.3);\">\n",
    "<b>Definición, base computacional</b>\n",
    "</table>   "
   ]
  },
  {
   "cell_type": "markdown",
   "id": "2d54c72b",
   "metadata": {
    "hidden": true,
    "slideshow": {
     "slide_type": "slide"
    }
   },
   "source": [
    "Un *bit* es una variable  real $a$ que puede tomar valores en $ {\\mathbb Z}_2= \\{0, 1\\}$.\n",
    "\n",
    "<div class=\"alert alert-block alert-info\",text-align:center>\n",
    "<p style=\"text-align: left ;color: navy;\">  \n",
    "    <b> Definición</b>: un cúbit es un <i>espacio de Hilbert</i> complejo de dimensión dos, $~\\ket{v}~\\in~\\Hil \\sim {\\mathbb C}^2$ \n",
    "</p></div>"
   ]
  },
  {
   "cell_type": "markdown",
   "id": "c084e449",
   "metadata": {
    "slideshow": {
     "slide_type": "fragment"
    }
   },
   "source": [
    "\n",
    "- un bit es una variable discreta (digitalizada). Un cúbit es una variable continua (analógica). La digitalización de la computación cuántica ocurre en el momento de la medida. \n"
   ]
  },
  {
   "cell_type": "markdown",
   "id": "af720e29",
   "metadata": {
    "slideshow": {
     "slide_type": "fragment"
    }
   },
   "source": [
    "- Cualquier sistema  cuyo estado instantáneo se pueda describir mediante un vector $\\ket{v}\\in {\\mathbb C}^2$ puede albergar físicamente un *cúbit*. \n",
    "<br>\n",
    "<br>\n",
    "A efectos prácticos,  se trata de sistemas que pueden estar y conmutar entre dos niveles de energía bien definidos de manera controlada.\n",
    "\n"
   ]
  },
  {
   "cell_type": "markdown",
   "id": "d760ebab",
   "metadata": {
    "slideshow": {
     "slide_type": "fragment"
    }
   },
   "source": [
    "- Un *cútrit* es un espacio de Hilbert de dimensión $3$, un *cúdit* de dimensión $d$.\n"
   ]
  },
  {
   "cell_type": "markdown",
   "id": "9dcf9447",
   "metadata": {
    "hidden": true,
    "slideshow": {
     "slide_type": "slide"
    }
   },
   "source": [
    "### Bases \n",
    "\n",
    "**Base computacional** \n",
    "\n",
    "Para representar vectores de estado  $\\ket{u}\\in \\Hil$ necesitamos una *base*  formada por dos vectores ortonormales. \n",
    "\n",
    "La base que usaremos   $B=\\{\\ket{0},\\ket{1}\\}$ y se denomina *base computacional*."
   ]
  },
  {
   "cell_type": "markdown",
   "id": "7b808afa",
   "metadata": {
    "slideshow": {
     "slide_type": "fragment"
    }
   },
   "source": [
    "**Otras bases**\n",
    "\n",
    "Una manera de especificar una base es decir cuál es el operador que diagonaliza. Por ejemplo, la base computacional también recibe el nombre de base Z.\n",
    " \n",
    " \n",
    "- Base $Z$ (base computacional) \n",
    "     $$\n",
    "    \\begin{array}{rclcl}\n",
    "    \\ket{0}_Z ~~\\equiv ~~\\ket{0} &\\sim& \\begin{bmatrix}  1\\\\ 0\\end{bmatrix} \\\\\n",
    "    \\ket{1}_Z ~~\\equiv~~\\ket{1} &\\sim&  \\begin{bmatrix}  0\\\\ 1\\end{bmatrix}\n",
    "    \\end{array}\n",
    "    $$\n",
    "    \n",
    "    Esta base la forman autoestados del operador $Z= \\sigma_z = \\begin{bmatrix} 1& 0 \\\\ 0 & -1 \\end{bmatrix}$ con autovalores $\\pm 1$."
   ]
  },
  {
   "cell_type": "markdown",
   "id": "c0c5a130",
   "metadata": {
    "slideshow": {
     "slide_type": "slide"
    }
   },
   "source": [
    "- Base $X$ \n",
    "    $$\n",
    "    \\begin{array}{rclcl}\n",
    "    \\ket{0}_X ~~\\equiv ~~\\ket{+} &=& \\frac{1}{\\sqrt{2}}(|0\\rangle+|1\\rangle) &=  & \\frac{1}{\\sqrt{2}}\\begin{bmatrix}\n",
    "    1\\\\ 1\\end{bmatrix} \\\\\n",
    "    \\ket{1}_X ~~\\equiv~~\\ket{-} &=&  \\frac{1}{\\sqrt{2}}(|0\\rangle-|1\\rangle) &=& \\frac{1}{\\sqrt{2}}\\begin{bmatrix}\n",
    "    1\\\\ -1\\end{bmatrix}\n",
    "    \\end{array}\n",
    "    $$\n",
    "    \n",
    "    Esta base la forman autoestados del operador $X= \\sigma_x = \\begin{bmatrix} 0& 1 \\\\ 1 & 0 \\end{bmatrix}$ con autovalores $\\pm 1$."
   ]
  },
  {
   "cell_type": "markdown",
   "id": "b7c9529f",
   "metadata": {
    "hidden": true,
    "slideshow": {
     "slide_type": "fragment"
    }
   },
   "source": [
    "- Base $Y$\n",
    "$$\n",
    "    \\begin{array}{rclcl}\n",
    "    \\ket{0}_Y ~~\\equiv ~~\\ket{+i} &=& \\frac{1}{\\sqrt{2}}(|0\\rangle+i |1\\rangle) &=  & \\frac{1}{\\sqrt{2}}\\begin{bmatrix}\n",
    "   1\\\\ i \\end{bmatrix} \\\\\n",
    "    \\ket{1}_Y ~~\\equiv~~\\ket{-i} &=&  \\frac{1}{\\sqrt{2}}(|0\\rangle-i |1\\rangle) &=& \\frac{1}{\\sqrt{2}}\\begin{bmatrix}\n",
    "     1 \\\\-i \\end{bmatrix}\n",
    "    \\end{array}\n",
    "$$\n",
    "<br>\n",
    "Esta base la forman autoestados del operador $Y=\\sigma_y =  \\begin{bmatrix} 0& -i \\\\ i & 0 \\end{bmatrix}$ con autovalores $\\pm 1$."
   ]
  },
  {
   "cell_type": "markdown",
   "id": "ac09ef44",
   "metadata": {
    "slideshow": {
     "slide_type": "fragment"
    }
   },
   "source": [
    "<div class=\"alert alert-block alert-success\">\n",
    "<b>Ejercicio:</b> \n",
    "Escribe las matrices de cambio de la base $Z\\to X$, $Z\\to Y$ y $X\\to Y$.\n",
    "</div>"
   ]
  },
  {
   "cell_type": "markdown",
   "id": "7b76f08b",
   "metadata": {
    "slideshow": {
     "slide_type": "slide"
    }
   },
   "source": [
    "<a id=\"esfbloch\"></a>\n",
    "<table width=\"100%\">\n",
    "    <td style=\"font-size:30px;font-family:Helvetica;text-align:left;background-color:rgba(12, 43, 337, 0.3);\">\n",
    "<b>Esfera de Bloch </b>\n",
    "</table>   \n"
   ]
  },
  {
   "cell_type": "markdown",
   "id": "71a64dba",
   "metadata": {
    "slideshow": {
     "slide_type": "slide"
    }
   },
   "source": [
    "En un *bit clásico* sólo podemos almacenar un valor 0 ó 1. \n",
    "\n",
    "¿Cuánta información puede almacenar un *cúbit*? \n"
   ]
  },
  {
   "cell_type": "markdown",
   "id": "a4811f7d",
   "metadata": {
    "slideshow": {
     "slide_type": "fragment"
    }
   },
   "source": [
    "Un cúbit general será de la forma $\\ket{u} = a\\ket{0} + b\\ket{1}$ donde $a$ y $b$ son dos números complejos, es decir cuatro números reales. "
   ]
  },
  {
   "cell_type": "markdown",
   "id": "b56cbb76",
   "metadata": {
    "slideshow": {
     "slide_type": "fragment"
    }
   },
   "source": [
    "Sin embargo, están sometidos a la ligadura $|a|^2+|b|^2=1$, lo que nos deja  tres grados de libertad reales. \n",
    "\n",
    "Pero uno de ellos es una fase global que no tiene significado. "
   ]
  },
  {
   "cell_type": "markdown",
   "id": "10fb6816",
   "metadata": {
    "slideshow": {
     "slide_type": "fragment"
    }
   },
   "source": [
    "Por tanto el *número de grados de libertad (reales) en un cúbit es 2.*\n"
   ]
  },
  {
   "cell_type": "markdown",
   "id": "cadc9931",
   "metadata": {
    "slideshow": {
     "slide_type": "fragment"
    }
   },
   "source": [
    "<div class=\"alert alert-block alert-info\">\n",
    "<p style=\"text-align:left ;color: navy;\">  \n",
    "<b> Lema </b>:\n",
    "<br>    \n",
    "El cúbit $\\ket{u}$  <i> más general</i> se puede representar, en la base computacional $\\{\\ket{0},\\ket{1}\\}$, usando dos números reales (ángulos) $\\theta\\in [0,\\pi)$ y $\\varphi\\in [0,2\\pi)$   \n",
    "<br>\n",
    "<br>\n",
    "$$\n",
    "|u\\rangle = \\cos{\\frac{\\theta}{2}}\\, |0\\rangle + e^{i\\phi}\\sin{\\frac{\\theta}{2}}\\,|1\\rangle \n",
    "$$\n",
    "</p>\n",
    "<details>\n",
    "<summary><p style=\"text-align:right\"> >> Demostración -</p></summary>\n",
    "\n",
    "Para demostrar el lema escribimos un vector de estado general usando la representación polar para las componentes complejas\n",
    "    \n",
    "$$\n",
    "\\begin{array}{rcl}\n",
    "\\ket{u} &=& u_0\\ket{0} + u_1\\ket{1} \\\\\n",
    "&=& a_0 e^{i b_0}\\ket{0} + a_1 e^{ib_1}\\ket{1}\\\\\n",
    "&=& e^{i b_0}\\big(a_0 \\ket{0} + a_1 e^{i(b_1-b_0)}\\ket{1}\\big)\\\\\n",
    "&\\sim & \\big( a_0 \\ket{0} + a_1 e^{i(b_1-b_0)}\\ket{1} \\big)\n",
    "\\end{array}\n",
    "$$\n",
    "    \n",
    "donde hemos hecho uso de la irrelevancia de una fase global para descartar $e^{i b_0}$ en la última línea.\n",
    "\n",
    "Ahora $a_1$ y $a_0$ no son números independientes sino que verifican $a_0^2 + a_1^2 = 0$ para que $\\|\\ket{u}\\|=1$.\n",
    "Esta ecuación se puede resolver en términos de un ángulo $\\theta/2$ tal que\n",
    "$$\n",
    "a_0 = \\cos\\frac{\\theta}{2}~~~,~~~ a_1 = \\sin\\frac{\\theta}{2} \n",
    "$$\n",
    "Por su parte, de los números $b_1, b_2$ sólo la diferencia\n",
    "$$\n",
    "\\varphi = b_1-b_2\n",
    "$$\n",
    "es relevante para especificar $\\ket{u}$.   \n",
    "</details></div>  \n"
   ]
  },
  {
   "cell_type": "markdown",
   "id": "eb4f5c18",
   "metadata": {
    "slideshow": {
     "slide_type": "slide"
    }
   },
   "source": [
    " En componentes escribimos equivalentemente\n",
    "$$\n",
    "|u\\rangle ~\\sim ~~\n",
    "\\begin{bmatrix} \\cos\\displaystyle\\frac{\\theta}{2} \\\\  e^{i\\varphi} \\sin \\displaystyle\\frac{\\theta}{2} \\end{bmatrix}\n",
    "$$"
   ]
  },
  {
   "cell_type": "markdown",
   "id": "a11dff98",
   "metadata": {
    "slideshow": {
     "slide_type": "fragment"
    }
   },
   "source": [
    "El rango de $\\theta\\in [0,\\pi)$ y $\\varphi\\in [0,2\\pi)$ permite interpretar estos números reales como *ángulos sobre la esfera unidad*. Dicho de otro modo, podemos representar  cada estado de un cúbit como un *punto* sobre una esfera de radio unidad: la *esfera de Bloch*. \n",
    "<br>\n",
    "-  $\\theta\\in(0,\\pi)$ el ángulo *azimutal* se mide desde el eje $Z$. De modo que $\\theta=\\pi/2$ es el *ecuador \n",
    "de la esfera de Bloch*.\n",
    "<br>\n",
    "\n",
    "-  $\\phi\\in (0,2\\pi)$ el ángulo *polar*  en torno al eje $Z$, medido a partir del plano $XZ$\n",
    "\n",
    "<div>\n",
    "<img src=\"images/BlochSphere.png\" width=\"300\"/>\n",
    "</div>\n"
   ]
  },
  {
   "cell_type": "markdown",
   "id": "d26c1602",
   "metadata": {
    "slideshow": {
     "slide_type": "slide"
    }
   },
   "source": [
    "### Vectores en la Esfera de Bloch: visualizaciones\n",
    "<br>\n",
    "\n",
    "- [Visualizador java](https://javafxpert.github.io/grok-bloch/?fbclid=IwAR1lWfCug1lfTXxXenaJxnsdJh2g3he6lBJmjnjL_Jus0gOHR9u3UuaT7qs)\n",
    "\n",
    "\n",
    "-  La clase <a href=https://qiskit.org/documentation/stubs/qiskit.quantum_info.Statevector.html>statevector</a> en *qiskit* cuenta con un *visualizador* de la esfera de Bloch. La clase  acepta una lista de dos números complejos como componentes de un vector. \n",
    "<br>\n",
    "<br>\n",
    "Lamentablemente no avisa si este vector está normalizado o no. Por eso, incluimos una función que genera el vector normalizado a partir de los ángulos $\\theta$ y $\\phi$. \n",
    "\n"
   ]
  },
  {
   "cell_type": "code",
   "execution_count": null,
   "id": "ef4d3168",
   "metadata": {
    "slideshow": {
     "slide_type": "fragment"
    }
   },
   "outputs": [],
   "source": [
    "from qiskit.quantum_info import Statevector\n",
    "from qiskit.visualization import plot_bloch_multivector, array_to_latex  \n",
    "\n",
    "# Ejemplo de vector de estado |+> \n",
    "e_mas =[1/np.sqrt(2),1/np.sqrt(2)]\n",
    "\n",
    "\n",
    "Statevector(e_mas).draw('latex')"
   ]
  },
  {
   "cell_type": "code",
   "execution_count": null,
   "id": "f7c234c4",
   "metadata": {
    "slideshow": {
     "slide_type": "fragment"
    }
   },
   "outputs": [],
   "source": [
    "Statevector(e_mas).draw('Bloch')"
   ]
  },
  {
   "cell_type": "markdown",
   "id": "03e69cb5",
   "metadata": {
    "slideshow": {
     "slide_type": "slide"
    }
   },
   "source": [
    "Esta rutina introduce dos ángulos $\\theta\\in(0,\\pi)$ y $\\phi\\in(0,2\\pi)$ y devuelve el vector de Bloch \n",
    "\n",
    "$$\n",
    "|u\\rangle = \\cos{\\frac{\\theta}{2}}\\, |0\\rangle + e^{i\\phi}\\sin{\\frac{\\theta}{2}}\\,|1\\rangle \n",
    "$$\n"
   ]
  },
  {
   "cell_type": "code",
   "execution_count": null,
   "id": "2ec51c23",
   "metadata": {
    "slideshow": {
     "slide_type": "fragment"
    }
   },
   "outputs": [],
   "source": [
    "#theta = (float(input(\"Ángulo theta(°): \")))*np.pi/(180)\n",
    "#phi = (float(input(\"Ángulo phi(°): \")))*np.pi/(180)\n",
    "\n",
    "theta = 1.9\n",
    "phi   = 0.8\n",
    "\n",
    "u0 = np.cos(theta/2)\n",
    "u1 = (np.exp(1j*phi))*np.sin(theta/2)\n",
    "\n",
    "uket = [u0,u1]\n",
    "\n",
    "Statevector(uket).draw('latex')"
   ]
  },
  {
   "cell_type": "code",
   "execution_count": null,
   "id": "00a95f5e",
   "metadata": {
    "slideshow": {
     "slide_type": "fragment"
    }
   },
   "outputs": [],
   "source": [
    "Statevector(uket).draw('Bloch')"
   ]
  },
  {
   "cell_type": "markdown",
   "id": "bd00c0af",
   "metadata": {
    "slideshow": {
     "slide_type": "slide"
    }
   },
   "source": [
    "### Casos particulares\n",
    "<br>\n",
    "\n",
    "\n",
    "  \n",
    "-   $(\\theta,\\phi) = (0,0) \\Rightarrow  \\ket{0}_Z = \\ket{0}$ \n",
    "\n",
    "\n",
    "\n",
    "\n",
    "  \n",
    "-   $(\\theta,\\phi) = (\\pi,\\phi)  \\Rightarrow  e^{i\\phi}\\ket{1}_Z = \\ket{1}$\n",
    "  \n",
    "  \n",
    " \n",
    "<div>\n",
    "<img src=\"images/BlochSphere.png\" width=\"200\"/>\n",
    "</div>\n"
   ]
  },
  {
   "cell_type": "markdown",
   "id": "c4425bd0",
   "metadata": {
    "slideshow": {
     "slide_type": "fragment"
    }
   },
   "source": [
    " \n",
    " \n",
    "-   $(\\theta,\\phi) = (\\pi/2,0)  \\Rightarrow  \\frac{1}{\\sqrt{2}}\\big(|0\\rangle+|1\\rangle \\big) =\\ket{0}_X \\equiv |+\\rangle$\n",
    "  \n",
    "  \n",
    "  \n",
    "-   $(\\theta,\\phi) = (\\pi/2,\\pi) \\Rightarrow  \\frac{1}{\\sqrt{2}}\\big(|0\\rangle-|1\\rangle \\big)=\\ket{1}_X \\equiv |-\\rangle$\n"
   ]
  },
  {
   "cell_type": "markdown",
   "id": "34754b17",
   "metadata": {
    "slideshow": {
     "slide_type": "fragment"
    }
   },
   "source": [
    "\n",
    "\n",
    "-   $(\\theta,\\phi) = (\\pi/2,\\pi/2) \\Rightarrow |u\\rangle =\\frac{1}{\\sqrt{2}}\\big(|0\\rangle+i|1\\rangle\\big) =\\ket{0}_Y \\equiv  |+i\\rangle$\n",
    "\n",
    "\n",
    "\n",
    "-   $(\\theta,\\phi) = (\\pi/2,3\\pi/2) \\Rightarrow |u\\rangle = \\frac{1}{\\sqrt{2}}\\big(|0\\rangle-i|1\\rangle\\big) = \\ket{1}_Y \\equiv  |-i\\rangle$\n",
    "\n",
    "\n"
   ]
  },
  {
   "cell_type": "markdown",
   "id": "d73564d0",
   "metadata": {
    "slideshow": {
     "slide_type": "slide"
    }
   },
   "source": [
    "<a id='circuitcubit'></a>\n",
    "<table width=\"100%\">\n",
    "    <td style=\"font-size:30px;font-family:Helvetica;text-align:left;background-color:rgba(12, 43, 337, 0.3);\">\n",
    "<b>Registro cuántico </b>\n",
    "</table>   "
   ]
  },
  {
   "cell_type": "markdown",
   "id": "9b864f16",
   "metadata": {
    "slideshow": {
     "slide_type": "slide"
    }
   },
   "source": [
    "Un *registro cuántico* contiene la *evolución temporal* de un cúbit.  \n",
    "\n",
    "\n",
    "<br>\n",
    "<div>\n",
    "<img   src=\"images/q_register.png\"  width=\"350\"/>\n",
    "</div>\n",
    "<br>"
   ]
  },
  {
   "cell_type": "code",
   "execution_count": null,
   "id": "f9168a3f",
   "metadata": {
    "slideshow": {
     "slide_type": "fragment"
    }
   },
   "outputs": [],
   "source": [
    "'podemos inicializar un registro cuántico en un estado |q> arbitrario usando el método initialize()'\n",
    "\n",
    "from qiskit import QuantumCircuit, QuantumRegister\n",
    "\n",
    "qr = QuantumRegister(1,name='qname')\n",
    "qc = QuantumCircuit(qr)\n",
    "\n",
    "estado_inicial= uket\n",
    "\n",
    "qc.initialize(uket,qr)\n",
    "qc.draw(output='mpl')"
   ]
  },
  {
   "cell_type": "markdown",
   "id": "c0b467f6",
   "metadata": {
    "slideshow": {
     "slide_type": "slide"
    }
   },
   "source": [
    "### Medidas\n",
    "\n",
    "Mientras no se efectúe una medida, en una situación ideal, el estado del cúbit mantiene su coherencia. \n",
    " \n",
    "\n",
    "El aparato de medida estándar en computación cuántica tiene a $\\ket{0}$ y $\\ket{1}$ como autoestados. \n",
    "\n"
   ]
  },
  {
   "cell_type": "markdown",
   "id": "b45e9840",
   "metadata": {
    "slideshow": {
     "slide_type": "fragment"
    }
   },
   "source": [
    "A la obtención de uno de estos dos estados le asociamos el bit clásico con valores respectivos $0$ y $1$.\n",
    "<br>\n",
    "<br>\n",
    "Por lo general, asumimos que la medida destruye el estado. \n",
    "<br>\n",
    "<br>\n",
    "<div>\n",
    "<img src=\"images/cubit_meter2.jpg\" width=\"350\"/>\n",
    "</div>"
   ]
  },
  {
   "cell_type": "code",
   "execution_count": null,
   "id": "6db5b226",
   "metadata": {
    "slideshow": {
     "slide_type": "fragment"
    }
   },
   "outputs": [],
   "source": [
    "from qiskit import QuantumCircuit, QuantumRegister, ClassicalRegister\n",
    "import numpy as np\n",
    "\n",
    "qr = QuantumRegister(1,name='q')\n",
    "cr = ClassicalRegister(1,name='c')\n",
    "\n",
    "'''definimos un estado dando la lista de componentes'''\n",
    "e_mas = [1/np.sqrt(2), 1/np.sqrt(2)]\n",
    "\n",
    "'''creamos un circuito que inicializa el estado'''\n",
    "qc = QuantumCircuit(qr,cr)\n",
    "qc.initialize(e_mas,qr)\n",
    "\n",
    "'''y le añadimos una instrucción de medida que registre un bit clásico {0,1} a partir del resultado de medida'''\n",
    "qc.measure(qr[0],cr[0])\n",
    "\n",
    "'''vamos a ver el circuito'''\n",
    "qc.draw(output='mpl')"
   ]
  },
  {
   "cell_type": "markdown",
   "id": "12e9e36a",
   "metadata": {
    "slideshow": {
     "slide_type": "slide"
    }
   },
   "source": [
    "### Medida mediante simulación \n",
    "\n",
    "**qasm_simulator** es un programa clásico que simula un circuito cuántico a partir de las leyes de la Mecánica Cuántica. \n",
    "\n",
    "El resultado de un circuito calculado con *qasm_simulator* sólo se puede obtener mediante un aparato de medida que, usado repetidas veces nos permitirá reconstruir el estado de manera estadística."
   ]
  },
  {
   "cell_type": "code",
   "execution_count": null,
   "id": "3f714bd2",
   "metadata": {
    "slideshow": {
     "slide_type": "fragment"
    }
   },
   "outputs": [],
   "source": [
    "from qiskit import Aer, execute, transpile \n",
    "M_simulator = Aer.get_backend('qasm_simulator')\n",
    "\n",
    "# opción A: execute\n",
    "#job=execute(qc,backend=M_simulator,shots=2048) # Hacemos la simulación 2048 veces )\n",
    "\n",
    "#opción B: transpile\n",
    "qcobj = transpile(qc, M_simulator )      # Crea un objeto compilado a partir del circuito  \n",
    "job = M_simulator.run(qcobj, shots=2048) # Hacemos la simulación 2048 veces \n",
    "\n",
    "#result \n",
    "resultado=job.result()\n",
    "\n",
    "frecuencias= resultado.get_counts()      # y la estadística          \n",
    "print(frecuencias)"
   ]
  },
  {
   "cell_type": "markdown",
   "id": "8578df82",
   "metadata": {},
   "source": [
    "Visualizamos la distribución de probabilidad como el histograma de la"
   ]
  },
  {
   "cell_type": "code",
   "execution_count": null,
   "id": "fc080fb9",
   "metadata": {
    "slideshow": {
     "slide_type": "fragment"
    }
   },
   "outputs": [],
   "source": [
    "from qiskit.tools.visualization import plot_histogram\n",
    "plot_histogram(frecuencias) # Mostramos un histograma de resultados"
   ]
  },
  {
   "cell_type": "markdown",
   "id": "686fa48d",
   "metadata": {
    "slideshow": {
     "slide_type": "slide"
    }
   },
   "source": [
    "podemos pasar a probabilidades normalizando la distribución de frecuencias"
   ]
  },
  {
   "cell_type": "code",
   "execution_count": null,
   "id": "b47063df",
   "metadata": {
    "slideshow": {
     "slide_type": "fragment"
    }
   },
   "outputs": [],
   "source": [
    "def probabilidades(frecuencias): # counts es un diccionario con la estadística de resultados\n",
    "    N=sum([v for v in frecuencias.values()])\n",
    "    prob_dist = [v/N for v in frecuencias.values()] # this is a list\n",
    "    if len(prob_dist) == 1:  # we are two amplitudes (one qubit), so in this case, pad with a 0\n",
    "        prob_dist.append(0)\n",
    "    return prob_dist\n",
    "\n",
    "prob_dist = np.round(probabilidades(frecuencias),3)\n",
    "Display(\"Probabilidades = %s\"%prob_dist)"
   ]
  },
  {
   "cell_type": "markdown",
   "id": "7ea64094",
   "metadata": {
    "slideshow": {
     "slide_type": "slide"
    }
   },
   "source": [
    "#### Ejecución real"
   ]
  },
  {
   "cell_type": "markdown",
   "id": "a898b755",
   "metadata": {
    "slideshow": {
     "slide_type": "fragment"
    }
   },
   "source": [
    "Una vez que hemos verificado que el programa corre bien en nuestro simulador, podemos lanzarlo a un ordenador cuántico real sin más que cambiar el *backend*."
   ]
  },
  {
   "cell_type": "code",
   "execution_count": null,
   "id": "a39d2a14",
   "metadata": {
    "slideshow": {
     "slide_type": "fragment"
    }
   },
   "outputs": [],
   "source": [
    "from qiskit import IBMQ\n",
    "IBMQ.load_account()\n",
    "provider = IBMQ.get_provider(hub='ibm-q')\n",
    "provider.backends()"
   ]
  },
  {
   "cell_type": "markdown",
   "id": "0f10ddaa",
   "metadata": {
    "slideshow": {
     "slide_type": "slide"
    }
   },
   "source": [
    "antes de enviar un trabajo es conveniente consultar qué máquina de las adecuadas a nuestras necesidades es la que está más libre"
   ]
  },
  {
   "cell_type": "code",
   "execution_count": null,
   "id": "d8f5c0f2",
   "metadata": {
    "slideshow": {
     "slide_type": "fragment"
    }
   },
   "outputs": [],
   "source": [
    "from qiskit.providers.ibmq import least_busy\n",
    "IBMQ_best_backend = least_busy(provider.backends(filters=lambda x: x.configuration().n_qubits >= 1 \n",
    "                                       and not x.configuration().simulator \n",
    "                                       and x.status().operational==True))\n",
    "print(\"least busy backend: \", IBMQ_best_backend)"
   ]
  },
  {
   "cell_type": "markdown",
   "id": "63986bf2",
   "metadata": {
    "slideshow": {
     "slide_type": "fragment"
    }
   },
   "source": [
    "Ahora compilamos y enviamos el trabajo"
   ]
  },
  {
   "cell_type": "code",
   "execution_count": null,
   "id": "c4c717ee",
   "metadata": {
    "slideshow": {
     "slide_type": "fragment"
    }
   },
   "outputs": [],
   "source": [
    "qobj = transpile(qc, IBMQ_best_backend)           # Compila el código para el backend\n",
    "job = IBMQ_best_backend.run(qobj, shots=1024) # Hacemos la simulación 1024 veces "
   ]
  },
  {
   "cell_type": "markdown",
   "id": "5e31f683",
   "metadata": {
    "slideshow": {
     "slide_type": "slide"
    }
   },
   "source": [
    "podemos monitorizar la ejecución"
   ]
  },
  {
   "cell_type": "code",
   "execution_count": null,
   "id": "afe60193",
   "metadata": {
    "slideshow": {
     "slide_type": "fragment"
    }
   },
   "outputs": [],
   "source": [
    "from qiskit.tools.monitor import job_monitor\n",
    "job_monitor(job)"
   ]
  },
  {
   "cell_type": "markdown",
   "id": "54a6a2a0",
   "metadata": {
    "slideshow": {
     "slide_type": "fragment"
    }
   },
   "source": [
    "extraemos el resultado"
   ]
  },
  {
   "cell_type": "code",
   "execution_count": null,
   "id": "982a684d",
   "metadata": {
    "slideshow": {
     "slide_type": "fragment"
    }
   },
   "outputs": [],
   "source": [
    "counts = job.result().get_counts()\n",
    "print(\"Cuentas=\",counts)"
   ]
  },
  {
   "cell_type": "code",
   "execution_count": null,
   "id": "f0651201",
   "metadata": {
    "slideshow": {
     "slide_type": "fragment"
    }
   },
   "outputs": [],
   "source": [
    "plot_histogram(counts)"
   ]
  }
 ],
 "metadata": {
  "celltoolbar": "Slideshow",
  "kernelspec": {
   "display_name": "Python 3",
   "language": "python",
   "name": "python3"
  },
  "language_info": {
   "codemirror_mode": {
    "name": "ipython",
    "version": 3
   },
   "file_extension": ".py",
   "mimetype": "text/x-python",
   "name": "python",
   "nbconvert_exporter": "python",
   "pygments_lexer": "ipython3",
   "version": "3.7.10"
  },
  "varInspector": {
   "cols": {
    "lenName": 16,
    "lenType": 16,
    "lenVar": 40
   },
   "kernels_config": {
    "python": {
     "delete_cmd_postfix": "",
     "delete_cmd_prefix": "del ",
     "library": "var_list.py",
     "varRefreshCmd": "print(var_dic_list())"
    },
    "r": {
     "delete_cmd_postfix": ") ",
     "delete_cmd_prefix": "rm(",
     "library": "var_list.r",
     "varRefreshCmd": "cat(var_dic_list()) "
    }
   },
   "types_to_exclude": [
    "module",
    "function",
    "builtin_function_or_method",
    "instance",
    "_Feature"
   ],
   "window_display": false
  }
 },
 "nbformat": 4,
 "nbformat_minor": 5
}
