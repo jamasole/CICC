{
 "cells": [
  {
   "cell_type": "markdown",
   "metadata": {
    "slideshow": {
     "slide_type": "slide"
    }
   },
   "source": [
    "<img   src=\"../figuras/logo/TalentQ_LogoPosNegro.png\" align=center  width=\"120\"/>\n",
    "<br>\n",
    "\n",
    "<table width=\"100%\">\n",
    "<td style=\"font-size:50px;font-style:italic;text-align:right;background-color:rgba(0, 160, 120,0.6)\">\n",
    "El arte de medir I\n",
    "</td></table>\n",
    "\n",
    "\n",
    "\n",
    "$ \\newcommand{\\bra}[1]{\\langle #1|} $\n",
    "$ \\newcommand{\\ket}[1]{|#1\\rangle} $\n",
    "$ \\newcommand{\\braket}[2]{\\langle #1|#2\\rangle} $\n",
    "$ \\newcommand{\\i}{{\\color{blue} i}} $ \n",
    "$ \\newcommand{\\tr}{{\\rm tr}} $\n",
    "$ \\newcommand{\\Hil}{{\\mathbb H}} $\n",
    "$ \\newcommand{\\boldn}{{\\bf n}} $"
   ]
  },
  {
   "cell_type": "markdown",
   "metadata": {
    "slideshow": {
     "slide_type": "slide"
    }
   },
   "source": [
    "- [Medidores de 1 cúbit](#uncubit)\n",
    "\n",
    "\n",
    "- [La moneda cuántica](#moneda)\n",
    "\n",
    "\n",
    "- [Medidas en una base general](#basegeneral)\n",
    "\n",
    "\n",
    "- [Valores esperados](#vevs)"
   ]
  },
  {
   "cell_type": "markdown",
   "metadata": {
    "slideshow": {
     "slide_type": "slide"
    }
   },
   "source": [
    "<a id='uncubit'></a>\n",
    "<table width=\"100%\">\n",
    "    <td style=\"font-size:30px; font-family:Helvetica;text-align:left;background-color:rgba(12, 43, 337, 0.3);\">\n",
    "<b>Medidas de 1 cúbit</b>\n",
    "</table>"
   ]
  },
  {
   "cell_type": "markdown",
   "metadata": {
    "slideshow": {
     "slide_type": "slide"
    }
   },
   "source": [
    "### Medidas en la base computacional"
   ]
  },
  {
   "cell_type": "markdown",
   "metadata": {
    "slideshow": {
     "slide_type": "fragment"
    }
   },
   "source": [
    "El aparato de medida estándar en computación cuántica asigna valores $\\{0,1\\}$ a los kets $\\ket{0}$ y $\\ket{1}$ de la base computacional\n",
    "<br>\n",
    "<br>\n",
    "<br>\n",
    "\n",
    "\n",
    "<div>\n",
    "<img src=\"images/cubit_meter2.png\" width=\"25%\" style=\"margin:auto\"/>\n",
    "</div>\n",
    "donde $a = 0,1$ "
   ]
  },
  {
   "cell_type": "markdown",
   "metadata": {
    "slideshow": {
     "slide_type": "fragment"
    }
   },
   "source": [
    "En general, el estado es destruido en la medida, por lo que se suele omitir el hilo cuántico a su salida\n",
    "<br>\n",
    "<br>\n",
    "<div>\n",
    "<img src=\"images/cubit_meter1.png\" width=\"30%\" style=\"margin:auto\"/>\n",
    "</div>\n",
    "\n"
   ]
  },
  {
   "cell_type": "markdown",
   "metadata": {
    "slideshow": {
     "slide_type": "slide"
    }
   },
   "source": [
    "Los elementos de la base computacional $\\ket{a}\\in \\{\\ket{0},\\ket{1}\\}$, son autoestados del *observable* $Z = \\sigma_z $, cuyos autovalores son $+1$ y $-1$ respectivamente cumplen\n",
    "\n",
    "<br>\n",
    "$$\n",
    "Z\\ket{0} = +\\ket{0}~~~~,~~~~~ Z\\ket{1} = -\\ket{1}\n",
    "$$ \n",
    "\n",
    "<br>\n"
   ]
  },
  {
   "cell_type": "markdown",
   "metadata": {
    "slideshow": {
     "slide_type": "fragment"
    }
   },
   "source": [
    "\n",
    "Podemos unificar ambos resultados como: $Z\\ket{a} = (-1)^a\\ket{a}$, \n",
    "con  $a=\\{0,1\\}$."
   ]
  },
  {
   "cell_type": "markdown",
   "metadata": {
    "heading_collapsed": true,
    "hidden": true,
    "slideshow": {
     "slide_type": "slide"
    }
   },
   "source": [
    "### Medidas en un simulador"
   ]
  },
  {
   "cell_type": "markdown",
   "metadata": {
    "hidden": true,
    "slideshow": {
     "slide_type": "fragment"
    }
   },
   "source": [
    "Se trata de un programa clásico que **simula** un circuito cuántico utilizando las leyes de la Mecánica Cuántica. El resultado de un circuito calculado con qasm_simulator sólo se puede obtener mediante un aparato de medida que, usado repetidas veces nos permitirá reconstruir el estado de manera estadística."
   ]
  },
  {
   "cell_type": "code",
   "execution_count": null,
   "metadata": {
    "hidden": true,
    "slideshow": {
     "slide_type": "fragment"
    }
   },
   "outputs": [],
   "source": [
    "from qiskit import QuantumRegister,QuantumCircuit\n",
    "from qiskit import Aer, execute \n",
    "M_simulator = Aer.get_backend('qasm_simulator')\n",
    "\n",
    "qc=QuantumCircuit(1,1)\n",
    "qc.h(0)\n",
    "qc.measure(0,0)\n",
    "\n",
    "# opción 1\n",
    "job=execute(qc,backend=M_simulator,shots=2048) # Hacemos la simulación 2048 veces )\n",
    "result=job.result()\n",
    "counts=result.get_counts()\n",
    "\n",
    "# opción 2\n",
    "#qcobj = transpile(qc, M_simulator )      # Crea un objeto compilado a partir del circuito  \n",
    "#job = M_simulator.run(qcobj, shots=2048) # Hacemos la simulación 2048 veces \n",
    "#resultado = job.result()                 # Obtenemos los resultados\n",
    "\n",
    "print(counts)"
   ]
  },
  {
   "cell_type": "code",
   "execution_count": null,
   "metadata": {
    "hidden": true,
    "slideshow": {
     "slide_type": "slide"
    }
   },
   "outputs": [],
   "source": [
    "from qiskit.tools.visualization import plot_histogram\n",
    "plot_histogram(counts) # Mostramos un histograma de resultados"
   ]
  },
  {
   "cell_type": "markdown",
   "metadata": {
    "slideshow": {
     "slide_type": "slide"
    }
   },
   "source": [
    "### Medidas en un ordenador cuántico real\n",
    "\n",
    "Una vez que hemos verificado que el programa \n",
    "corre bien en nuestro simulador, podemos lanzarlo a un ordenador cuántico real sin más que cambiar el *backend*."
   ]
  },
  {
   "cell_type": "code",
   "execution_count": null,
   "metadata": {
    "slideshow": {
     "slide_type": "fragment"
    }
   },
   "outputs": [],
   "source": [
    "from qiskit import IBMQ\n",
    "IBMQ.load_account()\n",
    "provider = IBMQ.get_provider(hub='ibm-q')\n",
    "provider.backends()"
   ]
  },
  {
   "cell_type": "markdown",
   "metadata": {
    "slideshow": {
     "slide_type": "fragment"
    }
   },
   "source": [
    "antes de enviar un trabajo es conveniente consultar qué máquina de las adecuadas a nuestras necesidades es la que está más libre"
   ]
  },
  {
   "cell_type": "code",
   "execution_count": null,
   "metadata": {
    "slideshow": {
     "slide_type": "fragment"
    }
   },
   "outputs": [],
   "source": [
    "from qiskit.providers.ibmq import least_busy\n",
    "IBMQ_best_backend = least_busy(provider.backends(filters=lambda x: x.configuration().n_qubits >= 1 \n",
    "                                       and not x.configuration().simulator \n",
    "                                       and x.status().operational==True))\n",
    "print(\"least busy backend: \", IBMQ_best_backend)"
   ]
  },
  {
   "cell_type": "markdown",
   "metadata": {
    "slideshow": {
     "slide_type": "slide"
    }
   },
   "source": [
    "Ahora compilamos y enviamos el trabajo"
   ]
  },
  {
   "cell_type": "code",
   "execution_count": null,
   "metadata": {
    "slideshow": {
     "slide_type": "fragment"
    }
   },
   "outputs": [],
   "source": [
    "qobj = transpile(qc, IBMQ_best_backend)           # Compila el código para el backend\n",
    "job = IBMQ_best_backend.run(qobj, shots=1024) # Hacemos la simulación 1024 veces "
   ]
  },
  {
   "cell_type": "markdown",
   "metadata": {
    "slideshow": {
     "slide_type": "fragment"
    }
   },
   "source": [
    "podemos monitorizar la ejecución"
   ]
  },
  {
   "cell_type": "code",
   "execution_count": null,
   "metadata": {
    "slideshow": {
     "slide_type": "fragment"
    }
   },
   "outputs": [],
   "source": [
    "from qiskit.tools.monitor import job_monitor\n",
    "job_monitor(job)"
   ]
  },
  {
   "cell_type": "markdown",
   "metadata": {
    "slideshow": {
     "slide_type": "slide"
    }
   },
   "source": [
    "extraemos el resultado"
   ]
  },
  {
   "cell_type": "code",
   "execution_count": null,
   "metadata": {
    "slideshow": {
     "slide_type": "fragment"
    }
   },
   "outputs": [],
   "source": [
    "counts = job.result().get_counts()\n",
    "print(\"Cuentas=\",counts)"
   ]
  },
  {
   "cell_type": "code",
   "execution_count": null,
   "metadata": {
    "slideshow": {
     "slide_type": "fragment"
    }
   },
   "outputs": [],
   "source": [
    "plot_histogram(counts)"
   ]
  },
  {
   "cell_type": "markdown",
   "metadata": {
    "slideshow": {
     "slide_type": "slide"
    }
   },
   "source": [
    "<a id='moneda'></a>\n",
    "<table width=\"100%\">\n",
    "    <td style=\"font-size:30px;font-family:Helvetica;text-align:left;background-color:rgba(12, 43, 337, 0.3);\">\n",
    "<b>La moneda cuántica</b>\n",
    "</table>   "
   ]
  },
  {
   "cell_type": "markdown",
   "metadata": {
    "slideshow": {
     "slide_type": "slide"
    }
   },
   "source": [
    "El resultado de tirar una moneda al aire es una variable aleatoria con dos resultados cara y cruz equiprobables. "
   ]
  },
  {
   "cell_type": "markdown",
   "metadata": {
    "slideshow": {
     "slide_type": "fragment"
    }
   },
   "source": [
    "Es irrelevante si analizamos el resultado cada tirada o cada dos, o tres tiradas. Las frecuencias relativas de caras y cruces, siempre serán próximas a $1/2$. "
   ]
  },
  {
   "cell_type": "markdown",
   "metadata": {
    "slideshow": {
     "slide_type": "fragment"
    }
   },
   "source": [
    "Podemos imaginar un experimento similar con un cúbit, donde cara $\\to 0$ y cruz $\\to 1$ son los resultados posibles de la medida en la base $Z$."
   ]
  },
  {
   "cell_type": "markdown",
   "metadata": {
    "slideshow": {
     "slide_type": "fragment"
    }
   },
   "source": [
    "Tirar la moneda cuántica es aplicar al resultado de una tirada anterior el operador $H$\n"
   ]
  },
  {
   "cell_type": "markdown",
   "metadata": {
    "slideshow": {
     "slide_type": "fragment"
    }
   },
   "source": [
    "Ahora no es lo mismo medir el resultado después de una tirada\n",
    "\n",
    "$$\n",
    "\\ket{0}~ \\stackrel{\\rm tirar}{\\longrightarrow} ~ H \\ket{0}= \\ket{+} ~ \\stackrel{\\rm medir}{\\longrightarrow} ~p(0) = p(1) = 0.5\n",
    "$$"
   ]
  },
  {
   "cell_type": "markdown",
   "metadata": {
    "slideshow": {
     "slide_type": "fragment"
    }
   },
   "source": [
    "que hacerlo después de dos tiradas\n",
    "\n",
    "$$\n",
    "\\ket{0}~ \\stackrel{\\rm tirar}{\\longrightarrow} ~ H \\ket{0}~ \\stackrel{\\rm tirar}{\\longrightarrow} H^2\\ket{0} = \\ket{0} ~ \\stackrel{\\rm medir}{\\longrightarrow} ~p(0) = 1 ~,~p(1) = 0\n",
    "$$"
   ]
  },
  {
   "cell_type": "code",
   "execution_count": null,
   "metadata": {
    "slideshow": {
     "slide_type": "slide"
    }
   },
   "outputs": [],
   "source": [
    "from qiskit import Aer, QuantumCircuit, execute\n",
    "\n",
    "qc = QuantumCircuit(1,1)\n",
    "\n",
    "qc.h(0)\n",
    "qc.measure(0,0) #anula o no esta medición intermedia para ver la diferencia\n",
    "qc.h(0)\n",
    "qc.measure(0,0)\n",
    "qc.draw('mpl')"
   ]
  },
  {
   "cell_type": "markdown",
   "metadata": {
    "slideshow": {
     "slide_type": "fragment"
    }
   },
   "source": [
    "Ejecutemos el circuito con y sin medición intermedia"
   ]
  },
  {
   "cell_type": "code",
   "execution_count": null,
   "metadata": {
    "slideshow": {
     "slide_type": "-"
    }
   },
   "outputs": [],
   "source": [
    "M_simulator = Aer.get_backend('qasm_simulator')\n",
    "\n",
    "execute(qc,M_simulator).result().get_counts()"
   ]
  },
  {
   "cell_type": "markdown",
   "metadata": {
    "slideshow": {
     "slide_type": "fragment"
    }
   },
   "source": [
    "La medición intermedia destruye la superposición y hace colapsar el estado a $\\ket{0}$  ó $\\ket{1}$. Sin dicha medición, las amplitudes de probabilidad para obtener $\\ket{1}$ a partir de $\\ket{0}$ interfieren destructivamente"
   ]
  },
  {
   "cell_type": "markdown",
   "metadata": {
    "heading_collapsed": true,
    "slideshow": {
     "slide_type": "slide"
    }
   },
   "source": [
    "<a id='basegeneral'></a>\n",
    "<table width=\"100%\">\n",
    "    <td style=\"font-size:30px;font-family:Helvetica;text-align:left;background-color:rgba(12, 43, 337, 0.3);\">\n",
    "<b>Medidas en una base general</b>\n",
    "</table>  "
   ]
  },
  {
   "cell_type": "markdown",
   "metadata": {
    "slideshow": {
     "slide_type": "slide"
    }
   },
   "source": [
    "### Bases $X$, $Y$ y $Z$\n",
    "\n",
    "A parte de la base computacional $\\{\\ket{0},\\ket{1} \\}$, es muy necesario y frecuente el uso de otras bases ortonormales como  $\\{\\ket{+},\\ket{-} \\}$ ó  $\\{\\ket{+i},\\ket{-i} \\}$. \n",
    "\n",
    "Todas ellas diagonalizan algún operador de Pauli y, por  tanto, puede servir para construir aparatos de medida que discriminen\n",
    "entre sus estados\n",
    "\n",
    "<br>\n",
    "\n",
    "\\begin{eqnarray}\n",
    "Z \\ket{0} =+ \\ket{0}   ~~~~~~~~~~~~&,& ~~~~~~~~~~ Z \\ket{1} =-\\ket{1} \\\\ \\rule{0mm}{15mm}\n",
    "X \\ket{+} =+ \\ket{+}   ~~~~~~~~~~~&,& ~~~~~~~~~~ X \\ket{-} =-\\ket{-} \\\\ \\rule{0mm}{15mm}\n",
    "Y \\ket{+i} =+ \\ket{+i}   ~~~~~~~~&,&~~~~~~~ Y \\ket{-i} =-\\ket{-i} \\\\\n",
    "\\end{eqnarray}\n"
   ]
  },
  {
   "cell_type": "markdown",
   "metadata": {
    "slideshow": {
     "slide_type": "slide"
    }
   },
   "source": [
    "Supongamos que <b>sólo</b> contamos con un aparato de medida en la base computacional    de autoestados de $\\sigma_z$.\n",
    "\n",
    "¿Cómo podríamos utilizar  dicho aparato para efectuar medidas en las bases de autoestados de $\\sigma_x$ y $\\sigma_y$?\n"
   ]
  },
  {
   "cell_type": "markdown",
   "metadata": {
    "slideshow": {
     "slide_type": "fragment"
    }
   },
   "source": [
    "La clave está en *rotar*  las bases $\\{\\ket{\\pm}\\}$ ó $\\{\\ket{\\pm i}\\}$ en la que *queremos medir* a la base $\\{\\ket{0},\\ket{1}\\}$ en la que *podemos medir*. \n",
    "\n",
    "Por ejemplo\n",
    "<br>\n",
    "\n",
    "\\begin{eqnarray}\n",
    "H \\ket{+}  = \\ket{0}   ~~~~~~~~~~ &,&   ~~~~~~~~~~~~ H \\ket{-}  = \\ket{1}    \\\\ \\rule{0mm}{8mm}\n",
    "H S^\\dagger \\ket{+i}  = \\ket{0}   ~~~~~~~~~~ &,& ~~~~ HS^\\dagger \\ket{-i}  = \\ket{1}   \n",
    "\\end{eqnarray}\n"
   ]
  },
  {
   "cell_type": "markdown",
   "metadata": {
    "slideshow": {
     "slide_type": "fragment"
    }
   },
   "source": [
    "<div class=\"alert alert-block alert-success\">\n",
    "<b>Ejercicio:</b> \n",
    "comprueba estas ecuaciones de cambio de base.\n",
    "</div>"
   ]
  },
  {
   "cell_type": "markdown",
   "metadata": {
    "slideshow": {
     "slide_type": "slide"
    }
   },
   "source": [
    "En los circuitos que se representan a continuación, vemos cómo un medidor en las bases $x$ ó $y$ puede reducirse a un aparato de medida en la base $z$. El primer circuito asigna valores $\\{0,1\\}$ a estados $\\ket{\\pm}$ y el segundo a estados $\\ket{\\pm i}$\n",
    "\n",
    "<br>\n",
    "<br>\n",
    "\n",
    "<div>\n",
    "<img src=\"images/XY_measures.png\" width=\"50%\" style=\"margin:auto\"/>\n",
    "</div>\n",
    "<br>\n"
   ]
  },
  {
   "cell_type": "markdown",
   "metadata": {
    "slideshow": {
     "slide_type": "fragment"
    }
   },
   "source": [
    "Las ecuaciones entre circuitos anterior no son más que un reflejo de estas  identidades entre operadores. \n"
   ]
  },
  {
   "cell_type": "code",
   "execution_count": 8,
   "metadata": {},
   "outputs": [],
   "source": [
    "from qiskit import QuantumCircuit\n",
    "from qiskit import Aer, execute \n",
    "\n",
    "def measureXYZ(qc,axis=\"Z\"):\n",
    "        \n",
    "    if axis == \"X\":\n",
    "        qc.h(0)\n",
    "    elif axis == \"Y\":\n",
    "        qc.sdg(0)\n",
    "        qc.h(0)\n",
    "    qc.measure(0,0) \n",
    "\n",
    "    counts=execute(qc,backend=Aer.get_backend('qasm_simulator'),shots=1024).result().get_counts()\n",
    "\n",
    "    return counts"
   ]
  },
  {
   "cell_type": "markdown",
   "metadata": {},
   "source": [
    "Ahora podemos inicializar una base y medir en cualquir otra"
   ]
  },
  {
   "cell_type": "code",
   "execution_count": 18,
   "metadata": {},
   "outputs": [
    {
     "data": {
      "text/plain": [
       "{'0': 1024}"
      ]
     },
     "execution_count": 18,
     "metadata": {},
     "output_type": "execute_result"
    }
   ],
   "source": [
    "\n",
    "qc = QuantumCircuit(1,1)\n",
    "qc.h(0) # así inicializamos el estado |+>\n",
    "qc.s(0) # así inicializamos el estado |+i>\n",
    "\n",
    "measureXYZ(qc,axis=\"Y\")"
   ]
  },
  {
   "cell_type": "markdown",
   "metadata": {
    "slideshow": {
     "slide_type": "slide"
    }
   },
   "source": [
    "### Base arbitraria\n",
    "\n",
    "Recordemos que el operador\n",
    "\n",
    "$$\n",
    "U(\\theta,\\phi,0)=\\begin{bmatrix}   \\cos \\displaystyle\\frac{\\theta}{2}  & -  \\sin\\displaystyle\\frac{\\theta}{2}  \\\\ \n",
    "\\rule{0mm}{4mm} e^{i\\phi} \\sin \\displaystyle\\frac{\\theta}{2} &e^{i\\phi} \\cos \\displaystyle\\frac{\\theta}{2} \\end{bmatrix}\n",
    "$$\n",
    "\n",
    "lleva la base $\\{\\ket{0},\\ket{1}\\}_{\\hat{\\bf z}}$ a la base $\\{\\ket{0},\\ket{1}\\}_{\\hat{\\bf n}},$ donde \n",
    "<br>\n",
    "<br>\n",
    "$$\n",
    "\\hat{\\bf n}(\\theta,\\phi) = \\sin\\theta\\cos\\phi\\, \\hat{\\bf x} + \\sin\\theta\\sin\\phi\\, \\hat{\\bf y}  + \\cos\\theta\\, \\hat{\\bf z}\n",
    "$$\n",
    "<br>\n",
    "<br>\n",
    "\n",
    "<div>\n",
    "<img src=\"images/BlochSphere_basis.png\" width=\"30%\" style=\"margin:auto\"/>\n",
    "</div>\n",
    "<br>\n"
   ]
  },
  {
   "cell_type": "markdown",
   "metadata": {
    "slideshow": {
     "slide_type": "fragment"
    }
   },
   "source": [
    "Es decir, tenemos \n",
    "$$\n",
    "\\ket{a}_{\\hat\\boldn} = U(\\theta,\\phi,0) \\ket{a}_{\\hat{\\bf z}}\n",
    "$$\n",
    "<br>\n",
    "que verifica la ecuación de autovalores\n",
    "\n",
    "$$\n",
    "({\\hat\\boldn}\\cdot\\boldsymbol{\\sigma})\\,  \\ket{a}_{\\hat\\boldn} = (-1)^a \\ket{a}_{\\hat\\boldn }\n",
    "$$\n",
    "\n",
    "Por esta razón, etiquetaremos\n",
    "$$\n",
    "  U(\\theta,\\phi,0) ~ \\equiv ~ U(z\\to \\hat{\\bf n})\n",
    "$$\n",
    "<br>"
   ]
  },
  {
   "cell_type": "markdown",
   "metadata": {
    "slideshow": {
     "slide_type": "fragment"
    }
   },
   "source": [
    "<div class=\"alert alert-block alert-warning\">\n",
    "Usando un ejercicio anterior tenemos que  \n",
    "\\begin{eqnarray}\n",
    " U(\\pi/2,0,\\pi)=H : \\ket{a}_{\\hat{\\bf z}} \\to \\ket{a}_{\\hat{\\bf x}} \\\\ \n",
    " U(\\pi/2,\\pi/2,\\pi)= SH  : \\ket{a}_{\\hat{\\bf z}} \\to \\ket{a}_{\\hat{\\bf y}}\n",
    "\\end{eqnarray}\n",
    "\n",
    "la notación  ahora incluye los casos anteriores\n",
    "<br>\n",
    "\n",
    "$$  \\ket{a}_{\\hat{\\bf x}} = H \\ket{a}_{\\hat{\\bf z}} ~~~~,~~~~  \\ket{a}_{\\hat{\\bf y}} = SH \\ket{a}_{\\hat{\\bf z}}$$  \n",
    "   \n",
    "\n",
    "</div>\n"
   ]
  },
  {
   "cell_type": "markdown",
   "metadata": {
    "slideshow": {
     "slide_type": "slide"
    }
   },
   "source": [
    "Si queremos *simular* un aparato de medición en la base $\\{\\ket{a}_{\\hat{\\bf n}}\\}_{a=0,1}$, entonces rotaremos primero inversamente\n",
    "<br>\n",
    "<br>\n",
    "<br>\n",
    "<img src=\"images/nbasis_measure1.png\" width=\"38%\" style=\"margin:auto\"/>\n",
    "</div>\n",
    "<br>\n",
    "si se destruye el estado."
   ]
  },
  {
   "cell_type": "markdown",
   "metadata": {
    "slideshow": {
     "slide_type": "fragment"
    }
   },
   "source": [
    "Lo cual nos dice que el circuito equivalente a un medidor en la dirección $\\hat{\\bf n}$ será\n",
    "<br>\n",
    "<br>\n",
    "<br> \n",
    "<img src=\"images/nbasis_measure3.png\" width=\"70%\" style=\"margin:auto\"/>\n",
    "</div>\n",
    "<br>\n"
   ]
  },
  {
   "cell_type": "markdown",
   "metadata": {
    "slideshow": {
     "slide_type": "slide"
    }
   },
   "source": [
    "Si el estado no se destruye en la medida, hay que rehacer el cambio después de medir\n",
    "<br>\n",
    "<br>\n",
    "<img src=\"images/nbasis_measure2.png\" width=\"50%\" style=\"margin:auto\"/>\n",
    "</div>\n",
    "<br>"
   ]
  },
  {
   "cell_type": "markdown",
   "metadata": {
    "slideshow": {
     "slide_type": "fragment"
    }
   },
   "source": [
    "<div class=\"alert alert-block alert-success\">\n",
    "    <b>Ejercicio:</b> \n",
    "comprueba estas ecuaciones entre operadores  \n",
    "\n",
    "$$\n",
    "X = H Z H ~~~~~~~,~~~~~~~Y = S  H  Z   H S^\\dagger\n",
    "$$\n",
    "\n",
    "</div>"
   ]
  },
  {
   "cell_type": "markdown",
   "metadata": {
    "hidden": true,
    "slideshow": {
     "slide_type": "slide"
    }
   },
   "source": [
    "<a id='vevs'></a>\n",
    "<table width=\"100%\">\n",
    "    <td style=\"font-size:25px;font-family:Helvetica;text-align:left;background-color:rgba(12, 43, 337, 0.3);\">\n",
    "<b>Valores esperados</b>\n",
    "</table>"
   ]
  },
  {
   "cell_type": "markdown",
   "metadata": {
    "slideshow": {
     "slide_type": "slide"
    }
   },
   "source": [
    "Una repetición de medidas de un estado $\\ket{\\psi} = c_0\\ket{0} + c_1\\ket{1}$ permite tener acceso estadístico a las amplitudes de probabilidad \n",
    "\n"
   ]
  },
  {
   "cell_type": "markdown",
   "metadata": {
    "hidden": true,
    "slideshow": {
     "slide_type": "fragment"
    }
   },
   "source": [
    "$$\n",
    "p_0 = \\frac{n_{0}}{N} = |c_0|^2 = |\\braket{0}{\\psi}|^2~~~~~~~~~~~~~~~~ p_1 = \\frac{n_{1}}{N}=|c_1|^2 =  |\\braket{1}{\\psi}|^2 \\, .\n",
    "$$\n",
    "<br>\n",
    "\n",
    "Este procedimiento de reconstrucción es la base de la **tomografía cuántica**."
   ]
  },
  {
   "cell_type": "code",
   "execution_count": null,
   "metadata": {
    "hidden": true,
    "slideshow": {
     "slide_type": "slide"
    }
   },
   "outputs": [],
   "source": [
    "from qiskit import QuantumCircuit\n",
    "from qiskit import Aer, execute \n",
    "import numpy as np\n",
    "\n",
    "# creamos el circuito\n",
    "qc = QuantumCircuit(1,1)\n",
    "shots= 1000\n",
    "\n",
    "# inicializamos un estado arbitrario en la esfera de Bloch\n",
    "theta = 0.5  #rad\n",
    "phi   = 0.3  #rad\n",
    "\n",
    "psi_state = [np.cos(theta/2),(np.exp(1j*phi))*np.sin(theta/2)]\n",
    "#print(psi_state)\n",
    "print('p_0=', np.round(np.abs(psi_state[0])**2,3),', p_1=', np.round(np.abs(psi_state[1])**2,3))\n",
    "\n",
    "# inicializamos el estado de entrada  \n",
    "qc.initialize(psi_state,0)\n",
    "qc.measure(0,0)\n",
    "\n",
    "qc.draw('mpl')"
   ]
  },
  {
   "cell_type": "markdown",
   "metadata": {
    "hidden": true,
    "slideshow": {
     "slide_type": "slide"
    }
   },
   "source": [
    "vamos a recuperar las probabilidades haciendo estadística"
   ]
  },
  {
   "cell_type": "code",
   "execution_count": null,
   "metadata": {
    "hidden": true,
    "slideshow": {
     "slide_type": "-"
    }
   },
   "outputs": [],
   "source": [
    "M_simulator = Aer.get_backend('qasm_simulator')\n",
    "shots=100000\n",
    "counts=execute(qc,backend=M_simulator,shots=shots).result().get_counts()\n",
    "\n",
    "\n",
    "def get_prob_dist(counts): # counts es un diccionario \n",
    "    N=sum([n for n in counts.values()]) # numero de shots\n",
    "    prob_dist = {bit:np.round(v/N,4) for bit,v in counts.items()} # this is a modified dictionary\n",
    "    if len(prob_dist) == 1:  # we are two amplitudes (one qubit), so in this case, pad with a 0\n",
    "        prob_dist.append(0)\n",
    "    return prob_dist\n",
    "\n",
    "\n",
    "prob_distr = get_prob_dist(counts)\n",
    "print(\"probability distribution =\", prob_distr)\n"
   ]
  },
  {
   "cell_type": "markdown",
   "metadata": {
    "slideshow": {
     "slide_type": "slide"
    }
   },
   "source": [
    "## Valor esperado de un observable"
   ]
  },
  {
   "cell_type": "markdown",
   "metadata": {
    "slideshow": {
     "slide_type": "-"
    }
   },
   "source": [
    "Cualquier observable sobre un cúbit $A = A^\\dagger$ puede expresarse en la base\n",
    "\n",
    "$$\n",
    "A = a I + n_x X + n_y Y  + n_z Z \\, . \n",
    "$$\n"
   ]
  },
  {
   "cell_type": "markdown",
   "metadata": {},
   "source": [
    "Los coeficientes se obtienen haciendo uso de la relación $\\to \\frac{1}{2}\\tr \\sigma_i \\sigma_j = \\delta_{ij}$. Es decir\n",
    "\n",
    "$$\n",
    "n_i = \\frac{1}{2} \\tr \\, (A \\sigma_i)\n",
    "$$\n",
    "\n",
    "donde $\\boldsymbol{\\sigma} = (\\sigma_x,\\sigma_y,\\sigma_z) = (X,Y,Z).$"
   ]
  },
  {
   "cell_type": "markdown",
   "metadata": {
    "slideshow": {
     "slide_type": "fragment"
    }
   },
   "source": [
    "Entonces, podremos obtener el valor esperado de $A$  si somos capaces de medir el de $X,$ $Y$ y $Z$.\n",
    "\n",
    "$$\n",
    "\\langle A\\rangle_\\psi = a + n_x \\langle X\\rangle_\\psi + n_y \\langle Y\\rangle_\\psi + n_z \\langle Z\\rangle_\\psi\n",
    "$$\n"
   ]
  },
  {
   "cell_type": "markdown",
   "metadata": {
    "slideshow": {
     "slide_type": "slide"
    }
   },
   "source": [
    "### $\\langle Z \\rangle_{\\psi}$\n",
    "\n",
    "Los estados de la base computacional son autoestados del operador $Z$ con autovalor $\\pm 1$\n",
    "<br>\n",
    "\n",
    "$$\n",
    "Z \\ket{0} =+ \\ket{0}   ~~~~~~~~ ~~~~~~~~~~ Z \\ket{1} =-\\ket{1} \n",
    "$$\n",
    "\n",
    "\n",
    "Dado un estado $\\ket{\\psi} = c_0\\ket{0} + c_1\\ket{1}$, la medida repetida arroja de forma aleatoria los valores propios de $Z \\to \\pm 1$ con frecuencias relativas $+1\\to n^Z_0 $ y $-1\\to n^Z_1$ respectivamente. \n"
   ]
  },
  {
   "cell_type": "markdown",
   "metadata": {
    "slideshow": {
     "slide_type": "fragment"
    }
   },
   "source": [
    "Por definición, el valor medio de dicha variable es, \n",
    "\n",
    "$$\n",
    "\\langle Z \\rangle_\\psi = +\\frac{n^Z_0}{N}- \\frac{ n^Z_1}{N}\n",
    "$$\n"
   ]
  },
  {
   "cell_type": "markdown",
   "metadata": {
    "slideshow": {
     "slide_type": "slide"
    }
   },
   "source": [
    "Circuito necesario para medir $\\langle Z\\rangle_\\psi$ \n",
    "<br>\n",
    "<div>\n",
    "<img src=\"images/cubit_meter1.png\" width=\"30%\" style=\"margin:auto\"/>\n",
    "</div>\n"
   ]
  },
  {
   "cell_type": "code",
   "execution_count": null,
   "metadata": {
    "slideshow": {
     "slide_type": "fragment"
    }
   },
   "outputs": [],
   "source": [
    "mean_Z = 0\n",
    "\n",
    "for bits, probs  in prob_distr.items():\n",
    "    mean_Z += (-1)**(int(bits)) * probs  \n",
    "\n",
    "print('<Z> =',np.round(mean_Z,5))"
   ]
  },
  {
   "cell_type": "markdown",
   "metadata": {
    "slideshow": {
     "slide_type": "slide"
    }
   },
   "source": [
    "<div class=\"alert alert-block alert-success\">\n",
    "<b>Ejercicio:</b> \n",
    "genera un observable arbitrario $A$ y calcula los valores esperados $\\bra{0}A\\ket{0}$, $\\bra{-}A\\ket{-}$ y \n",
    " $\\bra{+i}A\\ket{+i}$.\n",
    "</div>"
   ]
  },
  {
   "cell_type": "markdown",
   "metadata": {
    "slideshow": {
     "slide_type": "slide"
    }
   },
   "source": [
    "### $\\langle X \\rangle_{\\psi}$\n",
    "\n",
    "Igualmente, si medimos el estado $\\ket{\\psi}$ con un medidor asociado al operador $X = HZH$, la repetición arrojará igualmente una muestra aleatoria de valores propios de $X\\to \\pm 1$ con frecuencias relativas $+1\\to n^X_0$ y $-1\\to n^X_1$.\n",
    "\n",
    "El valor esperado de $X$  obtiene del promedio\n",
    "\n",
    "$$\n",
    "\\langle X \\rangle_\\psi = +\\frac{n^X_0}{N}- \\frac{ n^X_1}{N}\n",
    "$$\n",
    "\n"
   ]
  },
  {
   "cell_type": "markdown",
   "metadata": {
    "slideshow": {
     "slide_type": "fragment"
    }
   },
   "source": [
    "Ya hemos visto cuál es el circuito necesario para  medir en la base $X$ \n",
    "<br>\n",
    "<br>\n",
    "<div>\n",
    "<img src=\"images/cubit_meter_xbasis.png\" width=\"38%\" style=\"margin:auto\"/>\n",
    "</div>\n"
   ]
  },
  {
   "cell_type": "markdown",
   "metadata": {
    "slideshow": {
     "slide_type": "slide"
    }
   },
   "source": [
    "### $\\langle Y \\rangle_{\\psi}$\n",
    "\n",
    "\n",
    "Igualmente, si medimos el estado $\\ket{\\psi}$ con un medidor asociado al operador $Y$, la repetición arrojará  una muestra aleatoria de valores propios de $Y\\to \\pm 1$ con frecuencias relativas $+1\\to n^Y_0$ y $-1\\to n^Y_1$. Entonces\n",
    "\n",
    "$$\n",
    "\\langle Y \\rangle_\\psi = +\\frac{n^Y_0}{N}- \\frac{ n^Y_1}{N}\\, .\n",
    "$$\n",
    "\n"
   ]
  },
  {
   "cell_type": "markdown",
   "metadata": {
    "slideshow": {
     "slide_type": "fragment"
    }
   },
   "source": [
    "Circuito necesario para medir en la base $ Y$ \n",
    "<br>\n",
    "<div>\n",
    "<img src=\"images/cubit_meter_ybasis.png\" width=\"38%\" style=\"margin:auto\"/>\n",
    "</div>\n"
   ]
  },
  {
   "cell_type": "markdown",
   "metadata": {
    "slideshow": {
     "slide_type": "slide"
    }
   },
   "source": [
    "## Valor esperado de un operador unitario"
   ]
  },
  {
   "cell_type": "markdown",
   "metadata": {
    "slideshow": {
     "slide_type": "fragment"
    }
   },
   "source": [
    "EN general, ocurre que sabemos cómo preparar el estado $\\ket{\\psi} = U\\ket{0}$ a partir del estado $\\ket{0}$. \n",
    "\n",
    "\n",
    "En este caso, podemos calcular el valor esperado de cualquier operador unitario $V$ de la siguiente forma\n",
    "\n",
    "$$\n",
    "\\bra{\\psi}V\\ket{\\psi} = \\bra{0} U^\\dagger V U\\ket{0} = \\braket{0}{\\tilde \\psi}\n",
    "$$\n",
    "\n",
    "donde $\\ket{\\tilde\\psi} \\equiv U^\\dagger V U\\ket{0}$ se obtiene mediante un circuito elemental. "
   ]
  },
  {
   "cell_type": "markdown",
   "metadata": {
    "slideshow": {
     "slide_type": "fragment"
    }
   },
   "source": [
    " Midiendo $\\ket{\\tilde \\psi}$  en la base $Z$, la fracción relativa de resultados $+1\\to  n_0/N$ nos da acceso al *módulo del valor esperado*, \n",
    " \n",
    "$$\n",
    "\\sqrt{ \\frac{n_{0}(\\tilde\\psi)}{N} } ~=~  \\sqrt{p_0}  ~=~   | \\braket{0}{\\tilde \\psi}|  ~=~ |\\bra{\\psi}V\\ket{\\psi}|   \n",
    "$$\n",
    "\n"
   ]
  },
  {
   "cell_type": "markdown",
   "metadata": {
    "slideshow": {
     "slide_type": "fragment"
    }
   },
   "source": [
    "<div class=\"alert alert-block alert-info\">\n",
    "<p style=\"text-align:left ;color: navy;\">  \n",
    "Circuito necesario para medir $\\langle V\\rangle_{\\psi} $ donde $\\ket{\\psi} = U\\ket{0}$ es un estado preparable\n",
    "<br>\n",
    "<br>\n",
    "<div>\n",
    "<img src=\"images/vev_unitary_V.png\" width=\"45%\" style=\"margin:auto\"/>\n",
    "</p>\n",
    "</div>\n"
   ]
  },
  {
   "cell_type": "markdown",
   "metadata": {
    "slideshow": {
     "slide_type": "slide"
    }
   },
   "source": [
    "Si $V$ además de ser <i>unitario</i>, fuese <i>hermítico</i>, entonces tendríamos acceso al valor esperado completo, al tratarse de una candidad real. \n",
    "\n",
    "\n",
    "Operadores de 1 cúbit unitarios y hermíticos son, por ejemplo, los operadores \n",
    "$V = X,Y,Z,H$. \n",
    "</div>"
   ]
  },
  {
   "cell_type": "markdown",
   "metadata": {
    "slideshow": {
     "slide_type": "slide"
    }
   },
   "source": [
    "Este argumento nos permite calcular de otra manera \n",
    "\n",
    "$$\n",
    "\\left. \n",
    "\\begin{array}{c} \\langle Z\\rangle_\\psi \\\\ \\rule{0mm}{8mm} \\langle X\\rangle_\\psi \\\\ \\rule{0mm}{8mm} \\langle Y\\rangle_\\psi \\end{array}\n",
    "\\right\\} ~=~\\braket{0}{\\tilde\\psi} ~=~ \\sqrt{\\frac{n_{0}(\\tilde\\psi)}{N}} ~~~\\hbox{con}~~~~\n",
    "\\left\\{ \n",
    "\\begin{array}{l}  \\ket{\\tilde \\psi} = U^\\dagger  Z  U\\ket{0} \\\\ \\rule{0mm}{8mm} \\ket{\\tilde \\psi} = U^\\dagger H Z H U\\ket{0}  \\\\ \\rule{0mm}{8mm}  \\ket{\\tilde \\psi} = U^\\dagger SH Z HS^\\dagger U\\ket{0} \\end{array}\n",
    "\\right.\n",
    "$$"
   ]
  }
 ],
 "metadata": {
  "celltoolbar": "Slideshow",
  "kernelspec": {
   "display_name": "Python 3",
   "language": "python",
   "name": "python3"
  },
  "language_info": {
   "codemirror_mode": {
    "name": "ipython",
    "version": 3
   },
   "file_extension": ".py",
   "mimetype": "text/x-python",
   "name": "python",
   "nbconvert_exporter": "python",
   "pygments_lexer": "ipython3",
   "version": "3.7.10"
  },
  "varInspector": {
   "cols": {
    "lenName": 16,
    "lenType": 16,
    "lenVar": 40
   },
   "kernels_config": {
    "python": {
     "delete_cmd_postfix": "",
     "delete_cmd_prefix": "del ",
     "library": "var_list.py",
     "varRefreshCmd": "print(var_dic_list())"
    },
    "r": {
     "delete_cmd_postfix": ") ",
     "delete_cmd_prefix": "rm(",
     "library": "var_list.r",
     "varRefreshCmd": "cat(var_dic_list()) "
    }
   },
   "types_to_exclude": [
    "module",
    "function",
    "builtin_function_or_method",
    "instance",
    "_Feature"
   ],
   "window_display": false
  }
 },
 "nbformat": 4,
 "nbformat_minor": 4
}
