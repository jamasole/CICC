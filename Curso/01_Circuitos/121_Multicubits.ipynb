{
 "cells": [
  {
   "cell_type": "markdown",
   "metadata": {
    "slideshow": {
     "slide_type": "slide"
    }
   },
   "source": [
    "<img   src=\"../figuras/logo/TalentQ_LogoPosNegro.png\" align=center  width=\"12%\"/>\n",
    "<br>\n",
    "\n",
    "<table width=\"100%\">\n",
    "<td style=\"font-size:400%px;font-style:italic;text-align:right;background-color:rgba(0, 160, 120,0.6)\">\n",
    "Multi-cúbits\n",
    "</td></table>\n",
    "\n",
    "\n",
    "\n",
    "$ \\newcommand{\\bra}[1]{\\langle #1|} $\n",
    "$ \\newcommand{\\ket}[1]{|#1\\rangle} $\n",
    "$ \\newcommand{\\braket}[2]{\\langle #1|#2\\rangle} $\n",
    "$ \\newcommand{\\i}{{\\color{blue} i}} $ \n",
    "$ \\newcommand{\\Hil}{{\\mathbb H}} $\n",
    "$ \\newcommand{\\cg}[1]{{\\rm C}#1} $"
   ]
  },
  {
   "cell_type": "markdown",
   "metadata": {
    "slideshow": {
     "slide_type": "skip"
    }
   },
   "source": [
    "\n",
    "- [Multi-cúbits](#multicubit)\n",
    "\n",
    "\n",
    "- [Entrelazamiento](#entrelazamiento)\n",
    "\n",
    "\n",
    "- [Circuitos multi-cúbit](#circuitos)\n",
    "\n",
    "\n",
    "\n",
    "- [Puertas multi-cúbits](#multioper)\n",
    "\n",
    "\n",
    "- [Teorema de no-clonación](#nocloning)"
   ]
  },
  {
   "cell_type": "code",
   "execution_count": 3,
   "metadata": {
    "slideshow": {
     "slide_type": "slide"
    }
   },
   "outputs": [],
   "source": [
    "%run ../macro_CURSO.py"
   ]
  },
  {
   "cell_type": "markdown",
   "metadata": {
    "slideshow": {
     "slide_type": "slide"
    }
   },
   "source": [
    "<a id=\"multicubit\"></a>\n",
    "<table width=\"100%\">\n",
    "    <td style=\"font-size:250%px;font-family:Helvetica;text-align:left;background-color:rgba(12, 43, 337, 0.3);\">\n",
    "<b>Multi-cúbits</b>\n",
    "</table>   "
   ]
  },
  {
   "cell_type": "markdown",
   "metadata": {
    "slideshow": {
     "slide_type": "slide"
    }
   },
   "source": [
    " Sea $\\{ \\ket{i}\\}_{i=0,1}$ la base computacional del espacio de Hilbert de un cúbit $\\Hil = {\\mathbb C}^2$.\n",
    " \n",
    "<div class=\"alert alert-block alert-info\",text-align:center>\n",
    "<p style=\"text-align: center;\"> <p style=\"text-align: left ;color: navy;\">  \n",
    "<b> Definición: </b> \n",
    "<br>\n",
    "La base computacional de $ \\Hil^{\\otimes n}$ está formada por todas las cadenas de elementos posibles\n",
    "<br><br>\n",
    "$$\n",
    " \\ket{i_{n-1}}\\otimes \\ket{i_{n-2}}\\otimes ... \\otimes \\ket{i_0} ~\\equiv ~\\ket{i_{n-1} i_{n-2}...i_0}~$$ \n",
    "<br>\n",
    "donde $~~\n",
    " i_{n-1},...,i_0=0,1$\n",
    "</div>\n",
    "\n",
    "<br>\n"
   ]
  },
  {
   "cell_type": "markdown",
   "metadata": {
    "slideshow": {
     "slide_type": "fragment"
    }
   },
   "source": [
    "\n",
    "La *dimensión*  dim($\\Hil^{\\otimes n}$) = $2^n$ coincide con el número combinaciones distintas posibles: $2\\times 2...\\times 2 = 2^n$.\n"
   ]
  },
  {
   "cell_type": "markdown",
   "metadata": {
    "slideshow": {
     "slide_type": "skip"
    }
   },
   "source": [
    "\n",
    "- Por ejemplo, para un sistema de 2-cúbits,   $n=2$ y tendríamos $2^n=2^2 = 4$ y entonces\n",
    "\n",
    "<br>\n",
    "\n",
    "$$\n",
    "\\ket{00}~=~ \\ket{0}\\otimes \\ket{0}~=~\n",
    "\\begin{bmatrix}1\\\\ 0\\end{bmatrix}\\begin{bmatrix}1\\\\ 0\\end{bmatrix} = \\begin{bmatrix}1\\\\0\\\\0 \\\\ 0\\end{bmatrix}\n",
    "~~~~~~,~~~~~\n",
    "\\ket{01}~=~ \\ket{0}\\otimes \\ket{1}~=~\n",
    "\\begin{bmatrix}1\\\\ 0\\end{bmatrix}\\begin{bmatrix}0\\\\ 1\\end{bmatrix} = \\begin{bmatrix}0\\\\1\\\\0 \\\\ 0\\end{bmatrix}\n",
    "$$\n",
    "\n",
    "\n",
    "<br>\n",
    "\n",
    "$$\n",
    "\\ket{10}~=~ \\ket{1}\\otimes \\ket{0}~=~\n",
    " \\begin{bmatrix}0\\\\ 1\\end{bmatrix}\\begin{bmatrix}1\\\\ 0\\end{bmatrix} = \\begin{bmatrix}0\\\\0\\\\1 \\\\ 0\\end{bmatrix}\n",
    " ~~~~~,~~~~\n",
    "\\ket{11}~=~ \\ket{1}\\otimes \\ket{1}~=~\n",
    "\\begin{bmatrix}0\\\\ 1\\end{bmatrix}\\begin{bmatrix}0\\\\ 1\\end{bmatrix} = \\begin{bmatrix}0\\\\0\\\\0 \\\\ 1\\end{bmatrix}\n",
    "$$\n",
    "\n",
    "<br>\n",
    "\n",
    "\n",
    "Las etiquetas de los vectores y, por tanto, de las componentes de las matrices, bi-índices $ij=11,12,21,22$ que adopta el mismo número, $N^2$, de cofiguraciones distintas. \n"
   ]
  },
  {
   "cell_type": "markdown",
   "metadata": {
    "slideshow": {
     "slide_type": "slide"
    }
   },
   "source": [
    "<div class=\"alert alert-block alert-danger\">\n",
    "    El <i>multi-ínidice</i> $i_{n}i_{n-1}....i_1$ interpretarse como un número entero escrito en base *binaria*\n",
    "<br>\n",
    "\n",
    "$$\n",
    "~~ i_n i_{n-1}...i_1 ~~\\longleftrightarrow ~~~p = \\sum_{k=1}^n 2^{k-1} i_k \n",
    "$$\n",
    "<br>\n",
    "que tomará  $2^n$ valores $p = 0,1,2... 2^{n}-1$. \n",
    "El cambio de notación *multi-índice* $\\leftrightarrow$ *entero en notación decimal* será frecuente y se aplicará a cualquier elemento. Por ejemplo $\\ket{000} = \\ket{0}, \\ket{111} = \\ket{7}$ etc.\n",
    "</div>"
   ]
  },
  {
   "cell_type": "markdown",
   "metadata": {
    "slideshow": {
     "slide_type": "skip"
    }
   },
   "source": [
    "<div class=\"alert alert-block alert-success\">\n",
    "    <b>Ejercicio:</b>\n",
    "escribe una función que reciba una lista asociada a $\\ket{p}$ y  devuelva el ket $\\ket{i_1,...,i_n}$ asociado.\n",
    "    \n",
    "<details>\n",
    "<summary><p style=\"color:green;text-align:right\"> >> Solución </p></summary>\n",
    "     \n",
    "    uket=np.array([0,0,0,0,0,1,0,0]).reshape(8,1)\n",
    "    from qiskit.quantum_info import Statevector\n",
    "    Statevector(uket).draw('Latex')     \n",
    "</details>\n",
    "</div>"
   ]
  },
  {
   "cell_type": "markdown",
   "metadata": {
    "slideshow": {
     "slide_type": "fragment"
    }
   },
   "source": [
    "<div class=\"alert alert-block alert-info\",text-align:center>\n",
    "<p style=\"text-align: center;\"> <p style=\"text-align: left ;color: navy;\">  \n",
    "<br>    \n",
    "El vector de estado más general  $\\ket{u}\\in \\Hil^{\\otimes n}$ será una combinación lineal de elementos de la base computacional $\\ket{i_n i_{n-1}...i_1}$ en términos de unas componentes $u_{i_ni_{n-1}...i_1}$\n",
    "<br>    \n",
    "<br>\n",
    "$$\n",
    "\\ket{u} = \\sum_{i_1,i_2,..,i_n=0,1} u_{i_ni_{n-1}...i_1} \\ket{i_n i_{n-1}...i_1}  = \\sum_{k=0}^{2^n-1} u_k \\ket{k}, .\n",
    "$$\n",
    "<br>\n",
    "donde hemos usado alternativamente la notación binaria y la decimal. \n",
    "</div>\n",
    "\n",
    "\n",
    "\n"
   ]
  },
  {
   "cell_type": "markdown",
   "metadata": {
    "slideshow": {
     "slide_type": "skip"
    }
   },
   "source": [
    "<div class=\"alert alert-block alert-warning\">\n",
    "<b>Ejemplo:</b>para $n=2$ tendremos, en notación binaria  \n",
    "\n",
    "\\begin{array}{ccc}\n",
    "\\ket{u} ~&=& ~ \\sum_{i,j=0,1} u_{ij} \\ket{ij}~=~ u_{00}\\ket{00}+ u_{01}\\ket{01} + u_{10}\\ket{10} +u_{11}\\ket{11}\n",
    "\\\\ \\\\\n",
    "~&=&~ u_{00}\\begin{bmatrix}1\\\\0\\\\0 \\\\ 0\\end{bmatrix}+ u_{01}  \\begin{bmatrix}0\\\\1\\\\0 \\\\ 0\\end{bmatrix} + u_{10}\\begin{bmatrix}0\\\\0\\\\1\\\\0\\end{bmatrix}+u_{11}  \\begin{bmatrix}0\\\\0\\\\0\\\\1\\end{bmatrix}   ~ = \\begin{bmatrix}u_{00}\\\\ u_{01}\\\\ u_{10} \\\\ u_{11}  \\end{bmatrix}\n",
    "\\end{array}\n",
    "\n",
    "y en notación decimal, para el mismo vector\n",
    "\\begin{array}{ccc}\n",
    "\\ket{u} ~&=& ~ \\sum_{k=0}^{2^2-1=3} u_{k} \\ket{k}~=~ u_{0}\\ket{0}+ u_{1}\\ket{1} + u_{2}\\ket{2} +u_{3}\\ket{3}\n",
    "\\\\ \\\\\n",
    "~&=&~ u_{0}\\begin{bmatrix}1\\\\0\\\\0 \\\\ 0\\end{bmatrix}+ u_{1}  \\begin{bmatrix}0\\\\1\\\\0 \\\\ 0\\end{bmatrix} + u_{2}\\begin{bmatrix}0\\\\0\\\\1\\\\0\\end{bmatrix}+u_{3}  \\begin{bmatrix}0\\\\0\\\\0\\\\1\\end{bmatrix}   ~ = \\begin{bmatrix}u_{0}\\\\ u_{1}\\\\ u_{2} \\\\ u_{3}  \\end{bmatrix}\n",
    "\\end{array}\n",
    "\n",
    "No debería haber confusión entre ambas notaciones puesto que, en cuanto aparezca un número superior a 1 quiere decir que estamos tratando con la base decimal. \n",
    "</div>\n",
    "\n"
   ]
  },
  {
   "cell_type": "markdown",
   "metadata": {
    "slideshow": {
     "slide_type": "skip"
    }
   },
   "source": [
    "  \n",
    "<div class=\"alert alert-block alert-success\">\n",
    "    <b>Ejercicio:</b> \n",
    "\n",
    "Escribe el vector $\\ket{u} = (1+i)\\ket{101} -2\\ket{010} + 3\\ket{111}$ normalizado\n",
    "</div>"
   ]
  },
  {
   "cell_type": "code",
   "execution_count": null,
   "metadata": {
    "slideshow": {
     "slide_type": "skip"
    }
   },
   "outputs": [],
   "source": [
    "# escribimos las componentes\n",
    "u=np.array([0,0,-2,0,0,1+1j,0,3])\n",
    "#verificamos\n",
    "from qiskit.quantum_info import Statevector\n",
    "Statevector(u).draw('Latex')"
   ]
  },
  {
   "cell_type": "code",
   "execution_count": null,
   "metadata": {
    "slideshow": {
     "slide_type": "skip"
    }
   },
   "outputs": [],
   "source": [
    "from numpy import linalg as la\n",
    "#normalizamos\n",
    "u /= la.norm(u)\n",
    "#escribios en la base computacional\n",
    "Statevector(u).draw('Latex')"
   ]
  },
  {
   "cell_type": "markdown",
   "metadata": {
    "slideshow": {
     "slide_type": "slide"
    }
   },
   "source": [
    "### Circuitos multi-cúbit"
   ]
  },
  {
   "cell_type": "markdown",
   "metadata": {
    "slideshow": {
     "slide_type": "-"
    }
   },
   "source": [
    "Sea $\\ket{q_{n-1}q_{n-2}...q_1q_0}$ un estado multicúbit de la base computacional $q_{i} = 0,1$. \n",
    "\n",
    "Este estado \n",
    "se propaga a lo largo de un circuito de forma que <i>cada línea representa un espacio de Hilbert</i>. "
   ]
  },
  {
   "cell_type": "markdown",
   "metadata": {
    "slideshow": {
     "slide_type": "fragment"
    }
   },
   "source": [
    "La asignación que se hace en *qiskit* coloca el cúbit *menos relevante* $q_0$  en la  línea superior. Esto es\n",
    "\n",
    "- Qiskit\n",
    "\n",
    "\n",
    "<div>\n",
    " <img src=\"images/Multicubit_circ.png\" width=\"20%\" style=\"margin:auto\"/>\n",
    "</div>\n",
    "<br>\n",
    "\n",
    "\n"
   ]
  },
  {
   "cell_type": "markdown",
   "metadata": {
    "slideshow": {
     "slide_type": "fragment"
    }
   },
   "source": [
    "Esta ordenación en un circuito es la inversa de la que tradicionalmente (siguiendo la influencia del libro de Nielsen Chuang) se utiliza en la literatura. \n",
    "\n",
    "- Nielsen Chuang\n",
    "\n",
    "<div>\n",
    "<img src=\"images/Multicubit_circ_NC.png\" width=\"20%\" style=\"margin:auto\"/>\n",
    "</div>\n",
    "<br>"
   ]
  },
  {
   "cell_type": "markdown",
   "metadata": {
    "slideshow": {
     "slide_type": "slide"
    }
   },
   "source": [
    "<a id=\"entrelazamiento\"></a>\n",
    "<table width=\"100%\">\n",
    "    <td style=\"font-size:250%px;font-family:Helvetica;text-align:left;background-color:rgba(12, 43, 337, 0.3);\">\n",
    "<b>Entrelazamiento</b>\n",
    "</table>   "
   ]
  },
  {
   "cell_type": "markdown",
   "metadata": {
    "slideshow": {
     "slide_type": "slide"
    }
   },
   "source": [
    "De forma  general, los estados $\\ket{u}\\in \\Hil^{\\otimes n}$ pertenecen a dos conjuntos disjuntos\n",
    "    <br>\n",
    "    \n",
    "   - estado factorizables, cuando $\\ket{u} = \\ket{a}\\otimes \\ket{b}\\otimes...\\otimes \\ket{c}$\n",
    "    \n",
    "    <br>\n",
    "    \n",
    "   - estados entrelazados, cuando $\\ket{u}$ no es factorizable\n",
    "    \n",
    "  "
   ]
  },
  {
   "cell_type": "markdown",
   "metadata": {
    "slideshow": {
     "slide_type": "slide"
    }
   },
   "source": [
    "Ahora podemos usar también bases cuyo elementos sean vectores factorizados o entrelazados. \n",
    "\n",
    "- **base computacional** (factorizada): $\\{ \\ket{00},\\ket{01},\\ket{10},\\ket{11}\\}$\n",
    "<br>\n",
    "\n",
    "- **base de Bell** (entrelazada): \n",
    "\n",
    "\\begin{array}{rcl}\n",
    "\\ket{B_{00}} &=& \\frac{1}{\\sqrt{2}} \\big( \\ket{00} + \\ket{11} \\big) \\\\\n",
    "\\ket{B_{01}} &=& \\frac{1}{\\sqrt{2}} \\big( \\ket{01} + \\ket{10} \\big) \\\\\n",
    "\\ket{B_{10}} &=& \\frac{1}{\\sqrt{2}} \\big( \\ket{00} - \\ket{11} \\big) \\\\\n",
    "\\ket{B_{11}} &=& \\frac{1}{\\sqrt{2}} \\big( \\ket{01} - \\ket{10} \\big) \\\\\n",
    "\\end{array}\n",
    "\n",
    "<br>"
   ]
  },
  {
   "cell_type": "markdown",
   "metadata": {
    "slideshow": {
     "slide_type": "slide"
    }
   },
   "source": [
    "### Medidas parciales\n",
    "\n",
    "Una medida parcial afecta sólamente a un subconjunto de cúbits de un multi-cúbit. \n",
    "\n",
    "Aquí encontramos una diferencia crucial entre estados factorizados y entrelazados. "
   ]
  },
  {
   "cell_type": "markdown",
   "metadata": {
    "slideshow": {
     "slide_type": "fragment"
    }
   },
   "source": [
    "Consideremos el estado bi-cúbit *factorizable* visto antes\n",
    "\n",
    "$$\n",
    "\\ket{u} = \\ket{a}\\otimes \\ket{b} = \\frac{1}{\\sqrt{2}}\\big( \\ket{0} + \\ket{1}\\big)\\otimes \\frac{1}{\\sqrt{2}}\\big( \\ket{0} + \\ket{1}\\big)\\, .\n",
    "$$"
   ]
  },
  {
   "cell_type": "markdown",
   "metadata": {
    "slideshow": {
     "slide_type": "fragment"
    }
   },
   "source": [
    "Una medida sobre el primer cúbit solo podrá resultar, con probabilidad $1/2$, en uno de los dos posibles estados siguientes  \n",
    "<br>\n",
    "<br>\n",
    "$$\n",
    "\\ket{u} ~\\rightarrow ~ \\left\\{ \\begin{matrix}\\ket{0} \\otimes \\frac{1}{\\sqrt{2}}\\big( \\ket{0} + \\ket{1}\\big)\\\\ \\ket{1} \\otimes \\frac{1}{\\sqrt{2}}\\big( \\ket{0} + \\ket{1}\\big) \\end{matrix} \\right.\n",
    "$$\n",
    "<br>\n",
    "\n",
    "Vemos que, después de esta medición, el segundo cúbit permanece intacto. \n"
   ]
  },
  {
   "cell_type": "markdown",
   "metadata": {
    "slideshow": {
     "slide_type": "slide"
    }
   },
   "source": [
    " Sin embargo, si el estado es *entrelazado*, por ejemplo, \n",
    "<br>\n",
    "\n",
    "$$\n",
    "  \\ket{u} = \\frac{1}{\\sqrt{2}}\\big( \\ket{00} + \\ket{11} \\big)\\, ,\n",
    "$$\n",
    "<br>\n",
    "una medida sobre el primer cúbit hace colapsar el segundo a uno de los dos siguientes posibles estados\n",
    "<br>\n",
    "<br>\n",
    "$$\n",
    "\\ket{u} ~\\rightarrow ~ \\left\\{ \\begin{matrix}\\ket{0}\\otimes\\ket{0}  \\\\ \\ket{1}\\otimes \\ket{1}\\end{matrix} \\right. \\, .\n",
    "$$\n",
    "<br>\n",
    "también con probabilidad 1/2"
   ]
  },
  {
   "cell_type": "markdown",
   "metadata": {
    "slideshow": {
     "slide_type": "fragment"
    }
   },
   "source": [
    "Vemos que ahora, el segundo cúbit ha sufrido modificación  *correlacionada* con el resultado obtenido de la medida del primero cúbit.  "
   ]
  },
  {
   "cell_type": "markdown",
   "metadata": {
    "slideshow": {
     "slide_type": "slide"
    }
   },
   "source": [
    "<div class=\"alert alert-block alert-danger\">\n",
    "\n",
    "- En ambos casos,  las probabilidades de medir $\\ket{0}$ ó $\\ket{1}$ en el segundo cúbit, son idénticamente iguales a $1/2$. \n",
    "    \n",
    "- Eso implica que: mediciones sobre el segundo cúbit, <i>no permiten desvelar</i> si el estado original era entrelazado o no. \n",
    "\n",
    "- Sin embargo, el entrelazamiento introduce un tipo de correlaciones muy sutiles que se pueden detectar haciendo medidas más sofisticadas, como las que conducen a las desigualdades de Bell. \n",
    "\n",
    "</div>"
   ]
  },
  {
   "cell_type": "markdown",
   "metadata": {
    "slideshow": {
     "slide_type": "slide"
    }
   },
   "source": [
    "<a id='multioper'></a>\n",
    "<table width=\"100%\">\n",
    "<td style=\"font-size:250%px;font-family:Helvetica;text-align:left;background-color:rgba(12, 43, 337, 0.3);\">\n",
    "<b>Puertas multi-cúbit</b>\n",
    "</table> "
   ]
  },
  {
   "cell_type": "markdown",
   "metadata": {
    "slideshow": {
     "slide_type": "slide"
    }
   },
   "source": [
    "### La puerta de Walsh-Hadamard"
   ]
  },
  {
   "cell_type": "markdown",
   "metadata": {
    "slideshow": {
     "slide_type": "fragment"
    }
   },
   "source": [
    "El operador de Waslh-Hadamard es un producto tensorial de operadores\n",
    "<br>\n",
    "<br>\n",
    "$$\n",
    "W =  H^{\\otimes n} = H\\otimes H \\ldots \\otimes H \n",
    "$$\n"
   ]
  },
  {
   "cell_type": "markdown",
   "metadata": {
    "slideshow": {
     "slide_type": "fragment"
    }
   },
   "source": [
    "\n",
    "\n",
    "La  acción  de $W$ sobre el estado de referencia $\\ket{00...0}$ produce una *superposición uniforme* de todos los estados de la base.\n",
    "<br>\n",
    "<br>\n",
    "\n",
    "\\begin{eqnarray}\n",
    "W \\ket{00...0} &=& H\\ket{0}\\otimes H\\ket{0} \\otimes ... \\otimes H\\ket{0} \\\\  \\rule{0mm}{8mm}\n",
    "&=& \\frac{1}{\\sqrt{2}}\\big(\\ket{0}+\\ket{1}\\big)\\otimes \\frac{1}{\\sqrt{2}}\\big(\\ket{0}+\\ket{1}\\big)\\otimes ...\\otimes \\frac{1}{\\sqrt{2}}\\big(\\ket{0}+\\ket{1}\\big)\\\\ \\rule{0mm}{8mm}\n",
    "&=& \\frac{1}{2^{n/2}}\\big(\\ket{00...00} + \\ket{00...01}+....+\\ket{11...11} \\big)\n",
    "\\end{eqnarray}\n",
    " "
   ]
  },
  {
   "cell_type": "markdown",
   "metadata": {
    "slideshow": {
     "slide_type": "slide"
    }
   },
   "source": [
    "### La puerta SWAP"
   ]
  },
  {
   "cell_type": "markdown",
   "metadata": {
    "slideshow": {
     "slide_type": "-"
    }
   },
   "source": [
    " La puerta SWAP es una puerta binaria fundamental, cuya acción consiste en permutar los estados existentes en los registros individuales sobre los que actúa. En particular, sobre los elementos de la base\n",
    "\n",
    "\n",
    "$$\n",
    "U_{\\rm SWAP }: \\ket{00}\\to\\ket{00}~~,~~\\ket{01}\\to\\ket{10}~~,~~\\ket{10}\\to\\ket{01}~~,~~\n",
    "\\ket{11}\\to\\ket{11}\\, .\n",
    "$$\n"
   ]
  },
  {
   "cell_type": "markdown",
   "metadata": {
    "slideshow": {
     "slide_type": "fragment"
    }
   },
   "source": [
    "Esto nos permite escribir el operador en la notación de producto exterior\n",
    "\n",
    "$$\n",
    "U_{\\rm SWAP } = \\ket{00}\\bra{00} + \\ket{01}\\bra{10} + \\ket{10}\\bra{01} +\\ket{11}\\bra{11} \n",
    "$$\n"
   ]
  },
  {
   "cell_type": "markdown",
   "metadata": {
    "slideshow": {
     "slide_type": "fragment"
    }
   },
   "source": [
    "con matriz asociada \n",
    "$$\n",
    "U_{\\rm SWAP} =  \\begin{bmatrix} \n",
    "1 & 0 & 0 & 0 \\\\ 0 & 0 & 1 & 0 \\\\ 0 & 1 & 0 & 0 \\\\ 0 & 0 & 0 & 1\n",
    "\\end{bmatrix}\n",
    "$$"
   ]
  },
  {
   "cell_type": "markdown",
   "metadata": {
    "slideshow": {
     "slide_type": "fragment"
    }
   },
   "source": [
    "y su inserción en un circuito se representa en la forma siguiente\n",
    "<br>\n",
    "<br>\n",
    "<div>\n",
    "<img src=\"images/SWAP_gate.png\" width=\"25%\" style=\"margin:auto\"/>\n",
    "</div>\n",
    "<br>"
   ]
  },
  {
   "cell_type": "markdown",
   "metadata": {
    "slideshow": {
     "slide_type": "slide"
    }
   },
   "source": [
    "### Puertas controladas $\\cg{U}$"
   ]
  },
  {
   "cell_type": "markdown",
   "metadata": {
    "slideshow": {
     "slide_type": "-"
    }
   },
   "source": [
    "Las puertas controladas son eficientes para generar entrelazamiento"
   ]
  },
  {
   "cell_type": "markdown",
   "metadata": {
    "slideshow": {
     "slide_type": "fragment"
    }
   },
   "source": [
    "En la puerta controlada un operador se aplica sobre un cúbit dependiendo del estado en el que se encuentra otro. \n",
    "\n",
    "Este segundo cúbit se denomina *controlador*, mientras que el primero es el *controlado*\n",
    "\n"
   ]
  },
  {
   "cell_type": "markdown",
   "metadata": {
    "slideshow": {
     "slide_type": "fragment"
    }
   },
   "source": [
    "La puerta controlada se representa como sigue\n",
    "<br>\n",
    "<br>\n",
    "\n",
    "$$\n",
    "\\cg{U} = \\ket{0}\\bra{0}\\otimes I + \\ket{1}\\bra{1}\\otimes U\n",
    "$$\n",
    "<br>\n",
    "\n",
    "donde $U$ es un operador unitario de 1-cúbit general. \n"
   ]
  },
  {
   "cell_type": "markdown",
   "metadata": {
    "slideshow": {
     "slide_type": "fragment"
    }
   },
   "source": [
    "Si en el primer cúbit (controlador)\n",
    "<br>\n",
    "    \n",
    "- entra $\\ket{0}$, sale $\\ket{0}$ y en el segundo cúbit (controlado) no se hace nada (se aplica $I$).\n",
    "<br>\n",
    "    \n",
    "- entra $\\ket{1}$, sale $\\ket{1}$ y en el segundo cúbit (controlado) se aplica el operador $U$.\n",
    "\n"
   ]
  },
  {
   "cell_type": "markdown",
   "metadata": {
    "slideshow": {
     "slide_type": "slide"
    }
   },
   "source": [
    "La *representación matricial* de $\\cg{U}$ es fácil de obtener como suma de  *productos de Kronecker* \n",
    "\n",
    "\n",
    "$$\n",
    "\\cg{U} = \\begin{bmatrix}1 & 0 \\\\ 0 & 0 \\end{bmatrix}\\otimes  I +  \\begin{bmatrix}0 & 0 \\\\ 0 & 1 \\end{bmatrix} \\otimes U\n",
    "= \\begin{bmatrix} 1\\times I & 0 \\\\ 0 & 0 \\end{bmatrix}  + \n",
    "\\begin{bmatrix} 0 & 0 \\\\ 0 & 1\\times U \\end{bmatrix} = \\begin{bmatrix}   I & 0 \\\\ 0 &   U \\end{bmatrix} = \n",
    "\\begin{bmatrix} 1 & 0 & 0 & 0 \\\\ 0 & 1 & 0 & 0 \\\\ 0 & 0 & U_{11} & U_{12} \\\\\n",
    "0 & 0 & U_{21} & U_{22}\\end{bmatrix}\n",
    "$$\n",
    "\n"
   ]
  },
  {
   "cell_type": "markdown",
   "metadata": {
    "slideshow": {
     "slide_type": "fragment"
    }
   },
   "source": [
    "<div class=\"alert alert-block alert-danger\">\n",
    "\n",
    "- Escrito de esta manera es evidente que, si $U$ es una matriz unitaria, $\\cg{U}$ también lo es $~\n",
    "\\Rightarrow (\\cg{U})^\\dagger \\cg{U} = I$\n",
    "\n",
    "\n",
    "- Esto no es algo trivial por cuanto la combinación lineal de operadores unitarios, en general, no es  unitaria.\n",
    "</div>"
   ]
  },
  {
   "cell_type": "markdown",
   "metadata": {
    "slideshow": {
     "slide_type": "slide"
    }
   },
   "source": [
    "- La *acción* de $\\cg{U}$ sobre elementos de la base $\\{\\ket{x}\\}$ donde $x=0,1$ admite una forma compacta \n",
    "<br>\n",
    "<br>\n",
    "$$\n",
    "\\cg{U}:\\ket{x}\\otimes\\ket{y} = \\ket{x} \\otimes U^x\\ket{y}\n",
    "$$\n",
    "<br>\n"
   ]
  },
  {
   "cell_type": "markdown",
   "metadata": {
    "slideshow": {
     "slide_type": "fragment"
    }
   },
   "source": [
    "- La *representación gráfica* del circuito asociado al operador controlado $\\cg{U}$ es la siguiente\n",
    "<br>\n",
    "<br>\n",
    "<br>\n",
    "\n",
    "<div>\n",
    "<img src=\"images/cu_gate.png\" width=\"20%\" style=\"margin:auto\"/>\n",
    "</div>\n",
    "<br>\n",
    "con $x,y = 0,1$.\n"
   ]
  },
  {
   "cell_type": "markdown",
   "metadata": {
    "slideshow": {
     "slide_type": "fragment"
    }
   },
   "source": [
    "<div class=\"alert alert-block alert-success\">\n",
    "    <b>Ejercicio:</b>  escribe un operador controlado y las matrices asociadas cuando  \n",
    "\n",
    "-  el cúbit de control es el segundo sobre el primero. \n",
    "<br>\n",
    "-  el operador $U$ se aplica sobre el segundo cúbit, si el estado del primero es $\\ket{0}$. \n",
    "\n",
    "</div>\n",
    "    \n"
   ]
  },
  {
   "cell_type": "markdown",
   "metadata": {
    "slideshow": {
     "slide_type": "slide"
    }
   },
   "source": [
    "Operadores como éste existen en circuitos clásicos. La fascinante novedad es que, ahora, por el primer cúbit podría circular una superposición $a\\ket{0} + b\\ket{1}$.\n",
    "\n",
    "En ese caso, el resultado de una acción controlada también conduce a una superposición, de forma tal que **se genera entrelazamiento**\n"
   ]
  },
  {
   "cell_type": "markdown",
   "metadata": {
    "slideshow": {
     "slide_type": "fragment"
    }
   },
   "source": [
    "    \n",
    "Para verlo, hagamos actuar $\\cg{U}$ sobre un estado de la forma  $\\ket{\\phi} = (a\\ket{0} + b\\ket{1})\\otimes \\ket{U}$, que es *factorizable*\n",
    "  \n",
    "<br>\n",
    " \n",
    "\\begin{eqnarray}\n",
    "\\cg{U}\\,(a\\ket{0} +b \\ket{1})\\otimes \\ket{v} &=&\n",
    "    \\left(\\ket{0}\\bra{0}\\otimes I + \\ket{1}\\bra{1}\\otimes U\\rule{0mm}{4mm}\\right)(a\\ket{0} +b \\ket{1})\\otimes \\ket{v}  \n",
    "  \\\\ \\rule{0mm}{8mm}\n",
    "    &=& a\\ket{0}\\otimes \\ket{v} + b\\ket{1}\\otimes U\\ket{v} \\nonumber\n",
    "\\end{eqnarray}\n"
   ]
  },
  {
   "cell_type": "markdown",
   "metadata": {
    "slideshow": {
     "slide_type": "fragment"
    }
   },
   "source": [
    "Vemos que, efectivamente, el resultado es un estado *entrelazado*. \n",
    "<br>\n",
    "<br>\n",
    "<br>\n",
    "<div>\n",
    "<img src=\"images/entangling_CU_circuit.png\" width=\"40%\" style=\"margin:auto\"/>\n",
    "</div>\n",
    "<br>\n",
    "\n"
   ]
  },
  {
   "cell_type": "markdown",
   "metadata": {
    "slideshow": {
     "slide_type": "slide"
    }
   },
   "source": [
    "### La puerta CNOT"
   ]
  },
  {
   "cell_type": "markdown",
   "metadata": {
    "slideshow": {
     "slide_type": "-"
    }
   },
   "source": [
    "Es el caso más frecuente de una puerta binaria controlada es la puerta CNOT = $\\cg{X}$\n",
    "\n",
    "$$\n",
    "\\hbox{CNOT} = \\cg{X} ~=~ \\ket{0}\\bra{0}\\otimes I + \\ket{1}\\bra{1}\\otimes X ~=~ \\begin{bmatrix} 1 & 0 & 0 & 0 \\\\ 0 & 1 & 0 & 0 \\\\ 0 & 0 & 0 & 1 \\\\\n",
    "0 & 0 & 1 & 0\\end{bmatrix}\n",
    "$$"
   ]
  },
  {
   "cell_type": "markdown",
   "metadata": {
    "slideshow": {
     "slide_type": "fragment"
    }
   },
   "source": [
    "- Sobre elementos de la base computacional $\\ket{xy}=\\ket{x}\\otimes\\ket{y}$ donde $\\, x,y= 0,1$, su acción  se puede representar de manera compacta usando la suma módulo dos \n",
    "\n",
    "$$\n",
    "\\cg{X}:\\ket{x}\\otimes\\ket{y}=  \\ket{x} \\otimes X^x\\ket{y} = \\ket{x} \\otimes \\ket{y\\oplus x}\n",
    "$$\n",
    "\n",
    "$\\rule{0.5cm}{0mm}$ gráficamente"
   ]
  },
  {
   "cell_type": "markdown",
   "metadata": {
    "slideshow": {
     "slide_type": "fragment"
    }
   },
   "source": [
    "\n",
    "<div>\n",
    "<img src=\"images/cX_gate.png\" width=\"20%\" style=\"margin:auto\"/>\n",
    "</div>"
   ]
  },
  {
   "cell_type": "markdown",
   "metadata": {
    "slideshow": {
     "slide_type": "fragment"
    }
   },
   "source": [
    "<br>\n",
    "<div class=\"alert alert-block alert-success\">\n",
    "<b> Ejercicio </b>: el estado factorizable más general de dos cúbits es ($a$ es la normalización)\n",
    "\n",
    "$$\n",
    "\\ket{\\psi} = a \\left(\\ket{0} + b_1 e^{i\\phi_1}\\ket{1}) (\\ket{0} + b_0 e^{i\\phi_0} \\ket{1} \\right) \n",
    "$$\n",
    "<br>\n",
    "\n",
    "Escribe la condición más general que deben satisfacer  $b_0,b_1,\\phi_0$ y $\\phi_1$ para que CNOT$\\ket{\\psi}$ sea un vector entrelazado.\n",
    "</div>"
   ]
  },
  {
   "cell_type": "markdown",
   "metadata": {
    "slideshow": {
     "slide_type": "slide"
    }
   },
   "source": [
    "La puerta CNOT en qiskit aparece invertida con respecto a la que dibujamos más arriba. Ello se debe a que qiskit ordena los qubits en $\\ket{q_1 \\, q_0}$ poniendo el asociado al bit menos relevante $q_0$ arriba. \n"
   ]
  },
  {
   "cell_type": "code",
   "execution_count": 1,
   "metadata": {
    "slideshow": {
     "slide_type": "fragment"
    }
   },
   "outputs": [
    {
     "data": {
      "image/png": "[encoded data removed]",
      "text/plain": [
       "<Figure size 146.652x144.48 with 1 Axes>"
      ]
     },
     "execution_count": 1,
     "metadata": {},
     "output_type": "execute_result"
    }
   ],
   "source": [
    "from qiskit import QuantumCircuit\n",
    "qc = QuantumCircuit(2)\n",
    "qc.cx(1,0)\n",
    "qc.draw(output='mpl')"
   ]
  },
  {
   "cell_type": "markdown",
   "metadata": {
    "slideshow": {
     "slide_type": "fragment"
    }
   },
   "source": [
    "ahora podemos pedir el operador unitario que reproduce el circuito anterior\n"
   ]
  },
  {
   "cell_type": "code",
   "execution_count": 8,
   "metadata": {
    "slideshow": {
     "slide_type": "fragment"
    }
   },
   "outputs": [
    {
     "data": {
      "text/latex": [
       "$$\n",
       "\\text{CNOT = }\n",
       "\n",
       "\\begin{bmatrix}\n",
       "1 & 0 & 0 & 0  \\\\\n",
       " 0 & 1 & 0 & 0  \\\\\n",
       " 0 & 0 & 0 & 1  \\\\\n",
       " 0 & 0 & 1 & 0  \\\\\n",
       " \\end{bmatrix}\n",
       "$$"
      ],
      "text/plain": [
       "<IPython.core.display.Latex object>"
      ]
     },
     "execution_count": 8,
     "metadata": {},
     "output_type": "execute_result"
    }
   ],
   "source": [
    "from qiskit import Aer, execute\n",
    "U_simulator = Aer.get_backend('unitary_simulator')\n",
    "\n",
    "job = execute(qc, backend = U_simulator)\n",
    "CNOT_matrix = job.result().get_unitary()\n",
    "\n",
    "#print(U_matrix)\n",
    "from qiskit.tools.visualization import array_to_latex\n",
    "array_to_latex(CNOT_matrix, prefix=\"\\\\text{CNOT = }\\n\")"
   ]
  },
  {
   "cell_type": "markdown",
   "metadata": {
    "slideshow": {
     "slide_type": "slide"
    }
   },
   "source": [
    "### La puerta CSWAP o de Fredkin"
   ]
  },
  {
   "cell_type": "markdown",
   "metadata": {
    "slideshow": {
     "slide_type": "-"
    }
   },
   "source": [
    "Si el cúbit  de control está en  el estado $\\ket{1}$ los dos controlados se intercambian\n",
    "<br>\n",
    "<br>\n",
    "$$\n",
    "U_{\\rm CSWAP} =\\ket{0}\\bra{0} \\otimes I_4 + \\ket{1}\\bra{1} \\otimes U_{\\rm SWAP} \\, .\n",
    "$$\n",
    "\n",
    "\n",
    "<br>\n",
    "<br>\n",
    "<div>\n",
    "<img src=\"images/CSWAP_gate.png\" width=\"15%\" style=\"margin:auto\"/>\n",
    "</div>\n",
    "<br>\n"
   ]
  },
  {
   "cell_type": "markdown",
   "metadata": {
    "slideshow": {
     "slide_type": "slide"
    }
   },
   "source": [
    "### La puerta CCNOT o de Toffoli"
   ]
  },
  {
   "cell_type": "markdown",
   "metadata": {
    "slideshow": {
     "slide_type": "-"
    }
   },
   "source": [
    "La puerta CCNOT, también llamada puerta de Toffoli,  es un operador sobre $\\Hil^{\\otimes 3}$, en el que dos cúbits controlan la acción de $X$ sobre un tercero\n",
    "\n",
    "$\\Rightarrow$\n",
    "*sólo si ambos cúbits* de control están en el estado $\\ket{11}$ el operador $X$ actuará sobre el tercero\n",
    "<br>\n",
    "<br>\n",
    "<br>\n",
    "<div>\n",
    "<img src=\"images/ccX_gate.png\" width=\"20%\" style=\"margin:auto\"/>\n",
    "</div>\n",
    "<br>\n"
   ]
  },
  {
   "cell_type": "markdown",
   "metadata": {
    "slideshow": {
     "slide_type": "fragment"
    }
   },
   "source": [
    "De nuevo, su representación es muy sencilla\n",
    "\n",
    "$$\n",
    "{\\rm CCNOT} = \\big(\\ket{00}\\bra{00}+\\ket{01}\\bra{01}+\\ket{10}\\bra{10}\\big)\\otimes I + \\ket{11}\\bra{11}\\otimes X\n",
    "$$\n",
    "\n"
   ]
  },
  {
   "cell_type": "markdown",
   "metadata": {
    "slideshow": {
     "slide_type": "fragment"
    }
   },
   "source": [
    "<div class=\"alert alert-block alert-success\">\n",
    "<b> Ejercicios </b>: \n",
    "<br>    \n",
    "<br>    \n",
    "1. obtener la matriz que representa la puerta de Toffoli en la base computacional. Reproducirla usando <i>qiskit</i>.\n",
    "    <br><br> \n",
    "2. obtener la matriz de un circuito de 3 cúbits con una puerta CNOT en la que el tercer cúbit controla el primero. Reproducirla usando qiskit.\n",
    "</table>"
   ]
  },
  {
   "cell_type": "markdown",
   "metadata": {
    "slideshow": {
     "slide_type": "slide"
    }
   },
   "source": [
    "### Puertas multiplemente controladas"
   ]
  },
  {
   "cell_type": "markdown",
   "metadata": {
    "slideshow": {
     "slide_type": "fragment"
    }
   },
   "source": [
    "En la puerta CNOT o CX multi-controlada el operador X se activa si y sólo si los cúbits de control se encuentran en una configuración deseada. \n",
    " \n",
    " Los botones blancos denotan controladores que se activan si el cúbit es $\\ket{0}$. Esencialmente son iguales a un controlador negro con una puerta $X$ antes y otra después.\n"
   ]
  },
  {
   "cell_type": "markdown",
   "metadata": {
    "slideshow": {
     "slide_type": "fragment"
    }
   },
   "source": [
    "Por ejemplo, en este caso, la puerta $X$ se activará si los cúbits de control se encuentran en el estado $\\ket{1100}$\n",
    "\n",
    "<br>\n",
    "<br>\n",
    "<br>\n",
    "<div>\n",
    "<img src=\"images/MCX_gate.png\" width=\"8%\" style=\"margin:auto\"/>\n",
    "</div>\n",
    "<br>\n"
   ]
  },
  {
   "cell_type": "markdown",
   "metadata": {
    "slideshow": {
     "slide_type": "fragment"
    }
   },
   "source": [
    "El operador asociado a esta puerta será\n",
    "\n",
    "$$\n",
    "MCX = \\ket{1100}  \\bra{1100}\\otimes X + (I-\\ket{1100}\\bra{1100}) \\otimes I\n",
    "$$"
   ]
  },
  {
   "cell_type": "markdown",
   "metadata": {
    "slideshow": {
     "slide_type": "slide"
    }
   },
   "source": [
    "<div class=\"alert alert-block alert-warning\">\n",
    "\n",
    "En *qiskit* existe la posibilidad de controlar una puerta arbitraria (de la clase <i>Gate</i>) añadiéndole el método <i>control</i> que acepta dos parámetros:\n",
    "\n",
    "- el primero es el número de cúbits que van a actuar como control.\n",
    "    \n",
    "\n",
    "-  el segundo, <i>ctrl_state</i> es un número decimal especifica el estado de control para el cual se activa la puerta. En el caso de la figura sería el número 12\n",
    "\n",
    "\n",
    "- Puede encontrarse información sobre las puertas controladas en qiskit en los siguiente enlaces:\n",
    "https://qiskit.org/documentation/stubs/qiskit.circuit.ControlledGate.html#qiskit.circuit.ControlledGate\n",
    "https://qiskit.org/documentation/apidoc/circuit_library.html\n",
    "    \n",
    "    \n",
    "</div>"
   ]
  },
  {
   "cell_type": "code",
   "execution_count": 6,
   "metadata": {
    "slideshow": {
     "slide_type": "fragment"
    }
   },
   "outputs": [
    {
     "data": {
      "image/png": "[encoded data removed]",
      "text/plain": [
       "<Figure size 160.069x325.08 with 1 Axes>"
      ]
     },
     "execution_count": 6,
     "metadata": {},
     "output_type": "execute_result"
    }
   ],
   "source": [
    "from qiskit import QuantumCircuit, QuantumRegister, ClassicalRegister\n",
    "from qiskit.circuit.library import SwapGate, XGate\n",
    "\n",
    "qr = QuantumRegister(5)\n",
    "\n",
    "qc = QuantumCircuit(qr)\n",
    "\n",
    "gateMCX = XGate().control(4,ctrl_state= 12) # puerta X 4-veces controlada\n",
    "gateMCSWAP = SwapGate().control(3,ctrl_state= 3) # puerta SWAP 3 veces controlada\n",
    "\n",
    "\n",
    "qc.append(gateMCX,[0,1,2,3,4])    \n",
    "#qc.append(gateMCSWAP,[0,1,2,3,4])    \n",
    "\n",
    "\n",
    "qc.draw('mpl')"
   ]
  },
  {
   "cell_type": "markdown",
   "metadata": {
    "slideshow": {
     "slide_type": "fragment"
    }
   },
   "source": [
    "En el convenio de qiskit, efectivamente, este operador es el que se corresponde con \n",
    "\n",
    "$$\n",
    "MCX = X\\otimes \\ket{1100}  \\bra{1100} + X\\otimes (I-\\ket{1100}\\bra{1100})\n",
    "$$"
   ]
  },
  {
   "cell_type": "markdown",
   "metadata": {
    "slideshow": {
     "slide_type": "fragment"
    }
   },
   "source": [
    "<div class=\"alert alert-block alert-success\">\n",
    "<b> Ejercicio </b>: \n",
    "<br> \n",
    "inserta la puerta MCX de forma que se genere exactamente el circuito dibujado en la figura.\n",
    "</div>"
   ]
  },
  {
   "cell_type": "markdown",
   "metadata": {
    "slideshow": {
     "slide_type": "slide"
    }
   },
   "source": [
    "<a id=\"nocloning\"></a>\n",
    "<table width=\"100%\">\n",
    "    <td style=\"font-size:250%px;font-family:Helvetica;text-align:left;background-color:rgba(12, 43, 337, 0.3);\">\n",
    "<b>Teorema de no-clonación</b>\n",
    "</table>"
   ]
  },
  {
   "cell_type": "markdown",
   "metadata": {
    "slideshow": {
     "slide_type": "slide"
    }
   },
   "source": [
    "Que la teleportación no sea una clonación puede parecer una particularidad de este protocolo.\n",
    "\n",
    "Nada más lejos de la realidad. El *Teorema de No Clonación* es uno de los resultados más sencillos y a la vez más importantes del formalismo de la Mecánica Cuántica. \n",
    "\n",
    "De hecho su formalización completa es bastante reciente, 1982, debida a [Wootters, Zurek](https://en.wikipedia.org/wiki/No-cloning_theorem#cite_note-wootterszurek-2) and [Dieks](https://en.wikipedia.org/wiki/No-cloning_theorem#cite_note-dieks-3). "
   ]
  },
  {
   "cell_type": "markdown",
   "metadata": {
    "slideshow": {
     "slide_type": "fragment"
    }
   },
   "source": [
    "<div class=\"alert alert-block alert-info\",text-align:center>\n",
    "<p style=\"text-align: left ;color: navy;\">  \n",
    "<b>Teorema</b>: \n",
    "no existe un operador unitario $U$ (clonador) que, para un estado arbitrario $|\\psi\\rangle$, realice la siguiente operación\n",
    "<br>  \n",
    "<br>    \n",
    "$$\n",
    "U \\ket{\\psi}\\ket{0} = \\ket{\\psi}\\ket{\\psi}\n",
    "$$\n",
    "</div>\n"
   ]
  },
  {
   "cell_type": "markdown",
   "metadata": {
    "slideshow": {
     "slide_type": "slide"
    }
   },
   "source": [
    "\n",
    "*Demostración:*\n",
    "\n",
    "Supondremos que $U$ existe y llegaremos a una contradicción. \n",
    "Tratemos de clonar el estado $\\alpha\\ket{\\psi}+\\beta\\ket{\\phi}$. Esto implica evaluar\n",
    "\n",
    "$$\n",
    "U (\\alpha\\ket{\\psi}+\\beta\\ket{\\phi})\\otimes \\ket{0} = \n",
    "(\\alpha\\ket{\\psi}+\\beta\\ket{\\phi})\\otimes (\\alpha\\ket{\\psi}+\\beta\\ket{\\phi})\n",
    "$$\n"
   ]
  },
  {
   "cell_type": "markdown",
   "metadata": {
    "slideshow": {
     "slide_type": "fragment"
    }
   },
   "source": [
    "\n",
    "Sin embargo, la linealidad de $U$ nos permite seguir otro camino\n",
    "\n",
    "\n",
    "\\begin{eqnarray}\n",
    "U(\\alpha|\\psi\\rangle+\\beta|\\phi\\rangle) \\otimes|0\\rangle &=& \\alpha U|\\psi\\rangle \\otimes|0\\rangle+\\beta U|\\phi\\rangle \\otimes|0\\rangle  \\\\\n",
    "&=&\\alpha|\\psi\\rangle \\otimes|\\psi\\rangle+\\beta|\\phi\\rangle \\otimes|\\phi\\rangle . \\rule{0mm}{6mm}\n",
    "\\end{eqnarray}\n",
    "\n",
    "Los dos resultados son incompatibles y el teorema queda demostrado por reducción al absurdo."
   ]
  },
  {
   "cell_type": "markdown",
   "metadata": {
    "slideshow": {
     "slide_type": "fragment"
    }
   },
   "source": [
    "<div class=\"alert alert-block alert-danger\">\n",
    "<b> Advertir: </b>    \n",
    "<br>  \n",
    "<br>    \n",
    "- El teorema de no clonación pone  de manifiesto la <i> tensión </i> que hay entre linealidad y tensorialidad\n",
    "cuando se trata de aplicar operadores.\n",
    "<br>\n",
    "<br>\n",
    "- Es muy importante recalcar que la validez de este teorema sólo aplica a estados <i> genéricos </i>. \n",
    "Si por ejemplo nos restringimos a estados de la base $\\ket{0}$ y $\\ket{1}$, encontes la mera puerta CNOT es un operador de clonación. \n",
    "</div>"
   ]
  },
  {
   "cell_type": "code",
   "execution_count": null,
   "metadata": {},
   "outputs": [],
   "source": []
  }
 ],
 "metadata": {
  "celltoolbar": "Slideshow",
  "kernelspec": {
   "display_name": "Python 3",
   "language": "python",
   "name": "python3"
  },
  "language_info": {
   "codemirror_mode": {
    "name": "ipython",
    "version": 3
   },
   "file_extension": ".py",
   "mimetype": "text/x-python",
   "name": "python",
   "nbconvert_exporter": "python",
   "pygments_lexer": "ipython3",
   "version": "3.8.5"
  },
  "varInspector": {
   "cols": {
    "lenName": 16,
    "lenType": 16,
    "lenVar": 40
   },
   "kernels_config": {
    "python": {
     "delete_cmd_postfix": "",
     "delete_cmd_prefix": "del ",
     "library": "var_list.py",
     "varRefreshCmd": "print(var_dic_list())"
    },
    "r": {
     "delete_cmd_postfix": ") ",
     "delete_cmd_prefix": "rm(",
     "library": "var_list.r",
     "varRefreshCmd": "cat(var_dic_list()) "
    }
   },
   "types_to_exclude": [
    "module",
    "function",
    "builtin_function_or_method",
    "instance",
    "_Feature"
   ],
   "window_display": false
  }
 },
 "nbformat": 4,
 "nbformat_minor": 5
}
