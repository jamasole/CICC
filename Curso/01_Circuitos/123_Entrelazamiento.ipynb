{
 "cells": [
  {
   "cell_type": "markdown",
   "id": "4e766edb",
   "metadata": {},
   "source": [
    "<img   src=\"../figuras/logo/TalentQ_LogoPosNegro.png\" align=center  width=\"120\"/>\n",
    "<br>\n",
    "\n",
    "<table width=\"100%\">\n",
    "<td style=\"font-size:50px;font-style:italic;text-align:right;background-color:rgba(0, 160, 120,0.6)\">\n",
    "Entrelazamiento en acción\n",
    "</td></table>\n",
    "\n",
    "\n",
    "\n",
    "$ \\newcommand{\\bra}[1]{\\langle #1|} $\n",
    "$ \\newcommand{\\ket}[1]{|#1\\rangle} $\n",
    "$ \\newcommand{\\braket}[2]{\\langle #1|#2\\rangle} $\n",
    "$ \\newcommand{\\i}{{\\color{blue} i}} $ \n",
    "$ \\newcommand{\\Hil}{{\\mathcal H}} $\n",
    "$ \\newcommand{\\cg}[1]{{\\rm C}#1} $\n",
    "$ \\newcommand{\\bn}{{\\bf n}} $\n",
    "\n",
    "\n",
    "- [Desigualdades de Bell](#csch)\n",
    "\n",
    "\n",
    "- [El experimento GHZ](#ghz)\n",
    "\n",
    "\n",
    "- [Teleportación](#teleportacion)\n",
    "\n",
    "\n",
    "- [Teorema de no-clonación](#nocloning)\n",
    "\n",
    "\n",
    "- [Intercambio de entrelazamiento](#intercambent)\n"
   ]
  },
  {
   "cell_type": "code",
   "execution_count": null,
   "id": "556f5045",
   "metadata": {
    "slideshow": {
     "slide_type": "slide"
    }
   },
   "outputs": [],
   "source": [
    "%run ../macro_CURSO.py"
   ]
  },
  {
   "cell_type": "markdown",
   "id": "a9290ad7",
   "metadata": {
    "slideshow": {
     "slide_type": "slide"
    }
   },
   "source": [
    "<a id='csch'></a>\n",
    "<table width=\"100%\">\n",
    "    <td style=\"font-size:250%px;font-family:Helvetica;text-align:left;background-color:rgba(12, 43, 337, 0.3);\">\n",
    "<b> Desigualdades de Bell</b>\n",
    "</table>"
   ]
  },
  {
   "cell_type": "markdown",
   "id": "c5627618",
   "metadata": {
    "slideshow": {
     "slide_type": "-"
    }
   },
   "source": [
    "Las teorías con *realismo local* asumen que los valores que adquieren las magnitudes que se miden en un experimento *pertenecen* al sistema medido. \n"
   ]
  },
  {
   "cell_type": "markdown",
   "id": "91fb10ad",
   "metadata": {
    "slideshow": {
     "slide_type": "fragment"
    }
   },
   "source": [
    "Así, en una teoría con realismo local la posición de una partícula es algo bien definido aunque no lo estemos midiendo. "
   ]
  },
  {
   "cell_type": "markdown",
   "id": "52f29427",
   "metadata": {
    "slideshow": {
     "slide_type": "fragment"
    }
   },
   "source": [
    "La palabra *local* hace referencia a que ningún agente puede propagar su acción a mayor velocidad que la luz. Podría usarse la palabra *causal* en su lugar."
   ]
  },
  {
   "cell_type": "markdown",
   "id": "3e331fae",
   "metadata": {
    "slideshow": {
     "slide_type": "fragment"
    }
   },
   "source": [
    "Como hemos visto al hablar del espín de un electrón, no es correcto decir que *la proyección del espín a lo largo del eje $\\hat{\\bf z}$ es $+\\hbar/2$*."
   ]
  },
  {
   "cell_type": "markdown",
   "id": "2a36bf5a",
   "metadata": {
    "slideshow": {
     "slide_type": "fragment"
    }
   },
   "source": [
    " Lo correcto es decir que, al medir la proyección sobre el eje $\\hat{\\bf z}$, la medida obtenida es $+\\hbar/2$.  Dicho de otro, cualquiera de los valores $\\pm\\hbar/2$ se *adquiere* o *pone de manifiesto*  de forma **aleatoria** al hacer una medida de la proyección elegida "
   ]
  },
  {
   "cell_type": "markdown",
   "id": "c2b1f462",
   "metadata": {
    "slideshow": {
     "slide_type": "slide"
    }
   },
   "source": [
    "En 1964  físico nor-irlandés John Bell, que trabajaba en el CERN,   [demostró](https://cds.cern.ch/record/111654/files/vol1p195-200_001.pdf) que **todas las teorías que respetan el realismo local** satisfacen ciertas desigualdades matemáticas. \n",
    "\n",
    "En particular, todas las magnitudes que evolucionan siguiendo las leyes de la física clásica las satisfacen.\n"
   ]
  },
  {
   "cell_type": "markdown",
   "id": "928a4f4e",
   "metadata": {
    "slideshow": {
     "slide_type": "fragment"
    }
   },
   "source": [
    "Por el contrario, John Bell mostró cómo, en Mecánica Cuántica, el proceso de medida incorpora correlaciones sutiles que permiten *traspasar*  dichas desigualdades. \n",
    "\n",
    "La discusión, de puramente filosófica a ser objeto de investigación experimental, culminó con el [experimento](https://journals.aps.org/prl/abstract/10.1103/PhysRevLett.49.1804) de Alain Aspect y colaboradores en 1982.\n",
    "\n",
    "Se observó que la Mecánica Cuántica viola las desigualdades de Bell y, por tanto, **no es una teoría con realismo local**. \n"
   ]
  },
  {
   "cell_type": "markdown",
   "id": "a29fa833",
   "metadata": {
    "slideshow": {
     "slide_type": "fragment"
    }
   },
   "source": [
    "La propuesta de John Bell dio pie a una familia de desigualdades que ponen en evidencia la imposibilidad de obtener ciertas correlaciones en un mundo clásico. \n",
    "\n",
    "Vamos a examinar la desigualdad en la forma estudiada por Clauser, Horne, Shimony y Holt [CHSH](https://journals.aps.org/prl/abstract/10.1103/PhysRevLett.23.880).  \n",
    "\n"
   ]
  },
  {
   "cell_type": "markdown",
   "id": "9fecfe6c",
   "metadata": {
    "slideshow": {
     "slide_type": "fragment"
    }
   },
   "source": [
    "Posteriormente estudiaremos el experimento de GHZ, el cuál, también pone de manifiesto las correlaciones sutiles que introduce el entrelazamiento de una forma mucho determinista, en lugar de estadística."
   ]
  },
  {
   "cell_type": "markdown",
   "id": "ad6bc2f4",
   "metadata": {
    "slideshow": {
     "slide_type": "slide"
    }
   },
   "source": [
    "## Perfecta anticorrelación\n",
    "\n",
    "Central en esta discusión es la presencia de entrelazamiento. Vamos a seleccionar el denominado *singlete*  de la Base de Bell.\n",
    "<br>\n",
    "<br>\n",
    "$$\n",
    "\\ket{B_{11}}=\\frac{1}{\\sqrt{2}}(\\ket{01}-\\ket{10})\n",
    "$$\n",
    "\n",
    "Supongamos que  Alice y Bob poseen sendos medidores de Stern Gerlach apuntando en la dirección $\\hat{\\bf z}$."
   ]
  },
  {
   "cell_type": "markdown",
   "id": "d61a8c92",
   "metadata": {
    "slideshow": {
     "slide_type": "fragment"
    }
   },
   "source": [
    "- Si Alice registra +1 el estado colapsa a $\\ket{01}$ y, por tanto, Bob solo podrá medir  $\\, -1$\n",
    "\n",
    "\n",
    "-  Si Alice registra -1 el estado colapsa a $\\ket{10}$ y, por tanto, Bob solo podrá medir  $\\, +1$"
   ]
  },
  {
   "cell_type": "markdown",
   "id": "9e85586c",
   "metadata": {
    "slideshow": {
     "slide_type": "fragment"
    }
   },
   "source": [
    "En definitiva hay una anticorrelación perfecta que se pone de manifiesto en el valor medio del producto de las medidas. \n",
    "\n",
    "Si las mediciones de Alice y Bob son $a_i=\\pm 1\\Rightarrow b_i=\\mp 1$ respectivamente, el valor medio\n",
    "\n",
    "$$\n",
    "\\langle Z\\otimes Z\\rangle = \\frac{1}{N}\\sum_{i=1}^N a_i b_i =\\frac{1}{N}\\sum_{i=1}^N (-1) = -1\n",
    "$$"
   ]
  },
  {
   "cell_type": "markdown",
   "id": "5f8eaf1d",
   "metadata": {
    "slideshow": {
     "slide_type": "slide"
    }
   },
   "source": [
    "Vamos a ver cómo la predicción teórica confirma este hecho.\n",
    "El estado $\\ket{B_{11}}$ ya es autoestado del observable asociado a dicha pareja\n",
    "\n",
    "$$\n",
    "Z\\otimes Z \\ket{B_{11}} = Z\\ket{0}Z\\ket{1} - Z\\ket{1}Z\\ket{0} = -\\ket{01} + \\ket{10} = -\\ket{B_{11}}\n",
    "$$"
   ]
  },
  {
   "cell_type": "markdown",
   "id": "db969962",
   "metadata": {
    "slideshow": {
     "slide_type": "fragment"
    }
   },
   "source": [
    "Y el valor esperado satura en este autovalor, con lo que, la probabilidad de medida es 1\n",
    "\n",
    "$$\n",
    " \\langle Z\\otimes Z\\rangle = \\bra{B_{11}}Z\\otimes Z\\,  \\ket{B_{11}}  = -\\braket{B_{11}}{B_{11}}= -1\\, .\n",
    "$$\n"
   ]
  },
  {
   "cell_type": "markdown",
   "id": "632d0504",
   "metadata": {
    "slideshow": {
     "slide_type": "fragment"
    }
   },
   "source": [
    "<div class=\"alert alert-block alert-danger\">\n",
    "<b>Notar</b>\n",
    "<br>\n",
    "La anti correlación que hemos hallado parece natural y presente en un experimento clásico hecho con una bolsa que contiene dos calcetines de dos colores: si Alice saca el blanco, el que saca Bob tiene que ser negro.     \n",
    "    \n",
    "</div>\n",
    "\n"
   ]
  },
  {
   "cell_type": "markdown",
   "id": "3e05e320",
   "metadata": {
    "slideshow": {
     "slide_type": "slide"
    }
   },
   "source": [
    "La cosa se pone más divertida cuando los dos polarizadores de Stern Gerlach *no se orientan en la misma dirección*.\n",
    "El observable asociado ahora a la dirección $\\hat{\\bf n}$  será  $\\hat{\\bf n}\\cdot \\boldsymbol{\\sigma}$. Aun así, los autovalores de este operador y, por ello, la proyección del espín seguirá siendo $\\pm 1$\n",
    "\n",
    "<div class=\"alert alert-block alert-info\",text-align:center>\n",
    "<p style=\"text-align: left ;color: navy;\">  \n",
    "<b>Teorema</b>: \n",
    "<br>\n",
    "el valor medio del producto de las proyecciones de espín a lo largo de sendos ejes $\\hat{\\bf m}$ y $\\hat{\\bf n}$ viene dada por el coseno del ángulo $\\theta$  que forman los  ejes de los dos detectores \n",
    "<br>\n",
    "<br>    \n",
    "$$\n",
    "\\bra{B_{11}}(\\hat{\\bf m}\\cdot \\boldsymbol{\\sigma}\\otimes \\hat{\\bf n}\\cdot \\boldsymbol{\\sigma})\\ket{B_{11}}\n",
    " = -\\cos \\theta = - \\hat{\\bf m}\\cdot \\hat{\\bf n}\n",
    "$$\n",
    "</p>\n",
    "</div>\n",
    "\n"
   ]
  },
  {
   "cell_type": "markdown",
   "id": "06eafa81",
   "metadata": {},
   "source": [
    "<div class=\"alert alert-block alert-success\">\n",
    "<b>Ejercicio:</b> \n",
    "prueba este resultado.\n",
    "</div>"
   ]
  },
  {
   "cell_type": "markdown",
   "id": "5d9377c7",
   "metadata": {
    "slideshow": {
     "slide_type": "fragment"
    }
   },
   "source": [
    "Cuando los ejes son paralelos recuperamos la  anticorrelación, independientemente de la dirección\n",
    "\n",
    "$$\n",
    "-\\hat{\\bf n}\\cdot \\hat{\\bf n} = - \\cos 0 = -1 \n",
    "$$\n",
    "\n",
    "mucho más interesante es cuando las direcciones de los detectores de Alice y Bob no coinciden.\n",
    "\n",
    "\n"
   ]
  },
  {
   "cell_type": "markdown",
   "id": "61eff9f8",
   "metadata": {
    "slideshow": {
     "slide_type": "slide"
    }
   },
   "source": [
    "<a id='csch'></a>\n",
    "## La desigualdad de CSCH \n",
    "\n",
    "Enn 1970 Clauser, Horne, Shimony y Holt [CHSH](https://journals.aps.org/prl/abstract/10.1103/PhysRevLett.23.880) propusieron una figura de mérito fácilmente accesible"
   ]
  },
  {
   "cell_type": "markdown",
   "id": "a13f983c",
   "metadata": {
    "slideshow": {
     "slide_type": "fragment"
    }
   },
   "source": [
    "La idea es que Alice y Bob pueden orientar sus detectores en *dos direcciones  arbitrarias* cada uno. Para alice Alice denotamos $\\hat{\\bf n}_A, \\hat{\\bf n}'_A$  y  para Bob $\\, \\hat{\\bf n}_B, \\hat{\\bf n}'_B.$ \n",
    "\n",
    "Los pasos a seguir son los siguientes:\n",
    "\n",
    "**1.-** Alice y Bob seleccionan una orientación, p. ej.  $\\hat{\\bf n}_A$ y $\\hat{\\bf n}_B$ para sus detectores. Hay cuatro parejas posibles \n",
    "\n",
    "$$\n",
    "\\begin{array}{c|c} {\\rm Alice} & {\\rm Bob} \\\\ \\hline \\hat{\\bf n}_A  &\\hat{\\bf n}_B \\\\ \\hat{\\bf n}_A &\\hat{\\bf n}'_B \\\\ \\hat{\\bf n}'_A & \\hat{\\bf n}_B \\\\ \\hat{\\bf n}'_A &\\hat{\\bf n}'_B \\end{array}\n",
    "$$\n"
   ]
  },
  {
   "cell_type": "markdown",
   "id": "1503b5f3",
   "metadata": {
    "slideshow": {
     "slide_type": "slide"
    }
   },
   "source": [
    "\n",
    "**2.-** Alice y Bob reciben un electrón cada uno de un par entrelazado en el estado $\\ket{B_{11}}$\n",
    "\n",
    "\n",
    "**3.-** Alice y Bob realizan la medida de la proyección del espín a lo largo del eje elegido y anotan el resultado de la medición $(a,b)=(\\pm 1, \\pm 1)$ \n"
   ]
  },
  {
   "cell_type": "markdown",
   "id": "5ff512a3",
   "metadata": {
    "slideshow": {
     "slide_type": "fragment"
    }
   },
   "source": [
    "**4.-** Repiten el paso anterior un número $i=1,..., N$ grande de veces, y con los datos obtenidos $(a_i,b_i)=(\\pm 1, \\pm 1)$\n",
    "donde $i=1,...,N$pueden reconstruir la cantidad\n",
    "\n",
    "$$\n",
    " C(\\hat{\\bf n}_A, \\hat{\\bf n}_B) = \\frac{1}{N}\\sum_{i=1}^N a_i b_i ~\\in~  [-1,1]\n",
    "$$\n"
   ]
  },
  {
   "cell_type": "markdown",
   "id": "b50af37b",
   "metadata": {
    "slideshow": {
     "slide_type": "fragment"
    }
   },
   "source": [
    "**5.-** Repiten todo el proceso anterior para las cuatro posibles orientaciones elegidas de forma aleatoria. Con las  $4N$ mediciones construyen la cantidad\n",
    "<br>\n",
    "<br>\n",
    "$$\n",
    "R = | C(\\hat{\\bf n}_A, \\hat{\\bf n}_B) +  C(\\hat{\\bf n}_A, \\hat{\\bf n}'_B) +  C(\\hat{\\bf n}'_A, \\hat{\\bf n}_B)-  C(\\hat{\\bf n}'_A, \\hat{\\bf n}'_B)|\n",
    "$$\n",
    "\n"
   ]
  },
  {
   "cell_type": "markdown",
   "id": "3ab758b7",
   "metadata": {
    "slideshow": {
     "slide_type": "slide"
    }
   },
   "source": [
    "En un mundo clásico, supondríamos que los valores $a_i,b_i$ proceden de *valores predefinidos* para cada sistema individual, sobre el que efectuamos simplemente un promedio estadístico de muchos sistemas. Entonces podemos probar la **desigualdad de CSCH**\n",
    "\n",
    "<div class=\"alert alert-block alert-info\",text-align:center>\n",
    "<p style=\"text-align: left ;color: navy;\">  \n",
    "<b>Teorema</b>: \n",
    "La desigualdad de CSCH afirma que \n",
    "$$\n",
    "R \\leq 2\n",
    "$$\n",
    "<details>\n",
    "<summary><p style=\"text-align:right\"> >>Solución </p></summary>\n",
    "Es fácil ver que se cumple para cada colección $a_i,a'_i,b_i,b'_i \\in \\pm 1$ la desigualdad\n",
    "<br>\n",
    "<br>\n",
    "$$\n",
    "a_i (b_i +  b'_i) + a'_i (b_i -  b'_i) = \\pm 2\n",
    "$$\n",
    "<br>\n",
    "porque si $b_i +  b'_i=\\pm 2$ entonces $b_i - b'_i=0$ y viceversa. Ahora podemos demostrar la desigualdad \n",
    "\\begin{eqnarray}\n",
    "R &=& \\lim_{N\\to \\infty}|\\frac{1}{N} \\sum_{i=1}^N \\left( a_i b_i + a_i b'_i + a'_i b_i - a'_i b'_i\\right) | \\nonumber\\\\\n",
    "&=& \\lim_{N\\to \\infty}\\frac{1}{N}| \\sum_{i=1}^N  \\left( a_i (b_i +  b'_i) + a'_i (b_i -  b'_i)\\right)| \\nonumber\\\\\n",
    "&\\leq &  \\lim_{N\\to \\infty} \\frac{1}{N} \\sum_{i=1}^N  |\\left( a_i (b_i +  b'_i) + a'_i (b_i -  b'_i)\\right)| \\ \\nonumber\\\\\n",
    "&= &  \\lim_{N\\to \\infty} \\frac{1}{N} \\sum_{i=1}^N  2 \\ \\nonumber\\\\\n",
    "&=& 2\n",
    "\\end{eqnarray}\n",
    "</details>   \n",
    "</p></div>"
   ]
  },
  {
   "cell_type": "markdown",
   "id": "d83de13f",
   "metadata": {
    "slideshow": {
     "slide_type": "fragment"
    }
   },
   "source": [
    "La Mecánica Cuántica nos proporciona una respuesta teórica para $R$ que sólo depende de los ángulos relativos $\\cos\\theta_{AB} = \\cos(\\theta_A-\\theta_B)= \\hat{\\bf n}_A\\cdot \\hat{\\bf n}_B$.\n",
    "<br>\n",
    "<br>\n",
    "\n",
    "$$\n",
    "R = | \\cos\\theta_{AB}  + \\cos \\theta_{A'B} + \\cos \\theta_{AB'}  - \\cos \\theta_{A'B'}|\\, .\n",
    "$$\n"
   ]
  },
  {
   "cell_type": "markdown",
   "id": "0d2b8013",
   "metadata": {
    "slideshow": {
     "slide_type": "slide"
    }
   },
   "source": [
    "Ahora sólo hace falta jugar un poco con los detectores.\n",
    "\n",
    "Por ejemplo, podemos situarlos en el plano $(y,z)$, perpendicular al eje de propagación $x$, de manera que los vectores  $\\hat{\\bf n}'_A,\\hat{\\bf n}_{A},\\hat{\\bf n}_B$ y $\\hat{\\bf n}_B'$ estén ordenados correlativamente en sentido horario. Finalmente tomaremos\n",
    "dos ejes coincidentes $\\hat{\\bf n}_{A}=\\hat{\\bf n}_B$ paralelos $\\Rightarrow \\theta_{AB}=0$, y apertura igual para ambos, $\\theta_{A'A} = \\theta_{BB'} = \\varphi$, de modo que $\\theta_{A'B'} = 2\\varphi$ \n"
   ]
  },
  {
   "cell_type": "markdown",
   "id": "dfd750c8",
   "metadata": {
    "slideshow": {
     "slide_type": "-"
    }
   },
   "source": [
    "<center> \n",
    "<img src=\"./images/CHSH_basis.png\" width='30%'/>\n",
    "</center>\n"
   ]
  },
  {
   "cell_type": "markdown",
   "id": "dd44cb1f",
   "metadata": {
    "slideshow": {
     "slide_type": "fragment"
    }
   },
   "source": [
    "\n",
    "\n",
    "$$\n",
    "R = |1 +  2 \\cos\\varphi  - \\cos 2\\varphi|\\, .\n",
    "$$\n",
    "\n",
    "Derivando vemos que esta expresión alcanza su máximo cuando $\\sin\\varphi = \\sin 2\\varphi$ lo cual tiene solución $\\varphi = \\pi/3 = 60^\\circ$. Sustituyendo encontramos $R= 2.5>2$. \n",
    " \n"
   ]
  },
  {
   "cell_type": "markdown",
   "id": "597eceaa",
   "metadata": {
    "slideshow": {
     "slide_type": "slide"
    }
   },
   "source": [
    "Vamos a hacer una lista de ángulos relativos entre los dos polarizadores "
   ]
  },
  {
   "cell_type": "code",
   "execution_count": null,
   "id": "94207b37",
   "metadata": {
    "slideshow": {
     "slide_type": "fragment"
    }
   },
   "outputs": [],
   "source": [
    "'angulos de medida'\n",
    "rangephi=[0,2*np.pi] #Intervalo'\n",
    "ang_div=128       #divisiones'\n",
    "valphi=np.linspace(rangephi[0],rangephi[1],ang_div) #lista de angulos'\n",
    "\n",
    "'lista de correlaciones a calcular'\n",
    "C=[0,0,0,0]\n",
    "\n",
    "'lista de valores de R'\n",
    "R=np.zeros(ang_div)\n",
    "\n",
    "'Numero de medidas'\n",
    "Nshots = 2048\n",
    "\n",
    "from qiskit import QuantumCircuit, Aer\n",
    "M_backend = Aer.get_backend('qasm_simulator')\n",
    "\n",
    "for j in range(ang_div):\n",
    "   \n",
    "    'ángulos de medida'\n",
    "    phi=valphi[j] \n",
    "    angmed=[[phi,phi],[2*phi,phi],[phi,0],[2*phi,0]] # AB , A'B , AB', A'B'\n",
    "\n",
    "    for i in range(4):\n",
    "        \n",
    "        'una pareja de ángulos para uno para A y otro para B '\n",
    "        angs_AB=angmed[i]\n",
    "\n",
    "        'hay un circuito para cada proceso de medida'\n",
    "        qc=QuantumCircuit(2,2)\n",
    "\n",
    "        'creamos el par de Bell B(11)'\n",
    "        qc.x(0)\n",
    "        qc.x(1)\n",
    "        qc.h(0)\n",
    "        qc.cx(0,1)\n",
    "        \n",
    "        'simulamos la medida en la base de los polarizadores de A y B rotados en torno al eje x'\n",
    "        qc.rx(-angs_AB[0],0)\n",
    "        qc.rx(-angs_AB[1],1)\n",
    "        qc.measure([0,1],[0,1])\n",
    "        \n",
    "        ' medimos '\n",
    "        job=M_backend.run(qc,shots=Nshots)\n",
    "        cuentas=job.result().get_counts()\n",
    "          \n",
    "        'construimos el correlador'\n",
    "        C[i]= val_esp_sigma(cuentas)[0] # esta función está definida en macro_CURSO.py\n",
    "  \n",
    "    'construimos la cantidad R'\n",
    "    R[j]=C[0]+C[1]+C[2]-C[3]\n"
   ]
  },
  {
   "cell_type": "markdown",
   "id": "cc582049",
   "metadata": {
    "slideshow": {
     "slide_type": "slide"
    }
   },
   "source": [
    "Podemos graficarlo y compararlo con el valor analítico"
   ]
  },
  {
   "cell_type": "code",
   "execution_count": null,
   "id": "b9056796",
   "metadata": {
    "slideshow": {
     "slide_type": "-"
    }
   },
   "outputs": [],
   "source": [
    "' función analítica '\n",
    "fx= 1 + 2*np.cos(valphi) - np.cos(2*valphi)\n",
    "plt.plot(valphi,-fx,'k-',linewidth=1)\n",
    "' resultado de la simulación'\n",
    "plt.plot(valphi,R,'.')\n",
    "plt.axhline(y = 2, color = 'r', linestyle = '-')\n",
    "plt.axhline(y = -2, color = 'r', linestyle = '-')\n",
    "' líneas horizotales en +2 y - 2'\n",
    "plt.axvline(x = np.pi/3, color = 'b', linestyle = '-')\n",
    "plt.axvline(x = 5*np.pi/3, color = 'b', linestyle = '-')\n",
    "plt.xlabel(r'$\\varphi$')\n",
    "plt.ylabel(r'$R(\\varphi)$')\n",
    "plt.show()"
   ]
  },
  {
   "cell_type": "markdown",
   "id": "101b3c60",
   "metadata": {
    "slideshow": {
     "slide_type": "fragment"
    }
   },
   "source": [
    "<div class=\"alert alert-block alert-success\">\n",
    "<b>Ejercicio:</b> \n",
    "Prueba con otros estados de la base de Bell. Realiza este experimento en un ordenador real.\n",
    "</div>"
   ]
  },
  {
   "cell_type": "markdown",
   "id": "6b032024",
   "metadata": {
    "slideshow": {
     "slide_type": "fragment"
    }
   },
   "source": [
    "<div class=\"alert alert-block alert-success\">\n",
    "<b>Ejercicio:</b> \n",
    "Usar bases perpendiculares de  Alice $A$ y $A'$  y Bob $B$ y $B'$, y formando un ángulo $\\varphi\\in (0,\\pi)$ entre sí. Sin pérdida de generalidad puedes tomar $B = X$ y $B' = Z$. \n",
    "</div>"
   ]
  },
  {
   "cell_type": "markdown",
   "id": "92bbc27a",
   "metadata": {
    "slideshow": {
     "slide_type": "slide"
    }
   },
   "source": [
    "<a id='ghz'></a>\n",
    "<table width=\"100%\">\n",
    "    <td style=\"font-size:250%px;font-family:Helvetica;text-align:left;background-color:rgba(12, 43, 337, 0.3);\">\n",
    "<b> Experimento GHZ </b>\n",
    "</table>"
   ]
  },
  {
   "cell_type": "markdown",
   "id": "fb749ff9",
   "metadata": {
    "slideshow": {
     "slide_type": "slide"
    }
   },
   "source": [
    "Las desigualdades de Bell-CHCS demuestran que hay una manera de distinguir una teoría con  realismo local de una en la que\n",
    "este postulado no  exista. Lo hacen de una forma estadística: es necesario formar ciertas medias de datos sobre estados de 2-cúbits, los  estados de Bell. "
   ]
  },
  {
   "cell_type": "markdown",
   "id": "c8477f29",
   "metadata": {
    "slideshow": {
     "slide_type": "fragment"
    }
   },
   "source": [
    "En 1997 Greenberger, Horne y Zeilinger estudiaron las propiedades de una serie de estados de 3-cúbits.   Consideremos el siguiente estado entrelazado\n",
    "<br>\n",
    "<br>\n",
    "$$\n",
    "\\ket{\\rm GHZ} = \\frac{1}{\\sqrt{2}}( \\ket{000} - \\ket{111} )\\, . \n",
    "$$\n",
    "\n",
    "Es muy fácil ver que, en vez de una violación *probabilística* de una desigualdad, el estado GHZ conduce a una  violación *determinista* de una igualdad. \n"
   ]
  },
  {
   "cell_type": "markdown",
   "id": "710460e9",
   "metadata": {
    "slideshow": {
     "slide_type": "fragment"
    }
   },
   "source": [
    "Supongamos un sistema, compuesto de  tres subsistemas, $A, B$ y $C$. \n",
    "\n",
    "En cada uno de ellos hay dos *magnitudes* observables, $X$ e $Y$, que al ser medidas adquieren valores binarios $x, y = \\pm 1$. "
   ]
  },
  {
   "cell_type": "markdown",
   "id": "7f4fa63e",
   "metadata": {
    "slideshow": {
     "slide_type": "fragment"
    }
   },
   "source": [
    "Pretendemos saber si existe un estado del sistema tal que, con el resultado  de  medidas simultáneas $X$ o $Y$ de cada una de sus partes $A,B$ y $C$ , se obtengan resultados $x$ e $y$ que verifiquen las siguientes ecuaciones:\n",
    "\n",
    "$$\n",
    "\\begin{array}{ccc}\n",
    "{\\rm medimos} & & \\hbox{obtenemos} ~ x,y ~~ \\hbox{tales que} \\\\\n",
    "XYY ~~~~~ &\\to& ~xyy =~~~ 1\\nonumber\\\\\n",
    "YXY ~~~~~ &\\to& ~yxy =~~~ 1 \\label{GHZeq}\\\\\n",
    "YYX ~~~~~ &\\to& ~yyx =~~~ 1\\nonumber\\\\\n",
    "XXX ~~~~~ &\\to& ~xxx = -1\\nonumber\n",
    "\\end{array}\n",
    "$$\n"
   ]
  },
  {
   "cell_type": "markdown",
   "id": "f0244799",
   "metadata": {
    "slideshow": {
     "slide_type": "fragment"
    }
   },
   "source": [
    "Si la teoría satisface los axiomas de realismo local,  los valores de $X$ es $Y$ estarán bien definidos independientemente de la medida que efectuemos. \n",
    "\n",
    "Dicho de otra forma, las medidas que efectuamos son compatibles y no afectan a los resultados posibles.\n"
   ]
  },
  {
   "cell_type": "markdown",
   "id": "db25e5bd",
   "metadata": {
    "slideshow": {
     "slide_type": "slide"
    }
   },
   "source": [
    "Entonces podemos utilizar conclusiones que extraigamos de los resultados de un experimento para los de otro (notar que se supone que el estado es el mismo en todos los casos  )\n",
    "\n",
    "- Las tres primeras afirman que $x=1$ puesto que $y^2=1$. \n",
    "\n",
    "- La última afirma que $x=-1$\n",
    "\n",
    "vemos que hay una contradicción. Concluímos que las medidas efectuadas *no son compatibles entre sí*. "
   ]
  },
  {
   "cell_type": "markdown",
   "id": "07927381",
   "metadata": {
    "slideshow": {
     "slide_type": "fragment"
    }
   },
   "source": [
    "Como vemos, la paradoja existe en tanto en cuanto atribuyamos a las magnitudes $X$ e $Y$ una noción de realidad  independiente de la medición. Sólo de esta manera podemos inferir, de las tres primeras líneas, el resultado  $xxx  =  1$ sin realizar una medición directa de $XXX$  por consistencia.\n",
    "\n"
   ]
  },
  {
   "cell_type": "markdown",
   "id": "25ef1b7e",
   "metadata": {
    "slideshow": {
     "slide_type": "fragment"
    }
   },
   "source": [
    "La satisfacción, por tanto, de las cuatro afirmaciones,  pasa por aceptar que las variables $X$ e $Y$, no pueden tener valores predefinidos simultáneamente  en los cuatro experimentos. \n",
    "\n"
   ]
  },
  {
   "cell_type": "markdown",
   "id": "661f08cf",
   "metadata": {
    "slideshow": {
     "slide_type": "slide"
    }
   },
   "source": [
    "Cuánticamente es fácil ver que el estado GHZ proporciona una solución al conjunto de ecuaciones."
   ]
  },
  {
   "cell_type": "markdown",
   "id": "98554a90",
   "metadata": {
    "slideshow": {
     "slide_type": "fragment"
    }
   },
   "source": [
    "\n",
    "Supongamos que  $x$ e $y$ son los resultados de aplicar $X = \\sigma_x$ y $Y = \\sigma_y$, los operadores hermíticos  usuales que miden la componente del espín\n",
    "<br>\n",
    "<br>\n",
    "$$\n",
    "X \\ket{0} = \\ket{1}\\, , ~ X \\ket{1} = \\ket{0}\\, , ~ Y \\ket{0} = i \\ket{1}\\, , ~ Y \\ket{1} = -i \\ket{0}\\, . ~ \n",
    "$$"
   ]
  },
  {
   "cell_type": "markdown",
   "id": "461f18b7",
   "metadata": {
    "slideshow": {
     "slide_type": "fragment"
    }
   },
   "source": [
    " Por un lado, \n",
    "<br>\n",
    "<br>\n",
    "$$xyy\\ket{{\\rm GHZ}}  = X \\otimes Y\\otimes Y \\big(\\frac{1}{\\sqrt{2}}(\\ket{000}-\\ket{111}\\big) = \\frac{1}{\\sqrt{2}} \\big(i^2 \\ket{111}- (-i)^2\n",
    "\\ket{000}\\big) = +  \\ket{{\\rm GHZ}}\\, ,$$\n",
    "\n",
    "y,\n",
    "análogamente, obtenemos $xyy=yxy=yyx= +1$.\n"
   ]
  },
  {
   "cell_type": "markdown",
   "id": "578c3aed",
   "metadata": {
    "slideshow": {
     "slide_type": "fragment"
    }
   },
   "source": [
    "Por otro, $xxx=-1$ se sigue de\n",
    "\n",
    "\n",
    "$$  \n",
    "xxx  \\ket{{\\rm GHZ}} =   X \\otimes X \\otimes X \\big(\\frac{1}{\\sqrt{2}}(\\ket{000}-\\ket{111}\\big) =\n",
    "\\frac{1}{\\sqrt{2}}(\\ket{111}-\\ket{000}) =  - \\ket{\\rm GHZ}\\, .\n",
    "$$\n",
    "\n"
   ]
  },
  {
   "cell_type": "markdown",
   "id": "93007970",
   "metadata": {
    "slideshow": {
     "slide_type": "slide"
    }
   },
   "source": [
    "<center> <b> GHZ</b>\n",
    "<img src=\"./images/GHZ.png\" width='25%'/>\n",
    "</center>\n"
   ]
  },
  {
   "cell_type": "markdown",
   "id": "ebc3f377",
   "metadata": {
    "slideshow": {
     "slide_type": "fragment"
    }
   },
   "source": [
    "Inicializamos el estado GHZ "
   ]
  },
  {
   "cell_type": "code",
   "execution_count": null,
   "id": "c897cbb5",
   "metadata": {
    "run_control": {
     "marked": false
    },
    "slideshow": {
     "slide_type": "fragment"
    }
   },
   "outputs": [],
   "source": [
    "from qiskit import QuantumRegister, ClassicalRegister, QuantumCircuit, Aer, execute\n",
    "\n",
    "qc_GHZ = QuantumCircuit(3,3) \n",
    "\n",
    "qc_GHZ.x(0)\n",
    "qc_GHZ.h(0)\n",
    "qc_GHZ.cx(0,1)\n",
    "qc_GHZ.cx(0,2)\n",
    "\n",
    "qc_GHZ.draw(output='mpl')"
   ]
  },
  {
   "cell_type": "code",
   "execution_count": null,
   "id": "1bb84577",
   "metadata": {},
   "outputs": [],
   "source": [
    "assert(qc_GHZ.num_qubits == len(multibasis))"
   ]
  },
  {
   "cell_type": "markdown",
   "id": "3745bf56",
   "metadata": {
    "slideshow": {
     "slide_type": "slide"
    }
   },
   "source": [
    "Analicemos el valor medio de alguno de los operadores $YYX, YXY, XYY$ ó $XXX$"
   ]
  },
  {
   "cell_type": "code",
   "execution_count": null,
   "id": "5189e1a8",
   "metadata": {
    "slideshow": {
     "slide_type": "fragment"
    }
   },
   "outputs": [],
   "source": [
    "M_backend = Aer.get_backend('qasm_simulator')\n",
    "shots=1000\n",
    "\n",
    "\n",
    "'elige uno de los términos siguientes'\n",
    "#multibasis = 'YYX'\n",
    "#multibasis = 'YXY'\n",
    "#multibasis = 'XYY'\n",
    "multibasis = 'XXX'\n",
    "\n",
    "qc_GHZ.barrier()\n",
    "add_Pauli_measurement(qc_GHZ, multibasis)\n",
    "qc_GHZ.draw(output='mpl')"
   ]
  },
  {
   "cell_type": "code",
   "execution_count": null,
   "id": "b92b1dee",
   "metadata": {
    "slideshow": {
     "slide_type": "fragment"
    }
   },
   "outputs": [],
   "source": [
    "cuentas_GHZ = execute(qc_GHZ,M_backend,shots=shots).result().get_counts()\n",
    "print('<'+str(multibasis)+'> =', val_esp_sigma(cuentas_GHZ)[0])"
   ]
  },
  {
   "cell_type": "markdown",
   "id": "39497af4",
   "metadata": {
    "slideshow": {
     "slide_type": "slide"
    }
   },
   "source": [
    "<a id=\"teleportacion\"></a>\n",
    "<table width=\"100%\">\n",
    "    <td style=\"font-size:250%px;font-family:Helvetica;text-align:left;background-color:rgba(12, 43, 337, 0.3);\">\n",
    "<b>Teleportación</b>\n",
    "</table>"
   ]
  },
  {
   "cell_type": "markdown",
   "id": "cb31fe29",
   "metadata": {
    "slideshow": {
     "slide_type": "slide"
    }
   },
   "source": [
    "El entrelazamiento conlleva un tipo  nuevo de correlación que acaba constituyendo un recurso importante.  \n",
    "\n",
    "El ejemplo más simple de estado entrelazado es la base de Bell. \n",
    "\n",
    "Supongamos que Alice y Bob tiene dos cúbits que se encuentran en el estado entrelazado $\\ket{B_{00}}$\n",
    "\n"
   ]
  },
  {
   "cell_type": "markdown",
   "id": "52e11320",
   "metadata": {},
   "source": [
    "\n",
    " Alice tiene, un segundo cúbit inicializado en un estado arbitrario $\\ket{\\phi}$, y se plantea la posibilidad de transferirlo o clonarlo en el laboratorio de Bob.\n",
    "\n",
    "El circuito de la imagen permite efectuar esa tarea\n"
   ]
  },
  {
   "cell_type": "markdown",
   "id": "e5e93910",
   "metadata": {
    "nbgrader": {
     "grade": false,
     "grade_id": "cell-d0fe6dec443e2b79",
     "locked": true,
     "schema_version": 3,
     "solution": false,
     "task": false
    },
    "slideshow": {
     "slide_type": "slide"
    }
   },
   "source": [
    "## El protocolo de teleportación cuántica"
   ]
  },
  {
   "cell_type": "markdown",
   "id": "b7373a9a",
   "metadata": {
    "slideshow": {
     "slide_type": "-"
    }
   },
   "source": [
    "<br>\n",
    "<div>\n",
    "<img src=\"images/teleportacion.png\" width='40%' style=\"margin:auto\"/>\n",
    "</div>\n",
    "<br>"
   ]
  },
  {
   "cell_type": "markdown",
   "id": "173d4c10",
   "metadata": {
    "slideshow": {
     "slide_type": "fragment"
    }
   },
   "source": [
    "- El estado inicial es\n",
    "$ \\to \n",
    "\\ket{\\phi} \\ket{B_{00}} =  \\ket{\\phi}\\otimes \\frac{1}{\\sqrt{2}}\\left(\\ket{0}\\otimes \\ket{0} + \\ket{1}\\otimes\\ket{1}\\rule{0mm}{4mm}\\right)\\, .\n",
    "$\n",
    "<br>\n",
    "<br>\n",
    "Alice tiene acceso a los dos primeros qubits y Bob al tercero. \n"
   ]
  },
  {
   "cell_type": "markdown",
   "id": "63adae1d",
   "metadata": {
    "slideshow": {
     "slide_type": "fragment"
    }
   },
   "source": [
    "<br>\n",
    "\n",
    "- Alice <i><realiza una  medida de Bell</i> a sus dos qubits.\n",
    "<br>\n",
    "<br>\n",
    "Ello  implica un desentrelazador $U_{\\rm desent}= (H \\otimes I)\\cdot U_{\\rm CNOT}.~$\n",
    "Un cálculo sencillo  da el resultado\n",
    "<br>\n",
    "<br>\n",
    "\\begin{eqnarray}\n",
    " (H \\otimes I\\otimes I)(U_{\\rm CNOT}\\otimes I)\\, \\ket{\\phi}\\ket{B_{00}} & =&  \\frac{1}{2}\n",
    "\\left[\\rule{0mm}{3mm} \\ket{00}(a\\ket{0} + b\\ket{1}) + \\ket{01}(a\\ket{1}+ b\\ket{0}) \\right. \\nonumber\\\\\n",
    "&&\\left.  \\rule{0mm}{3mm}+ ~\\ket{10}(a\\ket{0}-b\\ket{1}) + \\ket{11}(a\\ket{1}-b\\ket{0})\\right] \\label{teleport}\n",
    "\\end{eqnarray}\n",
    "<br>\n",
    "El estado obtenido está entrelazado en los tres espacios y, por tanto, contiene un alto grado de información en forma de correlaciones. \n",
    "\n",
    "\n"
   ]
  },
  {
   "cell_type": "markdown",
   "id": "8a8508b6",
   "metadata": {
    "slideshow": {
     "slide_type": "slide"
    }
   },
   "source": [
    "<br>\n",
    "<div>\n",
    "<img src=\"images/teleportacion.png\" width='40%' style=\"margin:auto\"/>\n",
    "</div>\n",
    "<br>"
   ]
  },
  {
   "cell_type": "markdown",
   "id": "5d7546b2",
   "metadata": {
    "slideshow": {
     "slide_type": "fragment"
    }
   },
   "source": [
    "\n",
    "- Alicia mide el estado que obra en su poder, y obtiene un 2-bit  clásico, $xy$ de manera equiprobable para las 4 posibilidades.\n",
    "<br>\n",
    "<br>\n",
    "De forma correlacionada, el cúbit\n",
    " de Bob colapsa a uno de los 4 estados $\\ket{\\varphi_{xy}},~$ pero no sabe a cuál.\n"
   ]
  },
  {
   "cell_type": "markdown",
   "id": "a9ad728f",
   "metadata": {
    "slideshow": {
     "slide_type": "fragment"
    }
   },
   "source": [
    "- Alice envía el resultado de su medida $xy$ por un canal clásico a Bob"
   ]
  },
  {
   "cell_type": "markdown",
   "id": "848c8468",
   "metadata": {
    "slideshow": {
     "slide_type": "fragment"
    }
   },
   "source": [
    "-  Bob efectúa sobre su cúbit, una operación controlada por este 2-bit, $U_{xy} =  X^y Z^x $. \n",
    "<br>\n",
    "<br>\n",
    "$$\n",
    "xy ~=~ \\left\\{ \\begin{array}{c} 00 \\\\ 01 \\\\ 10 \\\\ 11 \\end{array} \\right\\}~~ \\Longrightarrow  \n",
    "~~~ X^y Z^x \\ket{\\varphi_{xy}} ~=~ \\left\\{  \\begin{array}{rl}    I :& (a\\ket{0} + b\\ket{1})  \\\\    X: & (a\\ket{1} + b\\ket{0})  \\\\  Z:& (a\\ket{0} - b\\ket{1})  \n",
    "\\\\  XZ = -iY:&   (a\\ket{1} - b\\ket{0}) \\\\\n",
    "       \\end{array} \\right. ~~ \\longrightarrow  ~~ a \\ket{0} + b\\ket{1}\\,  = \\, \\ket{\\phi}\n",
    "$$\n",
    "<br>\n",
    "Como resultado de esta operación, el cúbit de Bob es finalmente $\\ket{\\phi}$.\n"
   ]
  },
  {
   "cell_type": "markdown",
   "id": "d03406ac",
   "metadata": {
    "slideshow": {
     "slide_type": "slide"
    }
   },
   "source": [
    "Alice prepara un estado arbitrario que  quiere teleportar"
   ]
  },
  {
   "cell_type": "code",
   "execution_count": null,
   "id": "1a9230f1",
   "metadata": {
    "slideshow": {
     "slide_type": "fragment"
    }
   },
   "outputs": [],
   "source": [
    "# escoge dos ángulos theta y phi en la esfera de Bloch\n",
    "[theta,phi]=[1.1 , 2.2]\n",
    "\n",
    "# o hazlo de forma aleatoria\n",
    "#import random\n",
    "#[theta,phi] = np.array([np.pi*np.random.rand(),2*np.pi*np.random.rand()])\n",
    "\n",
    "estado = [np.cos(theta/2),(np.exp(1j*phi))*np.sin(theta/2)]\n",
    "\n",
    "#visualicémoslo en la esfera de Bloch\n",
    "from qiskit.visualization import plot_bloch_multivector, array_to_latex  \n",
    "plot_bloch_multivector(estado)"
   ]
  },
  {
   "cell_type": "markdown",
   "id": "6e8c485b",
   "metadata": {
    "slideshow": {
     "slide_type": "slide"
    }
   },
   "source": [
    "\n",
    "Lo primero que haremos será incializar el circuito, dotado de tres cubits y dos canales clásicos en dos registros. Alice tendrá control sobre los dos primeros $q_0, q_1$ y Bob sobre el tercero $q_2$."
   ]
  },
  {
   "cell_type": "code",
   "execution_count": null,
   "id": "9e8f0085",
   "metadata": {
    "run_control": {
     "marked": false
    },
    "slideshow": {
     "slide_type": "slide"
    }
   },
   "outputs": [],
   "source": [
    "from qiskit import QuantumCircuit, QuantumRegister, ClassicalRegister, Aer, execute\n",
    "\n",
    "qrA = QuantumRegister(2, name=\"qAlice\") \n",
    "qrB =  QuantumRegister(1, name=\"qBob\") \n",
    "crx = ClassicalRegister(1, name=\"crx\") \n",
    "cry = ClassicalRegister(1, name=\"cry\") "
   ]
  },
  {
   "cell_type": "markdown",
   "id": "6805048a",
   "metadata": {},
   "source": [
    "generamos el circuito de teleportación"
   ]
  },
  {
   "cell_type": "code",
   "execution_count": null,
   "id": "67ae30c5",
   "metadata": {},
   "outputs": [],
   "source": [
    "# inicializa el circuito\n",
    "qc = QuantumCircuit(qrA,qrB, crx, cry)\n",
    "\n",
    "# prepara el estado de Bell que comparten Alice y Bob\n",
    "qc.h(qrA[1])\n",
    "qc.cx(qrA[1],qrB[0])\n",
    "\n",
    "# inyecta en el circuito el estado a teleportar\n",
    "qc.initialize(estado,0)\n",
    "\n",
    "qc.barrier()\n",
    "\n",
    "# Añade un medidor de estados de Bell en los cúbits de Alice y efectúa las medidas\n",
    "qc.cx(qrA[0],qrA[1])\n",
    "qc.h(qrA[0])\n",
    "qc.barrier()\n",
    "qc.measure([qrA[0],qrA[1]],[0,1])\n",
    "\n",
    "# Añade el operador X^y Z^x controlado por las salidas xy  de los cubits 0 y 1 de Alice\n",
    "qc.x(qrB[0]).c_if(cry, 1)  \n",
    "qc.z(qrB[0]).c_if(crx, 1)  \n",
    "qc.barrier()\n",
    "\n",
    "#visualiza el circuito \n",
    "qc.draw('mpl')"
   ]
  },
  {
   "cell_type": "code",
   "execution_count": null,
   "id": "fc94c1b4",
   "metadata": {},
   "outputs": [],
   "source": [
    "# ejecuta varias veces y observa el resultado \n",
    "S_simulator = Aer.get_backend('statevector_simulator')\n",
    "out_vector=execute(qc,S_simulator).result().get_statevector()\n",
    "plot_bloch_multivector(out_vector)"
   ]
  },
  {
   "cell_type": "markdown",
   "id": "1f5dabda",
   "metadata": {},
   "source": [
    "Observa al ejecutar repetidas veces que los resultados de las medidas intermedias son aleatorios, pero el estado teleportado es siempre el correcto"
   ]
  },
  {
   "cell_type": "markdown",
   "id": "b42af21c",
   "metadata": {},
   "source": [
    "<div class=\"alert alert-block alert-success\">\n",
    "<b>Ejercicio:</b> \n",
    "prueba a sustituir las puertas de control clásico por operadores $\\cg{X}$ y $\\cg{Z}$. ¿Funciona? ¿Cuál es la sutileza?\n",
    "</div>"
   ]
  },
  {
   "cell_type": "markdown",
   "id": "7fa441fa",
   "metadata": {
    "slideshow": {
     "slide_type": "slide"
    }
   },
   "source": [
    "<div class=\"alert alert-block alert-danger\">\n",
    "El protocolo de teleportación parece poner en riesgo conceptos fundamentales de la física. \n",
    "<br>\n",
    "\n",
    "<b> No clonación: </b>\n",
    "el protocolo tiene como ingrediente esencial la medida y, por tanto, la <i>destrucción</i> del estado de Alice. Como consecuencia, el estado ha sido teleportado pero no clonado. \n",
    "<br>\n",
    "De no ser así, entraríamos en conflicto con el  <i> Teorema de No Clonación </i>. \n",
    "<br>\n",
    "    \n",
    "<b> Causalidad: </b>\n",
    "el protocolo de teleportación <i> no viola causalidad </i>. \n",
    "\n",
    "Es necesario mandar una información clásica (como muy rápido a la velocidad de la luz) para resolver la ambigüedad que le queda a Bob. \n",
    "\n",
    "Esta parte es la que hace que la teleportación no sea un proceso instantáneo de acción a distancia.    \n",
    "    \n",
    "    \n",
    "</div>\n"
   ]
  },
  {
   "cell_type": "markdown",
   "id": "1f10f0ee",
   "metadata": {
    "slideshow": {
     "slide_type": "slide"
    }
   },
   "source": [
    "<div class=\"alert alert-block alert-success\">\n",
    "\n",
    "<b>Ejercicio 1:</b> \n",
    "    \n",
    "cambia el estado inicial por $\\ket{B_{01}}$ y modifica el circuito para que teleporte igualmente. Repítelo para los otros dos casos posibles,    $\\ket{B_{10}}$ y $\\ket{B_{11}}$.\n",
    "\n",
    "</div>\n",
    "\n"
   ]
  },
  {
   "cell_type": "markdown",
   "id": "134b89d6",
   "metadata": {
    "slideshow": {
     "slide_type": "slide"
    }
   },
   "source": [
    "<a id=\"nocloning\"></a>\n",
    "<table width=\"100%\">\n",
    "    <td style=\"font-size:250%px;font-family:Helvetica;text-align:left;background-color:rgba(12, 43, 337, 0.3);\">\n",
    "<b>Teorema de No Clonación</b>\n",
    "</table>"
   ]
  },
  {
   "cell_type": "markdown",
   "id": "6765a5e1",
   "metadata": {
    "slideshow": {
     "slide_type": "slide"
    }
   },
   "source": [
    "Que la teleportación no sea una clonación puede parecer una particularidad de este protocolo.\n",
    "\n",
    "Nada más lejos de la realidad. El *Teorema de No Clonación* es uno de los resultados más sencillos y a la vez más importantes del formalismo de la Mecánica Cuántica. \n",
    "\n",
    "De hecho su formalización completa es bastante reciente, 1982, debida a [Wootters, Zurek](https://en.wikipedia.org/wiki/No-cloning_theorem#cite_note-wootterszurek-2) and [Dieks](https://en.wikipedia.org/wiki/No-cloning_theorem#cite_note-dieks-3). "
   ]
  },
  {
   "cell_type": "markdown",
   "id": "531e5782",
   "metadata": {
    "slideshow": {
     "slide_type": "fragment"
    }
   },
   "source": [
    "<div class=\"alert alert-block alert-info\",text-align:center>\n",
    "<p style=\"text-align: left ;color: navy;\">  \n",
    "<b>Teorema</b>: \n",
    "no existe un operador unitario $U$ (clonador) que, para un estado arbitrario $|\\psi\\rangle$, realice la siguiente operación\n",
    "<br>  \n",
    "<br>    \n",
    "$$\n",
    "U \\ket{\\psi}\\ket{0} = \\ket{\\psi}\\ket{\\psi}\n",
    "$$\n",
    "</div>\n"
   ]
  },
  {
   "cell_type": "markdown",
   "id": "c838c28d",
   "metadata": {
    "slideshow": {
     "slide_type": "slide"
    }
   },
   "source": [
    "\n",
    "*Demostración:*\n",
    "\n",
    "Supondremos que $U$ existe y llegaremos a una contradicción. \n",
    "Tratemos de clonar el estado $\\alpha\\ket{\\psi}+\\beta\\ket{\\phi}$. Esto implica evaluar\n",
    "\n",
    "$$\n",
    "U (\\alpha\\ket{\\psi}+\\beta\\ket{\\phi})\\otimes \\ket{0} = \n",
    "(\\alpha\\ket{\\psi}+\\beta\\ket{\\phi})\\otimes (\\alpha\\ket{\\psi}+\\beta\\ket{\\phi})\n",
    "$$\n"
   ]
  },
  {
   "cell_type": "markdown",
   "id": "dac6621e",
   "metadata": {
    "slideshow": {
     "slide_type": "fragment"
    }
   },
   "source": [
    "\n",
    "Sin embargo, la linealidad de $U$ nos permite seguir otro camino\n",
    "\n",
    "\n",
    "\\begin{eqnarray}\n",
    "U(\\alpha|\\psi\\rangle+\\beta|\\phi\\rangle) \\otimes|0\\rangle &=& \\alpha U|\\psi\\rangle \\otimes|0\\rangle+\\beta U|\\phi\\rangle \\otimes|0\\rangle  \\\\\n",
    "&=&\\alpha|\\psi\\rangle \\otimes|\\psi\\rangle+\\beta|\\phi\\rangle \\otimes|\\phi\\rangle . \\rule{0mm}{6mm}\n",
    "\\end{eqnarray}\n",
    "\n",
    "Los dos resultados son incompatibles y el teorema queda demostrado por reducción al absurdo."
   ]
  },
  {
   "cell_type": "markdown",
   "id": "cfafb3f2",
   "metadata": {
    "slideshow": {
     "slide_type": "fragment"
    }
   },
   "source": [
    "<div class=\"alert alert-block alert-danger\">\n",
    "<b> Advertir: </b>    \n",
    "<br>  \n",
    "<br>    \n",
    "- El teorema de no clonación pone  de manifiesto la <i> tensión </i> que hay entre linealidad y tensorialidad\n",
    "cuando se trata de aplicar operadores.\n",
    "<br>\n",
    "<br>\n",
    "- Es muy importante recalcar que la validez de este teorema sólo aplica a estados <i> genéricos </i>. \n",
    "Si por ejemplo nos restringimos a estados de la base $\\ket{0}$ y $\\ket{1}$, encontes la mera puerta CNOT es un operador de clonación. \n",
    "</div>"
   ]
  },
  {
   "cell_type": "markdown",
   "id": "de2a9bc0",
   "metadata": {
    "slideshow": {
     "slide_type": "slide"
    }
   },
   "source": [
    "<a id=\"intercambent\"></a>\n",
    "<table width=\"100%\">\n",
    "    <td style=\"font-size:250%px;font-family:Helvetica;text-align:left;background-color:rgba(12, 43, 337, 0.3);\">\n",
    "<b>Intercambio de entrelazamiento</b>\n",
    "</table>"
   ]
  },
  {
   "cell_type": "markdown",
   "id": "79693fdf",
   "metadata": {},
   "source": [
    "Ya hemos visto cómo el ejemplo más sencillo de entrelazamiento tiene una aplicación muy interesante en la teleportación. Vamos a ver que el entrelazamiento se puede *contagiar* a terceras partes. \n",
    "\n",
    "En el siguiente circuito\n",
    "\n"
   ]
  },
  {
   "cell_type": "markdown",
   "id": "ce55a478",
   "metadata": {},
   "source": [
    "<br>\n",
    "<div>\n",
    "<img src=\"images/entanglement_swap.png\" width=\"450\"/>\n",
    "</div>\n",
    "<br>"
   ]
  },
  {
   "cell_type": "markdown",
   "id": "078e1273",
   "metadata": {},
   "source": [
    "- Alice (A) entrelaza un cúbit con Charles (C) y otro con Bob (B). \n",
    "<br>\n",
    "\n",
    "- Después, Alice hace una medida de Bell, y comunica el resultado $xy$ a Charles y a Bob respectivamente, \n",
    "<br>\n",
    "\n",
    "- los cuales efectúan las puertas controladas $Z^x$ y $X^y$ respectivamente."
   ]
  },
  {
   "cell_type": "markdown",
   "id": "3c1f02d7",
   "metadata": {},
   "source": [
    "<div class=\"alert alert-block alert-success\">\n",
    "\n",
    "<b>Ejercicio 2: </b> siguiendo los pasos del apartado anterior programa el circuito de la figura    \n",
    "\n",
    "</div>"
   ]
  },
  {
   "cell_type": "code",
   "execution_count": null,
   "id": "9f40a656",
   "metadata": {},
   "outputs": [],
   "source": [
    "## Aquí tu solución\n",
    "\n",
    "##"
   ]
  },
  {
   "cell_type": "markdown",
   "id": "50c9f1ec",
   "metadata": {},
   "source": [
    "<div class=\"alert alert-block alert-success\">\n",
    "    \n",
    "<b>Ejercicio 3:</b> ejecuta el circuito y muestra que el estado final que comparten Bob y Charles está entrelazado. \n",
    "    \n",
    "</div>"
   ]
  },
  {
   "cell_type": "code",
   "execution_count": null,
   "id": "62d391e3",
   "metadata": {},
   "outputs": [],
   "source": [
    "## Aquí tu solución\n",
    "\n",
    "##"
   ]
  },
  {
   "cell_type": "markdown",
   "id": "f9fddb49",
   "metadata": {},
   "source": [
    "<div class=\"alert alert-block alert-success\">\n",
    "\n",
    "<b>Ejercicio 4:</b> diseña un circuito capaz de teleporta un cúbit arbitrario de Charles  a Bob.\n",
    "\n",
    "\n",
    "</div>\n",
    "\n"
   ]
  },
  {
   "cell_type": "code",
   "execution_count": null,
   "id": "4ffce510",
   "metadata": {},
   "outputs": [],
   "source": [
    "## Aquí tu solución\n",
    "\n",
    "##"
   ]
  },
  {
   "cell_type": "markdown",
   "id": "d3fe46ff",
   "metadata": {},
   "source": [
    "algassert.com/quirk#circuit={\"cols\":[[\"~87lj\",\"H\",1,\"H\"],[1,1,1,\"•\",\"X\"],[\"Bloch\"],[1,\"•\",\"X\"],[1,1,\"•\",\"X\"],[1,1,\"H\"],[1,1,\"Measure\",\"Measure\"],[1,1,1,\"•\",\"X\"],[1,\"Z\",\"•\"],[\"•\",\"X\"],[\"H\"],[\"Measure\",\"Measure\"],[\"•\",1,1,1,\"Z\"],[1,\"•\",1,1,\"X\"]],\"gates\":[{\"id\":\"~87lj\",\"name\":\"message\",\"circuit\":{\"cols\":[[\"e^-iYt\"],[\"X^t\"]]}},{\"id\":\"~f7c0\",\"name\":\"received\",\"matrix\":\"{{1,0},{0,1}}\"}]}"
   ]
  }
 ],
 "metadata": {
  "celltoolbar": "Slideshow",
  "kernelspec": {
   "display_name": "Python 3",
   "language": "python",
   "name": "python3"
  },
  "language_info": {
   "codemirror_mode": {
    "name": "ipython",
    "version": 3
   },
   "file_extension": ".py",
   "mimetype": "text/x-python",
   "name": "python",
   "nbconvert_exporter": "python",
   "pygments_lexer": "ipython3",
   "version": "3.7.10"
  },
  "varInspector": {
   "cols": {
    "lenName": 16,
    "lenType": 16,
    "lenVar": 40
   },
   "kernels_config": {
    "python": {
     "delete_cmd_postfix": "",
     "delete_cmd_prefix": "del ",
     "library": "var_list.py",
     "varRefreshCmd": "print(var_dic_list())"
    },
    "r": {
     "delete_cmd_postfix": ") ",
     "delete_cmd_prefix": "rm(",
     "library": "var_list.r",
     "varRefreshCmd": "cat(var_dic_list()) "
    }
   },
   "types_to_exclude": [
    "module",
    "function",
    "builtin_function_or_method",
    "instance",
    "_Feature"
   ],
   "window_display": false
  }
 },
 "nbformat": 4,
 "nbformat_minor": 5
}
