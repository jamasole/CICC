{
 "cells": [
  {
   "cell_type": "markdown",
   "id": "c47a2725",
   "metadata": {
    "slideshow": {
     "slide_type": "slide"
    }
   },
   "source": [
    "<img   src=\"../figuras/logo/TalentQ_LogoPosNegro.png\" align=center  width=\"120\"/>\n",
    "<br>\n",
    "\n",
    "<table width=\"100%\">\n",
    "<td style=\"font-size:400%px;font-style:italic;text-align:right;background-color:rgba(0, 160, 120,0.6)\">\n",
    "Elementos Básicos\n",
    "</td></table>\n",
    "\n",
    "\n",
    "$ \\newcommand{\\bra}[1]{\\langle #1|} $\n",
    "$ \\newcommand{\\ket}[1]{|#1\\rangle} $\n",
    "$ \\newcommand{\\braket}[2]{\\langle #1|#2\\rangle} $\n",
    "$ \\newcommand{\\i}{{\\color{blue} i}} $ \n",
    "$ \\newcommand{\\Hil}{{\\mathbb H}} $\n",
    "$ \\newcommand{\\cg}[1]{{\\rm C}#1} $"
   ]
  },
  {
   "cell_type": "code",
   "execution_count": 1,
   "id": "a39d9944",
   "metadata": {
    "slideshow": {
     "slide_type": "slide"
    }
   },
   "outputs": [],
   "source": [
    "%run ../macro_CURSO.py"
   ]
  },
  {
   "cell_type": "markdown",
   "id": "c8cfbbe8",
   "metadata": {},
   "source": [
    "\n",
    "1. [Retroceso de fase](#retrofase)\n",
    "\n",
    "\n",
    "2. [Circuitos Equivalentes](#circuitequiv)\n",
    "\n",
    "\n",
    "3. [Operadores de Clifford](#opcliff)\n",
    "\n",
    "\n",
    "4. [Computación Cuántica Universal](#compuniv)\n",
    "\n",
    "\n",
    "5. [Caracterización de Circuitos](#complejcirc)"
   ]
  },
  {
   "cell_type": "markdown",
   "id": "a434868a",
   "metadata": {
    "slideshow": {
     "slide_type": "slide"
    }
   },
   "source": [
    "<a id=\"retrofase\"></a>\n",
    "<table width=\"100%\">\n",
    "    <td style=\"font-size:250%px;font-family:Helvetica;text-align:left;background-color:rgba(12, 43, 337, 0.3);\">\n",
    "<b>Retroceso de Fase</b>\n",
    "</table>"
   ]
  },
  {
   "cell_type": "markdown",
   "id": "8e81d03c",
   "metadata": {
    "slideshow": {
     "slide_type": "slide"
    }
   },
   "source": [
    "Hemos estudiado ya el operador controlado $\\cg{U}$. Es un error frecuente pensar que el cúbit controlador no se modifica.\n",
    "\n",
    "\n"
   ]
  },
  {
   "cell_type": "markdown",
   "id": "195dbc20",
   "metadata": {
    "slideshow": {
     "slide_type": "fragment"
    }
   },
   "source": [
    "Un caso importante ocurre cuando el operador $U$ actúa sobre uno de sus autoestados \n",
    "(recuerda que los autovalores de  un operador unitario son fases puras)\n",
    "\n",
    "<br>\n",
    "$$\n",
    "U\\ket{u} = e^{i\\lambda} \\ket{u}\n",
    "$$\n",
    "<br>\n"
   ]
  },
  {
   "cell_type": "markdown",
   "id": "4726c3df",
   "metadata": {
    "slideshow": {
     "slide_type": "fragment"
    }
   },
   "source": [
    " Supongamos que por el *cúbit controlador* circula una superposición $(a\\ket{0}+b\\ket{1})$ y un autoestado $\\ket{u}$ de $U$ por el cúbit controlado. La acción de $\\cg{U}$ es\n",
    "<br>\n",
    "<br>\n",
    "\n",
    "$$\n",
    "\\cg{U}: (a\\ket{0} + b\\ket{1})\\otimes \\ket{u} ~\\to ~ a\\ket{0}\\ket{u} + b \\ket{1}e^{i\\lambda}\\ket{u}  = \\left( a\\ket{0}\\ket{u} + be^{i\\lambda} \\ket{1} \\rule{0mm}{4mm} \\right)\\otimes \\ket{u}\n",
    "$$\n",
    "<br>"
   ]
  },
  {
   "cell_type": "markdown",
   "id": "5e00d8d1",
   "metadata": {
    "slideshow": {
     "slide_type": "fragment"
    }
   },
   "source": [
    "En resultado final es que la fase $e^{i\\lambda}$ ha **modificado** el estado de entrada, mientras que el segundo cúbit no ha cambiado. \n"
   ]
  },
  {
   "cell_type": "markdown",
   "id": "0384a015",
   "metadata": {
    "slideshow": {
     "slide_type": "slide"
    }
   },
   "source": [
    "El punto es que, en el segundo paso, la fase generada por la acción de U *no pertenece* realmente a ninguno de los dos espacios sino al producto. \n",
    "\n",
    "De modo que puede adscribirse al primer espacio, como hemos hecho en el último paso. \n",
    "\n",
    "De ahí el nombre de *retroceso de fase*, en inglés \"phase kickback\". \n"
   ]
  },
  {
   "cell_type": "markdown",
   "id": "8c33b63e",
   "metadata": {
    "slideshow": {
     "slide_type": "fragment"
    }
   },
   "source": [
    "El siguiente circuito resume la acción de retroceso de fase\n",
    "\n",
    "<br>\n",
    "<div>\n",
    "<img src=\"images/phase_kickback.png\" width=\"35%\" style=\"margin:auto\"/>\n",
    "</div>\n",
    "<br>\n"
   ]
  },
  {
   "cell_type": "markdown",
   "id": "47cbef4c",
   "metadata": {},
   "source": [
    "<div class=\"alert alert-block alert-success\">\n",
    "\n",
    "<b>Ejercicio 1.3.0.0 :</b> \n",
    "programa un circuito en el que  $U = P(\\phi)$ es el operador de fase y el estado en el primer cúbit es $\\ket{0}$. \n",
    "    \n",
    "- ¿Qué estado debemos usar para $\\ket{u}$?. \n",
    "    \n",
    "- Usando el *statevector_simulator* representa el estado de salida para distintos de valores de $\\phi\\in $ \n",
    "    \n",
    "- ¿en qué plano rota el vector del primer cúbit? ¿Cómo podemos cambiar dicho plano de rotación?\n",
    "</div>\n"
   ]
  },
  {
   "cell_type": "markdown",
   "id": "b3e3168c",
   "metadata": {
    "slideshow": {
     "slide_type": "slide"
    }
   },
   "source": [
    "<a id=\"circuitequiv\"></a>\n",
    "<table width=\"100%\">\n",
    "<td style=\"font-size:250%px;font-family:Helvetica;text-align:left;background-color:rgba(12, 43, 337, 0.3);\">\n",
    "<b>Circuitos Equivalentes</b>\n",
    "</table>\n"
   ]
  },
  {
   "cell_type": "markdown",
   "id": "ab6fe7c9",
   "metadata": {
    "slideshow": {
     "slide_type": "slide"
    }
   },
   "source": [
    "\n",
    "Es posible encontrar distintos circuitos que producen acciones idénticas sobre un estado arbitrario. Se denominan *circuitos equivalentes*. \n",
    "\n",
    "Matemáticamente, representan distintas descomposiciones del mismo operador unitario en unitarios"
   ]
  },
  {
   "cell_type": "markdown",
   "id": "5ab49e8b",
   "metadata": {
    "slideshow": {
     "slide_type": "fragment"
    }
   },
   "source": [
    "### Conjugación\n",
    "\n",
    "\n",
    "Una caso muy frecuente es la **conjugación** de una puerta $V$  por un **unitario** $U$\n",
    "\n",
    "\n",
    "$$\n",
    "U V   U^\\dagger = V'  \n",
    "$$\n",
    "\n",
    "El operador conjugado $V'$ tiene **la misma acción** sobre la base *base rotada* $\\{\\ket{e'} = U\\ket{e}\\}$\n",
    "que la que tiene $V$ sobre la original $\\{\\ket{e}\\}$."
   ]
  },
  {
   "cell_type": "markdown",
   "id": "d9990b5e",
   "metadata": {
    "slideshow": {
     "slide_type": "fragment"
    }
   },
   "source": [
    " Por ello, \n",
    " - los *autovalores* de $V$ y de $V'$ son los *mismos* y \n",
    " \n",
    " - los *autovectores* son los *rotados*\n",
    "\n",
    "$$\n",
    "\\lambda' = \\lambda ~~~~~~\\hbox{y}~~~~~~  \\ket{\\lambda}' = U\\ket{\\lambda}\n",
    "$$"
   ]
  },
  {
   "cell_type": "markdown",
   "id": "1928a1b0",
   "metadata": {
    "slideshow": {
     "slide_type": "fragment"
    }
   },
   "source": [
    "Comprobémoslo\n",
    "\n",
    "$$\n",
    "\\fbox{$V \\ket{\\lambda}= \\lambda\\ket{\\lambda}$} ~~\\Rightarrow ~~~V'\\ket{\\lambda}' = (UVU^\\dagger) U\\ket{\\lambda} = UV\\ket{\\lambda} =  U(\\lambda\\ket{\\lambda}) = \\lambda U\\ket{\\lambda} = \\lambda\\ket{\\lambda}' ~~\\Rightarrow ~~~ \\fbox{$ V' \\ket{\\lambda}' = \\lambda\\ket{\\lambda}'$}\n",
    "$$\n",
    "<br>"
   ]
  },
  {
   "cell_type": "markdown",
   "id": "cfdb7074",
   "metadata": {
    "slideshow": {
     "slide_type": "slide"
    }
   },
   "source": [
    "Por ejemplo \n",
    "<br>\n",
    "<br>\n",
    "<div>\n",
    "<img src=\"images/H_conjugation.png\" width=\"40%\" style=\"margin:auto\"/>\n",
    "</div>\n",
    "<br>\n",
    "<br>\n",
    "y,  equivalentemente, intercambiando $X \\leftrightarrow Z$. \n"
   ]
  },
  {
   "cell_type": "markdown",
   "id": "f2f713ea",
   "metadata": {
    "slideshow": {
     "slide_type": "fragment"
    }
   },
   "source": [
    "<br>\n",
    "\n",
    "- Este tipo de equivalencia se sigue de las identidades algebráicas\n",
    "<br>\n",
    "<br>\n",
    "\\begin{eqnarray}\n",
    "HXH = Z ~~~~~&&~~ ~~~\n",
    "HZH = X \\nonumber\n",
    "\\end{eqnarray}\n",
    "<br>\n",
    "que son fáciles de visualizar recordando que  $H$ es una rotación de 180$^\\circ$ en torno al eje diagonal en el plano $XZ$\n",
    "\n"
   ]
  },
  {
   "cell_type": "markdown",
   "id": "72b50983",
   "metadata": {
    "slideshow": {
     "slide_type": "fragment"
    }
   },
   "source": [
    "<br>\n",
    "\n",
    "- Análogamente\n",
    "<br>\n",
    "<br>\n",
    "\\begin{eqnarray}\n",
    "S X S^\\dagger  = Y~~~~~&&~~~ ~~~\n",
    "S Y S^\\dagger = -X  ~~~~~~~~ S Z S^\\dagger = Z\\nonumber\\\\\n",
    "\\end{eqnarray}\n",
    "<br>\n",
    "también  son fáciles de visualizar recordando que \n",
    " $S=\\sqrt{Z}$ es una rotación de $90^\\circ$ en torno al eje $Z$.\n"
   ]
  },
  {
   "cell_type": "markdown",
   "id": "7eda0958",
   "metadata": {
    "slideshow": {
     "slide_type": "slide"
    }
   },
   "source": [
    "### Conjugación de una exponencial\n",
    "\n",
    "muchas puertas unitarias son de la forma $V = e^{\\alpha A}$"
   ]
  },
  {
   "cell_type": "markdown",
   "id": "79a79a07",
   "metadata": {
    "slideshow": {
     "slide_type": "fragment"
    }
   },
   "source": [
    "Por ejemplo, si  $A = \\hat{\\bf n}\\cdot \\boldsymbol{\\sigma} $ entonces $  ~\\Rightarrow ~V= R_{\\hat{\\bf n}}(\\theta)$ es el operador que rota un ángulo $\\theta$ en torno al vector $\\hat{\\bf n}$ en la esfera de Bloch.\n",
    "\n",
    "$$\n",
    " R_{\\hat{\\bf n}}(\\theta) = e^{-i\\frac{\\theta}{2}\\hat{\\bf n}\\cdot \\boldsymbol{\\sigma}}\n",
    "$$\n",
    "\n"
   ]
  },
  {
   "cell_type": "markdown",
   "id": "492581b6",
   "metadata": {
    "slideshow": {
     "slide_type": "fragment"
    }
   },
   "source": [
    "<table width=\"100%\"><td style=\"font-size:130%px;font-style:roman;text-align:left;\">\n",
    " <br>\n",
    " <b>Lema</b>:\n",
    "La conjugación de una exponencial se exponencia\n",
    "<br><br>\n",
    "</table>\n",
    "\n",
    "\\begin{eqnarray}\n",
    "U e^{\\alpha A} U^\\dagger &=&  U \\left(1 + \\alpha A  + \\frac{1}{2} \\alpha^2 A^2 + ... \\right) U^\\dagger \\\\ \\rule{0mm}{8mm}\n",
    "&=& 1 + \\alpha UAU^\\dagger + \\frac{1}{2}\\alpha^2 UAU^\\dagger U AU^\\dagger + ... \\\\ \\rule{0mm}{8mm}\n",
    "&=& e^{ \\alpha UAU^\\dagger} \n",
    "\\end{eqnarray}\n",
    "\n"
   ]
  },
  {
   "cell_type": "markdown",
   "id": "43766bc6",
   "metadata": {
    "slideshow": {
     "slide_type": "slide"
    }
   },
   "source": [
    "Para el caso $A = \\hat{\\bf n}\\cdot \\boldsymbol{\\sigma} $  la conjugación es\n",
    "<br><br>\n",
    "$$\n",
    "U A U^\\dagger ~\\to ~U (\\hat{\\bf n}\\cdot \\boldsymbol{\\sigma} ) U^\\dagger = (U\\hat{\\bf n})\\cdot  \\boldsymbol{\\sigma}\n",
    "$$\n",
    "<br>"
   ]
  },
  {
   "cell_type": "markdown",
   "id": "338dba98",
   "metadata": {
    "slideshow": {
     "slide_type": "fragment"
    }
   },
   "source": [
    "<table width=\"100%\"><td style=\"font-size:120%px;font-style:roman;text-align:left;\">\n",
    " <br>\n",
    "<b>Corolario:</b>\n",
    "  $~$ <i>la conjugación de una rotación en torno a un eje produce una rotación en torno al eje conjugado</i>\n",
    "<br><br>\n",
    "$$\n",
    "U R_{\\hat{\\bf n}}(\\theta) U^\\dagger = R_{U\\hat{\\bf n}}(\\theta)\n",
    "$$\n",
    "<br>\n",
    "</table>\n"
   ]
  },
  {
   "cell_type": "markdown",
   "id": "1e37a75b",
   "metadata": {
    "slideshow": {
     "slide_type": "fragment"
    }
   },
   "source": [
    "Por ejemplo:\n",
    "\n",
    "\\begin{eqnarray}\n",
    "H R_z(\\theta) H &=& e^{-i \\theta/2 HZH} =  e^{-i (\\theta/2) X}. \\\\ \\rule{0mm}{8mm}\n",
    "&=& R_x(\\theta)\n",
    "\\end{eqnarray}\n",
    "\n",
    "<br>\n",
    "<br>\n",
    "<div>\n",
    "<img src=\"images/HRzHconjugation.png\" width=\"60%\" style='margin:auto'/>\n",
    "</div>\n",
    "<br>\n",
    "\n"
   ]
  },
  {
   "cell_type": "markdown",
   "id": "12e9cd4e",
   "metadata": {
    "slideshow": {
     "slide_type": "slide"
    }
   },
   "source": [
    "### 2 cúbits"
   ]
  },
  {
   "cell_type": "markdown",
   "id": "480e653c",
   "metadata": {
    "slideshow": {
     "slide_type": "fragment"
    }
   },
   "source": [
    "\n",
    " $\\bullet$ La puerta  controlada $\\cg{Z} =  {\\rm diag}(1,1,1,-1)$   es simétrica ya que lo único que hace, es cambiar de signo al estado $\\ket{11}$. Es decir\n",
    "<br>\n",
    "<br>\n",
    "<div>\n",
    "<img src=\"images/Equiv_Z.png\" width=\"30%\" style='margin:auto'/>\n",
    "</div>\n",
    "<br>\n",
    "\n",
    " En realidad, $\\cg{Z}$ es un caso particular de   $\\cg{P(\\phi)} = {\\rm diag} (1,1,1, e^{i\\phi})$, para la cual la equivalencia es la misma. \n"
   ]
  },
  {
   "cell_type": "markdown",
   "id": "e4fc503c",
   "metadata": {
    "slideshow": {
     "slide_type": "fragment"
    }
   },
   "source": [
    "$\\bullet$   Otra equivalencia importante es\n",
    "<br>\n",
    "<br>\n",
    "\n",
    "<div>\n",
    "<img src=\"images/Equiv_HH.png\" width=\"40%\" style='margin:auto'/>\n",
    "</div>\n",
    "<br>\n"
   ]
  },
  {
   "cell_type": "markdown",
   "id": "afe78fe7",
   "metadata": {
    "slideshow": {
     "slide_type": "fragment"
    }
   },
   "source": [
    "Para probarla, observemos que las tres puertas del segundo cúbit se pueden componer para dar $HXH=Z$. Por el contrario, las dos puertas de Hadamard en el primer cúbit no se pueden multiplicar al haber un control entre ellas. \n",
    "Sin embargo, usando la  equivalencia anterior podemos invertir la puerta $\\cg{Z}$ y, finalmente, conjugar en el primer cúbit $HZH=X$.\n"
   ]
  },
  {
   "cell_type": "markdown",
   "id": "884eac4a",
   "metadata": {
    "slideshow": {
     "slide_type": "slide"
    }
   },
   "source": [
    "\n",
    "- Otra  equivalencia nada intuitiva pero muy importante relaciona tres operaciones CNOT con la permutación U$_{\\rm SWAP}$\n",
    "\n",
    "\n",
    "<br>\n",
    "<br>\n",
    "<div>\n",
    "<img src=\"images/Equiv_CNOTs.png\" width=\"40%\" style='margin:auto'/>\n",
    "</div>\n",
    "<br>\n",
    "<br>\n",
    "\n",
    "No hay una forma sencilla de probar esta identidad, así que lo recomendable es escribir las matrices asociadas a cada miembro y comprobar que son iguales\n"
   ]
  },
  {
   "cell_type": "markdown",
   "id": "21f7fe8b",
   "metadata": {
    "slideshow": {
     "slide_type": "fragment"
    }
   },
   "source": [
    " \n",
    "\n",
    " $\\bullet$  La puerta de phase global controlada, $\\cg{K_\\phi} = {\\rm diag} (1,1,e^{i\\phi}, e^{i\\phi})$, secretamente, no es una puerta controlada\n",
    "\n",
    "\n",
    "<br>\n",
    "<br>\n",
    "<div>\n",
    "<img src=\"images/Equiv_Kphase.png\" width=\"35%\" style='margin:auto'/>\n",
    "</div>\n",
    "<br>\n",
    "<br>\n"
   ]
  },
  {
   "cell_type": "markdown",
   "id": "5573c13e",
   "metadata": {
    "slideshow": {
     "slide_type": "slide"
    }
   },
   "source": [
    "También podemos comprobar la veracidad de las anteriores identidades programando los circuitos de ambos miembros"
   ]
  },
  {
   "cell_type": "code",
   "execution_count": 2,
   "id": "392b4b4e",
   "metadata": {
    "slideshow": {
     "slide_type": "fragment"
    }
   },
   "outputs": [
    {
     "name": "stdout",
     "output_type": "stream",
     "text": [
      "          ┌───┐     \n",
      "q_0: ──■──┤ X ├──■──\n",
      "     ┌─┴─┐└─┬─┘┌─┴─┐\n",
      "q_1: ┤ X ├──■──┤ X ├\n",
      "     └───┘     └───┘\n",
      "        \n",
      "q_0: ─X─\n",
      "      │ \n",
      "q_1: ─X─\n",
      "        \n"
     ]
    }
   ],
   "source": [
    "from qiskit import *\n",
    "from qiskit.quantum_info import Statevector\n",
    "U_simulator = Aer.get_backend('unitary_simulator')\n",
    "\n",
    "qc_left= QuantumCircuit(2)\n",
    "qc_right= QuantumCircuit(2)\n",
    "\n",
    "qc_left.cx(0,1)\n",
    "qc_left.cx(1,0)\n",
    "qc_left.cx(0,1)\n",
    "qc_right.swap(1,0)\n",
    " \n",
    "print(qc_left)\n",
    "print(qc_right)\n",
    "\n",
    "U_left = execute(qc_left, backend = U_simulator).result().get_unitary()\n",
    "U_right = execute(qc_right, backend = U_simulator).result().get_unitary()"
   ]
  },
  {
   "cell_type": "markdown",
   "id": "db6e5f81",
   "metadata": {
    "slideshow": {
     "slide_type": "fragment"
    }
   },
   "source": [
    "podemos comprobar que las matrices que representan los circuitos coinciden"
   ]
  },
  {
   "cell_type": "code",
   "execution_count": 3,
   "id": "4c355440",
   "metadata": {
    "slideshow": {
     "slide_type": "fragment"
    }
   },
   "outputs": [
    {
     "data": {
      "text/latex": [
       "$$\n",
       "\\text{U_left = }\n",
       "\n",
       "\\begin{bmatrix}\n",
       "1 & 0 & 0 & 0  \\\\\n",
       " 0 & 0 & 1 & 0  \\\\\n",
       " 0 & 1 & 0 & 0  \\\\\n",
       " 0 & 0 & 0 & 1  \\\\\n",
       " \\end{bmatrix}\n",
       "$$"
      ],
      "text/plain": [
       "<IPython.core.display.Latex object>"
      ]
     },
     "execution_count": 3,
     "metadata": {},
     "output_type": "execute_result"
    }
   ],
   "source": [
    "from qiskit.tools.visualization import array_to_latex\n",
    "array_to_latex(U_left, prefix=\"\\\\text{U_left = }\\n\")"
   ]
  },
  {
   "cell_type": "code",
   "execution_count": 4,
   "id": "44632c64",
   "metadata": {
    "slideshow": {
     "slide_type": "-"
    }
   },
   "outputs": [
    {
     "data": {
      "text/latex": [
       "$$\n",
       "\\text{U_right = }\n",
       "\n",
       "\\begin{bmatrix}\n",
       "1 & 0 & 0 & 0  \\\\\n",
       " 0 & 0 & 1 & 0  \\\\\n",
       " 0 & 1 & 0 & 0  \\\\\n",
       " 0 & 0 & 0 & 1  \\\\\n",
       " \\end{bmatrix}\n",
       "$$"
      ],
      "text/plain": [
       "<IPython.core.display.Latex object>"
      ]
     },
     "execution_count": 4,
     "metadata": {},
     "output_type": "execute_result"
    }
   ],
   "source": [
    "array_to_latex(U_right, prefix=\"\\\\text{U_right = }\\n\")"
   ]
  },
  {
   "cell_type": "markdown",
   "id": "41b75078",
   "metadata": {
    "slideshow": {
     "slide_type": "slide"
    }
   },
   "source": [
    "<div class=\"alert alert-block alert-success\">\n",
    "    <b>Ejercicio 1.3.0.1:</b> \n",
    "<br> \n",
    "$~$ Demuestra las equivalencia de circuitos anteriores de dos formas:\n",
    "<br>\n",
    "$~~~$ - sobre el papel,  multiplicando las matrices asociadas\n",
    "<br>\n",
    "$~~~$ - en qiskit, componiendo los circuitos y extrayendo el operador unitario asociado\n",
    "</div>\n"
   ]
  },
  {
   "cell_type": "markdown",
   "id": "1d64a226",
   "metadata": {
    "slideshow": {
     "slide_type": "fragment"
    }
   },
   "source": [
    "<div class=\"alert alert-block alert-success\">\n",
    "    <b>Ejercicio 1.3.0.2:</b> \n",
    "<br> \n",
    "comprueba la equivalencia de los dos circuitos siguientes, siempre que se verifique que $V^2 = U$\n",
    "\n",
    "<br>\n",
    "<br>\n",
    "<div>\n",
    "<img src=\"images/CCUdecomposition.png\" width=\"40%\" style='margin:auto'/>\n",
    "</div>\n",
    "<br>\n",
    "<br>\n",
    "\n",
    "    \n",
    "</div>\n"
   ]
  },
  {
   "cell_type": "markdown",
   "id": "29deeff7",
   "metadata": {
    "slideshow": {
     "slide_type": "slide"
    }
   },
   "source": [
    "<a id=\"opcliff\"></a>\n",
    "<table width=\"100%\">\n",
    "    <td style=\"font-size:250%px;font-family:Helvetica;text-align:left;background-color:rgba(12, 43, 337, 0.3);\">\n",
    "<b>Operadores de Clifford</b>\n",
    "</table>"
   ]
  },
  {
   "cell_type": "markdown",
   "id": "c1bbc80c",
   "metadata": {
    "slideshow": {
     "slide_type": "slide"
    }
   },
   "source": [
    "\n",
    "<div class=\"alert alert-block alert-info\">\n",
    "<p style=\"text-align: center;\"> <p style=\"text-align: left ;color: navy;\">  \n",
    "<b>Definición:</b> se define un <i>operador de Clifford</i>, $U$ como aquel que conjuga un operador de Pauli a otro operador de Pauli.\n",
    "</p></div>\n",
    "\n",
    "Los propios operadores de Pauli son operadores de Clifford.  La conjugación correspondiente simplemente refleja el operador de Pauli. Por ejemplo con $U=Z$\n",
    "\n",
    "$$\n",
    "ZXZ = -X~~~~~~~~~ZYZ = -Y ~~~~~~~~~ZZZ = Z \n",
    "$$\n",
    "\n",
    "\n",
    "Pero vemos que también $H$ y $S$ son de Clifford. \n",
    "Por el contrario $T$ no es un operador de Clifford."
   ]
  },
  {
   "cell_type": "markdown",
   "id": "a3d34b5b",
   "metadata": {
    "slideshow": {
     "slide_type": "fragment"
    }
   },
   "source": [
    "<br>\n",
    "<br>\n",
    "<div class=\"alert alert-block alert-danger\">\n",
    "<b>Notar:</b> \n",
    "La forma más fácil de calcular estas conjugaciones es  recordar el álgebra de operadores de Pauli\n",
    "\n",
    "$$\n",
    "X Y = i Z ~~~~~ Y Z = i X ~~~~~ ZX = iY\n",
    "$$\n",
    "donde todas involucran a $X,Y$ y $Z$ en orden cíclico.\n",
    "\n",
    "También el hecho de que dos operadores de Pauli distintos anti-conmutan\n",
    "\n",
    "$$\n",
    "\\{X,Y\\} = XY + YX = 0\n",
    "$$\n",
    "e igualmente para $Y$ y $Z$\n",
    "</p></div>\n"
   ]
  },
  {
   "cell_type": "markdown",
   "id": "65d64325",
   "metadata": {
    "slideshow": {
     "slide_type": "slide"
    }
   },
   "source": [
    "Esta definición se extiende a puertas multi-cúbits. Un operador de Clifford será aquel que conjuga una cadena de Pauli para dar otra cadena de Pauli. Por ejemplo\n",
    "\n",
    "\\begin{eqnarray}\n",
    "(XXH) \\, (YZX) \\,  (XXH)^\\dagger &=& XXH \\otimes YZX \\otimes XXH \\\\ \\rule{0mm}{10mm}\n",
    "&=& XYX \\otimes  XZX \\otimes HXH \\\\ \\rule{0mm}{10mm}\n",
    "&=& (-Y)\\otimes (-Z) \\otimes Z \\\\ \\rule{0mm}{10mm} &=& YZZ\n",
    "\\end{eqnarray}"
   ]
  },
  {
   "cell_type": "markdown",
   "id": "bcd7ccf9",
   "metadata": {
    "slideshow": {
     "slide_type": "fragment"
    }
   },
   "source": [
    "También podemos conjugar operadores obtenidos por exponenciación\n",
    "\n",
    "$$\n",
    "(XXH) \\, e^{aYZX} \\,  (XXH)^\\dagger =e^{a XXH \\otimes XZX \\otimes XXH} =  e^{a YZZ}\n",
    "$$"
   ]
  },
  {
   "cell_type": "markdown",
   "id": "bd9b0c0c",
   "metadata": {
    "slideshow": {
     "slide_type": "slide"
    }
   },
   "source": [
    "Para 2 cúbits la *clase de Clifford* admite puertas controladas.\n",
    "\n",
    "$$\n",
    "\\cg{X} \\, (X\\otimes I)\\,  \\cg{X} = X \\otimes X\n",
    "$$\n",
    "\n",
    "que copia el operador $X$ en el segundo cúbit\n",
    "\n",
    "\n"
   ]
  },
  {
   "cell_type": "markdown",
   "id": "02727d7b",
   "metadata": {
    "slideshow": {
     "slide_type": "fragment"
    }
   },
   "source": [
    "Esta identidad se puede demostrar gráficamente \n",
    "<br>\n",
    "<br>\n",
    "<br>\n",
    "<div>\n",
    "<img src=\"images/clone_X.png\" width=\"75%\" style='margin:auto'/>\n",
    "</div>\n",
    "<br>\n",
    "<br>"
   ]
  },
  {
   "cell_type": "markdown",
   "id": "d34743d6",
   "metadata": {
    "slideshow": {
     "slide_type": "slide"
    }
   },
   "source": [
    "<a id=\"compuniv\"></a>\n",
    "<table width=\"100%\">\n",
    "    <td style=\"font-size:250%px;font-family:Helvetica;text-align:left;background-color:rgba(12, 43, 337, 0.3);\">\n",
    "<b>Computación Cuántica Universal</b>\n",
    "</table>"
   ]
  },
  {
   "cell_type": "markdown",
   "id": "a93c162d",
   "metadata": {
    "slideshow": {
     "slide_type": "slide"
    }
   },
   "source": [
    "El objetivo de un *computador cuántico universal* es el de ser capaz de implementar el operador unitario más general\n",
    "\n",
    "$$\n",
    "U  = \\sum_x \\ket{f(x)}\\bra{x}\n",
    "$$\n",
    "donde $f: x \\to f(x)$ es una función arbitraria invertible."
   ]
  },
  {
   "cell_type": "markdown",
   "id": "8e5a0398",
   "metadata": {
    "slideshow": {
     "slide_type": "fragment"
    }
   },
   "source": [
    "<div class=\"alert alert-block alert-info\">\n",
    "<p style=\"text-align: center;\"> <p style=\"text-align: left ;color: navy;\">  \n",
    "<b>Teorema</b> <i>(Barenco et. al. 1995):</i> \n",
    "<br>\n",
    "cualquier operador unitario $U_n$ sobre $n$ cúbits puede expresarse como el producto de puertas continuas de un cubit y puertas CNOT.\n",
    "</p></div>"
   ]
  },
  {
   "cell_type": "markdown",
   "id": "e15b8e42",
   "metadata": {
    "slideshow": {
     "slide_type": "fragment"
    }
   },
   "source": [
    "En otras palabras: cualquier operador unitario actuando sobre registros de $n$ cúbits puede descomponerse en producto de \n",
    "\n",
    "- puertas simples sobre 1-cúbit   \n",
    "\n",
    "- la puerta binaria CNOT \n",
    "\n",
    "Un ejemplo de este teorema lo ofrece la siguiente descomposición de la puerta controlada $\\cg{P_\\phi}$\n",
    "<br>\n",
    "<br>\n",
    "<div>\n",
    "<img src=\"images/Equiv_Phase.png\" width=\"50%\" style='margin:auto'/>\n",
    "</div>\n",
    "<br>\n",
    "\n"
   ]
  },
  {
   "cell_type": "markdown",
   "id": "41fe816a",
   "metadata": {
    "slideshow": {
     "slide_type": "slide"
    }
   },
   "source": [
    "la prueba consta de varios pasos: \n",
    "\n",
    "1.  cualquier operador $U_n$ sobre $n$ cúbits se puede descomponer como *producto de operadores* $\\cg{^kU}$ controlados por $k$ cúbits"
   ]
  },
  {
   "cell_type": "markdown",
   "id": "623ade46",
   "metadata": {
    "slideshow": {
     "slide_type": "fragment"
    }
   },
   "source": [
    "2. los operadores $\\hbox{C}^kU$ se pueden descomponer como productos de un  operador $\\cg{U}$ y puertas de Toffoli CCNOT\n"
   ]
  },
  {
   "cell_type": "markdown",
   "id": "dbd93909",
   "metadata": {
    "slideshow": {
     "slide_type": "fragment"
    }
   },
   "source": [
    "por ejemplo con $k=4$ necesitamos $k-1$ ancillas\n",
    "\n",
    "<br>\n",
    "<br>\n",
    "<div>\n",
    "<img src=\"images/CkUdecomposition.png\" width=\"50%\" style='margin:auto'/>\n",
    "</div>\n",
    "<br>\n"
   ]
  },
  {
   "cell_type": "markdown",
   "id": "69e54f05",
   "metadata": {
    "slideshow": {
     "slide_type": "slide"
    }
   },
   "source": [
    "<a id=\"Toffolidecomposition\"></a>\n",
    "3. Las puertas de Toffoli puede descomponerse como productos de $H$, $\\cg{X}$ y $\\cg{S}$\n",
    "\n",
    "<br>\n",
    "<br>\n",
    "<div>\n",
    "<img src=\"images/Toffolidecomposition.png\" width=\"50%\" style='margin:auto'/>\n",
    "</div>\n",
    "<br>\n",
    "<br>\n",
    "Este no es más que el caso particular  de la descomposición general de $\\cg{^2U}$ usando $U = X = HZH=HSSH =  (HSH)(HSH)= V^2$."
   ]
  },
  {
   "cell_type": "markdown",
   "id": "eddbf293",
   "metadata": {
    "slideshow": {
     "slide_type": "fragment"
    }
   },
   "source": [
    "<a id=\"CUdecomposition\"></a>\n",
    "4. Una puerta $\\cg{U}$ puede descomponerse usando tres puertas $A, B$ y $C$ que verifiquen\n",
    "\n",
    "$$\n",
    "ABC = I ~~~~~,~~~~ AXBXC = e^{-i\\delta} U\n",
    "$$\n",
    "\n",
    "para algún valor de $\\delta$.\n",
    "\n",
    "<br>\n",
    "<br>\n",
    "<div>\n",
    "<img src=\"images/CUdecomposition.png\" width=\"62%\" style='margin:auto'/>\n",
    "</div>\n",
    "<br>\n",
    "\n",
    "donde\n",
    "\n",
    "$$\n",
    "P(\\delta)  = \\ket{0}\\bra{0}\\otimes I + \\ket{1}\\bra{1}\\otimes e^{i\\delta}\n",
    "$$\n"
   ]
  },
  {
   "cell_type": "markdown",
   "id": "0b303b38",
   "metadata": {
    "slideshow": {
     "slide_type": "slide"
    }
   },
   "source": [
    "### Conjunto de puertas universales\n",
    "\n",
    "\n",
    "- La descomposición del teorema de Barenco es  una identidad exacta capaz de descomponer un conjunto infinito y continuo de operadores $U_n$ en puertas CNOT y puertas continuas $U$ \n",
    "\n",
    "\n"
   ]
  },
  {
   "cell_type": "markdown",
   "id": "3c98a807",
   "metadata": {
    "slideshow": {
     "slide_type": "fragment"
    }
   },
   "source": [
    "- La computación cuántica *resistentes a errores (\"fault tolerant\")* demanda la discretización del proceso de computación.\n",
    "\n"
   ]
  },
  {
   "cell_type": "markdown",
   "id": "e6637bfd",
   "metadata": {
    "slideshow": {
     "slide_type": "fragment"
    }
   },
   "source": [
    "\n",
    "- Existe un *conjunto discreto de puertas universales* susceptibles de programarse de manera resistente a errores \n",
    "\n",
    "\n",
    "\n"
   ]
  },
  {
   "cell_type": "markdown",
   "id": "6b551da5",
   "metadata": {
    "slideshow": {
     "slide_type": "fragment"
    }
   },
   "source": [
    "- Puede ser diferente dependiendo de la plataforma utilizada. \n",
    "\n",
    "\\begin{eqnarray}\n",
    "\\hbox{HSTC}~~\n",
    " ~&:& ~~ \\{ H, S, T, \\hbox{CNOT}\\}  \\nonumber \\\\ \\rule{0mm}{5mm}\n",
    "\\hbox{NCT}~ ~&:& ~~ \\{ X,\\hbox{CNOT}, \\hbox{Toffoli}\\}   \\nonumber\n",
    "\\end{eqnarray}\n"
   ]
  },
  {
   "cell_type": "markdown",
   "id": "85659a7d",
   "metadata": {
    "slideshow": {
     "slide_type": "slide"
    }
   },
   "source": [
    "<div class=\"alert alert-block alert-info\">\n",
    "<p style=\"text-align: center;\"> <p style=\"text-align: left ;color: navy;\">  \n",
    "<b>Teorema</b> <i>(Solovay Kitaev et. al. 1995):</i>   \n",
    "<br>    \n",
    "una puerta simple $U$ arbitraria puede ser aproximada con precisión $\\epsilon$ usando una secuencia de puertas discretas \n",
    "$R$ en el siguiente sentido de proximidad\n",
    "<br>\n",
    "<br>\n",
    "$$\n",
    "\\hbox{max}_{\\ket{\\psi}} || (U - R)\\ket{\\psi} ||<\\epsilon\n",
    "$$\n",
    "<br>    \n",
    "donde la secuencia aproximante $R$ involucra   $\\leq {\\cal O}(\\log^2(1/\\epsilon))$ puertas de un conjunto discreto universal, \n",
    "</p></div>\n",
    "\n",
    "Referencia: M.A. Nielsen y L.I. Chuang *Quantum Computation and Quantum Information*, pág. 197.\n"
   ]
  },
  {
   "cell_type": "markdown",
   "id": "91d7cbbe",
   "metadata": {
    "slideshow": {
     "slide_type": "slide"
    }
   },
   "source": [
    "<a id=\"complejcirc\"></a>\n",
    "<table width=\"100%\">\n",
    "    <td style=\"font-size:250%px;font-family:Helvetica;text-align:left;background-color:rgba(12, 43, 337, 0.3);\">\n",
    "<b>Calidad de circuitos</b>\n",
    "</table>"
   ]
  },
  {
   "cell_type": "markdown",
   "id": "76dd1f28",
   "metadata": {
    "slideshow": {
     "slide_type": "slide"
    }
   },
   "source": [
    "Alguna medidas cuantitativas  permiten comparar la calidad de distintos circuitos que efectúan la misma tarea. \n",
    "\n",
    "- **anchura**= es el número total de cúbits  que necesita.   \n",
    "\n",
    " El uso de ancillas incrementa la anchura de un circuito, y por tanto, reduce su calidad en comparación con otro circuito que tenga menor anchura. \n"
   ]
  },
  {
   "cell_type": "markdown",
   "id": "a9a76344",
   "metadata": {
    "slideshow": {
     "slide_type": "fragment"
    }
   },
   "source": [
    "- **tamaño** (o *coste*)= el número de puertas presentes en el mismo. \n",
    "\n",
    " Es un número a reducir. Sin embargo no es una medida inambigua ya que depende de la librería utilizada. Por ejemplo, si ésta es la NCT, entonces el coste del [circuito](#Toffolidecomposition) es 1. Sin embargo, si la librería es la tomada por $ \\{ H, S, T, \\hbox{CNOT}\\} $\n",
    "entonces el coste sube hasta 7. Por ello, a la hora de comparar circuitos es importante definirlos en la misma base. \n"
   ]
  },
  {
   "cell_type": "markdown",
   "id": "49849d08",
   "metadata": {
    "slideshow": {
     "slide_type": "fragment"
    }
   },
   "source": [
    "- **complejidad cuántica**= es una medida estandarizada asociada al número de *puertas elementales* en las que puede descomponerse un circuito. \n",
    "\n",
    " De manera efectiva, se consideran puertas elementales, todas las puertas generales de un cúbit y de dos cúbits, a las que se les  asocia un coste cuántico de 1. De esta manera, un puerta de Toffoli tendría un coste de circuito igual a 7, pero una complejidad  cuántica de 5 ya que las puertas de un cúbit pueden reabsorberse en las de dos cúbits.\n"
   ]
  },
  {
   "cell_type": "markdown",
   "id": "f0b60559",
   "metadata": {
    "slideshow": {
     "slide_type": "fragment"
    }
   },
   "source": [
    "\n",
    " \n",
    " * **profundidad**= para evaluar la *profundidad*  es necesario agrupar todas las puertas  que se puedan realizar en paralelo en cortes temporales de duración $\\Delta$ (pulso).\n",
    " \n",
    " En particular puertas que actúen sobre registros diferentes no interferirán y se podrán paralelizar. \n",
    " Por ejemplo, el [circuito que descompone $U$](#CUdecomposition)   tiene un coste igual a 6, pero una profundidad igual a 5. \n",
    " \n",
    "\n"
   ]
  },
  {
   "cell_type": "code",
   "execution_count": 12,
   "id": "9704dc48",
   "metadata": {
    "run_control": {
     "marked": false
    },
    "slideshow": {
     "slide_type": "slide"
    }
   },
   "outputs": [
    {
     "data": {
      "image/png": "[encoded data removed]",
      "text/plain": [
       "<Figure size 327.397x204.68 with 1 Axes>"
      ]
     },
     "execution_count": 12,
     "metadata": {},
     "output_type": "execute_result"
    }
   ],
   "source": [
    "from qiskit import QuantumCircuit, transpile, Aer, QuantumRegister\n",
    "qc = QuantumCircuit(3)\n",
    "\n",
    "\n",
    "qc.h(0)\n",
    "qc.swap(2,1)\n",
    "qc.h(2)\n",
    "qc.cx(2,0)\n",
    "qc.h([0,2])\n",
    "qc.draw('mpl')\n"
   ]
  },
  {
   "cell_type": "code",
   "execution_count": 13,
   "id": "3e594309",
   "metadata": {},
   "outputs": [
    {
     "name": "stdout",
     "output_type": "stream",
     "text": [
      "tamaño= 6\n",
      "puertas no locales= 2\n",
      "anchura= 3\n",
      "profundidad= 4\n"
     ]
    }
   ],
   "source": [
    "print('tamaño=',qc.size())\n",
    "print('puertas no locales=', qc.num_nonlocal_gates())\n",
    "print('anchura=', qc.num_qubits)\n",
    "print('profundidad=', qc.depth())\n"
   ]
  },
  {
   "cell_type": "code",
   "execution_count": 15,
   "id": "c3e41041",
   "metadata": {
    "run_control": {
     "marked": false
    },
    "slideshow": {
     "slide_type": "slide"
    }
   },
   "outputs": [
    {
     "data": {
      "image/png": "[encoded data removed]",
      "text/plain": [
       "<Figure size 447.797x204.68 with 1 Axes>"
      ]
     },
     "execution_count": 15,
     "metadata": {},
     "output_type": "execute_result"
    }
   ],
   "source": [
    "qc_dec=qc.decompose()\n",
    "qc_dec.draw('mpl')\n",
    "\n"
   ]
  },
  {
   "cell_type": "code",
   "execution_count": 17,
   "id": "14c6158d",
   "metadata": {},
   "outputs": [
    {
     "name": "stdout",
     "output_type": "stream",
     "text": [
      "tamaño= 8\n",
      "puertas no locales= 4\n",
      "anchura= 3\n",
      "profundidad= 6\n"
     ]
    }
   ],
   "source": [
    "print('tamaño=', qc_dec.size())\n",
    "print('puertas no locales=', qc_dec.num_nonlocal_gates())\n",
    "print('anchura=', qc_dec.num_qubits)\n",
    "print('profundidad=', qc_dec.depth())"
   ]
  },
  {
   "cell_type": "code",
   "execution_count": 10,
   "id": "8da24db6",
   "metadata": {
    "slideshow": {
     "slide_type": "slide"
    }
   },
   "outputs": [
    {
     "data": {
      "text/plain": [
       "[<IBMQSimulator('ibmq_qasm_simulator') from IBMQ(hub='ibm-q', group='open', project='main')>,\n",
       " <IBMQBackend('ibmq_lima') from IBMQ(hub='ibm-q', group='open', project='main')>,\n",
       " <IBMQBackend('ibmq_belem') from IBMQ(hub='ibm-q', group='open', project='main')>,\n",
       " <IBMQBackend('ibmq_quito') from IBMQ(hub='ibm-q', group='open', project='main')>,\n",
       " <IBMQSimulator('simulator_statevector') from IBMQ(hub='ibm-q', group='open', project='main')>,\n",
       " <IBMQSimulator('simulator_mps') from IBMQ(hub='ibm-q', group='open', project='main')>,\n",
       " <IBMQSimulator('simulator_extended_stabilizer') from IBMQ(hub='ibm-q', group='open', project='main')>,\n",
       " <IBMQSimulator('simulator_stabilizer') from IBMQ(hub='ibm-q', group='open', project='main')>,\n",
       " <IBMQBackend('ibmq_manila') from IBMQ(hub='ibm-q', group='open', project='main')>,\n",
       " <IBMQBackend('ibm_nairobi') from IBMQ(hub='ibm-q', group='open', project='main')>,\n",
       " <IBMQBackend('ibm_oslo') from IBMQ(hub='ibm-q', group='open', project='main')>]"
      ]
     },
     "execution_count": 10,
     "metadata": {},
     "output_type": "execute_result"
    }
   ],
   "source": [
    "from qiskit import IBMQ\n",
    "IBMQ.load_account()\n",
    "provider = IBMQ.get_provider(hub='ibm-q')\n",
    "provider.backends()"
   ]
  },
  {
   "cell_type": "code",
   "execution_count": 11,
   "id": "b1e6208e",
   "metadata": {
    "slideshow": {
     "slide_type": "slide"
    }
   },
   "outputs": [
    {
     "data": {
      "text/plain": [
       "['id', 'rz', 'sx', 'x', 'cx', 'reset']"
      ]
     },
     "execution_count": 11,
     "metadata": {},
     "output_type": "execute_result"
    }
   ],
   "source": [
    "backend = provider.get_backend(\"ibmq_lima\")\n",
    "backend.configuration().basis_gates"
   ]
  },
  {
   "cell_type": "code",
   "execution_count": 17,
   "id": "39733ede",
   "metadata": {
    "collapsed": true,
    "slideshow": {
     "slide_type": "fragment"
    }
   },
   "outputs": [
    {
     "name": "stdout",
     "output_type": "stream",
     "text": [
      "tamaño= 16\n",
      "puertas no locales= 4\n",
      "anchura= 5\n",
      "profundidad= 10\n"
     ]
    },
    {
     "data": {
      "text/html": [
       "<pre style=\"word-wrap: normal;white-space: pre;background: #fff0;line-height: 1.1;font-family: &quot;Courier New&quot;,Courier,monospace\">global phase: π\n",
       "               ┌─────────┐┌────┐┌─────────┐                            ┌───┐»\n",
       "      q_0 -> 0 ┤ Rz(π/2) ├┤ √X ├┤ Rz(π/2) ├────────────────────────────┤ X ├»\n",
       "               └─────────┘├───┬┘└─────────┘┌─────────┐┌────┐┌─────────┐└─┬─┘»\n",
       "      q_2 -> 1 ─────■─────┤ X ├──────■─────┤ Rz(π/2) ├┤ √X ├┤ Rz(π/2) ├──■──»\n",
       "                  ┌─┴─┐   └─┬─┘    ┌─┴─┐   └─────────┘└────┘└─────────┘     »\n",
       "      q_1 -> 2 ───┤ X ├─────■──────┤ X ├────────────────────────────────────»\n",
       "                  └───┘            └───┘                                    »\n",
       "ancilla_0 -> 3 ─────────────────────────────────────────────────────────────»\n",
       "                                                                            »\n",
       "ancilla_1 -> 4 ─────────────────────────────────────────────────────────────»\n",
       "                                                                            »\n",
       "«               ┌─────────┐┌────┐┌─────────┐\n",
       "«      q_0 -> 0 ┤ Rz(π/2) ├┤ √X ├┤ Rz(π/2) ├\n",
       "«               ├─────────┤├────┤├─────────┤\n",
       "«      q_2 -> 1 ┤ Rz(π/2) ├┤ √X ├┤ Rz(π/2) ├\n",
       "«               └─────────┘└────┘└─────────┘\n",
       "«      q_1 -> 2 ────────────────────────────\n",
       "«                                           \n",
       "«ancilla_0 -> 3 ────────────────────────────\n",
       "«                                           \n",
       "«ancilla_1 -> 4 ────────────────────────────\n",
       "«                                           </pre>"
      ],
      "text/plain": [
       "global phase: π\n",
       "               ┌─────────┐┌────┐┌─────────┐                            ┌───┐»\n",
       "      q_0 -> 0 ┤ Rz(π/2) ├┤ √X ├┤ Rz(π/2) ├────────────────────────────┤ X ├»\n",
       "               └─────────┘├───┬┘└─────────┘┌─────────┐┌────┐┌─────────┐└─┬─┘»\n",
       "      q_2 -> 1 ─────■─────┤ X ├──────■─────┤ Rz(π/2) ├┤ √X ├┤ Rz(π/2) ├──■──»\n",
       "                  ┌─┴─┐   └─┬─┘    ┌─┴─┐   └─────────┘└────┘└─────────┘     »\n",
       "      q_1 -> 2 ───┤ X ├─────■──────┤ X ├────────────────────────────────────»\n",
       "                  └───┘            └───┘                                    »\n",
       "ancilla_0 -> 3 ─────────────────────────────────────────────────────────────»\n",
       "                                                                            »\n",
       "ancilla_1 -> 4 ─────────────────────────────────────────────────────────────»\n",
       "                                                                            »\n",
       "«               ┌─────────┐┌────┐┌─────────┐\n",
       "«      q_0 -> 0 ┤ Rz(π/2) ├┤ √X ├┤ Rz(π/2) ├\n",
       "«               ├─────────┤├────┤├─────────┤\n",
       "«      q_2 -> 1 ┤ Rz(π/2) ├┤ √X ├┤ Rz(π/2) ├\n",
       "«               └─────────┘└────┘└─────────┘\n",
       "«      q_1 -> 2 ────────────────────────────\n",
       "«                                           \n",
       "«ancilla_0 -> 3 ────────────────────────────\n",
       "«                                           \n",
       "«ancilla_1 -> 4 ────────────────────────────\n",
       "«                                           "
      ]
     },
     "execution_count": 17,
     "metadata": {},
     "output_type": "execute_result"
    }
   ],
   "source": [
    "#qc_trans = transpile(qc_dec)\n",
    "qc_trans = transpile(qc,backend)\n",
    "qc_trans.draw()"
   ]
  },
  {
   "cell_type": "code",
   "execution_count": null,
   "id": "19774691",
   "metadata": {
    "slideshow": {
     "slide_type": "fragment"
    }
   },
   "outputs": [],
   "source": [
    "print('tamaño=', qc_trans.size())\n",
    "print('puertas no locales=', qc_trans.num_nonlocal_gates())\n",
    "print('anchura=', qc_trans.num_qubits)\n",
    "print('profundidad=', qc_trans.depth())"
   ]
  },
  {
   "cell_type": "markdown",
   "id": "f4d8c33d",
   "metadata": {
    "slideshow": {
     "slide_type": "slide"
    }
   },
   "source": [
    "<div class=\"alert alert-block alert-success\">\n",
    "<b>Ejercicio 1.3.0.3:</b> \n",
    "Ejercicio: \n",
    "\n",
    "1: Programa y ejecuta un circuito de 16 cúbits que prepare el estado $\\ket{00\\ldots 0} \\to \\frac{1}{\\sqrt{2}}\\left(\\ket{00\\ldots 0} + \\ket{11\\ldots 1}\\right) $ \n",
    "\n",
    "2: Modifica la posición de los controladores hasta reducir la profundidad a 5.\n",
    "\n",
    "</div>"
   ]
  },
  {
   "cell_type": "markdown",
   "id": "00ea499c",
   "metadata": {
    "slideshow": {
     "slide_type": "slide"
    }
   },
   "source": [
    "<a id=\"eficcirc\"></a>\n",
    "<table width=\"100%\">\n",
    "    <td style=\"font-size:250%px;font-family:Helvetica;text-align:left;background-color:rgba(12, 43, 337, 0.3);\">\n",
    "<b>Complejidad computacional</b>\n",
    "</table>"
   ]
  },
  {
   "cell_type": "markdown",
   "id": "419635ca",
   "metadata": {
    "slideshow": {
     "slide_type": "slide"
    }
   },
   "source": [
    "Un algoritmo es una descomposición de una función en composición de un conjunto de *funciones primitivas*"
   ]
  },
  {
   "cell_type": "markdown",
   "id": "07fc136a",
   "metadata": {
    "slideshow": {
     "slide_type": "fragment"
    }
   },
   "source": [
    "A la hora de comparar estrategias de computación es necesario  analizar el coste relativo de diferentes algoritmos. Esta es la labor de teoría de la complejidad computacional. "
   ]
  },
  {
   "cell_type": "markdown",
   "id": "2e16ed41",
   "metadata": {
    "slideshow": {
     "slide_type": "fragment"
    }
   },
   "source": [
    "Como regla general, cada *modelo computacional* reducirá un problema complejo a una serie de pasos elementales (*operaciones primitivas*), a los que les asignaremos un coste computacional 1. \n"
   ]
  },
  {
   "cell_type": "markdown",
   "id": "307f1043",
   "metadata": {
    "slideshow": {
     "slide_type": "fragment"
    }
   },
   "source": [
    "La teoría de la complejidad computacional agrupa problemas por clases en las que el uso de recursos computacionales crece de forma similar. "
   ]
  },
  {
   "cell_type": "markdown",
   "id": "1a288526",
   "metadata": {
    "slideshow": {
     "slide_type": "slide"
    }
   },
   "source": [
    "### Clases de Complejidad:\n",
    "\n",
    " - **P**:  decimos que un problema pertenece a esta clase si puede ser resuelto en un tiempo ($t \\sim $número de pasos) polinómico en el tamaño $n$ del dato de entrada $t\\sim \\exists k \\Rightarrow  {\\cal O}(n^k)\\, $. \n"
   ]
  },
  {
   "cell_type": "markdown",
   "id": "44845995",
   "metadata": {},
   "source": [
    "- **NP**: (Non-deterministic Polynomial). Clase de problemas que pueden ser {\\em verificados} en tiempo polinómico,\n",
    "pero carecen de un algoritmo para ser resueltos en tiempo polinómico. \n",
    "\n",
    "*Ejemplo*: la factorización entera, o la evaluación de  logaritmos discretos,...\n",
    "Es evidente que **P**$\\subset$ **NP**. No es evidente, aunque sí conjeturado, que **P**$\\neq$ **NP**, siendo este un problema central en matemáticas. \n",
    "\n"
   ]
  },
  {
   "cell_type": "markdown",
   "id": "cea159f9",
   "metadata": {},
   "source": [
    "\n",
    "-  **NPC**: (NP-Completo). Es un subconjunto de **NPC**$\\subset$**NP** que contiene a los problemas más difíciles en esta clase. \n",
    "\n",
    "Un problema es **NPC** si cualquier  problema en **NP** puede aplicarse mediante un algoritmo de coste polinómico a un problema **NP**. La importancia de esta subclase es que la resolución eficiente de uno solo de sus elementos implica lo mismo para toda la clase, o lo que es igual implicaría que **NP** = **P**.\n",
    "\n",
    "Ejemplos de esta clase son  el problema del viajante y  el de la satisfabilidad boleaba.\n",
    "\n"
   ]
  },
  {
   "cell_type": "markdown",
   "id": "c55d94e2",
   "metadata": {
    "slideshow": {
     "slide_type": "slide"
    }
   },
   "source": [
    "<a id=\"eficcirc\"></a>\n",
    "<table width=\"100%\">\n",
    "    <td style=\"font-size:250%px;font-family:Helvetica;text-align:left;background-color:rgba(12, 43, 337, 0.3);\">\n",
    "<b>Preparación de un estado inicial</b>\n",
    "</table>"
   ]
  },
  {
   "cell_type": "markdown",
   "id": "ee6644c9",
   "metadata": {
    "slideshow": {
     "slide_type": "slide"
    }
   },
   "source": [
    "Decimos de la descomposición de un circuito en puertas elementales es *eficiente* (*no-eficiente*) si escala de forma *polinómica* (*exponencial*)  con la anchura del circuito. "
   ]
  },
  {
   "cell_type": "markdown",
   "id": "7fb6b41f",
   "metadata": {
    "slideshow": {
     "slide_type": "fragment"
    }
   },
   "source": [
    "Es evidente que la descomposición de un operador unitario genérico $U(n)$ no será eficiente, puesto que viene especificado por un número exponencial $\\sim 2^n\\times 2^n$ de parámetros. "
   ]
  },
  {
   "cell_type": "markdown",
   "id": "56bc9ed8",
   "metadata": {
    "slideshow": {
     "slide_type": "fragment"
    }
   },
   "source": [
    "Un problema fundamenta, aun abierto en computación cuántica es decubrir qué clases especiales de operadores $U$ admiten una descomposición eficiente en término de un número polinónico de puertas elementales. \n",
    "\n",
    "Vamos a ver una clase de problemas que admite los dos extremos: máxima eficiencia y no-eficiencia."
   ]
  },
  {
   "cell_type": "markdown",
   "id": "8d60ee92",
   "metadata": {
    "slideshow": {
     "slide_type": "slide"
    }
   },
   "source": [
    "## Preparación de un estado inicial."
   ]
  },
  {
   "cell_type": "markdown",
   "id": "c9919eb4",
   "metadata": {
    "slideshow": {
     "slide_type": "fragment"
    }
   },
   "source": [
    "La preparación de un estado inicial debe ser realizada por un circuito que pre-procese la operación\n",
    "$$\n",
    "U \\ket{0} \\to \\ket{\\psi} = \\sum_{i=1}^n c_i\\ket{i}\n",
    "$$\n",
    "Separemos las amplitudes complejas en módulo y fase $c_i = a_i e^{\\gamma_i}$ donde $a_i = |c_i|$.   "
   ]
  },
  {
   "cell_type": "markdown",
   "id": "cca1b450",
   "metadata": {
    "slideshow": {
     "slide_type": "fragment"
    }
   },
   "source": [
    "En general debemos fijar un *número exponencial* de parámetros, por lo que el circuito será *no-eficiente*."
   ]
  },
  {
   "cell_type": "markdown",
   "id": "70ecff25",
   "metadata": {
    "slideshow": {
     "slide_type": "slide"
    }
   },
   "source": [
    "\n",
    "Veamos el caso $n=2$. El circuito que nos permite prepara este estado es el siguiente\n",
    "\n",
    "<br>\n",
    "<br>\n",
    "<div>\n",
    "<img src=\"images/preparestatecircuit.png\" width=\"62%\" style='margin:auto'/>\n",
    "</div>\n",
    "<br>\n",
    "\n",
    "Donde \n",
    "$$\n",
    "D(\\gamma_i,\\gamma_j ) = \\begin{bmatrix} \\gamma_i & 0 \\\\ 0 & \\gamma_j \\end{bmatrix} = K(\\gamma_j) P(\\gamma_i-\\gamma_j)\n",
    "$$"
   ]
  },
  {
   "cell_type": "markdown",
   "id": "8a376a86",
   "metadata": {
    "slideshow": {
     "slide_type": "fragment"
    }
   },
   "source": [
    "A la salida de este circuito el estado será, en la barrera\n",
    "\n",
    "\\begin{eqnarray}\n",
    "\\ket{\\psi_0} &=& \\cos\\theta_1 \\ket{0}\\otimes \\big( \\cos\\theta_2 \\ket{0} + \\sin\\theta_2\\ket{1}\\big) + \\sin\\theta_1\\ket{1}\\otimes \\big(\\cos\\theta_3\\ket{0} + \\sin\\theta_3\\ket{1}\\big) \\nonumber\\\\&=& \\cos\\theta_1 \\cos\\theta_2 \\ket{00} + \\cos\\theta_1\\sin\\theta_2\\ket{01} + \\sin\\theta_1\\cos\\theta_3\\ket{10} + \\sin\\theta_1\\sin\\theta_3\\ket{11} \\rule{0mm}{10mm}\n",
    "\\end{eqnarray}"
   ]
  },
  {
   "cell_type": "markdown",
   "id": "ee0041fe",
   "metadata": {
    "slideshow": {
     "slide_type": "fragment"
    }
   },
   "source": [
    "Obtenemos cuatro ecuaciones para cuatro incógnitas\n",
    "\\begin{eqnarray}\n",
    "a_1 &=& \\cos\\theta_1 \\cos\\theta_2 \\nonumber\\\\\n",
    "a_2 &=&  \\cos\\theta_1\\sin\\theta_2\\nonumber\\\\\n",
    "a_3 &=&  \\sin\\theta_1\\cos\\theta_3\\nonumber\\\\\n",
    "a_4 &=& \\sqrt{1-a_1^3-a_2^2-a_3^2}\n",
    "\\end{eqnarray}\n",
    "\n",
    "Vemos que sólo necesitamos 3 grados de libertad para representar 4 amplitudes con una ligadura $\\sum_i a_i^2 = 1$.\n"
   ]
  },
  {
   "cell_type": "markdown",
   "id": "1ecbcc0b",
   "metadata": {
    "slideshow": {
     "slide_type": "slide"
    }
   },
   "source": [
    "\n",
    "\n",
    "\n",
    "Una vez fijadas las amplitudes, la última parte del circuito es equivalente al  operador unitario\n",
    "\n",
    "$$\n",
    "U =\\begin{pmatrix} K(\\gamma_1)P(\\gamma_2-\\gamma_1) & 0 \\\\ 0 &K(\\gamma_3) P(\\gamma_4-\\gamma_3) \\end{pmatrix} = \\begin{pmatrix} e^{i\\gamma_1} & 0 & 0 & 0 \\\\ 0 & e^{i\\gamma_2} & 0 & 0 \\\\ 0 & 0 & e^{i\\gamma_3} & 0 \\\\ 0 & 0 & 0 & e^{i\\gamma_4} \\end{pmatrix}\n",
    "$$\n"
   ]
  },
  {
   "cell_type": "markdown",
   "id": "64026273",
   "metadata": {
    "slideshow": {
     "slide_type": "fragment"
    }
   },
   "source": [
    "<div class=\"alert alert-block alert-success\">\n",
    "    <b>Ejercicio 1.3.0.3:</b> \n",
    "<br> \n",
    "Diseña el circuito que inicializa un estado genérico de $n=3$ cúbits. Úsalo para introducir el estado\n",
    "\n",
    "$$\n",
    "\\ket{\\psi} = \\frac{1}{4}\\left( \\rule{0mm}{5mm} \\ket{000}-3\\ket{001}-\\ket{010}+\\ket{011} + \\ket{100}+2\\ket{110}-\\ket{111} \\right)\n",
    "$$\n",
    "    \n",
    "</i>.\n",
    "</div>\n"
   ]
  },
  {
   "cell_type": "markdown",
   "id": "e8821930",
   "metadata": {
    "slideshow": {
     "slide_type": "fragment"
    }
   },
   "source": [
    "Es importante destacar que, en algunos casos, sí que es posible encontrar un circuito eficiente. \n",
    "\n",
    "Por ejemplo el estado inicial que es una superposición homogénea de elementos de la base\n",
    "\n",
    "$$\n",
    "\\ket{\\psi} = \\frac{1}{\\sqrt{n}}\\sum_{i=1}^n \\ket{i} = W \\ket{0}\n",
    "$$\n",
    "\n",
    "se obtiene en un solo paso, mediante la aplicación de la puerta de Walsh-Hadamard $W = H^{\\otimes n}$."
   ]
  },
  {
   "cell_type": "code",
   "execution_count": null,
   "id": "12477137",
   "metadata": {},
   "outputs": [],
   "source": [
    "Existen muchos algoritmos que preparan un estado inicial de forma eficiente. En q"
   ]
  }
 ],
 "metadata": {
  "celltoolbar": "Slideshow",
  "kernelspec": {
   "display_name": "Python 3",
   "language": "python",
   "name": "python3"
  },
  "language_info": {
   "codemirror_mode": {
    "name": "ipython",
    "version": 3
   },
   "file_extension": ".py",
   "mimetype": "text/x-python",
   "name": "python",
   "nbconvert_exporter": "python",
   "pygments_lexer": "ipython3",
   "version": "3.7.10"
  },
  "varInspector": {
   "cols": {
    "lenName": 16,
    "lenType": 16,
    "lenVar": 40
   },
   "kernels_config": {
    "python": {
     "delete_cmd_postfix": "",
     "delete_cmd_prefix": "del ",
     "library": "var_list.py",
     "varRefreshCmd": "print(var_dic_list())"
    },
    "r": {
     "delete_cmd_postfix": ") ",
     "delete_cmd_prefix": "rm(",
     "library": "var_list.r",
     "varRefreshCmd": "cat(var_dic_list()) "
    }
   },
   "types_to_exclude": [
    "module",
    "function",
    "builtin_function_or_method",
    "instance",
    "_Feature"
   ],
   "window_display": false
  }
 },
 "nbformat": 4,
 "nbformat_minor": 5
}
