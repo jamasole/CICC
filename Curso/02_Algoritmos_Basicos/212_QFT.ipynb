{
 "cells": [
  {
   "cell_type": "markdown",
   "metadata": {
    "slideshow": {
     "slide_type": "slide"
    }
   },
   "source": [
    "<img   src=\"../figuras/logo/TalentQ_LogoPosNegro.png\" align=center  width=\"12%\"/>\n",
    "<br>\n",
    "\n",
    "<table width=\"100%\">\n",
    "<td style=\"font-size:400%px;font-style:italic;text-align:right;background-color:rgba(0, 160, 120,0.6)\">\n",
    "Transformada de Fourier Cuántica\n",
    "</td></table>\n",
    "\n",
    "\n",
    "$ \\newcommand{\\bra}[1]{\\langle #1|} $\n",
    "$ \\newcommand{\\ket}[1]{|#1\\rangle} $\n",
    "$ \\newcommand{\\braket}[2]{\\langle #1|#2\\rangle} $\n",
    "$ \\newcommand{\\i}{{\\color{blue} i}} $ \n",
    "$ \\newcommand{\\Hil}{{\\cal H}} $\n",
    "$ \\newcommand{\\cg}[1]{{\\rm C}#1} $\n",
    "\n"
   ]
  },
  {
   "cell_type": "code",
   "execution_count": null,
   "metadata": {
    "slideshow": {
     "slide_type": "slide"
    }
   },
   "outputs": [],
   "source": [
    "%run ../macro_CURSO.py"
   ]
  },
  {
   "cell_type": "markdown",
   "metadata": {
    "slideshow": {
     "slide_type": "skip"
    }
   },
   "source": [
    "- [La transformada de Fourier Cuántica](#TFC)\n",
    "\n",
    "\n",
    "- [Búsqueda de un período](#periodfinding)\n",
    "\n",
    "\n",
    "- [Estimación de fase cuántica](#QPE)\n",
    "\n",
    "\n",
    "\n"
   ]
  },
  {
   "cell_type": "markdown",
   "metadata": {
    "slideshow": {
     "slide_type": "slide"
    }
   },
   "source": [
    "<a id='TFC'></a>\n",
    "<table width=\"100%\">\n",
    "    <td style=\"font-size:250%px;font-family:Helvetica;text-align:left;background-color:rgba(12, 43, 337, 0.3);\">\n",
    "<b> LaTransformada de Fourier Cuántica </b>\n",
    "</table>   "
   ]
  },
  {
   "cell_type": "markdown",
   "metadata": {
    "slideshow": {
     "slide_type": "slide"
    }
   },
   "source": [
    "La *transformada de Fourier Cuántica* es una operación unitaria  $U_{TFC}\\in{\\rm L}(\\Hil)$\n",
    "\n",
    "\n",
    "Su acción transforma los elementos la *base computacional*  a una nueva  *base de Fourier*\n",
    "<br>\n",
    "<br>\n",
    "$$\n",
    "U_{TFC}: \\ket{x} \\to {\\ket{\\tilde x}} =\\sum_{y}\\omega^{xy}\\ket{y} =   \\frac{1}{\\sqrt{N}}\\sum_{y} e^{2\\pi i  xy /N} \\ket{y} \n",
    "$$\n",
    "\n",
    "donde  $~~\\omega =  \\frac{1}{\\sqrt{N}}e^{2\\pi i  /N}~~$ y \n",
    "$~~x,\\tilde x=0,...,N-1 = 2^n-1~~$    \n"
   ]
  },
  {
   "cell_type": "markdown",
   "metadata": {
    "slideshow": {
     "slide_type": "slide"
    }
   },
   "source": [
    "<div class=\"alert alert-block alert-danger\">\n",
    "    <b>Notar:</b>\n",
    "\n",
    "comparar esta expresión con la de la transformada de Walsh-Hadamard\n",
    "<br>\n",
    "<br>    \n",
    "$$\n",
    "W: \\ket{x} \\to \\ket{\\tilde x} =  \\frac{1}{\\sqrt{N}}\\sum_{y}(-1)^{xy}\\ket{y} =   \\frac{1}{\\sqrt{N}}\\sum_{y} e^{i\\pi i  xy} \\ket{y} \n",
    "$$\n",
    "que es formalmente igual, pero con $\\omega =  \\frac{1}{\\sqrt{N}}(-1)$.\n",
    "    \n",
    "Ya hemos visto cómo este factor produce *interferencias* interesantes que conducen a soluciones como la del problema de Simon. \n"
   ]
  },
  {
   "cell_type": "markdown",
   "metadata": {
    "slideshow": {
     "slide_type": "fragment"
    }
   },
   "source": [
    "<br>    \n",
    "    \n",
    "El nuevo factor $\\omega = e^{2\\pi i/N}$ también sirve para producir interferencias destructivas y constructivas interesantes. \n",
    "\n",
    "Esto se debe esencialmente a la importante fórmula de [suma nula](../00_Formalismo/01_Numeros_Complejos.ipynb#ejempnc) que hemos estudiado en el tema de números complejos\n",
    "<br>\n",
    "<br>\n",
    "\n",
    "$$\n",
    "\\fbox{$ \\displaystyle\n",
    "\\frac{1}{N} \\sum_{y=0}^{N} e^{2\\pi i xy/N} = \\delta_{x \\, 0 {\\rm mod}N}$}\n",
    "$$\n"
   ]
  },
  {
   "cell_type": "markdown",
   "metadata": {
    "slideshow": {
     "slide_type": "skip"
    }
   },
   "source": [
    "<div class=\"alert alert-block alert-success\">\n",
    "<b> Ejercicio: </b>    \n",
    "\n",
    "utiliza esta expresión para demostrar que, invirtiendo los signos de las fases obtenemos la TFC inversa. Es decir, demuestra que, si \n",
    "<br>\n",
    "<br>   \n",
    "$$\n",
    "U^{-1}_{TFC}\\ket{x}  =  \\frac{1}{\\sqrt{N}}\\sum_{y} e^{-2\\pi i  xy /N} \\ket{y} \n",
    "$$\n",
    "se sigue que \n",
    "<br>\n",
    "<br>    \n",
    "$$\n",
    "U_{TFC}^{-1}(U_{TFC} \\ket{x}) ) \\ket{x}\n",
    "$$\n",
    "<br>\n",
    "    \n",
    "Esto confirma que es un operador unitario $U_{TFC}^{-1} = U_{TFC}^\\dagger$.     \n",
    "</div>"
   ]
  },
  {
   "cell_type": "markdown",
   "metadata": {
    "slideshow": {
     "slide_type": "skip"
    }
   },
   "source": [
    "<div class=\"alert alert-block alert-danger\">\n",
    "<b>Notar:</b>\n",
    "    \n",
    "por supuesto, la operación $U_{TFC}$ no está restringida a elementos de la base computacional. \n",
    "\n",
    "Actuando sobre un vector $\\ket{f} = \\sum_x f(x)\\ket{x}$ de componentes $f(x)$ en la base $\\ket{x}$ obtendremos otro vector\n",
    "<br>    \n",
    "<br>\n",
    "\\begin{eqnarray}\n",
    "\\ket{\\tilde f} &=& U_{TCF}\\ket{f} = \\sum_x f(x) U_{TCF}\\ket{x} \\nonumber\\\\\n",
    "&=& \\sum_x f(x) \\frac{1}{\\sqrt{N}}\\sum_y e^{2\\pi i xy} \\ket{y}\\\\\n",
    "&=&  \\sum_y\\left( \\frac{1}{\\sqrt{N}}\\sum_x f(x) e^{2\\pi i xy}\\right) \\ket{y}\\\\\n",
    "    &=& \\sum_y \\tilde f(y) \\ket{y}\n",
    "\\end{eqnarray}\n",
    "\n",
    "donde las nuevas componentes $\\tilde f(x)$ ahora son\n",
    "$$\n",
    "\\fbox{$\\tilde f(y) = \\frac{1}{\\sqrt{N}}\\sum_{x=0}^{N-1} e^{2\\pi i yx} f(x)$}\n",
    "$$\n",
    "<br>    \n",
    "\n",
    "define lo que *clásicamente* se conoce como la *Transformada de Fourier Discreta* (TFD) del conjunto de datos \n",
    "<br>\n",
    "<br>\n",
    "    \n",
    "$$\n",
    "\\{f(0),f(1),...,f(N-1)\\}~ \\stackrel{\\hbox{TFD}}{\\longrightarrow}~ \\{\\tilde f(0),\\tilde f(1),...,\\tilde f(N-1)\\}$$\n",
    "\n",
    "\n",
    "</div>\n"
   ]
  },
  {
   "cell_type": "markdown",
   "metadata": {
    "slideshow": {
     "slide_type": "slide"
    }
   },
   "source": [
    "$\\bullet$ En general, los elementos de matriz serán evidentemente, las fases\n",
    "<br>\n",
    "<br>\n",
    "\n",
    "$$\n",
    "\\bra{x} U_{TFC} \\ket{y} =  \\frac{1}{\\sqrt{N}} e^{2\\pi i  x y/N} = \\omega^{xy}\n",
    " =  \\begin{bmatrix}\n",
    "1&1&1&1&\\cdots &1 \\\\\n",
    "1&\\omega_N&\\omega_N^2&\\omega_N^3&\\cdots&\\omega_N^{N-1} \\\\\n",
    "1&\\omega_N^2&\\omega_N^4&\\omega_N^6&\\cdots&\\omega_N^{2(N-1)}\\\\ 1&\\omega_N^3&\\omega_N^6&\\omega_N^9&\\cdots&\\omega_N^{3(N-1)}\\\\\n",
    "\\vdots&\\vdots&\\vdots&\\vdots&\\ddots&\\vdots\\\\\n",
    "1&\\omega_N^{N-1}&\\omega_N^{2(N-1)}&\\omega_N^{3(N-1)}&\\cdots&\\omega_N^{(N-1)(N-1)}\n",
    "\\end{bmatrix}\n",
    "$$"
   ]
  },
  {
   "cell_type": "markdown",
   "metadata": {
    "slideshow": {
     "slide_type": "slide"
    }
   },
   "source": [
    "<div class=\"alert alert-block alert-warning\">\n",
    "<b>Ejemplo:</b>\n",
    " \n",
    "$\\bullet$ Para $n=1 \\to \\omega = e^{2\\pi i /2^1} = -1$ y   la TFC no es otra que la puerta de Hadamard\n",
    "<br>\n",
    "<br>\n",
    "$$\n",
    "U_{TFC} = \\frac{1}{\\sqrt{2}}\\begin{bmatrix} 1 & 1 \\\\ 1 & -1 \\end{bmatrix} = H\n",
    "$$\n",
    "\n",
    "Su acción es \n",
    "\n",
    "$$\n",
    "U_{TFC}\\ket{0} = \\ket{+}~~~~~~~~~,~~~~~~~~~~  U_{TFC}\\ket{1} = \\ket{-}\n",
    "$$\n",
    "<br>\n",
    "\n",
    "\n",
    "Observamos que los vectores imagen están situados en el plano ecuatorial de la esfera de Bloch\n",
    "\n",
    "</div>"
   ]
  },
  {
   "cell_type": "markdown",
   "metadata": {
    "slideshow": {
     "slide_type": "fragment"
    }
   },
   "source": [
    "<br>\n",
    "\n",
    "<div class=\"alert alert-block alert-warning\">\n",
    "$\\bullet$ Para $n=2 \\to  \\omega = e^{2\\pi i/2^2} = i$ y entonces\n",
    "\n",
    "$$\n",
    "U_{TFC} =\\frac{1}{2}\n",
    "\\begin{bmatrix} 1 & 1 & 1 & 1 \\\\ 1 & -i & -1 & i \\\\ 1 & - 1 & 1 & - 1 \\\\ 1 & i & -1 & -i  \\end{bmatrix}\n",
    "$$ \n",
    "\n",
    "<br>\n",
    "\n",
    "Observar que la suma de cualquier columna o fila que no sean las primeras da cero\n",
    "</div>"
   ]
  },
  {
   "cell_type": "markdown",
   "metadata": {
    "slideshow": {
     "slide_type": "slide"
    }
   },
   "source": [
    "<div class=\"alert alert-block alert-info\">\n",
    "<p style=\"text-align: center;\"> <p style=\"text-align: left ;color: navy;\">  \n",
    "<b>Teorema:</b>\n",
    "<br>   \n",
    "    Los vectores de la <i>base de Fourier</i> son estados <i>factorizables</i> en productos de estados de un cúbit que se sitúan <i>sobre el ecuador</i> de la esfera de Bloch\n",
    "</div>"
   ]
  },
  {
   "cell_type": "markdown",
   "metadata": {
    "slideshow": {
     "slide_type": "fragment"
    }
   },
   "source": [
    "*Base computacional* | *Base de Fourier*\n",
    "- | -\n",
    "![alt](https://qiskit.org/textbook/ch-algorithms/images/zbasis-counting.gif) | ![alt](https://qiskit.org/textbook/ch-algorithms/images/fourierbasis-counting.gif)\n",
    "\n",
    "Animaciones extraídas de [Qiskit Texbook](https://qiskit.org/textbook/ch-algorithms/quantum-fourier-transform.html)"
   ]
  },
  {
   "cell_type": "markdown",
   "metadata": {
    "slideshow": {
     "slide_type": "slide"
    }
   },
   "source": [
    "**Prueba**\n",
    "\n",
    "*Notación* : un número  $x\\in {\\mathbb Q} $ puede representarse en base 2\n",
    "\n",
    "\\begin{eqnarray}\n",
    "x  \n",
    "&=&  x_{n-1}2^{n-1}   +   \\cdots + x_1 2^1+ x_0 2^0    +  x_{-1}2^{-1} +  \\cdots  +   x_{-m}2^{-m}\\, \\\\ \\rule{0mm}{10mm}\n",
    "&=&\n",
    "x_{n-1} \\cdots x_1 x_0\\, .\\, x_{-1}  \\cdots x_{-m} \\nonumber\\\\ \\rule{0mm}{10mm}\n",
    "&=&  x_{n-1} \\cdots x_1 x_0 + 0.x_{-1}  \\cdots x_{-m} \n",
    "\\end{eqnarray}\n"
   ]
  },
  {
   "cell_type": "markdown",
   "metadata": {
    "slideshow": {
     "slide_type": "fragment"
    }
   },
   "source": [
    "en particular, si $y\\in S_n =[0,...,2^n-1],~$ en base 2 tendríamos\n",
    "\n",
    "\\begin{eqnarray}\n",
    "y &=& y_{n-1} \\ldots   y_2y_1 y_0 \\nonumber\\\\  \\rule{0mm}{12mm}\n",
    "y/2&~=~&  y_{n-1}...y_2y_1 + 0. y_0 \\nonumber\\\\ \\rule{0mm}{12mm}\n",
    "y/2^2 &~=~&  y_{n-1}...y_2 + 0.y_1 y_0 \\nonumber\\\\ \\rule{0mm}{12mm}\n",
    "&\\vdots & \\nonumber \\\\ \\rule{0mm}{12mm}\n",
    "y/2^n &~=~&   0.y_{n-1}y_{n-2}...y_0 \\, \n",
    "\\end{eqnarray}\n",
    "\n"
   ]
  },
  {
   "cell_type": "markdown",
   "metadata": {
    "slideshow": {
     "slide_type": "slide"
    }
   },
   "source": [
    "Ahora vamos a estudiar la acción de $U_{\\rm TFC}$ sobre un elemento $\\ket{x} = \\ket{x_{n-1}}\\ket{x_{n-2}}... \\ket{x_0}$\n",
    "de la base computacional \n",
    "<br>\n",
    "\n",
    "\\begin{eqnarray}\n",
    " \\ket{\\tilde x}  ~\\equiv ~  U_{\\rm TFC}\\ket{x}  &=&  \\frac{1}{\\sqrt{N}} \\sum_{y=0}^{2^n-1} e^{2\\pi i  xy/2^n}\\ket{y} \\label{TFC}\n",
    "\\nonumber\\\\ \\rule{0mm}{9mm}\n",
    "&=&  \\frac{1}{\\sqrt{N}} \\sum_{y_1,...,y_n=\\{0,1\\}} e^{ 2\\pi i x \\left( y_{n-1}2^{n-1} + y_{n-2}2^{n-2}  + ... + y_0\\right)/2^n } \\ket{y_{n-1}}\\ket{y_{n-2}}\\ldots \\ket{ y_0} \\hspace{10cm}\n",
    "\\nonumber\\\\ \\rule{0mm}{9mm}\n",
    "&=&  \\frac{1}{\\sqrt{N}} \\sum_{y_1,...,y_n=\\{0,1\\}} e^{2\\pi i x \\left(\\frac{y_{n-1}}{2} + \\frac{y_{n-2}}{2^2}  + ... + \\frac{y_0}{2^n}\\right) } \\ket{y_{n-1}}\\ket{y_{n-2}}\\ldots \\ket{ y_0} \\hspace{9cm}\n",
    "\\end{eqnarray}"
   ]
  },
  {
   "cell_type": "markdown",
   "metadata": {
    "slideshow": {
     "slide_type": "fragment"
    }
   },
   "source": [
    "\\begin{eqnarray}\n",
    "\\hspace{1cm}&=&  \\frac{1}{\\sqrt{N}} \\left( \\ket{0} + e^{2\\pi i \\frac{x}{2}}\\ket{1}\\right)\\left( \\ket{0} + e^{2\\pi i \\frac{x}{2^2}}\\ket{1}\\right)...\\left( \\ket{0} + e^{2\\pi i \\frac{x}{2^n}}\\ket{1}\\right)\n",
    "\\nonumber\\\\ \n",
    "%\\pause\n",
    "\\rule{0mm}{14mm}\n",
    "&=& \\frac{1}{\\sqrt{N}} \\left( \\ket{0} + e^{2\\pi i \\, 0.x_0}\\ket{1}\\right)\\left( \\ket{0} + e^{2\\pi i \\, 0.x_1x_0}\\ket{1}\\right)...\\left( \\ket{0} + e^{2\\pi i \\, 0.x_{n-1}...x_0}\\ket{1}\\right)   \\nonumber \\\\\n",
    "\\rule{0mm}{14mm}\n",
    "&\\equiv & ~~ \\ket{\\tilde x_{n-1}}\\ket{\\tilde x_{n-2}}\\cdots \\ket{\\tilde x_{0}}   \n",
    "\\end{eqnarray}\n",
    "\n"
   ]
  },
  {
   "cell_type": "markdown",
   "metadata": {
    "slideshow": {
     "slide_type": "fragment"
    }
   },
   "source": [
    " Hemos usado que las partes enteras de $x$ no contribuyen a las fases\n",
    "<br>\n",
    "<br>\n",
    "$$\n",
    "e^{2\\pi i x/2} = e^{2\\pi i (x_{n-1}...x_1 + 0. x_0)}= e^{2\\pi i (x_{n-1}...x_1)}e^{2\\pi i \\, 0. x_0} = e^{2\\pi i\\, 0.x_0}\n",
    "$$"
   ]
  },
  {
   "cell_type": "markdown",
   "metadata": {
    "slideshow": {
     "slide_type": "fragment"
    }
   },
   "source": [
    "<div class=\"alert alert-block alert-danger\">\n",
    "$\\bullet$ La última línea <i>define</i>  estados de un cúbit $\\ket{\\tilde x_k}$ que viven en el ecuador de la esfera de Bloch\n",
    "<br><br>  \n",
    "$\\bullet$ La expresión $\\ket{\\tilde x} = \\ket{\\tilde x_{n-1}}\\ket{\\tilde x_{n-2}}\\cdots \\ket{\\tilde x_{0}} $ es el resultado y ¡está factorizado! Es tan importante que casi podríamos tomarla como definición de la Transformada de Fourier Cuántica. \n",
    "\n",
    "</div>"
   ]
  },
  {
   "cell_type": "markdown",
   "metadata": {
    "slideshow": {
     "slide_type": "slide"
    }
   },
   "source": [
    "## Circuito asociado a una TFC"
   ]
  },
  {
   "cell_type": "markdown",
   "metadata": {
    "slideshow": {
     "slide_type": "fragment"
    }
   },
   "source": [
    "El circuito asociado a una TCF sólo involucra \n",
    "\n",
    "- la puerta de Hadamard $H$ y\n",
    "\n",
    "- la puerta *puerta de fase discreta* $R_k \\equiv P(\\phi = \\pi/2^k)$\n",
    "<br>\n",
    "$$\n",
    "R_{k} = \\begin{bmatrix} 1 & 0 \\\\ 0 & e^{ 2\\pi i\\frac{1 }{2^{k}}} \\end{bmatrix}  ~~~\\Leftrightarrow ~~~R_k\\ket{y} = e^{2\\pi i\\frac{y}{2^k}} \\ket{y}\n",
    "$$\n",
    "\n",
    "que aparecerá de forma controlada $\\cg{R_k}$.\n"
   ]
  },
  {
   "cell_type": "markdown",
   "metadata": {
    "slideshow": {
     "slide_type": "fragment"
    }
   },
   "source": [
    "Será util escribir la *acción* de $\\cg R_k$ en la forma siguiente, si $\\ket{x}$ es el cúbit de control\n",
    "\n",
    "$$\n",
    "\\cg{R_k}\\ket{x}\\ket{y} = \\ket{x}R^{x}_{k}\\ket{y}  = \\ket{x}  e^{2 \\pi i   \\frac{y}{2^{k}}x}\\ket{y}\n",
    "$$\n"
   ]
  },
  {
   "cell_type": "markdown",
   "metadata": {
    "slideshow": {
     "slide_type": "slide"
    }
   },
   "source": [
    "Veamos el circuito\n",
    "\n",
    "\n",
    "<center> \n",
    "<img src=\"./figuras/QFT2.png\" width='70%' style='margin:automatic'/>\n",
    "</center>\n"
   ]
  },
  {
   "cell_type": "markdown",
   "metadata": {
    "slideshow": {
     "slide_type": "fragment"
    }
   },
   "source": [
    "Vamos a analizar la acción del primer bloque \n",
    "$$\n",
    "(H\\ket{x_{n-1}})\\ket{x_{n-2}...x_0} =\\left( \\ket{0} + e^{2\\pi i \\left(\\frac{x_{n-1}}{2}\\right)} \\ket{1}\\right) \\ket{x_{n-2}...x_0}\n",
    "$$"
   ]
  },
  {
   "cell_type": "markdown",
   "metadata": {
    "slideshow": {
     "slide_type": "fragment"
    }
   },
   "source": [
    "$$\n",
    "\\left(\\rule{0mm}{3mm} R_{2}^{x_{n-2}}H\\ket{x_{n-1}}\\right) \\ket{x_{n-2}...x_0}  = \n",
    " \\left( \\ket{0} + e^{2\\pi i \\left(\\frac{x_{n-1}}{2} + \\frac{x_{n-2}}{2^2}\\right)} \\ket{1}\\right) \\ket{x_{n-2}...x_0} \n",
    "$$"
   ]
  },
  {
   "cell_type": "markdown",
   "metadata": {
    "slideshow": {
     "slide_type": "fragment"
    }
   },
   "source": [
    "\\begin{eqnarray}\n",
    "&\\vdots& \\nonumber\\\\\n",
    "\\left(\\rule{0mm}{5mm}R_{{(n-1)}}^{x_{0}} ... R_{3} ^{x_{n-3}}  R_{2}^{x_{n-2}}H\\ket{x_{n-1}}\\right) \\ket{x_{n-2}...x_0}& =& \n",
    "\\left( \\ket{0} + e^{2\\pi i \\, \\left(\\frac{x_{n-1}}{2} + \\frac{x_{n-2}}{2^2}+\\ldots \\frac{x_0}{2^n}\\right)}  \\ket{1} \\right) \\ket{x_{n-2}...x_0} \\nonumber\\\\ \n",
    "\\rule{0mm}{5mm}\n",
    " & =& \n",
    "\\left( \\rule{0mm}{5mm}\\ket{0} + e^{2\\pi i \\, 0.x_{n-1}\\cdots x_0}  \\ket{1} \\right) \\ket{x_{n-2}...x_0} \\nonumber\\\\ \\rule{0mm}{12mm}\n",
    "& \\equiv&  \\ket{\\tilde x_{0}} \\ket{x_{n-2}... x_1x_0} \\nonumber\n",
    "\\end{eqnarray}\n"
   ]
  },
  {
   "cell_type": "markdown",
   "metadata": {
    "slideshow": {
     "slide_type": "slide"
    }
   },
   "source": [
    "El primer bloque ha generado el estado ecuatorial $\\ket{\\tilde x_0}$ pero ¡*en la posición equivocada*!"
   ]
  },
  {
   "cell_type": "markdown",
   "metadata": {
    "slideshow": {
     "slide_type": "fragment"
    }
   },
   "source": [
    "Si repetimos el mismo procedimiento con los siguientes cúbits $\\ket{x_{n-2}}$ de forma sucesiva, obtendremos finalmente\n",
    "<br>\n",
    "\n",
    "$$\n",
    " \\ket{\\tilde x_{0}}\\ket{\\tilde x_{1}}  ... \\ket{\\tilde{x}_{n-2}} \\ket{\\tilde x_{n-1}}\n",
    "$$\n",
    "\n",
    "que es ¡**casi** el estado que estábamos buscando! "
   ]
  },
  {
   "cell_type": "markdown",
   "metadata": {
    "slideshow": {
     "slide_type": "fragment"
    }
   },
   "source": [
    "La parte final del circuito introduce los operadores de SWAP que rectifican el orden de los cúbits \n",
    "<br>\n",
    "<br>\n",
    "$$\n",
    "\\hbox{SWAP}^{\\otimes n} \\,  (\\ket{\\tilde x_{0}}  ...  \\ket{\\tilde x_{n-1}} ) ~=~ \n",
    "\\ket{\\tilde x_{n-1}} ... \\ket{\\tilde{x}_{0}} ~~ \\equiv ~~ \\ket{\\tilde x}\n",
    "$$"
   ]
  },
  {
   "cell_type": "markdown",
   "metadata": {
    "slideshow": {
     "slide_type": "slide"
    }
   },
   "source": [
    "Vamos a generar una puerta TFC que efectúe una Tranformada de Fourier Cuántica"
   ]
  },
  {
   "cell_type": "code",
   "execution_count": null,
   "metadata": {
    "slideshow": {
     "slide_type": "-"
    }
   },
   "outputs": [],
   "source": [
    "\n",
    "def TFC(n):\n",
    "    qc = QuantumCircuit(n)    \n",
    "\n",
    "    for j in reversed(range(n)):\n",
    "        qc.h(j)\n",
    "        for k in range(j):\n",
    "            qc.cp(np.pi/2**(j-k), k, j)\n",
    "    for j in range(n//2):\n",
    "        qc.swap(j,n-j-1)\n",
    "\n",
    "    return qc.to_gate(label='TFC')\n",
    "        "
   ]
  },
  {
   "cell_type": "markdown",
   "metadata": {
    "slideshow": {
     "slide_type": "fragment"
    }
   },
   "source": [
    "podemos visualizar el circuito que hemos convertido en una puerta"
   ]
  },
  {
   "cell_type": "code",
   "execution_count": null,
   "metadata": {
    "slideshow": {
     "slide_type": "-"
    }
   },
   "outputs": [],
   "source": [
    "TFC(4).definition.draw('mpl')"
   ]
  },
  {
   "cell_type": "markdown",
   "metadata": {
    "slideshow": {
     "slide_type": "slide"
    }
   },
   "source": [
    "y también su inverso"
   ]
  },
  {
   "cell_type": "code",
   "execution_count": null,
   "metadata": {
    "slideshow": {
     "slide_type": "-"
    }
   },
   "outputs": [],
   "source": [
    "def TFC_adj(n):\n",
    "    qc = QuantumCircuit(n)    \n",
    "\n",
    "    for j in reversed(range(n//2)):\n",
    "        qc.swap(j,n-j-1)            \n",
    "    for j in range(n):\n",
    "        for k in reversed(range(j)):\n",
    "            qc.cp(-2*np.pi/2**(j-k+1), k, j)\n",
    "        qc.h(j)\n",
    "\n",
    "    return qc.to_gate(label='TFC_adj')"
   ]
  },
  {
   "cell_type": "code",
   "execution_count": null,
   "metadata": {},
   "outputs": [],
   "source": [
    "TFC_adj(4).definition.draw('mpl')"
   ]
  },
  {
   "cell_type": "code",
   "execution_count": null,
   "metadata": {
    "slideshow": {
     "slide_type": "skip"
    }
   },
   "outputs": [],
   "source": [
    "TFC(4).inverse().definition.draw('mpl')"
   ]
  },
  {
   "cell_type": "markdown",
   "metadata": {
    "slideshow": {
     "slide_type": "slide"
    }
   },
   "source": [
    "Ahora podemos inicializar un estado y obtener el estado TFC asociado"
   ]
  },
  {
   "cell_type": "code",
   "execution_count": null,
   "metadata": {
    "run_control": {
     "marked": true
    },
    "slideshow": {
     "slide_type": "fragment"
    }
   },
   "outputs": [],
   "source": [
    "# Creamos el circuito \n",
    "num_qubits=3\n",
    "qr = QuantumRegister(num_qubits,name='qr')\n",
    "cr = ClassicalRegister(num_qubits,name='cr')\n",
    "qc = QuantumCircuit(qr,cr,name=\"QFT\")\n",
    "\n",
    "# Inicialización 1 de un estado de entrada\n",
    "#qc.rx(np.pi/3,0)\n",
    "#qc.cx(0,1)\n",
    "\n",
    "# Inicialización 2 de un estado de entrada\n",
    "qc.h(range(num_qubits))\n",
    "\n",
    "qc.barrier()\n",
    "        \n",
    "# añadimos la TFC\n",
    "\n",
    "qc.append(TFC(num_qubits),qr[:])\n",
    "\n",
    "qc.measure(qr,cr)\n",
    "\n",
    "qc.draw(output='mpl')"
   ]
  },
  {
   "cell_type": "markdown",
   "metadata": {
    "slideshow": {
     "slide_type": "slide"
    }
   },
   "source": [
    "Midamos el resultado. La TFC del estado superposición  uniforme  $\\ket{+\\ldots+}= \\frac{1}{\\sqrt{N}}\\sum_{i} \\ket{i}$ es el estado $|0 \\ldots 0>$"
   ]
  },
  {
   "cell_type": "code",
   "execution_count": null,
   "metadata": {
    "scrolled": true,
    "slideshow": {
     "slide_type": "-"
    }
   },
   "outputs": [],
   "source": [
    "\n",
    "from qiskit import Aer, execute\n",
    "from qiskit.tools.visualization import plot_histogram, plot_bloch_multivector\n",
    "\n",
    "M_simulator = Aer.get_backend('qasm_simulator')\n",
    "counts = execute(qc,backend=M_simulator,shots =100000 ).result().get_counts()\n",
    "plot_histogram(counts)"
   ]
  },
  {
   "cell_type": "markdown",
   "metadata": {
    "slideshow": {
     "slide_type": "fragment"
    }
   },
   "source": [
    "Es importante correr este circuito para distintos estados iniciales"
   ]
  },
  {
   "cell_type": "markdown",
   "metadata": {
    "slideshow": {
     "slide_type": "slide"
    }
   },
   "source": [
    "<div class=\"alert alert-block alert-danger\">\n",
    "\n",
    "-  El número de puertas que hemos necesitado es $n$ puertas de Hadamard y $n(n-1)/2$ fases controladas $\\cg{R}$. En total esto es un número de orden ${\\cal O}(n^2)$. \n",
    "\n",
    " Clásicamente, el algoritmo más eficiente para calcular\n",
    "la Transformada de Fourier Discreta (TFD) precisa de ${\\cal O}(n 2^n)$ por tanto la TFC transforma un problema de tipo  $NP$ en uno de tipo $P$.\n",
    "\n",
    "<br>\n",
    "    \n",
    "-  En realidad no hemos calculado la TFC, ya que del estado final no podemos deducir las fases  de los elementos de la base separadamente, lo cuál constituye la transformada de Fourier del qubit de entrada.\n",
    "\n",
    "    \n",
    "-  Por tanto, el punto estará en ser capaces de <b>encontrar problemas</b> en los que la TFC sea un ingrediente que aporte una ventaja exponencial\n",
    "\n",
    "</div>"
   ]
  },
  {
   "cell_type": "markdown",
   "metadata": {
    "slideshow": {
     "slide_type": "slide"
    }
   },
   "source": [
    "<a id='periodfinding'></a>\n",
    "<table width=\"100%\">\n",
    "    <td style=\"font-size:250%px;font-family:Helvetica;text-align:left;background-color:rgba(12, 43, 337, 0.3);\">\n",
    "<b> Búsqueda de un Período </b>\n",
    "</table>   "
   ]
  },
  {
   "cell_type": "markdown",
   "metadata": {
    "slideshow": {
     "slide_type": "slide"
    }
   },
   "source": [
    "Una aplicación directa de la transformada de Fourier cuántica tiene que ver con funciones $f: S_n \\to S_{n'}$ periódicas. \n"
   ]
  },
  {
   "cell_type": "markdown",
   "metadata": {
    "slideshow": {
     "slide_type": "fragment"
    }
   },
   "source": [
    "**Promesa:** $f: S_n \\to S_{n'}$ es suprayectiva con un sólo período $f(x+P) = f(x)$. \n",
    "\n",
    "**Problema**:  encontrar $P$ con un numero mínimo de consultas al oráculo.\n",
    "\n"
   ]
  },
  {
   "cell_type": "markdown",
   "metadata": {
    "slideshow": {
     "slide_type": "fragment"
    }
   },
   "source": [
    "<br>\n",
    "<br>\n",
    "\n",
    "-  Para realizar los cálculos exactos supondremos que $~P~$ divide  a $N=2^n$. Existe por tanto un $M$  tal que  $\\Rightarrow PM = N$.\n",
    "<br>\n",
    "<br>\n",
    "\n",
    "-  El requisito de divisibilidad se puede relajar, es decir, basta con que  $N-M < P M \\leq N = 2^n $. Esto sólo lo estudiaremos numéricamente.\n",
    "<br>\n"
   ]
  },
  {
   "cell_type": "markdown",
   "metadata": {
    "slideshow": {
     "slide_type": "slide"
    }
   },
   "source": [
    "Clásicamente necesitaríamos evaluar $f$ un número de veces del orden de $2^n/2$ para discernir entre las dos ultimas posibilidades $P=N/2$ de $P=N$."
   ]
  },
  {
   "cell_type": "markdown",
   "metadata": {
    "slideshow": {
     "slide_type": "fragment"
    }
   },
   "source": [
    "<br>\n",
    "\n",
    "<div class=\"alert alert-block alert-danger\">\n",
    "Adviértase la diferencia con el problema de Simon, donde la periodicidad era $f(x+r) = f(x)$ para $x+r$ una suma <i>bit a bit</i> mod 2 \n",
    "</div>"
   ]
  },
  {
   "cell_type": "markdown",
   "metadata": {
    "slideshow": {
     "slide_type": "fragment"
    }
   },
   "source": [
    "Comencemos analizando el algoritmos como si se tratase del problema de Simon"
   ]
  },
  {
   "cell_type": "markdown",
   "metadata": {
    "slideshow": {
     "slide_type": "fragment"
    }
   },
   "source": [
    "<br>\n",
    "\\begin{eqnarray}\n",
    "\\ket{\\Psi} &=& U_f (W_n\\otimes I_{n'}) \\ket{0}_n   \\ket{0}_{n'}  \\nonumber\\\\ \\rule{0mm}{15mm}\n",
    "&=& \\rule{0mm}{8mm}U_f   \\frac{1}{\\sqrt{N}}\\sum_{x=0}^{N-1} \\ket{x}\\ket{0} \\nonumber\\\\ \\rule{0mm}{15mm}\n",
    "&=&   \\rule{0mm}{7mm} \\frac{1}{\\sqrt{N}}\\sum_{x=0}^{N-1} \\ket{x}\\ket{f(x)} \\rule{0mm}{15mm}\n",
    "\\end{eqnarray}\n"
   ]
  },
  {
   "cell_type": "markdown",
   "metadata": {
    "slideshow": {
     "slide_type": "slide"
    }
   },
   "source": [
    "Rescribamos el entero $x\\in S_n$ en la forma siguiente: $~ x = mP +p~ = 0,\\ldots, MP-1$, donde $~p=0,\\ldots,P-1~$ y $~m=0,\\ldots,M-1~$.\n",
    "\n",
    "<br>\n",
    "<br>\n",
    "\\begin{eqnarray}\n",
    "\\ket{\\Psi} &=& \\rule{0mm}{7mm} \\frac{1}{\\sqrt{N}}  \\sum_{p=0}^{P-1}\\sum_{m=0}^{M-1}\\ket{mP + p}\\ket{f(mP+p)}\\nonumber\\\\ \\rule{0mm}{15mm}\n",
    "&=& \\rule{0mm}{7mm}  \\frac{1}{\\sqrt{N}} \\sum_{p=0}^{P-1}\\left(\\sum_{m=0}^{M-1}\\ket{mP + p}\\right)\\ket{f(p)} \n",
    "\\end{eqnarray}\n",
    "\n",
    "<br>\n",
    "\n",
    "donde la última igualdad se sigue aplicando la condición de periodicidad de $f$. \n"
   ]
  },
  {
   "cell_type": "markdown",
   "metadata": {
    "slideshow": {
     "slide_type": "fragment"
    }
   },
   "source": [
    "\n",
    "Debido a esta propiedad, \n",
    "si una evaluación del segundo registro da como resultado $\\ket{f(l_0)}$, el estado al que colapse el primer\n",
    "registro es  una superposición normalizada \n",
    "\n",
    "$$\n",
    "\\ket{\\Psi'} = \\frac{1}{\\sqrt{M}}  \\sum_{m=0}^{M-1}\\ket{p_0 + mP}\\, .\n",
    "$$"
   ]
  },
  {
   "cell_type": "markdown",
   "metadata": {
    "slideshow": {
     "slide_type": "slide"
    }
   },
   "source": [
    "A continuación efectuamos sobre este estado una transformación de Fourier cuántica, usando que $N/P = M$\n",
    "<br>\n",
    "<br>\n",
    "\n",
    "\\begin{eqnarray}\n",
    "\\ket{\\Psi'} = U_{\\rm TFC} \\ket{\\Psi'} &=& \\frac{1}{\\sqrt{N M}} \\sum_{y=0}^{N-1}   \\sum_{m=0}^{M-1}e^{+2\\pi i (p_0 + mP)y/N}\\ket{y} \\nonumber\\\\ \\rule{0mm}{12mm}\n",
    "&=& \\frac{1}{\\sqrt{N M}} \\sum_{y=0}^{N-1}   e^{+2\\pi i p_0 y/N} \\left( \\sum_{k=0}^{M-1} e^{+2\\pi i my/M}\\right) \\ket{y}   \n",
    "~~~~\\Rightarrow ~~~ y/M = s  ~\\hbox{ con }~ 0,1,2...\n",
    "\\hspace{4cm}\n",
    "\\end{eqnarray}"
   ]
  },
  {
   "cell_type": "markdown",
   "metadata": {
    "slideshow": {
     "slide_type": "fragment"
    }
   },
   "source": [
    "\\begin{eqnarray}\n",
    " &=& \\frac{1}{\\sqrt{N M}} \\sum_{y=0}^{N-1}   e^{+2\\pi i p_0 y/N}  \\left( \\rule{0mm}{3.5mm}M \\delta_{y, sM}\\right) \\ket{y}    = \\sqrt{ \\frac{M}{N}}  ~ \\sum_{q=0}^{P-1} e^{+2\\pi i p_0 qM/N}    \\ket{sM}  \\nonumber\\\\ \\rule{0mm}{25mm}\n",
    "&=&\\sqrt{ \\frac{1}{P} }~ \\sum_{q=0}^{P-1} e^{+2\\pi i p_0 q/P }    \\ket{sN/P}  \n",
    "\\end{eqnarray}\n"
   ]
  },
  {
   "cell_type": "markdown",
   "metadata": {
    "slideshow": {
     "slide_type": "slide"
    }
   },
   "source": [
    "\n",
    "\n",
    "El **resultado** es una *superposición homogénea* de estados $~\\ket{y_s = sN/P}~$ con una probabilidad de ocurrencia \n",
    "<br>\n",
    "<br>\n",
    "<br>\n",
    "$$\n",
    "P(y) = \\left\\{ \\begin{array}{cl} 1/P & \\hbox{si} ~ y = s N/P \\in \\{ 0, N/P, 2N/P,..., (P-1)N/P \\} \\\\ 0 & \\rule{0mm}{15mm}\\hbox{si} ~ y \\neq s N/P \\end{array} \\right.\n",
    "$$\n",
    "\n"
   ]
  },
  {
   "cell_type": "markdown",
   "metadata": {
    "slideshow": {
     "slide_type": "fragment"
    }
   },
   "source": [
    "<br>\n",
    "\n",
    "<center> \n",
    "<img src=\"./figuras/Period_finding.png\" width='80%' style='margin:automatic'/>\n",
    "</center>\n",
    "\n",
    "<br>"
   ]
  },
  {
   "cell_type": "markdown",
   "metadata": {
    "slideshow": {
     "slide_type": "fragment"
    }
   },
   "source": [
    "<br>\n",
    "\n",
    "-  Una acción repetida del circuito nos dará la lista completa $\\{y_s\\} = \\{0, N/P, 2N/P,...\\}$. \n",
    "<br>\n",
    "\n",
    "-  Dividiendo por $N$ obtenemos otra lista $\\{\\varphi_s\\} = \\{0,1/P,2/P,...,\\}$\n",
    "<br>\n",
    "\n",
    "-  La extracción de $P$ a partir de elementos de esta lista se puede efectuar mediante la expresión en *fracciones continuas*\n"
   ]
  },
  {
   "cell_type": "markdown",
   "metadata": {
    "slideshow": {
     "slide_type": "slide"
    }
   },
   "source": [
    "### Ejemplo:\n",
    "\n",
    "Vamos a fabricar una función $f: S_n \\to S_{n'}$ con $N=2^n, N'=2^{n'}$, periódica con período $P$ que se repita $M$ veces, de modo que $M$ = int$(N/P)$. "
   ]
  },
  {
   "cell_type": "code",
   "execution_count": null,
   "metadata": {
    "slideshow": {
     "slide_type": "fragment"
    }
   },
   "outputs": [],
   "source": [
    "def f_periodica(N,Np,P,show_values=True): # el argumento N'=Np para el caso de funciones de S_n -> S_n'\n",
    "    \n",
    "    M= int(N/P)\n",
    "    values= np.random.choice(Np-1,P,replace=False) #seleccionamos P valores aleatorios entre 1 y Np \n",
    "    if show_values:\n",
    "        print(values)\n",
    "    \n",
    "    fout=np.zeros(N)\n",
    "    for m in range(M+1):\n",
    "        for p in range(P):  \n",
    "            if p + m*P < N:\n",
    "                fout[p + m*P] = values[p]\n",
    "#    print(fout)\n",
    "    fout_list = [format(int(i), 'b').zfill(int(np.ceil(np.log2(np.max(fout)+2)))) for i in fout]\n",
    "    \n",
    "    return fout_list\n",
    "      \n",
    "fout_list = f_periodica(8,10,4,show_values=True)        \n",
    "print(fout_list)"
   ]
  },
  {
   "cell_type": "markdown",
   "metadata": {},
   "source": [
    "Implementamos esta función periódica en un oráculo binario que necesitara sendos registros de $n$ y $n'$ cúbits"
   ]
  },
  {
   "cell_type": "code",
   "execution_count": null,
   "metadata": {
    "slideshow": {
     "slide_type": "fragment"
    }
   },
   "outputs": [],
   "source": [
    "binary_function(fout_list).draw('mpl')"
   ]
  },
  {
   "cell_type": "markdown",
   "metadata": {
    "slideshow": {
     "slide_type": "slide"
    }
   },
   "source": [
    "Ahora generamos el *Circuito de Búsqueda de Periodo* y correrlo en dos casos parecidos. \n",
    "<br>\n",
    "1. $ N=N'=2^7 ~,~ P = 4 ~~~\\hbox{  es decir  } ~~~ N/P = 32 \\in {\\mathbb Z} $\n",
    "<br>\n",
    "2. $ N=N'=2^7 ~, ~ P = 5 ~~~\\hbox{  es decir  } ~~~ N/P = 25.6 \\notin {\\mathbb Z} $\n"
   ]
  },
  {
   "cell_type": "code",
   "execution_count": null,
   "metadata": {
    "run_control": {
     "marked": true
    },
    "slideshow": {
     "slide_type": "fragment"
    }
   },
   "outputs": [],
   "source": [
    "from qiskit import QuantumRegister, ClassicalRegister, QuantumCircuit\n",
    "\n",
    "n=7\n",
    "#dominio\n",
    "N=2**n\n",
    "#rango\n",
    "Np = N  # esta opción no es obligatoria. Sólo es necesario que N'>P\n",
    "#período\n",
    "P =5\n",
    "print('N = 2^n =',N, ' P =', P, ' M =', N/P)\n",
    "\n",
    "# el oráculo que genera una funcion períodica con valores f(0),f(1),...,f(P-1) que se repiten M veces (aprox)\n",
    "fout_list = f_periodica(N,Np,P,show_values=True)        \n",
    "periodic_oracle = binary_function(fout_list).to_gate(label='f(x+P)=f(x)')\n",
    "\n",
    "qr_in = QuantumRegister(n, name='x')\n",
    "qr_out = QuantumRegister(n, name='f(x)')\n",
    "cr_in = ClassicalRegister(n, name='meas_in')\n",
    "cr_out = ClassicalRegister(n, name='meas_out')\n",
    "qc = QuantumCircuit(qr_in, qr_out, cr_in,cr_out, name='q')\n",
    "    \n",
    "\n",
    "# Aplicamos la puerta de Walsh-Hadamard al primer registro\n",
    "qc.h(qr_in)\n",
    "qc.barrier()\n",
    "\n",
    "# Añadimos el oráculo\n",
    "qc.append(periodic_oracle,qr_in[:] + qr_out[:])    \n",
    "qc.barrier()\n",
    "\n",
    "# Medimos el registro de los cúbits de |f(x)>\n",
    "qc.measure(qr_out, cr_out)\n",
    "qc.barrier()\n",
    "\n",
    "# Aplicamos la Transformada de Fourier al primer registro\n",
    "qc.append(TFC(n),qr_in)\n",
    "qc.barrier()\n",
    "\n",
    "# Finalmente medimos el registro de los inputs |x>\n",
    "qc.measure(qr_in, cr_in)   "
   ]
  },
  {
   "cell_type": "code",
   "execution_count": null,
   "metadata": {
    "slideshow": {
     "slide_type": "slide"
    }
   },
   "outputs": [],
   "source": [
    "qc.draw('mpl')"
   ]
  },
  {
   "cell_type": "code",
   "execution_count": null,
   "metadata": {
    "slideshow": {
     "slide_type": "slide"
    }
   },
   "outputs": [],
   "source": [
    "from qiskit import Aer, execute\n",
    "\n",
    "shots_exe = 20000\n",
    "\n",
    "backend = Aer.get_backend('qasm_simulator')\n",
    "job     = execute(qc, backend, shots = shots_exe)\n",
    "result  = job.result()\n",
    "counts  = result.get_counts()\n",
    "\n",
    "from qiskit.tools.visualization import plot_histogram\n",
    "\n",
    "plot_histogram(counts)"
   ]
  },
  {
   "cell_type": "markdown",
   "metadata": {
    "slideshow": {
     "slide_type": "fragment"
    }
   },
   "source": [
    "- Si $N/P$ es un entero la distribución es uniforme en unos pocos valores. Debemos seleccionar los que tienen un primer registro común"
   ]
  },
  {
   "cell_type": "markdown",
   "metadata": {
    "slideshow": {
     "slide_type": "fragment"
    }
   },
   "source": [
    "\n",
    "- Si $N/P$ no es un entero, observamos que, la distribución está muy picada en torno a unos pocos valores. \n",
    "\n",
    " De haber corrido el circuito una sola vez, la probabilidad de obtener un valor fuera de esos picos es muy baja. Vamos a continuar trabajando con el colectivo de resultados y volveremos sobre esta observación al final. "
   ]
  },
  {
   "cell_type": "markdown",
   "metadata": {
    "slideshow": {
     "slide_type": "slide"
    }
   },
   "source": [
    "Ahora post-seleccionamos las salidas que tienen un mismo valor del primer registro y superan un umbral de probabilidad (número de eventos)\n",
    "\n",
    "\n",
    "( Cuando $N/p \\notin {\\mathbb Z} $, variar el umbral para seleccionar los picos de probabilidad)"
   ]
  },
  {
   "cell_type": "code",
   "execution_count": null,
   "metadata": {
    "slideshow": {
     "slide_type": "fragment"
    }
   },
   "outputs": [],
   "source": [
    "#post-selección\n",
    "\n",
    "projected_counts = {k: v for k, v in counts.items() if k[:len(k)//2] == list(counts)[2][:n] and v>300 }\n",
    "#print(projected_counts)\n",
    "plot_histogram(projected_counts)\n"
   ]
  },
  {
   "cell_type": "markdown",
   "metadata": {
    "slideshow": {
     "slide_type": "fragment"
    }
   },
   "source": [
    " De la lectura del segundo registro obtenemos la lista de valores $\\{N_s\\}$ que suponemos que forman una buena aproximación a $\\{s N/P\\}$ y, dividiendo por $N$,  la lista $\\{\\varphi_s\\}\\in [0,1)$ que mejor aproximan la lista $\\{s/P\\}~, s=1,2,..$."
   ]
  },
  {
   "cell_type": "code",
   "execution_count": null,
   "metadata": {
    "run_control": {
     "marked": false
    },
    "slideshow": {
     "slide_type": "fragment"
    }
   },
   "outputs": [],
   "source": [
    "# extraemos las 'keys' del segundo registro, rechazando el 00...0 que siempre está\n",
    "Ns_list = sorted([int(keys[n+1:],2) for  keys in projected_counts])[1:] # el +1 es para comerse el espacio p.ej en '101 1101'\n",
    "print('{Ns} ~ ', Ns_list)\n",
    "\n",
    "# dividiendo por N\n",
    "phis_list = [Ns_list[i]/N for i in range(len(Ns_list))]\n",
    "print('phi_s', phis_list)\n"
   ]
  },
  {
   "cell_type": "markdown",
   "metadata": {
    "slideshow": {
     "slide_type": "slide"
    }
   },
   "source": [
    "La última parte del post-procesado consiste en averiguar qué par de números enteros, $s$ y $P$, que se esconden detrás de la lista $\\{\\varphi_s\\}$ encontrada. \n"
   ]
  },
  {
   "cell_type": "markdown",
   "metadata": {
    "slideshow": {
     "slide_type": "fragment"
    }
   },
   "source": [
    "**Estrategia 1**: simplemente restando elementos sucesivos tenemos una lista \n",
    "\n",
    "$$\n",
    "P =\\left( \\frac{1}{P}\\right)^{-1} =  \\left(\\frac{s+1}{P} - \\frac{s}{P}\\right)^{-1} \n",
    "$$\n",
    "\n"
   ]
  },
  {
   "cell_type": "code",
   "execution_count": null,
   "metadata": {
    "slideshow": {
     "slide_type": "fragment"
    }
   },
   "outputs": [],
   "source": [
    "P_list = [(phis_list[s+1]-phis_list[s])**(-1) for s in range(len(phis_list)-1)]\n",
    "\n",
    "print(P_list)\n",
    "\n",
    "int(sum(P_list)/len(P_list))"
   ]
  },
  {
   "cell_type": "markdown",
   "metadata": {
    "slideshow": {
     "slide_type": "slide"
    }
   },
   "source": [
    "\n",
    "**Estrategia 2**:\n",
    "\n",
    "Representar un número racional $a \\in {\\mathbb Q}$ como un cociente de dos enteros $a = s/P$, es algo que se puede conseguir a partir de su expresión en  [fracciones continuas](https://es.wikipedia.org/wiki/Fracci%C3%B3n_continua#:~:text=C%C3%A1lculo%20de%20una%20fracci%C3%B3n%20continua,-Consideremos%20un%20n%C3%BAmero&text=Para%20calcular%20la%20representaci%C3%B3n%20en,la%20diferencia%20y%20se%20repite)\n",
    "<br>\n",
    "\n",
    "La clase [Fraction](https://docs.python.org/3/library/fractions.html) de python ya incorpora esta utilidad. "
   ]
  },
  {
   "cell_type": "code",
   "execution_count": null,
   "metadata": {
    "slideshow": {
     "slide_type": "-"
    }
   },
   "outputs": [],
   "source": [
    "from fractions import Fraction\n",
    "\n",
    "[Fraction(sP_list[i]) for i in range(len(sP_list))]"
   ]
  },
  {
   "cell_type": "markdown",
   "metadata": {
    "slideshow": {
     "slide_type": "slide"
    }
   },
   "source": [
    "El método puede producir respuestas erróneas por dos razones:\n",
    "\n",
    "-  que $s$ sea divisor de $P$\n",
    "<br>\n",
    "<br>\n",
    "-  que $\\varphi_s \\sim s/P$. En ese caso, el método arroja dos enteros $s'/P'$ mayores que $s'>s$ y $P'>P$.\n",
    "<br>\n",
    "<br>"
   ]
  },
  {
   "cell_type": "markdown",
   "metadata": {
    "slideshow": {
     "slide_type": "fragment"
    }
   },
   "source": [
    "El segundo caso es el genérico cuando $N/P \\notin {\\mathbb Z} $ y se controla limitando el valor de $P$ en el cociente $s/P$ que debe aproximar $\\varphi_s$."
   ]
  },
  {
   "cell_type": "code",
   "execution_count": null,
   "metadata": {
    "slideshow": {
     "slide_type": "-"
    }
   },
   "outputs": [],
   "source": [
    "[Fraction(phis_list[i]).limit_denominator(20) for i in range(int(len(phis_list)))]"
   ]
  },
  {
   "cell_type": "markdown",
   "metadata": {
    "slideshow": {
     "slide_type": "fragment"
    }
   },
   "source": [
    "<br>\n",
    "\n",
    "**En cualquier caso**:  *verificar* si un valor es *solución o no* es una tarea que clásicamente se puede realizar de forma eficiente. "
   ]
  },
  {
   "cell_type": "markdown",
   "metadata": {
    "slideshow": {
     "slide_type": "slide"
    }
   },
   "source": [
    "<div class=\"alert alert-block alert-danger\">\n",
    "<b> Advertencia: </b>\n",
    "\n",
    " El algoritmo de búsqueda de un periodo permite una ventaja exponencial si no contamos la profundidad del oráculo. \n",
    "<br>\n",
    "<br>\n",
    "    \n",
    " Sin embargo ya hemos visto en el ejemplo anterior que la forma de construir el oráculo asociado a la función $f(x+P)=f(x)$ pasa por implementar la <i> tabla de verdad </i> de $P$ valores distintos $f(0),....,f(P-1)$. Para un $P$ de ${\\cal O}(N)$ vemos que la <i>profundidad del oráculo</i> crece de forma exponencial.\n",
    "<br>   \n",
    "<br> \n",
    "    \n",
    "Por tanto, la ventaja cuántica sólo existe en los casos de funciones  sea posible implementar mediante un oráculo de forma que su profundidad crezca polinómicamente con el tamaño del registro $n$.\n",
    "</div>"
   ]
  }
 ],
 "metadata": {
  "celltoolbar": "Slideshow",
  "kernelspec": {
   "display_name": "Python 3",
   "language": "python",
   "name": "python3"
  },
  "language_info": {
   "codemirror_mode": {
    "name": "ipython",
    "version": 3
   },
   "file_extension": ".py",
   "mimetype": "text/x-python",
   "name": "python",
   "nbconvert_exporter": "python",
   "pygments_lexer": "ipython3",
   "version": "3.7.10"
  },
  "varInspector": {
   "cols": {
    "lenName": 16,
    "lenType": 16,
    "lenVar": 40
   },
   "kernels_config": {
    "python": {
     "delete_cmd_postfix": "",
     "delete_cmd_prefix": "del ",
     "library": "var_list.py",
     "varRefreshCmd": "print(var_dic_list())"
    },
    "r": {
     "delete_cmd_postfix": ") ",
     "delete_cmd_prefix": "rm(",
     "library": "var_list.r",
     "varRefreshCmd": "cat(var_dic_list()) "
    }
   },
   "types_to_exclude": [
    "module",
    "function",
    "builtin_function_or_method",
    "instance",
    "_Feature"
   ],
   "window_display": false
  }
 },
 "nbformat": 4,
 "nbformat_minor": 4
}
