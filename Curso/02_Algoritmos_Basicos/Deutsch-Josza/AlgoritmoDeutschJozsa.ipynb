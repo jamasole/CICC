{
 "cells": [
  {
   "cell_type": "markdown",
   "metadata": {},
   "source": [
    "\n",
    "Autor: Sergio Barrera Cabodevila  \n",
    "\n",
    "<table width=\"100%\"><td style=\"font-size:22px;font-style:italic;text-align:right;\">\n",
    "El Algoritmo de Deustch-Jozsa   <br></td></table>\n",
    " \n",
    "$ \\newcommand{\\bra}[1]{\\langle #1|} $\n",
    "$ \\newcommand{\\ket}[1]{|#1\\rangle} $\n",
    "$ \\newcommand{\\braket}[2]{\\langle #1|#2\\rangle} $\n",
    "$ \\newcommand{\\i}{{\\color{blue} i}}$ \n",
    "$ \\newcommand{\\Hil}{{\\mathbb H}}$\n",
    "$ \\newcommand{\\bemat}{\\begin{matrix}} $\n",
    "$ \\newcommand{\\enmat}{\\end{matrix}} $"
   ]
  },
  {
   "cell_type": "markdown",
   "metadata": {
    "heading_collapsed": true
   },
   "source": [
    "## Introducción"
   ]
  },
  {
   "cell_type": "markdown",
   "metadata": {
    "hidden": true
   },
   "source": [
    "El algoritmos de Deutsch-Jozsa surge como una generalización del algoritmo de Deustch para el caso en el que tenemos involucrados más de un estado binario. Al igual que en el caso del algoritmo de Deutsch, queremos determinar si una determinada función $f(x)$ es constante, es decir, siempre devuelve el mismo valor, o balanceada, si el valor que devuelve depende del argumento de $f$. El algoritmo de Deutsch se define para una función $f(x): \\lbrace 0, 1 \\rbrace \\rightarrow \\lbrace 0, 1 \\rbrace$, y el de Deustch-Jozsa lo generaliza para $f(x): \\lbrace 0, 1 \\rbrace^n \\rightarrow \\lbrace 0, 1 \\rbrace$. Es decir el argumento son $n$ valores binarios, que se pueden traducir en un número natural entre 0 y $2^{n} - 1$. El problema que queremos resolver se enuncia como:\n",
    "\n",
    "> Sea la función $f(x): \\lbrace 0, 1 \\rbrace^n \\rightarrow \\lbrace 0, 1 \\rbrace$. Queremos saber si $f(x)$ es una función constante, $f(x) = f(y) \\;\\; \\forall x, y$, o balanceada, $f(x) = 0$ para la mitad del dominio de $f$ y $f(x) = 1$ para la otra mitad.\n",
    "\n",
    "Para obtener una respuesta determinista a este problema, clasicamente se requiere evaluar la función $f$ un número $\\frac{2^n}{2} + 1 = 2^{n-1} + 1$ de veces. La complejidad computacional de este problema crece exponencialmente con el número de variables binarias de las que depende el argumento de la función. Sin embargo, veremos como cuánticamente somos capaces de dar respuesta a este problema mediante una única evaluación de la función."
   ]
  },
  {
   "cell_type": "markdown",
   "metadata": {
    "heading_collapsed": true
   },
   "source": [
    "## El algoritmo"
   ]
  },
  {
   "cell_type": "markdown",
   "metadata": {
    "hidden": true
   },
   "source": [
    "Consideremos dos registros cuánticos: uno formado por $n$ cúbits, que codifica el argumento de la función $f$, y otro con un único cúbit auxiliar. Sea $U_f: \\ket{x, y} \\rightarrow \\ket{x, y \\oplus f(x)}$ el operador que aplica la función $f$ al registro de $n$ cúbits y suma módulo dos el resultado al cúbit auxiliar. Los pasos del algoritmo son los siguientes:"
   ]
  },
  {
   "cell_type": "markdown",
   "metadata": {
    "hidden": true
   },
   "source": [
    "0. Inicializamos el registro de $n$ cúbits en el estado $\\ket{0}^n$ y el cúbit auxiliar en el $\\ket{1}$.\n",
    "\n",
    "\\begin{equation}\n",
    "\\ket{x, y} = \\ket{0}^{\\otimes n} \\otimes \\ket{1}\n",
    "\\end{equation}"
   ]
  },
  {
   "cell_type": "markdown",
   "metadata": {
    "hidden": true
   },
   "source": [
    "1. Aplicamos una puerta de Walsh-Hadamard a los $n+1$ cúbits, de forma que creamos un estado de superposición de todas las posibles configuraciones del sistema.\n",
    "\n",
    "\\begin{equation}\n",
    "W_{n+1} \\ket{x, y} = \\frac{1}{\\sqrt{2^n}} \\sum_{x=0}^{2^n-1} \\ket{x} \\otimes \\ket{-}\n",
    "\\end{equation}"
   ]
  },
  {
   "cell_type": "markdown",
   "metadata": {
    "hidden": true
   },
   "source": [
    "2. Hacemos actuar la puerta que implementa el operador $U_f$.\n",
    "\n",
    "\\begin{equation}\n",
    "U_f W_{n+1}\\ket{x, y} = \\frac{1}{\\sqrt{2^n}} \\sum_{x=0}^{2^n-1} \\ket{x} \\otimes \\frac{1}{\\sqrt{2}} (\\ket{0 \\oplus f(x)} - \\ket{1 \\oplus f(x)}) = \\frac{1}{\\sqrt{2^n}} \\sum_{x=0}^{2^n-1} \\ket{x} \\otimes (-1)^{f(x)} \\ket{-}\n",
    "\\end{equation}"
   ]
  },
  {
   "cell_type": "markdown",
   "metadata": {
    "hidden": true
   },
   "source": [
    "3. Volvemos a aplicar la puerta de Walsh-Hadamard, pero ahora solo sobre los $n$ cúbits del registro que codifica el argumento de la función.\n",
    "\\begin{equation}\n",
    "W_{n} U_f W_{n+1} \\ket{x, y} = \\frac{1}{\\sqrt{2^n}} \\sum_{x=0}^{2^n-1} (-1)^{f(x)} H^{\\otimes n} \\ket{x} \\otimes \\ket{-} \\stackrel{\\text{ * }}{=} \\frac{1}{2^n} \\sum_{x=0}^{2^n-1} \\sum_{y=0}^{2^n-1} (-1)^{f(x) + x \\cdot y} \\ket{y} \\otimes \\ket{-} \n",
    "\\end{equation}\n",
    "Donde\n",
    "\\begin{equation}\n",
    "x \\cdot y \\equiv x_0y_0 \\oplus x_1y_2 \\oplus \\cdots \\oplus x_{n-1}y_{n-1}\n",
    "\\end{equation}\n",
    "siendo $x_0x_1\\cdots x_{n-1}$ la representación binaria de $x$. "
   ]
  },
  {
   "cell_type": "markdown",
   "metadata": {
    "hidden": true
   },
   "source": [
    "#### Prueba\n",
    "\n",
    "Queremos comprobar que \n",
    "\n",
    "\\begin{equation}\n",
    "H^{\\otimes n} \\ket{x} = \\frac{1}{\\sqrt{2^n}} \\sum_{y=0}^{2^n-1} (-1)^{x \\cdot y} \\ket{y}\n",
    "\\end{equation}\n",
    "\n",
    "Consideremos en primer lugar el caso de que $x$ represente un único cúbit. Es fácil comprobar que, en este caso podemos escribir:\n",
    "\n",
    "\\begin{equation}\n",
    "H \\ket{x} = \\frac{1}{\\sqrt{2}} \\sum_{y=0}^1 (-1)^{xy} \\ket{y}\n",
    "\\end{equation}\n",
    "\n",
    "Para el caso general con $n$ cúbits, $\\ket{x} = \\ket{x_0x_1\\cdots x_{n-1}}$, el resultado anterior se puede extender de forma trivial como:\n",
    "\n",
    "\\begin{equation}\n",
    "H^{\\otimes n} \\ket{x} = \\frac{1}{\\sqrt{2^n}} \\sum_{y=0}^{2^n - 1} (-1)^{x_0y_0 + x_1y_1 + \\cdots + x_{n-1}y_{n-1}} \\ket{y} = \\frac{1}{\\sqrt{2^n}} \\sum_{y=0}^{2^n-1} (-1)^{x \\cdot y} \\ket{y} \\otimes \\ket{-} \n",
    "\\end{equation}\n",
    "\n",
    "Donde usamos que el resultado de cualquier potencia de $(-1)$ solo depende de la paridad del exponente, con lo cual podemos quedarnos con la suma módulo 2 tal y como se representa el $x \\cdot y$."
   ]
  },
  {
   "cell_type": "markdown",
   "metadata": {
    "hidden": true
   },
   "source": [
    "4. Medimos el registro de $n$ cúbits. El resultado dependerá de si la función es constante o balanceada.\n",
    "\n",
    "    - Si $f$ es <b>constante</b> medimos el estado $\\ket{0}^{\\otimes n}$ con probabilidad 1.\n",
    "    - Si $f$ es <b>balanceada</b> medimos el estado $\\ket{0}^{\\otimes n}$ con probabilidad 0."
   ]
  },
  {
   "cell_type": "markdown",
   "metadata": {
    "hidden": true
   },
   "source": [
    "#### Prueba\n",
    "\n",
    "- Si $f$ es <b>constante</b>:\n",
    "\\begin{equation}\n",
    "\\vert \\bra{0}^{\\otimes n} \\bra{-} W_{n} U_f W_{n+1} \\ket{x, y} \\vert^2 = \n",
    "\\Big\\vert \\frac{(-1)^{f(0)}}{2^n} \\sum_{x=0}^{2^n-1} \\sum_{y=0}^{2^n-1} (-1)^{x \\cdot y} \\braket{0}{y} \\Big\\vert^2 = \n",
    "\\frac{1}{2^n} \\Big\\vert \\sum_{x=0}^{2^n-1} (-1)^{x \\cdot 0} \\Big\\vert^2 = 1\n",
    "\\end{equation}\n",
    "\n",
    "- Si $f$ es <b>balanceada</b>:\n",
    "\\begin{equation}\n",
    "\\vert \\bra{0}^{\\otimes n} \\bra{-} W_{n} U_f W_{n+1} \\ket{x, y} \\vert^2 = \n",
    "\\frac{1}{2^n} \\Big\\vert \\sum_{x=0}^{2^n-1} (-1)^{f(x) + x \\cdot 0} \\Big\\vert^2 = 0\n",
    "\\end{equation}"
   ]
  },
  {
   "cell_type": "markdown",
   "metadata": {
    "heading_collapsed": true
   },
   "source": [
    "## Definición del algoritmo "
   ]
  },
  {
   "cell_type": "markdown",
   "metadata": {
    "hidden": true
   },
   "source": [
    "En primer lugar, escribamos la estrutura del algoritmo en qiskit, sin concretar el oráculo que implementa la función $f$. Al final veremos como podemos definir el operador $U_f$."
   ]
  },
  {
   "cell_type": "code",
   "execution_count": 1,
   "metadata": {
    "hidden": true
   },
   "outputs": [],
   "source": [
    "from qiskit import QuantumRegister, QuantumCircuit, ClassicalRegister\n",
    "\n",
    "def Circuit(U, n):\n",
    "    \"\"\" Constrúe el circuito que implementa el algoritmo de Deutsch-Jozsa para el oráculo U\n",
    "    \"\"\"\n",
    "    \n",
    "    qr = QuantumRegister(n+1)\n",
    "    cr = ClassicalRegister(n+1)\n",
    "    \n",
    "    qc = QuantumCircuit(qr, cr, name='q')\n",
    "    \n",
    "    # Inicializacion\n",
    "    qc.x(qr[-1])\n",
    "    \n",
    "    # Aplicamos la puerta de Walsh-Hadamard\n",
    "    qc.h(qr)\n",
    "    qc.barrier()\n",
    "    \n",
    "    # Implementacion del oraculo\n",
    "    U(qc, qr)\n",
    "    qc.barrier()\n",
    "    \n",
    "    # Volvemos a aplicar la puerta de Walsh-Hadamard\n",
    "    qc.h(qr)\n",
    "    qc.barrier()\n",
    "    \n",
    "    # Medimos todos los cúbits del primer registro\n",
    "    qc.measure(qr[:-1], cr[:-1])\n",
    "    \n",
    "    return qc"
   ]
  },
  {
   "cell_type": "markdown",
   "metadata": {
    "heading_collapsed": true
   },
   "source": [
    "## Definición del oráculo\n"
   ]
  },
  {
   "cell_type": "markdown",
   "metadata": {
    "hidden": true
   },
   "source": [
    "Ahora tenemos que definir un oráculo que nos permita comprobar la validez del algoritmo. Necesitamos dos oráculos diferentes: uno para la función constante y otro para la balanceada.\n",
    "\n",
    "- <b>Función constante</b>. Este caso es trivial, ya que es suficiente con tomar la identidad. Es el caso equivalente a que $f(x) = 0, \\, \\forall x$.\n",
    "\n",
    "- <b>Función balanceada</b>. Hay multitud de ejemplos que permiten implementar un oráculo para una función balanceada. Uno de ellos consiste en tomar $n$ puertas CNOT, que toma como control cada uno de los $n$ cúbits del registro y como objetivo el cúbit auxiliar.\n",
    "\n",
    "A continuación definimos estes dos operadores."
   ]
  },
  {
   "cell_type": "code",
   "execution_count": 2,
   "metadata": {
    "hidden": true
   },
   "outputs": [],
   "source": [
    "def U_constante(qc, qr):\n",
    "    \n",
    "    return qc\n",
    "\n",
    "\n",
    "def U_balanceada(qc, qr):\n",
    "    \n",
    "    for i in range(len(qr)-1):\n",
    "        qc.cx(qr[i], qr[-1])\n",
    "    \n",
    "    return qc"
   ]
  },
  {
   "cell_type": "code",
   "execution_count": 3,
   "metadata": {
    "hidden": true
   },
   "outputs": [
    {
     "data": {
      "image/png": "[encoded data removed]",
      "text/plain": [
       "<Figure size 1062.78x445.48 with 1 Axes>"
      ]
     },
     "execution_count": 3,
     "metadata": {},
     "output_type": "execute_result"
    }
   ],
   "source": [
    "number_qubits = 5\n",
    "\n",
    "qc = Circuit(U_balanceada, number_qubits)\n",
    "\n",
    "qc.draw(output='mpl')"
   ]
  },
  {
   "cell_type": "markdown",
   "metadata": {
    "heading_collapsed": true
   },
   "source": [
    "## Ejecución del circuíto en un simulador"
   ]
  },
  {
   "cell_type": "markdown",
   "metadata": {
    "hidden": true
   },
   "source": [
    "Ahora que ya hemos definido nuestro circuíto podemos ejecutarlo en el simulador de IBM."
   ]
  },
  {
   "cell_type": "code",
   "execution_count": 4,
   "metadata": {
    "hidden": true
   },
   "outputs": [
    {
     "data": {
      "text/plain": [
       "[AerSimulator('aer_simulator'),\n",
       " AerSimulator('aer_simulator_statevector'),\n",
       " AerSimulator('aer_simulator_density_matrix'),\n",
       " AerSimulator('aer_simulator_stabilizer'),\n",
       " AerSimulator('aer_simulator_matrix_product_state'),\n",
       " AerSimulator('aer_simulator_extended_stabilizer'),\n",
       " AerSimulator('aer_simulator_unitary'),\n",
       " AerSimulator('aer_simulator_superop'),\n",
       " QasmSimulator('qasm_simulator'),\n",
       " StatevectorSimulator('statevector_simulator'),\n",
       " UnitarySimulator('unitary_simulator'),\n",
       " PulseSimulator('pulse_simulator')]"
      ]
     },
     "execution_count": 4,
     "metadata": {},
     "output_type": "execute_result"
    }
   ],
   "source": [
    "from qiskit import Aer, execute\n",
    "\n",
    "Aer.backends()"
   ]
  },
  {
   "cell_type": "code",
   "execution_count": 5,
   "metadata": {
    "hidden": true
   },
   "outputs": [],
   "source": [
    "shots_exe = 1024 # Número de ejecuciones de la simulación\n",
    "\n",
    "backend = Aer.get_backend('qasm_simulator')\n",
    "job     = execute(qc, backend, shots = shots_exe)\n",
    "result  = job.result()\n",
    "counts  = result.get_counts()"
   ]
  },
  {
   "cell_type": "markdown",
   "metadata": {
    "hidden": true
   },
   "source": [
    "Definimos una función que obtenga el número de cuentas para cada cúbit."
   ]
  },
  {
   "cell_type": "code",
   "execution_count": 6,
   "metadata": {
    "hidden": true
   },
   "outputs": [],
   "source": [
    "def get_counts(counts, number_qubits):\n",
    "    \n",
    "    list_aux = list(counts.items())\n",
    "    res0 = sum([l[-1] for l in list_aux if l[0][1:] == '0'*number_qubits])\n",
    "    res1 = shots_exe - res0\n",
    "    c    = {'constante' : res0, 'balanceada' : res1}\n",
    "    \n",
    "    if c['constante'] > c['balanceada']:\n",
    "        print('La función es constante con una probabilidad de %.3f' %(c['constante'] / (c['constante'] + c['balanceada'])))\n",
    "    else:\n",
    "        print('La función es balanceada con una probabilidad de %.3f' %(c['balanceada'] / (c['constante'] + c['balanceada'])))\n",
    "\n",
    "    return c"
   ]
  },
  {
   "cell_type": "code",
   "execution_count": 7,
   "metadata": {
    "hidden": true
   },
   "outputs": [
    {
     "name": "stdout",
     "output_type": "stream",
     "text": [
      "La función es balanceada con una probabilidad de 1.000\n"
     ]
    }
   ],
   "source": [
    "count = get_counts(counts, number_qubits)"
   ]
  },
  {
   "cell_type": "code",
   "execution_count": 8,
   "metadata": {
    "hidden": true
   },
   "outputs": [
    {
     "data": {
      "image/png": "[encoded data removed]",
      "text/plain": [
       "<Figure size 504x360 with 1 Axes>"
      ]
     },
     "execution_count": 8,
     "metadata": {},
     "output_type": "execute_result"
    }
   ],
   "source": [
    "from qiskit.tools.visualization import plot_histogram\n",
    "\n",
    "plot_histogram(count)"
   ]
  },
  {
   "cell_type": "markdown",
   "metadata": {
    "hidden": true
   },
   "source": [
    "Veamos ahora lo que obtenemos para el caso de una función constante."
   ]
  },
  {
   "cell_type": "code",
   "execution_count": 9,
   "metadata": {
    "hidden": true
   },
   "outputs": [
    {
     "data": {
      "image/png": "[encoded data removed]",
      "text/plain": [
       "<Figure size 775.34x445.48 with 1 Axes>"
      ]
     },
     "execution_count": 9,
     "metadata": {},
     "output_type": "execute_result"
    }
   ],
   "source": [
    "qc = Circuit(U_constante, number_qubits)\n",
    "\n",
    "qc.draw(output='mpl')"
   ]
  },
  {
   "cell_type": "code",
   "execution_count": 10,
   "metadata": {
    "hidden": true
   },
   "outputs": [
    {
     "name": "stdout",
     "output_type": "stream",
     "text": [
      "La función es constante con una probabilidad de 1.000\n"
     ]
    }
   ],
   "source": [
    "backend = Aer.get_backend('qasm_simulator')\n",
    "job     = execute(qc, backend, shots = 1024)\n",
    "result  = job.result()\n",
    "counts  = result.get_counts()\n",
    "\n",
    "count = get_counts(counts, number_qubits)"
   ]
  },
  {
   "cell_type": "code",
   "execution_count": 11,
   "metadata": {
    "hidden": true
   },
   "outputs": [
    {
     "data": {
      "image/png": "[encoded data removed]",
      "text/plain": [
       "<Figure size 504x360 with 1 Axes>"
      ]
     },
     "execution_count": 11,
     "metadata": {},
     "output_type": "execute_result"
    }
   ],
   "source": [
    "plot_histogram(count)"
   ]
  },
  {
   "cell_type": "code",
   "execution_count": null,
   "metadata": {
    "hidden": true
   },
   "outputs": [],
   "source": []
  }
 ],
 "metadata": {
  "kernelspec": {
   "display_name": "Python 3",
   "language": "python",
   "name": "python3"
  },
  "language_info": {
   "codemirror_mode": {
    "name": "ipython",
    "version": 3
   },
   "file_extension": ".py",
   "mimetype": "text/x-python",
   "name": "python",
   "nbconvert_exporter": "python",
   "pygments_lexer": "ipython3",
   "version": "3.7.10"
  },
  "varInspector": {
   "cols": {
    "lenName": 16,
    "lenType": 16,
    "lenVar": 40
   },
   "kernels_config": {
    "python": {
     "delete_cmd_postfix": "",
     "delete_cmd_prefix": "del ",
     "library": "var_list.py",
     "varRefreshCmd": "print(var_dic_list())"
    },
    "r": {
     "delete_cmd_postfix": ") ",
     "delete_cmd_prefix": "rm(",
     "library": "var_list.r",
     "varRefreshCmd": "cat(var_dic_list()) "
    }
   },
   "types_to_exclude": [
    "module",
    "function",
    "builtin_function_or_method",
    "instance",
    "_Feature"
   ],
   "window_display": false
  }
 },
 "nbformat": 4,
 "nbformat_minor": 4
}
