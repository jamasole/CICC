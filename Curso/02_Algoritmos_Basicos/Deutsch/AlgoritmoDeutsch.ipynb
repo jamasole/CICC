{
 "cells": [
  {
   "cell_type": "markdown",
   "metadata": {},
   "source": [
    "<img   src=\"../../figuras/logo/TalentQ_LogoPosNegro.png\" align=center  width=\"120\"/>\n",
    "<br>\n",
    "\n",
    "<table width=\"100%\">\n",
    "<td style=\"font-size:50px;font-style:italic;text-align:right;background-color:rgba(0, 160, 120,0.6)\">\n",
    "Algoritmo de Deutsch\n",
    "</td></table>\n",
    "$ \\newcommand{\\bra}[1]{\\langle #1|} $\n",
    "$ \\newcommand{\\ket}[1]{|#1\\rangle} $\n",
    "$ \\newcommand{\\braket}[2]{\\langle #1|#2\\rangle} $\n",
    "$ \\newcommand{\\i}{{\\color{blue} i}} $ \n",
    "$ \\newcommand{\\Hil}{{\\mathbb H}} $\n",
    "$ \\newcommand{\\V}{{\\mathbb V}} $\n",
    "\n",
    "\n"
   ]
  },
  {
   "cell_type": "markdown",
   "metadata": {},
   "source": [
    "<a id='dirac'></a>\n",
    "<table width=\"100%\">\n",
    "    <td style=\"font-size:30px;font-family:Helvetica;text-align:left;background-color:rgba(12, 43, 337, 0.3);\">\n",
    "<b>Introducción</b>\n",
    "</table>   "
   ]
  },
  {
   "cell_type": "markdown",
   "metadata": {},
   "source": [
    "**Definición**:\n",
    "<br>\n",
    "Sea $f$ funcion binaria  de un bit  $f:\\{0,1\\}\\to \\{0,1\\}$. Decimos que es *constante* si $f(0) = f(1)$. La otra posibilidad es que  $f(0) =\\neg f(1)$, en cuyo caso decimos que $f$ es *balanceada*.\n",
    "\n",
    "\n",
    " Equivalentemente, se puede clasificar $f$  en un caso u otro atendiendo a su\n",
    "*paridad* $\\pi(f) = f(0)\\oplus f(1)$. Una función constante tendrá paridad $\\pi(f) = 0$, y si es balanceada, $\\pi(f) =1$.\n",
    "\n",
    "**Problema**\n",
    "<br>\n",
    "Sea un oráculo que implementa una función binaria.\n",
    "El problema que se plantea es *discriminar entre las dos opciones anteriores con el mínimo número de evaluaciones*. \n",
    "\n",
    "<br>\n",
    "\n",
    "Clásicamente necesitamos evaluar $f$ dos veces, en $f(0)$ y en $f(1)$. Pero realmente sólo buscamos **un bit** de información que es, precisamente, la\n",
    "paridad $\\pi(f) = f(0)\\oplus f(1)\\in \\{0,1\\}$. Funciones constantes (balanceadas) tienen $\\pi = 0\\,(1)$. El objetivo es conseguir que ese bit figure en las amplitudes del estado final de manera que una medida en la base computacional lo desvele inequívocamente.  \n",
    "\n",
    "La clave es la interferencia de las fases obtenidas a partir de un retroceso de fase. Como hemos visto, la evaluación de una función se efectúa mediante operadores CNOT. Es decir, $X$ controladas aplicadas sobre el qubit de evaluación. Si queremos producir una fase, el qubit de evaluación debe ser un autoestado de $X$ lo cual nos deja con $\\ket{\\pm}$, es decir  $X\\ket{\\pm}=\\pm \\ket{\\pm}$. Nos interesa claramente $\\ket{-}$ para producir una fase no trivial. La interferencia se consigue mediante operadores $H$ que generan superposición. \n",
    "\n",
    "La solución encontrada por Deutsch es la siguiente\n",
    "\n",
    "<br>\n",
    "<br>\n",
    "<div>\n",
    "<img src=\"Deutsch.png\" width=\"450\"/>\n",
    "</div>\n",
    "<br>\n",
    "<br>\n",
    "\n"
   ]
  },
  {
   "cell_type": "markdown",
   "metadata": {},
   "source": [
    "Vamos a ver cómo evoluciona el estado inicial a lo largo del circuito\n",
    "\n",
    "\\begin{eqnarray}\n",
    "\\ket{0}\\ket{-} &\\stackrel{H\\otimes I}{\\longrightarrow}&  \\frac{ (\\ket{0} + \\ket{1})}{\\sqrt{2}}\\otimes \\ket{-}\\nonumber\\\\ \n",
    "&\\stackrel{U_f}{\\longrightarrow}& \\frac{(-1)^{f(0)} \\ket{0} \\ +(-1)^{f(1)} \\ket{1} }{\\sqrt{2}} \\otimes\\ket{-}~ ~~~\\hbox{retroceso de fase}\\nonumber\\\\\n",
    " &\\stackrel{H\\otimes I}{\\longrightarrow} &  \\frac{(-1)^{f(0)} \\ket{+} +(-1)^{f(1)} \\ket{-}  }{\\sqrt{2}} \\otimes \\ket{-} ~~~~~~\\hbox{interferencia}\\nonumber\\\\\n",
    " & = &\\frac{1}{2}\\left( \\rule{0mm}{4mm}\\left( (-1)^{f(0)} + (-1)^{f(1)} \\right) \\ket{0} +   \\left( \\rule{0mm}{4mm} (-1)^{f(0)} - (-1)^{f(1)} \\right) \\ket{1} \\right) \\otimes \\ket{-}\n",
    " \\nonumber\\\\\n",
    " &=&\\frac{1}{2}\\left( \\rule{0mm}{4mm}\\left( 1 + (-1)^{f(0)+f(1)} \\right) \\ket{0} +   \\left( \\rule{0mm}{4mm} 1 - (-1)^{f(0)+f(1)} \\right) \\ket{1} \\right) \\otimes \\ket{-} \\nonumber\\\\\n",
    "\\rule{0mm}{6mm} &=& \\ket{f(0) \\oplus f(1)}\\otimes \\ket{-} \\nonumber\n",
    "\\end{eqnarray}\n",
    "<br>\n",
    "Por tanto, una única medida del primer estado nos informa directamente del valor $f(0) \\oplus f(1)$ de la paridad de $f$. Si la función es constante $C$, mediremos $\\ket{0}$, y si es balanceada, $B$, obtendremos $\\ket{1}$.\n",
    "\n",
    "Notar cómo el algoritmo, después de obtener codificar $f(x)$ en fases, utiliza una puerta de Hadamard para provocar una interferencia de opciones que tiene amplitudes 0 o 1 dependiendo del carácter de $f(x)$. Esta será la filosofía general.\n",
    "\n"
   ]
  },
  {
   "cell_type": "code",
   "execution_count": 3,
   "metadata": {},
   "outputs": [],
   "source": [
    "from qiskit import QuantumRegister, QuantumCircuit, ClassicalRegister\n",
    "\n",
    "def Circuit(U):\n",
    "    \"\"\" Construe el circuito que implementa el algoritmo de Deutsch para un oraculo U\n",
    "    \"\"\"\n",
    "    \n",
    "    qr = QuantumRegister(2)\n",
    "    cr = ClassicalRegister(2)\n",
    "    \n",
    "    qc = QuantumCircuit(qr, cr, name='q')\n",
    "    \n",
    "    # Inicializacion\n",
    "    qc.h(qr)\n",
    "    qc.z(qr[1])\n",
    "    qc.barrier()\n",
    "    \n",
    "    # Implementacion del oraculo\n",
    "    U(qc, qr)\n",
    "    qc.barrier()\n",
    "    \n",
    "    # Medicion\n",
    "    qc.h(qr[0])\n",
    "    qc.measure(qr, cr)\n",
    "    \n",
    "    return qc"
   ]
  },
  {
   "cell_type": "markdown",
   "metadata": {},
   "source": [
    "<a id='dirac'></a>\n",
    "<table width=\"100%\">\n",
    "    <td style=\"font-size:30px;font-family:Helvetica;text-align:left;background-color:rgba(12, 43, 337, 0.3);\">\n",
    "<b>Definición del oráculo</b>\n",
    "</table>   "
   ]
  },
  {
   "cell_type": "markdown",
   "metadata": {},
   "source": [
    "Necesitamos dos oráculos diferentes: uno para la función constante y otro para la balanceada.\n",
    "\n",
    "- <b>Función constante</b>. Este caso es trivial, ya que es suficiente con tomar la identidad. Es el caso equivalente a que $f(x) = 0, \\, \\forall x$.\n",
    "\n",
    "- <b>Función balanceada</b>. Un ejemplo para implementar este oráculo es una puerta CNOT, ya que genera una función de la forma $f(x) = \\neg x$, lo cual garantiza que $f(0) = \\neg f(1)$; y la suma módulo dos al segundo cúbit\n",
    "\n",
    "A continuación definimos estes dos operadores."
   ]
  },
  {
   "cell_type": "code",
   "execution_count": 4,
   "metadata": {},
   "outputs": [],
   "source": [
    "def U_constante(qc, qr):\n",
    "    \n",
    "    return qc\n",
    "\n",
    "\n",
    "def U_balanceada(qc, qr):\n",
    "    \n",
    "    qc.cx(qr[0], qr[1])\n",
    "    \n",
    "    return qc"
   ]
  },
  {
   "cell_type": "code",
   "execution_count": 5,
   "metadata": {},
   "outputs": [
    {
     "data": {
      "image/png": "[encoded data removed]",
      "text/plain": [
       "<Figure size 520.833x204.68 with 1 Axes>"
      ]
     },
     "execution_count": 5,
     "metadata": {},
     "output_type": "execute_result"
    }
   ],
   "source": [
    "qc = Circuit(U_balanceada)\n",
    "\n",
    "qc.draw(output='mpl')"
   ]
  },
  {
   "cell_type": "markdown",
   "metadata": {},
   "source": [
    "<a id='dirac'></a>\n",
    "<table width=\"100%\">\n",
    "    <td style=\"font-size:30px;font-family:Helvetica;text-align:left;background-color:rgba(12, 43, 337, 0.3);\">\n",
    "<b>Ejecución </b>\n",
    "</table>   "
   ]
  },
  {
   "cell_type": "markdown",
   "metadata": {},
   "source": [
    "Ahora que ya hemos definido nuestro circuíto podemos ejecutarlo en el simulador de IBM."
   ]
  },
  {
   "cell_type": "code",
   "execution_count": 4,
   "metadata": {},
   "outputs": [
    {
     "data": {
      "text/plain": [
       "[QasmSimulator(\n",
       " backend_name='qasm_simulator', provider=AerProvider()),\n",
       " StatevectorSimulator(\n",
       " backend_name='statevector_simulator', provider=AerProvider()),\n",
       " UnitarySimulator(\n",
       " backend_name='unitary_simulator', provider=AerProvider()),\n",
       " PulseSimulator(\n",
       " backend_name='pulse_simulator', provider=AerProvider())]"
      ]
     },
     "execution_count": 4,
     "metadata": {},
     "output_type": "execute_result"
    }
   ],
   "source": [
    "from qiskit import Aer, execute\n",
    "\n",
    "Aer.backends()"
   ]
  },
  {
   "cell_type": "code",
   "execution_count": 5,
   "metadata": {},
   "outputs": [],
   "source": [
    "backend = Aer.get_backend('qasm_simulator')\n",
    "job     = execute(qc, backend, shots = 1024)\n",
    "result  = job.result()\n",
    "counts  = result.get_counts()"
   ]
  },
  {
   "cell_type": "markdown",
   "metadata": {},
   "source": [
    "Definimos una función que obtenga el número de cuentas para cada cúbit."
   ]
  },
  {
   "cell_type": "code",
   "execution_count": 6,
   "metadata": {},
   "outputs": [],
   "source": [
    "def get_counts(counts):\n",
    "    \n",
    "    res0 = sum([list(counts.items())[i][-1] for i in range(len(counts.items())) if list(counts.items())[i][0][1] == '0'])\n",
    "    res1 = sum([list(counts.items())[i][-1] for i in range(len(counts.items())) if list(counts.items())[i][0][1] == '1'])\n",
    "    c    = {'0' : res0, '1' : res1}\n",
    "    \n",
    "    if c['0'] > c['1']:\n",
    "        print('La función es constante con una probabilidad de %.3f' %(c['0'] / (c['0'] + c['1'])))\n",
    "    else:\n",
    "        print('La función es balanceada con una probabilidad de %.3f' %(c['1'] / (c['0'] + c['1'])))\n",
    "\n",
    "    return c"
   ]
  },
  {
   "cell_type": "code",
   "execution_count": 7,
   "metadata": {},
   "outputs": [
    {
     "name": "stdout",
     "output_type": "stream",
     "text": [
      "La función es balanceada con una probabilidad de 1.000\n"
     ]
    }
   ],
   "source": [
    "count = get_counts(counts)"
   ]
  },
  {
   "cell_type": "code",
   "execution_count": 8,
   "metadata": {},
   "outputs": [
    {
     "data": {
      "image/png": "[encoded data removed]",
      "text/plain": [
       "<Figure size 504x360 with 1 Axes>"
      ]
     },
     "execution_count": 8,
     "metadata": {},
     "output_type": "execute_result"
    }
   ],
   "source": [
    "from qiskit.tools.visualization import plot_histogram\n",
    "\n",
    "plot_histogram(count)"
   ]
  },
  {
   "cell_type": "markdown",
   "metadata": {},
   "source": [
    "Veamos ahora lo que obtenemos para el caso de una función constante."
   ]
  },
  {
   "cell_type": "code",
   "execution_count": 9,
   "metadata": {},
   "outputs": [
    {
     "data": {
      "image/png": "[encoded data removed]",
      "text/plain": [
       "<Figure size 460.778x204.68 with 1 Axes>"
      ]
     },
     "execution_count": 9,
     "metadata": {},
     "output_type": "execute_result"
    }
   ],
   "source": [
    "qc = Circuit(U_constante)\n",
    "\n",
    "qc.draw(output='mpl')"
   ]
  },
  {
   "cell_type": "code",
   "execution_count": 10,
   "metadata": {},
   "outputs": [
    {
     "name": "stdout",
     "output_type": "stream",
     "text": [
      "La función es constante con una probabilidad de 1.000\n"
     ]
    }
   ],
   "source": [
    "backend = Aer.get_backend('qasm_simulator')\n",
    "job     = execute(qc, backend, shots = 1024)\n",
    "result  = job.result()\n",
    "counts  = result.get_counts()\n",
    "\n",
    "count = get_counts(counts)"
   ]
  },
  {
   "cell_type": "code",
   "execution_count": 11,
   "metadata": {},
   "outputs": [
    {
     "data": {
      "image/png": "[encoded data removed]",
      "text/plain": [
       "<Figure size 504x360 with 1 Axes>"
      ]
     },
     "execution_count": 11,
     "metadata": {},
     "output_type": "execute_result"
    }
   ],
   "source": [
    "plot_histogram(count)"
   ]
  },
  {
   "cell_type": "markdown",
   "metadata": {},
   "source": [
    "## Ejecución del circuito en un computador cuántico real"
   ]
  },
  {
   "cell_type": "markdown",
   "metadata": {},
   "source": [
    "Para terminar vamos a ver que resultado obtenemos para la ejecución del circuito en un computador cuántico real para el caso del oráculo con la función constante."
   ]
  },
  {
   "cell_type": "code",
   "execution_count": 12,
   "metadata": {},
   "outputs": [
    {
     "data": {
      "image/png": "[encoded data removed]",
      "text/plain": [
       "<Figure size 473.904x204.68 with 1 Axes>"
      ]
     },
     "execution_count": 12,
     "metadata": {},
     "output_type": "execute_result"
    }
   ],
   "source": [
    "qc = Circuit(U_constante)\n",
    "\n",
    "qc.draw(output='mpl')"
   ]
  },
  {
   "cell_type": "code",
   "execution_count": 13,
   "metadata": {},
   "outputs": [
    {
     "name": "stderr",
     "output_type": "stream",
     "text": [
      "/home/usuario/anaconda3/lib/python3.8/site-packages/qiskit/providers/ibmq/ibmqfactory.py:192: UserWarning: Timestamps in IBMQ backend properties, jobs, and job results are all now in local time instead of UTC.\n",
      "  warnings.warn('Timestamps in IBMQ backend properties, jobs, and job results '\n"
     ]
    },
    {
     "data": {
      "text/plain": [
       "[<IBMQSimulator('ibmq_qasm_simulator') from IBMQ(hub='ibm-q', group='open', project='main')>,\n",
       " <IBMQBackend('ibmqx2') from IBMQ(hub='ibm-q', group='open', project='main')>,\n",
       " <IBMQBackend('ibmq_16_melbourne') from IBMQ(hub='ibm-q', group='open', project='main')>,\n",
       " <IBMQBackend('ibmq_armonk') from IBMQ(hub='ibm-q', group='open', project='main')>,\n",
       " <IBMQBackend('ibmq_athens') from IBMQ(hub='ibm-q', group='open', project='main')>,\n",
       " <IBMQBackend('ibmq_santiago') from IBMQ(hub='ibm-q', group='open', project='main')>,\n",
       " <IBMQBackend('ibmq_lima') from IBMQ(hub='ibm-q', group='open', project='main')>,\n",
       " <IBMQBackend('ibmq_belem') from IBMQ(hub='ibm-q', group='open', project='main')>,\n",
       " <IBMQBackend('ibmq_quito') from IBMQ(hub='ibm-q', group='open', project='main')>,\n",
       " <IBMQSimulator('simulator_statevector') from IBMQ(hub='ibm-q', group='open', project='main')>,\n",
       " <IBMQSimulator('simulator_mps') from IBMQ(hub='ibm-q', group='open', project='main')>,\n",
       " <IBMQSimulator('simulator_extended_stabilizer') from IBMQ(hub='ibm-q', group='open', project='main')>,\n",
       " <IBMQSimulator('simulator_stabilizer') from IBMQ(hub='ibm-q', group='open', project='main')>,\n",
       " <IBMQBackend('ibmq_manila') from IBMQ(hub='ibm-q', group='open', project='main')>]"
      ]
     },
     "execution_count": 13,
     "metadata": {},
     "output_type": "execute_result"
    }
   ],
   "source": [
    "from qiskit import IBMQ\n",
    "\n",
    "IBMQ.load_account()\n",
    "\n",
    "provider = IBMQ.get_provider(hub='ibm-q')\n",
    "provider.backends()"
   ]
  },
  {
   "cell_type": "code",
   "execution_count": 14,
   "metadata": {},
   "outputs": [
    {
     "name": "stdout",
     "output_type": "stream",
     "text": [
      "La función es constante con una probabilidad de 0.995\n"
     ]
    }
   ],
   "source": [
    "backend = provider.get_backend('ibmq_belem')\n",
    "job     = execute(qc, backend, shots = 1024)\n",
    "result  = job.result()\n",
    "counts  = result.get_counts()\n",
    "\n",
    "count = get_counts(counts)"
   ]
  },
  {
   "cell_type": "code",
   "execution_count": 15,
   "metadata": {},
   "outputs": [
    {
     "data": {
      "image/png": "[encoded data removed]",
      "text/plain": [
       "<Figure size 504x360 with 1 Axes>"
      ]
     },
     "execution_count": 15,
     "metadata": {},
     "output_type": "execute_result"
    }
   ],
   "source": [
    "plot_histogram(count)"
   ]
  },
  {
   "cell_type": "markdown",
   "metadata": {},
   "source": [
    "Vemos como en este caso obtenemos que la función es constante para la mayoría de las ejecuciones. Pero también aparecen casos en los cuales se predice lo contrario debido a las diferentes fuentes de error del computador cuántico que usamos."
   ]
  },
  {
   "cell_type": "code",
   "execution_count": null,
   "metadata": {},
   "outputs": [],
   "source": []
  }
 ],
 "metadata": {
  "kernelspec": {
   "display_name": "Python 3",
   "language": "python",
   "name": "python3"
  },
  "language_info": {
   "codemirror_mode": {
    "name": "ipython",
    "version": 3
   },
   "file_extension": ".py",
   "mimetype": "text/x-python",
   "name": "python",
   "nbconvert_exporter": "python",
   "pygments_lexer": "ipython3",
   "version": "3.7.10"
  },
  "varInspector": {
   "cols": {
    "lenName": 16,
    "lenType": 16,
    "lenVar": 40
   },
   "kernels_config": {
    "python": {
     "delete_cmd_postfix": "",
     "delete_cmd_prefix": "del ",
     "library": "var_list.py",
     "varRefreshCmd": "print(var_dic_list())"
    },
    "r": {
     "delete_cmd_postfix": ") ",
     "delete_cmd_prefix": "rm(",
     "library": "var_list.r",
     "varRefreshCmd": "cat(var_dic_list()) "
    }
   },
   "types_to_exclude": [
    "module",
    "function",
    "builtin_function_or_method",
    "instance",
    "_Feature"
   ],
   "window_display": false
  }
 },
 "nbformat": 4,
 "nbformat_minor": 4
}
