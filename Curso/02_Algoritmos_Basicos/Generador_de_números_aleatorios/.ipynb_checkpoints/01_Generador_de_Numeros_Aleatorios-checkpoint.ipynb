{
 "cells": [
  {
   "cell_type": "markdown",
   "metadata": {},
   "source": [
    "<table width=\"100%\"><td style=\"font-size:22px;font-style:italic;text-align:right;\">\n",
    " Algoritmos básicos   </td></table>\n",
    " \n",
    " $ \\newcommand{\\bra}[1]{\\langle #1|} $\n",
    "$ \\newcommand{\\ket}[1]{|#1\\rangle} $\n",
    "$ \\newcommand{\\braket}[2]{\\langle #1|#2\\rangle} $\n",
    "$ \\newcommand{\\i}{{\\color{blue} i}}$ \n",
    "$ \\newcommand{\\Hil}{{\\mathbb H}}$\n",
    "$ \\newcommand{\\bemat}{\\begin{matrix}} $\n",
    "$ \\newcommand{\\enmat}{\\end{matrix}} $"
   ]
  },
  {
   "cell_type": "markdown",
   "metadata": {
    "heading_collapsed": true
   },
   "source": [
    "### Preámbulo"
   ]
  },
  {
   "cell_type": "markdown",
   "metadata": {
    "hidden": true
   },
   "source": [
    "<table width=\"100%\"><tr><td style=\"color:#bbbbbb;background-color:#ffffff;font-size:11px;font-style:italic;text-align:right;\"> macros </td></tr></table>\n",
    "$ \\newcommand{\\bra}[1]{\\langle #1|} $\n",
    "$ \\newcommand{\\ket}[1]{|#1\\rangle} $\n",
    "$ \\newcommand{\\braket}[2]{\\langle #1|#2\\rangle} $\n",
    "$ \\newcommand{\\dot}[2]{ #1 \\cdot #2} $\n",
    "$ \\newcommand{\\biginner}[2]{\\left\\langle #1,#2\\right\\rangle} $\n",
    "$ \\newcommand{\\mymatrix}[2]{\\left( \\begin{array}{#1} #2\\end{array} \\right)} $\n",
    "$ \\newcommand{\\myvector}[1]{\\mymatrix{c}{#1}} $\n",
    "$ \\newcommand{\\myrvector}[1]{\\mymatrix{r}{#1}} $\n",
    "$ \\newcommand{\\mypar}[1]{\\left( #1 \\right)} $\n",
    "$ \\newcommand{\\mybigpar}[1]{ \\Big( #1 \\Big)} $\n",
    "$ \\newcommand{\\sqrttwo}{\\frac{1}{\\sqrt{2}}} $\n",
    "$ \\newcommand{\\dsqrttwo}{\\dfrac{1}{\\sqrt{2}}} $\n",
    "$ \\newcommand{\\onehalf}{\\frac{1}{2}} $\n",
    "$ \\newcommand{\\donehalf}{\\dfrac{1}{2}} $\n",
    "$ \\newcommand{\\hadamard}{ \\mymatrix{rr}{ \\sqrttwo & \\sqrttwo \\\\ \\sqrttwo & -\\sqrttwo }} $\n",
    "$ \\newcommand{\\vzero}{\\myvector{1\\\\0}} $\n",
    "$ \\newcommand{\\vone}{\\myvector{0\\\\1}} $\n",
    "$ \\newcommand{\\stateplus}{\\myvector{ \\sqrttwo \\\\  \\sqrttwo } } $\n",
    "$ \\newcommand{\\stateminus}{ \\myrvector{ \\sqrttwo \\\\ -\\sqrttwo } } $\n",
    "$ \\newcommand{\\myarray}[2]{ \\begin{array}{#1}#2\\end{array}} $\n",
    "$ \\newcommand{\\X}{ \\mymatrix{cc}{0 & 1 \\\\ 1 & 0}  } $\n",
    "$ \\newcommand{\\Z}{ \\mymatrix{rr}{1 & 0 \\\\ 0 & -1}  } $\n",
    "$ \\newcommand{\\Htwo}{ \\mymatrix{rrrr}{ \\frac{1}{2} & \\frac{1}{2} & \\frac{1}{2} & \\frac{1}{2} \\\\ \\frac{1}{2} & -\\frac{1}{2} & \\frac{1}{2} & -\\frac{1}{2} \\\\ \\frac{1}{2} & \\frac{1}{2} & -\\frac{1}{2} & -\\frac{1}{2} \\\\ \\frac{1}{2} & -\\frac{1}{2} & -\\frac{1}{2} & \\frac{1}{2} } } $\n",
    "$ \\newcommand{\\CNOT}{ \\mymatrix{cccc}{1 & 0 & 0 & 0 \\\\ 0 & 1 & 0 & 0 \\\\ 0 & 0 & 0 & 1 \\\\ 0 & 0 & 1 & 0} } $\n",
    "$ \\newcommand{\\norm}[1]{ \\left\\lVert #1 \\right\\rVert } $\n",
    "$ \\newcommand{\\pstate}[1]{ \\lceil \\mspace{-1mu} #1 \\mspace{-1.5mu} \\rfloor } $\n",
    "$ \\newcommand{\\i}{{\\color{blue} i}} $ "
   ]
  },
  {
   "cell_type": "code",
   "execution_count": 2,
   "metadata": {
    "hidden": true
   },
   "outputs": [],
   "source": [
    "from qiskit import Aer, execute, QuantumCircuit, QuantumRegister, ClassicalRegister "
   ]
  },
  {
   "cell_type": "markdown",
   "metadata": {},
   "source": [
    "# Generador de Números Aleatorios"
   ]
  },
  {
   "cell_type": "markdown",
   "metadata": {},
   "source": [
    "Un ejemplo práctico sencillo con el que ver el potencial del uso de puertas en nuestros circuitos es la generación de números aleatorios puros. Como ya vimos, la puerta de Hadamard realiza un cambio de base tal que $\\ket{0} \\rightarrow \\ket{+} = \\frac{\\ket{0} + \\ket{1}}{\\sqrt{2}}$ y $\\ket{1} \\rightarrow \\ket{-} = \\frac{\\ket{0} - \\ket{1}}{\\sqrt{2}}$. Esta superposición podemos aprovecharla para obtener con mismas probabilidades o bien un $\\ket{0}$ o un $\\ket{1}$ realizando una medida sobre la base $Z$. Construyamos este ejemplo.\n",
    "\n",
    "Comencemos iniciando $n$ cúbits en el estado $\\ket{0}$ en nuestro circuito sobre el que aplicaremos puertas de Hadamard $H$, obteniendo así la superposición $\\ket{+}$ deseada. Finalmente, realizaremos medidas sobre $Z$ por cada cúbit registrado, colapsando la función de onda asociada a cada cúbit o bien a $\\ket{0}$ o $\\ket{1}$ con igual probabilidad."
   ]
  },
  {
   "cell_type": "code",
   "execution_count": 3,
   "metadata": {},
   "outputs": [
    {
     "data": {
      "image/png": "[encoded data removed]",
      "text/plain": [
       "<Figure size 327.397x264.88 with 1 Axes>"
      ]
     },
     "execution_count": 3,
     "metadata": {},
     "output_type": "execute_result"
    }
   ],
   "source": [
    "n = 3 # Indica el número de cúbits que consideres\n",
    "q = QuantumRegister(n, 'q')\n",
    "c = ClassicalRegister(n, 'c')\n",
    "circuit = QuantumCircuit(q, c)\n",
    "circuit.h(q) # Aplicar puerta de Hadamard a todos los cúbits\n",
    "circuit.measure(q, c) # Medir todos los cúbits\n",
    "\n",
    "circuit.draw(output = 'mpl')"
   ]
  },
  {
   "cell_type": "markdown",
   "metadata": {},
   "source": [
    "Para poder realizar localmente esta simulación, ejecutamos el siguiente código. Devolverá una concatenación de ceros y unos que podremos transformar a un número entero, pasando de una notación binaria a una decimal. Con este método obtendremos números enteros aleatorios comprendidos en el intervalo $[0, 2^n-1]$, siendo $n$ el número de cúbits registrados."
   ]
  },
  {
   "cell_type": "code",
   "execution_count": 9,
   "metadata": {},
   "outputs": [
    {
     "name": "stdout",
     "output_type": "stream",
     "text": [
      "El número aleatorio obtenido es 6. ¡Prueba a ejecutar esta celda otra vez!\n"
     ]
    }
   ],
   "source": [
    "backend = Aer.get_backend('statevector_simulator')\n",
    "job = execute(circuit, backend, shots = 1)\n",
    "result = job.result().get_counts()\n",
    "decimal = int(list(result.keys())[0], 2) # Pasamos de notación binaria a decimal\n",
    "print(f'El número aleatorio obtenido es {decimal}. ¡Prueba a ejecutar esta celda otra vez!')"
   ]
  },
  {
   "cell_type": "markdown",
   "metadata": {},
   "source": [
    "Podemos ir más allá e incluso intentar realizar una simulación Monte Carlo naif con la que obtener una estimación del área de una subregión. Obtendremos dos números aleatorios por cada iteración los cuales definirán una posición $(x, y)$ que posteriormente evaluaremos, viendo si está dentro o no de la subregión indicada."
   ]
  },
  {
   "cell_type": "code",
   "execution_count": 4,
   "metadata": {},
   "outputs": [
    {
     "name": "stdout",
     "output_type": "stream",
     "text": [
      "El área estimada de la subregión es 15.808 u**2.\n",
      "El área exacta es 16.0 u**2.\n"
     ]
    },
    {
     "data": {
      "image/png": "[encoded data removed]",
      "text/plain": [
       "<Figure size 720x720 with 2 Axes>"
      ]
     },
     "metadata": {
      "needs_background": "light"
     },
     "output_type": "display_data"
    }
   ],
   "source": [
    "import numpy as np\n",
    "import matplotlib.pyplot as plt\n",
    "from mpl_toolkits.axes_grid1 import make_axes_locatable\n",
    "\n",
    "def naive_MC(counts, n = n, circuit = circuit, backend = backend):\n",
    "\n",
    "    matrix = np.zeros([2 ** n, 2 ** n])\n",
    "    inside = 0\n",
    "\n",
    "    for _ in range(counts):\n",
    "        job_x = execute(circuit, backend, shots = 1)\n",
    "        job_y = execute(circuit, backend, shots = 1)\n",
    "\n",
    "        # Obtenemos las coordenadas x e y\n",
    "        x = int(list(job_x.result().get_counts().keys())[0], 2)\n",
    "        y = int(list(job_y.result().get_counts().keys())[0], 2)\n",
    "        matrix[x, y] += 1\n",
    "\n",
    "        # Analizamos si el punto obtenido está dentro o no\n",
    "        if x < 2**(n - 1) and y < 2**(n - 1): inside += 1\n",
    "\n",
    "    rate = inside / counts # Número de puntos que cayeron dentro vs. el total\n",
    "    print(f'El área estimada de la subregión es {rate * 2 ** (2 * n)} u**2.')\n",
    "    print(f'El área exacta es {0.25 * 2 ** (2 * n)} u**2.')\n",
    "\n",
    "    fig, ax = plt.subplots(1, 1, figsize = (10, 10))\n",
    "    im = ax.matshow(matrix)\n",
    "    ax.set_xlabel('$x$')\n",
    "    ax.set_ylabel('$y$')\n",
    "    \n",
    "    # Líneas con las que marcar la subregión\n",
    "    plt.vlines(-0.5, -0.5, 2 ** (n - 1) - 0.5, 'r', linewidths = 3)\n",
    "    plt.vlines(2 ** (n - 1) - 0.5, -0.5, 2 ** (n - 1) - 0.5, 'r', linewidths = 3)\n",
    "    plt.hlines(-0.5, -0.5, 2 ** (n - 1) - 0.5, 'r', linewidths = 3)\n",
    "    plt.hlines(2 ** (n - 1) - 0.5, -0.5, 2 ** (n - 1) - 0.5, 'r', linewidths = 3)\n",
    "    \n",
    "    divider = make_axes_locatable(ax)\n",
    "    cax = divider.append_axes(\"right\", size=\"5%\", pad=0.05)\n",
    "    plt.colorbar(im, cax = cax)\n",
    "    plt.show()\n",
    "\n",
    "counts = 1000 # Número de iteraciones. A mayor valor, mayor tiempo de espera\n",
    "naive_MC(counts)"
   ]
  },
  {
   "cell_type": "code",
   "execution_count": null,
   "metadata": {},
   "outputs": [],
   "source": []
  }
 ],
 "metadata": {
  "kernelspec": {
   "display_name": "Python 3",
   "language": "python",
   "name": "python3"
  },
  "language_info": {
   "codemirror_mode": {
    "name": "ipython",
    "version": 3
   },
   "file_extension": ".py",
   "mimetype": "text/x-python",
   "name": "python",
   "nbconvert_exporter": "python",
   "pygments_lexer": "ipython3",
   "version": "3.8.5"
  },
  "varInspector": {
   "cols": {
    "lenName": 16,
    "lenType": 16,
    "lenVar": 40
   },
   "kernels_config": {
    "python": {
     "delete_cmd_postfix": "",
     "delete_cmd_prefix": "del ",
     "library": "var_list.py",
     "varRefreshCmd": "print(var_dic_list())"
    },
    "r": {
     "delete_cmd_postfix": ") ",
     "delete_cmd_prefix": "rm(",
     "library": "var_list.r",
     "varRefreshCmd": "cat(var_dic_list()) "
    }
   },
   "types_to_exclude": [
    "module",
    "function",
    "builtin_function_or_method",
    "instance",
    "_Feature"
   ],
   "window_display": false
  }
 },
 "nbformat": 4,
 "nbformat_minor": 5
}
