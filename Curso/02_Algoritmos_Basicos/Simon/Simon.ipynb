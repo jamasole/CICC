{
 "cells": [
  {
   "cell_type": "markdown",
   "id": "aecfda59",
   "metadata": {},
   "source": [
    "# Algoritmo de Simon\n",
    "\n",
    "Autor: Pablo Martínez Crespo"
   ]
  },
  {
   "cell_type": "markdown",
   "id": "ec15af40",
   "metadata": {},
   "source": [
    "## Introducción\n",
    "\n",
    "El algoritmo de Simon se emplea para determinar si una función es biyectiva (es decir, correspondencia 1 a 1 entre variable independiente y dependiente) o periódica, así como para calcular el periodo.\n",
    "\n",
    "Sea una función $f: \\{0,1\\}^n\\rightarrow \\{0,1\\}^n$ que cumpla que $f(x)=f(y)\\Leftrightarrow x=y\\oplus s$ para todo $x,y$, siendo $s$ un periodo. Nuestro objetivo es encontrar $s$. Para ello, a diferencia del resto de algoritmos vistos hasta ahora, en este caso necesitamos ejecutar varias veces el circuito para ir formando un sistema de ecuaciones que nos permita calcular $s$."
   ]
  },
  {
   "source": [
    "## Algoritmo\n",
    "\n",
    "Inicializamos dos registros de $n$ qubits y ponemos el primero de ellos en estado de máxima superposición:\n",
    "\n",
    "\\begin{equation}\n",
    "{\n",
    "    \\left|\\psi_0\\right>=\\left|0\\right>^{\\otimes n}\\left|0\\right>^{\\otimes n}\\xrightarrow{H^{\\otimes n}\\otimes I^{\\otimes n}}\\left|\\psi_1\\right>=\\frac{1}{\\sqrt{2^n}}\\sum_{x=0}^{2^n-1}\\left|x\\right>\\left|0\\right>.\n",
    "}\n",
    "\\end{equation}\n",
    "Nótese que en el miembro de la derecha estamos usando notación decimal. Aplicando el oráculo adecuado, podemos generar el siguiente estado:\n",
    "\\begin{equation}\n",
    "{\n",
    "O_f\\left|\\psi_1\\right>=\\frac{1}{\\sqrt{2^n}}\\sum_{x=0}^{2^n-1}\\left|x\\right>\\left|f(x)\\right>=\\left|\\psi_2\\right>.\n",
    "}\n",
    "\\end{equation}\n",
    "En este punto, podemos tomar dos caminos: medir o no medir sobre el segundo registro. El resto del algoritmo no cambia en función de esto, pero explicaremos el caso en el que se toma la medida por ser más aclaratoria.\n",
    "\n",
    "### Midiendo sobre el segundo registro\n",
    "\n",
    "Obtendremos un valor $f(x)$ que puede corresponder a $x$ o a $y=x\\oplus s$, por lo que el primer registro estará en superposición de esos estados:\n",
    "\\begin{equation}\n",
    "{\n",
    "    \\left|\\psi_3\\right>=\\frac{1}{\\sqrt{2}}\\left(\\left|x\\right>+\\left|y\\right>\\right).\n",
    "}\n",
    "\\end{equation}\n",
    "\n",
    "Recordemos que $x$ e $y$ son strings de $n$ bits. Seguidamente, aplicamos la puerta de Hadamard $H^{\\otimes n}$. Una expresión de esta puerta que puede ser útil en este caso es:\n",
    "\\begin{equation}\n",
    "{\n",
    "    H^{\\otimes n}=\\frac{1}{\\sqrt{2^n}}\\sum_{i=0}^{2^n-1}\\sum_{j=0}^{2^n-1}(-1)^{i·j}\\left|i\\right>\\left<j\\right|,\n",
    "}\n",
    "\\end{equation}\n",
    "(donde $i$ y $j$ son strings de $n$ bits) de modo que el siguiente estado sería:\n",
    "\\begin{equation}{\n",
    "    \\left|\\psi_4\\right>=\\frac{1}{\\sqrt{2^{n+1}}}\\sum_{i=0}^{2^n-1}\\sum_{j=0}^{2^n-1}(-1)^{i·j}\\left|i\\right>\\left<j\\right|\\left(\\left|x\\right>+\\left|y\\right>\\right)=\\frac{1}{\\sqrt{2^{n+1}}}\\sum_{i=0}^{2^n-1}[(-1)^{i·x}+(-1)^{i·y}]\\left|i\\right>,\n",
    "}\\end{equation}\n",
    "ya que, con $i$ fijo, los únicos valores del sumatorio en $j$ que no se anulan son los correspondientes a $x$ e $y$. \n",
    "\n",
    "Observando un poco, nos daremos cuenta de que los únicos valores que podemos recibir si tomamos una medida son aquellos que cumplan $(-1)^{i·x}=(-1)^{i·y}$, ya que en caso contrario se anulará la amplitud del estado $\\left|i\\right>$. Esta condición tiene una consecuencia:\n",
    "\n",
    "\\begin{equation}{\n",
    "    (-1)^{i·x}=(-1)^{i·y} \\\\\n",
    "    x·i=y·i \\\\\n",
    "    x·i=(x\\oplus s)·i \\\\\n",
    "    x·i=x·i\\oplus s·i \\\\\n",
    "    s·i=0 \\mod 2.\n",
    "}\\end{equation}\n",
    "\n",
    "Es decir, todas las medidas que tomemos nos darán un valor de $i$ cuyo producto con $s$ sea $0 \\mod 2$. De este modo podemos obtener el siguiente sistema de ecuaciones\n",
    "\\begin{equation}{\n",
    "    \\left\\{\\begin{array}{cl} s·i_1=0 \\\\\n",
    "s·i_2 = 0 \\\\\n",
    ". \\\\\n",
    ". \\\\\n",
    ". \\\\\n",
    "s·i_n = 0 \n",
    "\\end{array}\n",
    "\\right.\n",
    "}\\end{equation}\n",
    "del cual se puede calcular $s$. Nótese que todas las $i$ de este sistema deben ser diferentes para que sea linealmente independiente y es posible obtener más de una vez la misma $i$ al medir, por lo que pueden ser necesarias más de $n$ iteraciones del circuito.\n",
    "\n",
    "Una vez resuelto el sistema y calculado el valor de $s$, nada nos asegura que esta $s$ no sea una cadena de 0s y 1s aleatoria, por lo que se debe comprobar que $f(0)=f(s)$. En caso de ser diferentes, $f$ es biyectiva.\n",
    "\n",
    "### Sin medir sobre el segundo registro\n",
    "\n",
    "Si no hubiésemos medido antes sobre el segundo registro, en lugar de $x$ e $y$ tras aplicar $H^{\\otimes n}$ tendríamos un sumatorio sobre todos los valores posibles tal que:\n",
    "\\begin{equation}{\n",
    "    \\left|\\psi_4\\right>=\\frac{1}{2^n}\\sum_{i=0}^{2^n-1}\\sum_{j=0}^{2^n-1}(-1)^{i·j}\\left|i\\right>\\left|f(j)\\right>\n",
    "}\\end{equation}\n",
    "(nos saltamos $\\left|\\psi_3\\right>$ para que quede claro el paralelismo entre ambos casos). Ahora, tendremos que las amplitudes de los estados tales que $f(j)=f(j\\oplus s)$ se suman. Es decir,\n",
    "\\begin{equation}{\n",
    "    \\left|i\\right>\\left|f(j)\\right>=\\left|i\\right>\\left|f(j\\oplus s)\\right>\n",
    "}\\end{equation}\n",
    "por lo que su amplitud será\n",
    "\\begin{equation}{\n",
    "    \\frac{1}{2^n}\\left[(-1)^{i·j}+(-1)^{i·(j\\oplus s)}\\right]=\\frac{1}{2^n}(-1)^{i·j}\\left[1+(-1)^{i·s}\\right]\n",
    "}\\end{equation}\n",
    "que debe cumplir que $i·s=0\\mod 2$ para no ser nula; es decir, la misma condición que en el caso anterior. Por tanto, desde aquí también habría que obtener el sistema de ecuaciones y comprobar la $s$ obtenida."
   ],
   "cell_type": "markdown",
   "metadata": {}
  },
  {
   "source": [
    "## Probabilidad de obtener un sistema linealmente independiente"
   ],
   "cell_type": "markdown",
   "metadata": {}
  },
  {
   "cell_type": "code",
   "execution_count": null,
   "metadata": {},
   "outputs": [],
   "source": []
  }
 ],
 "metadata": {
  "kernelspec": {
   "display_name": "Python 3",
   "language": "python",
   "name": "python3"
  },
  "language_info": {
   "codemirror_mode": {
    "name": "ipython",
    "version": 3
   },
   "file_extension": ".py",
   "mimetype": "text/x-python",
   "name": "python",
   "nbconvert_exporter": "python",
   "pygments_lexer": "ipython3",
   "version": "3.9.6"
  }
 },
 "nbformat": 4,
 "nbformat_minor": 5
}