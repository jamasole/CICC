{
 "cells": [
  {
   "cell_type": "markdown",
   "metadata": {},
   "source": [
    "<a id='biblio'></a>\n",
    "<img   src=\"./figuras/logo/TalentQ_LogoPosNegro.png\" align=center  width=\"120\"/>\n",
    "<br>\n",
    "\n",
    "<table width=\"100%\"><td style=\"font-size:42px;font-style:italic;text-align:right;background-color:rgba(0, 160, 120,0.6)\">\n",
    "Bibliografía </td></table>\n",
    "\n",
    "$ \\newcommand{\\bra}[1]{\\langle #1|} $\n",
    "$ \\newcommand{\\ket}[1]{|#1\\rangle} $\n",
    "$ \\newcommand{\\braket}[2]{\\langle #1|#2\\rangle} $\n",
    "$ \\newcommand{\\i}{{\\color{blue} i}} $ \n",
    "$ \\newcommand{\\Hil}{{\\cal H}} $\n",
    "$ \\newcommand{\\R}{{\\mathbb R}} $\n",
    "$ \\newcommand{\\C}{{\\mathbb C}} $\n",
    "$ \\newcommand{\\V}{{ V}} $"
   ]
  },
  {
   "cell_type": "markdown",
   "metadata": {},
   "source": [
    "## Formalismo matemático\n",
    "<a id='formal'></a>\n"
   ]
  },
  {
   "cell_type": "markdown",
   "metadata": {},
   "source": [
    "- Claude Cohen-Tannoudkji  and Bernard Diu, *Quantum Mechanics*, Wiley-VCH, Vol I, capítulo II\n",
    "\n",
    "- Michel Le Bellac, *Quantum Physics*,  Cambridge Univ. Press, capítulo 2\n",
    "\n",
    "- Summet Khatri and Mark M. Wilde, *Principles of Quantum Communication Theory: A Modern Approach*,(notes in progress), tema 2"
   ]
  },
  {
   "cell_type": "markdown",
   "metadata": {},
   "source": [
    "## Fundamentos de Mecánica Cuántica\n",
    "<a id='fundMC'></a>\n"
   ]
  },
  {
   "cell_type": "markdown",
   "metadata": {},
   "source": [
    "- Claude Cohen-Tannoudkji  and Bernard Diu, *Quantum Mechanics*, Vol I, capítulos I y III\n",
    "\n",
    "- Michel Le Bellac, *Quantum Physics*,  Cambridge Univ. Press, capítulos 1, 3 y 4.\n",
    "\n",
    "- M. Fayngold y V. Fayngold, *Quantum Mechanics and Quantum Information*, Wiley-VCH, 1982, capítulos 1-6\n"
   ]
  },
  {
   "cell_type": "markdown",
   "metadata": {},
   "source": [
    "## Elementos de computación cuántica"
   ]
  },
  {
   "cell_type": "markdown",
   "metadata": {},
   "source": [
    " **Básicos**:\n",
    "\n",
    "-  Radhika Vathsan, *Introduction to Quantum Physics and Information Processing*, CRC Press, A03-443. \n",
    "\n",
    "- G. Benenti, G. Casati y G. Strini, *Principles of Quantum Computation and Information, Vol 1*, World Scientific, \n",
    "\n",
    "- IBM, [*Learn Quantum Computing using Qiskit*](https://qiskit.org/textbook/)\n",
    "\n",
    "**Avanzados**:\n",
    "\n",
    "- Michael A. Nielsen and Isaac L. Chuang, *Quantum Computation and Quantum Information*, Cambridge. \n",
    "\n",
    "- Ronald de Wolf, *Quantum Computing*, [*Lectures Notes*](https://arxiv.org/pdf/1907.09415.pdf) \n",
    "\n",
    "- A. Yu. Kitaev, A.H. Shen y M.N. Vyalyi, *Classical and Quantum Computation*, American Mathematical Society,  1999\n"
   ]
  },
  {
   "cell_type": "markdown",
   "metadata": {},
   "source": [
    "## Algoritmos cuánticos\n",
    "<a id='algquant'></a>\n",
    "\n",
    "- The quantum algorithm zoo : https://quantumalgorithmzoo.org/"
   ]
  },
  {
   "cell_type": "code",
   "execution_count": null,
   "metadata": {},
   "outputs": [],
   "source": []
  }
 ],
 "metadata": {
  "kernelspec": {
   "display_name": "Python 3",
   "language": "python",
   "name": "python3"
  },
  "language_info": {
   "codemirror_mode": {
    "name": "ipython",
    "version": 3
   },
   "file_extension": ".py",
   "mimetype": "text/x-python",
   "name": "python",
   "nbconvert_exporter": "python",
   "pygments_lexer": "ipython3",
   "version": "3.8.5"
  },
  "varInspector": {
   "cols": {
    "lenName": 16,
    "lenType": 16,
    "lenVar": 40
   },
   "kernels_config": {
    "python": {
     "delete_cmd_postfix": "",
     "delete_cmd_prefix": "del ",
     "library": "var_list.py",
     "varRefreshCmd": "print(var_dic_list())"
    },
    "r": {
     "delete_cmd_postfix": ") ",
     "delete_cmd_prefix": "rm(",
     "library": "var_list.r",
     "varRefreshCmd": "cat(var_dic_list()) "
    }
   },
   "types_to_exclude": [
    "module",
    "function",
    "builtin_function_or_method",
    "instance",
    "_Feature"
   ],
   "window_display": false
  }
 },
 "nbformat": 4,
 "nbformat_minor": 5
}
