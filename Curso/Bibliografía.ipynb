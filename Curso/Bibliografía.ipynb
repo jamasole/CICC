{
 "cells": [
  {
   "cell_type": "markdown",
   "id": "e94d0cbc",
   "metadata": {},
   "source": [
    "<a id='biblio'></a>\n",
    "<img   src=\"./figuras/logo/TalentQ_LogoPosNegro.png\" align=center  width=\"120\"/>\n",
    "<br>\n",
    "\n",
    "<table width=\"100%\"><td style=\"font-size:42px;font-style:italic;text-align:right;background-color:rgba(0, 160, 120,0.6)\">\n",
    "Bibliografía </td></table>\n",
    "\n",
    "$ \\newcommand{\\bra}[1]{\\langle #1|} $\n",
    "$ \\newcommand{\\ket}[1]{|#1\\rangle} $\n",
    "$ \\newcommand{\\braket}[2]{\\langle #1|#2\\rangle} $\n",
    "$ \\newcommand{\\i}{{\\color{blue} i}} $ \n",
    "$ \\newcommand{\\Hil}{{\\cal H}} $\n",
    "$ \\newcommand{\\R}{{\\mathbb R}} $\n",
    "$ \\newcommand{\\C}{{\\mathbb C}} $\n",
    "$ \\newcommand{\\V}{{ V}} $"
   ]
  },
  {
   "cell_type": "markdown",
   "id": "d7a3ed22",
   "metadata": {},
   "source": [
    "## Formalismo matemático"
   ]
  },
  {
   "cell_type": "markdown",
   "id": "687c32a1",
   "metadata": {},
   "source": [
    "- Claude Cohen-Tannoudkji  and Bernard Diu, *Quantum Mechanics*, Wiley-VCH, Vol I, capítulo II\n",
    "\n",
    "\n",
    "- Michel Le Bellac, *Quantum Physics*,  Cambridge Univ. Press, capítulo 2\n",
    "\n",
    "\n",
    "- Summet Khatri and Mark M. Wilde, *Principles of Quantum Communication Theory: A Modern Approach*,(notes in progress), tema 2"
   ]
  },
  {
   "cell_type": "markdown",
   "id": "73695378",
   "metadata": {},
   "source": [
    "## Fundamentos de Mecánica Cuántica"
   ]
  },
  {
   "cell_type": "markdown",
   "id": "714da9e5",
   "metadata": {},
   "source": [
    "- Claude Cohen-Tannoudkji  and Bernard Diu, *Quantum Mechanics*, Vol I, capítulos I y III\n",
    "\n",
    "\n",
    "- Michel Le Bellac, *Quantum Physics*,  Cambridge Univ. Press, capítulos 1, 3 y 4.\n"
   ]
  },
  {
   "cell_type": "code",
   "execution_count": null,
   "id": "b0390671",
   "metadata": {},
   "outputs": [],
   "source": []
  }
 ],
 "metadata": {
  "kernelspec": {
   "display_name": "Python 3",
   "language": "python",
   "name": "python3"
  },
  "language_info": {
   "codemirror_mode": {
    "name": "ipython",
    "version": 3
   },
   "file_extension": ".py",
   "mimetype": "text/x-python",
   "name": "python",
   "nbconvert_exporter": "python",
   "pygments_lexer": "ipython3",
   "version": "3.7.10"
  },
  "varInspector": {
   "cols": {
    "lenName": 16,
    "lenType": 16,
    "lenVar": 40
   },
   "kernels_config": {
    "python": {
     "delete_cmd_postfix": "",
     "delete_cmd_prefix": "del ",
     "library": "var_list.py",
     "varRefreshCmd": "print(var_dic_list())"
    },
    "r": {
     "delete_cmd_postfix": ") ",
     "delete_cmd_prefix": "rm(",
     "library": "var_list.r",
     "varRefreshCmd": "cat(var_dic_list()) "
    }
   },
   "types_to_exclude": [
    "module",
    "function",
    "builtin_function_or_method",
    "instance",
    "_Feature"
   ],
   "window_display": false
  }
 },
 "nbformat": 4,
 "nbformat_minor": 5
}
