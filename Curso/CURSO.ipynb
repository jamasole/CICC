{
 "cells": [
  {
   "cell_type": "markdown",
   "metadata": {
    "slideshow": {
     "slide_type": "slide"
    }
   },
   "source": [
    "<img   src=\"figuras/logo/Logo_TalentQ.png\" align=center width=\"120\"/>\n",
    "\n",
    "<br>\n",
    "<table width=\"100%\"><td style=\" font_style:italic; font-size:40px;text-align:center;background-color:rgba(0, 160, 120,0.6)\">\n",
    "<div>\n",
    "Curso Básico de  Computación Cuántica \n",
    "</div>\n",
    "</td></table>\n",
    "\n",
    "<br>\n",
    "  \n",
    " \n",
    "$ \\newcommand{\\bra}[1]{\\langle #1|} $\n",
    "$ \\newcommand{\\ket}[1]{|#1\\rangle} $\n",
    "$ \\newcommand{\\braket}[2]{\\langle #1|#2\\rangle} $\n",
    "$ \\newcommand{\\i}{{\\color{blue} i}} $ \n",
    "$ \\newcommand{\\Hil}{{\\mathbb H}} $ \n"
   ]
  },
  {
   "cell_type": "code",
   "execution_count": 1,
   "metadata": {
    "slideshow": {
     "slide_type": "skip"
    }
   },
   "outputs": [],
   "source": [
    "%run ./macro_CURSO.py"
   ]
  },
  {
   "cell_type": "markdown",
   "metadata": {
    "slideshow": {
     "slide_type": "slide"
    }
   },
   "source": [
    "---\n",
    "\n",
    "<a id='dirac'></a>\n",
    "<table width=\"100%\">\n",
    "    <td style=\"font-size:25px;font-family:Helvetica;text-align:left;background-color:rgba(220, 190, 0,1.)\">\n",
    "<b>0. Fundamentos</b>\n",
    "</table>   \n",
    "\n",
    "\n",
    "\n",
    "\n",
    "---\n",
    "\n",
    "\n",
    "### 0.1. Matemáticas\n",
    "\n",
    "- [Números Complejos](00_Formalismo/01_Numeros_Complejos.ipynb#opbasi)  \n",
    ">- [Formas cartesiana y polar](00_Formalismo/01_Numeros_Complejos.ipynb#defi)\n",
    ">- [Operaciones Básicas](00_Formalismo/01_Numeros_Complejos.ipynb#opbasi)\n",
    ">- [Casos particulares]((00_Formalismo/01_Numeros_Complejos.ipynb#ejempnc)\n",
    "<br>        \n",
    "- [Vectores](00_Formalismo/01_Vectores.ipynb)  \n",
    ">- [Espacios Vectoriales](00_Formalismo/01_Vectores.ipynb#vecdefi) \n",
    ">- [Bases](00_Formalismo/01_Vectores.ipynb#Bases)\n",
    ">-  [Espacios de Hilbert](00_Formalismo/01_Vectores.ipynb#vecprodesc)   \n",
    "<br>\n",
    "- [Operadores](00_Formalismo/01_Operadores.ipynb) \n",
    ">- [Operadores y Matrices](00_Formalismo/01_Operadores.ipynb#opdefi) \n",
    ">- [Base de Operadores](00_Formalismo/01_Operadores.ipynb#prodext)\n",
    ">- [El Espacio L(H)](00_Formalismo/01_Operadores.ipynb#linh)\n",
    ">- [Clases de Operadores](00_Formalismo/01_Operadores.ipynb#optipos)\n",
    ">- [Conmutador, Traza](00_Formalismo/01_Operadores.ipynb#trazacom)\n",
    "<br>\n",
    "- [Autovalores y autovectores](00_Formalismo/01_Autovalores.ipynb) \n",
    ">- [Espectros de operadores](00_Formalismo/01_Autovalores.ipynb#especope)\n",
    ">- [Funciones de operadores](00_Formalismo/01_Autovalores.ipynb#funcope)\n",
    ">- [Matrices de Pauli](00_Formalismo/01_Autovalores.ipynb#paulis)\n",
    "<br>\n",
    "- [Probabilidades](00_Formalismo/01_Probabilidades.ipynb)\n",
    "\n",
    "\n",
    "\n",
    "### 0.2. Las reglas del juego\n",
    "\n",
    "- [Los axiomas](00_Formalismo/02_Axiomas.ipynb)  \n",
    "<br>\n",
    "- Evolución temporal  \n",
    "<br>\n",
    "- [Matriz densidad](00_Formalismo/02_MatrizDensidad.ipynb)  \n",
    "<br>\n",
    "- [Sistemas Multipartitos](00_Formalismo/02_Multipartitos.ipynb) \n",
    "---\n",
    "\n",
    "<a id='dirac'></a>\n",
    "<table width=\"100%\">\n",
    "    <td style=\"font-size:25px;font-family:Helvetica;text-align:left;background-color:rgba(220, 190, 0,1.);\">\n",
    "<b>1. Circuitos Cuánticos</b>\n",
    "</table>   \n",
    "  \n",
    "\n",
    "---\n",
    "\n",
    "### 1.1 Un cúbit\n",
    "\n",
    "- [Cúbits](01_Circuitos/111_Cubits.ipynb)   \n",
    "<br>\n",
    "- [Puertas simples](01_Circuitos/112_Puertas_Simples.ipynb)   \n",
    "<br>\n",
    "- [Espín de un electrón](01_Circuitos/113_Espin_electron.ipynb) \n",
    "<br>\n",
    "- [El arte de medir I](01_Circuitos/114_El_Arte_de_Medir_I.ipynb)\n",
    "<br>\n",
    "- [Desigualdades de Bell](01_Circuitos/115_Desig_Bell.ipynb)\n",
    "\n",
    "\n",
    "### 1.2 Muchos cúbits\n",
    "\n",
    "- [Multi-cúbits](01_Circuitos/121_Multicubits.ipynb)   \n",
    "<br>\n",
    "- [Puertas generales](01_Circuitos/122_Puertas_Multipartitas.ipynb)  \n",
    "<br>\n",
    "- [El arte de medir II](01_Circuitos/123_El_Arte_de_Medir_II.ipynb)\n",
    "<br>\n",
    "\n",
    "\n",
    "\n",
    "### 1.3 Circuitos Elementales\n",
    "\n",
    "- [Elementos básicos de circuitos cuánticos](01_Circuitos/131_Circuitos_Basicos.ipynb) \n",
    "<br>\n",
    "- [Entrelazamiento en acción: teleportación](01_Circuitos/132_Teleportacion.ipynb)\n",
    "<br>\n",
    "- [Funciones y Oráculos](01_Circuitos/133_Funciones.ipynb)\n",
    "\n",
    "\n",
    "---\n",
    "\n",
    "<a id='dirac'></a>\n",
    "<table width=\"100%\">\n",
    "    <td style=\"font-size:25px;font-family:Helvetica;text-align:left;background-color:rgba(220, 190, 0,1.);\">\n",
    "<b>2. Algoritmos Básicos</b>\n",
    "</table>   \n",
    "\n",
    "\n",
    "- [Generador de Números Aleatorios](02_Algoritmos_Basicos/Generador_de_números_aleatorios/01_Generador_de_Numeros_Aleatorios.ipynb)   \n",
    "<br>\n",
    "- [Algoritmo de Deutsch](02_Algoritmos_Basicos/Deutsch/AlgoritmoDeutsch.ipynb)  \n",
    "<br>\n",
    "- Algoritmo de Deutsch-Josza\n",
    "<br>\n",
    "- Algoritmo de Bernstein-Vazirani\n",
    "<br>\n",
    "- Algoritmo de Simon\n",
    "<br>\n",
    "- Transformada de Fourier\n",
    "<br>\n",
    "- Algoritmo de Grover\n",
    "<br>\n",
    "\n",
    "---\n",
    "\n",
    "<a id='dirac'></a>\n",
    "<table width=\"100%\">\n",
    "    <td style=\"font-size:25px;font-family:Helvetica;text-align:left;background-color:rgba(220, 190, 0,1.);\">\n",
    "<b>3. Aplicaciones de la Transformada de Fourier</b>\n",
    "</table>   \n",
    "\n",
    "- Algoritmo de Shor\n",
    "- Estimación de fase\n",
    "- Algoritmo HHL\n",
    "- Contaje Cuántico\n",
    "---\n",
    "\n",
    "<a id='dirac'></a>\n",
    "<table width=\"100%\">\n",
    "    <td style=\"font-size:25px;font-family:Helvetica;text-align:left;background-color:rgba(220, 190, 0,1.);\">\n",
    "<b>4. Corrección de errores</b>\n",
    "</table>   \n",
    "\n",
    " \n",
    "\n",
    "---\n",
    "\n",
    "- Algoritmo de Shor (9 cubits)\n",
    "\n",
    "---\n",
    "---"
   ]
  },
  {
   "cell_type": "code",
   "execution_count": null,
   "metadata": {},
   "outputs": [],
   "source": []
  }
 ],
 "metadata": {
  "kernelspec": {
   "display_name": "Python 3",
   "language": "python",
   "name": "python3"
  },
  "language_info": {
   "codemirror_mode": {
    "name": "ipython",
    "version": 3
   },
   "file_extension": ".py",
   "mimetype": "text/x-python",
   "name": "python",
   "nbconvert_exporter": "python",
   "pygments_lexer": "ipython3",
   "version": "3.8.5"
  },
  "varInspector": {
   "cols": {
    "lenName": 16,
    "lenType": 16,
    "lenVar": 40
   },
   "kernels_config": {
    "python": {
     "delete_cmd_postfix": "",
     "delete_cmd_prefix": "del ",
     "library": "var_list.py",
     "varRefreshCmd": "print(var_dic_list())"
    },
    "r": {
     "delete_cmd_postfix": ") ",
     "delete_cmd_prefix": "rm(",
     "library": "var_list.r",
     "varRefreshCmd": "cat(var_dic_list()) "
    }
   },
   "types_to_exclude": [
    "module",
    "function",
    "builtin_function_or_method",
    "instance",
    "_Feature"
   ],
   "window_display": false
  }
 },
 "nbformat": 4,
 "nbformat_minor": 2
}
