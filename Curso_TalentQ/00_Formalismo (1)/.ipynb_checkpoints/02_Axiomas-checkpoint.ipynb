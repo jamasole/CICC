{
 "cells": [
  {
   "cell_type": "markdown",
   "id": "fe43fa3a",
   "metadata": {
    "slideshow": {
     "slide_type": "slide"
    }
   },
   "source": [
    "\n",
    "<img   src=\"../figuras/logo/TalentQ_LogoPosNegro.png\" align=center  width=\"140\"/>\n",
    "\n",
    "<table width=\"100%\">\n",
    "<td style=\"font-size:50px;font-style:italic;text-align:right;background-color:rgba(0, 160, 120,0.6)\">\n",
    "Los Axiomas \n",
    "</td></table>\n",
    "$ \\newcommand{\\bra}[1]{\\langle #1|} $\n",
    "$ \\newcommand{\\ket}[1]{|#1\\rangle} $\n",
    "$ \\newcommand{\\braket}[2]{\\langle #1|#2\\rangle} $\n",
    "$ \\newcommand{\\i}{{\\color{blue} i}} $ \n",
    "$ \\newcommand{\\Hil}{{\\cal H}} $"
   ]
  },
  {
   "cell_type": "markdown",
   "id": "831ab744",
   "metadata": {
    "slideshow": {
     "slide_type": "subslide"
    }
   },
   "source": [
    "- [Axiomas](#axiomas) \n",
    "    \n",
    "- [Reconstrucción Estadística](#estadis)\n",
    "    "
   ]
  },
  {
   "cell_type": "markdown",
   "id": "73582100",
   "metadata": {},
   "source": [
    "<a id='axiomas'></a>\n",
    "<table width=\"100%\">\n",
    "    <td style=\"font-size:30px;font-family:Helvetica;text-align:left;background-color:rgba(12, 43, 337, 0.3);\">\n",
    "<b>Axiomas</b>\n",
    "</table> "
   ]
  },
  {
   "cell_type": "markdown",
   "id": "2a066f16",
   "metadata": {
    "slideshow": {
     "slide_type": "slide"
    }
   },
   "source": [
    "La Mecánica Cuántica es una teoría fundamentada en unos pilares axiomáticos cuya selección admite cierta flexibilidad. La más aceptada constituye lo que se denomina la <i>interpretación de Copenhagen</i>. \n",
    "\n",
    "Llega el momento de encajar todas las piezas y ver qué papel tienen todos los objetos matemáticos que hemos definido hasta ahora.\n"
   ]
  },
  {
   "cell_type": "markdown",
   "id": "1544dfda",
   "metadata": {
    "slideshow": {
     "slide_type": "slide"
    }
   },
   "source": [
    "#### $\\bullet$  I <span style=\"padding-left:5px\">  *Vector de estado*\n",
    "<div class=\"alert alert-block alert-info\">\n",
    "<p style=\"text-align: left ;color: navy;\"> \n",
    "En un instante, $t$, la máxima información accesible de un sistema  está asociada a\n",
    "un vector de estado $\\ket{\\psi}$, \n",
    " de norma unidad, $\\braket{\\psi}{\\psi}=1$,  \n",
    "perteneciente a un espacio de Hilbert $\\Hil$<br>\n",
    "</p>\n",
    "<div>"
   ]
  },
  {
   "cell_type": "markdown",
   "id": "01bca5b2",
   "metadata": {
    "slideshow": {
     "slide_type": "subslide"
    }
   },
   "source": [
    "- La dimensión de $\\Hil$ está relacionada con el número de grados de libertad del sistema.\n",
    "\n",
    "- La *fase global* del vector de estado no contiene información: dos vectores que difieran en una fase global representan al mismo estado ningún experimento permite distinguirlos\n",
    "<br>\n",
    "$$\n",
    "\\ket{\\psi} \\sim \\ket{\\psi'} =  e^{i\\varphi}\\ket{\\psi} \\, ,\n",
    "$$\n",
    "<br>\n",
    " \n",
    "\n",
    "- El vector de estado recibe también el nombre de *función de onda*."
   ]
  },
  {
   "cell_type": "markdown",
   "id": "7ed49bec",
   "metadata": {
    "heading_collapsed": true,
    "slideshow": {
     "slide_type": "slide"
    }
   },
   "source": [
    "\n",
    "#### $\\bullet$  II <span style=\"padding-left:5px\">  *Magnitudes medibles*\n",
    "<div class=\"alert alert-block alert-info\">\n",
    "<p style=\"text-align: left ;color: navy;\"> \n",
    "A una magnitud física medible, le está asociado   un operador hermítico $ A= A^\\dagger$ que denominamos observable.\n",
    "</p>\n",
    "</div>\n",
    "    \n"
   ]
  },
  {
   "cell_type": "markdown",
   "id": "1a8c271f",
   "metadata": {
    "hidden": true,
    "slideshow": {
     "slide_type": "slide"
    }
   },
   "source": [
    "#### $\\bullet$  II <span style=\"padding-left:5px\">  *Magnitudes medibles*\n",
    "<div class=\"alert alert-block alert-info\">\n",
    "<p style=\"text-align: left ;color: navy;\"> \n",
    "Los resultados de una medición no pueden dar como resultado nada más que uno de los valores propios de $A \\Rightarrow \\lambda_n$.\n",
    "</p>\n",
    "</div>\n",
    "\n",
    "    \n",
    "Las magnitudes medibles son números reales, de ahí la exigencia de que $A$ deba ser un operador hermítico (ya vimos que los autovalores de estos operadores son siempre reales).\n",
    "\n",
    "***"
   ]
  },
  {
   "cell_type": "markdown",
   "id": "b8f6a92d",
   "metadata": {
    "hidden": true,
    "slideshow": {
     "slide_type": "slide"
    }
   },
   "source": [
    "#### $\\bullet$  IV <span style=\"padding-left:5px\">  *Regla de Born*\n",
    "\n",
    "<div class=\"alert alert-block alert-info\",text-align:center>\n",
    "<p style=\"color: navy;\">   \n",
    "La probabilidad de obtener  el autovalor $\\lambda_n$ como resultado de una cierta medición, viene dada por\n",
    "la expresión\n",
    "<br><br>\n",
    "$$\n",
    "p(\\lambda_n)~ = ~|\\braket{\\lambda_n}{\\psi}|^2\n",
    "$$\n",
    "<br> \n",
    "donde $\\ket{\\lambda_n}$ es el autovector asociado. \n",
    "</p>\n",
    "</div>\n",
    "\n",
    "- La información contenida en $\\ket{\\psi}$ es <b>intrínsecamente probabilística</b>. Los resultados de una medida son inciertos, pero siguen una distribución de probabilidad. \n",
    "    \n",
    "- Esta incertidumbre es una propiedad intrínseca, no un hecho derivado de la inexactitud del aparato. \n",
    " "
   ]
  },
  {
   "cell_type": "markdown",
   "id": "59fbc4d6",
   "metadata": {
    "heading_collapsed": true,
    "slideshow": {
     "slide_type": "slide"
    }
   },
   "source": [
    "#### $\\bullet$  V <span style=\"padding-left:5px\">  *Colapso de la función de  onda*\n",
    "    \n",
    "<div class=\"alert alert-block alert-info\",text-align:center>\n",
    "<p style=\"color: navy;\">   \n",
    " Si el resultado de una medida  ha sido  $\\lambda_n$,\n",
    "el estado del sistema,inmediatamente después de la medida, \n",
    "<br>\n",
    "viene dado por el vector propio  \n",
    "$\\ket{\\lambda_n} \\in \\Hil$, normalizado $|\\braket{\\lambda_n}{\\lambda_n}|=1$\n",
    "<br><br>\n",
    "$$\n",
    "\\ket{\\psi}~\\stackrel{\\lambda_n}{\\Longrightarrow}~ \\ket{\\lambda_n} \n",
    "$$\n",
    "</p>    \n",
    "</div>\n",
    " "
   ]
  },
  {
   "cell_type": "markdown",
   "id": "8b8ee2bb",
   "metadata": {
    "heading_collapsed": true,
    "slideshow": {
     "slide_type": "slide"
    }
   },
   "source": [
    "#### $\\bullet$  VI <span style=\"padding-left:5px\">  *Evolución con el tiempo*\n",
    "<div class=\"alert alert-block alert-info\",text-align:center>\n",
    "<p style=\"color: navy;\">  \n",
    "El cambio  del estado del sistema $\\ket{\\psi(t)}$ es <i>determinista</i> y \n",
    "está gobernado  la <b>Ecuación de Schrödinger</b>\n",
    "<br><br>   \n",
    "$$\n",
    "i\\hbar \\frac{\\partial\\ket{\\psi}}{\\partial t} = H \\ket{\\psi} \\, ,\\label{eqschr}\n",
    "$$\n",
    "<br>\n",
    "donde el Hamiltoniano, $H$, es un operador hermítico que <i>caracteriza</i> el sistema.\n",
    "</p>\n",
    "</div>\n",
    "\n",
    "***"
   ]
  },
  {
   "cell_type": "markdown",
   "id": "e31e0e0b",
   "metadata": {
    "slideshow": {
     "slide_type": "slide"
    }
   },
   "source": [
    "<a id='estadis'></a>\n",
    "<table width=\"100%\">\n",
    "    <td style=\"font-size:25px;font-family:Helvetica;text-align:left;background-color:rgba(12, 43, 337, 0.3);\">\n",
    "<b>Reconstrucción Estadística</b>\n",
    "</table> \n"
   ]
  },
  {
   "cell_type": "markdown",
   "id": "92c5303e",
   "metadata": {
    "slideshow": {
     "slide_type": "slide"
    }
   },
   "source": [
    "En computación cuántica almacenamos la información en los valores numéricos de *los coeficientes* complejos $\\{a_1,a_2,...,a_N\\}$ de la expansión de un estado en *una base* ortonormal\n",
    "<br>\n",
    "\n",
    "$$\n",
    "\\ket{\\psi} = \\sum_{i=1}^N a_i \\ket{e_i}\n",
    "$$\n",
    "\n",
    "<br>\n",
    "\n",
    "Existen infinitas bases posibles para expresar un vector. ¿Qué base es la mejor?"
   ]
  },
  {
   "cell_type": "markdown",
   "id": "9dd0a1de",
   "metadata": {
    "slideshow": {
     "slide_type": "slide"
    }
   },
   "source": [
    "La respuesta es que esto depende del aparato de medida del que dispongamos. Una medida está asociado a un operador observable $A = A^\\dagger$.  Cuando efectuamos medidas, según el axioma II, el resultado de nuestra medición sólo puede ser uno de los *valores propios* $\\lambda_i,{i=1,...,N}$ de $A$\n",
    "\n",
    "$$\n",
    "A \\ket{\\lambda_i} = \\lambda_i \\ket{\\lambda_i}\\, \n",
    "$$\n",
    "<br>\n",
    "donde $\\ket{\\lambda_i}$ son los autovectores, que forman una base ortonormal. "
   ]
  },
  {
   "cell_type": "markdown",
   "id": "abcd8b57",
   "metadata": {
    "slideshow": {
     "slide_type": "slide"
    }
   },
   "source": [
    "Por ejemplo, supongamos que el resultado ha dado $\\lambda_3$. Entonces, el axioma IV afirma que el estado inmediatamente después ya no es $\\ket{\\psi}$ sino que ha colapsado a  $\\ket{\\lambda_3}$\n",
    "\n",
    "<br>\n",
    "\n",
    "$$\n",
    "A: \\ket{\\psi} ~\\stackrel{\\lambda_3}{\\longrightarrow} \\ket{\\lambda_3}\n",
    "$$"
   ]
  },
  {
   "cell_type": "markdown",
   "id": "f41f372a",
   "metadata": {
    "slideshow": {
     "slide_type": "slide"
    }
   },
   "source": [
    "Para conocer con qué probabilidad se producirá este resultado la base adecuada para expresar $\\ket{\\psi}$ \n",
    "es la base de autoestados de $A$\n",
    "\n",
    "$$\n",
    "\\ket{\\psi} = \\sum_{i=1}^N a_i \\ket{\\lambda_i}\n",
    "$$\n",
    " \n",
    "\n",
    "La una única posibilidad de tener acceso a los números $a_i$  es mediante la estadística. Su interpretación tiene que ver con la probabilidad de aparezca uno de los resultados posibles. "
   ]
  },
  {
   "cell_type": "markdown",
   "id": "e14f9486",
   "metadata": {
    "slideshow": {
     "slide_type": "slide"
    }
   },
   "source": [
    "Para el caso anterior, si repitiésemos la medida un número $n$ de veces con $n\\to \\infty$, y contásemos la frecuencia de aparición de los distintos $\\lambda_i$, esto es \n",
    "\n",
    "<br>\n",
    "$$\n",
    "f_n(\\lambda_i) = \\frac{n(\\lambda_i)}{n}\\, .\n",
    "$$\n",
    "<br>"
   ]
  },
  {
   "cell_type": "markdown",
   "id": "15b2973c",
   "metadata": {
    "slideshow": {
     "slide_type": "slide"
    }
   },
   "source": [
    "En el límite $n\\to \\infty$ dicha frecuencia convergería a la probabilidad que, según el Axioma III viene dada por  \n",
    "\n",
    "<br>\n",
    "\n",
    "$$\n",
    " f_\\infty(\\lambda_i) =  p(\\lambda_i) = |\\braket{\\lambda_i}{\\psi}|^2 = |a_i|^2   \\, .\n",
    "$$\n",
    "\n",
    "<br>\n",
    "\n",
    "Vemos que, de una forma estadística, recuperaríamos solamente el módulo de las amplitudes \n",
    "\n",
    "<br>\n",
    "\n",
    "$$\n",
    "|a_i| = \\sqrt{p(\\lambda_i)} = \\lim_{n\\to\\infty} \\sqrt{f_n(\\lambda_i)}\n",
    "$$ \n",
    "\n",
    "<br>\n",
    "\n",
    "y las fases serían irrelevantes, como ya se dijo anteriormente."
   ]
  },
  {
   "cell_type": "markdown",
   "id": "f7fb76af",
   "metadata": {
    "slideshow": {
     "slide_type": "slide"
    }
   },
   "source": [
    "## Valores medios"
   ]
  },
  {
   "cell_type": "markdown",
   "id": "bf6de79e",
   "metadata": {},
   "source": [
    "Cada vez que realizamos  una medida  asociada al operador $A$ sobre un sistema preparado en el estado $\\ket{\\psi}$,\n",
    "obtenemos un autovalor $\\lambda_n$ con una probabilidad $p(\\lambda_n) = |\\braket{\\lambda_n}{\\psi}|^2$. Este proceso genera una variable aleatoria $\\{\\lambda_n\\}$ que depende de $A$ y de $\\ket{\\psi}$.\n",
    "\n",
    "Por tanto, la repetición del experimento permite reconstruir estimadores estadísticos. En particular, por el *valor esperado* del operador $A$ en el estado $\\ket{\\psi}$ entendemos el *valor medio* de la variable aleatoria $\\lambda_n$ obtenida por el método descrito. Por ejemplo, el valor medio $\\langle A\\rangle$ y la desviación cuadrática serán\n",
    "\n",
    "$$\n",
    "\\langle A\\rangle \\equiv \\bar \\lambda_n  = \\sum_n \\lambda_n p(\\lambda_n)~~~~~~,~~~~~~\n",
    "~~\\sigma ^2 = \\sum_n (\\lambda_n-\\bar\\lambda_n)^2 p(\\lambda_n)\n",
    "$$\n"
   ]
  },
  {
   "cell_type": "markdown",
   "id": "5439e0a7",
   "metadata": {
    "slideshow": {
     "slide_type": "slide"
    }
   },
   "source": [
    "\n",
    "- <b>Valor esperado </b>  \n",
    "$$\\fbox{$\\langle A \\rangle=\\bra{\\psi}A \\ket{\\psi}$} $$\n",
    "<br>\n",
    "\n",
    "<div class=\"alert alert-block alert-success\">\n",
    "<b>Ejercicio:</b>\n",
    "Intenta demostrar este resultado. \n",
    "\n",
    "<br>\n",
    "<details>\n",
    "<summary><p style=\"color:grey;text-align:right\"> >> Solución </p></summary>\n",
    "Vamos a expresar $\\langle A\\rangle$ usando el producto escalar en el espacio de Hilbert\n",
    "$$\n",
    "\\begin{array}{rcl}\n",
    "\\langle A \\rangle &\\equiv & \\sum_{n} \\lambda_n p(\\lambda_n) =  \\sum_{n} \\lambda_n |\\braket{\\lambda_n}{\\psi}|^2\\\\\n",
    "&&\\\\\n",
    "&=&      \\sum_{n} \\lambda_n \\braket{\\lambda_n}{\\psi}^*\\braket{\\lambda_n}{\\psi}~= ~   \\sum_{n} \\lambda_n \\braket{\\psi}{\\lambda_n}\\braket{\\lambda_n}{\\psi} \\\\\n",
    "& = & \\bra{\\psi}\\left( \\displaystyle \\sum_n \\lambda_n \\ket{\\lambda_n}\\bra{\\lambda_n}\\right) \\ket{\\psi} \\, \\\\\n",
    "&=& \\bra{\\psi}A\\ket{\\psi} \\, .\n",
    "\\end{array}\n",
    "$$\n",
    "</details>\n",
    "</div>\n",
    "\n"
   ]
  },
  {
   "cell_type": "markdown",
   "id": "c10c7a6d",
   "metadata": {},
   "source": [
    "- <b>Varianza</b>    \n",
    "$$\\fbox{$\\sigma = \\sqrt{\\bra{\\psi}A^2\\ket{\\psi} - \\bra{\\psi} A\\ket{\\psi}^2}$}\n",
    "$$\n",
    "<br>\n",
    "\n",
    "<div class=\"alert alert-block alert-success\">\n",
    "<b>Ejercicio:</b>\n",
    "Intenta demostrar este resultado. \n",
    "\n",
    "<br>\n",
    "<details>\n",
    "<summary><p style=\"color:grey;text-align:right\"> >> Solución </p></summary>\n",
    "La varianza,  es el valor medio de la desviación cuadrática \n",
    "\n",
    "\\begin{array}{rcl}\n",
    "\\sigma^2 &=& \\langle \\big(A - \\langle A\\rangle\\big)^2 \\rangle ~=~\\langle A^2 \\rangle - 2\\langle A\\rangle\\langle A\\rangle +\\langle A\\rangle^2  ~=~  \\langle A^2 \\rangle - \\langle A\\rangle^2  \\\\ \\rule{0mm}{8mm}\n",
    "&=& \\bra{\\psi}A^2\\ket{\\psi} - \\bra{\\psi} A\\ket{\\psi}^2\n",
    "\\end{array}\n",
    "\n",
    "</details>\n",
    "</div>"
   ]
  },
  {
   "cell_type": "code",
   "execution_count": null,
   "id": "80797ae9",
   "metadata": {},
   "outputs": [],
   "source": []
  }
 ],
 "metadata": {
  "kernelspec": {
   "display_name": "Python 3",
   "language": "python",
   "name": "python3"
  },
  "language_info": {
   "codemirror_mode": {
    "name": "ipython",
    "version": 3
   },
   "file_extension": ".py",
   "mimetype": "text/x-python",
   "name": "python",
   "nbconvert_exporter": "python",
   "pygments_lexer": "ipython3",
   "version": "3.7.10"
  },
  "varInspector": {
   "cols": {
    "lenName": 16,
    "lenType": 16,
    "lenVar": 40
   },
   "kernels_config": {
    "python": {
     "delete_cmd_postfix": "",
     "delete_cmd_prefix": "del ",
     "library": "var_list.py",
     "varRefreshCmd": "print(var_dic_list())"
    },
    "r": {
     "delete_cmd_postfix": ") ",
     "delete_cmd_prefix": "rm(",
     "library": "var_list.r",
     "varRefreshCmd": "cat(var_dic_list()) "
    }
   },
   "types_to_exclude": [
    "module",
    "function",
    "builtin_function_or_method",
    "instance",
    "_Feature"
   ],
   "window_display": false
  }
 },
 "nbformat": 4,
 "nbformat_minor": 5
}
