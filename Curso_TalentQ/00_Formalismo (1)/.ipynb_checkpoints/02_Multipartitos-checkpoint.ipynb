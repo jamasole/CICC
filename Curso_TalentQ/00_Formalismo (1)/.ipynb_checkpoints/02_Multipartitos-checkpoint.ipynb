{
 "cells": [
  {
   "cell_type": "markdown",
   "metadata": {
    "slideshow": {
     "slide_type": "slide"
    }
   },
   "source": [
    "<img   src=\"../figuras/logo/TalentQ_LogoPosNegro.png\" align=center  width=\"120\"/>\n",
    "<br>\n",
    "\n",
    "<table width=\"100%\">\n",
    "<td style=\"font-size:50px;font-style:italic;text-align:right;background-color:rgba(0, 160, 120,0.6)\">\n",
    "Sistemas multipartitos \n",
    "</td></table>\n",
    "$ \\newcommand{\\bra}[1]{\\langle #1|} $\n",
    "$ \\newcommand{\\ket}[1]{|#1\\rangle} $\n",
    "$ \\newcommand{\\braket}[2]{\\langle #1|#2\\rangle} $\n",
    "$ \\newcommand{\\i}{{\\color{blue} i}} $ \n",
    "$ \\newcommand{\\Hil}{{\\mathbb H}}$"
   ]
  },
  {
   "cell_type": "markdown",
   "metadata": {
    "slideshow": {
     "slide_type": "-"
    }
   },
   "source": [
    "-[Producto Tensorial](#prodtens) \n",
    "\n",
    "-[Entrelazamiento](#entangle) \n",
    "\n",
    "-[Sistemas Multipartitos](#multipartite) \n",
    "\n",
    "-[Operadores sobre $H^{\\otimes n}$](#operators) "
   ]
  },
  {
   "cell_type": "code",
   "execution_count": 5,
   "metadata": {
    "slideshow": {
     "slide_type": "skip"
    }
   },
   "outputs": [],
   "source": [
    "'Correr esta celda para incluir funciones predefinidas'\n",
    "%run ../macro_CURSO.py"
   ]
  },
  {
   "cell_type": "markdown",
   "metadata": {
    "slideshow": {
     "slide_type": "slide"
    }
   },
   "source": [
    "<a id='protdens'></a>\n",
    "<table width=\"100%\">\n",
    "    <td style=\"font-size:30px;font-family:Helvetica;text-align:left;background-color:rgba(102, 103, 237, 0.3);\">\n",
    "<b>Producto Tensorial</b>\n",
    "</table>  "
   ]
  },
  {
   "cell_type": "markdown",
   "metadata": {
    "slideshow": {
     "slide_type": "-"
    }
   },
   "source": [
    "Un computador clásico es capaz de tratar grandes cantidades de bits a base de acumular dispositivos de un solo bit. Cuánticamente consideraríamos una colección de sistemas que implementen un cúbit. Por supuesto, esa colección debe admitir superposiciones cuánticas de los estados de cada subsistema. La herramienta matemática para describir un sistema compuesto así es el *producto tensorial* de espacios de Hilbert "
   ]
  },
  {
   "cell_type": "markdown",
   "metadata": {
    "slideshow": {
     "slide_type": "-"
    }
   },
   "source": [
    "A partir  dos espacios de Hilbert, ${\\mathbb H}_{1}$ y ${\\mathbb H}_2$, de dimensiones $d_1$ y $d_2$ respectivamente, podemos formar un nuevo espacio de Hilbert de dimensión $d_1\\, d_2$, denominado *Espacio Producto Tensorial* \n",
    "\n",
    "$$\n",
    "\\Hil = \\Hil_1 \\otimes \\Hil_2 \\, .\n",
    "$$\n",
    "<br>"
   ]
  },
  {
   "cell_type": "markdown",
   "metadata": {
    "slideshow": {
     "slide_type": "-"
    }
   },
   "source": [
    "**Definición:** Dados dos vectores $\\ket{u}_1\\in \\Hil_1$ y  $\\ket{v}_2\\in \\Hil_2$, denominamos *producto tensorial* al *par ordenado* \n",
    "\n",
    "<br>\n",
    "\n",
    "$$\n",
    "\\ket{uv} ~\\equiv \\ket{u}_1\\otimes \\ket{v}_2~\\in ~\\Hil\n",
    "$$\n",
    "\n",
    "<br>\n",
    "\n",
    "Sin embargo, y esto es **muy importante**, éste *no es el vector más general* de $\\Hil$.\n"
   ]
  },
  {
   "cell_type": "markdown",
   "metadata": {
    "slideshow": {
     "slide_type": "slide"
    }
   },
   "source": [
    "\n",
    "<div class=\"alert alert-block alert-info\",text-align:center>\n",
    "<p style=\"text-align: center ;color: navy;\">  \n",
    "    El  espacio vectorial  $\\Hil = \\Hil_1 \\otimes \\Hil_2$ está formado por  <i>todas las combinaciones lineales</i> posibles de  los posibles <i>productos tensoriales</i>  de la forma \n",
    "<br>\n",
    "<br>\n",
    "<br>   \n",
    "$$\n",
    "\\ket{s}= a\\ket{u}_1\\otimes\\ket{u}_2 ~+~ b \\ket{v}_1\\otimes\\ket{v}_2 ~+ ~...\n",
    "$$\n",
    "<br>   \n",
    "<br>    \n",
    "donde  $\\ket{u}_1,\\ket{v}_1,...\\in \\Hil_1\\, ~$ y $~\\, \\ket{u}_2,\\ket{v}_2,...\\in \\Hil_2~$,\n",
    "    y $~a,b,... \\in {\\mathbb C}$ son coeficientes complejos.\n",
    "<br> \n",
    "</div>"
   ]
  },
  {
   "cell_type": "markdown",
   "metadata": {},
   "source": [
    "<div class=\"alert alert-block alert-danger\">\n",
    "En el resto de esta lección nos restringiremos al caso de $\\Hil_1 = Hil_2$ y, por tanto, $d_1 = d_2 \\equiv N$. Prescindiremos del subíndice $\\ket{u}_1\\otimes \\ket{y}_2=\\ket{u}\\otimes \\ket{y} \\equiv \\ket{uy}$ que estará implícito en el orden. \n",
    "    \n",
    "Para computación cuántica con cúbits (cúdits), el valor relevante es $N=2\\,(N\\geq 3)$. \n",
    "<div>"
   ]
  },
  {
   "cell_type": "markdown",
   "metadata": {
    "slideshow": {
     "slide_type": "slide"
    }
   },
   "source": [
    "### Producto de Kronecker"
   ]
  },
  {
   "cell_type": "markdown",
   "metadata": {},
   "source": [
    "Cualquier vector, admitirá en una base una representación como un vector columna con sus coeficientes como entradas. \n",
    "\n",
    "\n",
    "La matriz columna asociada $\\ket{uv}= \\ket{u}\\otimes \\ket{v}$ se forma a partir de las matrices columna de $\\ket{u}$ y $\\ket{v}$ mediante el denominado *producto de Kronecker* o, también *producto tensorial*. \n",
    "\n",
    "$$\n",
    " \\ket{uv} = \\ket{u}\\otimes \\ket{v} ~\\sim~ \n",
    "\\begin{pmatrix}u_1\\\\ u_2 \\end{pmatrix}\\otimes \\begin{pmatrix}v_1\\\\ v_2 \\end{pmatrix} ~\\equiv ~\n",
    "\\begin{pmatrix}u_1 \\begin{pmatrix}v_1\\\\ v_2 \\end{pmatrix} \\\\ u_2 \\begin{pmatrix}v_1\\\\ v_2 \\end{pmatrix}  \\end{pmatrix}\n",
    "~=~\\begin{pmatrix}u_1v_1\\\\ u_1v_2 \\\\ v_2 u_1 \\\\ u_2 v_2  \\end{pmatrix}\n",
    "$$\n",
    "\n",
    "\n"
   ]
  },
  {
   "cell_type": "code",
   "execution_count": 1,
   "metadata": {
    "slideshow": {
     "slide_type": "slide"
    }
   },
   "outputs": [
    {
     "ename": "NameError",
     "evalue": "name 'DisplayMatrix' is not defined",
     "output_type": "error",
     "traceback": [
      "\u001b[0;31m---------------------------------------------------------------------------\u001b[0m",
      "\u001b[0;31mNameError\u001b[0m                                 Traceback (most recent call last)",
      "Input \u001b[0;32mIn [1]\u001b[0m, in \u001b[0;36m<cell line: 20>\u001b[0;34m()\u001b[0m\n\u001b[1;32m     17\u001b[0m     \u001b[38;5;28;01mreturn\u001b[39;00m uv\u001b[38;5;241m.\u001b[39mreshape((\u001b[38;5;28mlen\u001b[39m(uv),\u001b[38;5;241m1\u001b[39m))\n\u001b[1;32m     19\u001b[0m ketuv \u001b[38;5;241m=\u001b[39m kronecker_ket(ketu,ketv)\n\u001b[0;32m---> 20\u001b[0m \u001b[43mDisplayMatrix\u001b[49m(ketuv)\n",
      "\u001b[0;31mNameError\u001b[0m: name 'DisplayMatrix' is not defined"
     ]
    }
   ],
   "source": [
    "import numpy as np\n",
    "from IPython.display import display,Markdown,Latex\n",
    "import matplotlib.pyplot as plt\n",
    "\n",
    "# |u> y |v>\n",
    "ketu = np.array([[1],[2],[-3]])\n",
    "ketv = np.array([[-2],[3]])\n",
    "\n",
    "# |uv>\n",
    "def kronecker_ket(ketu,ketv):\n",
    "    u=ketu.flatten() \n",
    "    v=ketv.flatten()\n",
    "    uv=np.array([])\n",
    "    for i in range(len(u)):  \n",
    "        for j in range(len(v)):  \n",
    "            uv=np.append(uv,[u[i]*v[j]])\n",
    "    return uv.reshape((len(uv),1))\n",
    "\n",
    "ketuv = kronecker_ket(ketu,ketv)\n",
    "DisplayMatrix(ketuv)"
   ]
  },
  {
   "cell_type": "markdown",
   "metadata": {
    "slideshow": {
     "slide_type": "slide"
    }
   },
   "source": [
    "### Propiedades"
   ]
  },
  {
   "cell_type": "markdown",
   "metadata": {},
   "source": [
    "- Como $\\Hil_1$ y $\\Hil_2$ son espacios vectoriales, tienen definida una suma interna. \n",
    "El producto tensorial de una suma se resuelve invocando la *propiedad distributiva* (todos con todos)\n",
    "<br>\n",
    "\n",
    "\\begin{eqnarray}\n",
    "\\big(\\ket{u}+\\ket{v}\\big)\\otimes \\big(\\ket{y}+\\ket{z}\\big) ~&\\equiv &~~\n",
    "\\ket{u}\\otimes\\ket{y} ~+~ \\ket{u}\\otimes\\ket{z} ~+~ \\ket{v}\\otimes\\ket{y} ~+~~\n",
    " \\ket{v}\\otimes\\ket{z} \\\\\n",
    " \\rule{0mm}{5mm}\n",
    " &=& \\ket{uy} + \\ket{uz} + \\ket{vy} + \\ket{vz}\n",
    "\\end{eqnarray}\n",
    "\n",
    "<br>"
   ]
  },
  {
   "cell_type": "markdown",
   "metadata": {
    "slideshow": {
     "slide_type": "slide"
    }
   },
   "source": [
    "<div class=\"alert alert-block alert-warning\">\n",
    "    <b>Notar:</b>   \n",
    "<br>\n",
    "    \n",
    "1. usamos indistintamente la notación $\\ket{u}\\otimes\\ket{v} = \\ket{uv}$ cuando no haya confusión. En ambos casos se trata de un bi-vector\n",
    "<br>\n",
    "    \n",
    "2. \n",
    "notar la diferencia que hay con lo que definiría un <b>producto cartesiano</b> $\\times$\n",
    "<br>\n",
    "<br>    \n",
    "$$\n",
    "\\big(\\ket{u}+\\ket{v}\\big)\\times \\big(\\ket{y}+\\ket{z}\\big)  ~\\equiv ~~~\n",
    "\\ket{u}\\otimes\\ket{y}~ + ~\\ket{v}\\otimes\\ket{z} \\hspace{4.7cm}\n",
    "$$\n",
    "<br>    \n",
    "Esta sutil diferencia está en la esencia de la potencia computacional de la Mecánica Cuántica. El espacio producto tensorial $\\Hil{\\otimes }\\Hil$ tiene dimensión $N^2$. El producto cartesiano $\\Hil{\\times }\\Hil$ tiene dimensión $2N$. A partir de $N=3$ la diferencia se dispara exponencialmente.\n",
    "</div>"
   ]
  },
  {
   "cell_type": "markdown",
   "metadata": {
    "slideshow": {
     "slide_type": "slide"
    }
   },
   "source": [
    "### Base"
   ]
  },
  {
   "cell_type": "markdown",
   "metadata": {},
   "source": [
    "- Sea $\\ket{e_i}$ una base de $\\Hil$. Entonces, una base de $\\Hil\\otimes \\Hil=\\Hil^{\\otimes 2}$ se obtiene\n",
    "a partir de *todos* los emparejamientos \n",
    "<br>\n",
    "<br>\n",
    "$$\n",
    "\\ket{e_{ij}} = \\ket{e_i}\\otimes \\ket{e_j}~~~~~~~~~~~~~~~~~~ i,j=1....N\n",
    "$$\n",
    "\n",
    "<br>\n",
    "\n",
    "\n",
    " El número parejas posibles es $N^2$, que coincide con la dimensión de $\\Hil^{\\otimes 2}$.\n",
    " \n",
    " "
   ]
  },
  {
   "cell_type": "markdown",
   "metadata": {
    "slideshow": {
     "slide_type": "slide"
    }
   },
   "source": [
    "- Por ejemplo con $N=2$ tendríamos $N^2 = 4$ elementos de la base\n",
    "\n",
    "\n",
    "<br>\n",
    "\n",
    "$$\n",
    "\\ket{e_{11}}~=~ \\ket{e_{1}}\\otimes \\ket{e_{1}}~ \\sim~\n",
    "\\begin{pmatrix}1\\\\ 0\\end{pmatrix}\\begin{pmatrix}1\\\\ 0\\end{pmatrix} = \\begin{pmatrix}1\\\\0\\\\0 \\\\ 0\\end{pmatrix}\n",
    "~~~~~~,~~~~~\n",
    "\\ket{e_{12}}~=~ \\ket{e_{1}}\\otimes \\ket{e_{2}}~\\sim~\n",
    "\\begin{pmatrix}1\\\\ 0\\end{pmatrix}\\begin{pmatrix}0\\\\ 1\\end{pmatrix} = \\begin{pmatrix}0\\\\1\\\\0 \\\\ 0\\end{pmatrix}\n",
    "$$\n",
    "\n",
    "<br>\n",
    "\n",
    "\n",
    "$$\n",
    "\\ket{e_{21}}~=~ \\ket{e_{2}}\\otimes \\ket{e_{1}}~\\sim~\n",
    " \\begin{pmatrix}0\\\\ 1\\end{pmatrix}\\begin{pmatrix}1\\\\ 0\\end{pmatrix} = \\begin{pmatrix}0\\\\0\\\\1 \\\\ 0\\end{pmatrix}\n",
    " ~~~~~,~~~~\n",
    "\\ket{e_{22}}~=~ \\ket{e_{2}}\\otimes \\ket{e_{2}}~\\sim~\n",
    "\\begin{pmatrix}0\\\\ 1\\end{pmatrix}\\begin{pmatrix}0\\\\ 1\\end{pmatrix} = \\begin{pmatrix}0\\\\0\\\\0 \\\\ 1\\end{pmatrix}\n",
    "$$\n",
    "\n",
    "<br>\n",
    "\n",
    "\n",
    "Vemos que las etiquetas de los vectores y, por tanto, de las componentes de las matrices, no son un índice $k=1,2,3,4$, sino un bi-índice $ij=11,12,21,22$ que adopta el mísmo número, $N^2$, de cofiguraciones distintas. "
   ]
  },
  {
   "cell_type": "markdown",
   "metadata": {
    "slideshow": {
     "slide_type": "slide"
    }
   },
   "source": [
    "Vemos que las componentes de vectores, de dimensión 4, no son etiquetadas con un índice $k=1,2,3,4$, \n",
    "\n",
    "- Siguiendo con $N=2$, como ahora tenemos una base $\\{\\ket{e_{ij}}\\}$, el *vector más general*  $\\ket{w}\\in \\Hil\\otimes\\Hil$ admitirá una representación de la forma\n",
    "\n",
    "<br>\n",
    "\n",
    "$$\n",
    "\\ket{w} ~=~ \\begin{pmatrix}w_{11}\\\\ w_{12}\\\\ w_{21} \\\\ w_{22}  \\end{pmatrix}\n",
    "~=~ w_{11}\\begin{pmatrix}1\\\\0\\\\0 \\\\ 0\\end{pmatrix}+ w_{12}  \\begin{pmatrix}0\\\\1\\\\0 \\\\ 0\\end{pmatrix} + w_{21}\\begin{pmatrix}0\\\\0\\\\1\\\\0\\end{pmatrix}+w_{22}  \\begin{pmatrix}0\\\\0\\\\0\\\\1\\end{pmatrix}   ~ = ~ \\sum_{i,j=1}^N w_{ij} \\ket{e_{ij}} \n",
    "$$\n",
    "\n",
    "<br>"
   ]
  },
  {
   "cell_type": "markdown",
   "metadata": {
    "slideshow": {
     "slide_type": "slide"
    }
   },
   "source": [
    "### Indexación equivalente\n",
    "\n",
    "Podemos etiquetar los elementos de la base anterior usando un mapa entre bi-índices e índices\n",
    "\n",
    "$$\n",
    "\\begin{pmatrix} \\ket{e_{11}} \\\\ \\ket{e_{12}} \\\\ \\ket{e_{21}} \\\\ \\ket{e_{22}} \\end{pmatrix} ~~~\\longleftrightarrow ~~~\\begin{pmatrix} \\ket{e_1} \\\\ \\ket{e_2} \\\\ \\ket{e_3} \\\\ \\ket{e_4} \\end{pmatrix}\n",
    "$$\n",
    "\n",
    "donde hemos querido resaltar que los vectores son los mismos, etiquetados de forma diferente. "
   ]
  },
  {
   "cell_type": "markdown",
   "metadata": {
    "slideshow": {
     "slide_type": "slide"
    }
   },
   "source": [
    "<a id='entangle'></a>\n",
    "<table width=\"100%\">\n",
    "    <td style=\"font-size:30px;font-family:Helvetica;text-align:left;background-color:rgba(102, 103, 237, 0.3);\">\n",
    "<b>Entrelazamiento</b>\n",
    "</table>  "
   ]
  },
  {
   "cell_type": "markdown",
   "metadata": {},
   "source": [
    "Llegamos a uno de los conceptos *clave* en Teoría Cuántica de la Información. \n",
    "\n",
    "\n",
    "<div class=\"alert alert-block alert-info\",text-align:center>\n",
    "<p style=\"text-align: center ;color: navy;\">  \n",
    "Decimos que, un vector $\\ket{w}\\in \\Hil\\otimes\\Hil$ es <b>factorizable</b> cuando es posible encontrar vectores $\\ket{u},\\ket{v}\\in \\Hil$ tales que $ \\ket{w} = \\ket{u}\\otimes\\ket{v}$.\n",
    "<br>\n",
    "<br>\n",
    "Cuando esto no sea posible, decimos que  $\\ket{w}$ es un vector <b>entrelazado</b>.\n",
    "<br>\n",
    " </div>\n"
   ]
  },
  {
   "cell_type": "markdown",
   "metadata": {},
   "source": [
    "Ya hemos visto que, dada una base $\\ket{e_i}$ de $\\Hil$ el vector más general que pertenece al espacio producto admite una descomposición \n",
    "\n",
    "$$\n",
    "\\ket{w} = \\sum_{i,j=1}^N w_{ij}\\ket{e_{i}}\\otimes \\ket{e_j} = w_{11}\\ket{e_1}\\otimes\\ket{e_1} + w_{12}\\ket{e_1}\\otimes\\ket{e_2} + ...\\, .\n",
    "$$\n",
    "\n",
    "<br>"
   ]
  },
  {
   "cell_type": "markdown",
   "metadata": {
    "slideshow": {
     "slide_type": "slide"
    }
   },
   "source": [
    "Discernir si un vector escrito así es factorizable o entrelazado no es algo que se pueda hacer a primera vista. \n",
    "En ese sentido vamos a poner dos resultados que son útiles.\n",
    "\n",
    "\n",
    "\n",
    "**1-** Si los coeficientes $w_{ij}$ son productos de la forma $w_{ij} = u_i v_j$ con $i,j=1,...,N$ entonces el estado es $\\ket{w}$ es factorizable. \n",
    "\n",
    "<br>"
   ]
  },
  {
   "cell_type": "markdown",
   "metadata": {
    "slideshow": {
     "slide_type": "skip"
    }
   },
   "source": [
    "<details>\n",
    "<summary><p style=\"color:blue\"> >> Demostración </p></summary>\n",
    "    \n",
    "Efectivamente\n",
    "\n",
    "$$\n",
    "\\ket{w}= \\sum_{i,j=1}^N w_{ij} \\ket{e_{ij}}  = \\sum_{i,j} u_{i}v_j \\ket{e_i}\\otimes \\ket{e_j}= \\sum_{i,j} u_{i} \\ket{e_i}\\otimes v_j\\ket{e_j}  ~ =~ \\sum_i u_i\\ket{e_i} \\otimes \\sum_j v_j\\ket{e_j} ~=~   \\ket{u}\\otimes \\ket{v}\n",
    "$$\n",
    "    \n",
    "Como función de $N$, en $w_{ij}$ hay $N^2$ números complejos independientes (grados de libertad). Sin embaro en $u_i v_j$ sólo hay $2N$ números independientes. Es evidente que $N^2>2N$.\n",
    "\n",
    " En conclusión: el carácter entrelazado de un vector es *genérico*, mientras que el de ser factorizable es *accidental*.\n",
    "</details>\n",
    "\n",
    "<br>"
   ]
  },
  {
   "cell_type": "markdown",
   "metadata": {
    "slideshow": {
     "slide_type": "-"
    }
   },
   "source": [
    "<div class=\"alert alert-block alert-warning\">\n",
    "    <b>Notar:</b>    \n",
    "en el caso  $N=2$ es decir, se trata de cúbits,  la condición $w_{ij} = u_i v_j$ es equivalente a verificar\n",
    "    la anulación del  determinante siguiente\n",
    "\n",
    "<br>\n",
    "    \n",
    "$$\\det w_{ij} =  w_{11}w_{22}- w_{12}w_{21} = u_1v_1u_2v_2-u_1v_2u_2v_1=0$$  \n",
    "</div>"
   ]
  },
  {
   "cell_type": "markdown",
   "metadata": {
    "slideshow": {
     "slide_type": "slide"
    }
   },
   "source": [
    "**2-**  Los valores de las *componentes* $w_{ij}$ dependen de la base escogida. En *otra* base $\\ket{\\tilde e_{i}}$ encontraremos *otras* componentes $\\tilde w_{ij}$ para el *mismo* vector \n",
    "<br>\n",
    "    \n",
    "$$\n",
    "\\ket{w} = \\sum_{i,j=1}^N \\tilde w_{ij}\\ket{\\tilde e_{i}}\\otimes\\ket{\\tilde e_j}\n",
    "$$\n",
    "<br>\n",
    "    \n",
    "Si existe una base en la que $\\tilde w_{ij}=0$ para todos los $i,j>1$ menos para uno, entonces \n",
    "$\\ket{w}= \\tilde w_{11}\\ket{\\tilde e_1}\\otimes \\ket{e_1}$ sería factorizable. El siguiente teorema nos dice cuánto nos podemos acercar a esta situación"
   ]
  },
  {
   "cell_type": "markdown",
   "metadata": {
    "slideshow": {
     "slide_type": "slide"
    }
   },
   "source": [
    "<table width=\"100%\"><td style=\"font-size:15px;font-style:italic;text-align:center;\">\n",
    "<br>\n",
    "<b>Teorema de Schmidt</b>:\n",
    "dado un vector $\\ket{w}\\in \\Hil\\otimes \\Hil$, siempre es posible encontrar una base $\\ket{f_i}$ de $\\Hil$ tal que\n",
    "<br>\n",
    "    \n",
    "$$\n",
    "\\ket{w} = \\sum_{i=1}^p s_i \\ket{f_i}\\otimes\\ket{f_i} \\, .\n",
    "$$\n",
    "\n",
    "<br>\n",
    "es decir, la expansión $\\ket{w}$ involucra el mínimo número de sumandos diagonales\n",
    "<br>    \n",
    "<br>\n",
    "    \n",
    "</td></table>"
   ]
  },
  {
   "cell_type": "markdown",
   "metadata": {},
   "source": [
    "<div class=\"alert alert-block alert-warning\">\n",
    "    <b>Notar:</b>    \n",
    "    el número $p\\leq N$ se denomina <b>Número de Schmidt</b> y  es la información relevante  porque cuando $p=1$ el estado $\\ket{w}$ será factorizable. En caso contrario, si $p\\geq 2$ el estado será entrelazado.\n",
    "<br>\n",
    "\n",
    "</div>"
   ]
  },
  {
   "cell_type": "markdown",
   "metadata": {
    "slideshow": {
     "slide_type": "slide"
    }
   },
   "source": [
    "<a id='multipartite'></a>\n",
    "<table width=\"100%\">\n",
    "    <td style=\"font-size:30px;font-family:Helvetica;text-align:left;background-color:rgba(102, 103, 237, 0.3);\">\n",
    "<b>Sistemas Multipartitos</b>\n",
    "</table>  "
   ]
  },
  {
   "cell_type": "markdown",
   "metadata": {},
   "source": [
    "El producto tensorial se puede generalizar a más de un factor. De este modo obtenemos el espacio $ \\Hil_1\\otimes \\Hil_2 ... \\otimes \\Hil_n$ formado por todas las *cadenas* ordenadas de vectores $\\ket{u} = \\ket{u_1u_2...u_n} \\equiv\\ket{u_1}\\otimes\\ket{u_2}\\otimes ...\\otimes \\ket{u_n}$ donde $\\ket{u_i}\\in \\Hil_i$ *y sus combinaciones lineales* \n",
    "\n",
    "En adelante asumiremos que todos los $\\Hil_j=\\Hil$ son iguales y de dimension $N$."
   ]
  },
  {
   "cell_type": "markdown",
   "metadata": {},
   "source": [
    "### Base\n",
    "\n",
    "Una base de $\\Hil^{\\otimes n}$ se obtiene a partir de cadenas $\\ket{i_1 i_2.... i_n} = \n",
    "\\ket{i_1}\\ket{i_2}  ... \\ket{i_n}$ donde $i_1,..,i_n=1,...,N$. El número de posibles cadenas es $N\\, N\\, ... \\, N = N^n$ que  no es otro que la dimensión de $\\Hil^{\\otimes n}$."
   ]
  },
  {
   "cell_type": "markdown",
   "metadata": {
    "slideshow": {
     "slide_type": "slide"
    }
   },
   "source": [
    "Un *vector general* admitirá una expansión en esta base mediante $2^n$ coeficientes complejos\n",
    "$u_{i_1 i_2...i_n}$ en la forma\n",
    "\n",
    "$$\n",
    "\\fbox{$\n",
    "\\ket{u} = \\sum_{i_1,...,i_n=1}^N u_{i_1i_2...i_n} \\ket{i_1i_2...i_n}\\, .\n",
    "$}\n",
    "$$\n",
    "<br>"
   ]
  },
  {
   "cell_type": "markdown",
   "metadata": {
    "slideshow": {
     "slide_type": "slide"
    }
   },
   "source": [
    "### Entrelazamiento\n",
    "\n",
    "Al igual que antes, en casos muy particulares, un vector de $\\Hil^{\\otimes n}$ se podra escribir en forma factorizada\n",
    "\n",
    "$$\n",
    "\\ket{w} = \\ket{v_1}\\ket{v_2}\\ldots\\ket{v_n} \\equiv \\ket{v_1 v_2 \\ldots v_n}\n",
    "$$\n",
    "\n",
    "Escribiendo $\\ket{v_k} = \\sum_{i_k=1}^N a_{i_k}\\ket{i_k}$ vemos que un *vector factorizable* admite una expansión general en la que los coeficientes \n",
    "\n",
    "$$\n",
    "u_{i_1i_2...i_n}  = a_{i_1} a_{i_2}.... a_{i_n}\n",
    "$$\n",
    "\n",
    "están parametrizados por $nN$ cantidades $a_{i_k}, \\, i_k=1,...,N, \\, k=1,...,n$."
   ]
  },
  {
   "cell_type": "markdown",
   "metadata": {},
   "source": [
    "El conjunto de vectores factorizables es despreciable frente al conjunto de vectores entrelazados. No existe un criterio general para saber si un estado es, a priori, factorizable o entrelazado. Además, hay formas de caracterizar el nivel de entrelazamiento desde nulo (estado factorizable) hasta maximal (contiene todos los estados de la base). "
   ]
  },
  {
   "cell_type": "markdown",
   "metadata": {
    "slideshow": {
     "slide_type": "slide"
    }
   },
   "source": [
    "<a id='operators'></a>\n",
    "<table width=\"100%\">\n",
    "    <td style=\"font-size:30px;font-family:Helvetica;text-align:left;background-color:rgba(102, 103, 237, 0.3);\">\n",
    "<b>Operadores sobre $H^{\\otimes n}$</b>\n",
    "</table>  \n"
   ]
  },
  {
   "cell_type": "markdown",
   "metadata": {},
   "source": [
    "\n",
    "\n",
    "<table width=\"100%\"><td style=\"font-size:15px;font-style:italic;text-align:left;\">\n",
    "   <br> \n",
    "El espacio $\\Hil^{\\otimes n}$ admite, como cualquier espacio vectorial, la acción de *operadores lineales* $A: \\Hil^{\\otimes n} \\to \\Hil^{\\otimes n}$ donde, para cualquier $\\ket{u} \\in \\Hil^{\\otimes n}$\n",
    "\n",
    "$$\n",
    "A:\\ket{u} \\to \\ket{v} \\equiv A\\ket{u}\n",
    "$$    \n",
    "</td></table>\n"
   ]
  },
  {
   "cell_type": "markdown",
   "metadata": {
    "slideshow": {
     "slide_type": "slide"
    }
   },
   "source": [
    "### Matrices\n",
    "\n",
    "A cada operador, $A$, le podemos asociadar una matriz, una vez elijamos nuestra base de $\\Hil^{\\otimes n}$. \n",
    " Recordemos que una base de este espacio viene dada por los $2^n$ elementos $\\{ \\ket{i_1 i_2... i_n}\\}$ donde, $i_a = 1,2$ para el caso de tratar con cúbits. Los elementos de matriz ahora vendrán etiquetados por dos *multi-índices*. \n",
    "\n",
    "<br>\n",
    "<br>\n",
    "$$ \n",
    "A = \\sum_{i_1,...,i_n,\\, j_1,...,j_n} A_{i_1...i_n, \\, j_1...j_n} \\ket{i_1...i_n}\\bra{j_1...j_n}\n",
    "$$\n",
    "<br>\n"
   ]
  },
  {
   "cell_type": "markdown",
   "metadata": {
    "slideshow": {
     "slide_type": "-"
    }
   },
   "source": [
    "- En $A_{i_1...i_n,\\,j_1...j_n}$ hay $2^n\\times 2^n = 2^{2n}$ grados de libertad. Estas serían las componentes del *operador más general* actuando sobre $\\Hil^{\\otimes n}$.\n",
    "<br>\n",
    "\n",
    "- Como veremos a continuación hay una clase de operadores $A$ *más restringidos* que se inducen a partir del producto tensorial de operadores que actúan sobre cada espacio."
   ]
  },
  {
   "cell_type": "markdown",
   "metadata": {
    "slideshow": {
     "slide_type": "slide"
    }
   },
   "source": [
    "### Producto tensorial de operadores"
   ]
  },
  {
   "cell_type": "markdown",
   "metadata": {},
   "source": [
    "El producto tensorial de espacios $\\Hil^{\\otimes n} = \\Hil \\otimes ...\\otimes \\Hil$ conduce de forma natural a la nocion de *producto tensorial de operadores*. Supongamos que tenemos operadores lineales $A^{(a)}\\, ,\\, a=1,...,n$ definidos sobre cada espacio factor $\\Hil$."
   ]
  },
  {
   "cell_type": "markdown",
   "metadata": {
    "slideshow": {
     "slide_type": "slide"
    }
   },
   "source": [
    "<table width=\"100%\"><td style=\"font-size:15px;font-style:italic;text-align:center;\">\n",
    "<br> \n",
    "La acción del operador  $A = A^{(1)}\\otimes A^{(2)} \\otimes ...A^{(n)}$ sobre un vector $\\ket{v} = \\ket{v}_1\\otimes ...\\otimes \\ket{v_n}\\in \\Hil~$   viene dada por \n",
    "<br>\n",
    "<br>\n",
    "$$\n",
    "A\\ket{v} = A^{(1)}\\ket{v_1}\\otimes ... \\otimes A^{(n)} \\ket{v_n}\\, .\n",
    "$$\n",
    "<br>\n",
    "Decimos de $A$  es un operador  factorizable.    \n",
    "</td></table>\n",
    "\n",
    "Importante destacar que, al igual que $A^{(a)}$, el operador $A$ es *lineal*. Con eso la generalización a vectores $\\ket{v}$ entrelazados es inmediata.\n",
    "\n",
    "\n",
    "- El producto tensorial de operadores hermíticos es hermítico\n",
    "\n",
    "$$ A^{\\dagger} = A ~~\\Leftrightarrow ~~A^{(a)\\dagger} = A^{(a)} \\,, \\,  a=1,...,n $$\n",
    "\n",
    "- El producto tensorial de operadores unitarios, es unitario\n",
    "\n",
    "$$ A^{\\dagger} = A^{-1} ~~\\Leftrightarrow ~~A^{(a)\\dagger} = A^{(a)\\, -1} \\,, \\,  a=1,...,n $$\n"
   ]
  },
  {
   "cell_type": "markdown",
   "metadata": {
    "slideshow": {
     "slide_type": "slide"
    }
   },
   "source": [
    "### Producto de Kronecker de matrices"
   ]
  },
  {
   "cell_type": "markdown",
   "metadata": {},
   "source": [
    "En la lección de operadores vimos cómo, dada una base $\\{\\ket{i}\\}$ podemos asociar a cada operador $A^{(a)}$, una matriz $A^{(a)}_{ij}$.\n",
    "\n",
    "$$\n",
    "A^{(a)} = \\sum_{i,j} A^{(a)}_{ij} \\ket{i}\\bra{j}~,~~~~~~~a = 1,...,n\\, .\n",
    "$$\n",
    "\n"
   ]
  },
  {
   "cell_type": "markdown",
   "metadata": {
    "slideshow": {
     "slide_type": "slide"
    }
   },
   "source": [
    "Tomemos caso de que $A$ sea un operador **factorizable**, \n",
    "\n",
    "$$ A = A^{(1)}\\otimes A^{(2)} \\otimes ...A^{(n)}$$\n",
    "\n",
    "las matrices de  $A \\to A_{i_1...i_n, \\, j_1...j_n}$  y de  $A^{(a)} \\to A^{(a)}_{ij}$  están relacionadas.\n",
    "\n",
    "\n",
    "Vamos a tomar  $n=2$ por simplicidad\n",
    "\n",
    "\\begin{eqnarray}\n",
    "A = A^{(1)}\\otimes  A^{(2)} &=&\\left( \\sum_{i_1i_2}A_{i_1 j_1} \\ket{i_1}\\bra{j_1}\\right)\\left( \\sum_{i_2j_2}A_{i_2 j_2} \\ket{i_2}\\bra{j_2}\\right)\\\\\n",
    "&=& \\sum_{i_1 i_2 , j_1 j_2} A_{i_1 j_1}A_{i_1 j_1}\\ket{i_1 i_2}\\bra{j_1j_2} \\\\\n",
    "&=& \\sum_{i_1 i_2 , j_1 j_2} A_{i_1i_2,\\, j_1j_2}\\ket{i_1 i_2}\\bra{j_1j_2}\n",
    "\\end{eqnarray}\n",
    "\n",
    "<br>"
   ]
  },
  {
   "cell_type": "markdown",
   "metadata": {
    "slideshow": {
     "slide_type": "slide"
    }
   },
   "source": [
    "Vemos que la matriz asociada a $A$ se obtiene  a partir de las matrices de $A^{(a)}$ mediante el  *producto exterior de las matrices*, o *producto de Kronecker*.\n",
    "\n",
    "<br>\n",
    "\n",
    "$$\n",
    "\\fbox{$ A_{i_1i_2,\\,j_1j_2} = A^{(1)}_{i_1j_1}A^{(2)}_{i_2 j_2} $}\n",
    "$$\n",
    "\n",
    "<br>\n",
    "\n",
    "Observar que en un operador general, la matriz $ A_{i_1i_2,\\,j_1j_2}$ tiene $2^4=16$ entradas independientes. Sin embargo \n",
    "en un producto de Kronecker $A^{(1)}_{i_1j_1}A^{(2)}_{i_2 j_2}$ sólo hay $2^2+ 2^2 = 8$. Por tanto, los *operadores factorizables* forman un subconjunto muy pequeño dentro del conjunto de los operadores generales.\n",
    "\n",
    "Esta consideración es la paralela a la que hemos realizado al comparar el espacio de vectores factorizables con el de vectores entrelazados."
   ]
  },
  {
   "cell_type": "markdown",
   "metadata": {
    "slideshow": {
     "slide_type": "slide"
    }
   },
   "source": [
    "<hr />\n",
    "\n",
    "- La manera de representar matricialmente el producto de tensorial de dos matrices $A\\otimes B$ se puede ver en la siguiente ecuación\n",
    "\n",
    "<br>\n",
    "\n",
    "$$\n",
    "A\\otimes B = \\begin{pmatrix} A_{00}B & A_{01}B \\\\ A_{10}B & A_{11}B \\end{pmatrix} = \\begin{pmatrix} A_{00}B_{00} & A_{00}B_{01} & A_{01}B_{00} & A_{01}B_{01} \\\\\n",
    "                A_{00}B_{10} & A_{00}B_{11} & A_{01}B_{10} & A_{01}B_{11} \\\\\n",
    "                A_{10}B_{00} & A_{10}B_{01} & A_{11}B_{00} & A_{11}B_{01} \\\\\n",
    "                A_{10}B_{10} & A_{10}B_{11} & A_{11}B_{10} & A_{11}B_{11} \\end{pmatrix}.\n",
    "$$\n",
    "\n",
    "<br>\n",
    "\n",
    "</div>\n",
    "\n",
    "- El producto de Kronecker verifica que es un homomorfismo\n",
    "<br>\n",
    "\n",
    "$$ (A\\otimes B)\\cdot (C\\otimes D)  = A\\cdot C\\otimes B\\cdot D $$ \n",
    "\n",
    "donde hemos denotado  el producto de matrices con un punto, y vemos que, en cada lado involucra matrices diferentes\n",
    "<br>\n",
    "\n",
    "\n"
   ]
  },
  {
   "cell_type": "markdown",
   "metadata": {
    "slideshow": {
     "slide_type": "slide"
    }
   },
   "source": [
    "<hr />\n",
    "\n",
    "La generalización a todo $n$ es obvia. El producto de Kronecker de $n$ matrices $ A^{(a)}_{i_aj_a}$ asociadas a operadores $A^{(a)}$ es\n",
    "\n",
    "<br>\n",
    "\n",
    "$$\n",
    "\\fbox{$ A_{i_1...i_n,\\,j_1...j_n} = A^{(1)}_{i_1j_1}...A^{(n)}_{i_n j_n} $}\n",
    "$$\n",
    "\n",
    "<br>\n",
    "\n",
    "\n",
    "El operador más general no es un producto tensorial. En $A_{i_1...i_n,\\,j_1...j_n}$ hay $2^n\\times 2^n = 2^{2n}$ grados de libertad. Sin embargo en $A^{(1)}_{i_1j_1}...A^{(n)}_{i_n j_n}$ hay $(2^2)\\times n= 4n$. \n"
   ]
  },
  {
   "cell_type": "markdown",
   "metadata": {
    "slideshow": {
     "slide_type": "slide"
    }
   },
   "source": [
    "### Operadores no-factorizables\n",
    "\n",
    "¿Qué ocurre cuando un operador no se puede expresar en forma factorizada? Por simplicidad consideremos un sistema bi-partito $N=2$ y un operador $A$ que sea la suma de dos operadores factorizables\n",
    "\n",
    "<br>\n",
    "\n",
    "$$\n",
    "A = B + C\n",
    "$$\n",
    "\n",
    "<br>\n",
    "\n",
    "donde $B= B^{(1)}\\otimes B^{(2)}$ y $C= C^{(1)}\\otimes C^{(2)}$. \n",
    "Actuando sobre un vector factorizable $\\ket{u}=\\ket{u^{(1)}}\\otimes \\ket{u^{(2)}}$ \n",
    "\n",
    "<br>\n",
    "\n",
    "$$\n",
    "A\\ket{u} = (B+C)\\ket{u}=  B\\ket{u}+C\\ket{u}  = \\ket{b} + \\ket{c}\\, .\n",
    "$$\n",
    "\n",
    "<br>\n",
    "\n",
    "donde $\\ket{b} = B^{(1)}\\ket{u^{(1)}}\\otimes B^{(2)}\\ket{u^{(2)}}$ y $\\ket{c} =C^{(1)}\\ket{u^{(1)}}\\otimes C^{(2)}\\ket{u^{(2)}} $ son, ambos, vectores factorizables."
   ]
  },
  {
   "cell_type": "markdown",
   "metadata": {
    "slideshow": {
     "slide_type": "slide"
    }
   },
   "source": [
    "Vemos que la acción de un operador no factorizable, puede  *generar entrelazamiento*. En el caso anterior, si ambos $\\ket{b}$ y $\\ket{c}$ no son nulos, el vector final será entrelazado. \n",
    "\n",
    "<br>\n",
    "\n",
    "- Si $B$ y $C$ son operadores hermíticos, el operador entrelazado $A = B + C$ es hermítico.\n",
    "\n",
    "<br>\n",
    "\n",
    "- Si $B$ y $C$ son operadores unitarios, el operador entrelazado $A = B + C$ pueder ser, o no unitario. La manera de dilucidar esto es mirando a la matriz $ A_{i_1i_2,\\,j_1j_2}$ que define este operador en una base. Será unitario si\n",
    "\n",
    "$$\n",
    "A^{-1}_{i_1i_2,\\,j_1j_2}  = A^*_{j_1j_2, i_1i_2}\n",
    "$$"
   ]
  },
  {
   "cell_type": "markdown",
   "metadata": {
    "slideshow": {
     "slide_type": "slide"
    }
   },
   "source": [
    "\n",
    "<div class=\"alert alert-block alert-success\">\n",
    "    <b>Ejercicio:</b> \n",
    "    \n",
    "En temas posteriores se estudiará la puerta CNOT. Aquí vamos a estudiar el operador asociado. Considera la base $\\ket{e_0}=\\ket{0},\\ket{e_1}=\\ket{1}$ del espacio $\\Hil$ de dimensión 2. Sea $A= B + C$ un operador que actúa sobre el producto $\\Hil\\otimes \\Hil$,  donde $B$ y $C$ son operadores factorizables dados por\n",
    "\n",
    "<br>\n",
    "    \n",
    "$$\n",
    "B = \\ket{0}\\bra{0}\\otimes I ~~~, ~~~~ \n",
    "C = \\ket{1}\\bra{1}\\otimes (\\ket{0}\\bra{1} + \\ket{1}\\bra{0})\n",
    "$$\n",
    "    \n",
    "    \n",
    "Escribe los elementos $B_{ij}$ y $C_{ij}, i,j=1,2,3,4$  y obtén $A_{ij}$. \n",
    "\n",
    "Comprueba si $C$, $B$ y $A$ son operadores unitarios o no.\n",
    "</div>"
   ]
  }
 ],
 "metadata": {
  "kernelspec": {
   "display_name": "Python 3",
   "language": "python",
   "name": "python3"
  },
  "language_info": {
   "codemirror_mode": {
    "name": "ipython",
    "version": 3
   },
   "file_extension": ".py",
   "mimetype": "text/x-python",
   "name": "python",
   "nbconvert_exporter": "python",
   "pygments_lexer": "ipython3",
   "version": "3.8.5"
  },
  "varInspector": {
   "cols": {
    "lenName": 16,
    "lenType": 16,
    "lenVar": 40
   },
   "kernels_config": {
    "python": {
     "delete_cmd_postfix": "",
     "delete_cmd_prefix": "del ",
     "library": "var_list.py",
     "varRefreshCmd": "print(var_dic_list())"
    },
    "r": {
     "delete_cmd_postfix": ") ",
     "delete_cmd_prefix": "rm(",
     "library": "var_list.r",
     "varRefreshCmd": "cat(var_dic_list()) "
    }
   },
   "types_to_exclude": [
    "module",
    "function",
    "builtin_function_or_method",
    "instance",
    "_Feature"
   ],
   "window_display": false
  }
 },
 "nbformat": 4,
 "nbformat_minor": 5
}
